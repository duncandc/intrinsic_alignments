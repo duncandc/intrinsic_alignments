{
 "cells": [
  {
   "cell_type": "code",
   "execution_count": 1,
   "metadata": {},
   "outputs": [],
   "source": [
    "from __future__ import print_function, division\n",
    "import numpy as np\n",
    "import matplotlib.pyplot as plt\n",
    "%matplotlib inline"
   ]
  },
  {
   "cell_type": "markdown",
   "metadata": {},
   "source": [
    "# Load Halo Catalog"
   ]
  },
  {
   "cell_type": "code",
   "execution_count": 28,
   "metadata": {},
   "outputs": [],
   "source": [
    "from halotools.sim_manager import CachedHaloCatalog\n",
    "halocat = CachedHaloCatalog(simname='bolshoi', halo_finder='rockstar',\n",
    "                            redshift=0.0, dz_tol=0.001, version_name='halotools_v0p4')\n",
    "\n",
    "halocat = CachedHaloCatalog(simname='multidark', halo_finder='rockstar',\n",
    "                            redshift=0.466, dz_tol=0.001, version_name='halotools_v0p4')"
   ]
  },
  {
   "cell_type": "markdown",
   "metadata": {},
   "source": [
    "# Build HOD Model for LOWZ Sample"
   ]
  },
  {
   "cell_type": "code",
   "execution_count": 29,
   "metadata": {},
   "outputs": [],
   "source": [
    "from halotools.empirical_models import HodModelFactory\n",
    "from intrinsic_alignments.ia_models.anisotropic_nfw_phase_space import AnisotropicNFWPhaseSpace\n",
    "from halotools.empirical_models import TrivialPhaseSpace, NFWPhaseSpace\n",
    "from halotools.empirical_models import Zheng07Cens, Zheng07Sats"
   ]
  },
  {
   "cell_type": "code",
   "execution_count": 40,
   "metadata": {},
   "outputs": [],
   "source": [
    "halocat.redshift = 0.0\n",
    "\n",
    "cens_occ_model =  Zheng07Cens()\n",
    "cens_prof_model = TrivialPhaseSpace()\n",
    "sats_occ_model =  Zheng07Sats()\n",
    "sats_prof_model = AnisotropicNFWPhaseSpace()\n",
    "\n",
    "model_instance = HodModelFactory(centrals_occupation = cens_occ_model,\n",
    "                                 centrals_profile = cens_prof_model,\n",
    "                                 satellites_occupation = sats_occ_model,\n",
    "                                 satellites_profile = sats_prof_model,\n",
    "                                 model_feature_calling_sequence = (\n",
    "                                 'centrals_occupation',\n",
    "                                 'centrals_profile',\n",
    "                                 'satellites_occupation',\n",
    "                                 'satellites_profile')\n",
    "                                )"
   ]
  },
  {
   "cell_type": "code",
   "execution_count": 41,
   "metadata": {},
   "outputs": [],
   "source": [
    "# HOD params from Parejko + 2013\n",
    "model_instance.param_dict['alpha']=0.94 \n",
    "model_instance.param_dict['logM0']=1.04*13.25\n",
    "model_instance.param_dict['logM1']=14.18 \n",
    "model_instance.param_dict['logMmin']=13.25\n",
    "model_instance.param_dict['sigma_LogM']=0.70"
   ]
  },
  {
   "cell_type": "code",
   "execution_count": 42,
   "metadata": {},
   "outputs": [
    {
     "name": "stdout",
     "output_type": "stream",
     "text": [
      "number of galaxies:  166240\n"
     ]
    }
   ],
   "source": [
    "model_instance.populate_mock(halocat)\n",
    "print(\"number of galaxies: \", len(model_instance.mock.galaxy_table))"
   ]
  },
  {
   "cell_type": "code",
   "execution_count": 43,
   "metadata": {},
   "outputs": [],
   "source": [
    "mock = model_instance.mock.galaxy_table"
   ]
  },
  {
   "cell_type": "code",
   "execution_count": 44,
   "metadata": {},
   "outputs": [],
   "source": [
    "from halotools.mock_observables import wp"
   ]
  },
  {
   "cell_type": "code",
   "execution_count": 45,
   "metadata": {},
   "outputs": [],
   "source": [
    "rbins = np.logspace(-1,1.4,20)\n",
    "rbin_centers = (rbins[:-1]+rbins[1:])/2.0"
   ]
  },
  {
   "cell_type": "code",
   "execution_count": 46,
   "metadata": {},
   "outputs": [],
   "source": [
    "coords = np.vstack((mock['x'],\n",
    "                    mock['y'],\n",
    "                    mock['z'])).T"
   ]
  },
  {
   "cell_type": "code",
   "execution_count": 47,
   "metadata": {},
   "outputs": [],
   "source": [
    "result = wp(coords, rbins, pi_max=40, period=halocat.Lbox, num_threads=4)"
   ]
  },
  {
   "cell_type": "code",
   "execution_count": 48,
   "metadata": {},
   "outputs": [
    {
     "data": {
      "image/png": "[encoded data removed]",
      "text/plain": [
       "<Figure size 432x288 with 1 Axes>"
      ]
     },
     "metadata": {},
     "output_type": "display_data"
    }
   ],
   "source": [
    "plt.plot(rbin_centers, result)\n",
    "plt.xscale('log')\n",
    "plt.yscale('log')\n",
    "plt.show()"
   ]
  },
  {
   "cell_type": "code",
   "execution_count": 49,
   "metadata": {},
   "outputs": [],
   "source": [
    "r = [0.385, 0.577, 0.865, 1.299, 1.945, 2.921, 4.381, 6.572, 9.858, 14.78, 22.18, 33.27]\n",
    "w = [619.29, 390.51, 242.17, 153.87, 106.83, 84.18, 60.42, 43.19, 30.70, 19.83, 12.66, 7.22]\n",
    "err = [27.20, 18.80, 9.51, 5.60, 4.60, 3.17, 2.30, 1.76, 1.69, 1.36, 0.85, 0.87]"
   ]
  },
  {
   "cell_type": "code",
   "execution_count": 50,
   "metadata": {},
   "outputs": [
    {
     "data": {
      "image/png": "[encoded data removed]",
      "text/plain": [
       "<Figure size 432x288 with 1 Axes>"
      ]
     },
     "metadata": {},
     "output_type": "display_data"
    }
   ],
   "source": [
    "plt.figure()\n",
    "plt.errorbar(r, w, yerr=err, fmt='o')\n",
    "plt.plot(rbin_centers, result)\n",
    "plt.xscale('log')\n",
    "plt.yscale('log')\n",
    "plt.show()"
   ]
  },
  {
   "cell_type": "code",
   "execution_count": null,
   "metadata": {},
   "outputs": [],
   "source": [
    "def project_3d_shape(a3d, b3d, c3d, q3d, s3d):\n",
    "    \"\"\"\n",
    "    This function projects 3D ellipsoidal shapes onto a 2D ellipse and returns\n",
    "    the 2 cartesian components of the ellipticity.\n",
    "\n",
    "\n",
    "    See Piras2017:1707.06559 section 3.1\n",
    "    and Joachimi2013:1203.6833\n",
    "    \"\"\"\n",
    "\n",
    "    s = np.stack([a3d, b3d, c3d])\n",
    "    w = np.stack([np.ones_like(q3d), q3d, s3d])\n",
    "\n",
    "    k = np.sum(s[:,:,0:2]*np.expand_dims(s[:,:,2], axis=-1) / np.expand_dims(w[:,:]**2, axis=-1), axis=0)\n",
    "    a2 =np.sum(s[:,:,2]**2/w[:,:]**2, axis=0)\n",
    "    Winv = np.sum(np.einsum('ijk,ijl->ijkl', s[:,:,0:2], s[:,:,0:2]) /\n",
    "               np.expand_dims(np.expand_dims(w[:,:]**2,-1),-1), axis=0) - np.einsum('ij,ik->ijk', k,k)/np.expand_dims(np.expand_dims(a2,-1),-1)\n",
    "    W = np.linalg.inv(Winv)\n",
    "    d = np.sqrt(np.linalg.det(W))\n",
    "    e1 = (W[:,0,0] - W[:,1,1])/( W[:,0,0] + W[:,1,1] + 2*d)\n",
    "    e2 = 2 * W[:,0,1]/( W[:,0,0] + W[:,1,1] + 2*d)\n",
    "    return e1, e2"
   ]
  }
 ],
 "metadata": {
  "kernelspec": {
   "display_name": "Python 2",
   "language": "python",
   "name": "python2"
  },
  "language_info": {
   "codemirror_mode": {
    "name": "ipython",
    "version": 2
   },
   "file_extension": ".py",
   "mimetype": "text/x-python",
   "name": "python",
   "nbconvert_exporter": "python",
   "pygments_lexer": "ipython2",
   "version": "2.7.14"
  }
 },
 "nbformat": 4,
 "nbformat_minor": 2
}
