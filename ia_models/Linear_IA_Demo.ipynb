{
 "cells": [
  {
   "cell_type": "code",
   "execution_count": 1,
   "metadata": {
    "collapsed": true
   },
   "outputs": [],
   "source": [
    "from __future__ import print_function, division\n",
    "import numpy as np\n",
    "import matplotlib.pyplot as plt\n",
    "%matplotlib inline"
   ]
  },
  {
   "cell_type": "markdown",
   "metadata": {},
   "source": [
    "# (Non)Linear IA Models"
   ]
  },
  {
   "cell_type": "code",
   "execution_count": 2,
   "metadata": {
    "collapsed": true
   },
   "outputs": [],
   "source": [
    "from linear_alingment_models import ii_plus_projected, ii_plus\n",
    "from hrh_model import HRH"
   ]
  },
  {
   "cell_type": "code",
   "execution_count": null,
   "metadata": {},
   "outputs": [],
   "source": [
    "rp = np.logspace(-1,2.2,50)\n",
    "xi = ii_plus_projected(rp, 0.0)\n",
    "\n",
    "hrh = HRH()\n",
    "hrh.ii_plus_projected(rp)\n",
    "\n",
    "plt.plot(rp, xi, '-')\n",
    "plt.plot(rp, hrh.ii_plus_projected(rp), '--')\n",
    "plt.yscale('log')\n",
    "plt.xscale('log')\n",
    "plt.ylim([10**(-6),10**(-2)])\n",
    "plt.xlim([0.1,100])\n",
    "plt.show()"
   ]
  },
  {
   "cell_type": "code",
   "execution_count": 5,
   "metadata": {},
   "outputs": [
    {
     "data": {
      "image/png": "[encoded data removed]",
      "text/plain": [
       "<matplotlib.figure.Figure at 0x1172a7450>"
      ]
     },
     "metadata": {},
     "output_type": "display_data"
    }
   ],
   "source": [
    "from linear_alingment_models import ii_plus_projected, ii_plus, xi_gg\n",
    "\n",
    "r = np.logspace(-1,2.2,100)\n",
    "xi, result = xi_gg(r, 0.0)\n",
    "\n",
    "plt.plot(r, xi, '-')\n",
    "plt.yscale('log')\n",
    "plt.xscale('log')\n",
    "#plt.ylim([10**(-6),10**(-2)])\n",
    "plt.show()"
   ]
  },
  {
   "cell_type": "code",
   "execution_count": 6,
   "metadata": {},
   "outputs": [
    {
     "data": {
      "image/png": "[encoded data removed]",
      "text/plain": [
       "<matplotlib.figure.Figure at 0x1a123552d0>"
      ]
     },
     "metadata": {},
     "output_type": "display_data"
    }
   ],
   "source": [
    "plt.plot(result[0], result[1], '.')\n",
    "plt.yscale('log')\n",
    "plt.xscale('log')\n",
    "plt.show()"
   ]
  },
  {
   "cell_type": "code",
   "execution_count": null,
   "metadata": {
    "collapsed": true
   },
   "outputs": [],
   "source": []
  }
 ],
 "metadata": {
  "kernelspec": {
   "display_name": "Python 2",
   "language": "python",
   "name": "python2"
  },
  "language_info": {
   "codemirror_mode": {
    "name": "ipython",
    "version": 2
   },
   "file_extension": ".py",
   "mimetype": "text/x-python",
   "name": "python",
   "nbconvert_exporter": "python",
   "pygments_lexer": "ipython2",
   "version": "2.7.13"
  }
 },
 "nbformat": 4,
 "nbformat_minor": 2
}
