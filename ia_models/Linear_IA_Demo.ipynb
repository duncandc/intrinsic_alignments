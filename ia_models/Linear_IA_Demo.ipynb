{
 "cells": [
  {
   "cell_type": "code",
   "execution_count": 1,
   "metadata": {},
   "outputs": [],
   "source": [
    "from __future__ import print_function, division\n",
    "import numpy as np\n",
    "import matplotlib.pyplot as plt\n",
    "%matplotlib inline"
   ]
  },
  {
   "cell_type": "code",
   "execution_count": 2,
   "metadata": {},
   "outputs": [
    {
     "name": "stdout",
     "output_type": "stream",
     "text": [
      "CAMB version: 0.1.6.1 \n"
     ]
    }
   ],
   "source": [
    "import camb\n",
    "from camb import model, initialpower\n",
    "print('CAMB version: %s '%camb.__version__)"
   ]
  },
  {
   "cell_type": "code",
   "execution_count": 3,
   "metadata": {},
   "outputs": [],
   "source": [
    "#Set up a new set of parameters for CAMB\n",
    "pars = camb.CAMBparams()\n",
    "#This function sets up CosmoMC-like settings, with one massive neutrino and helium set using BBN consistency\n",
    "pars.set_cosmology(H0=67.5, ombh2=0.022, omch2=0.122, mnu=0.06, omk=0, tau=0.06)\n",
    "pars.InitPower.set_params(ns=0.965, r=0)\n",
    "pars.set_for_lmax(2500, lens_potential_accuracy=0);"
   ]
  },
  {
   "cell_type": "code",
   "execution_count": 4,
   "metadata": {},
   "outputs": [],
   "source": [
    "#calculate results for these parameters\n",
    "results = camb.get_results(pars)"
   ]
  },
  {
   "cell_type": "code",
   "execution_count": 5,
   "metadata": {},
   "outputs": [
    {
     "name": "stdout",
     "output_type": "stream",
     "text": [
      "total\n",
      "lens_potential\n",
      "lensed_scalar\n",
      "unlensed_scalar\n",
      "unlensed_total\n",
      "tensor\n"
     ]
    }
   ],
   "source": [
    "#get dictionary of CAMB power spectra\n",
    "powers = results.get_cmb_power_spectra(pars, CMB_unit='muK')\n",
    "for name in powers: print(name)"
   ]
  },
  {
   "cell_type": "code",
   "execution_count": 6,
   "metadata": {},
   "outputs": [
    {
     "name": "stdout",
     "output_type": "stream",
     "text": [
      "Note: redshifts have been re-sorted (earliest first)\n"
     ]
    },
    {
     "name": "stderr",
     "output_type": "stream",
     "text": [
      "WARNING:root:get_matter_power_spectrum using larger k_max than input parameter Transfer.kmax\n"
     ]
    }
   ],
   "source": [
    "#Now get matter power spectra and sigma8 at redshift 0 and 0.8\n",
    "pars = camb.CAMBparams()\n",
    "pars.set_cosmology(H0=67.5, ombh2=0.022, omch2=0.122)\n",
    "pars.set_dark_energy() #re-set defaults\n",
    "pars.InitPower.set_params(ns=0.965)\n",
    "#Not non-linear corrections couples to smaller scales than you want\n",
    "pars.set_matter_power(redshifts=[0., 0.8], kmax=20.0)\n",
    "\n",
    "#Linear spectra\n",
    "pars.NonLinear = model.NonLinear_none\n",
    "results = camb.get_results(pars)\n",
    "kh, z, pk = results.get_matter_power_spectrum(minkh=1e-4, maxkh=10, npoints = 200)\n",
    "s8 = np.array(results.get_sigma8())\n",
    "\n",
    "#Non-Linear spectra (Halofit)\n",
    "pars.NonLinear = model.NonLinear_both\n",
    "results.calc_power_spectra(pars)\n",
    "kh_nonlin, z_nonlin, pk_nonlin = results.get_matter_power_spectrum(minkh=1e-4, maxkh=100, npoints = 200)"
   ]
  },
  {
   "cell_type": "code",
   "execution_count": 7,
   "metadata": {},
   "outputs": [],
   "source": [
    "from pyfftlog.pyfftlog import pk2xi"
   ]
  },
  {
   "cell_type": "code",
   "execution_count": 8,
   "metadata": {},
   "outputs": [],
   "source": [
    "r_linear, xi_linear = pk2xi(kh, pk[0])\n",
    "r_nonlin, xi_nonlin = pk2xi(kh_nonlin, pk_nonlin[0])"
   ]
  },
  {
   "cell_type": "code",
   "execution_count": 23,
   "metadata": {},
   "outputs": [
    {
     "data": {
      "image/png": "[encoded data removed]",
      "text/plain": [
       "<Figure size 432x288 with 1 Axes>"
      ]
     },
     "metadata": {},
     "output_type": "display_data"
    }
   ],
   "source": [
    "plt.figure()\n",
    "plt.plot(r_linear,np.fabs(xi_linear))\n",
    "plt.plot(r_nonlin,np.fabs(xi_nonlin))\n",
    "plt.xscale('log')\n",
    "plt.yscale('log')\n",
    "plt.show()"
   ]
  },
  {
   "cell_type": "code",
   "execution_count": 45,
   "metadata": {},
   "outputs": [],
   "source": [
    "from hmf import cosmo, growth_factor"
   ]
  },
  {
   "cell_type": "code",
   "execution_count": 46,
   "metadata": {},
   "outputs": [],
   "source": [
    "c = cosmo.Planck15"
   ]
  },
  {
   "cell_type": "code",
   "execution_count": 22,
   "metadata": {},
   "outputs": [],
   "source": [
    "g = growth_factor.GrowthFactor(c)"
   ]
  },
  {
   "cell_type": "code",
   "execution_count": 23,
   "metadata": {},
   "outputs": [],
   "source": [
    "g.growth_factor(1.0)\n",
    "gf = g.growth_factor_fn()"
   ]
  },
  {
   "cell_type": "code",
   "execution_count": 24,
   "metadata": {},
   "outputs": [
    {
     "data": {
      "image/png": "[encoded data removed]",
      "text/plain": [
       "<Figure size 432x288 with 1 Axes>"
      ]
     },
     "metadata": {},
     "output_type": "display_data"
    }
   ],
   "source": [
    "z = np.linspace(0,10,100)\n",
    "plt.figure()\n",
    "plt.plot(z,gf(z))\n",
    "plt.show()"
   ]
  },
  {
   "cell_type": "code",
   "execution_count": 14,
   "metadata": {},
   "outputs": [],
   "source": [
    "from hmf import growth_factor\n",
    "from hmf import cosmo as hmf_cosmo\n",
    "from camb import model, initialpower\n",
    "import numpy as np\n",
    "from astropy import units as u\n",
    "import astropy.constants as const\n",
    "\n",
    "# set up a new set of parameters for CAMB\n",
    "pars = camb.CAMBparams()\n",
    "\n",
    "def mean_density(cosmo, z):\n",
    "    \"\"\"\n",
    "    mean density of the universe\n",
    "    \n",
    "    Paramaters\n",
    "    ----------\n",
    "    z : array_like\n",
    "        redshift\n",
    "    \n",
    "    cosmo : astropy.cosmology object\n",
    "    \n",
    "    Returns\n",
    "    -------\n",
    "    rho_b : numpy.array\n",
    "         mean density of the universe at redshift z in Msol/Mpc^3\n",
    "    \"\"\"\n",
    "    \n",
    "    scale_factor = 1.0/(1.0+z)\n",
    "    \n",
    "    rho = (3.0/(8.0*np.pi*const.G))*(cosmo.H(z)**2)*(cosmo.Om(z)*scale_factor**(-3))\n",
    "    rho = rho.to(u.M_sun  / u.parsec**3)*((10**6)**3)\n",
    "    \n",
    "    return rho.value\n",
    "\n",
    "\n",
    "def linear_power_spectrum(cosmo, z, lmax=2500, minkh=1e-4, maxkh=1):\n",
    "    \"\"\"\n",
    "    Parameters\n",
    "    ==========\n",
    "\n",
    "    Returns\n",
    "    =======\n",
    "    k : numpy.array\n",
    "        k for which the power specturm is calculated\n",
    "\n",
    "    z : numpy.array\n",
    "        redshifts for which the power epctrum is calculated\n",
    "\n",
    "    pk : numpy.array\n",
    "        power spectrum(s) at the specified k for each redshift\n",
    "    \"\"\"\n",
    "\n",
    "    z = np.atleast_1D(z)\n",
    "\n",
    "    pars.set_cosmology(H0=67.5, ombh2=0.022, omch2=0.122, mnu=0.06, omk=0, tau=0.06)\n",
    "    pars.InitPower.set_params(ns=0.965, r=0)\n",
    "    pars.set_for_lmax(lmax, lens_potential_accuracy=0)\n",
    "\n",
    "    # calculate results for these parameters\n",
    "    results = camb.get_results(pars)\n",
    "\n",
    "    # now get matter power spectra and sigma8 at the specified  redshift\n",
    "    pars = camb.CAMBparams()\n",
    "    pars.set_cosmology(H0=67.5, ombh2=0.022, omch2=0.122)\n",
    "    pars.set_dark_energy() #re-set defaults\n",
    "    pars.InitPower.set_params(ns=0.965)\n",
    "    # not non-linear corrections couples to smaller scales than you want\n",
    "    pars.set_matter_power(redshifts=z, kmax=maxkh*2)\n",
    "\n",
    "    # linear spectra\n",
    "    pars.NonLinear = model.NonLinear_none\n",
    "    results = camb.get_results(pars)\n",
    "    kh, z, pk = results.get_matter_power_spectrum(minkh=minkh, maxkh=maxkh, npoints=200)\n",
    "\n",
    "    return kh, z, pk\n",
    "\n",
    "\n",
    "def linear_growth_factor(cosmo, z):\n",
    "    \"\"\"\n",
    "    linear growth factor normalized to 1.0 at z=0.0\n",
    "    \"\"\"\n",
    "    \n",
    "    # get growth factor object\n",
    "    g = growth_factor.GrowthFactor(cosmo)\n",
    "    \n",
    "    # get spline function\n",
    "    gf = g.growth_factor_fn()\n",
    "    \n",
    "    # return growth factor at desired redshift\n",
    "    return gf(z)\n",
    "\n",
    "\n",
    "def P_II_factor(cosmo, z):\n",
    "    \"\"\"\n",
    "    alignment shape-shape linear power spectrum factor\n",
    "    \"\"\"\n",
    "    C_1 = 5*10**(-14)\n",
    "    return (C_1*mean_density(cosmo, z)/((1.0+z)*linear_growth_factor(cosmo, z)))**2\n",
    "\n",
    "def P_GI_factor(cosmo, z):\n",
    "    \"\"\"\n",
    "    alignment shape-shape linear power spectrum factor\n",
    "    \"\"\"\n",
    "    C_1 = 5*10**(-14)\n",
    "    return (C_1*mean_density(cosmo, z)/((1.0+z)*linear_growth_factor(cosmo, z)))"
   ]
  },
  {
   "cell_type": "code",
   "execution_count": 4,
   "metadata": {},
   "outputs": [],
   "source": [
    "from astropy.cosmology import Planck15\n",
    "cosmo = Planck15"
   ]
  },
  {
   "cell_type": "code",
   "execution_count": 5,
   "metadata": {},
   "outputs": [
    {
     "data": {
      "text/plain": [
       "3.834034041238135e-06"
      ]
     },
     "execution_count": 5,
     "metadata": {},
     "output_type": "execute_result"
    }
   ],
   "source": [
    "P_II_factor(cosmo, 0.0)"
   ]
  },
  {
   "cell_type": "code",
   "execution_count": 46,
   "metadata": {},
   "outputs": [],
   "source": [
    "r_linear, xi_linear = pk2xi(kh, pk[0])\n",
    "r_nonlin, xi_nonlin = pk2xi(kh_nonlin, pk_nonlin[0])"
   ]
  },
  {
   "cell_type": "code",
   "execution_count": 56,
   "metadata": {},
   "outputs": [
    {
     "data": {
      "image/png": "[encoded data removed]",
      "text/plain": [
       "<Figure size 432x288 with 1 Axes>"
      ]
     },
     "metadata": {},
     "output_type": "display_data"
    },
    {
     "data": {
      "image/png": "[encoded data removed]",
      "text/plain": [
       "<Figure size 432x288 with 1 Axes>"
      ]
     },
     "metadata": {},
     "output_type": "display_data"
    }
   ],
   "source": [
    "plt.figure()\n",
    "plt.plot(r_linear,P_II_factor(cosmo, 0.0)*xi_linear)\n",
    "plt.plot(r_nonlin,P_II_factor(cosmo, 0.0)*xi_nonlin)\n",
    "plt.xscale('log')\n",
    "plt.yscale('log')\n",
    "plt.xlim([0.1,40])\n",
    "plt.ylim([0.000001,0.01])\n",
    "plt.show()\n",
    "\n",
    "plt.figure()\n",
    "plt.plot(r_linear,P_GI_factor(cosmo, 0.0)*xi_linear)\n",
    "plt.plot(r_nonlin,P_GI_factor(cosmo, 0.0)*xi_nonlin)\n",
    "plt.xscale('log')\n",
    "plt.yscale('log')\n",
    "plt.xlim([0.1,40])\n",
    "plt.ylim([0.0001,10])\n",
    "plt.show()"
   ]
  },
  {
   "cell_type": "code",
   "execution_count": 57,
   "metadata": {},
   "outputs": [],
   "source": [
    "from scipy import interpolate\n",
    "xi_pp_lin = interpolate.interp1d(np.log10(r_linear),np.log10(P_II_factor(cosmo, 0.0)*np.fabs(xi_linear)), fill_value='extrapolate')\n",
    "xi_pp_nonlin = interpolate.interp1d(np.log10(r_nonlin),np.log10(P_II_factor(cosmo, 0.0)*np.fabs(xi_nonlin)), fill_value='extrapolate')\n"
   ]
  },
  {
   "cell_type": "code",
   "execution_count": 58,
   "metadata": {},
   "outputs": [],
   "source": [
    "def integrand_1(x, y):\n",
    "    r = np.sqrt(x*x + y*y)\n",
    "    return 2*10**xi_pp_lin(np.log10(r))\n",
    "\n",
    "def integrand_2(x, y):\n",
    "    r = np.sqrt(x*x + y*y)\n",
    "    return 2*10**xi_pp_nonlin(np.log10(r))"
   ]
  },
  {
   "cell_type": "code",
   "execution_count": 59,
   "metadata": {},
   "outputs": [],
   "source": [
    "import scipy.integrate as integrate\n",
    "\n",
    "rp_bins = np.logspace(-1,2,20)\n",
    "w_pp_linear = np.zeros(len(rp_bins))\n",
    "w_pp_nonlin = np.zeros(len(rp_bins))\n",
    "for i in range(0,len(rp_bins)):\n",
    "    w_pp_linear[i] = integrate.quad(integrand_1, 0, 100, args=(rp_bins[i],))[0]\n",
    "    w_pp_nonlin[i] = integrate.quad(integrand_2, 0, 100, args=(rp_bins[i],))[0]"
   ]
  },
  {
   "cell_type": "code",
   "execution_count": 61,
   "metadata": {},
   "outputs": [
    {
     "data": {
      "image/png": "[encoded data removed]",
      "text/plain": [
       "<Figure size 432x288 with 1 Axes>"
      ]
     },
     "metadata": {},
     "output_type": "display_data"
    }
   ],
   "source": [
    "plt.figure()\n",
    "plt.plot(rp_bins,10*w_pp_linear)\n",
    "plt.plot(rp_bins,10*w_pp_nonlin)\n",
    "plt.xscale('log')\n",
    "plt.yscale('log')\n",
    "plt.xlim([0.1,40])\n",
    "plt.ylim([0.000001,0.1])\n",
    "plt.show()\n",
    "\n"
   ]
  },
  {
   "cell_type": "code",
   "execution_count": 62,
   "metadata": {},
   "outputs": [
    {
     "name": "stderr",
     "output_type": "stream",
     "text": [
      "/anaconda2/lib/python2.7/site-packages/h5py/__init__.py:36: FutureWarning: Conversion of the second argument of issubdtype from `float` to `np.floating` is deprecated. In future, it will be treated as `np.float64 == np.dtype(float).type`.\n",
      "  from ._conv import register_converters as _register_converters\n"
     ]
    }
   ],
   "source": [
    "from halotools.sim_manager import CachedHaloCatalog\n",
    "halocat = CachedHaloCatalog(simname='bolshoi', halo_finder='rockstar', redshift=0, version_name='halotools_v0p4')"
   ]
  },
  {
   "cell_type": "code",
   "execution_count": 66,
   "metadata": {},
   "outputs": [],
   "source": [
    "# galaxy coordinates and orientations\n",
    "coords = np.vstack((halocat.halo_table['halo_x'],\n",
    "                    halocat.halo_table['halo_y'],\n",
    "                    halocat.halo_table['halo_z'])).T\n",
    "\n",
    "orientations = np.vstack((halocat.halo_table['halo_axisA_x'],\n",
    "                          halocat.halo_table['halo_axisA_y'],\n",
    "                          halocat.halo_table['halo_axisA_z'])).T"
   ]
  },
  {
   "cell_type": "code",
   "execution_count": 92,
   "metadata": {},
   "outputs": [],
   "source": [
    "from halotools.mock_observables.alignments import ii_plus_3d, ii_minus_3d\n",
    "\n",
    "e = np.random.random(len(halocat.halo_table))"
   ]
  },
  {
   "cell_type": "code",
   "execution_count": 76,
   "metadata": {},
   "outputs": [],
   "source": [
    "mask=(halocat.halo_table['halo_mpeak']>10**12)"
   ]
  },
  {
   "cell_type": "code",
   "execution_count": 73,
   "metadata": {},
   "outputs": [
    {
     "data": {
      "text/html": [
       "&lt;Column name=&apos;halo_c_to_a&apos; dtype=&apos;float32&apos; length=1367493&gt;\n",
       "<table>\n",
       "<tr><td>0.49540177</td></tr>\n",
       "<tr><td>0.65164965</td></tr>\n",
       "<tr><td>0.24827816</td></tr>\n",
       "<tr><td>0.65988725</td></tr>\n",
       "<tr><td>0.48795906</td></tr>\n",
       "<tr><td>0.5756345</td></tr>\n",
       "<tr><td>0.49864933</td></tr>\n",
       "<tr><td>0.14499147</td></tr>\n",
       "<tr><td>0.66059804</td></tr>\n",
       "<tr><td>0.5150936</td></tr>\n",
       "<tr><td>0.5762659</td></tr>\n",
       "<tr><td>0.64683276</td></tr>\n",
       "<tr><td>...</td></tr>\n",
       "<tr><td>0.99291843</td></tr>\n",
       "<tr><td>0.9941613</td></tr>\n",
       "<tr><td>0.8743265</td></tr>\n",
       "<tr><td>0.5550155</td></tr>\n",
       "<tr><td>1.0</td></tr>\n",
       "<tr><td>0.999811</td></tr>\n",
       "<tr><td>0.99751943</td></tr>\n",
       "<tr><td>0.99733037</td></tr>\n",
       "<tr><td>0.95445716</td></tr>\n",
       "<tr><td>0.9986881</td></tr>\n",
       "<tr><td>0.9824458</td></tr>\n",
       "<tr><td>1.0</td></tr>\n",
       "</table>"
      ],
      "text/plain": [
       "<Column name='halo_c_to_a' dtype='float32' length=1367493>\n",
       "0.49540177\n",
       "0.65164965\n",
       "0.24827816\n",
       "0.65988725\n",
       "0.48795906\n",
       " 0.5756345\n",
       "0.49864933\n",
       "0.14499147\n",
       "0.66059804\n",
       " 0.5150936\n",
       " 0.5762659\n",
       "0.64683276\n",
       "       ...\n",
       "0.99291843\n",
       " 0.9941613\n",
       " 0.8743265\n",
       " 0.5550155\n",
       "       1.0\n",
       "  0.999811\n",
       "0.99751943\n",
       "0.99733037\n",
       "0.95445716\n",
       " 0.9986881\n",
       " 0.9824458\n",
       "       1.0"
      ]
     },
     "execution_count": 73,
     "metadata": {},
     "output_type": "execute_result"
    }
   ],
   "source": [
    "(1-halocat.halo_table['halo_c_to_a']**2)/(1+halocat.halo_table['halo_c_to_a']**2)"
   ]
  },
  {
   "cell_type": "code",
   "execution_count": 99,
   "metadata": {},
   "outputs": [],
   "source": [
    "e = halocat.halo_table['halo_c_to_a']*0.0+0.5"
   ]
  },
  {
   "cell_type": "code",
   "execution_count": 100,
   "metadata": {},
   "outputs": [],
   "source": [
    "rbins = np.logspace(-1,np.log10(40))\n",
    "rbin_centers = (rbins[:-1]+rbins[1:])/2.0\n",
    "\n",
    "result = ii_minus_3d(coords[mask], orientations[mask], e[mask], coords[mask], orientations[mask], e[mask],\n",
    "           rbins, period=halocat.Lbox, num_threads=4)"
   ]
  },
  {
   "cell_type": "code",
   "execution_count": 94,
   "metadata": {},
   "outputs": [
    {
     "data": {
      "image/png": "[encoded data removed]",
      "text/plain": [
       "<Figure size 432x288 with 1 Axes>"
      ]
     },
     "metadata": {},
     "output_type": "display_data"
    }
   ],
   "source": [
    "plt.figure()\n",
    "plt.plot(rbin_centers, result, 'o')\n",
    "plt.plot(r_linear,P_II_factor(cosmo, 0.0)*xi_linear)\n",
    "plt.plot(r_nonlin,P_II_factor(cosmo, 0.0)*xi_nonlin)\n",
    "plt.xscale('log')\n",
    "plt.yscale('log')\n",
    "plt.show()"
   ]
  },
  {
   "cell_type": "code",
   "execution_count": 102,
   "metadata": {},
   "outputs": [
    {
     "data": {
      "text/plain": [
       "array([-3.37345504e+01, -3.70225606e+01, -2.43116935e+01, -2.04109213e+01,\n",
       "       -1.69691952e+01, -1.24328001e+01, -8.45935879e+00, -7.58472798e+00,\n",
       "       -7.21073726e+00, -6.25286875e+00, -5.28229522e+00, -3.93404023e+00,\n",
       "       -2.92824298e+00, -2.03505854e+00, -1.81465933e+00, -1.42338151e+00,\n",
       "       -1.11421075e+00, -9.50191757e-01, -7.98734079e-01, -5.89925513e-01,\n",
       "       -5.03192849e-01, -4.08457210e-01, -3.21325082e-01, -2.47267035e-01,\n",
       "       -1.98597388e-01, -1.71043935e-01, -1.43563297e-01, -1.26322476e-01,\n",
       "       -1.06721587e-01, -9.78130772e-02, -8.01599332e-02, -7.06341028e-02,\n",
       "       -6.32241504e-02, -5.84333765e-02, -5.25413390e-02, -4.77774768e-02,\n",
       "       -4.40494713e-02, -4.11673412e-02, -3.79821747e-02, -3.61383641e-02,\n",
       "       -3.37830642e-02, -3.23216320e-02, -3.12100058e-02, -3.03315822e-02,\n",
       "       -2.94789295e-02, -2.90848391e-02, -2.84878654e-02, -2.81113058e-02,\n",
       "       -2.77874445e-02])"
      ]
     },
     "execution_count": 102,
     "metadata": {},
     "output_type": "execute_result"
    }
   ],
   "source": [
    "result"
   ]
  },
  {
   "cell_type": "code",
   "execution_count": null,
   "metadata": {},
   "outputs": [],
   "source": []
  }
 ],
 "metadata": {
  "kernelspec": {
   "display_name": "Python 2",
   "language": "python",
   "name": "python2"
  },
  "language_info": {
   "codemirror_mode": {
    "name": "ipython",
    "version": 2
   },
   "file_extension": ".py",
   "mimetype": "text/x-python",
   "name": "python",
   "nbconvert_exporter": "python",
   "pygments_lexer": "ipython2",
   "version": "2.7.14"
  }
 },
 "nbformat": 4,
 "nbformat_minor": 2
}
