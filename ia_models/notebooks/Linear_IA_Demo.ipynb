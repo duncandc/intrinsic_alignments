{
 "cells": [
  {
   "cell_type": "code",
   "execution_count": 1,
   "metadata": {},
   "outputs": [],
   "source": [
    "from __future__ import print_function, division\n",
    "import numpy as np\n",
    "import matplotlib.pyplot as plt\n",
    "%matplotlib inline"
   ]
  },
  {
   "cell_type": "markdown",
   "metadata": {},
   "source": [
    "# (Non)Linear IA Models"
   ]
  },
  {
   "cell_type": "code",
   "execution_count": 2,
   "metadata": {},
   "outputs": [],
   "source": [
    "from linear_alingment_models import LinearAlignmentModel as LA\n",
    "from linear_alingment_models import NonLinearAlignmentModel as NLA\n",
    "from hrh_model import HRH, HRHstar"
   ]
  },
  {
   "cell_type": "code",
   "execution_count": 3,
   "metadata": {},
   "outputs": [
    {
     "ename": "TypeError",
     "evalue": "__init__() got an unexpected keyword argument 'NonLinear'",
     "output_type": "error",
     "traceback": [
      "\u001b[0;31m---------------------------------------------------------------------------\u001b[0m",
      "\u001b[0;31mTypeError\u001b[0m                                 Traceback (most recent call last)",
      "\u001b[0;32m<ipython-input-3-032e3dfb7bef>\u001b[0m in \u001b[0;36m<module>\u001b[0;34m()\u001b[0m\n\u001b[1;32m      4\u001b[0m \u001b[0mxi_1\u001b[0m \u001b[0;34m=\u001b[0m \u001b[0mla\u001b[0m\u001b[0;34m.\u001b[0m\u001b[0mii_plus\u001b[0m\u001b[0;34m(\u001b[0m\u001b[0mr\u001b[0m\u001b[0;34m)\u001b[0m\u001b[0;34m\u001b[0m\u001b[0m\n\u001b[1;32m      5\u001b[0m \u001b[0;34m\u001b[0m\u001b[0m\n\u001b[0;32m----> 6\u001b[0;31m \u001b[0mnla\u001b[0m \u001b[0;34m=\u001b[0m \u001b[0mNLA\u001b[0m\u001b[0;34m(\u001b[0m\u001b[0;34m)\u001b[0m\u001b[0;34m\u001b[0m\u001b[0m\n\u001b[0m\u001b[1;32m      7\u001b[0m \u001b[0mxi_2\u001b[0m \u001b[0;34m=\u001b[0m \u001b[0mnla\u001b[0m\u001b[0;34m.\u001b[0m\u001b[0mii_plus\u001b[0m\u001b[0;34m(\u001b[0m\u001b[0mr\u001b[0m\u001b[0;34m)\u001b[0m\u001b[0;34m\u001b[0m\u001b[0m\n\u001b[1;32m      8\u001b[0m \u001b[0;34m\u001b[0m\u001b[0m\n",
      "\u001b[0;32m/Users/duncan/Projects/intrinsic_alignments/ia_models/linear_alingment_models.pyc\u001b[0m in \u001b[0;36m__init__\u001b[0;34m(self, z, cosmo, **kwargs)\u001b[0m\n\u001b[1;32m    213\u001b[0m \u001b[0;34m\u001b[0m\u001b[0m\n\u001b[1;32m    214\u001b[0m         \u001b[0;31m# replace linear power specturm with non-linear power spectrum\u001b[0m\u001b[0;34m\u001b[0m\u001b[0;34m\u001b[0m\u001b[0m\n\u001b[0;32m--> 215\u001b[0;31m         \u001b[0mkh\u001b[0m\u001b[0;34m,\u001b[0m \u001b[0mpk\u001b[0m \u001b[0;34m=\u001b[0m \u001b[0mnonlinear_power_spectrum\u001b[0m\u001b[0;34m(\u001b[0m\u001b[0mz\u001b[0m\u001b[0;34m,\u001b[0m \u001b[0mcosmo\u001b[0m\u001b[0;34m=\u001b[0m\u001b[0mcosmo\u001b[0m\u001b[0;34m)\u001b[0m\u001b[0;34m\u001b[0m\u001b[0m\n\u001b[0m\u001b[1;32m    216\u001b[0m         \u001b[0mself\u001b[0m\u001b[0;34m.\u001b[0m\u001b[0mpower_spectrum\u001b[0m \u001b[0;34m=\u001b[0m \u001b[0;34m(\u001b[0m\u001b[0mkh\u001b[0m\u001b[0;34m,\u001b[0m \u001b[0mpk\u001b[0m\u001b[0;34m)\u001b[0m\u001b[0;34m\u001b[0m\u001b[0m\n\u001b[1;32m    217\u001b[0m \u001b[0;34m\u001b[0m\u001b[0m\n",
      "\u001b[0;32m/Users/duncan/Projects/intrinsic_alignments/ia_models/cosmo_utils.py\u001b[0m in \u001b[0;36mnonlinear_power_spectrum\u001b[0;34m(z, cosmo, lmax, minkh, maxkh, npoints)\u001b[0m\n\u001b[1;32m    161\u001b[0m \u001b[0;34m\u001b[0m\u001b[0m\n\u001b[1;32m    162\u001b[0m     \u001b[0;31m# set up CAMB\u001b[0m\u001b[0;34m\u001b[0m\u001b[0;34m\u001b[0m\u001b[0m\n\u001b[0;32m--> 163\u001b[0;31m     \u001b[0mpars\u001b[0m \u001b[0;34m=\u001b[0m \u001b[0mcamb\u001b[0m\u001b[0;34m.\u001b[0m\u001b[0mCAMBparams\u001b[0m\u001b[0;34m(\u001b[0m\u001b[0mNonLinear\u001b[0m\u001b[0;34m=\u001b[0m\u001b[0;36m2\u001b[0m\u001b[0;34m)\u001b[0m\u001b[0;34m\u001b[0m\u001b[0m\n\u001b[0m\u001b[1;32m    164\u001b[0m     \u001b[0mcosmo_param_dict\u001b[0m \u001b[0;34m=\u001b[0m \u001b[0mastropy_to_camb_cosmo\u001b[0m\u001b[0;34m(\u001b[0m\u001b[0mcosmo\u001b[0m\u001b[0;34m)\u001b[0m\u001b[0;34m\u001b[0m\u001b[0m\n\u001b[1;32m    165\u001b[0m     \u001b[0mpars\u001b[0m\u001b[0;34m.\u001b[0m\u001b[0mset_cosmology\u001b[0m\u001b[0;34m(\u001b[0m\u001b[0;34m**\u001b[0m\u001b[0mcosmo_param_dict\u001b[0m\u001b[0;34m)\u001b[0m\u001b[0;34m\u001b[0m\u001b[0m\n",
      "\u001b[0;31mTypeError\u001b[0m: __init__() got an unexpected keyword argument 'NonLinear'"
     ]
    }
   ],
   "source": [
    "r = np.logspace(-1,2.2,50)\n",
    "\n",
    "la = LA() \n",
    "xi_1 = la.ii_plus(r)\n",
    "\n",
    "nla = NLA() \n",
    "xi_2 = nla.ii_plus(r)\n",
    "\n",
    "hrh = HRH()\n",
    "xi_3 = hrh.ee_3d(r)\n",
    "\n",
    "hrh = HRHstar()\n",
    "xi_4 = hrh.ee_3d(r)"
   ]
  },
  {
   "cell_type": "code",
   "execution_count": null,
   "metadata": {},
   "outputs": [],
   "source": [
    "plt.figure()\n",
    "l1, = plt.plot(r, xi_1, '-')\n",
    "l2, = plt.plot(r, xi_2, ':')\n",
    "l3, = plt.plot(r, xi_3, '--')\n",
    "l4, = plt.plot(r, xi_4, '-.')\n",
    "plt.yscale('log')\n",
    "plt.xscale('log')\n",
    "plt.ylim([10**(-7),10**(-1)])\n",
    "plt.xlim([0.1,100])\n",
    "plt.xlabel(r'$r_p~[h^{-1}{\\rm Mpc}]$')\n",
    "plt.ylabel(r'$w_{++}~[h^{-1}{\\rm Mpc}]$')\n",
    "plt.legend([l1, l2, l3, l4],['LA', 'NLA', 'HRH', 'HRH*'], frameon=False, loc='upper right', fontsize=10)\n",
    "plt.show()"
   ]
  },
  {
   "cell_type": "code",
   "execution_count": 5,
   "metadata": {},
   "outputs": [
    {
     "name": "stderr",
     "output_type": "stream",
     "text": [
      "/anaconda2/lib/python2.7/site-packages/scipy/integrate/quadpack.py:364: IntegrationWarning: The maximum number of subdivisions (50) has been achieved.\n",
      "  If increasing the limit yields no improvement it is advised to analyze \n",
      "  the integrand in order to determine the difficulties.  If the position of a \n",
      "  local difficulty can be determined (singularity, discontinuity) one will \n",
      "  probably gain from splitting up the interval and calling the integrator \n",
      "  on the subranges.  Perhaps a special-purpose integrator should be used.\n",
      "  warnings.warn(msg, IntegrationWarning)\n",
      "/anaconda2/lib/python2.7/site-packages/scipy/integrate/quadpack.py:364: IntegrationWarning: The occurrence of roundoff error is detected, which prevents \n",
      "  the requested tolerance from being achieved.  The error may be \n",
      "  underestimated.\n",
      "  warnings.warn(msg, IntegrationWarning)\n"
     ]
    }
   ],
   "source": [
    "rp = np.logspace(-1,2.2,50)\n",
    "\n",
    "la = LA() \n",
    "xi_1 = la.ii_plus_projected(r)\n",
    "\n",
    "nla = NLA() \n",
    "xi_2 = nla.ii_plus_projected(r)\n",
    "\n",
    "hrh = HRHstar(sample='SDSS L3-L6')\n",
    "xi_3 = hrh.ii_plus_projected(r)"
   ]
  },
  {
   "cell_type": "code",
   "execution_count": 6,
   "metadata": {},
   "outputs": [
    {
     "data": {
      "image/png": "[encoded data removed]",
      "text/plain": [
       "<Figure size 432x288 with 1 Axes>"
      ]
     },
     "metadata": {},
     "output_type": "display_data"
    }
   ],
   "source": [
    "plt.figure()\n",
    "l1, = plt.plot(rp, xi_1, '-')\n",
    "l2, = plt.plot(rp, xi_2, ':')\n",
    "plt.yscale('log')\n",
    "plt.xscale('log')\n",
    "plt.ylim([10**(-6),10**(-2)])\n",
    "plt.xlim([0.1,100])\n",
    "plt.xlabel(r'$r_p~[h^{-1}{\\rm Mpc}]$')\n",
    "plt.ylabel(r'$w_{++}~[h^{-1}{\\rm Mpc}]$')\n",
    "plt.legend([l1, l2],['LA', 'NLA'], frameon=False, loc='upper right', fontsize=10)\n",
    "plt.show()"
   ]
  },
  {
   "cell_type": "code",
   "execution_count": 19,
   "metadata": {},
   "outputs": [
    {
     "data": {
      "text/plain": [
       "{u'A': 0.012, u'B': 1.5, u'R': 0.87, u'gamma': 1.8, u'r0': 5.25}"
      ]
     },
     "execution_count": 19,
     "metadata": {},
     "output_type": "execute_result"
    }
   ],
   "source": [
    "hrh.params"
   ]
  }
 ],
 "metadata": {
  "kernelspec": {
   "display_name": "Python 2",
   "language": "python",
   "name": "python2"
  },
  "language_info": {
   "codemirror_mode": {
    "name": "ipython",
    "version": 2
   },
   "file_extension": ".py",
   "mimetype": "text/x-python",
   "name": "python",
   "nbconvert_exporter": "python",
   "pygments_lexer": "ipython2",
   "version": "2.7.14"
  }
 },
 "nbformat": 4,
 "nbformat_minor": 2
}
