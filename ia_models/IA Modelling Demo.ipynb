{
 "cells": [
  {
   "cell_type": "code",
   "execution_count": 1,
   "metadata": {
    "collapsed": true
   },
   "outputs": [],
   "source": [
    "from __future__ import print_function, division\n",
    "import numpy as np\n",
    "import matplotlib.pyplot as plt\n",
    "%matplotlib inline"
   ]
  },
  {
   "cell_type": "markdown",
   "metadata": {},
   "source": [
    "# Central and Satellite IA Models"
   ]
  },
  {
   "cell_type": "code",
   "execution_count": 30,
   "metadata": {},
   "outputs": [
    {
     "data": {
      "image/png": "[encoded data removed]",
      "text/plain": [
       "<matplotlib.figure.Figure at 0x1187318d0>"
      ]
     },
     "metadata": {},
     "output_type": "display_data"
    }
   ],
   "source": [
    "from matplotlib.patches import Circle, Ellipse\n",
    "from matplotlib.collections import PatchCollection\n",
    "\n",
    "patches = []\n",
    "halo = Ellipse((0.0,0.0),1.9, 1.5, color='grey', alpha=0.5)\n",
    "\n",
    "fig, ax = plt.subplots(figsize=(3.3,3.3))\n",
    "fig.subplots_adjust(left=0.1, right=0.9, bottom=0.1, top=0.9)\n",
    "ax.add_artist(halo)\n",
    "ax.set_xlim([-1,1])\n",
    "ax.set_ylim([-1,1])\n",
    "ax.axis('off')\n",
    "\n",
    "ax.plot([-0.15,0.15],[0.0,0.0], color='black')\n",
    "\n",
    "plt.show()"
   ]
  },
  {
   "cell_type": "code",
   "execution_count": 38,
   "metadata": {},
   "outputs": [
    {
     "data": {
      "image/png": "[encoded data removed]",
      "text/plain": [
       "<matplotlib.figure.Figure at 0x118514650>"
      ]
     },
     "metadata": {},
     "output_type": "display_data"
    },
    {
     "data": {
      "image/png": "[encoded data removed]",
      "text/plain": [
       "<matplotlib.figure.Figure at 0x118854c50>"
      ]
     },
     "metadata": {},
     "output_type": "display_data"
    },
    {
     "data": {
      "image/png": "[encoded data removed]",
      "text/plain": [
       "<matplotlib.figure.Figure at 0x11909d7d0>"
      ]
     },
     "metadata": {},
     "output_type": "display_data"
    }
   ],
   "source": [
    "from matplotlib.patches import Circle, Ellipse\n",
    "from matplotlib.collections import PatchCollection\n",
    "\n",
    "halo = Ellipse((0.0,0.0),1.9, 1.5, color='grey', alpha=0.5)\n",
    "\n",
    "fig, ax = plt.subplots(figsize=(3.3,3.3))\n",
    "fig.subplots_adjust(left=0.1, right=0.9, bottom=0.1, top=0.9)\n",
    "ax.add_artist(halo)\n",
    "ax.set_xlim([-1,1])\n",
    "ax.set_ylim([-1,1])\n",
    "ax.axis('off')\n",
    "\n",
    "ax.plot([0,0],[0.6,0.3], color='black')\n",
    "ax.plot([0,0],[-0.6,-0.3], color='black')\n",
    "ax.plot([0.8,0.5],[0,0], color='black')\n",
    "ax.plot([-0.8,-0.5],[0,0], color='black')\n",
    "\n",
    "ax.set_title('Radial Alignment Model')\n",
    "\n",
    "plt.show()\n",
    "\n",
    "\n",
    "halo = Ellipse((0.0,0.0),1.9, 1.5, color='grey', alpha=0.5)\n",
    "\n",
    "fig, ax = plt.subplots(figsize=(3.3,3.3))\n",
    "fig.subplots_adjust(left=0.1, right=0.9, bottom=0.1, top=0.9)\n",
    "ax.add_artist(halo)\n",
    "ax.set_xlim([-1,1])\n",
    "ax.set_ylim([-1,1])\n",
    "ax.axis('off')\n",
    "\n",
    "ax.plot([-0.15,0.15],[0.45,0.45], color='black')\n",
    "ax.plot([-0.15,0.15],[-0.45,-0.45], color='black')\n",
    "ax.plot([0.8,0.5],[0,0], color='black')\n",
    "ax.plot([-0.8,-0.5],[0,0], color='black')\n",
    "\n",
    "ax.set_title('Major Axis Alignment Model')\n",
    "\n",
    "plt.show()\n",
    "\n",
    "\n",
    "halo = Ellipse((0.0,0.0),1.9, 1.5, color='grey', alpha=0.5)\n",
    "\n",
    "fig, ax = plt.subplots(figsize=(3.3,3.3))\n",
    "fig.subplots_adjust(left=0.1, right=0.9, bottom=0.1, top=0.9)\n",
    "ax.add_artist(halo)\n",
    "ax.set_xlim([-1,1])\n",
    "ax.set_ylim([-1,1])\n",
    "ax.axis('off')\n",
    "\n",
    "ax.plot([-0.1,0.1],[0.4,0.5], color='black')\n",
    "ax.plot([-0.1,0.1],[-0.5,-0.4], color='black')\n",
    "ax.plot([0.8,0.5],[0,0], color='black')\n",
    "ax.plot([-0.8,-0.5],[0,0], color='black')\n",
    "\n",
    "ax.set_title('Hybrid Model')\n",
    "\n",
    "plt.show()"
   ]
  },
  {
   "cell_type": "code",
   "execution_count": null,
   "metadata": {
    "collapsed": true
   },
   "outputs": [],
   "source": []
  }
 ],
 "metadata": {
  "kernelspec": {
   "display_name": "Python 2",
   "language": "python",
   "name": "python2"
  },
  "language_info": {
   "codemirror_mode": {
    "name": "ipython",
    "version": 2
   },
   "file_extension": ".py",
   "mimetype": "text/x-python",
   "name": "python",
   "nbconvert_exporter": "python",
   "pygments_lexer": "ipython2",
   "version": "2.7.13"
  }
 },
 "nbformat": 4,
 "nbformat_minor": 2
}
