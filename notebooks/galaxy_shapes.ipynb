{
 "cells": [
  {
   "cell_type": "code",
   "execution_count": 7,
   "metadata": {},
   "outputs": [],
   "source": [
    "from intrinsic_alignments.shape_models.density_profiles import cusped_density\n",
    "from intrinsic_alignments.shape_models.utils import projected_b_to_a\n",
    "from intrinsic_alignments.shape_models.tensor_calculations import inertia_tensors, principal_axes_from_inertia_tensors"
   ]
  },
  {
   "cell_type": "code",
   "execution_count": 11,
   "metadata": {},
   "outputs": [],
   "source": [
    "d = cusped_density()\n",
    "coords = np.stack((d.sample(10000),d.sample(10000)))"
   ]
  },
  {
   "cell_type": "code",
   "execution_count": 12,
   "metadata": {},
   "outputs": [],
   "source": [
    "t = inertia_tensors(coords)"
   ]
  },
  {
   "cell_type": "code",
   "execution_count": 13,
   "metadata": {},
   "outputs": [
    {
     "data": {
      "text/plain": [
       "(array([[ 0.27693625, -0.93505352, -0.22131704],\n",
       "        [-0.80205056, -0.32000033,  0.50429622]]),\n",
       " array([59257.52252059, 63654.41809322]))"
      ]
     },
     "execution_count": 13,
     "metadata": {},
     "output_type": "execute_result"
    }
   ],
   "source": [
    "principal_axes_from_inertia_tensors(t)"
   ]
  },
  {
   "cell_type": "code",
   "execution_count": 14,
   "metadata": {},
   "outputs": [
    {
     "data": {
      "text/plain": [
       "array([[[ 34080.77775594,  -6762.9849128 ,  -2930.63930461],\n",
       "        [ -6762.9849128 ,  56122.51541942,   4782.65826963],\n",
       "        [ -2930.63930461,   4782.65826963,  35383.88946994]],\n",
       "\n",
       "       [[ 49969.93750111,   7921.09591125, -16737.96411629],\n",
       "        [  7921.09591125,  35334.05504066,  -5372.64784831],\n",
       "        [-16737.96411629,  -5372.64784831,  33624.56275224]]])"
      ]
     },
     "execution_count": 14,
     "metadata": {},
     "output_type": "execute_result"
    }
   ],
   "source": [
    "t"
   ]
  },
  {
   "cell_type": "code",
   "execution_count": null,
   "metadata": {},
   "outputs": [],
   "source": []
  }
 ],
 "metadata": {
  "kernelspec": {
   "display_name": "Python 2",
   "language": "python",
   "name": "python2"
  },
  "language_info": {
   "codemirror_mode": {
    "name": "ipython",
    "version": 2
   },
   "file_extension": ".py",
   "mimetype": "text/x-python",
   "name": "python",
   "nbconvert_exporter": "python",
   "pygments_lexer": "ipython2",
   "version": "2.7.15"
  }
 },
 "nbformat": 4,
 "nbformat_minor": 2
}
