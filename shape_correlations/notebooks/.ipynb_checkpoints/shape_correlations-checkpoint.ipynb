{
 "cells": [
  {
   "cell_type": "code",
   "execution_count": 1,
   "metadata": {
    "collapsed": true
   },
   "outputs": [],
   "source": [
    "from __future__ import print_function, division\n",
    "import numpy as np\n",
    "import matplotlib.pyplot as plt\n",
    "%matplotlib inline"
   ]
  },
  {
   "cell_type": "code",
   "execution_count": 2,
   "metadata": {
    "collapsed": true
   },
   "outputs": [],
   "source": [
    "from halotools.sim_manager import CachedHaloCatalog\n",
    "halocat_1 = CachedHaloCatalog(simname='bolshoi', halo_finder='rockstar', redshift=0, version_name='halotools_v0p4')"
   ]
  },
  {
   "cell_type": "code",
   "execution_count": 3,
   "metadata": {
    "collapsed": true
   },
   "outputs": [],
   "source": [
    "coords_1 = np.vstack((halocat_1.halo_table['halo_x'],\n",
    "                      halocat_1.halo_table['halo_y'],\n",
    "                      halocat_1.halo_table['halo_z'])).T"
   ]
  },
  {
   "cell_type": "code",
   "execution_count": 74,
   "metadata": {
    "collapsed": true
   },
   "outputs": [],
   "source": [
    "ran1 = np.random.random(len(weights))*0.0000001\n",
    "ran2 = np.random.random(len(weights))*0.0000001\n",
    "ran3 = np.random.random(len(weights))*0.0000001\n",
    "weights = np.vstack((halocat_1.halo_table['halo_axisA_x']+ran1,\n",
    "                     halocat_1.halo_table['halo_axisA_y']+ran1,\n",
    "                     halocat_1.halo_table['halo_axisA_z']+ran1,\n",
    "                    )).T\n",
    "weights[:,2] =0.0\n",
    "\n",
    "#normalize weights\n",
    "weights = weights/np.sqrt(np.sum(weights**2, axis=1)).reshape((len(weights), -1))\n",
    "\n",
    "#make some random weights\n",
    "ran_weights = np.random.random((len(halocat_1.halo_table),3))-0.5\n",
    "ran_weights[:,2] =0.0\n",
    "ran_weights = ran_weights/np.sqrt(np.sum(ran_weights**2, axis=1)).reshape((len(ran_weights), -1))"
   ]
  },
  {
   "cell_type": "code",
   "execution_count": 34,
   "metadata": {
    "collapsed": true
   },
   "outputs": [],
   "source": [
    "from halotools.mock_observables.pair_counters import positional_marked_npairs_xy_z\n",
    "from halotools.mock_observables.pair_counters import npairs_xy_z, marked_npairs_xy_z"
   ]
  },
  {
   "cell_type": "code",
   "execution_count": 35,
   "metadata": {},
   "outputs": [
    {
     "ename": "NameError",
     "evalue": "name 'halocat_1' is not defined",
     "output_type": "error",
     "traceback": [
      "\u001b[0;31m---------------------------------------------------------------------------\u001b[0m",
      "\u001b[0;31mNameError\u001b[0m                                 Traceback (most recent call last)",
      "\u001b[0;32m<ipython-input-35-81cd09284816>\u001b[0m in \u001b[0;36m<module>\u001b[0;34m()\u001b[0m\n\u001b[0;32m----> 1\u001b[0;31m \u001b[0mmask_1\u001b[0m \u001b[0;34m=\u001b[0m \u001b[0;34m(\u001b[0m\u001b[0mhalocat_1\u001b[0m\u001b[0;34m.\u001b[0m\u001b[0mhalo_table\u001b[0m\u001b[0;34m[\u001b[0m\u001b[0;34m'halo_mpeak'\u001b[0m\u001b[0;34m]\u001b[0m\u001b[0;34m>\u001b[0m\u001b[0;36m10\u001b[0m\u001b[0;34m**\u001b[0m\u001b[0;36m12.0\u001b[0m\u001b[0;34m)\u001b[0m\u001b[0;34m\u001b[0m\u001b[0m\n\u001b[0m\u001b[1;32m      2\u001b[0m \u001b[0;34m\u001b[0m\u001b[0m\n\u001b[1;32m      3\u001b[0m \u001b[0mrp_bins\u001b[0m \u001b[0;34m=\u001b[0m \u001b[0mnp\u001b[0m\u001b[0;34m.\u001b[0m\u001b[0mlogspace\u001b[0m\u001b[0;34m(\u001b[0m\u001b[0;34m-\u001b[0m\u001b[0;36m1\u001b[0m\u001b[0;34m,\u001b[0m\u001b[0;36m1.0\u001b[0m\u001b[0;34m,\u001b[0m\u001b[0;36m20\u001b[0m\u001b[0;34m)\u001b[0m\u001b[0;34m\u001b[0m\u001b[0m\n\u001b[1;32m      4\u001b[0m \u001b[0mrp_bin_centers\u001b[0m \u001b[0;34m=\u001b[0m \u001b[0;34m(\u001b[0m\u001b[0mrp_bins\u001b[0m\u001b[0;34m[\u001b[0m\u001b[0;34m:\u001b[0m\u001b[0;34m-\u001b[0m\u001b[0;36m1\u001b[0m\u001b[0;34m]\u001b[0m\u001b[0;34m+\u001b[0m\u001b[0mrp_bins\u001b[0m\u001b[0;34m[\u001b[0m\u001b[0;36m1\u001b[0m\u001b[0;34m:\u001b[0m\u001b[0;34m]\u001b[0m\u001b[0;34m)\u001b[0m\u001b[0;34m/\u001b[0m\u001b[0;36m2.0\u001b[0m\u001b[0;34m\u001b[0m\u001b[0m\n\u001b[1;32m      5\u001b[0m \u001b[0;34m\u001b[0m\u001b[0m\n",
      "\u001b[0;31mNameError\u001b[0m: name 'halocat_1' is not defined"
     ]
    }
   ],
   "source": [
    "mask_1 = (halocat_1.halo_table['halo_mpeak']>10**12.0)\n",
    "\n",
    "rp_bins = np.logspace(-1,1.0,20)\n",
    "rp_bin_centers = (rp_bins[:-1]+rp_bins[1:])/2.0\n",
    "\n",
    "pi_bins = np.array([0.0,40.0])"
   ]
  },
  {
   "cell_type": "code",
   "execution_count": 27,
   "metadata": {
    "collapsed": true
   },
   "outputs": [],
   "source": [
    "#calculate unweighted counts\n",
    "counts = npairs_xy_z(coords_1[mask_1], coords_1[mask_1], rp_bins, pi_bins,\n",
    "                     period=halocat_1.Lbox, num_threads=4)\n",
    "counts = np.diff(np.diff(counts,axis=1),axis=0)"
   ]
  },
  {
   "cell_type": "code",
   "execution_count": 80,
   "metadata": {
    "collapsed": true
   },
   "outputs": [],
   "source": [
    "result = positional_marked_npairs_xy_z(coords_1[mask_1], coords_1[mask_1], rp_bins, pi_bins,\n",
    "                                     period=halocat_1.Lbox, weights1=weights[mask_1], weights2=weights[mask_1],\n",
    "                                     weight_func_id=1, num_threads=4)\n",
    "counts_1 = result[0] \n",
    "counts_1 = np.diff(np.diff(result[0], axis=1),axis=0)\n",
    "weighted_counts_1 = np.diff(np.diff(result[1], axis=1),axis=0)"
   ]
  },
  {
   "cell_type": "code",
   "execution_count": 81,
   "metadata": {
    "collapsed": true
   },
   "outputs": [],
   "source": [
    "ran_result = positional_marked_npairs_xy_z(coords_1[mask_1], coords_1[mask_1], rp_bins, pi_bins,\n",
    "                                     period=halocat_1.Lbox, weights1=ran_weights[mask_1], weights2=ran_weights[mask_1],\n",
    "                                     weight_func_id=1, num_threads=4)\n",
    "counts_2 = ran_result[0]\n",
    "counts_2 = np.diff(np.diff(ran_result[0], axis=1),axis=0)\n",
    "weighted_counts_2 = np.diff(np.diff(ran_result[1], axis=1),axis=0)"
   ]
  },
  {
   "cell_type": "code",
   "execution_count": 79,
   "metadata": {},
   "outputs": [
    {
     "data": {
      "image/png": "[encoded data removed]",
      "text/plain": [
       "<matplotlib.figure.Figure at 0x128947c50>"
      ]
     },
     "metadata": {},
     "output_type": "display_data"
    },
    {
     "data": {
      "image/png": "[encoded data removed]",
      "text/plain": [
       "<matplotlib.figure.Figure at 0x128523b10>"
      ]
     },
     "metadata": {},
     "output_type": "display_data"
    },
    {
     "data": {
      "image/png": "[encoded data removed]",
      "text/plain": [
       "<matplotlib.figure.Figure at 0x128803890>"
      ]
     },
     "metadata": {},
     "output_type": "display_data"
    }
   ],
   "source": [
    "plt.figure()\n",
    "plt.plot(rp_bin_centers , counts_1/counts, '-')\n",
    "plt.plot(rp_bin_centers , counts_2/counts, '--')\n",
    "plt.xscale('log')\n",
    "plt.show()\n",
    "\n",
    "plt.figure()\n",
    "plt.plot(rp_bin_centers , weighted_counts_1/counts, '-')\n",
    "plt.plot(rp_bin_centers , weighted_counts_2/counts, '--')\n",
    "plt.xscale('log')\n",
    "plt.show()\n",
    "\n",
    "plt.figure()\n",
    "plt.plot(rp_bin_centers , weighted_counts_1/weighted_counts_2, '-')\n",
    "plt.xscale('log')\n",
    "plt.show()"
   ]
  },
  {
   "cell_type": "markdown",
   "metadata": {},
   "source": [
    "# g-shape correlation in MassiveBlack"
   ]
  },
  {
   "cell_type": "code",
   "execution_count": 83,
   "metadata": {
    "collapsed": true
   },
   "outputs": [],
   "source": [
    "import h5py\n",
    "filepath = '/Users/duncan/Projects/shear_correlations/data/MB2_subfind_z_1.0.hdf5'\n",
    "f = h5py.File(filepath, 'r')"
   ]
  },
  {
   "cell_type": "code",
   "execution_count": 84,
   "metadata": {},
   "outputs": [],
   "source": [
    "from astropy.table import Table\n",
    "data = Table.read(filepath)\n",
    "#for name in data.dtype.names:\n",
    "#    print(name)"
   ]
  },
  {
   "cell_type": "code",
   "execution_count": 85,
   "metadata": {},
   "outputs": [
    {
     "name": "stdout",
     "output_type": "stream",
     "text": [
      "number of galaxies in sample: 62961\n"
     ]
    }
   ],
   "source": [
    "data['halos.m_star'] = data['halos.m_star']*10**10\n",
    "mask = (data['halos.m_star']>10**9.0)\n",
    "data = data[mask]\n",
    "print(\"number of galaxies in sample:\", np.sum(mask))\n",
    "\n",
    "data['halos.x'] = data['halos.x']/1000.0\n",
    "data['halos.y'] = data['halos.y']/1000.0\n",
    "data['halos.z'] = data['halos.z']/1000.0"
   ]
  },
  {
   "cell_type": "code",
   "execution_count": 138,
   "metadata": {},
   "outputs": [
    {
     "data": {
      "text/plain": [
       "(0.99999849264100005, 1.0000000063784245, 1.0000015484040001)"
      ]
     },
     "execution_count": 138,
     "metadata": {},
     "output_type": "execute_result"
    }
   ],
   "source": [
    "x = data['shapesStar.a2d_x']\n",
    "y = data['shapesStar.a2d_y']\n",
    "rsq = x**2 + y**2\n",
    "rsq.min(), rsq.mean(), rsq.max()"
   ]
  },
  {
   "cell_type": "code",
   "execution_count": 188,
   "metadata": {
    "collapsed": true
   },
   "outputs": [],
   "source": [
    "mask = np.random.random(len(data))<0.1\n",
    "data = data[mask]"
   ]
  },
  {
   "cell_type": "code",
   "execution_count": null,
   "metadata": {
    "collapsed": true
   },
   "outputs": [],
   "source": []
  },
  {
   "cell_type": "code",
   "execution_count": 189,
   "metadata": {},
   "outputs": [
    {
     "ename": "ValueError",
     "evalue": "operands could not be broadcast together with shapes (6242,) (62961,) ",
     "output_type": "error",
     "traceback": [
      "\u001b[0;31m---------------------------------------------------------------------------\u001b[0m",
      "\u001b[0;31mValueError\u001b[0m                                Traceback (most recent call last)",
      "\u001b[0;32m<ipython-input-189-1626cc58e06d>\u001b[0m in \u001b[0;36m<module>\u001b[0;34m()\u001b[0m\n\u001b[1;32m      5\u001b[0m \u001b[0;34m\u001b[0m\u001b[0m\n\u001b[1;32m      6\u001b[0m \u001b[0;31m#get shape orientation\u001b[0m\u001b[0;34m\u001b[0m\u001b[0;34m\u001b[0m\u001b[0m\n\u001b[0;32m----> 7\u001b[0;31m orientation = np.vstack((data['shapesStar.a2d_x'] + np.random.random(len(weights))*0.001,\n\u001b[0m\u001b[1;32m      8\u001b[0m                          data['shapesStar.a2d_y'] + np.random.random(len(weights))*0.001)).T\n\u001b[1;32m      9\u001b[0m \u001b[0morientation\u001b[0m \u001b[0;34m=\u001b[0m \u001b[0mnp\u001b[0m\u001b[0;34m.\u001b[0m\u001b[0mvstack\u001b[0m\u001b[0;34m(\u001b[0m\u001b[0;34m(\u001b[0m\u001b[0mdata\u001b[0m\u001b[0;34m[\u001b[0m\u001b[0;34m'shapesStar.a2d_x'\u001b[0m\u001b[0;34m]\u001b[0m\u001b[0;34m,\u001b[0m \u001b[0mdata\u001b[0m\u001b[0;34m[\u001b[0m\u001b[0;34m'shapesStar.a2d_y'\u001b[0m\u001b[0;34m]\u001b[0m\u001b[0;34m)\u001b[0m\u001b[0;34m)\u001b[0m\u001b[0;34m.\u001b[0m\u001b[0mT\u001b[0m\u001b[0;34m\u001b[0m\u001b[0m\n",
      "\u001b[0;31mValueError\u001b[0m: operands could not be broadcast together with shapes (6242,) (62961,) "
     ]
    }
   ],
   "source": [
    "#get galaxy coordinates in halotools format\n",
    "coords = np.vstack((data['halos.x'],\n",
    "                    data['halos.y'],\n",
    "                    data['halos.z'])).T\n",
    "\n",
    "#get shape orientation\n",
    "orientation = np.vstack((data['shapesStar.a2d_x'] + np.random.random(len(data))*0.001,\n",
    "                         data['shapesStar.a2d_y'] + np.random.random(len(data))*0.001)).T\n",
    "orientation = np.vstack((data['shapesStar.a2d_x'], data['shapesStar.a2d_y'])).T\n",
    "#orientation = np.tile((1, 0), coords.shape[0]).reshape((coords.shape[0], 2))\n",
    "\n",
    "#make random orientations\n",
    "random_orientation = np.random.random((len(data),2))\n",
    "\n",
    "#calculate \n",
    "q = data['shapesDM.q2d']\n",
    "e = (1.0-q)/(1.0+q**2)\n",
    "\n",
    "#normalize orientation vector\n",
    "orientation = orientation/np.sqrt(np.sum(orientation**2, axis=1)).reshape((len(orientation), -1))\n",
    "random_orientation = random_orientation/np.sqrt(np.sum(random_orientation**2, axis=1)).reshape((len(random_orientation), -1))\n",
    "\n",
    "#create normalized weights\n",
    "weights = np.zeros((len(data),3))\n",
    "weights[:,0] = orientation[:,0]\n",
    "weights[:,1] = orientation[:,1]\n",
    "weights[:,2] = e\n",
    "\n",
    "#random weights\n",
    "random_weights = np.zeros((len(data),3))\n",
    "random_weights[:,0] = random_orientation[:,0]\n",
    "random_weights[:,1] = random_orientation[:,1]\n",
    "random_weights[:,2] = e"
   ]
  },
  {
   "cell_type": "code",
   "execution_count": 168,
   "metadata": {
    "collapsed": true
   },
   "outputs": [],
   "source": [
    "from halotools.mock_observables.pair_counters import positional_marked_npairs_xy_z\n",
    "from halotools.mock_observables.pair_counters import npairs_xy_z, marked_npairs_xy_z"
   ]
  },
  {
   "cell_type": "code",
   "execution_count": 169,
   "metadata": {
    "collapsed": true
   },
   "outputs": [],
   "source": [
    "rp_bins = np.logspace(-1,1.4,20)\n",
    "rp_bin_centers = (rp_bins[:-1]+rp_bins[1:])/2.0\n",
    "\n",
    "pi_bins = np.array([0.0,30.0])"
   ]
  },
  {
   "cell_type": "code",
   "execution_count": 170,
   "metadata": {
    "collapsed": true
   },
   "outputs": [],
   "source": [
    "#calculate unweighted counts\n",
    "counts = npairs_xy_z(coords, coords, rp_bins, pi_bins,\n",
    "                     period=100.0, num_threads=4)\n",
    "counts = np.diff(np.diff(counts,axis=1),axis=0)"
   ]
  },
  {
   "cell_type": "code",
   "execution_count": 185,
   "metadata": {},
   "outputs": [],
   "source": [
    "result_1 = positional_marked_npairs_xy_z(coords, coords, rp_bins, pi_bins,\n",
    "                                         period=100.0, weights1=weights, weights2=weights,\n",
    "                                         weight_func_id=1, num_threads=4)\n",
    "counts_1 = result_1[0] \n",
    "counts_1 = np.diff(np.diff(result_1[0], axis=1),axis=0)\n",
    "weighted_counts_1 = np.diff(np.diff(result_1[1], axis=1),axis=0)"
   ]
  },
  {
   "cell_type": "code",
   "execution_count": 186,
   "metadata": {},
   "outputs": [
    {
     "data": {
      "text/plain": [
       "array([[  5.18179553e+00,   3.57969099e+03],\n",
       "       [  5.11889256e+00,   4.52089764e+03],\n",
       "       [  2.96384577e+00,   5.52125132e+03],\n",
       "       [  3.09484906e+00,   7.26354533e+03],\n",
       "       [ -6.47590815e-02,   9.41850691e+03],\n",
       "       [  2.78154776e+00,   1.22335523e+04],\n",
       "       [  5.14107288e+00,   1.62457904e+04],\n",
       "       [  6.37096726e+00,   2.12013405e+04],\n",
       "       [  4.85946323e+00,   2.75712011e+04],\n",
       "       [  5.54724593e+00,   3.48090015e+04],\n",
       "       [  4.89053115e+00,   4.66381631e+04],\n",
       "       [  2.95518846e+00,   6.33646114e+04],\n",
       "       [  3.19869792e+00,   8.46328850e+04],\n",
       "       [  3.74381087e+00,   1.21624067e+05],\n",
       "       [  6.70709149e+00,   1.73654780e+05],\n",
       "       [  3.15269785e+00,   2.53196589e+05],\n",
       "       [  1.13789257e+00,   3.58326525e+05],\n",
       "       [ -5.54094106e+00,   5.05202093e+05],\n",
       "       [ -8.66923514e+00,   7.57400919e+05],\n",
       "       [ -4.71055653e+00,              nan]])"
      ]
     },
     "execution_count": 186,
     "metadata": {},
     "output_type": "execute_result"
    }
   ],
   "source": [
    "result_1[1]"
   ]
  },
  {
   "cell_type": "code",
   "execution_count": 146,
   "metadata": {},
   "outputs": [
    {
     "data": {
      "text/plain": [
       "3"
      ]
     },
     "execution_count": 146,
     "metadata": {},
     "output_type": "execute_result"
    }
   ],
   "source": [
    "np.count_nonzero(np.isnan(result_1[1]))"
   ]
  },
  {
   "cell_type": "code",
   "execution_count": 179,
   "metadata": {
    "collapsed": true
   },
   "outputs": [],
   "source": [
    "result_2 = positional_marked_npairs_xy_z(coords, coords, rp_bins, pi_bins,\n",
    "                                         period=100.0, weights1=random_weights, weights2=random_weights,\n",
    "                                         weight_func_id=1, num_threads=4)\n",
    "counts_2 = result_2[0] \n",
    "counts_2 = np.diff(np.diff(result_2[0], axis=1),axis=0)\n",
    "weighted_counts_2 = np.diff(np.diff(result_2[1], axis=1),axis=0)"
   ]
  },
  {
   "cell_type": "code",
   "execution_count": 165,
   "metadata": {},
   "outputs": [
    {
     "data": {
      "text/plain": [
       "array([[ -6.19732932e+00,  -1.62967361e+04],\n",
       "       [ -6.21832112e+00,  -2.46839774e+04],\n",
       "       [ -9.68271297e+00,  -3.73316876e+04],\n",
       "       [ -1.28327483e+01,  -5.59551660e+04],\n",
       "       [ -1.54532026e+01,  -8.38487780e+04],\n",
       "       [ -1.77947374e+01,  -1.25904415e+05],\n",
       "       [ -2.23523027e+01,  -1.87927114e+05],\n",
       "       [ -2.31368784e+01,  -2.80465091e+05],\n",
       "       [ -2.44826287e+01,  -4.19397752e+05],\n",
       "       [ -2.69798635e+01,  -6.34631395e+05],\n",
       "       [ -2.79341476e+01,  -9.69952832e+05],\n",
       "       [ -2.94581690e+01,  -1.51023837e+06],\n",
       "       [ -3.23659313e+01,  -2.38235830e+06],\n",
       "       [ -3.46110497e+01,  -3.79605022e+06],\n",
       "       [ -4.51535973e+01,  -6.09585761e+06],\n",
       "       [ -4.88577630e+01,  -9.86910966e+06],\n",
       "       [ -5.41398204e+01,  -1.60010507e+07],\n",
       "       [ -7.87680843e+01,  -2.59668527e+07],\n",
       "       [ -1.07450229e+02,  -4.24406620e+07],\n",
       "       [ -1.37305212e+02,  -6.96869116e+07]])"
      ]
     },
     "execution_count": 165,
     "metadata": {},
     "output_type": "execute_result"
    }
   ],
   "source": [
    "result_2[1]"
   ]
  },
  {
   "cell_type": "code",
   "execution_count": 187,
   "metadata": {},
   "outputs": [
    {
     "data": {
      "image/png": "[encoded data removed]",
      "text/plain": [
       "<matplotlib.figure.Figure at 0x114578650>"
      ]
     },
     "metadata": {},
     "output_type": "display_data"
    }
   ],
   "source": [
    "plt.figure()\n",
    "plt.plot(rp_bin_centers[:-1], weighted_counts_1[:-1]/counts[:-1], '-')\n",
    "plt.plot(rp_bin_centers, weighted_counts_2/counts, '--')\n",
    "plt.xscale('log')\n",
    "plt.xlim([0.1,20])\n",
    "# plt.ylim([-0.4,4])\n",
    "plt.show()"
   ]
  },
  {
   "cell_type": "code",
   "execution_count": 133,
   "metadata": {},
   "outputs": [
    {
     "data": {
      "text/plain": [
       "array([[  2.76369630e+00,  -1.33718759e+02],\n",
       "       [  2.58653307e+00,  -1.16489727e+02],\n",
       "       [  1.46150950e+00,  -2.05839214e+02],\n",
       "       [  3.07250916e+00,  -3.37298990e+02],\n",
       "       [  4.47407214e+00,   8.83346074e+01],\n",
       "       [  5.02566364e+00,   4.88588594e+02],\n",
       "       [  3.88985817e+00,   1.45074606e+03],\n",
       "       [ -4.28997347e-02,   2.51327331e+03],\n",
       "       [  2.99729259e+00,   2.89994675e+03],\n",
       "       [  2.00227776e+00,   3.23136203e+03],\n",
       "       [ -6.51382078e-01,   3.04994258e+03],\n",
       "       [ -1.90444288e-01,   1.86897582e+03],\n",
       "       [ -3.75460049e-01,   2.70458897e+03],\n",
       "       [ -2.04490550e+00,   2.96271550e+03],\n",
       "       [  7.89223444e-01,   3.77437528e+03],\n",
       "       [ -1.57363005e+00,  -4.44789714e+03],\n",
       "       [ -6.71126806e+00,  -2.03159903e+04],\n",
       "       [ -1.41950345e+01,              nan],\n",
       "       [ -1.74250839e+01,              nan],\n",
       "       [ -1.92051361e+01,              nan]])"
      ]
     },
     "execution_count": 133,
     "metadata": {},
     "output_type": "execute_result"
    }
   ],
   "source": [
    "result_1[1]"
   ]
  },
  {
   "cell_type": "code",
   "execution_count": 134,
   "metadata": {},
   "outputs": [
    {
     "data": {
      "text/plain": [
       "array([[ -5.31707147e-02,   2.00350039e+01],\n",
       "       [ -1.38842588e-01,   9.42429810e+00],\n",
       "       [  7.95962250e-01,  -1.33081303e+02],\n",
       "       [ -1.28974880e+00,  -1.64122687e+02],\n",
       "       [ -7.16736020e-01,  -1.62584109e+02],\n",
       "       [  1.72667360e-01,  -3.12237945e+02],\n",
       "       [  5.76147106e-01,  -8.77809912e+01],\n",
       "       [  1.21859747e+00,  -5.00966602e+02],\n",
       "       [  1.99832819e+00,  -8.04920507e+02],\n",
       "       [  4.27115649e+00,  -7.18700942e+02],\n",
       "       [  5.43132138e+00,   2.54557277e+02],\n",
       "       [  5.38517160e+00,   1.18037512e+03],\n",
       "       [  4.40843912e+00,   2.08673953e+03],\n",
       "       [  3.68781373e+00,  -8.51799974e+02],\n",
       "       [  6.47543157e+00,  -3.96635142e+02],\n",
       "       [  8.48526578e+00,   6.64932363e+03],\n",
       "       [  7.58305622e+00,   7.81608280e+03],\n",
       "       [  1.03293435e+01,  -1.05649736e+04],\n",
       "       [  1.19126486e+01,  -2.21349790e+04],\n",
       "       [  1.27002234e+01,  -7.09579981e+03]])"
      ]
     },
     "execution_count": 134,
     "metadata": {},
     "output_type": "execute_result"
    }
   ],
   "source": [
    "result_2[1]"
   ]
  },
  {
   "cell_type": "code",
   "execution_count": 135,
   "metadata": {},
   "outputs": [
    {
     "data": {
      "text/plain": [
       "array([[ 0.95809897, -0.28643736,  0.17776483],\n",
       "       [ 0.65462057, -0.75595761,  0.06528997],\n",
       "       [ 0.79659349,  0.60451536,  0.14516953],\n",
       "       ..., \n",
       "       [ 0.98990385, -0.14174047,  0.07978004],\n",
       "       [-0.52266345, -0.8525391 ,  0.08500452],\n",
       "       [-0.52890018, -0.84868404,  0.05958729]])"
      ]
     },
     "execution_count": 135,
     "metadata": {},
     "output_type": "execute_result"
    }
   ],
   "source": [
    "weights"
   ]
  },
  {
   "cell_type": "code",
   "execution_count": 136,
   "metadata": {},
   "outputs": [
    {
     "data": {
      "text/plain": [
       "array([[ 0.76092472,  0.20097516,  0.17776483],\n",
       "       [ 0.41916641,  0.82096511,  0.06528997],\n",
       "       [ 0.8208491 ,  0.55940426,  0.14516953],\n",
       "       ..., \n",
       "       [ 0.21146247,  0.71786552,  0.07978004],\n",
       "       [ 0.55471062,  0.56834021,  0.08500452],\n",
       "       [ 0.32298491,  0.92215208,  0.05958729]])"
      ]
     },
     "execution_count": 136,
     "metadata": {},
     "output_type": "execute_result"
    }
   ],
   "source": [
    "random_weights"
   ]
  },
  {
   "cell_type": "code",
   "execution_count": null,
   "metadata": {
    "collapsed": true
   },
   "outputs": [],
   "source": []
  }
 ],
 "metadata": {
  "kernelspec": {
   "display_name": "Python 2",
   "language": "python",
   "name": "python2"
  },
  "language_info": {
   "codemirror_mode": {
    "name": "ipython",
    "version": 2
   },
   "file_extension": ".py",
   "mimetype": "text/x-python",
   "name": "python",
   "nbconvert_exporter": "python",
   "pygments_lexer": "ipython2",
   "version": "2.7.14"
  }
 },
 "nbformat": 4,
 "nbformat_minor": 2
}
