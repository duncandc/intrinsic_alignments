{
 "cells": [
  {
   "cell_type": "code",
   "execution_count": 1,
   "metadata": {
    "collapsed": true
   },
   "outputs": [],
   "source": [
    "import sys\n",
    "sys.path.append(\"../..\")\n",
    "from project_settings import PROJECT_DIRECTORY\n",
    "\n",
    "from __future__ import print_function, division\n",
    "import numpy as np\n",
    "import matplotlib.pyplot as plt\n",
    "%matplotlib inline"
   ]
  },
  {
   "cell_type": "markdown",
   "metadata": {},
   "source": [
    "## Load MassiveBlack Catalog"
   ]
  },
  {
   "cell_type": "code",
   "execution_count": 54,
   "metadata": {
    "collapsed": true
   },
   "outputs": [],
   "source": [
    "# read in halo catalog\n",
    "import h5py\n",
    "filepath = PROJECT_DIRECTORY+'shape_correlations/data/MB2_subfind_z_1.0.hdf5'\n",
    "f = h5py.File(filepath, 'r')"
   ]
  },
  {
   "cell_type": "code",
   "execution_count": 55,
   "metadata": {},
   "outputs": [
    {
     "name": "stdout",
     "output_type": "stream",
     "text": [
      "halos.subfindId\n",
      "halos.central\n",
      "halos.mass\n",
      "halos.vdisp\n",
      "halos.vcirc\n",
      "halos.rcirc\n",
      "halos.m_gas\n",
      "halos.m_dm\n",
      "halos.m_star\n",
      "halos.m_bh\n",
      "halos.x\n",
      "halos.y\n",
      "halos.z\n",
      "halos.vx\n",
      "halos.vy\n",
      "halos.vz\n",
      "groups.groupId\n",
      "groups.subfindId\n",
      "groups.mass\n",
      "groups.m_gas\n",
      "groups.m_dm\n",
      "groups.m_star\n",
      "groups.m_bh\n",
      "groups.x\n",
      "groups.y\n",
      "groups.z\n",
      "groups.vx\n",
      "groups.vy\n",
      "groups.vz\n",
      "prop.sfr\n",
      "prop.btr\n",
      "prop.SDSS_g\n",
      "prop.SDSS_i\n",
      "prop.SDSS_r\n",
      "prop.SDSS_u\n",
      "prop.SDSS_z\n",
      "shapesDM.q3d\n",
      "shapesDM.s3d\n",
      "shapesDM.q2d\n",
      "shapesDM.a3d_x\n",
      "shapesDM.a3d_y\n",
      "shapesDM.a3d_z\n",
      "shapesDM.b3d_x\n",
      "shapesDM.b3d_y\n",
      "shapesDM.b3d_z\n",
      "shapesDM.c3d_x\n",
      "shapesDM.c3d_y\n",
      "shapesDM.c3d_z\n",
      "shapesDM.a2d_x\n",
      "shapesDM.a2d_y\n",
      "shapesDM.b2d_x\n",
      "shapesDM.b2d_y\n",
      "shapesStar.q3d\n",
      "shapesStar.s3d\n",
      "shapesStar.q2d\n",
      "shapesStar.a3d_x\n",
      "shapesStar.a3d_y\n",
      "shapesStar.a3d_z\n",
      "shapesStar.b3d_x\n",
      "shapesStar.b3d_y\n",
      "shapesStar.b3d_z\n",
      "shapesStar.c3d_x\n",
      "shapesStar.c3d_y\n",
      "shapesStar.c3d_z\n",
      "shapesStar.a2d_x\n",
      "shapesStar.a2d_y\n",
      "shapesStar.b2d_x\n",
      "shapesStar.b2d_y\n",
      "tid500.a_x\n",
      "tid500.a_y\n",
      "tid500.a_z\n",
      "tid500.b_x\n",
      "tid500.b_y\n",
      "tid500.b_z\n",
      "tid500.c_x\n",
      "tid500.c_y\n",
      "tid500.c_z\n",
      "tid500.eigv1\n",
      "tid500.eigv2\n",
      "tid500.eigv3\n",
      "tid1000.a_x\n",
      "tid1000.a_y\n",
      "tid1000.a_z\n",
      "tid1000.b_x\n",
      "tid1000.b_y\n",
      "tid1000.b_z\n",
      "tid1000.c_x\n",
      "tid1000.c_y\n",
      "tid1000.c_z\n",
      "tid1000.eigv1\n",
      "tid1000.eigv2\n",
      "tid1000.eigv3\n",
      "tid10000.a_x\n",
      "tid10000.a_y\n",
      "tid10000.a_z\n",
      "tid10000.b_x\n",
      "tid10000.b_y\n",
      "tid10000.b_z\n",
      "tid10000.c_x\n",
      "tid10000.c_y\n",
      "tid10000.c_z\n",
      "tid10000.eigv1\n",
      "tid10000.eigv2\n",
      "tid10000.eigv3\n"
     ]
    }
   ],
   "source": [
    "# get table of halo properties\n",
    "from astropy.table import Table\n",
    "data = Table.read(filepath, path='catalog')\n",
    "for name in data.dtype.names:\n",
    "    print(name)\n",
    "\n",
    "# convert some properties to standard units\n",
    "data['halos.m_star'] = data['halos.m_star']*10**10\n",
    "data['halos.m_dm'] = data['halos.m_dm'] * 10.0**10.0\n",
    "data['halos.x'] = data['halos.x']/1000.0\n",
    "data['halos.y'] = data['halos.y']/1000.0\n",
    "data['halos.z'] = data['halos.z']/1000.0\n",
    "\n",
    "# get galaxy/halo coordinates in halotools format\n",
    "coords = np.vstack((data['halos.x'],\n",
    "                    data['halos.y'],\n",
    "                    data['halos.z'])).T"
   ]
  },
  {
   "cell_type": "markdown",
   "metadata": {},
   "source": [
    "## Load Bolshoi Catalog"
   ]
  },
  {
   "cell_type": "code",
   "execution_count": 95,
   "metadata": {},
   "outputs": [
    {
     "name": "stdout",
     "output_type": "stream",
     "text": [
      "halo_vmax_firstacc\n",
      "halo_dmvir_dt_tdyn\n",
      "halo_macc\n",
      "halo_scale_factor\n",
      "halo_vmax_mpeak\n",
      "halo_m_pe_behroozi\n",
      "halo_xoff\n",
      "halo_spin\n",
      "halo_scale_factor_firstacc\n",
      "halo_c_to_a\n",
      "halo_mvir_firstacc\n",
      "halo_scale_factor_last_mm\n",
      "halo_scale_factor_mpeak\n",
      "halo_pid\n",
      "halo_m500c\n",
      "halo_id\n",
      "halo_halfmass_scale_factor\n",
      "halo_upid\n",
      "halo_t_by_u\n",
      "halo_rvir\n",
      "halo_vpeak\n",
      "halo_dmvir_dt_100myr\n",
      "halo_mpeak\n",
      "halo_m_pe_diemer\n",
      "halo_jx\n",
      "halo_jy\n",
      "halo_jz\n",
      "halo_m2500c\n",
      "halo_mvir\n",
      "halo_voff\n",
      "halo_axisA_z\n",
      "halo_axisA_x\n",
      "halo_axisA_y\n",
      "halo_y\n",
      "halo_b_to_a\n",
      "halo_x\n",
      "halo_z\n",
      "halo_m200b\n",
      "halo_vacc\n",
      "halo_scale_factor_lastacc\n",
      "halo_vmax\n",
      "halo_m200c\n",
      "halo_vx\n",
      "halo_vy\n",
      "halo_vz\n",
      "halo_dmvir_dt_inst\n",
      "halo_rs\n",
      "halo_nfw_conc\n",
      "halo_hostid\n",
      "halo_mvir_host_halo\n"
     ]
    }
   ],
   "source": [
    "from halotools.sim_manager import CachedHaloCatalog\n",
    "halocat = CachedHaloCatalog(simname = 'bolshoi', redshift = 0.0)\n",
    "\n",
    "for name in halocat.halo_table.keys():\n",
    "    print(name)\n",
    "\n",
    "coords = np.vstack((halocat.halo_table['halo_x'],\n",
    "                    halocat.halo_table['halo_y'],\n",
    "                    halocat.halo_table['halo_z'])).T"
   ]
  },
  {
   "cell_type": "markdown",
   "metadata": {},
   "source": [
    "## EE correlationf functions, $\\eta(r)$"
   ]
  },
  {
   "cell_type": "code",
   "execution_count": 96,
   "metadata": {
    "collapsed": true
   },
   "outputs": [],
   "source": [
    "# get dark matter halo shape orientation\n",
    "dm_orientation = np.vstack((data['shapesDM.a3d_x'],\n",
    "                            data['shapesDM.a3d_y'],\n",
    "                            data['shapesDM.a3d_z'])).T\n",
    "dm_orientation = np.vstack((halocat.halo_table['halo_axisA_x'],\n",
    "                            halocat.halo_table['halo_axisA_y'],\n",
    "                            halocat.halo_table['halo_axisA_z'])).T"
   ]
  },
  {
   "cell_type": "code",
   "execution_count": 57,
   "metadata": {
    "collapsed": true
   },
   "outputs": [],
   "source": [
    "# get dark matter halo shape orientation\n",
    "gal_orientation = np.vstack((data['shapesStar.a3d_x'], data['shapesStar.a3d_y'], data['shapesStar.a3d_z'])).T"
   ]
  },
  {
   "cell_type": "code",
   "execution_count": 97,
   "metadata": {},
   "outputs": [],
   "source": [
    "from halotools.mock_observables import eta\n",
    "\n",
    "# define bins\n",
    "rbins = np.logspace(0.0, 1.5, 10)\n",
    "rbin_centers = (rbins[:-1]+rbins[1:])/2.0"
   ]
  },
  {
   "cell_type": "code",
   "execution_count": 102,
   "metadata": {},
   "outputs": [
    {
     "name": "stdout",
     "output_type": "stream",
     "text": [
      "number of galaxies:  56258\n"
     ]
    }
   ],
   "source": [
    "# define selection\n",
    "dm_mask = (data['halos.m_dm']>10**12.0)\n",
    "dm_mask = (halocat.halo_table['halo_mvir']>10**12.0) & (halocat.halo_table['halo_upid']==-1)\n",
    "print(\"number of galaxies: \", np.sum(dm_mask))\n",
    "\n",
    "dm_result = eta(coords[dm_mask], dm_orientation[dm_mask],\n",
    "                coords[dm_mask], dm_orientation[dm_mask],\n",
    "                rbins, period=100.0, num_threads=1)"
   ]
  },
  {
   "cell_type": "code",
   "execution_count": 74,
   "metadata": {},
   "outputs": [
    {
     "name": "stdout",
     "output_type": "stream",
     "text": [
      "number of galaxies:  62961\n"
     ]
    }
   ],
   "source": [
    "# define selection\n",
    "gal_mask = (data['halos.m_star']>10**9.)\n",
    "print(\"number of galaxies: \", np.sum(gal_mask))\n",
    "\n",
    "gal_result = eta(coords[gal_mask], gal_orientation[gal_mask],\n",
    "                 coords[gal_mask], gal_orientation[gal_mask],\n",
    "                 rbins, period=100.0, num_threads=1)"
   ]
  },
  {
   "cell_type": "code",
   "execution_count": 103,
   "metadata": {},
   "outputs": [
    {
     "data": {
      "image/png": "[encoded data removed]",
      "text/plain": [
       "<matplotlib.figure.Figure at 0x11f92e350>"
      ]
     },
     "metadata": {},
     "output_type": "display_data"
    }
   ],
   "source": [
    "fig  = plt.figure(figsize=(3.3,3.3))\n",
    "fig.subplots_adjust(left=0.2, right=0.9, bottom=0.2, top=0.9)\n",
    "l1, = plt.plot(rbin_centers, dm_result, 'o')\n",
    "#l2, = plt.plot(rbin_centers, gal_result, 'x')\n",
    "plt.xscale('log')\n",
    "plt.yscale('log')\n",
    "plt.ylim([-0.01,0.05])\n",
    "plt.xlabel(r'$r ~[h^{-1}\\rm Mpc]$')\n",
    "plt.ylabel(r'$\\eta(r)$')\n",
    "plt.show()"
   ]
  },
  {
   "cell_type": "code",
   "execution_count": 76,
   "metadata": {},
   "outputs": [
    {
     "name": "stdout",
     "output_type": "stream",
     "text": [
      "[  3.55775805e-03   5.23515646e-05  -2.42703133e-04   1.12158004e-03\n",
      "   1.56602392e-03   8.84041955e-04   7.27797153e-04   1.45529877e-04\n",
      "   1.62745393e-04]\n",
      "[ 0.00146592 -0.00151155  0.00038324  0.00019546  0.00021456  0.00043678\n",
      "  0.00010026  0.00018741 -0.00011009]\n"
     ]
    }
   ],
   "source": [
    "print(dm_result)\n",
    "print(gal_result)"
   ]
  },
  {
   "cell_type": "markdown",
   "metadata": {},
   "source": [
    "## GI correlation function"
   ]
  },
  {
   "cell_type": "code",
   "execution_count": 4,
   "metadata": {},
   "outputs": [
    {
     "name": "stdout",
     "output_type": "stream",
     "text": [
      "number of galaxies in sample: 62961\n"
     ]
    }
   ],
   "source": [
    "# remove low mass galaxies\n",
    "mask = (data['halos.m_star']>10**9.0)\n",
    "data = data[mask]\n",
    "print(\"number of galaxies in sample:\", np.sum(mask))"
   ]
  },
  {
   "cell_type": "code",
   "execution_count": 5,
   "metadata": {
    "collapsed": true
   },
   "outputs": [],
   "source": [
    "# further remove galaxies randomly get get test data set\n",
    "mask = np.random.random(len(data))<0.75\n",
    "data = data[mask]"
   ]
  },
  {
   "cell_type": "code",
   "execution_count": 6,
   "metadata": {
    "collapsed": true
   },
   "outputs": [],
   "source": [
    "# get shape orientation\n",
    "orientation = np.vstack((data['shapesStar.a2d_x'], data['shapesStar.a2d_y'])).T\n",
    "\n",
    "# make random orientations\n",
    "random_orientation = np.random.random((len(data),2))\n",
    "\n",
    "# calculate ellipticity \n",
    "q = data['shapesDM.q2d']\n",
    "e = (1.0-q)/(1.0+q**2)\n",
    "\n",
    "# normalize orientation vector\n",
    "orientation = orientation/np.sqrt(np.sum(orientation**2, axis=1)).reshape((len(orientation), -1))\n",
    "random_orientation = random_orientation/np.sqrt(np.sum(random_orientation**2, axis=1)).reshape((len(random_orientation), -1))\n",
    "\n",
    "# create normalized weights\n",
    "weights = np.zeros((len(data),3))\n",
    "weights[:,0] = orientation[:,0]\n",
    "weights[:,1] = orientation[:,1]\n",
    "weights[:,2] = e\n",
    "\n",
    "# random weights\n",
    "random_weights = np.zeros((len(data),3))\n",
    "random_weights[:,0] = random_orientation[:,0]\n",
    "random_weights[:,1] = random_orientation[:,1]\n",
    "random_weights[:,2] = e"
   ]
  },
  {
   "cell_type": "code",
   "execution_count": 7,
   "metadata": {
    "collapsed": true
   },
   "outputs": [],
   "source": [
    "# load pair counting functions\n",
    "from halotools.mock_observables.pair_counters import positional_marked_npairs_xy_z\n",
    "from halotools.mock_observables.pair_counters import npairs_xy_z, marked_npairs_xy_z"
   ]
  },
  {
   "cell_type": "code",
   "execution_count": 8,
   "metadata": {
    "collapsed": true
   },
   "outputs": [],
   "source": [
    "# define bins\n",
    "rp_bins = np.logspace(-1.0, 1.1, 20)\n",
    "rp_bin_centers = (rp_bins[:-1]+rp_bins[1:])/2.0\n",
    "pi_bins = np.array([0.0, 30.0])"
   ]
  },
  {
   "cell_type": "code",
   "execution_count": 9,
   "metadata": {
    "collapsed": true
   },
   "outputs": [],
   "source": [
    "# calculate unweighted counts\n",
    "counts = npairs_xy_z(coords, coords, rp_bins, pi_bins,\n",
    "                     period=100.0, num_threads=4)\n",
    "counts = np.diff(np.diff(counts,axis=1),axis=0)"
   ]
  },
  {
   "cell_type": "code",
   "execution_count": 10,
   "metadata": {
    "collapsed": true
   },
   "outputs": [],
   "source": [
    "# calculate weighted counts\n",
    "result_1 = positional_marked_npairs_xy_z(coords, coords, rp_bins, pi_bins,\n",
    "                                         period=100.0, weights1=weights, weights2=weights,\n",
    "                                         weight_func_id=1, num_threads=4)\n",
    "counts_1 = result_1[0] \n",
    "counts_1 = np.diff(np.diff(result_1[0], axis=1),axis=0)\n",
    "weighted_counts_1 = np.diff(np.diff(result_1[1], axis=1),axis=0)"
   ]
  },
  {
   "cell_type": "code",
   "execution_count": 11,
   "metadata": {
    "collapsed": true
   },
   "outputs": [],
   "source": [
    "# calculate weighted counts\n",
    "result_2 = positional_marked_npairs_xy_z(coords, coords, rp_bins, pi_bins,\n",
    "                                         period=100.0, weights1=random_weights, weights2=random_weights,\n",
    "                                         weight_func_id=1, num_threads=4)\n",
    "counts_2 = result_2[0] \n",
    "counts_2 = np.diff(np.diff(result_2[0], axis=1),axis=0)\n",
    "weighted_counts_2 = np.diff(np.diff(result_2[1], axis=1),axis=0)"
   ]
  },
  {
   "cell_type": "code",
   "execution_count": 12,
   "metadata": {},
   "outputs": [
    {
     "data": {
      "image/png": "[encoded data removed]",
      "text/plain": [
       "<matplotlib.figure.Figure at 0x114e26b10>"
      ]
     },
     "metadata": {},
     "output_type": "display_data"
    }
   ],
   "source": [
    "fig  = plt.figure(figsize=(3.3,3.3))\n",
    "fig.subplots_adjust(left=0.2, right=0.9, bottom=0.2, top=0.9)\n",
    "l1, = plt.plot(rp_bin_centers[:-1], weighted_counts_1[:-1]/counts[:-1], '-')\n",
    "plt.xscale('log')\n",
    "plt.yscale('log')\n",
    "plt.xlim([0.1,20])\n",
    "plt.xlabel(r'$r_p~[h^{-1}\\rm Mpc]$')\n",
    "plt.ylabel(r'$w_{g+}$')\n",
    "plt.ylim([0.001,0.02])\n",
    "plt.legend([l1],['MassiveBlack II'], loc='upper right', fontsize=10, frameon=False)\n",
    "plt.show()\n",
    "\n",
    "fig.savefig(PROJECT_DIRECTORY+'shape_correlations/notebooks/figures/'+'galaxy_shape_correlation.pdf', dpi=250)"
   ]
  },
  {
   "cell_type": "code",
   "execution_count": 17,
   "metadata": {},
   "outputs": [
    {
     "data": {
      "text/plain": [
       "array([[  1.05839425e+01],\n",
       "       [ -1.37755050e+01],\n",
       "       [  1.33541173e+01],\n",
       "       [  2.62172247e+01],\n",
       "       [ -2.57882312e+01],\n",
       "       [  8.17739159e+01],\n",
       "       [  2.44781262e+01],\n",
       "       [  1.21391338e+02],\n",
       "       [  2.69577132e+02],\n",
       "       [  3.77696710e+02],\n",
       "       [  8.91145015e+01],\n",
       "       [ -2.92019937e+02],\n",
       "       [ -5.54940129e+02],\n",
       "       [  9.15904192e+02],\n",
       "       [  1.07810179e+03],\n",
       "       [  2.01502249e+03],\n",
       "       [  9.71062828e+03],\n",
       "       [  2.78999014e+04],\n",
       "       [  3.11168914e+04]])"
      ]
     },
     "execution_count": 17,
     "metadata": {},
     "output_type": "execute_result"
    }
   ],
   "source": [
    "weighted_counts_2"
   ]
  },
  {
   "cell_type": "code",
   "execution_count": 14,
   "metadata": {
    "collapsed": true
   },
   "outputs": [],
   "source": [
    "# calculate weighted counts\n",
    "result_1 = positional_marked_npairs_xy_z(coords, coords, rp_bins, pi_bins,\n",
    "                                         period=100.0, weights1=weights, weights2=weights,\n",
    "                                         weight_func_id=2, num_threads=4)\n",
    "counts_1 = result_1[0] \n",
    "counts_1 = np.diff(np.diff(result_1[0], axis=1),axis=0)\n",
    "weighted_counts_1 = np.diff(np.diff(result_1[1], axis=1),axis=0)"
   ]
  },
  {
   "cell_type": "code",
   "execution_count": 15,
   "metadata": {
    "collapsed": true
   },
   "outputs": [],
   "source": [
    "# calculate weighted counts\n",
    "result_2 = positional_marked_npairs_xy_z(coords, coords, rp_bins, pi_bins,\n",
    "                                         period=100.0, weights1=random_weights, weights2=random_weights,\n",
    "                                         weight_func_id=2, num_threads=4)\n",
    "counts_2 = result_2[0] \n",
    "counts_2 = np.diff(np.diff(result_2[0], axis=1),axis=0)\n",
    "weighted_counts_2 = np.diff(np.diff(result_2[1], axis=1),axis=0)"
   ]
  },
  {
   "cell_type": "code",
   "execution_count": 22,
   "metadata": {},
   "outputs": [
    {
     "data": {
      "image/png": "[encoded data removed]",
      "text/plain": [
       "<matplotlib.figure.Figure at 0x20be7be50>"
      ]
     },
     "metadata": {},
     "output_type": "display_data"
    }
   ],
   "source": [
    "fig  = plt.figure(figsize=(3.3,3.3))\n",
    "fig.subplots_adjust(left=0.2, right=0.9, bottom=0.2, top=0.9)\n",
    "l1, = plt.plot(rp_bin_centers[:-1], weighted_counts_1[:-1]/counts[:-1], '-')\n",
    "l1, = plt.plot(rp_bin_centers[:-1], weighted_counts_2[:-1]/counts[:-1], '--')\n",
    "plt.xscale('log')\n",
    "plt.xlim([0.1,20])\n",
    "plt.xlabel(r'$r_p~[h^{-1}\\rm Mpc]$')\n",
    "plt.ylabel(r'$w_{g-}$')\n",
    "plt.ylim([-0.01, 0.01])\n",
    "plt.legend([l1],['MassiveBlack II'], loc='upper right', fontsize=10, frameon=False)\n",
    "plt.show()\n",
    "\n",
    "fig.savefig(PROJECT_DIRECTORY+'shape_correlations/notebooks/figures/'+'galaxy_shape_correlation.pdf', dpi=250)"
   ]
  },
  {
   "cell_type": "code",
   "execution_count": 9,
   "metadata": {
    "collapsed": true
   },
   "outputs": [],
   "source": [
    "from halotools.mock_observables import w_gplus"
   ]
  },
  {
   "cell_type": "code",
   "execution_count": 14,
   "metadata": {
    "collapsed": true
   },
   "outputs": [],
   "source": [
    "result_1 = w_gplus(coords, orientation, e, coords, rp_bins, 30.0,\n",
    "                 period=100.0, num_threads=4, estimator='Landy-Szalay')\n",
    "result_2 = w_gplus(coords, orientation, e, coords, rp_bins, 30.0,\n",
    "                 period=100.0, num_threads=4, estimator='Natural')"
   ]
  },
  {
   "cell_type": "code",
   "execution_count": 16,
   "metadata": {},
   "outputs": [
    {
     "data": {
      "image/png": "[encoded data removed]",
      "text/plain": [
       "<matplotlib.figure.Figure at 0x11424ba50>"
      ]
     },
     "metadata": {},
     "output_type": "display_data"
    }
   ],
   "source": [
    "fig  = plt.figure(figsize=(3.3,3.3))\n",
    "fig.subplots_adjust(left=0.2, right=0.9, bottom=0.2, top=0.9)\n",
    "l1, = plt.plot(rp_bin_centers, result_1, '-')\n",
    "l2, = plt.plot(rp_bin_centers, result_2, '--')\n",
    "plt.yscale('log')\n",
    "plt.xscale('log')\n",
    "plt.show()"
   ]
  },
  {
   "cell_type": "code",
   "execution_count": 13,
   "metadata": {},
   "outputs": [
    {
     "data": {
      "text/plain": [
       "array([[  3.68798381e-02,   5.23755311e-02,   6.61174752e-02,\n",
       "          9.38227911e-02,   1.05959877e-01,   1.49104000e-01,\n",
       "          1.83690848e-01,   2.15035036e-01,   2.49273712e-01,\n",
       "          3.84814413e-01,   5.70421511e-01,   9.46624210e-01,\n",
       "          1.15697261e+00,   1.72183833e+00,   2.36203167e+00,\n",
       "          3.67560928e+00,   5.18195625e+00,   7.71024049e+00,\n",
       "          1.37030501e+01],\n",
       "       [  2.21685034e-02,   3.14829782e-02,   3.97432729e-02,\n",
       "          5.63969629e-02,   6.36925759e-02,   8.96265467e-02,\n",
       "          1.10416732e-01,   1.29257751e-01,   1.49838649e-01,\n",
       "          2.31312285e-01,   3.42880876e-01,   5.69016651e-01,\n",
       "          6.95457260e-01,   1.03499855e+00,   1.41981933e+00,\n",
       "          2.20941200e+00,   3.11487850e+00,   4.63463239e+00,\n",
       "          8.23691556e+00],\n",
       "       [  1.33255070e-02,   1.89244461e-02,   2.38897166e-02,\n",
       "          3.39002644e-02,   3.82856638e-02,   5.38745967e-02,\n",
       "          6.63715954e-02,   7.76969487e-02,   9.00681448e-02,\n",
       "          1.39042019e-01,   2.06105998e-01,   3.42036414e-01,\n",
       "          4.18039976e-01,   6.22138544e-01,   8.53454659e-01,\n",
       "          1.32807951e+00,   1.87235622e+00,   2.78588164e+00,\n",
       "          4.95121724e+00],\n",
       "       [  8.00997408e-03,   1.13755013e-02,   1.43601298e-02,\n",
       "          2.03774790e-02,   2.30135465e-02,   3.23840678e-02,\n",
       "          3.98960248e-02,   4.67037047e-02,   5.41400417e-02,\n",
       "          8.35782812e-02,   1.23890498e-01,   2.05598391e-01,\n",
       "          2.51284200e-01,   3.73968030e-01,   5.13012352e-01,\n",
       "          7.98309771e-01,   1.12547499e+00,   1.67459592e+00,\n",
       "          2.97618107e+00],\n",
       "       [  4.81480252e-03,   6.83782392e-03,   8.63188676e-03,\n",
       "          1.22489207e-02,   1.38334632e-02,   1.94660919e-02,\n",
       "          2.39815359e-02,   2.80736383e-02,   3.25436270e-02,\n",
       "          5.02389789e-02,   7.44706883e-02,   1.23585375e-01,\n",
       "          1.51047155e-01,   2.24792514e-01,   3.08372180e-01,\n",
       "          4.79864711e-01,   6.76524012e-01,   1.00660109e+00,\n",
       "          1.78898508e+00],\n",
       "       [  2.89418206e-03,   4.11022202e-03,   5.18863478e-03,\n",
       "          7.36283708e-03,   8.31530698e-03,   1.17010851e-02,\n",
       "          1.44153225e-02,   1.68750889e-02,   1.95620031e-02,\n",
       "          3.01986947e-02,   4.47643968e-02,   7.42872787e-02,\n",
       "          9.07945789e-02,   1.35122980e-01,   1.85362791e-01,\n",
       "          2.88447103e-01,   4.06659183e-01,   6.05068809e-01,\n",
       "          1.07536052e+00],\n",
       "       [  1.73969540e-03,   2.47065810e-03,   3.11889297e-03,\n",
       "          4.42580789e-03,   4.99833840e-03,   7.03353262e-03,\n",
       "          8.66506312e-03,   1.01436309e-02,   1.17587374e-02,\n",
       "          1.81524622e-02,   2.69079186e-02,   4.46541491e-02,\n",
       "          5.45767019e-02,   8.12225429e-02,   1.11421738e-01,\n",
       "          1.73385809e-01,   2.44443196e-01,   3.63707398e-01,\n",
       "          6.46400161e-01],\n",
       "       [  1.04573245e-03,   1.48511477e-03,   1.87476933e-03,\n",
       "          2.66035705e-03,   3.00450564e-03,   4.22786269e-03,\n",
       "          5.20857712e-03,   6.09734552e-03,   7.06818746e-03,\n",
       "          1.09114611e-02,   1.61743737e-02,   2.68416486e-02,\n",
       "          3.28061039e-02,   4.88229425e-02,   6.69757053e-02,\n",
       "          1.04222364e-01,   1.46935022e-01,   2.18624839e-01,\n",
       "          3.88551710e-01],\n",
       "       [  6.28590702e-04,   8.92703807e-04,   1.12692550e-03,\n",
       "          1.59914298e-03,   1.80601100e-03,   2.54137201e-03,\n",
       "          3.13088033e-03,   3.66511980e-03,   4.24869375e-03,\n",
       "          6.55888894e-03,   9.72243038e-03,   1.61345388e-02,\n",
       "          1.97197781e-02,   2.93475140e-02,   4.02591558e-02,\n",
       "          6.26481552e-02,   8.83227717e-02,   1.31415585e-01,\n",
       "          2.33558777e-01],\n",
       "       [  3.77846428e-04,   5.36605050e-04,   6.77395920e-04,\n",
       "          9.61246263e-04,   1.08559482e-03,   1.52762097e-03,\n",
       "          1.88197494e-03,   2.20310676e-03,   2.55389358e-03,\n",
       "          3.94255396e-03,   5.84416152e-03,   9.69848555e-03,\n",
       "          1.18535761e-02,   1.76408167e-02,   2.41998143e-02,\n",
       "          3.76578616e-02,   5.30908964e-02,   7.89940244e-02,\n",
       "          1.40392388e-01],\n",
       "       [  2.27123823e-04,   3.22553771e-04,   4.07183288e-04,\n",
       "          5.77805981e-04,   6.52552006e-04,   9.18254318e-04,\n",
       "          1.13125680e-03,   1.32428943e-03,   1.53514769e-03,\n",
       "          2.36987268e-03,   3.51293067e-03,   5.82976826e-03,\n",
       "          7.12519511e-03,   1.06039106e-02,   1.45465298e-02,\n",
       "          2.26361740e-02,   3.19129849e-02,   4.74833781e-02,\n",
       "          8.43899889e-02],\n",
       "       [  1.36524331e-04,   1.93887358e-04,   2.44758235e-04,\n",
       "          3.47319687e-04,   3.92249589e-04,   5.51963485e-04,\n",
       "          6.79999468e-04,   7.96031547e-04,   9.22778640e-04,\n",
       "          1.42453257e-03,   2.11162574e-03,   3.50427887e-03,\n",
       "          4.28296109e-03,   6.37402003e-03,   8.74393196e-03,\n",
       "          1.36066243e-02,   1.91829235e-02,   2.85423007e-02,\n",
       "          5.07268971e-02],\n",
       "       [  8.20648966e-05,   1.16545863e-04,   1.47124392e-04,\n",
       "          2.08774172e-04,   2.35781576e-04,   3.31785740e-04,\n",
       "          4.08748283e-04,   4.78495269e-04,   5.54683058e-04,\n",
       "          8.56287790e-04,   1.26930010e-03,   2.10642513e-03,\n",
       "          2.57449171e-03,   3.83142909e-03,   5.25598525e-03,\n",
       "          8.17895391e-03,   1.15308723e-02,   1.71568022e-02,\n",
       "          3.04919828e-02],\n",
       "       [  4.93292821e-05,   7.00558213e-05,   8.84366026e-05,\n",
       "          1.25494340e-04,   1.41728514e-04,   1.99436702e-04,\n",
       "          2.45698955e-04,   2.87623930e-04,   3.33420478e-04,\n",
       "          5.14715349e-04,   7.62977417e-04,   1.26617402e-03,\n",
       "          1.54752925e-03,   2.30307542e-03,   3.15937739e-03,\n",
       "          4.91637644e-03,   6.93121757e-03,   1.03129690e-02,\n",
       "          1.83287579e-02],\n",
       "       [  2.96518752e-05,   4.21106163e-05,   5.31593202e-05,\n",
       "          7.54347589e-05,   8.51931355e-05,   1.19881579e-04,\n",
       "          1.47689860e-04,   1.72890999e-04,   2.00419345e-04,\n",
       "          3.09395853e-04,   4.58626402e-04,   7.61098323e-04,\n",
       "          9.30221204e-04,   1.38438068e-03,   1.89910455e-03,\n",
       "          2.95523824e-03,   4.16636103e-03,   6.19913483e-03,\n",
       "          1.10174326e-02],\n",
       "       [  1.78237685e-05,   2.53127288e-05,   3.19541145e-05,\n",
       "          4.53439004e-05,   5.12096693e-05,   7.20609232e-05,\n",
       "          8.87765056e-05,   1.03924933e-04,   1.20472246e-04,\n",
       "          1.85978121e-04,   2.75680737e-04,   4.57496877e-04,\n",
       "          5.59156790e-04,   8.32152453e-04,   1.14155343e-03,\n",
       "          1.77639632e-03,   2.50440331e-03,   3.72630544e-03,\n",
       "          6.62258852e-03],\n",
       "       [  1.07138830e-05,   1.52155037e-05,   1.92076466e-05,\n",
       "          2.72562587e-05,   3.07821776e-05,   4.33158848e-05,\n",
       "          5.33636362e-05,   6.24693693e-05,   7.24159738e-05,\n",
       "          1.11791614e-04,   1.65711935e-04,   2.75001778e-04,\n",
       "          3.36109642e-04,   5.00207577e-04,   6.86188779e-04,\n",
       "          1.06779341e-03,   1.50539905e-03,   2.23988550e-03,\n",
       "          3.98084383e-03],\n",
       "       [  6.44012458e-06,   9.14605277e-06,   1.15457334e-05,\n",
       "          1.63837613e-05,   1.85031942e-05,   2.60372167e-05,\n",
       "          3.20769290e-05,   3.75503933e-05,   4.35293060e-05,\n",
       "          6.71980380e-05,   9.96095912e-05,   1.65303813e-04,\n",
       "          2.02035804e-04,   3.00675218e-04,   4.12468683e-04,\n",
       "          6.41851563e-04,   9.04896702e-04,   1.34639716e-03,\n",
       "          2.39288875e-03],\n",
       "       [  3.87116460e-06,   5.49770043e-06,   6.94015056e-06,\n",
       "          9.84829343e-06,   1.11222865e-05,   1.56509941e-05,\n",
       "          1.92814705e-05,   2.25715747e-05,   2.61655044e-05,\n",
       "          4.03928002e-05,   5.98754135e-05,   9.93642683e-05,\n",
       "          1.21443901e-04,   1.80736140e-04,   2.47935291e-04,\n",
       "          3.85817543e-04,   5.43934210e-04,   8.09320527e-04,\n",
       "          1.43836755e-03]])"
      ]
     },
     "execution_count": 13,
     "metadata": {},
     "output_type": "execute_result"
    }
   ],
   "source": [
    "result"
   ]
  },
  {
   "cell_type": "code",
   "execution_count": null,
   "metadata": {
    "collapsed": true
   },
   "outputs": [],
   "source": []
  }
 ],
 "metadata": {
  "kernelspec": {
   "display_name": "Python 2",
   "language": "python",
   "name": "python2"
  },
  "language_info": {
   "codemirror_mode": {
    "name": "ipython",
    "version": 2
   },
   "file_extension": ".py",
   "mimetype": "text/x-python",
   "name": "python",
   "nbconvert_exporter": "python",
   "pygments_lexer": "ipython2",
   "version": "2.7.13"
  }
 },
 "nbformat": 4,
 "nbformat_minor": 2
}
