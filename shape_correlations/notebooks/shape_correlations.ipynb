{
 "cells": [
  {
   "cell_type": "code",
   "execution_count": 1,
   "metadata": {
    "collapsed": true
   },
   "outputs": [],
   "source": [
    "from __future__ import print_function, division\n",
    "import numpy as np\n",
    "import matplotlib.pyplot as plt\n",
    "%matplotlib inline"
   ]
  },
  {
   "cell_type": "markdown",
   "metadata": {},
   "source": [
    "# g-shape correlation in MassiveBlack"
   ]
  },
  {
   "cell_type": "code",
   "execution_count": 2,
   "metadata": {
    "collapsed": true
   },
   "outputs": [],
   "source": [
    "import h5py\n",
    "filepath = '/Users/duncan/Projects/shear_correlations/data/MB2_subfind_z_1.0.hdf5'\n",
    "f = h5py.File(filepath, 'r')"
   ]
  },
  {
   "cell_type": "code",
   "execution_count": 3,
   "metadata": {},
   "outputs": [
    {
     "name": "stderr",
     "output_type": "stream",
     "text": [
      "WARNING: path= was not specified but multiple tables are present, reading in first available table (path=catalog) [astropy.io.misc.hdf5]\n"
     ]
    },
    {
     "name": "stdout",
     "output_type": "stream",
     "text": [
      "halos.subfindId\n",
      "halos.central\n",
      "halos.mass\n",
      "halos.vdisp\n",
      "halos.vcirc\n",
      "halos.rcirc\n",
      "halos.m_gas\n",
      "halos.m_dm\n",
      "halos.m_star\n",
      "halos.m_bh\n",
      "halos.x\n",
      "halos.y\n",
      "halos.z\n",
      "halos.vx\n",
      "halos.vy\n",
      "halos.vz\n",
      "groups.groupId\n",
      "groups.subfindId\n",
      "groups.mass\n",
      "groups.m_gas\n",
      "groups.m_dm\n",
      "groups.m_star\n",
      "groups.m_bh\n",
      "groups.x\n",
      "groups.y\n",
      "groups.z\n",
      "groups.vx\n",
      "groups.vy\n",
      "groups.vz\n",
      "prop.sfr\n",
      "prop.btr\n",
      "prop.SDSS_g\n",
      "prop.SDSS_i\n",
      "prop.SDSS_r\n",
      "prop.SDSS_u\n",
      "prop.SDSS_z\n",
      "shapesDM.q3d\n",
      "shapesDM.s3d\n",
      "shapesDM.q2d\n",
      "shapesDM.a3d_x\n",
      "shapesDM.a3d_y\n",
      "shapesDM.a3d_z\n",
      "shapesDM.b3d_x\n",
      "shapesDM.b3d_y\n",
      "shapesDM.b3d_z\n",
      "shapesDM.c3d_x\n",
      "shapesDM.c3d_y\n",
      "shapesDM.c3d_z\n",
      "shapesDM.a2d_x\n",
      "shapesDM.a2d_y\n",
      "shapesDM.b2d_x\n",
      "shapesDM.b2d_y\n",
      "shapesStar.q3d\n",
      "shapesStar.s3d\n",
      "shapesStar.q2d\n",
      "shapesStar.a3d_x\n",
      "shapesStar.a3d_y\n",
      "shapesStar.a3d_z\n",
      "shapesStar.b3d_x\n",
      "shapesStar.b3d_y\n",
      "shapesStar.b3d_z\n",
      "shapesStar.c3d_x\n",
      "shapesStar.c3d_y\n",
      "shapesStar.c3d_z\n",
      "shapesStar.a2d_x\n",
      "shapesStar.a2d_y\n",
      "shapesStar.b2d_x\n",
      "shapesStar.b2d_y\n",
      "tid500.a_x\n",
      "tid500.a_y\n",
      "tid500.a_z\n",
      "tid500.b_x\n",
      "tid500.b_y\n",
      "tid500.b_z\n",
      "tid500.c_x\n",
      "tid500.c_y\n",
      "tid500.c_z\n",
      "tid500.eigv1\n",
      "tid500.eigv2\n",
      "tid500.eigv3\n",
      "tid1000.a_x\n",
      "tid1000.a_y\n",
      "tid1000.a_z\n",
      "tid1000.b_x\n",
      "tid1000.b_y\n",
      "tid1000.b_z\n",
      "tid1000.c_x\n",
      "tid1000.c_y\n",
      "tid1000.c_z\n",
      "tid1000.eigv1\n",
      "tid1000.eigv2\n",
      "tid1000.eigv3\n",
      "tid10000.a_x\n",
      "tid10000.a_y\n",
      "tid10000.a_z\n",
      "tid10000.b_x\n",
      "tid10000.b_y\n",
      "tid10000.b_z\n",
      "tid10000.c_x\n",
      "tid10000.c_y\n",
      "tid10000.c_z\n",
      "tid10000.eigv1\n",
      "tid10000.eigv2\n",
      "tid10000.eigv3\n"
     ]
    }
   ],
   "source": [
    "from astropy.table import Table\n",
    "data = Table.read(filepath)\n",
    "for name in data.dtype.names:\n",
    "    print(name)"
   ]
  },
  {
   "cell_type": "code",
   "execution_count": 4,
   "metadata": {},
   "outputs": [
    {
     "name": "stdout",
     "output_type": "stream",
     "text": [
      "number of galaxies in sample: 62961\n"
     ]
    }
   ],
   "source": [
    "data['halos.m_star'] = data['halos.m_star']*10**10\n",
    "mask = (data['halos.m_star']>10**9.0)\n",
    "data = data[mask]\n",
    "print(\"number of galaxies in sample:\", np.sum(mask))\n",
    "\n",
    "data['halos.x'] = data['halos.x']/1000.0\n",
    "data['halos.y'] = data['halos.y']/1000.0\n",
    "data['halos.z'] = data['halos.z']/1000.0"
   ]
  },
  {
   "cell_type": "code",
   "execution_count": 5,
   "metadata": {
    "collapsed": true
   },
   "outputs": [],
   "source": [
    "mask = np.random.random(len(data))<0.75\n",
    "data = data[mask]"
   ]
  },
  {
   "cell_type": "code",
   "execution_count": 6,
   "metadata": {},
   "outputs": [],
   "source": [
    "#get galaxy coordinates in halotools format\n",
    "coords = np.vstack((data['halos.x'],\n",
    "                    data['halos.y'],\n",
    "                    data['halos.z'])).T\n",
    "\n",
    "#get shape orientation\n",
    "# orientation = np.vstack((data['shapesStar.a2d_x'] + np.random.random(len(data))*0.001,\n",
    "#                          data['shapesStar.a2d_y'] + np.random.random(len(data))*0.001)).T\n",
    "orientation = np.vstack((data['shapesStar.a2d_x'], data['shapesStar.a2d_y'])).T\n",
    "#orientation = np.tile((1, 0), coords.shape[0]).reshape((coords.shape[0], 2))\n",
    "\n",
    "#make random orientations\n",
    "random_orientation = np.random.random((len(data),2))\n",
    "\n",
    "#calculate \n",
    "q = data['shapesDM.q2d']\n",
    "e = (1.0-q)/(1.0+q**2)\n",
    "\n",
    "#normalize orientation vector\n",
    "orientation = orientation/np.sqrt(np.sum(orientation**2, axis=1)).reshape((len(orientation), -1))\n",
    "random_orientation = random_orientation/np.sqrt(np.sum(random_orientation**2, axis=1)).reshape((len(random_orientation), -1))\n",
    "\n",
    "#create normalized weights\n",
    "weights = np.zeros((len(data),3))\n",
    "weights[:,0] = orientation[:,0]\n",
    "weights[:,1] = orientation[:,1]\n",
    "weights[:,2] = e\n",
    "\n",
    "#random weights\n",
    "random_weights = np.zeros((len(data),3))\n",
    "random_weights[:,0] = random_orientation[:,0]\n",
    "random_weights[:,1] = random_orientation[:,1]\n",
    "random_weights[:,2] = e"
   ]
  },
  {
   "cell_type": "code",
   "execution_count": 7,
   "metadata": {
    "collapsed": true
   },
   "outputs": [],
   "source": [
    "from halotools.mock_observables.pair_counters import positional_marked_npairs_xy_z\n",
    "from halotools.mock_observables.pair_counters import npairs_xy_z, marked_npairs_xy_z"
   ]
  },
  {
   "cell_type": "code",
   "execution_count": 8,
   "metadata": {
    "collapsed": true
   },
   "outputs": [],
   "source": [
    "rp_bins = np.logspace(-1,1.1,20)\n",
    "rp_bin_centers = (rp_bins[:-1]+rp_bins[1:])/2.0\n",
    "\n",
    "pi_bins = np.array([0.0,30.0])"
   ]
  },
  {
   "cell_type": "code",
   "execution_count": 9,
   "metadata": {
    "collapsed": true
   },
   "outputs": [],
   "source": [
    "#calculate unweighted counts\n",
    "counts = npairs_xy_z(coords, coords, rp_bins, pi_bins,\n",
    "                     period=100.0, num_threads=4)\n",
    "counts = np.diff(np.diff(counts,axis=1),axis=0)"
   ]
  },
  {
   "cell_type": "code",
   "execution_count": 10,
   "metadata": {},
   "outputs": [],
   "source": [
    "result_1 = positional_marked_npairs_xy_z(coords, coords, rp_bins, pi_bins,\n",
    "                                         period=100.0, weights1=weights, weights2=weights,\n",
    "                                         weight_func_id=1, num_threads=4)\n",
    "counts_1 = result_1[0] \n",
    "counts_1 = np.diff(np.diff(result_1[0], axis=1),axis=0)\n",
    "weighted_counts_1 = np.diff(np.diff(result_1[1], axis=1),axis=0)"
   ]
  },
  {
   "cell_type": "code",
   "execution_count": 11,
   "metadata": {
    "collapsed": true
   },
   "outputs": [],
   "source": [
    "result_2 = positional_marked_npairs_xy_z(coords, coords, rp_bins, pi_bins,\n",
    "                                         period=100.0, weights1=random_weights, weights2=random_weights,\n",
    "                                         weight_func_id=1, num_threads=4)\n",
    "counts_2 = result_2[0] \n",
    "counts_2 = np.diff(np.diff(result_2[0], axis=1),axis=0)\n",
    "weighted_counts_2 = np.diff(np.diff(result_2[1], axis=1),axis=0)"
   ]
  },
  {
   "cell_type": "code",
   "execution_count": 12,
   "metadata": {},
   "outputs": [
    {
     "data": {
      "image/png": "[encoded data removed]",
      "text/plain": [
       "<matplotlib.figure.Figure at 0x20eb0edd0>"
      ]
     },
     "metadata": {},
     "output_type": "display_data"
    }
   ],
   "source": [
    "fig  = plt.figure(figsize=(3.3,3.3))\n",
    "fig.subplots_adjust(left=0.2, right=0.9, bottom=0.2, top=0.9)\n",
    "l1, = plt.plot(rp_bin_centers[:-1], weighted_counts_1[:-1]/counts[:-1], '-')\n",
    "#plt.plot(rp_bin_centers, weighted_counts_2/counts, '--')\n",
    "plt.xscale('log')\n",
    "plt.yscale('log')\n",
    "plt.xlim([0.1,20])\n",
    "plt.xlabel(r'$r_p~[h^{-1}\\rm Mpc]$')\n",
    "plt.ylabel(r'$w_{g+}$')\n",
    "plt.ylim([0.001,0.02])\n",
    "plt.legend([l1],['MassiveBlack II'], loc='upper right', fontsize=10, frameon=False)\n",
    "plt.show()\n",
    "\n",
    "fig.savefig('/Users/duncan/Desktop/galaxy_shape_correlation.pdf', dpi=250)"
   ]
  },
  {
   "cell_type": "code",
   "execution_count": null,
   "metadata": {
    "collapsed": true
   },
   "outputs": [],
   "source": []
  }
 ],
 "metadata": {
  "kernelspec": {
   "display_name": "Python 2",
   "language": "python",
   "name": "python2"
  },
  "language_info": {
   "codemirror_mode": {
    "name": "ipython",
    "version": 2
   },
   "file_extension": ".py",
   "mimetype": "text/x-python",
   "name": "python",
   "nbconvert_exporter": "python",
   "pygments_lexer": "ipython2",
   "version": "2.7.14"
  }
 },
 "nbformat": 4,
 "nbformat_minor": 2
}
