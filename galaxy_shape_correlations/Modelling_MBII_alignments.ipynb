{
 "cells": [
  {
   "cell_type": "code",
   "execution_count": 1,
   "metadata": {},
   "outputs": [],
   "source": [
    "from __future__ import print_function, division\n",
    "import numpy as np\n",
    "import matplotlib.pyplot as plt\n",
    "%matplotlib inline\n",
    "PROJECT_DIRECTORY = '/Users/duncan/Projects/intrinsic_alignments/'"
   ]
  },
  {
   "cell_type": "markdown",
   "metadata": {},
   "source": [
    "# load galaxy catalog"
   ]
  },
  {
   "cell_type": "code",
   "execution_count": 4,
   "metadata": {},
   "outputs": [
    {
     "ename": "ValueError",
     "evalue": "attempt to get argmin of an empty sequence",
     "output_type": "error",
     "traceback": [
      "\u001b[0;31m---------------------------------------------------------------------------\u001b[0m",
      "\u001b[0;31mValueError\u001b[0m                                Traceback (most recent call last)",
      "\u001b[0;32m<ipython-input-4-ef262d6ef0cf>\u001b[0m in \u001b[0;36m<module>\u001b[0;34m()\u001b[0m\n\u001b[1;32m      1\u001b[0m \u001b[0;32mfrom\u001b[0m \u001b[0mintrinsic_alignments\u001b[0m\u001b[0;34m.\u001b[0m\u001b[0mdata\u001b[0m\u001b[0;34m.\u001b[0m\u001b[0mMB2_subfind_cat_utils\u001b[0m \u001b[0;32mimport\u001b[0m \u001b[0mMBII_galaxy_catalog\u001b[0m\u001b[0;34m\u001b[0m\u001b[0m\n\u001b[1;32m      2\u001b[0m \u001b[0;34m\u001b[0m\u001b[0m\n\u001b[0;32m----> 3\u001b[0;31m \u001b[0mcatalog\u001b[0m \u001b[0;34m=\u001b[0m \u001b[0mMBII_galaxy_catalog\u001b[0m\u001b[0;34m(\u001b[0m\u001b[0;36m0.06\u001b[0m\u001b[0;34m)\u001b[0m\u001b[0;34m\u001b[0m\u001b[0m\n\u001b[0m\u001b[1;32m      4\u001b[0m \u001b[0mLbox\u001b[0m \u001b[0;34m=\u001b[0m \u001b[0mnp\u001b[0m\u001b[0;34m.\u001b[0m\u001b[0marray\u001b[0m\u001b[0;34m(\u001b[0m\u001b[0;34m[\u001b[0m\u001b[0;36m100.0\u001b[0m\u001b[0;34m,\u001b[0m\u001b[0;36m100.0\u001b[0m\u001b[0;34m,\u001b[0m\u001b[0;36m100.0\u001b[0m\u001b[0;34m]\u001b[0m\u001b[0;34m)\u001b[0m\u001b[0;34m\u001b[0m\u001b[0m\n\u001b[1;32m      5\u001b[0m \u001b[0mdm_particle_mass\u001b[0m \u001b[0;34m=\u001b[0m \u001b[0;36m1.1\u001b[0m\u001b[0;34m*\u001b[0m\u001b[0;36m10\u001b[0m\u001b[0;34m**\u001b[0m\u001b[0;36m7\u001b[0m\u001b[0;34m\u001b[0m\u001b[0m\n",
      "\u001b[0;32m/Users/duncan/Projects/intrinsic_alignments/data/MB2_subfind_cat_utils.py\u001b[0m in \u001b[0;36m__init__\u001b[0;34m(self, redshift, dz_tol, **kwargs)\u001b[0m\n\u001b[1;32m    195\u001b[0m         \"\"\"\n\u001b[1;32m    196\u001b[0m \u001b[0;34m\u001b[0m\u001b[0m\n\u001b[0;32m--> 197\u001b[0;31m         \u001b[0mfilename\u001b[0m\u001b[0;34m,\u001b[0m \u001b[0mclosest_redshift\u001b[0m \u001b[0;34m=\u001b[0m \u001b[0mmatch_MBII_subfind_filename\u001b[0m\u001b[0;34m(\u001b[0m\u001b[0mredshift\u001b[0m\u001b[0;34m)\u001b[0m\u001b[0;34m\u001b[0m\u001b[0m\n\u001b[0m\u001b[1;32m    198\u001b[0m         \u001b[0;32mif\u001b[0m \u001b[0mnp\u001b[0m\u001b[0;34m.\u001b[0m\u001b[0mfabs\u001b[0m\u001b[0;34m(\u001b[0m\u001b[0mclosest_redshift\u001b[0m\u001b[0;34m-\u001b[0m\u001b[0mredshift\u001b[0m\u001b[0;34m)\u001b[0m\u001b[0;34m>\u001b[0m\u001b[0mdz_tol\u001b[0m\u001b[0;34m:\u001b[0m\u001b[0;34m\u001b[0m\u001b[0m\n\u001b[1;32m    199\u001b[0m             \u001b[0mmsg\u001b[0m \u001b[0;34m=\u001b[0m \u001b[0;34m(\u001b[0m\u001b[0;34m'no catalog found within redshit tolerance. closest redshift is {0}'\u001b[0m\u001b[0;34m.\u001b[0m\u001b[0mformat\u001b[0m\u001b[0;34m(\u001b[0m\u001b[0mclosest_redshift\u001b[0m\u001b[0;34m)\u001b[0m\u001b[0;34m)\u001b[0m\u001b[0;34m\u001b[0m\u001b[0m\n",
      "\u001b[0;32m/Users/duncan/Projects/intrinsic_alignments/data/MB2_subfind_cat_utils.py\u001b[0m in \u001b[0;36mmatch_MBII_subfind_filename\u001b[0;34m(redshift)\u001b[0m\n\u001b[1;32m    224\u001b[0m     \u001b[0mflt_redshifts\u001b[0m \u001b[0;34m=\u001b[0m \u001b[0mnp\u001b[0m\u001b[0;34m.\u001b[0m\u001b[0marray\u001b[0m\u001b[0;34m(\u001b[0m\u001b[0mstr_redshifts\u001b[0m\u001b[0;34m)\u001b[0m\u001b[0;34m.\u001b[0m\u001b[0mastype\u001b[0m\u001b[0;34m(\u001b[0m\u001b[0;34m'float'\u001b[0m\u001b[0;34m)\u001b[0m\u001b[0;34m\u001b[0m\u001b[0m\n\u001b[1;32m    225\u001b[0m \u001b[0;34m\u001b[0m\u001b[0m\n\u001b[0;32m--> 226\u001b[0;31m     \u001b[0mind\u001b[0m \u001b[0;34m=\u001b[0m \u001b[0mnp\u001b[0m\u001b[0;34m.\u001b[0m\u001b[0margmin\u001b[0m\u001b[0;34m(\u001b[0m\u001b[0mnp\u001b[0m\u001b[0;34m.\u001b[0m\u001b[0mfabs\u001b[0m\u001b[0;34m(\u001b[0m\u001b[0mflt_redshifts\u001b[0m \u001b[0;34m-\u001b[0m \u001b[0mredshift\u001b[0m\u001b[0;34m)\u001b[0m\u001b[0;34m)\u001b[0m\u001b[0;34m\u001b[0m\u001b[0m\n\u001b[0m\u001b[1;32m    227\u001b[0m \u001b[0;34m\u001b[0m\u001b[0m\n\u001b[1;32m    228\u001b[0m     \u001b[0;32mreturn\u001b[0m \u001b[0mpossible_files\u001b[0m\u001b[0;34m[\u001b[0m\u001b[0mind\u001b[0m\u001b[0;34m]\u001b[0m\u001b[0;34m,\u001b[0m \u001b[0mflt_redshifts\u001b[0m\u001b[0;34m[\u001b[0m\u001b[0mind\u001b[0m\u001b[0;34m]\u001b[0m\u001b[0;34m\u001b[0m\u001b[0m\n",
      "\u001b[0;32m/Users/duncan/anaconda2/lib/python2.7/site-packages/numpy/core/fromnumeric.pyc\u001b[0m in \u001b[0;36margmin\u001b[0;34m(a, axis, out)\u001b[0m\n\u001b[1;32m   1099\u001b[0m \u001b[0;34m\u001b[0m\u001b[0m\n\u001b[1;32m   1100\u001b[0m     \"\"\"\n\u001b[0;32m-> 1101\u001b[0;31m     \u001b[0;32mreturn\u001b[0m \u001b[0m_wrapfunc\u001b[0m\u001b[0;34m(\u001b[0m\u001b[0ma\u001b[0m\u001b[0;34m,\u001b[0m \u001b[0;34m'argmin'\u001b[0m\u001b[0;34m,\u001b[0m \u001b[0maxis\u001b[0m\u001b[0;34m=\u001b[0m\u001b[0maxis\u001b[0m\u001b[0;34m,\u001b[0m \u001b[0mout\u001b[0m\u001b[0;34m=\u001b[0m\u001b[0mout\u001b[0m\u001b[0;34m)\u001b[0m\u001b[0;34m\u001b[0m\u001b[0m\n\u001b[0m\u001b[1;32m   1102\u001b[0m \u001b[0;34m\u001b[0m\u001b[0m\n\u001b[1;32m   1103\u001b[0m \u001b[0;34m\u001b[0m\u001b[0m\n",
      "\u001b[0;32m/Users/duncan/anaconda2/lib/python2.7/site-packages/numpy/core/fromnumeric.pyc\u001b[0m in \u001b[0;36m_wrapfunc\u001b[0;34m(obj, method, *args, **kwds)\u001b[0m\n\u001b[1;32m     49\u001b[0m \u001b[0;32mdef\u001b[0m \u001b[0m_wrapfunc\u001b[0m\u001b[0;34m(\u001b[0m\u001b[0mobj\u001b[0m\u001b[0;34m,\u001b[0m \u001b[0mmethod\u001b[0m\u001b[0;34m,\u001b[0m \u001b[0;34m*\u001b[0m\u001b[0margs\u001b[0m\u001b[0;34m,\u001b[0m \u001b[0;34m**\u001b[0m\u001b[0mkwds\u001b[0m\u001b[0;34m)\u001b[0m\u001b[0;34m:\u001b[0m\u001b[0;34m\u001b[0m\u001b[0m\n\u001b[1;32m     50\u001b[0m     \u001b[0;32mtry\u001b[0m\u001b[0;34m:\u001b[0m\u001b[0;34m\u001b[0m\u001b[0m\n\u001b[0;32m---> 51\u001b[0;31m         \u001b[0;32mreturn\u001b[0m \u001b[0mgetattr\u001b[0m\u001b[0;34m(\u001b[0m\u001b[0mobj\u001b[0m\u001b[0;34m,\u001b[0m \u001b[0mmethod\u001b[0m\u001b[0;34m)\u001b[0m\u001b[0;34m(\u001b[0m\u001b[0;34m*\u001b[0m\u001b[0margs\u001b[0m\u001b[0;34m,\u001b[0m \u001b[0;34m**\u001b[0m\u001b[0mkwds\u001b[0m\u001b[0;34m)\u001b[0m\u001b[0;34m\u001b[0m\u001b[0m\n\u001b[0m\u001b[1;32m     52\u001b[0m \u001b[0;34m\u001b[0m\u001b[0m\n\u001b[1;32m     53\u001b[0m     \u001b[0;31m# An AttributeError occurs if the object does not have\u001b[0m\u001b[0;34m\u001b[0m\u001b[0;34m\u001b[0m\u001b[0m\n",
      "\u001b[0;31mValueError\u001b[0m: attempt to get argmin of an empty sequence"
     ]
    }
   ],
   "source": [
    "from intrinsic_alignments.data.MB2_subfind_cat_utils import MBII_galaxy_catalog\n",
    "\n",
    "catalog = MBII_galaxy_catalog(0.06)\n",
    "Lbox = np.array([100.0,100.0,100.0])\n",
    "dm_particle_mass = 1.1*10**7"
   ]
  },
  {
   "cell_type": "code",
   "execution_count": 3,
   "metadata": {},
   "outputs": [
    {
     "ename": "NameError",
     "evalue": "name 'catalog' is not defined",
     "output_type": "error",
     "traceback": [
      "\u001b[0;31m---------------------------------------------------------------------------\u001b[0m",
      "\u001b[0;31mNameError\u001b[0m                                 Traceback (most recent call last)",
      "\u001b[0;32m<ipython-input-3-d580a102a79a>\u001b[0m in \u001b[0;36m<module>\u001b[0;34m()\u001b[0m\n\u001b[0;32m----> 1\u001b[0;31m \u001b[0;32mfor\u001b[0m \u001b[0mname\u001b[0m \u001b[0;32min\u001b[0m \u001b[0mcatalog\u001b[0m\u001b[0;34m.\u001b[0m\u001b[0mgalaxy_table\u001b[0m\u001b[0;34m.\u001b[0m\u001b[0mdtype\u001b[0m\u001b[0;34m.\u001b[0m\u001b[0mnames\u001b[0m\u001b[0;34m:\u001b[0m\u001b[0;34m\u001b[0m\u001b[0m\n\u001b[0m\u001b[1;32m      2\u001b[0m     \u001b[0;32mprint\u001b[0m\u001b[0;34m(\u001b[0m\u001b[0mname\u001b[0m\u001b[0;34m)\u001b[0m\u001b[0;34m\u001b[0m\u001b[0m\n",
      "\u001b[0;31mNameError\u001b[0m: name 'catalog' is not defined"
     ]
    }
   ],
   "source": [
    "for name in catalog.galaxy_table.dtype.names:\n",
    "    print(name)"
   ]
  },
  {
   "cell_type": "code",
   "execution_count": 7,
   "metadata": {},
   "outputs": [
    {
     "name": "stdout",
     "output_type": "stream",
     "text": [
      "number of galaxies:  4633801\n",
      "satellite fraction:  0.25415290816329833\n"
     ]
    }
   ],
   "source": [
    "Ngal = len(catalog.galaxy_table)\n",
    "print(\"number of galaxies: \", Ngal)\n",
    "\n",
    "# check centrals and satellite\n",
    "\n",
    "centrals = (catalog.galaxy_table['central']==1)\n",
    "satellites = (catalog.galaxy_table['central']==0)\n",
    "\n",
    "Ngal = len(catalog.galaxy_table)\n",
    "\n",
    "print(\"satellite fraction: \", np.sum(satellites)/Ngal)\n",
    "\n",
    "# get index of central galaxy\n",
    "from halotools.utils import crossmatch\n",
    "central_indices = (np.arange(0,Ngal).astype('int'))[centrals]\n",
    "inds1, inds2 = crossmatch(catalog.galaxy_table['host_halo_id'], catalog.galaxy_table['host_halo_id'][centrals])\n",
    "index_of_central = np.arange(0,Ngal).astype('int')\n",
    "index_of_central[inds1] = central_indices[inds2]"
   ]
  },
  {
   "cell_type": "code",
   "execution_count": 8,
   "metadata": {},
   "outputs": [],
   "source": [
    "# get galaxy/halo coordinates in halotools format\n",
    "coords = np.vstack((catalog.galaxy_table['x'],\n",
    "                    catalog.galaxy_table['y'],\n",
    "                    catalog.galaxy_table['z'])).T\n",
    "\n",
    "# caclulate ellipticites and axis ratios\n",
    "q_dm = catalog.galaxy_table['shapesDM.q3d']\n",
    "e_dm = (1.0-q_dm)/(1.0+q_dm**2)\n",
    "s_dm = catalog.galaxy_table['shapesDM.s3d']\n",
    "\n",
    "q_gal = catalog.galaxy_table['shapesStar.q3d']\n",
    "e_gal = (1.0-q_gal)/(1.0+q_gal**2)\n",
    "s_gal = catalog.galaxy_table['shapesStar.s3d']\n",
    "\n",
    "q_dm = catalog.galaxy_table['shapesDM.q2d']\n",
    "proj_e_dm = (1.0-q_dm)/(1.0+q_dm**2)\n",
    "\n",
    "q_gal = catalog.galaxy_table['shapesStar.q2d']\n",
    "proj_e_gal = (1.0-q_gal)/(1.0+q_gal**2)\n",
    "\n",
    "# calculate orientations\n",
    "orientation_dm_1 = np.vstack((catalog.galaxy_table['shapesDM.a3d_x'],\n",
    "                              catalog.galaxy_table['shapesDM.a3d_y'],\n",
    "                              catalog.galaxy_table['shapesDM.a3d_z'])).T\n",
    "\n",
    "orientation_dm_2 = np.vstack((catalog.galaxy_table['shapesDM.c3d_x'],\n",
    "                              catalog.galaxy_table['shapesDM.c3d_y'],\n",
    "                              catalog.galaxy_table['shapesDM.c3d_z'])).T\n",
    "\n",
    "orientation_gal_1 = np.vstack((catalog.galaxy_table['shapesStar.a3d_x'],\n",
    "                               catalog.galaxy_table['shapesStar.a3d_y'],\n",
    "                               catalog.galaxy_table['shapesStar.a3d_z'])).T\n",
    "\n",
    "orientation_gal_2 = np.vstack((catalog.galaxy_table['shapesStar.c3d_x'],\n",
    "                               catalog.galaxy_table['shapesStar.c3d_y'],\n",
    "                               catalog.galaxy_table['shapesStar.c3d_z'])).T\n",
    "\n",
    "proj_orientation_dm = np.vstack((catalog.galaxy_table['shapesDM.a2d_x'],\n",
    "                                 catalog.galaxy_table['shapesDM.a2d_y'])).T\n",
    "\n",
    "proj_orientation_gal = np.vstack((catalog.galaxy_table['shapesStar.a2d_x'],\n",
    "                                  catalog.galaxy_table['shapesStar.a2d_y'])).T"
   ]
  },
  {
   "cell_type": "code",
   "execution_count": 9,
   "metadata": {},
   "outputs": [],
   "source": [
    "# calculate radial vector for satellites\n",
    "from intrinsic_alignments.ia_models.ia_model_components import RadialSatelliteAlignment\n",
    "sat_alignment_model = RadialSatelliteAlignment(Lbox=Lbox)\n",
    "\n",
    "halo_x = catalog.galaxy_table['x'][index_of_central]\n",
    "halo_y = catalog.galaxy_table['y'][index_of_central]\n",
    "halo_z = catalog.galaxy_table['z'][index_of_central]\n",
    "x = catalog.galaxy_table['x']\n",
    "y = catalog.galaxy_table['y']\n",
    "z = catalog.galaxy_table['z']\n",
    "\n",
    "cen_sat_direction, r = sat_alignment_model.get_radial_vector(x=x, y=y, z=z,\n",
    "                                                             halo_x=halo_x,\n",
    "                                                             halo_y=halo_y,\n",
    "                                                             halo_z=halo_z)\n",
    "\n",
    "dx = cen_sat_direction[:,0]\n",
    "dy = cen_sat_direction[:,1]\n",
    "dz = cen_sat_direction[:,2]"
   ]
  },
  {
   "cell_type": "code",
   "execution_count": 10,
   "metadata": {},
   "outputs": [],
   "source": [
    "random_orientations = np.random.random((Ngal,3))*2.0 - 1.0\n",
    "random_proj_orientations = np.random.random((Ngal,2))*2.0 - 1.0"
   ]
  },
  {
   "cell_type": "markdown",
   "metadata": {},
   "source": [
    "# galaxy misalignments"
   ]
  },
  {
   "cell_type": "code",
   "execution_count": 11,
   "metadata": {},
   "outputs": [],
   "source": [
    "from halotools.utils import normalized_vectors, angles_between_list_of_vectors\n",
    "from intrinsic_alignments.ia_models.utils import symmetrize_angular_distribution"
   ]
  },
  {
   "cell_type": "code",
   "execution_count": 12,
   "metadata": {},
   "outputs": [
    {
     "name": "stderr",
     "output_type": "stream",
     "text": [
      "/Users/duncan/Code/halotools/halotools/utils/matrix_operations_3d.py:88: RuntimeWarning: invalid value encountered in true_divide\n",
      "  return vectors/elementwise_norm(vectors).reshape((npts, -1))\n",
      "/Users/duncan/Code/halotools/halotools/utils/matrix_operations_3d.py:130: RuntimeWarning: invalid value encountered in greater\n",
      "  mask1 = (dot > 1) & (dot < 1 + tol)\n",
      "/Users/duncan/Code/halotools/halotools/utils/matrix_operations_3d.py:130: RuntimeWarning: invalid value encountered in less\n",
      "  mask1 = (dot > 1) & (dot < 1 + tol)\n",
      "/Users/duncan/Code/halotools/halotools/utils/matrix_operations_3d.py:132: RuntimeWarning: invalid value encountered in less\n",
      "  mask2 = (dot < -1) & (dot > -1 - tol)\n",
      "/Users/duncan/Code/halotools/halotools/utils/matrix_operations_3d.py:132: RuntimeWarning: invalid value encountered in greater\n",
      "  mask2 = (dot < -1) & (dot > -1 - tol)\n"
     ]
    },
    {
     "ename": "NameError",
     "evalue": "name 'theta_misalignment' is not defined",
     "output_type": "error",
     "traceback": [
      "\u001b[0;31m---------------------------------------------------------------------------\u001b[0m",
      "\u001b[0;31mNameError\u001b[0m                                 Traceback (most recent call last)",
      "\u001b[0;32m<ipython-input-12-adad1da4c779>\u001b[0m in \u001b[0;36m<module>\u001b[0;34m()\u001b[0m\n\u001b[1;32m      4\u001b[0m \u001b[0;34m\u001b[0m\u001b[0m\n\u001b[1;32m      5\u001b[0m \u001b[0mtheta_misalignment_1\u001b[0m \u001b[0;34m=\u001b[0m \u001b[0mangles_between_list_of_vectors\u001b[0m\u001b[0;34m(\u001b[0m\u001b[0malignment_vectors\u001b[0m\u001b[0;34m,\u001b[0m \u001b[0morientation_gal_1\u001b[0m\u001b[0;34m)\u001b[0m\u001b[0;34m\u001b[0m\u001b[0m\n\u001b[0;32m----> 6\u001b[0;31m \u001b[0mtheta_misalignment_1\u001b[0m \u001b[0;34m=\u001b[0m \u001b[0msymmetrize_angular_distribution\u001b[0m\u001b[0;34m(\u001b[0m\u001b[0mtheta_misalignment\u001b[0m\u001b[0;34m)\u001b[0m\u001b[0;34m\u001b[0m\u001b[0m\n\u001b[0m\u001b[1;32m      7\u001b[0m \u001b[0mtheta_misalignment_1\u001b[0m \u001b[0;34m=\u001b[0m \u001b[0mnp\u001b[0m\u001b[0;34m.\u001b[0m\u001b[0mnan_to_num\u001b[0m\u001b[0;34m(\u001b[0m\u001b[0mtheta_misalignment\u001b[0m\u001b[0;34m)\u001b[0m\u001b[0;34m\u001b[0m\u001b[0m\n",
      "\u001b[0;31mNameError\u001b[0m: name 'theta_misalignment' is not defined"
     ]
    }
   ],
   "source": [
    "# major axis-major-axis alignment\n",
    "alignment_vectors = orientation_dm_1\n",
    "alignment_vectors[satellites] = cen_sat_direction[satellites]\n",
    "\n",
    "theta_misalignment_1 = angles_between_list_of_vectors(alignment_vectors, orientation_gal_1)\n",
    "theta_misalignment_1 = symmetrize_angular_distribution(theta_misalignment)\n",
    "theta_misalignment_1 = np.nan_to_num(theta_misalignment)"
   ]
  },
  {
   "cell_type": "code",
   "execution_count": 13,
   "metadata": {},
   "outputs": [],
   "source": [
    "# minor axis-minor axis alignment\n",
    "alignment_vectors = orientation_dm_2\n",
    "alignment_vectors[satellites] = cen_sat_direction[satellites]\n",
    "\n",
    "theta_misalignment_2 = angles_between_list_of_vectors(alignment_vectors, orientation_gal_2)\n",
    "theta_misalignment_2 = symmetrize_angular_distribution(theta_misalignment_2)\n",
    "theta_misalignment_2 = np.nan_to_num(theta_misalignment_2)"
   ]
  },
  {
   "cell_type": "code",
   "execution_count": 14,
   "metadata": {},
   "outputs": [
    {
     "name": "stdout",
     "output_type": "stream",
     "text": [
      "[0.82821515]\n",
      "[0.45790297]\n"
     ]
    },
    {
     "data": {
      "image/png": "[encoded data removed]",
      "text/plain": [
       "<Figure size 237.6x237.6 with 1 Axes>"
      ]
     },
     "metadata": {},
     "output_type": "display_data"
    }
   ],
   "source": [
    "from intrinsic_alignments.ia_models.ia_model_components import DimrothWatson, inverse_alignment_strenth\n",
    "dist = DimrothWatson()\n",
    "\n",
    "# centrals\n",
    "mask = (catalog.galaxy_table['m_star']>10**9) & centrals\n",
    "\n",
    "costheta_bins = np.linspace(-1.0, 1.0, 45)\n",
    "costheta_bin_centers = (costheta_bins[:-1]+costheta_bins[1:])/2.0\n",
    "x = np.cos(theta_misalignment_1[mask])\n",
    "counts = np.histogram(x, bins=costheta_bins)[0]\n",
    "normalized_counts_1 = counts/np.sum(counts)/np.diff(costheta_bins)\n",
    "\n",
    "k1 = dist.fit(x, floc=0, fscale=1)[0]\n",
    "f1 = dist.pdf(costheta_bins, k=k1)\n",
    "print(inverse_alignment_strenth(k1))\n",
    "\n",
    "#satellites\n",
    "mask = (catalog.galaxy_table['m_star']>10**9) & satellites\n",
    "\n",
    "costheta_bins = np.linspace(-1.0, 1.0, 45)\n",
    "x = np.cos(theta_misalignment_1[mask])\n",
    "counts = np.histogram(x, bins=costheta_bins)[0]\n",
    "normalized_counts_2 = counts/np.sum(counts)/np.diff(costheta_bins)\n",
    "\n",
    "k2 = dist.fit(x, floc=0, fscale=1)[0]\n",
    "f2 = dist.pdf(costheta_bins, k=k2)\n",
    "print(inverse_alignment_strenth(k2))\n",
    "\n",
    "fig  = plt.figure(figsize=(3.3,3.3))\n",
    "fig.subplots_adjust(left=0.2, right=0.9, bottom=0.2, top=0.9)\n",
    "p1, = plt.step(costheta_bins[1:], normalized_counts_1, color='blue')\n",
    "p2, = plt.step(costheta_bins[1:], normalized_counts_2, color='orange')\n",
    "plt.plot(costheta_bins, f1, color='blue')\n",
    "plt.plot(costheta_bins, f2, color='orange')\n",
    "plt.xlabel(r'$\\cos(\\theta)$')\n",
    "plt.ylabel(r'$\\mathrm{d}P/\\mathrm{d}\\cos(\\theta)$')\n",
    "plt.ylim([0.05,1.5])\n",
    "plt.xlim([-1,1])\n",
    "plt.legend([p1,p2], ['centrals', 'satellites'], frameon=False, fontsize=10, loc='upper left')\n",
    "plt.title(r'$9<\\log(M_*/M_{\\odot})$')\n",
    "plt.show()\n",
    "\n",
    "filename = \"galaxy_misalignment_dist.pdf\"\n",
    "fig.savefig('/Users/duncan/Projects/intrinsic_alignments/galaxy_shape_correlations/figures/'+filename, dpi=250)"
   ]
  },
  {
   "cell_type": "code",
   "execution_count": 15,
   "metadata": {},
   "outputs": [
    {
     "name": "stdout",
     "output_type": "stream",
     "text": [
      "[0.8899107]\n",
      "[-0.50636999]\n"
     ]
    },
    {
     "data": {
      "image/png": "[encoded data removed]",
      "text/plain": [
       "<Figure size 237.6x237.6 with 1 Axes>"
      ]
     },
     "metadata": {},
     "output_type": "display_data"
    }
   ],
   "source": [
    "from intrinsic_alignments.ia_models.ia_model_components import DimrothWatson, inverse_alignment_strenth\n",
    "dist = DimrothWatson()\n",
    "\n",
    "# centrals\n",
    "mask = (catalog.galaxy_table['m_star']>10**9) & centrals\n",
    "\n",
    "costheta_bins = np.linspace(-1.0, 1.0, 45)\n",
    "costheta_bin_centers = (costheta_bins[:-1]+costheta_bins[1:])/2.0\n",
    "x = np.cos(theta_misalignment_2[mask])\n",
    "counts = np.histogram(x, bins=costheta_bins)[0]\n",
    "normalized_counts_1 = counts/np.sum(counts)/np.diff(costheta_bins)\n",
    "\n",
    "k1 = dist.fit(x, floc=0, fscale=1)[0]\n",
    "f1 = dist.pdf(costheta_bins, k=k1)\n",
    "print(inverse_alignment_strenth(k1))\n",
    "\n",
    "# satellites\n",
    "mask = (catalog.galaxy_table['m_star']>10**9) & satellites\n",
    "\n",
    "costheta_bins = np.linspace(-1.0, 1.0, 45)\n",
    "x = np.cos(theta_misalignment_2[mask])\n",
    "counts = np.histogram(x, bins=costheta_bins)[0]\n",
    "normalized_counts_2 = counts/np.sum(counts)/np.diff(costheta_bins)\n",
    "\n",
    "k2 = dist.fit(x, floc=0, fscale=1)[0]\n",
    "f2 = dist.pdf(costheta_bins, k=k2)\n",
    "print(inverse_alignment_strenth(k2))\n",
    "\n",
    "fig  = plt.figure(figsize=(3.3,3.3))\n",
    "fig.subplots_adjust(left=0.2, right=0.9, bottom=0.2, top=0.9)\n",
    "p1, = plt.step(costheta_bins[1:], normalized_counts_1, color='blue')\n",
    "p2, = plt.step(costheta_bins[1:], normalized_counts_2, color='orange')\n",
    "plt.plot(costheta_bins, f1, color='blue')\n",
    "plt.plot(costheta_bins, f2, color='orange')\n",
    "plt.xlabel(r'$\\cos(\\theta)$')\n",
    "plt.ylabel(r'$\\mathrm{d}P/\\mathrm{d}\\cos(\\theta)$')\n",
    "plt.ylim([0.05,1.5])\n",
    "plt.xlim([-1,1])\n",
    "plt.legend([p1,p2], ['centrals', 'satellites'], frameon=False, fontsize=10, loc='upper left')\n",
    "plt.title(r'$9<\\log(M_*/M_{\\odot})$')\n",
    "plt.show()\n",
    "\n",
    "filename = \"galaxy_misalignment_dist.pdf\"\n",
    "fig.savefig('/Users/duncan/Projects/intrinsic_alignments/galaxy_shape_correlations/figures/'+filename, dpi=250)"
   ]
  },
  {
   "cell_type": "markdown",
   "metadata": {},
   "source": [
    "# binary population"
   ]
  },
  {
   "cell_type": "code",
   "execution_count": 20,
   "metadata": {},
   "outputs": [],
   "source": [
    "color = (catalog.galaxy_table['SDSS_u'] - catalog.galaxy_table['SDSS_r'])\n",
    "red = (color > 1.5)\n",
    "blue = (color <= 1.5)"
   ]
  },
  {
   "cell_type": "code",
   "execution_count": 21,
   "metadata": {},
   "outputs": [],
   "source": [
    "disks = catalog.galaxy_table['b_to_t'] <= 0.7\n",
    "ellipticals = catalog.galaxy_table['b_to_t'] > 0.7"
   ]
  },
  {
   "cell_type": "code",
   "execution_count": 22,
   "metadata": {},
   "outputs": [
    {
     "data": {
      "image/png": "[encoded data removed]",
      "text/plain": [
       "<Figure size 237.6x237.6 with 1 Axes>"
      ]
     },
     "metadata": {},
     "output_type": "display_data"
    },
    {
     "data": {
      "image/png": "[encoded data removed]",
      "text/plain": [
       "<Figure size 237.6x237.6 with 1 Axes>"
      ]
     },
     "metadata": {},
     "output_type": "display_data"
    },
    {
     "data": {
      "image/png": "[encoded data removed]",
      "text/plain": [
       "<Figure size 237.6x237.6 with 1 Axes>"
      ]
     },
     "metadata": {},
     "output_type": "display_data"
    }
   ],
   "source": [
    "fig, ax = plt.subplots(1,1,figsize=(3.3,3.3))\n",
    "fig.subplots_adjust(left=0.2, right=0.9, bottom=0.2, top=0.9)\n",
    "plt.plot(catalog.galaxy_table['m_star'], color, '.', ms=1, alpha=1, color='blue')\n",
    "plt.plot([10,10**13],[1.5,1.5], '--', color='red')\n",
    "plt.xscale('log')\n",
    "plt.xlim([10**9,10**12])\n",
    "plt.xlabel(r'$M_{*}~[M_{\\odot}]$')\n",
    "plt.ylabel(r'$b/t$')\n",
    "plt.show()\n",
    "\n",
    "fig, ax = plt.subplots(1,1,figsize=(3.3,3.3))\n",
    "fig.subplots_adjust(left=0.2, right=0.9, bottom=0.2, top=0.9)\n",
    "plt.plot(catalog.galaxy_table['m_star'], catalog.galaxy_table['b_to_t'], '.', ms=1, alpha=1, color='blue')\n",
    "plt.plot([10,10**13],[0.7,0.7], '--', color='red')\n",
    "plt.xscale('log')\n",
    "plt.xlim([10**9,10**12])\n",
    "plt.xlabel(r'$M_{*}~[M_{\\odot}]$')\n",
    "plt.ylabel(r'$b/t$')\n",
    "plt.show()\n",
    "\n",
    "fig, ax = plt.subplots(1,1,figsize=(3.3,3.3))\n",
    "fig.subplots_adjust(left=0.2, right=0.9, bottom=0.2, top=0.9)\n",
    "\n",
    "mask = (catalog.galaxy_table['m_star']>10.0**9.0) & disks\n",
    "counts, xbins, ybins=np.histogram2d(q_gal[mask], s_gal[mask], bins=25)\n",
    "plt.contour(counts.transpose(),extent=[xbins.min(),xbins.max(),\n",
    "    ybins.min(),ybins.max()],linewidths=1,colors='blue',\n",
    "    linestyles='solid')\n",
    "\n",
    "mask = (catalog.galaxy_table['m_star']>10.0**9.0) & ellipticals\n",
    "counts, xbins, ybins=np.histogram2d(q_gal[mask], s_gal[mask], bins=25)\n",
    "plt.contour(counts.transpose(),extent=[xbins.min(),xbins.max(),\n",
    "    ybins.min(),ybins.max()],linewidths=1,colors='red',\n",
    "    linestyles='solid')\n",
    "\n",
    "plt.plot([0,1], [0,1], color='black')\n",
    "plt.xlim([0,1])\n",
    "plt.ylim([0,1])\n",
    "p1, = plt.plot([-1,-1],[-1,-1], color='blue')\n",
    "p2, = plt.plot([-1,-1],[-1,-1], color='red')\n",
    "plt.legend([p1,p2], ['disks','ellipticals'], loc='upper left', fontsize=10, frameon=False)\n",
    "plt.xlabel(r'$q=b/a$')\n",
    "plt.ylabel(r'$c=c/a$')\n",
    "plt.show()\n",
    "\n",
    "filename = \"disk_elliptical_axis_ratios.pdf\"\n",
    "fig.savefig('/Users/duncan/Projects/intrinsic_alignments/galaxy_shape_correlations/figures/'+filename, dpi=250)"
   ]
  },
  {
   "cell_type": "markdown",
   "metadata": {},
   "source": [
    "# measure ED and EE functions"
   ]
  },
  {
   "cell_type": "code",
   "execution_count": 23,
   "metadata": {},
   "outputs": [],
   "source": [
    "from halotools.mock_observables.alignments import ee_3d, ed_3d\n",
    "\n",
    "rbins = np.logspace(-1,1, 20)\n",
    "rbin_centers = (rbins[:-1] + rbins[1:])/2.0"
   ]
  },
  {
   "cell_type": "code",
   "execution_count": 172,
   "metadata": {},
   "outputs": [
    {
     "name": "stdout",
     "output_type": "stream",
     "text": [
      "number of haloes:  18739\n"
     ]
    }
   ],
   "source": [
    "# all galaxies\n",
    "mask = (catalog.galaxy_table['m_star']>10**9.5)\n",
    "print(\"number of haloes: \", np.sum(mask))\n",
    "\n",
    "result_ee_1 = ee_3d(coords[mask], orientation_gal_1[mask], coords[mask], orientation_gal_1[mask], rbins, period=Lbox)\n",
    "result_ed_1 = ed_3d(coords[mask], orientation_gal_1[mask], coords[mask], rbins, period=Lbox)"
   ]
  },
  {
   "cell_type": "code",
   "execution_count": 25,
   "metadata": {},
   "outputs": [
    {
     "name": "stdout",
     "output_type": "stream",
     "text": [
      "number of haloes:  47162\n"
     ]
    }
   ],
   "source": [
    "# blue galaxies\n",
    "mask = (catalog.galaxy_table['m_star']>10**9) & red\n",
    "print(\"number of haloes: \", np.sum(mask))\n",
    "\n",
    "result_ee_2 = ee_3d(coords[mask], orientation_gal_1[mask], coords[mask], orientation_gal_1[mask], rbins, period=Lbox)\n",
    "result_ed_2 = ed_3d(coords[mask], orientation_gal_1[mask], coords[mask], rbins, period=Lbox)"
   ]
  },
  {
   "cell_type": "code",
   "execution_count": 26,
   "metadata": {},
   "outputs": [
    {
     "name": "stdout",
     "output_type": "stream",
     "text": [
      "number of haloes:  9288\n"
     ]
    }
   ],
   "source": [
    "# red galaxies\n",
    "mask = (catalog.galaxy_table['m_star']>10**9) & blue\n",
    "print(\"number of haloes: \", np.sum(mask))\n",
    "\n",
    "result_ee_3 = ee_3d(coords[mask], orientation_gal_1[mask], coords[mask], orientation_gal_1[mask], rbins, period=Lbox)\n",
    "result_ed_3 = ed_3d(coords[mask], orientation_gal_1[mask], coords[mask], rbins, period=Lbox)"
   ]
  },
  {
   "cell_type": "code",
   "execution_count": 173,
   "metadata": {},
   "outputs": [
    {
     "data": {
      "image/png": "[encoded data removed]",
      "text/plain": [
       "<Figure size 237.6x237.6 with 1 Axes>"
      ]
     },
     "metadata": {},
     "output_type": "display_data"
    }
   ],
   "source": [
    "fig, axes = plt.subplots(1,1, sharex = True, sharey = True, figsize=(3.3,3.3))\n",
    "fig.subplots_adjust(left=0.2, right=0.9, bottom=0.2, top=0.9)\n",
    "ax=axes\n",
    "ax.set_title(r'$M_{*}>10^{11} ~[h^{-2}M_{\\odot}]$')\n",
    "ax.set_xscale('log')\n",
    "#ax.set_yscale('log')\n",
    "ax.set_ylabel(r'$\\eta(r)$')\n",
    "ax.set_xlabel(r'$r~[h^{-1}{\\rm Mpc}]$')\n",
    "l2, = ax.plot(rbin_centers, result_ee_1, 'o', color='black')\n",
    "#l2, = ax.plot(rbin_centers, result_ee_2, 'o', color='red')\n",
    "#l2, = ax.plot(rbin_centers, result_ee_3, 'o', color='blue')\n",
    "plt.show()"
   ]
  },
  {
   "cell_type": "code",
   "execution_count": 174,
   "metadata": {},
   "outputs": [
    {
     "data": {
      "image/png": "[encoded data removed]",
      "text/plain": [
       "<Figure size 237.6x237.6 with 1 Axes>"
      ]
     },
     "metadata": {},
     "output_type": "display_data"
    }
   ],
   "source": [
    "fig, axes = plt.subplots(1,1, sharex = True, sharey = True, figsize=(3.3,3.3))\n",
    "fig.subplots_adjust(left=0.2, right=0.9, bottom=0.2, top=0.9)\n",
    "ax=axes\n",
    "ax.set_title(r'$M_{*}>10^{9} ~[h^{-2}M_{\\odot}]$')\n",
    "ax.set_xscale('log')\n",
    "ax.set_yscale('log')\n",
    "ax.set_ylabel(r'$\\eta(r)$')\n",
    "ax.set_xlabel(r'$r~[h^{-1}{\\rm Mpc}]$')\n",
    "l2, = ax.plot(rbin_centers, result_ed_1, 'o', color='black')\n",
    "#l2, = ax.plot(rbin_centers, result_ed_2, 'o', color='red')\n",
    "#l2, = ax.plot(rbin_centers, result_ed_3, 'o', color='blue')\n",
    "plt.show()"
   ]
  },
  {
   "cell_type": "markdown",
   "metadata": {},
   "source": [
    "## halo mass dependence"
   ]
  },
  {
   "cell_type": "code",
   "execution_count": 124,
   "metadata": {},
   "outputs": [],
   "source": [
    "from intrinsic_alignments.halo_shape_correlations.utils import binned_bootstrap_1d\n",
    "\n",
    "Nboot = 2\n",
    "\n",
    "# check for halo mass dependence \n",
    "mbins = np.logspace(10.0,14.0,20)\n",
    "mbin_centers = (mbins[:-1]+mbins[1:])/2.0\n",
    "\n",
    "mask = centrals & (table['m_star']>10**9)\n",
    "x = np.cos(theta_misalignment_1)\n",
    "\n",
    "statisic = lambda x: inverse_alignment_strenth(dist.fit(x, floc=0, fscale=1)[0])\n",
    "p, err_p = binned_bootstrap_1d(catalog.galaxy_table['halo_mass'][mask], x[mask], mbins,\n",
    "                               statistic=statisic, Nboot=Nboot)"
   ]
  },
  {
   "cell_type": "code",
   "execution_count": 138,
   "metadata": {},
   "outputs": [
    {
     "data": {
      "image/png": "[encoded data removed]",
      "text/plain": [
       "<Figure size 237.6x237.6 with 1 Axes>"
      ]
     },
     "metadata": {},
     "output_type": "display_data"
    }
   ],
   "source": [
    "from intrinsic_alignments.ia_models.ia_model_components import HaloMassCentralAlignmentStrength\n",
    "central_aligment_strength = HaloMassCentralAlignmentStrength(central_alignment_gamma=0.6, central_alignment_a=0.02)\n",
    "\n",
    "fig, ax = plt.subplots(1,1,figsize=(3.3,3.3))\n",
    "fig.subplots_adjust(left=0.2, right=0.9, bottom=0.2, top=0.9)\n",
    "ax.errorbar(mbin_centers, p, yerr=5*err_p, fmt='o', ms=4, color='black')\n",
    "plt.plot(mbin_centers, central_aligment_strength.alignment_strength_mass_dependence(mbin_centers), '-', color='black')\n",
    "ax.set_ylim([0,1])\n",
    "ax.set_xscale('log')\n",
    "ax.set_xlabel(r'$M_{\\rm halo}~[M_{\\odot}]$')\n",
    "ax.set_ylabel(r'$\\mu$')\n",
    "plt.show()\n",
    "\n",
    "filename = \"measured_halo_mass_central_alignment_strength.pdf\"\n",
    "fig.savefig('/Users/duncan/Projects/intrinsic_alignments/galaxy_shape_correlations/figures/'+filename, dpi=250)"
   ]
  },
  {
   "cell_type": "markdown",
   "metadata": {},
   "source": [
    "## stellar mass dependence"
   ]
  },
  {
   "cell_type": "code",
   "execution_count": 181,
   "metadata": {},
   "outputs": [],
   "source": [
    "from intrinsic_alignments.halo_shape_correlations.utils import binned_bootstrap_1d\n",
    "\n",
    "Nboot = 2\n",
    "\n",
    "# check for halo mass dependence \n",
    "mbins = np.logspace(9.0,12.0,15)\n",
    "mbin_centers = (mbins[:-1]+mbins[1:])/2.0\n",
    "\n",
    "mask = centrals & (table['m_star']>10**9)\n",
    "x = np.cos(theta_misalignment_1)\n",
    "\n",
    "statisic = lambda x: inverse_alignment_strenth(dist.fit(x, floc=0, fscale=1)[0])\n",
    "p, err_p = binned_bootstrap_1d(catalog.galaxy_table['m_star'][mask], x[mask], mbins,\n",
    "                               statistic=statisic, Nboot=Nboot)"
   ]
  },
  {
   "cell_type": "code",
   "execution_count": 182,
   "metadata": {},
   "outputs": [
    {
     "data": {
      "image/png": "[encoded data removed]",
      "text/plain": [
       "<Figure size 237.6x237.6 with 1 Axes>"
      ]
     },
     "metadata": {},
     "output_type": "display_data"
    }
   ],
   "source": [
    "fig, ax = plt.subplots(1,1,figsize=(3.3,3.3))\n",
    "fig.subplots_adjust(left=0.2, right=0.9, bottom=0.2, top=0.9)\n",
    "ax.errorbar(mbin_centers, p, yerr=5*err_p, fmt='o', ms=4, color='black')\n",
    "ax.set_ylim([0,1])\n",
    "ax.set_xscale('log')\n",
    "ax.set_xlabel(r'$M_{*}~[M_{\\odot}]$')\n",
    "ax.set_ylabel(r'$\\mu$')\n",
    "plt.show()"
   ]
  },
  {
   "cell_type": "markdown",
   "metadata": {},
   "source": [
    "## radial dependence"
   ]
  },
  {
   "cell_type": "code",
   "execution_count": 179,
   "metadata": {},
   "outputs": [],
   "source": [
    "from intrinsic_alignments.halo_shape_correlations.utils import binned_bootstrap_1d\n",
    "\n",
    "Nboot = 2\n",
    "\n",
    "# check for halo mass dependence \n",
    "rbins = np.logspace(-1,0.5,10)\n",
    "rbin_centers = (rbins[:-1]+rbins[1:])/2.0\n",
    "\n",
    "mask = satellites & (table['m_star']>10**9.0)\n",
    "x = np.cos(theta_misalignment_1)\n",
    "\n",
    "statisic = lambda x: inverse_alignment_strenth(dist.fit(x, floc=0, fscale=1)[0])\n",
    "p, err_p = binned_bootstrap_1d(r[mask], x[mask], rbins,\n",
    "                               statistic=statisic, Nboot=Nboot)"
   ]
  },
  {
   "cell_type": "code",
   "execution_count": 180,
   "metadata": {},
   "outputs": [
    {
     "data": {
      "image/png": "[encoded data removed]",
      "text/plain": [
       "<Figure size 237.6x237.6 with 1 Axes>"
      ]
     },
     "metadata": {},
     "output_type": "display_data"
    }
   ],
   "source": [
    "from intrinsic_alignments.ia_models.ia_model_components import RadialSatelliteAlignmentStrength\n",
    "satellite_aligment_strength = RadialSatelliteAlignmentStrength(satellite_alignment_a=0.55, satellite_alignment_gamma=1.5)\n",
    "\n",
    "r_sample = np.logspace(-2,1,100)\n",
    "\n",
    "fig, ax = plt.subplots(1,1,figsize=(3.3,3.3))\n",
    "fig.subplots_adjust(left=0.2, right=0.9, bottom=0.2, top=0.9)\n",
    "ax.errorbar(rbin_centers, p, yerr=5*err_p, fmt='o', ms=4, color='black')\n",
    "plt.plot(r_sample , satellite_aligment_strength.alignment_strength_radial_dependence(r_sample), '-', color='black')\n",
    "ax.set_ylim([-0.1,1])\n",
    "ax.set_xlim([0.09,5])\n",
    "ax.set_xscale('log')\n",
    "ax.set_xlabel(r'$r/r_{\\rm vir}$')\n",
    "ax.set_ylabel(r'$\\mu$')\n",
    "plt.show()\n",
    "\n",
    "filename = \"measured_radial_satellite_alignment_strength.pdf\"\n",
    "fig.savefig('/Users/duncan/Projects/intrinsic_alignments/galaxy_shape_correlations/figures/'+filename, dpi=250)"
   ]
  },
  {
   "cell_type": "markdown",
   "metadata": {},
   "source": [
    "# Model Alignment Correlations"
   ]
  },
  {
   "cell_type": "code",
   "execution_count": 80,
   "metadata": {},
   "outputs": [],
   "source": [
    "from astropy.table import Table\n",
    "table = Table(catalog.galaxy_table)\n",
    "table['halo_x'] =catalog.galaxy_table['x'][index_of_central]\n",
    "table['halo_y'] =catalog.galaxy_table['y'][index_of_central]\n",
    "table['halo_z'] =catalog.galaxy_table['z'][index_of_central]\n",
    "table['halo_rvir'] = catalog.galaxy_table['host_virial_radius']\n",
    "table['halo_mvir'] = catalog.galaxy_table['host_halo_mass']\n",
    "table['halo_axisA_x'] = catalog.galaxy_table['shapesDM.a3d_x']\n",
    "table['halo_axisA_y'] = catalog.galaxy_table['shapesDM.a3d_y']\n",
    "table['halo_axisA_z'] = catalog.galaxy_table['shapesDM.a3d_z']\n",
    "table['gal_type'] = 'satellites'\n",
    "table['gal_type'][centrals] = 'centrals'"
   ]
  },
  {
   "cell_type": "code",
   "execution_count": 193,
   "metadata": {},
   "outputs": [],
   "source": [
    "from intrinsic_alignments.ia_models.ia_model_components import CentralAlignment\n",
    "from intrinsic_alignments.ia_models.ia_model_components import RadialSatelliteAlignment\n",
    "cen_alignment_model = CentralAlignment(central_alignment_strength=0.8)\n",
    "sat_alignment_model = RadialSatelliteAlignment(satellite_alignment_strength=0.4, Lbox=Lbox)\n",
    "#satellite_aligment_strength = RadialSatelliteAlignmentStrength(satellite_alignment_a=0.55, satellite_alignment_gamma=1.5)\n",
    "#central_aligment_strength = HaloMassCentralAlignmentStrength(central_alignment_gamma=0.6, central_alignment_a=0.02)"
   ]
  },
  {
   "cell_type": "code",
   "execution_count": 194,
   "metadata": {},
   "outputs": [],
   "source": [
    "#table = Table(np.copy(central_aligment_strength.assign_central_alignment_strength(table=table))) \n",
    "#table = Table(np.copy(satellite_aligment_strength.assign_satellite_alignment_strength(table=table,  Lbox=Lbox))) \n",
    "\n",
    "table = Table(np.copy(cen_alignment_model.assign_central_orientation(table=table)))\n",
    "table = Table(np.copy(sat_alignment_model.assign_satellite_orientation(table=table)))"
   ]
  },
  {
   "cell_type": "code",
   "execution_count": 195,
   "metadata": {},
   "outputs": [],
   "source": [
    "gal_coords = np.vstack((table['x'],\n",
    "                        table['y'],\n",
    "                        table['z'])).T\n",
    "\n",
    "gal_orientation = np.vstack((table['galaxy_axisA_x'],\n",
    "                             table['galaxy_axisA_y'],\n",
    "                             table['galaxy_axisA_z'])).T\n",
    "\n",
    "host_id = table['host_halo_id']"
   ]
  },
  {
   "cell_type": "code",
   "execution_count": 196,
   "metadata": {},
   "outputs": [],
   "source": [
    "from halotools.mock_observables.alignments import ee_3d, ed_3d, ed_3d_one_two_halo_decomp, ee_3d_one_two_halo_decomp\n",
    "\n",
    "rbins = np.logspace(-1,1, 20)\n",
    "rbin_centers = (rbins[:-1] + rbins[1:])/2.0"
   ]
  },
  {
   "cell_type": "code",
   "execution_count": 197,
   "metadata": {},
   "outputs": [
    {
     "name": "stdout",
     "output_type": "stream",
     "text": [
      "number of galaxies:  56450\n"
     ]
    }
   ],
   "source": [
    "# all galaxies\n",
    "mask = (table['m_star']>10**9.0)\n",
    "print(\"number of galaxies: \", np.sum(mask))\n",
    "\n",
    "result_ee_11 = ee_3d(gal_coords[mask], gal_orientation[mask], gal_coords[mask], gal_orientation[mask], rbins, period=Lbox)\n",
    "result_ed_11 = ed_3d(gal_coords[mask], gal_orientation[mask], gal_coords[mask], rbins, period=Lbox)\n"
   ]
  },
  {
   "cell_type": "code",
   "execution_count": 198,
   "metadata": {},
   "outputs": [],
   "source": [
    "result_ee_11_1h, result_ee_11_2h = ee_3d_one_two_halo_decomp(gal_coords[mask], gal_orientation[mask], host_id[mask], gal_coords[mask], gal_orientation[mask], host_id[mask], rbins, period=Lbox)\n",
    "result_ed_11_1h, result_ed_11_2h = ed_3d_one_two_halo_decomp(gal_coords[mask], gal_orientation[mask], host_id[mask], gal_coords[mask], host_id[mask], rbins, period=Lbox)\n"
   ]
  },
  {
   "cell_type": "code",
   "execution_count": 199,
   "metadata": {},
   "outputs": [
    {
     "data": {
      "image/png": "[encoded data removed]",
      "text/plain": [
       "<Figure size 237.6x237.6 with 1 Axes>"
      ]
     },
     "metadata": {},
     "output_type": "display_data"
    },
    {
     "data": {
      "image/png": "[encoded data removed]",
      "text/plain": [
       "<Figure size 237.6x237.6 with 1 Axes>"
      ]
     },
     "metadata": {},
     "output_type": "display_data"
    }
   ],
   "source": [
    "fig, axes = plt.subplots(1,1, sharex = True, sharey = True, figsize=(3.3,3.3))\n",
    "fig.subplots_adjust(left=0.2, right=0.9, bottom=0.2, top=0.9)\n",
    "ax=axes\n",
    "ax.set_title(r'$M_{*}>10^{9} ~[h^{-2}M_{\\odot}]$')\n",
    "ax.set_xscale('log')\n",
    "#ax.set_yscale('log')\n",
    "ax.set_ylabel(r'$\\eta(r)$')\n",
    "ax.set_xlabel(r'$r~[h^{-1}{\\rm Mpc}]$')\n",
    "l2, = ax.plot(rbin_centers, result_ee_1, 'o', color='black')\n",
    "l2, = ax.plot(rbin_centers, result_ee_11, '-', color='black')\n",
    "l2, = ax.plot(rbin_centers, result_ee_11_1h, ':', color='black')\n",
    "l2, = ax.plot(rbin_centers, result_ee_11_2h, '--', color='black')\n",
    "plt.show()\n",
    "\n",
    "fig, axes = plt.subplots(1,1, sharex = True, sharey = True, figsize=(3.3,3.3))\n",
    "fig.subplots_adjust(left=0.2, right=0.9, bottom=0.2, top=0.9)\n",
    "ax=axes\n",
    "ax.set_title(r'$M_{*}>10^{9} ~[h^{-2}M_{\\odot}]$')\n",
    "ax.set_xscale('log')\n",
    "ax.set_yscale('log')\n",
    "ax.set_ylim([0.005,0.1])\n",
    "ax.set_ylabel(r'$\\eta(r)$')\n",
    "ax.set_xlabel(r'$r~[h^{-1}{\\rm Mpc}]$')\n",
    "l2, = ax.plot(rbin_centers, result_ed_1, 'o', color='black')\n",
    "l2, = ax.plot(rbin_centers, result_ed_11, '-', color='black')\n",
    "l2, = ax.plot(rbin_centers, result_ed_11_1h, ':', color='black')\n",
    "l2, = ax.plot(rbin_centers, result_ed_11_2h, '--', color='black')\n",
    "plt.show()"
   ]
  },
  {
   "cell_type": "code",
   "execution_count": null,
   "metadata": {},
   "outputs": [],
   "source": []
  }
 ],
 "metadata": {
  "kernelspec": {
   "display_name": "Python 2",
   "language": "python",
   "name": "python2"
  },
  "language_info": {
   "codemirror_mode": {
    "name": "ipython",
    "version": 2
   },
   "file_extension": ".py",
   "mimetype": "text/x-python",
   "name": "python",
   "nbconvert_exporter": "python",
   "pygments_lexer": "ipython2",
   "version": "2.7.15"
  }
 },
 "nbformat": 4,
 "nbformat_minor": 2
}
