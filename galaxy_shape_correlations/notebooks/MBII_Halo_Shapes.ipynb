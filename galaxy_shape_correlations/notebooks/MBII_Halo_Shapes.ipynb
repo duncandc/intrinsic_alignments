{
 "cells": [
  {
   "cell_type": "code",
   "execution_count": 1,
   "metadata": {},
   "outputs": [],
   "source": [
    "from __future__ import print_function, division\n",
    "import numpy as np\n",
    "import matplotlib.pyplot as plt\n",
    "%matplotlib inline"
   ]
  },
  {
   "cell_type": "markdown",
   "metadata": {},
   "source": [
    "## Load Galaxy Catalog"
   ]
  },
  {
   "cell_type": "code",
   "execution_count": 2,
   "metadata": {},
   "outputs": [
    {
     "name": "stderr",
     "output_type": "stream",
     "text": [
      "/anaconda2/lib/python2.7/site-packages/h5py/__init__.py:36: FutureWarning: Conversion of the second argument of issubdtype from `float` to `np.floating` is deprecated. In future, it will be treated as `np.float64 == np.dtype(float).type`.\n",
      "  from ._conv import register_converters as _register_converters\n"
     ]
    }
   ],
   "source": [
    "from intrinsic_alignments.data.MB2_subfind_cat_utils import MBII_galaxy_catalog\n",
    "catalog = MBII_galaxy_catalog(1.0)"
   ]
  },
  {
   "cell_type": "code",
   "execution_count": 3,
   "metadata": {},
   "outputs": [],
   "source": [
    "centrals = (catalog.galaxy_table['central']==1)\n",
    "satellites = (catalog.galaxy_table['satellite']==1)"
   ]
  },
  {
   "cell_type": "markdown",
   "metadata": {},
   "source": [
    "## Halo Shapes"
   ]
  },
  {
   "cell_type": "code",
   "execution_count": 4,
   "metadata": {},
   "outputs": [],
   "source": [
    "# caclulate 3D ellipticites and axis ratios\n",
    "q_dm = catalog.galaxy_table['shapesDM.q3d']\n",
    "e_dm = (1.0-q_dm)/(1.0+q_dm**2)\n",
    "s_dm = catalog.galaxy_table['shapesDM.s3d']"
   ]
  },
  {
   "cell_type": "code",
   "execution_count": 9,
   "metadata": {},
   "outputs": [
    {
     "name": "stderr",
     "output_type": "stream",
     "text": [
      "/anaconda2/lib/python2.7/site-packages/ipykernel_launcher.py:25: RuntimeWarning: invalid value encountered in true_divide\n"
     ]
    }
   ],
   "source": [
    "qbins = np.linspace(0,1,25)\n",
    "\n",
    "mask = (catalog.galaxy_table['m_dm']>10**11.0) & (catalog.galaxy_table['m_dm']<10**12.0) & centrals\n",
    "counts_1 = np.histogram(q_dm[mask], bins=qbins)[0]\n",
    "normalized_counts_1a = counts_1/np.sum(counts_1)/np.diff(qbins)\n",
    "\n",
    "mask = (catalog.galaxy_table['m_dm']>10**12.0) & (catalog.galaxy_table['m_dm']<10**13.0) & centrals\n",
    "counts_2 = np.histogram(q_dm[mask], bins=qbins)[0]\n",
    "normalized_counts_2a = counts_2/np.sum(counts_2)/np.diff(qbins)\n",
    "\n",
    "mask = (catalog.galaxy_table['m_dm']>10**13.0) & (catalog.galaxy_table['m_dm']<10**14.0) & centrals\n",
    "counts_3 = np.histogram(q_dm[mask], bins=qbins)[0]\n",
    "normalized_counts_3a = counts_3/np.sum(counts_3)/np.diff(qbins)\n",
    "\n",
    "mask = (catalog.galaxy_table['m_dm']>10**11.0) & (catalog.galaxy_table['m_dm']<10**12.0) & satellites\n",
    "counts_1 = np.histogram(q_dm[mask], bins=qbins)[0]\n",
    "normalized_counts_1b = counts_1/np.sum(counts_1)/np.diff(qbins)\n",
    "\n",
    "mask = (catalog.galaxy_table['m_dm']>10**12.0) & (catalog.galaxy_table['m_dm']<10**13.0) & satellites\n",
    "counts_2 = np.histogram(q_dm[mask], bins=qbins)[0]\n",
    "normalized_counts_2b = counts_2/np.sum(counts_2)/np.diff(qbins)\n",
    "\n",
    "mask = (catalog.galaxy_table['m_dm']>10**13.0) & (catalog.galaxy_table['m_dm']<10**12.0) & satellites\n",
    "counts_3 = np.histogram(q_dm[mask], bins=qbins)[0]\n",
    "normalized_counts_3b = counts_3/np.sum(counts_3)/np.diff(qbins)"
   ]
  },
  {
   "cell_type": "code",
   "execution_count": 24,
   "metadata": {},
   "outputs": [
    {
     "data": {
      "image/png": "[encoded data removed]",
      "text/plain": [
       "<Figure size 712.8x237.6 with 3 Axes>"
      ]
     },
     "metadata": {},
     "output_type": "display_data"
    }
   ],
   "source": [
    "fig, axes = plt.subplots(1,3, sharey = True, figsize=(9.9,3.3))\n",
    "fig.subplots_adjust(left=0.1, right=0.95, bottom=0.2, top=0.9)\n",
    "ax=axes[0]\n",
    "ax.set_title(r'$11<\\log(M_{\\rm halo}/h^{-1}M_{\\odot})<12$')\n",
    "p1, = ax.step(qbins[:-1], normalized_counts_1a, '-')\n",
    "p2, = ax.step(qbins[:-1], normalized_counts_1b, '-')\n",
    "ax.set_xlabel(r'$q\\equiv b/a$')\n",
    "ax.set_ylabel(r'$\\mathrm{d}P/\\mathrm{d}q$')\n",
    "ax.legend([p1,p2],['host-haloes','sub-haloes'], loc='upper left',fontsize=10, frameon=False)\n",
    "ax=axes[1]\n",
    "ax.set_title(r'$12<\\log(M_{\\rm halo}/h^{-1}M_{\\odot})<13$')\n",
    "ax.step(qbins[:-1], normalized_counts_2a, '-')\n",
    "ax.step(qbins[:-1], normalized_counts_2b, '-')\n",
    "ax.set_xlabel(r'$q\\equiv b/a$')\n",
    "ax=axes[2]\n",
    "ax.set_title(r'$13<\\log(M_{\\rm halo}/h^{-1}M_{\\odot})<14$')\n",
    "ax.step(qbins[:-1], normalized_counts_3a, '-')\n",
    "ax.step(qbins[:-1], normalized_counts_3b, '-')\n",
    "ax.set_xlabel(r'$q\\equiv b/a$')\n",
    "plt.show()"
   ]
  },
  {
   "cell_type": "code",
   "execution_count": 20,
   "metadata": {},
   "outputs": [
    {
     "name": "stderr",
     "output_type": "stream",
     "text": [
      "/anaconda2/lib/python2.7/site-packages/ipykernel_launcher.py:25: RuntimeWarning: invalid value encountered in true_divide\n"
     ]
    }
   ],
   "source": [
    "sbins = np.linspace(0,1,25)\n",
    "\n",
    "mask = (catalog.galaxy_table['m_dm']>10**11.0) & (catalog.galaxy_table['m_dm']<10**12.0) & centrals\n",
    "counts_1 = np.histogram(s_dm[mask], bins=qbins)[0]\n",
    "normalized_counts_1a = counts_1/np.sum(counts_1)/np.diff(qbins)\n",
    "\n",
    "mask = (catalog.galaxy_table['m_dm']>10**12.0) & (catalog.galaxy_table['m_dm']<10**13.0) & centrals\n",
    "counts_2 = np.histogram(s_dm[mask], bins=qbins)[0]\n",
    "normalized_counts_2a = counts_2/np.sum(counts_2)/np.diff(qbins)\n",
    "\n",
    "mask = (catalog.galaxy_table['m_dm']>10**13.0) & (catalog.galaxy_table['m_dm']<10**14.0) & centrals\n",
    "counts_3 = np.histogram(s_dm[mask], bins=qbins)[0]\n",
    "normalized_counts_3a = counts_3/np.sum(counts_3)/np.diff(qbins)\n",
    "\n",
    "mask = (catalog.galaxy_table['m_dm']>10**11.0) & (catalog.galaxy_table['m_dm']<10**12.0) & satellites\n",
    "counts_1 = np.histogram(s_dm[mask], bins=qbins)[0]\n",
    "normalized_counts_1b = counts_1/np.sum(counts_1)/np.diff(qbins)\n",
    "\n",
    "mask = (catalog.galaxy_table['m_dm']>10**12.0) & (catalog.galaxy_table['m_dm']<10**13.0) & satellites\n",
    "counts_2 = np.histogram(s_dm[mask], bins=qbins)[0]\n",
    "normalized_counts_2b = counts_2/np.sum(counts_2)/np.diff(qbins)\n",
    "\n",
    "mask = (catalog.galaxy_table['m_dm']>10**13.0) & (catalog.galaxy_table['m_dm']<10**12.0) & satellites\n",
    "counts_3 = np.histogram(s_dm[mask], bins=qbins)[0]\n",
    "normalized_counts_3b = counts_3/np.sum(counts_3)/np.diff(qbins)"
   ]
  },
  {
   "cell_type": "code",
   "execution_count": 25,
   "metadata": {},
   "outputs": [
    {
     "data": {
      "image/png": "[encoded data removed]",
      "text/plain": [
       "<Figure size 712.8x237.6 with 3 Axes>"
      ]
     },
     "metadata": {},
     "output_type": "display_data"
    }
   ],
   "source": [
    "fig, axes = plt.subplots(1,3, sharey = True, figsize=(9.9,3.3))\n",
    "fig.subplots_adjust(left=0.1, right=0.95, bottom=0.2, top=0.9)\n",
    "ax=axes[0]\n",
    "ax.set_title(r'$11<\\log(M_{\\rm halo}/h^{-1}M_{\\odot})<12$')\n",
    "p1, = ax.step(qbins[:-1], normalized_counts_1a, '-')\n",
    "p2, = ax.step(qbins[:-1], normalized_counts_1b, '-')\n",
    "ax.set_xlabel(r'$q\\equiv b/a$')\n",
    "ax.set_ylabel(r'$\\mathrm{d}P/\\mathrm{d}q$')\n",
    "ax.legend([p1,p2],['host-haloes','sub-haloes'], loc='upper left',fontsize=10, frameon=False)\n",
    "ax=axes[1]\n",
    "ax.set_title(r'$12<\\log(M_{\\rm halo}/h^{-1}M_{\\odot})<13$')\n",
    "ax.step(qbins[:-1], normalized_counts_2a, '-')\n",
    "ax.step(qbins[:-1], normalized_counts_2b, '-')\n",
    "ax.set_xlabel(r'$q\\equiv b/a$')\n",
    "ax=axes[2]\n",
    "ax.set_title(r'$13<\\log(M_{\\rm halo}/h^{-1}M_{\\odot})<14$')\n",
    "ax.step(qbins[:-1], normalized_counts_3a, '-')\n",
    "ax.step(qbins[:-1], normalized_counts_3b, '-')\n",
    "ax.set_xlabel(r'$q\\equiv b/a$')\n",
    "plt.show()"
   ]
  },
  {
   "cell_type": "code",
   "execution_count": null,
   "metadata": {},
   "outputs": [],
   "source": []
  }
 ],
 "metadata": {
  "kernelspec": {
   "display_name": "Python 2",
   "language": "python",
   "name": "python2"
  },
  "language_info": {
   "codemirror_mode": {
    "name": "ipython",
    "version": 2
   },
   "file_extension": ".py",
   "mimetype": "text/x-python",
   "name": "python",
   "nbconvert_exporter": "python",
   "pygments_lexer": "ipython2",
   "version": "2.7.14"
  }
 },
 "nbformat": 4,
 "nbformat_minor": 2
}
