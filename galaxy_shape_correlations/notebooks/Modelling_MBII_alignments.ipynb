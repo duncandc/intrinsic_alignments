{
 "cells": [
  {
   "cell_type": "code",
   "execution_count": 25,
   "metadata": {
    "collapsed": true
   },
   "outputs": [],
   "source": [
    "from __future__ import print_function, division\n",
    "import numpy as np\n",
    "import matplotlib.pyplot as plt\n",
    "%matplotlib inline\n",
    "PROJECT_DIRECTORY = '/Users/duncan/Projects/intrinsic_alignments/'"
   ]
  },
  {
   "cell_type": "markdown",
   "metadata": {},
   "source": [
    "# load galaxy catalog"
   ]
  },
  {
   "cell_type": "code",
   "execution_count": 26,
   "metadata": {},
   "outputs": [
    {
     "name": "stdout",
     "output_type": "stream",
     "text": [
      "halos.subfindId\n",
      "halos.central\n",
      "halos.mass\n",
      "halos.vdisp\n",
      "halos.vcirc\n",
      "halos.rcirc\n",
      "halos.m_gas\n",
      "halos.m_dm\n",
      "halos.m_star\n",
      "halos.m_bh\n",
      "halos.x\n",
      "halos.y\n",
      "halos.z\n",
      "halos.vx\n",
      "halos.vy\n",
      "halos.vz\n",
      "groups.groupId\n",
      "groups.subfindId\n",
      "groups.mass\n",
      "groups.m_gas\n",
      "groups.m_dm\n",
      "groups.m_star\n",
      "groups.m_bh\n",
      "groups.x\n",
      "groups.y\n",
      "groups.z\n",
      "groups.vx\n",
      "groups.vy\n",
      "groups.vz\n",
      "prop.sfr\n",
      "prop.btr\n",
      "prop.SDSS_g\n",
      "prop.SDSS_i\n",
      "prop.SDSS_r\n",
      "prop.SDSS_u\n",
      "prop.SDSS_z\n",
      "shapesDM.q3d\n",
      "shapesDM.s3d\n",
      "shapesDM.q2d\n",
      "shapesDM.a3d_x\n",
      "shapesDM.a3d_y\n",
      "shapesDM.a3d_z\n",
      "shapesDM.b3d_x\n",
      "shapesDM.b3d_y\n",
      "shapesDM.b3d_z\n",
      "shapesDM.c3d_x\n",
      "shapesDM.c3d_y\n",
      "shapesDM.c3d_z\n",
      "shapesDM.a2d_x\n",
      "shapesDM.a2d_y\n",
      "shapesDM.b2d_x\n",
      "shapesDM.b2d_y\n",
      "shapesStar.q3d\n",
      "shapesStar.s3d\n",
      "shapesStar.q2d\n",
      "shapesStar.a3d_x\n",
      "shapesStar.a3d_y\n",
      "shapesStar.a3d_z\n",
      "shapesStar.b3d_x\n",
      "shapesStar.b3d_y\n",
      "shapesStar.b3d_z\n",
      "shapesStar.c3d_x\n",
      "shapesStar.c3d_y\n",
      "shapesStar.c3d_z\n",
      "shapesStar.a2d_x\n",
      "shapesStar.a2d_y\n",
      "shapesStar.b2d_x\n",
      "shapesStar.b2d_y\n",
      "tid500.a_x\n",
      "tid500.a_y\n",
      "tid500.a_z\n",
      "tid500.b_x\n",
      "tid500.b_y\n",
      "tid500.b_z\n",
      "tid500.c_x\n",
      "tid500.c_y\n",
      "tid500.c_z\n",
      "tid500.eigv1\n",
      "tid500.eigv2\n",
      "tid500.eigv3\n",
      "tid1000.a_x\n",
      "tid1000.a_y\n",
      "tid1000.a_z\n",
      "tid1000.b_x\n",
      "tid1000.b_y\n",
      "tid1000.b_z\n",
      "tid1000.c_x\n",
      "tid1000.c_y\n",
      "tid1000.c_z\n",
      "tid1000.eigv1\n",
      "tid1000.eigv2\n",
      "tid1000.eigv3\n",
      "tid10000.a_x\n",
      "tid10000.a_y\n",
      "tid10000.a_z\n",
      "tid10000.b_x\n",
      "tid10000.b_y\n",
      "tid10000.b_z\n",
      "tid10000.c_x\n",
      "tid10000.c_y\n",
      "tid10000.c_z\n",
      "tid10000.eigv1\n",
      "tid10000.eigv2\n",
      "tid10000.eigv3\n"
     ]
    }
   ],
   "source": [
    "# get table of halo properties\n",
    "from astropy.table import Table\n",
    "filepath = PROJECT_DIRECTORY+'data/MB2_subfind_z_0.06.hdf5'\n",
    "data = Table.read(filepath, path='hydro_full')\n",
    "for name in data.dtype.names:\n",
    "    print(name)\n",
    "\n",
    "# convert some properties to standard units\n",
    "data['halos.m_star'] = data['halos.m_star']*10**10\n",
    "data['halos.m_dm'] = data['halos.m_dm'] * 10.0**10.0\n",
    "data['halos.m_bh'] = data['halos.m_bh'] * 10.0**10.0\n",
    "\n",
    "data['halos.x'] = data['halos.x']/1000.0\n",
    "data['halos.y'] = data['halos.y']/1000.0\n",
    "data['halos.z'] = data['halos.z']/1000.0\n",
    "\n",
    "data['groups.x'] = data['groups.x']/1000.0\n",
    "data['groups.y'] = data['groups.y']/1000.0\n",
    "data['groups.z'] = data['groups.z']/1000.0\n",
    "\n",
    "Lbox = np.array([100.0,100.0,100.0])\n",
    "dm_particle_mass = 1.1*10**7 "
   ]
  },
  {
   "cell_type": "markdown",
   "metadata": {},
   "source": [
    "# convert some quantities"
   ]
  },
  {
   "cell_type": "code",
   "execution_count": 27,
   "metadata": {},
   "outputs": [
    {
     "name": "stdout",
     "output_type": "stream",
     "text": [
      "number of galaxies:  4633801\n",
      "satellite fraction:  0.254152908163\n"
     ]
    }
   ],
   "source": [
    "print(\"number of galaxies: \", len(data))\n",
    "\n",
    "# check centrals and satellite\n",
    "\n",
    "centrals = (data['halos.central']==1)\n",
    "satellites = (data['halos.central']==0)\n",
    "\n",
    "print(\"satellite fraction: \", np.sum(satellites)/len(data))\n",
    "\n",
    "# get index of central galaxy\n",
    "from halotools.utils import crossmatch\n",
    "central_indices = (np.arange(0,len(data)).astype('int'))[centrals]\n",
    "inds1, inds2 = crossmatch(data['groups.groupId'], data['groups.groupId'][centrals])\n",
    "\n",
    "index_of_central = np.arange(0,len(data)).astype('int')\n",
    "index_of_central[inds1] = central_indices[inds2]"
   ]
  },
  {
   "cell_type": "code",
   "execution_count": 28,
   "metadata": {
    "collapsed": true
   },
   "outputs": [],
   "source": [
    "# get galaxy/halo coordinates in halotools format\n",
    "coords = np.vstack((data['halos.x'],\n",
    "                    data['halos.y'],\n",
    "                    data['halos.z'])).T\n",
    "\n",
    "# caclulate ellipticites and axis ratios\n",
    "q_dm = data['shapesDM.q3d']\n",
    "e_dm = (1.0-q_dm)/(1.0+q_dm**2)\n",
    "s_dm = data['shapesDM.s3d']\n",
    "\n",
    "q_gal = data['shapesStar.q3d']\n",
    "e_gal = (1.0-q_gal)/(1.0+q_gal**2)\n",
    "s_gal = data['shapesStar.s3d']\n",
    "\n",
    "q_dm = data['shapesDM.q2d']\n",
    "proj_e_dm = (1.0-q_dm)/(1.0+q_dm**2)\n",
    "\n",
    "q_gal = data['shapesStar.q2d']\n",
    "proj_e_gal = (1.0-q_gal)/(1.0+q_gal**2)\n",
    "\n",
    "# calculate orientations\n",
    "orientation_dm = np.vstack((data['shapesDM.a3d_x'],\n",
    "                            data['shapesDM.a3d_y'],\n",
    "                            data['shapesDM.a3d_z'])).T\n",
    "\n",
    "orientation_dm_2 = np.vstack((data['shapesDM.c3d_x'],\n",
    "                            data['shapesDM.c3d_y'],\n",
    "                            data['shapesDM.c3d_z'])).T\n",
    "\n",
    "orientation_gal = np.vstack((data['shapesStar.a3d_x'],\n",
    "                             data['shapesStar.a3d_y'],\n",
    "                             data['shapesStar.a3d_z'])).T\n",
    "\n",
    "orientation_gal_2 = np.vstack((data['shapesStar.c3d_x'],\n",
    "                             data['shapesStar.c3d_y'],\n",
    "                             data['shapesStar.c3d_z'])).T\n",
    "\n",
    "proj_orientation_dm = np.vstack((data['shapesDM.a2d_x'],\n",
    "                                 data['shapesDM.a2d_y'])).T\n",
    "\n",
    "proj_orientation_gal = np.vstack((data['shapesStar.a2d_x'],\n",
    "                                  data['shapesStar.a2d_y'])).T"
   ]
  },
  {
   "cell_type": "code",
   "execution_count": 29,
   "metadata": {},
   "outputs": [],
   "source": [
    "from intrinsic_alignments.ia_models.ia_model_components import RadialSatelliteAlignment\n",
    "sat_alignment_model = RadialSatelliteAlignment(Lbox=Lbox)\n",
    "# satellite position orintations\n",
    "\n",
    "halo_x = data['halos.x'][index_of_central]\n",
    "halo_y = data['halos.y'][index_of_central]\n",
    "halo_z = data['halos.z'][index_of_central]\n",
    "x = data['halos.x']\n",
    "y = data['halos.y']\n",
    "z = data['halos.z']\n",
    "\n",
    "cen_sat_direction = sat_alignment_model.get_radial_vector(x=x, y=y, z=z,\n",
    "                                                          halo_x=halo_x,\n",
    "                                                          halo_y=halo_y,\n",
    "                                                          halo_z=halo_z)\n",
    "\n",
    "dx = cen_sat_direction[:,0]\n",
    "dy = cen_sat_direction[:,1]\n",
    "dz = cen_sat_direction[:,2]\n",
    "r = np.sqrt(dx**2 + dy**2 + dz**2)"
   ]
  },
  {
   "cell_type": "code",
   "execution_count": 30,
   "metadata": {
    "collapsed": true
   },
   "outputs": [],
   "source": [
    "N = len(data)\n",
    "random_orientations = np.random.random((N,3))*2.0 - 1.0"
   ]
  },
  {
   "cell_type": "code",
   "execution_count": 31,
   "metadata": {},
   "outputs": [],
   "source": [
    "from halotools.utils import normalized_vectors, angles_between_list_of_vectors\n",
    "from intrinsic_alignments.ia_models.utils import symmetrize_angular_distribution"
   ]
  },
  {
   "cell_type": "code",
   "execution_count": 32,
   "metadata": {},
   "outputs": [
    {
     "name": "stderr",
     "output_type": "stream",
     "text": [
      "/Users/duncan/Code/halotools/halotools/utils/matrix_operations_3d.py:88: RuntimeWarning: invalid value encountered in true_divide\n",
      "  return vectors/elementwise_norm(vectors).reshape((npts, -1))\n",
      "/Users/duncan/Code/halotools/halotools/utils/matrix_operations_3d.py:130: RuntimeWarning: invalid value encountered in greater\n",
      "  mask1 = (dot > 1) & (dot < 1 + tol)\n",
      "/Users/duncan/Code/halotools/halotools/utils/matrix_operations_3d.py:130: RuntimeWarning: invalid value encountered in less\n",
      "  mask1 = (dot > 1) & (dot < 1 + tol)\n",
      "/Users/duncan/Code/halotools/halotools/utils/matrix_operations_3d.py:132: RuntimeWarning: invalid value encountered in less\n",
      "  mask2 = (dot < -1) & (dot > -1 - tol)\n",
      "/Users/duncan/Code/halotools/halotools/utils/matrix_operations_3d.py:132: RuntimeWarning: invalid value encountered in greater\n",
      "  mask2 = (dot < -1) & (dot > -1 - tol)\n"
     ]
    }
   ],
   "source": [
    "alignment_vectors = orientation_dm\n",
    "alignment_vectors[satellites] = cen_sat_direction[satellites]\n",
    "\n",
    "theta_misalignment = angles_between_list_of_vectors(alignment_vectors, orientation_gal)\n",
    "theta_misalignment = symmetrize_angular_distribution(theta_misalignment)\n",
    "theta_misalignment = np.nan_to_num(theta_misalignment)"
   ]
  },
  {
   "cell_type": "code",
   "execution_count": 33,
   "metadata": {
    "collapsed": true
   },
   "outputs": [],
   "source": [
    "alignment_vectors = orientation_dm_2\n",
    "alignment_vectors[satellites] = cen_sat_direction[satellites]\n",
    "\n",
    "theta_misalignment_2 = angles_between_list_of_vectors(alignment_vectors, orientation_gal_2)\n",
    "theta_misalignment_2 = symmetrize_angular_distribution(theta_misalignment_2)\n",
    "theta_misalignment_2 = np.nan_to_num(theta_misalignment_2)"
   ]
  },
  {
   "cell_type": "code",
   "execution_count": 34,
   "metadata": {},
   "outputs": [
    {
     "name": "stdout",
     "output_type": "stream",
     "text": [
      "[ 0.82821515]\n",
      "[ 0.45790297]\n"
     ]
    },
    {
     "data": {
      "image/png": "[encoded data removed]",
      "text/plain": [
       "<matplotlib.figure.Figure at 0x213559490>"
      ]
     },
     "metadata": {},
     "output_type": "display_data"
    }
   ],
   "source": [
    "from intrinsic_alignments.ia_models.ia_model_components import DimrothWatson, inverse_alignment_strenth\n",
    "dist = DimrothWatson()\n",
    "\n",
    "mask = (data['halos.m_star']>10**9) & centrals\n",
    "\n",
    "costheta_bins = np.linspace(-1.0, 1.0, 45)\n",
    "costheta_bin_centers = (costheta_bins[:-1]+costheta_bins[1:])/2.0\n",
    "x = np.cos(theta_misalignment[mask])\n",
    "counts = np.histogram(x, bins=costheta_bins)[0]\n",
    "normalized_counts_1 = counts/np.sum(counts)/np.diff(costheta_bins)\n",
    "\n",
    "k1 = dist.fit(x, floc=0, fscale=1)[0]\n",
    "f1 = dist.pdf(costheta_bins, k=k1)\n",
    "print(inverse_alignment_strenth(k1))\n",
    "\n",
    "mask = (data['halos.m_star']>10**9) & satellites\n",
    "\n",
    "costheta_bins = np.linspace(-1.0, 1.0, 45)\n",
    "x = np.cos(theta_misalignment[mask])\n",
    "counts = np.histogram(x, bins=costheta_bins)[0]\n",
    "normalized_counts_2 = counts/np.sum(counts)/np.diff(costheta_bins)\n",
    "\n",
    "k2 = dist.fit(x, floc=0, fscale=1)[0]\n",
    "f2 = dist.pdf(costheta_bins, k=k2)\n",
    "print(inverse_alignment_strenth(k2))\n",
    "\n",
    "fig  = plt.figure(figsize=(3.3,3.3))\n",
    "fig.subplots_adjust(left=0.2, right=0.9, bottom=0.2, top=0.9)\n",
    "p1, = plt.step(costheta_bins[1:], normalized_counts_1, color='blue')\n",
    "p2, = plt.step(costheta_bins[1:], normalized_counts_2, color='orange')\n",
    "plt.plot(costheta_bins, f1, color='blue')\n",
    "plt.plot(costheta_bins, f2, color='orange')\n",
    "plt.xlabel(r'$\\cos(\\theta)$')\n",
    "plt.ylabel(r'$\\mathrm{d}P/\\mathrm{d}\\cos(\\theta)$')\n",
    "plt.ylim([0.05,2])\n",
    "plt.xlim([-1,1])\n",
    "plt.legend([p1,p2], ['centrals', 'satellites'], frameon=False, fontsize=10, loc='upper left')\n",
    "plt.title(r'$9<\\log(M_*/M_{\\odot})$')\n",
    "plt.show()\n",
    "\n",
    "filename = \"galaxy_misalignment_dist.pdf\"\n",
    "fig.savefig('/Users/duncan/Projects/intrinsic_alignments/galaxy_shape_correlations/figures/'+filename, dpi=250)"
   ]
  },
  {
   "cell_type": "code",
   "execution_count": 35,
   "metadata": {},
   "outputs": [
    {
     "name": "stdout",
     "output_type": "stream",
     "text": [
      "[ 0.8899107]\n",
      "[-0.50636999]\n"
     ]
    },
    {
     "data": {
      "image/png": "[encoded data removed]",
      "text/plain": [
       "<matplotlib.figure.Figure at 0x11a1b8e10>"
      ]
     },
     "metadata": {},
     "output_type": "display_data"
    }
   ],
   "source": [
    "from intrinsic_alignments.ia_models.ia_model_components import DimrothWatson, inverse_alignment_strenth\n",
    "dist = DimrothWatson()\n",
    "\n",
    "mask = (data['halos.m_star']>10**9) & centrals\n",
    "\n",
    "costheta_bins = np.linspace(-1.0, 1.0, 45)\n",
    "costheta_bin_centers = (costheta_bins[:-1]+costheta_bins[1:])/2.0\n",
    "x = np.cos(theta_misalignment_2[mask])\n",
    "counts = np.histogram(x, bins=costheta_bins)[0]\n",
    "normalized_counts_1 = counts/np.sum(counts)/np.diff(costheta_bins)\n",
    "\n",
    "k1 = dist.fit(x, floc=0, fscale=1)[0]\n",
    "f1 = dist.pdf(costheta_bins, k=k1)\n",
    "print(inverse_alignment_strenth(k1))\n",
    "\n",
    "mask = (data['halos.m_star']>10**9) & satellites\n",
    "\n",
    "costheta_bins = np.linspace(-1.0, 1.0, 45)\n",
    "x = np.cos(theta_misalignment_2[mask])\n",
    "counts = np.histogram(x, bins=costheta_bins)[0]\n",
    "normalized_counts_2 = counts/np.sum(counts)/np.diff(costheta_bins)\n",
    "\n",
    "k2 = dist.fit(x, floc=0, fscale=1)[0]\n",
    "f2 = dist.pdf(costheta_bins, k=k2)\n",
    "print(inverse_alignment_strenth(k2))\n",
    "\n",
    "fig  = plt.figure(figsize=(3.3,3.3))\n",
    "fig.subplots_adjust(left=0.2, right=0.9, bottom=0.2, top=0.9)\n",
    "p1, = plt.step(costheta_bins[1:], normalized_counts_1, color='blue')\n",
    "p2, = plt.step(costheta_bins[1:], normalized_counts_2, color='orange')\n",
    "plt.plot(costheta_bins, f1, color='blue')\n",
    "plt.plot(costheta_bins, f2, color='orange')\n",
    "plt.xlabel(r'$\\cos(\\theta)$')\n",
    "plt.ylabel(r'$\\mathrm{d}P/\\mathrm{d}\\cos(\\theta)$')\n",
    "plt.ylim([0.05,2])\n",
    "plt.xlim([-1,1])\n",
    "plt.legend([p1,p2], ['centrals', 'satellites'], frameon=False, fontsize=10, loc='upper left')\n",
    "plt.title(r'$9<\\log(M_*/M_{\\odot})$')\n",
    "plt.show()\n",
    "\n",
    "filename = \"galaxy_misalignment_dist.pdf\"\n",
    "fig.savefig('/Users/duncan/Projects/intrinsic_alignments/galaxy_shape_correlations/figures/'+filename, dpi=250)"
   ]
  },
  {
   "cell_type": "markdown",
   "metadata": {},
   "source": [
    "## halo mass dependence"
   ]
  },
  {
   "cell_type": "code",
   "execution_count": 79,
   "metadata": {},
   "outputs": [],
   "source": [
    "from intrinsic_alignments.halo_shape_correlations.utils import binned_bootstrap_1d\n",
    "\n",
    "Nboot = 5\n",
    "\n",
    "# check for halo mass dependence \n",
    "mbins = np.logspace(10.0,14.0,20)\n",
    "mbin_centers = (mbins[:-1]+mbins[1:])/2.0\n",
    "\n",
    "mask = centrals\n",
    "x = np.cos(theta_misalignment)\n",
    "\n",
    "statisic = lambda x: inverse_alignment_strenth(dist.fit(x, floc=0, fscale=1)[0])\n",
    "p, err_p = binned_bootstrap_1d(data['halos.mass'][mask], x[mask], mbins,\n",
    "                               statistic=statisic, Nboot=Nboot)"
   ]
  },
  {
   "cell_type": "code",
   "execution_count": 80,
   "metadata": {},
   "outputs": [
    {
     "data": {
      "image/png": "[encoded data removed]",
      "text/plain": [
       "<matplotlib.figure.Figure at 0x112f1e710>"
      ]
     },
     "metadata": {},
     "output_type": "display_data"
    }
   ],
   "source": [
    "from intrinsic_alignments.ia_models.ia_model_components import HaloMassCentralAlignmentStrength\n",
    "central_aligment_strength = HaloMassCentralAlignmentStrength()\n",
    "\n",
    "fig, ax = plt.subplots(1,1,figsize=(3.3,3.3))\n",
    "fig.subplots_adjust(left=0.2, right=0.9, bottom=0.2, top=0.9)\n",
    "ax.errorbar(mbin_centers, p, yerr=5*err_p, fmt='o', ms=4, color='black')\n",
    "plt.plot(mbin_centers, central_aligment_strength.alignment_strength_mass_dependence(mbin_centers), '-', color='black')\n",
    "ax.set_ylim([0,1])\n",
    "ax.set_xscale('log')\n",
    "ax.set_xlabel(r'$M_{\\rm halo}~[M_{\\odot}]$')\n",
    "ax.set_ylabel(r'$\\mu$')\n",
    "plt.show()\n",
    "\n",
    "filename = \"measured_halo_mass_central_alignment_strength.pdf\"\n",
    "fig.savefig('/Users/duncan/Projects/intrinsic_alignments/galaxy_shape_correlations/figures/'+filename, dpi=250)"
   ]
  },
  {
   "cell_type": "code",
   "execution_count": 22,
   "metadata": {
    "collapsed": true
   },
   "outputs": [],
   "source": [
    "from intrinsic_alignments.halo_shape_correlations.utils import binned_bootstrap_1d\n",
    "\n",
    "Nboot = 2\n",
    "\n",
    "# check for halo mass dependence \n",
    "mbins = np.logspace(9.0,12.0,15)\n",
    "mbin_centers = (mbins[:-1]+mbins[1:])/2.0\n",
    "\n",
    "mask = centrals\n",
    "x = np.cos(theta_misalignment)\n",
    "\n",
    "statisic = lambda x: inverse_alignment_strenth(dist.fit(x, floc=0, fscale=1)[0])\n",
    "p, err_p = binned_bootstrap_1d(data['halos.m_star'][mask], x[mask], mbins,\n",
    "                               statistic=statisic, Nboot=Nboot)"
   ]
  },
  {
   "cell_type": "code",
   "execution_count": 23,
   "metadata": {},
   "outputs": [
    {
     "data": {
      "image/png": "[encoded data removed]",
      "text/plain": [
       "<matplotlib.figure.Figure at 0x1213fc450>"
      ]
     },
     "metadata": {},
     "output_type": "display_data"
    }
   ],
   "source": [
    "fig, ax = plt.subplots(1,1,figsize=(3.3,3.3))\n",
    "fig.subplots_adjust(left=0.2, right=0.9, bottom=0.2, top=0.9)\n",
    "ax.errorbar(mbin_centers, p, yerr=5*err_p, fmt='o', ms=4, color='black')\n",
    "ax.set_ylim([0,1])\n",
    "ax.set_xscale('log')\n",
    "ax.set_xlabel(r'$M_{*}~[M_{\\odot}]$')\n",
    "ax.set_ylabel(r'$\\mu$')\n",
    "plt.show()\n",
    "\n",
    "filename = \"measured_stellar_mass_central_alignment_strength.pdf\"\n",
    "fig.savefig('/Users/duncan/Projects/intrinsic_alignments/galaxy_shape_correlations/figures/'+filename, dpi=250)"
   ]
  },
  {
   "cell_type": "markdown",
   "metadata": {},
   "source": [
    "# fit two population alignments"
   ]
  },
  {
   "cell_type": "code",
   "execution_count": 37,
   "metadata": {},
   "outputs": [
    {
     "data": {
      "image/png": "[encoded data removed]",
      "text/plain": [
       "<matplotlib.figure.Figure at 0x119615d90>"
      ]
     },
     "metadata": {},
     "output_type": "display_data"
    }
   ],
   "source": [
    "fig, ax = plt.subplots(1,1,figsize=(3.3,3.3))\n",
    "fig.subplots_adjust(left=0.2, right=0.9, bottom=0.2, top=0.9)\n",
    "plt.plot(data['halos.m_star'], data['prop.btr'], '.', ms=1, alpha=1, color='blue')\n",
    "plt.plot([10,10**13],[0.7,0.7], '--', color='red')\n",
    "plt.xscale('log')\n",
    "plt.xlim([10**9,10**12])\n",
    "plt.xlabel(r'$M_{*}~[M_{\\odot}]$')\n",
    "plt.ylabel(r'$b/t$')\n",
    "plt.show()\n",
    "\n",
    "disks = data['prop.btr']<0.7\n",
    "ellipticals = data['prop.btr']>0.7"
   ]
  },
  {
   "cell_type": "code",
   "execution_count": 81,
   "metadata": {},
   "outputs": [
    {
     "data": {
      "image/png": "[encoded data removed]",
      "text/plain": [
       "<matplotlib.figure.Figure at 0x118858650>"
      ]
     },
     "metadata": {},
     "output_type": "display_data"
    }
   ],
   "source": [
    "fig, ax = plt.subplots(1,1,figsize=(3.3,3.3))\n",
    "fig.subplots_adjust(left=0.2, right=0.9, bottom=0.2, top=0.9)\n",
    "mask = (data['halos.m_star']>10.0**9.0) & disks\n",
    "counts, xbins, ybins=np.histogram2d(q_gal[mask], s_gal[mask], bins=25)\n",
    "plt.contour(counts.transpose(),extent=[xbins.min(),xbins.max(),\n",
    "    ybins.min(),ybins.max()],linewidths=1,colors='blue',\n",
    "    linestyles='solid')\n",
    "mask = (data['halos.m_star']>10.0**9.0) & ellipticals\n",
    "counts, xbins, ybins=np.histogram2d(q_gal[mask], s_gal[mask], bins=25)\n",
    "plt.contour(counts.transpose(),extent=[xbins.min(),xbins.max(),\n",
    "    ybins.min(),ybins.max()],linewidths=1,colors='red',\n",
    "    linestyles='solid')\n",
    "plt.plot([0,1], [0,1], color='black')\n",
    "plt.xlim([0,1])\n",
    "plt.ylim([0,1])\n",
    "p1, = plt.plot([-1,-1],[-1,-1], color='blue')\n",
    "p2, = plt.plot([-1,-1],[-1,-1], color='red')\n",
    "plt.legend([p1,p2], ['disks','ellipticals'], loc='upper left', fontsize=10, frameon=False)\n",
    "plt.xlabel(r'$q=b/a$')\n",
    "plt.ylabel(r'$c=c/a$')\n",
    "plt.show()\n",
    "\n",
    "filename = \"disk_elliptical_axis_ratios.pdf\"\n",
    "fig.savefig('/Users/duncan/Projects/intrinsic_alignments/galaxy_shape_correlations/figures/'+filename, dpi=250)"
   ]
  },
  {
   "cell_type": "code",
   "execution_count": 82,
   "metadata": {},
   "outputs": [],
   "source": [
    "from intrinsic_alignments.halo_shape_correlations.utils import binned_bootstrap_1d\n",
    "\n",
    "Nboot = 5\n",
    "\n",
    "# check for halo mass dependence \n",
    "mbins = np.logspace(10.0,13.0,15)\n",
    "mbin_centers = (mbins[:-1]+mbins[1:])/2.0\n",
    "\n",
    "mask = centrals & disks\n",
    "x = np.cos(theta_misalignment_2)\n",
    "\n",
    "statisic = lambda x: inverse_alignment_strenth(dist.fit(x, floc=0, fscale=1)[0])\n",
    "p_1, err_p_1 = binned_bootstrap_1d(data['halos.mass'][mask], x[mask], mbins,\n",
    "                                   statistic=statisic, Nboot=Nboot)"
   ]
  },
  {
   "cell_type": "code",
   "execution_count": 83,
   "metadata": {
    "collapsed": true
   },
   "outputs": [],
   "source": [
    "mask = centrals & ellipticals\n",
    "x = np.cos(theta_misalignment)\n",
    "\n",
    "statisic = lambda x: inverse_alignment_strenth(dist.fit(x, floc=0, fscale=1)[0])\n",
    "p_2, err_p_2 = binned_bootstrap_1d(data['halos.mass'][mask], x[mask], mbins,\n",
    "                                   statistic=statisic, Nboot=Nboot)"
   ]
  },
  {
   "cell_type": "code",
   "execution_count": 84,
   "metadata": {},
   "outputs": [
    {
     "data": {
      "image/png": "[encoded data removed]",
      "text/plain": [
       "<matplotlib.figure.Figure at 0x11a9d9b10>"
      ]
     },
     "metadata": {},
     "output_type": "display_data"
    }
   ],
   "source": [
    "from intrinsic_alignments.ia_models.ia_model_components import HaloMassCentralAlignmentStrength\n",
    "central_elliptical_aligment_strength = HaloMassCentralAlignmentStrength()\n",
    "central_disk_aligment_strength = HaloMassCentralAlignmentStrength(central_alignment_a=0.0, central_alignment_gamma=0.9)\n",
    "\n",
    "fig, ax = plt.subplots(1,1,figsize=(3.3,3.3))\n",
    "fig.subplots_adjust(left=0.2, right=0.9, bottom=0.2, top=0.9)\n",
    "ax.errorbar(mbin_centers, p_1, yerr=5*err_p_1, fmt='o', ms=4, color='blue')\n",
    "plt.plot(mbin_centers, central_disk_aligment_strength.alignment_strength_mass_dependence(mbin_centers), '-', color='blue')\n",
    "ax.errorbar(mbin_centers, p_2, yerr=5*err_p_2, fmt='o', ms=4, color='red')\n",
    "plt.plot(mbin_centers, central_elliptical_aligment_strength.alignment_strength_mass_dependence(mbin_centers), '-', color='red')\n",
    "ax.set_ylim([0,1])\n",
    "ax.set_xscale('log')\n",
    "ax.set_xlabel(r'$M_{\\rm halo}~[M_{\\odot}]$')\n",
    "ax.set_ylabel(r'$\\mu$')\n",
    "plt.show()\n",
    "\n",
    "filename = \"measured_halo_mass_central_disk_elliptical_alignment_strength.pdf\"\n",
    "fig.savefig('/Users/duncan/Projects/intrinsic_alignments/galaxy_shape_correlations/figures/'+filename, dpi=250)"
   ]
  },
  {
   "cell_type": "code",
   "execution_count": 78,
   "metadata": {},
   "outputs": [
    {
     "name": "stdout",
     "output_type": "stream",
     "text": [
      "[ 0.90431241]\n",
      "[-0.14526521]\n",
      "[ 0.84262493]\n",
      "[ 0.5031857]\n"
     ]
    },
    {
     "data": {
      "image/png": "[encoded data removed]",
      "text/plain": [
       "<matplotlib.figure.Figure at 0x116f5f910>"
      ]
     },
     "metadata": {},
     "output_type": "display_data"
    }
   ],
   "source": [
    "mask = (data['halos.m_star']>10**9) & centrals & disks\n",
    "\n",
    "costheta_bins = np.linspace(-1.0, 1.0, 45)\n",
    "costheta_bin_centers = (costheta_bins[:-1]+costheta_bins[1:])/2.0\n",
    "x = np.cos(theta_misalignment_2[mask])\n",
    "counts = np.histogram(x, bins=costheta_bins)[0]\n",
    "normalized_counts_1 = counts/np.sum(counts)/np.diff(costheta_bins)\n",
    "\n",
    "k1 = dist.fit(x, floc=0, fscale=1)[0]\n",
    "f1 = dist.pdf(costheta_bins, k=k1)\n",
    "print(inverse_alignment_strenth(k1))\n",
    "\n",
    "\n",
    "mask = (data['halos.m_star']>10**9) & satellites & disks\n",
    "\n",
    "costheta_bins = np.linspace(-1.0, 1.0, 45)\n",
    "x = np.cos(theta_misalignment_2[mask])\n",
    "counts = np.histogram(x, bins=costheta_bins)[0]\n",
    "normalized_counts_2 = counts/np.sum(counts)/np.diff(costheta_bins)\n",
    "\n",
    "k2 = dist.fit(x, floc=0, fscale=1)[0]\n",
    "f2 = dist.pdf(costheta_bins, k=k2)\n",
    "print(inverse_alignment_strenth(k2))\n",
    "\n",
    "\n",
    "mask = (data['halos.m_star']>10**9) & centrals & ellipticals\n",
    "\n",
    "costheta_bins = np.linspace(-1.0, 1.0, 45)\n",
    "costheta_bin_centers = (costheta_bins[:-1]+costheta_bins[1:])/2.0\n",
    "x = np.cos(theta_misalignment[mask])\n",
    "counts = np.histogram(x, bins=costheta_bins)[0]\n",
    "normalized_counts_3 = counts/np.sum(counts)/np.diff(costheta_bins)\n",
    "\n",
    "k3 = dist.fit(x, floc=0, fscale=1)[0]\n",
    "f3 = dist.pdf(costheta_bins, k=k3)\n",
    "print(inverse_alignment_strenth(k3))\n",
    "\n",
    "\n",
    "mask = (data['halos.m_star']>10**9) & satellites & ellipticals\n",
    "\n",
    "costheta_bins = np.linspace(-1.0, 1.0, 45)\n",
    "x = np.cos(theta_misalignment[mask])\n",
    "counts = np.histogram(x, bins=costheta_bins)[0]\n",
    "normalized_counts_4 = counts/np.sum(counts)/np.diff(costheta_bins)\n",
    "\n",
    "k4 = dist.fit(x, floc=0, fscale=1)[0]\n",
    "f4 = dist.pdf(costheta_bins, k=k4)\n",
    "print(inverse_alignment_strenth(k4))\n",
    "\n",
    "dist = DimrothWatson()\n",
    "f1 = dist.pdf(costheta_bins, k=k1)\n",
    "f2 = dist.pdf(costheta_bins, k=k2)\n",
    "f3 = dist.pdf(costheta_bins, k=k3)\n",
    "f4 = dist.pdf(costheta_bins, k=k4)\n",
    "\n",
    "# plot results\n",
    "x = np.linspace(-1,1,1000)\n",
    "fig, axes = plt.subplots(1,2,figsize=(6.3,3.3))\n",
    "fig.subplots_adjust(left=0.1, right=0.95, bottom=0.2, top=0.9, wspace=0.3)\n",
    "\n",
    "ax = axes[0]\n",
    "ax.set_title('centrals')\n",
    "p1, = ax.step(costheta_bins[1:], normalized_counts_1, color='blue') # central disk\n",
    "p2, = ax.step(costheta_bins[1:], normalized_counts_3, color='red') # central elliptical\n",
    "ax.plot(costheta_bins, f1, color='blue')\n",
    "ax.plot(costheta_bins, f3, color='red')\n",
    "ax.set_ylim([0,1.5])\n",
    "ax.set_xlim([-1,1])\n",
    "ax.set_xlabel(r'$\\cos(\\theta_{MA})$')\n",
    "ax.set_ylabel(r'$\\mathrm{d}P/\\mathrm{d}\\cos(\\theta_{MA})$')\n",
    "\n",
    "ax = axes[1]\n",
    "ax.set_title('satellites')\n",
    "p1, = ax.step(costheta_bins[1:], normalized_counts_2, color='blue') # satellite disk\n",
    "p2, = ax.step(costheta_bins[1:], normalized_counts_4, color='red') # satellite elliptical\n",
    "ax.plot(costheta_bins, f2, color='blue')\n",
    "ax.plot(costheta_bins, f4, color='red')\n",
    "ax.set_ylim([0,1.5])\n",
    "ax.set_xlim([-1,1])\n",
    "ax.set_xlabel(r'$\\cos(\\theta_{MA})$')\n",
    "ax.set_ylabel(r'$\\mathrm{d}P/\\mathrm{d}\\cos(\\theta_{MA})$')\n",
    "ax.legend([p1,p2],['disks','ellipticals'], loc='upper right', fontsize=10, frameon=False)\n",
    "\n",
    "plt.show()\n",
    "\n",
    "filename = \"central_and_satellite_alignment_strength.pdf\"\n",
    "fig.savefig('/Users/duncan/Projects/intrinsic_alignments/galaxy_shape_correlations/figures/'+filename, dpi=250)"
   ]
  },
  {
   "cell_type": "code",
   "execution_count": 40,
   "metadata": {},
   "outputs": [],
   "source": [
    "from Clustering_Crisis.cosmo_utils import r_vir\n",
    "virial_radius = r_vir(data['groups.mass'][index_of_central]*10**10.0)"
   ]
  },
  {
   "cell_type": "code",
   "execution_count": 41,
   "metadata": {},
   "outputs": [],
   "source": [
    "from intrinsic_alignments.ia_models.ia_model_components import RadialSatelliteAlignment"
   ]
  },
  {
   "cell_type": "code",
   "execution_count": 71,
   "metadata": {},
   "outputs": [],
   "source": [
    "from intrinsic_alignments.halo_shape_correlations.utils import binned_bootstrap_1d\n",
    "\n",
    "Nboot = 5\n",
    "\n",
    "# check for radial dependence \n",
    "rbins = np.logspace(-1.0,0.0,10)\n",
    "rbin_centers = (rbins[:-1]+rbins[1:])/2.0\n",
    "\n",
    "mask = satellites & disks & (data['halos.m_star']>10**9)\n",
    "x = np.cos(theta_misalignment_2)\n",
    "\n",
    "scaled_radius = r/virial_radius\n",
    "\n",
    "statisic = lambda x: inverse_alignment_strenth(dist.fit(x, floc=0, fscale=1)[0])\n",
    "p_1, err_p_1 = binned_bootstrap_1d(scaled_radius[mask], x[mask], rbins,\n",
    "                               statistic=statisic, Nboot=Nboot)"
   ]
  },
  {
   "cell_type": "code",
   "execution_count": 72,
   "metadata": {
    "collapsed": true
   },
   "outputs": [],
   "source": [
    "mask = satellites & ellipticals & (data['halos.m_star']>10**9)\n",
    "x = np.cos(theta_misalignment)\n",
    "\n",
    "scaled_radius = r/virial_radius\n",
    "\n",
    "statisic = lambda x: inverse_alignment_strenth(dist.fit(x, floc=0, fscale=1)[0])\n",
    "p_2, err_p_2 = binned_bootstrap_1d(scaled_radius[mask], x[mask], rbins,\n",
    "                               statistic=statisic, Nboot=Nboot)"
   ]
  },
  {
   "cell_type": "code",
   "execution_count": 77,
   "metadata": {},
   "outputs": [
    {
     "data": {
      "image/png": "[encoded data removed]",
      "text/plain": [
       "<matplotlib.figure.Figure at 0x112f04890>"
      ]
     },
     "metadata": {},
     "output_type": "display_data"
    }
   ],
   "source": [
    "fig, ax = plt.subplots(1,1,figsize=(3.3,3.3))\n",
    "fig.subplots_adjust(left=0.2, right=0.9, bottom=0.2, top=0.9)\n",
    "p1=ax.errorbar(rbin_centers, p_1, yerr=5*err_p_1, fmt='o', ms=4, color='blue')\n",
    "p2=ax.errorbar(rbin_centers, p_2, yerr=5*err_p_2, fmt='o', ms=4, color='red')\n",
    "ax.set_ylim([-1,1])\n",
    "ax.set_xscale('log')\n",
    "ax.set_xlim(0.09,1.1)\n",
    "ax.set_xlabel(r'$r/r_{\\rm vir}$')\n",
    "ax.set_ylabel(r'$\\mu$')\n",
    "plt.legend([p1,p2],['disks','ellipticals'], frameon=False, loc='lower right', fontsize=10)\n",
    "plt.show()\n",
    "\n",
    "filename = \"radial_satellite_alignment_strength.pdf\"\n",
    "fig.savefig('/Users/duncan/Projects/intrinsic_alignments/galaxy_shape_correlations/figures/'+filename, dpi=250)"
   ]
  },
  {
   "cell_type": "markdown",
   "metadata": {},
   "source": [
    "# Alignment Correlations"
   ]
  },
  {
   "cell_type": "code",
   "execution_count": 27,
   "metadata": {
    "collapsed": true
   },
   "outputs": [],
   "source": [
    "from halotools.mock_observables.alignments import ee_3d, ed_3d"
   ]
  },
  {
   "cell_type": "code",
   "execution_count": 40,
   "metadata": {},
   "outputs": [
    {
     "name": "stdout",
     "output_type": "stream",
     "text": [
      "number of haloes:  56450\n"
     ]
    }
   ],
   "source": [
    "rbins = np.logspace(-1,1, 20)\n",
    "rbin_centers = (rbins[:-1] + rbins[1:])/2.0\n",
    "\n",
    "mask = (data['halos.m_star']>10**9)\n",
    "print(\"number of haloes: \", np.sum(mask))\n",
    "\n",
    "result_ee_1 = ee_3d(coords[mask], orientation_gal[mask], coords[mask], orientation_gal[mask], rbins, period=100.0)\n",
    "result_ed_1 = ed_3d(coords[mask], orientation_gal[mask], coords[mask], rbins, period=100.0)"
   ]
  },
  {
   "cell_type": "code",
   "execution_count": 29,
   "metadata": {},
   "outputs": [
    {
     "name": "stdout",
     "output_type": "stream",
     "text": [
      "number of haloes:  9200\n"
     ]
    }
   ],
   "source": [
    "mask = (data['halos.m_star']>10**9) & disks\n",
    "print(\"number of haloes: \", np.sum(mask))\n",
    "\n",
    "result_ee_2 = ee_3d(coords[mask], orientation_gal[mask], coords[mask], orientation_gal[mask], rbins, period=100.0)\n",
    "result_ed_2 = ed_3d(coords[mask], orientation_gal[mask], coords[mask], rbins, period=100.0)"
   ]
  },
  {
   "cell_type": "code",
   "execution_count": 30,
   "metadata": {},
   "outputs": [
    {
     "name": "stdout",
     "output_type": "stream",
     "text": [
      "number of haloes:  47241\n"
     ]
    }
   ],
   "source": [
    "mask = (data['halos.m_star']>10**9) & ellipticals\n",
    "print(\"number of haloes: \", np.sum(mask))\n",
    "\n",
    "result_ee_3 = ee_3d(coords[mask], orientation_gal[mask], coords[mask], orientation_gal[mask], rbins, period=100.0)\n",
    "result_ed_3 = ed_3d(coords[mask], orientation_gal[mask], coords[mask], rbins, period=100.0)"
   ]
  },
  {
   "cell_type": "code",
   "execution_count": 37,
   "metadata": {},
   "outputs": [
    {
     "data": {
      "image/png": "[encoded data removed]",
      "text/plain": [
       "<matplotlib.figure.Figure at 0x21605d7d0>"
      ]
     },
     "metadata": {},
     "output_type": "display_data"
    }
   ],
   "source": [
    "fig, axes = plt.subplots(1,1, sharex = True, sharey = True, figsize=(3.3,3.3))\n",
    "fig.subplots_adjust(left=0.2, right=0.9, bottom=0.2, top=0.9)\n",
    "ax=axes\n",
    "ax.set_title(r'$M_{*}>10^{11} ~[h^{-2}M_{\\odot}]$')\n",
    "ax.set_xscale('log')\n",
    "ax.set_yscale('log')\n",
    "ax.set_ylabel(r'$\\eta(r)$')\n",
    "ax.set_xlabel(r'$r~[h^{-1}{\\rm Mpc}]$')\n",
    "l2, = ax.plot(rbin_centers, result_ee_1, 'o', color='black')\n",
    "l2, = ax.plot(rbin_centers, result_ee_2, 'o', color='blue')\n",
    "l2, = ax.plot(rbin_centers, result_ee_3, 'o', color='red')\n",
    "plt.show()"
   ]
  },
  {
   "cell_type": "code",
   "execution_count": 41,
   "metadata": {},
   "outputs": [
    {
     "data": {
      "image/png": "[encoded data removed]",
      "text/plain": [
       "<matplotlib.figure.Figure at 0x12f530b90>"
      ]
     },
     "metadata": {},
     "output_type": "display_data"
    }
   ],
   "source": [
    "fig, axes = plt.subplots(1,1, sharex = True, sharey = True, figsize=(3.3,3.3))\n",
    "fig.subplots_adjust(left=0.2, right=0.9, bottom=0.2, top=0.9)\n",
    "ax=axes\n",
    "ax.set_title(r'$M_{*}>10^{11} ~[h^{-2}M_{\\odot}]$')\n",
    "ax.set_xscale('log')\n",
    "ax.set_yscale('log')\n",
    "ax.set_ylabel(r'$\\omega(r)$')\n",
    "ax.set_xlabel(r'$r~[h^{-1}{\\rm Mpc}]$')\n",
    "ax.set_ylim([0.005,0.1])\n",
    "l2, = ax.plot(rbin_centers, result_ed_1, 'o', color='black')\n",
    "l2, = ax.plot(rbin_centers, result_ed_2, 'o', color='blue')\n",
    "l2, = ax.plot(rbin_centers, result_ed_3, 'o', color='red')\n",
    "plt.show()"
   ]
  },
  {
   "cell_type": "code",
   "execution_count": 6,
   "metadata": {},
   "outputs": [],
   "source": [
    "from astropy.table import Table"
   ]
  },
  {
   "cell_type": "code",
   "execution_count": 7,
   "metadata": {
    "collapsed": true
   },
   "outputs": [],
   "source": [
    "galaxy_table = Table()\n",
    "galaxy_table['x'] = data['halos.x']\n",
    "galaxy_table['y'] = data['halos.y']\n",
    "galaxy_table['z'] = data['halos.z']\n",
    "galaxy_table['halo_x'] = data['halos.x'][index_of_central]\n",
    "galaxy_table['halo_y'] = data['halos.y'][index_of_central]\n",
    "galaxy_table['halo_z'] = data['halos.z'][index_of_central]\n",
    "galaxy_table['halo_mvir'] = data['halos.mass']\n",
    "galaxy_table['type']='satellites'\n",
    "galaxy_table['type'][centrals]='centrals'"
   ]
  },
  {
   "cell_type": "code",
   "execution_count": 11,
   "metadata": {},
   "outputs": [
    {
     "data": {
      "text/html": [
       "&lt;Column name=&apos;halo_mvir&apos; dtype=&apos;float64&apos; length=4633801&gt;\n",
       "<table>\n",
       "<tr><td>0.617304244058</td></tr>\n",
       "<tr><td>0.617304244058</td></tr>\n",
       "<tr><td>0.617304244058</td></tr>\n",
       "<tr><td>0.617304244058</td></tr>\n",
       "<tr><td>0.617304244058</td></tr>\n",
       "<tr><td>0.617304244058</td></tr>\n",
       "<tr><td>0.617304244058</td></tr>\n",
       "<tr><td>0.617304244058</td></tr>\n",
       "<tr><td>0.617304244058</td></tr>\n",
       "<tr><td>0.617304244058</td></tr>\n",
       "<tr><td>0.617304244058</td></tr>\n",
       "<tr><td>0.617304244058</td></tr>\n",
       "<tr><td>...</td></tr>\n",
       "<tr><td>0.955691654716</td></tr>\n",
       "<tr><td>0.955872016962</td></tr>\n",
       "<tr><td>0.957274115918</td></tr>\n",
       "<tr><td>0.958986922586</td></tr>\n",
       "<tr><td>0.960217532017</td></tr>\n",
       "<tr><td>0.96533604452</td></tr>\n",
       "<tr><td>0.966415105838</td></tr>\n",
       "<tr><td>0.967249266942</td></tr>\n",
       "<tr><td>0.96746552799</td></tr>\n",
       "<tr><td>0.975200694967</td></tr>\n",
       "<tr><td>0.976564874867</td></tr>\n",
       "<tr><td>0.988991868926</td></tr>\n",
       "</table>"
      ],
      "text/plain": [
       "<Column name='halo_mvir' dtype='float64' length=4633801>\n",
       "0.617304244058\n",
       "0.617304244058\n",
       "0.617304244058\n",
       "0.617304244058\n",
       "0.617304244058\n",
       "0.617304244058\n",
       "0.617304244058\n",
       "0.617304244058\n",
       "0.617304244058\n",
       "0.617304244058\n",
       "0.617304244058\n",
       "0.617304244058\n",
       "           ...\n",
       "0.955691654716\n",
       "0.955872016962\n",
       "0.957274115918\n",
       "0.958986922586\n",
       "0.960217532017\n",
       " 0.96533604452\n",
       "0.966415105838\n",
       "0.967249266942\n",
       " 0.96746552799\n",
       "0.975200694967\n",
       "0.976564874867\n",
       "0.988991868926"
      ]
     },
     "execution_count": 11,
     "metadata": {},
     "output_type": "execute_result"
    }
   ],
   "source": [
    "from intrinsic_alignments.ia_models.ia_model_components import HaloMassCentralAlignmentStrength\n",
    "\n",
    "\n",
    "central_elliptical_aligment_strength = HaloMassCentralAlignmentStrength()\n",
    "central_disk_aligment_strength = HaloMassCentralAlignmentStrength(central_alignment_a=0.0, central_alignment_gamma=0.9)\n",
    "\n",
    "central_disk_aligment_strength.assign_central_alignment_strength(halo_mvir=galaxy_table['halo_mvir'])\n",
    "central_elliptical_aligment_strength.assign_central_alignment_strength(halo_mvir=galaxy_table['halo_mvir'])"
   ]
  },
  {
   "cell_type": "code",
   "execution_count": null,
   "metadata": {
    "collapsed": true
   },
   "outputs": [],
   "source": []
  }
 ],
 "metadata": {
  "kernelspec": {
   "display_name": "Python 2",
   "language": "python",
   "name": "python2"
  },
  "language_info": {
   "codemirror_mode": {
    "name": "ipython",
    "version": 2
   },
   "file_extension": ".py",
   "mimetype": "text/x-python",
   "name": "python",
   "nbconvert_exporter": "python",
   "pygments_lexer": "ipython2",
   "version": "2.7.13"
  }
 },
 "nbformat": 4,
 "nbformat_minor": 2
}
