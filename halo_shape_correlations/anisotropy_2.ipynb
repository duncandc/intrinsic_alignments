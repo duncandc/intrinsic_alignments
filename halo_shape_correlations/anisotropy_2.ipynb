{
 "cells": [
  {
   "cell_type": "code",
   "execution_count": 1,
   "metadata": {},
   "outputs": [],
   "source": [
    "from __future__ import print_function, division\n",
    "import numpy as np\n",
    "from astropy.table import Table\n",
    "import matplotlib.pyplot as plt\n",
    "%matplotlib inline\n",
    "\n",
    "# location to save figures\n",
    "import os\n",
    "cwd = os.getcwd()\n",
    "figure_path = cwd + '/figures/'"
   ]
  },
  {
   "cell_type": "markdown",
   "metadata": {},
   "source": [
    "# subhalo anisotropy"
   ]
  },
  {
   "cell_type": "code",
   "execution_count": 2,
   "metadata": {},
   "outputs": [],
   "source": [
    "# load a test halo catalog\n",
    "\n",
    "from halotools.sim_manager import CachedHaloCatalog\n",
    "halocat = CachedHaloCatalog(simname='bolshoi', halo_finder='rockstar',\n",
    "                            redshift=0.0, dz_tol=0.001, version_name='halotools_v0p4')"
   ]
  },
  {
   "cell_type": "code",
   "execution_count": 3,
   "metadata": {},
   "outputs": [],
   "source": [
    "from intrinsic_alignments.ia_models.ia_model_components import CentralAlignment\n",
    "from intrinsic_alignments.ia_models.ia_model_components import RadialSatelliteAlignment\n",
    "from intrinsic_alignments.ia_models.occupation_models import SubHaloPositions, IsotropicSubhaloPositions, SemiIsotropicSubhaloPositions"
   ]
  },
  {
   "cell_type": "code",
   "execution_count": 4,
   "metadata": {},
   "outputs": [],
   "source": [
    "# define subhalo positions\n",
    "satellite_position_model_1 = SubHaloPositions()\n",
    "\n",
    "table_1 = Table(np.copy(halocat.halo_table))\n",
    "table_1 = satellite_position_model_1.assign_gal_type(table=table_1)\n",
    "table_1 = satellite_position_model_1.assign_positions(table=table_1)"
   ]
  },
  {
   "cell_type": "code",
   "execution_count": 5,
   "metadata": {},
   "outputs": [
    {
     "name": "stderr",
     "output_type": "stream",
     "text": [
      "/Users/duncan/Projects/intrinsic_alignments/ia_models/ia_model_components.py:187: UserWarning: `central_alignment_strength` not detected in the table, using value in self.param_dict.\n",
      "  warn(msg)\n",
      "/Users/duncan/Projects/intrinsic_alignments/ia_models/ia_model_components.py:420: UserWarning: 1033565 galaxies have a radial distance equal to zero (or infinity) from their host. These galaxies will be re-assigned random alignment vectors.\n",
      "  warn(msg)\n",
      "/Users/duncan/Projects/intrinsic_alignments/ia_models/ia_model_components.py:428: UserWarning: `satellite_alignment_strength` not detected in the table, using value in self.param_dict.\n",
      "  warn(msg)\n"
     ]
    }
   ],
   "source": [
    "# define subhalo and host halo alignments\n",
    "satellite_alignment_model = RadialSatelliteAlignment(satellite_alignment_strength=0.85, Lbox=halocat.Lbox)\n",
    "central_alignment_model = CentralAlignment(central_alignment_strength=0.99)\n",
    "\n",
    "table_1 = central_alignment_model.assign_central_orientation(table=table_1)\n",
    "table_1 = satellite_alignment_model.assign_satellite_orientation(table=table_1)"
   ]
  },
  {
   "cell_type": "code",
   "execution_count": 6,
   "metadata": {},
   "outputs": [],
   "source": [
    "# examine galaxy-galaxy correlation function\n",
    "from halotools.mock_observables import tpcf\n",
    "\n",
    "rbins = np.logspace(-1,1.2,20)\n",
    "rbin_centers = (rbins[:-1]+rbins[1:])/2.0\n",
    "\n",
    "mask_0 = (halocat.halo_table['halo_mpeak']>10**12.5)\n",
    "mask_1 = (table_1['halo_mpeak']>10**12.5)\n",
    "\n",
    "coords_0 = np.vstack((halocat.halo_table['halo_x'],\n",
    "                      halocat.halo_table['halo_y'],\n",
    "                      halocat.halo_table['halo_z'])).T\n",
    "result_0 = tpcf(coords_0[mask_0], rbins=rbins, period=halocat.Lbox)\n",
    "\n",
    "coords_1 = np.vstack((table_1['x'],table_1['y'],table_1['z'])).T\n",
    "result_1 = tpcf(coords_1[mask_1], rbins=rbins, period=halocat.Lbox, num_threads=4)"
   ]
  },
  {
   "cell_type": "code",
   "execution_count": 7,
   "metadata": {},
   "outputs": [],
   "source": [
    "from halotools.mock_observables.alignments import ed_3d, ee_3d\n",
    "\n",
    "orientations_0 = np.vstack((halocat.halo_table['halo_axisA_x'],\n",
    "                            halocat.halo_table['halo_axisA_y'],\n",
    "                            halocat.halo_table['halo_axisA_z'])).T\n",
    "mask = (np.prod(orientations_0*orientations_0,axis=-1)==0)\n",
    "orientations_0[mask,:] = np.random.random(3)\n",
    "\n",
    "orientations_1 = np.vstack((table_1['galaxy_axisA_x'],\n",
    "                            table_1['galaxy_axisA_y'],\n",
    "                            table_1['galaxy_axisA_z'])).T\n",
    "mask = (np.prod(orientations_1*orientations_1,axis=-1)==0)\n",
    "\n",
    "# calculate ED correaltion functions\n",
    "omega_0 = ed_3d(coords_0[mask_0], orientations_0[mask_0],\n",
    "                coords_0[mask_0],\n",
    "                rbins, period=halocat.Lbox, num_threads=4)\n",
    "\n",
    "omega_1 = ed_3d(coords_1[mask_1], orientations_1[mask_1],\n",
    "                coords_1[mask_1],\n",
    "                rbins, period=halocat.Lbox, num_threads=4)\n",
    "\n",
    "\n",
    "# calculate EE correaltion functions\n",
    "eta_0 = ee_3d(coords_0[mask_0], orientations_0[mask_0],\n",
    "              coords_0[mask_0], orientations_0[mask_0],\n",
    "              rbins, period=halocat.Lbox, num_threads=4)\n",
    "\n",
    "eta_1 = ee_3d(coords_1[mask_1], orientations_1[mask_1],\n",
    "              coords_1[mask_1], orientations_1[mask_1],\n",
    "              rbins, period=halocat.Lbox, num_threads=4)"
   ]
  },
  {
   "cell_type": "code",
   "execution_count": 8,
   "metadata": {},
   "outputs": [
    {
     "data": {
      "image/png": "[encoded data removed]",
      "text/plain": [
       "<Figure size 237.6x475.2 with 2 Axes>"
      ]
     },
     "metadata": {
      "needs_background": "light"
     },
     "output_type": "display_data"
    }
   ],
   "source": [
    "fig, (ax1, ax2) = plt.subplots(2,1, sharex=True, figsize=(3.3,6.6))\n",
    "fig.subplots_adjust(left=0.2, right=0.9, bottom=0.2, top=0.9)\n",
    "\n",
    "ax = ax1\n",
    "l0, = ax.plot(rbin_centers, omega_0, 'o', color='black')\n",
    "l1, = ax.plot(rbin_centers, omega_1, '-', color='black')\n",
    "ax.set_xscale('log')\n",
    "ax.set_yscale('log')\n",
    "ax.set_xlabel(r'$r~[h^{-1}\\rm Mpc]$')\n",
    "ax.set_ylabel(r'$\\omega(r)$')\n",
    "ax.set_ylim([0.01,0.5])\n",
    "\n",
    "ax = ax2\n",
    "l0, = ax.plot(rbin_centers, eta_0, 'o', color='black')\n",
    "l1, = ax.plot(rbin_centers, eta_1, '-', color='black')\n",
    "ax.set_xscale('log')\n",
    "ax.set_yscale('log')\n",
    "ax.set_xlabel(r'$r~[h^{-1}\\rm Mpc]$')\n",
    "ax.set_ylabel(r'$\\eta(r)$')\n",
    "ax.set_ylim([0.0001,0.5])\n",
    "\n",
    "plt.show()"
   ]
  },
  {
   "cell_type": "code",
   "execution_count": 25,
   "metadata": {},
   "outputs": [],
   "source": [
    "from intrinsic_alignments.ia_models.occupation_models import TriaxialNFW\n",
    "\n",
    "# add estimate of minor axis\n",
    "from rotations.vector_utilities import normalized_vectors\n",
    "B = np.vstack((halocat.halo_table['halo_axisA_x'],\n",
    "               halocat.halo_table['halo_axisA_y'],\n",
    "               halocat.halo_table['halo_axisA_z'])).T\n",
    "A = np.vstack((halocat.halo_table['halo_jx'],\n",
    "               halocat.halo_table['halo_jy'],\n",
    "               halocat.halo_table['halo_jz'])).T\n",
    "B = normalized_vectors(B)\n",
    "A = normalized_vectors(A)\n",
    "\n",
    "D = np.cross(A, B)\n",
    "C = np.cross(B, D)\n",
    "\n",
    "halocat.halo_table['halo_axisC_x'] = C[:,0]\n",
    "halocat.halo_table['halo_axisC_y'] = C[:,1]\n",
    "halocat.halo_table['halo_axisC_z'] = C[:,2]\n",
    "\n",
    "# define subhalo positions\n",
    "satellite_position_model_2 = TriaxialNFW(anisotropy_bias=0.0, Lbox=halocat.Lbox)\n",
    "# define subhalo positions\n",
    "satellite_position_model_3 = TriaxialNFW(anisotropy_bias=5.0, Lbox=halocat.Lbox)\n",
    "\n",
    "table_2 = Table(np.copy(halocat.halo_table))\n",
    "table_2 = satellite_position_model_2.assign_gal_type(table=table_2)\n",
    "table_2 = satellite_position_model_2.assign_positions(table=table_2)\n",
    "\n",
    "table_3 = Table(np.copy(halocat.halo_table))\n",
    "table_3 = satellite_position_model_3.assign_gal_type(table=table_3)\n",
    "table_3 = satellite_position_model_3.assign_positions(table=table_3)\n",
    "\n",
    "# define subhalo and host halo alignments\n",
    "satellite_alignment_model = RadialSatelliteAlignment(satellite_alignment_strength=0.85, Lbox=halocat.Lbox)\n",
    "central_alignment_model = CentralAlignment(central_alignment_strength=0.99)\n",
    "\n",
    "table_2 = central_alignment_model.assign_central_orientation(table=table_2)\n",
    "table_2 = satellite_alignment_model.assign_satellite_orientation(table=table_2)\n",
    "\n",
    "table_3 = central_alignment_model.assign_central_orientation(table=table_3)\n",
    "table_3 = satellite_alignment_model.assign_satellite_orientation(table=table_3)"
   ]
  },
  {
   "cell_type": "code",
   "execution_count": 26,
   "metadata": {},
   "outputs": [],
   "source": [
    "mask_2 = (table_2['halo_mpeak']>10**12.5)\n",
    "\n",
    "coords_2 = np.vstack((table_2['x'],table_2['y'],table_2['z'])).T\n",
    "result_2 = tpcf(coords_2[mask_2], rbins=rbins, period=halocat.Lbox, num_threads=4)\n",
    "\n",
    "mask_3 = (table_3['halo_mpeak']>10**12.5)\n",
    "\n",
    "coords_3 = np.vstack((table_3['x'],table_3['y'],table_3['z'])).T\n",
    "result_3 = tpcf(coords_3[mask_3], rbins=rbins, period=halocat.Lbox, num_threads=4)"
   ]
  },
  {
   "cell_type": "code",
   "execution_count": 27,
   "metadata": {},
   "outputs": [
    {
     "data": {
      "image/png": "[encoded data removed]",
      "text/plain": [
       "<Figure size 237.6x237.6 with 1 Axes>"
      ]
     },
     "metadata": {
      "needs_background": "light"
     },
     "output_type": "display_data"
    }
   ],
   "source": [
    "fig = plt.figure(figsize=(3.3,3.3))\n",
    "l1, = plt.plot(rbin_centers, result_0, 'o')\n",
    "l1, = plt.plot(rbin_centers, result_1, '-')\n",
    "l2, = plt.plot(rbin_centers, result_2, '--')\n",
    "l2, = plt.plot(rbin_centers, result_3, ':')\n",
    "plt.xscale('log')\n",
    "plt.yscale('log')\n",
    "plt.xlabel(r'$r~[h^{-1}{\\rm Mpc}]$')\n",
    "plt.ylabel(r'$\\xi$')\n",
    "plt.show()"
   ]
  },
  {
   "cell_type": "code",
   "execution_count": 28,
   "metadata": {},
   "outputs": [],
   "source": [
    "orientations_2 = np.vstack((table_2['galaxy_axisA_x'],\n",
    "                            table_2['galaxy_axisA_y'],\n",
    "                            table_2['galaxy_axisA_z'])).T\n",
    "\n",
    "omega_2 = ed_3d(coords_2[mask_2], orientations_2[mask_2],\n",
    "              coords_2[mask_2],\n",
    "              rbins, period=halocat.Lbox, num_threads=4)\n",
    "\n",
    "eta_2 = ee_3d(coords_2[mask_2], orientations_2[mask_2],\n",
    "              coords_2[mask_2], orientations_2[mask_2],\n",
    "              rbins, period=halocat.Lbox, num_threads=4)"
   ]
  },
  {
   "cell_type": "code",
   "execution_count": 29,
   "metadata": {},
   "outputs": [],
   "source": [
    "orientations_3 = np.vstack((table_3['galaxy_axisA_x'],\n",
    "                            table_3['galaxy_axisA_y'],\n",
    "                            table_3['galaxy_axisA_z'])).T\n",
    "\n",
    "omega_3 = ed_3d(coords_3[mask_3], orientations_3[mask_3],\n",
    "              coords_3[mask_3],\n",
    "              rbins, period=halocat.Lbox, num_threads=4)\n",
    "\n",
    "eta_3 = ee_3d(coords_3[mask_3], orientations_3[mask_3],\n",
    "              coords_3[mask_3], orientations_3[mask_3],\n",
    "              rbins, period=halocat.Lbox, num_threads=4)"
   ]
  },
  {
   "cell_type": "code",
   "execution_count": 30,
   "metadata": {},
   "outputs": [
    {
     "data": {
      "image/png": "[encoded data removed]",
      "text/plain": [
       "<Figure size 237.6x475.2 with 2 Axes>"
      ]
     },
     "metadata": {
      "needs_background": "light"
     },
     "output_type": "display_data"
    }
   ],
   "source": [
    "fig, (ax1, ax2) = plt.subplots(2,1, sharex=True, figsize=(3.3,6.6))\n",
    "fig.subplots_adjust(left=0.2, right=0.9, bottom=0.2, top=0.9)\n",
    "\n",
    "ax = ax1\n",
    "l0, = ax.plot(rbin_centers, omega_0, 'o', color='black')\n",
    "l1, = ax.plot(rbin_centers, omega_1, '-')\n",
    "l2, = ax.plot(rbin_centers, omega_2, '--')\n",
    "l2, = ax.plot(rbin_centers, omega_3, ':')\n",
    "ax.set_xscale('log')\n",
    "ax.set_yscale('log')\n",
    "ax.set_xlabel(r'$r~[h^{-1}\\rm Mpc]$')\n",
    "ax.set_ylabel(r'$\\omega(r)$')\n",
    "ax.set_ylim([0.01,0.5])\n",
    "\n",
    "ax = ax2\n",
    "l0, = ax.plot(rbin_centers, eta_0, 'o', color='black')\n",
    "l1, = ax.plot(rbin_centers, eta_1, '-')\n",
    "l2, = ax.plot(rbin_centers, eta_2, '--')\n",
    "l2, = ax.plot(rbin_centers, eta_3, ':')\n",
    "ax.set_xscale('log')\n",
    "ax.set_yscale('log')\n",
    "ax.set_xlabel(r'$r~[h^{-1}\\rm Mpc]$')\n",
    "ax.set_ylabel(r'$\\eta(r)$')\n",
    "ax.set_ylim([0.0001,0.5])\n",
    "\n",
    "plt.show()"
   ]
  },
  {
   "cell_type": "code",
   "execution_count": 31,
   "metadata": {},
   "outputs": [],
   "source": [
    "ids, counts = np.unique(table_2['halo_hostid'], return_counts=True)\n",
    "idx = np.argmax(counts)\n",
    "host_id = ids[idx]"
   ]
  },
  {
   "cell_type": "code",
   "execution_count": 32,
   "metadata": {},
   "outputs": [
    {
     "data": {
      "image/png": "[encoded data removed]",
      "text/plain": [
       "<Figure size 237.6x237.6 with 1 Axes>"
      ]
     },
     "metadata": {
      "needs_background": "light"
     },
     "output_type": "display_data"
    },
    {
     "data": {
      "image/png": "[encoded data removed]",
      "text/plain": [
       "<Figure size 237.6x237.6 with 1 Axes>"
      ]
     },
     "metadata": {
      "needs_background": "light"
     },
     "output_type": "display_data"
    },
    {
     "data": {
      "image/png": "[encoded data removed]",
      "text/plain": [
       "<Figure size 237.6x237.6 with 1 Axes>"
      ]
     },
     "metadata": {
      "needs_background": "light"
     },
     "output_type": "display_data"
    }
   ],
   "source": [
    "dx = 4.0\n",
    "\n",
    "mask = (table_1['halo_hostid']==host_id)\n",
    "\n",
    "central = (table_1['halo_id']==host_id)\n",
    "\n",
    "x0 = table_1['halo_x'][central]\n",
    "y0 = table_1['halo_y'][central]\n",
    "z0 = table_1['halo_z'][central]\n",
    "\n",
    "plt.figure(figsize=(3.3,3.3))\n",
    "plt.plot(table_1['x'][mask], table_1['y'][mask], '.', ms=2)\n",
    "plt.xlim([x0-dx, x0+dx])\n",
    "plt.ylim([y0-dx, y0+dx])\n",
    "plt.show()\n",
    "\n",
    "mask = (table_2['halo_hostid']==host_id)\n",
    "central = (table_2['halo_id']==host_id)\n",
    "\n",
    "x0 = table_2['halo_x'][central]\n",
    "y0 = table_2['halo_y'][central]\n",
    "z0 = table_2['halo_z'][central]\n",
    "\n",
    "plt.figure(figsize=(3.3,3.3))\n",
    "plt.plot(table_2['x'][mask], table_2['y'][mask], '.', ms=2)\n",
    "plt.xlim([x0-dx, x0+dx])\n",
    "plt.ylim([y0-dx, y0+dx])\n",
    "plt.show()\n",
    "\n",
    "mask = (table_3['halo_hostid']==host_id)\n",
    "central = (table_3['halo_id']==host_id)\n",
    "\n",
    "x0 = table_3['halo_x'][central]\n",
    "y0 = table_3['halo_y'][central]\n",
    "z0 = table_3['halo_z'][central]\n",
    "\n",
    "plt.figure(figsize=(3.3,3.3))\n",
    "plt.plot(table_3['x'][mask], table_3['y'][mask], '.', ms=2)\n",
    "plt.xlim([x0-dx, x0+dx])\n",
    "plt.ylim([y0-dx, y0+dx])\n",
    "plt.show()"
   ]
  },
  {
   "cell_type": "code",
   "execution_count": null,
   "metadata": {},
   "outputs": [],
   "source": []
  },
  {
   "cell_type": "code",
   "execution_count": null,
   "metadata": {},
   "outputs": [],
   "source": []
  },
  {
   "cell_type": "code",
   "execution_count": null,
   "metadata": {},
   "outputs": [],
   "source": []
  },
  {
   "cell_type": "code",
   "execution_count": null,
   "metadata": {},
   "outputs": [],
   "source": []
  }
 ],
 "metadata": {
  "kernelspec": {
   "display_name": "Python 2",
   "language": "python",
   "name": "python2"
  },
  "language_info": {
   "codemirror_mode": {
    "name": "ipython",
    "version": 2
   },
   "file_extension": ".py",
   "mimetype": "text/x-python",
   "name": "python",
   "nbconvert_exporter": "python",
   "pygments_lexer": "ipython2",
   "version": "2.7.15"
  }
 },
 "nbformat": 4,
 "nbformat_minor": 2
}
