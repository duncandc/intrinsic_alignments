{
 "cells": [
  {
   "cell_type": "code",
   "execution_count": 1,
   "metadata": {},
   "outputs": [],
   "source": [
    "from __future__ import print_function, division\n",
    "import numpy as np\n",
    "import matplotlib.pyplot as plt\n",
    "%matplotlib inline"
   ]
  },
  {
   "cell_type": "markdown",
   "metadata": {},
   "source": [
    "# 2-halo effects"
   ]
  },
  {
   "cell_type": "code",
   "execution_count": 2,
   "metadata": {},
   "outputs": [
    {
     "name": "stderr",
     "output_type": "stream",
     "text": [
      "/anaconda2/lib/python2.7/site-packages/h5py/__init__.py:36: FutureWarning: Conversion of the second argument of issubdtype from `float` to `np.floating` is deprecated. In future, it will be treated as `np.float64 == np.dtype(float).type`.\n",
      "  from ._conv import register_converters as _register_converters\n"
     ]
    }
   ],
   "source": [
    "# load a halo catalog\n",
    "from halotools.sim_manager import CachedHaloCatalog\n",
    "halocat = CachedHaloCatalog(simname='bolshoi', halo_finder='rockstar',\n",
    "                            redshift=0.0, dz_tol=0.001,\n",
    "                            version_name='halotools_v0p4')"
   ]
  },
  {
   "cell_type": "markdown",
   "metadata": {},
   "source": [
    "## Calulate Orientation Correlation Functions"
   ]
  },
  {
   "cell_type": "code",
   "execution_count": 3,
   "metadata": {},
   "outputs": [],
   "source": [
    "from halotools.mock_observables.alignments import ed_3d, ee_3d, ee_3d_one_two_halo_decomp, ed_3d_one_two_halo_decomp\n",
    "from intrinsic_alignments.ia_models.jackknife_observables import jackknife_ed_3d, jackknife_ee_3d\n",
    "\n",
    "rbins = np.logspace(-1,1.4,20)\n",
    "rbin_centers = (rbins[:-1]+rbins[1:])/2.0"
   ]
  },
  {
   "cell_type": "code",
   "execution_count": 4,
   "metadata": {},
   "outputs": [],
   "source": [
    "# empirical halo and sub-halo correlations\n",
    "\n",
    "halo_coords = np.vstack((halocat.halo_table['halo_x'],\n",
    "                         halocat.halo_table['halo_y'],\n",
    "                         halocat.halo_table['halo_z'])).T\n",
    "\n",
    "halo_orientations = np.vstack((halocat.halo_table['halo_axisA_x'],\n",
    "                               halocat.halo_table['halo_axisA_y'],\n",
    "                               halocat.halo_table['halo_axisA_z'])).T\n",
    "\n",
    "# define host and sub-halo samples\n",
    "hosts = halocat.halo_table['halo_upid']==-1\n",
    "subs = halocat.halo_table['halo_upid']!=-1\n",
    "\n",
    "# define host halo IDs\n",
    "host_ids = halocat.halo_table['halo_hostid']\n",
    "\n",
    "# define halo sub-samples\n",
    "halo_sample_mask = (halocat.halo_table['halo_mpeak']>10**12.0)"
   ]
  },
  {
   "cell_type": "code",
   "execution_count": 5,
   "metadata": {},
   "outputs": [
    {
     "name": "stdout",
     "output_type": "stream",
     "text": [
      "estimated time to complete jackknife calculation (s): 36.7899062634\n"
     ]
    }
   ],
   "source": [
    "# calculate ED correaltion functions\n",
    "halo_omega, halo_omega_cov = jackknife_ed_3d(halo_coords[halo_sample_mask], \n",
    "                                             halo_orientations[halo_sample_mask],\n",
    "                                             halo_coords[halo_sample_mask],\n",
    "                                             rbins, Nsub = [3,3,3],\n",
    "                                             period=halocat.Lbox, num_threads=4,\n",
    "                                             verbose=True)\n",
    "halo_omega_err = np.sqrt(np.diag(halo_omega_cov))"
   ]
  },
  {
   "cell_type": "code",
   "execution_count": 6,
   "metadata": {},
   "outputs": [
    {
     "name": "stdout",
     "output_type": "stream",
     "text": [
      "estimated time to complete jackknife calculation (s): 28.1647267342\n"
     ]
    }
   ],
   "source": [
    "# calculate EE correaltion functions\n",
    "halo_eta, halo_eta_cov = jackknife_ee_3d(halo_coords[halo_sample_mask], \n",
    "                                         halo_orientations[halo_sample_mask],\n",
    "                                         halo_coords[halo_sample_mask],\n",
    "                                         halo_orientations[halo_sample_mask],\n",
    "                                         rbins, Nsub = [3,3,3],\n",
    "                                         period=halocat.Lbox, num_threads=4,\n",
    "                                         verbose=True)\n",
    "halo_eta_err = np.sqrt(np.diag(halo_eta_cov))"
   ]
  },
  {
   "cell_type": "markdown",
   "metadata": {},
   "source": [
    "## vary central alignment strength"
   ]
  },
  {
   "cell_type": "code",
   "execution_count": 22,
   "metadata": {},
   "outputs": [],
   "source": [
    "from intrinsic_alignments.ia_models.utils import halocat_to_galaxy_table\n",
    "from intrinsic_alignments.ia_models.ia_model_components import CentralAlignment\n",
    "from intrinsic_alignments.ia_models.ia_model_components import RadialSatelliteAlignment\n",
    "from astropy.table import Table\n",
    "from intrinsic_alignments.ia_models.occupation_models import SubHaloPositions, IsotropicSubhaloPositions\n",
    "\n",
    "def calculate_ed_ee(central_alignment_strength, satellite_alignment_strength, num_realizations=10):\n",
    "    \n",
    "    # calculation parameters\n",
    "    isotropize_satellites = False\n",
    "    rbins = np.logspace(-1,1.4,20)\n",
    "    \n",
    "    # store results\n",
    "    gal_omega = np.zeros((num_realizations, len(rbins)-1))\n",
    "    gal_eta = np.zeros((num_realizations, len(rbins)-1))\n",
    "    # loop through number of samples\n",
    "    for i in range(0, num_realizations):\n",
    "        \n",
    "        # get galaxy table formated catalog\n",
    "        table = halocat_to_galaxy_table(halocat)\n",
    "        \n",
    "        # central alignment model\n",
    "        cen_alignment_model = CentralAlignment(central_alignment_strength=central_alignment_strength)\n",
    "        table = Table(np.copy(cen_alignment_model.assign_central_orientation(table=table)))\n",
    "        \n",
    "        # satellite alignment model\n",
    "        satellite_position_model = IsotropicSubhaloPositions(Lbox=halocat.Lbox)\n",
    "        \n",
    "        # isotropize satellites\n",
    "        if isotropize_satellites==True:\n",
    "            table = Table(np.copy(satellite_position_model.assign_gal_type(table=table)))\n",
    "            table = Table(np.copy(satellite_position_model.assign_positions(table=table)))\n",
    "        \n",
    "        # assign satellite alignments\n",
    "        if satellite_alignment_strength is None:\n",
    "            # use subhalo alignments\n",
    "            sats = (table['gal_type']=='satellites')\n",
    "            table['galaxy_axisA_x'][sats] = halocat.halo_table['halo_axisA_x'][sats]\n",
    "            table['galaxy_axisA_y'][sats] = halocat.halo_table['halo_axisA_y'][sats]\n",
    "            table['galaxy_axisA_z'][sats] = halocat.halo_table['halo_axisA_z'][sats]\n",
    "        else:\n",
    "            # use alignment model\n",
    "            sat_alignment_model = RadialSatelliteAlignment(satellite_alignment_strength=satellite_alignment_strength,\n",
    "                                                           Lbox=halocat.Lbox)\n",
    "            table = Table(np.copy(sat_alignment_model.assign_satellite_orientation(table=table)))\n",
    "        \n",
    "        # calculate observables\n",
    "        galaxy_coords = np.vstack((table['x'],\n",
    "                                   table['y'],\n",
    "                                   table['z'])).T\n",
    "\n",
    "        galaxy_orientations = np.vstack((table['galaxy_axisA_x'],\n",
    "                                         table['galaxy_axisA_y'],\n",
    "                                         table['galaxy_axisA_z'])).T\n",
    "\n",
    "        gal_sample_mask = (table['halo_mpeak']>10**12.0)\n",
    "        \n",
    "        gal_omega[i,:] = ed_3d(galaxy_coords[gal_sample_mask], galaxy_orientations[gal_sample_mask],\n",
    "                               galaxy_coords[gal_sample_mask],\n",
    "                               rbins, period=halocat.Lbox, num_threads=4)\n",
    "        \n",
    "        gal_eta[i,:] = ee_3d(galaxy_coords[gal_sample_mask], galaxy_orientations[gal_sample_mask],\n",
    "                             galaxy_coords[gal_sample_mask], galaxy_orientations[gal_sample_mask],\n",
    "                             rbins, period=halocat.Lbox, num_threads=4)\n",
    "\n",
    "    return np.mean(gal_omega, axis=0), np.mean(gal_eta, axis=0)"
   ]
  },
  {
   "cell_type": "code",
   "execution_count": 16,
   "metadata": {},
   "outputs": [],
   "source": [
    "mus = np.linspace(0.99,0.0,10)\n",
    "gal_omega_1, gal_eta_1   = calculate_ed_ee(mus[0], None, num_realizations=1)\n",
    "gal_omega_2, gal_eta_2   = calculate_ed_ee(mus[1], None, num_realizations=1)\n",
    "gal_omega_3, gal_eta_3   = calculate_ed_ee(mus[2], None, num_realizations=1)\n",
    "gal_omega_4, gal_eta_4   = calculate_ed_ee(mus[3], None, num_realizations=1)\n",
    "gal_omega_5, gal_eta_5   = calculate_ed_ee(mus[4], None, num_realizations=1)\n",
    "gal_omega_6, gal_eta_6   = calculate_ed_ee(mus[5], None, num_realizations=1)\n",
    "gal_omega_7, gal_eta_7   = calculate_ed_ee(mus[6], None, num_realizations=1)\n",
    "gal_omega_8, gal_eta_8   = calculate_ed_ee(mus[7], None, num_realizations=1)\n",
    "gal_omega_9, gal_eta_9   = calculate_ed_ee(mus[8], None, num_realizations=1)\n",
    "gal_omega_10, gal_eta_10 = calculate_ed_ee(mus[9], None, num_realizations=1)"
   ]
  },
  {
   "cell_type": "code",
   "execution_count": 29,
   "metadata": {},
   "outputs": [
    {
     "data": {
      "image/png": "[encoded data removed]",
      "text/plain": [
       "<Figure size 237.6x475.2 with 2 Axes>"
      ]
     },
     "metadata": {},
     "output_type": "display_data"
    }
   ],
   "source": [
    "ps = np.linspace(1,0,10)\n",
    "colors = np.linspace(1.0,0.5,len(ps))\n",
    "colors = plt.cm.cool(colors)\n",
    "\n",
    "fig, (ax1, ax2) = plt.subplots(2,1, sharex=True, figsize=(3.3,6.6))\n",
    "fig.subplots_adjust(left=0.2, right=0.9, bottom=0.2, top=0.9)\n",
    "\n",
    "# ED\n",
    "ax = ax1\n",
    "l0 = ax.errorbar(rbin_centers, halo_omega, yerr=halo_omega_err,\n",
    "                 fmt='o', color='black')\n",
    "l1,  = ax.plot(rbin_centers, gal_omega_1,  '-', color=colors[0])\n",
    "l2,  = ax.plot(rbin_centers, gal_omega_2,  '-', color=colors[1])\n",
    "l3,  = ax.plot(rbin_centers, gal_omega_3,  '-', color=colors[2])\n",
    "l4,  = ax.plot(rbin_centers, gal_omega_4,  '-', color=colors[3])\n",
    "l5,  = ax.plot(rbin_centers, gal_omega_5,  '-', color=colors[4])\n",
    "l6,  = ax.plot(rbin_centers, gal_omega_6,  '-', color=colors[5])\n",
    "l7,  = ax.plot(rbin_centers, gal_omega_7,  '-', color=colors[6])\n",
    "l8,  = ax.plot(rbin_centers, gal_omega_8,  '-', color=colors[7])\n",
    "l9,  = ax.plot(rbin_centers, gal_omega_9,  '-', color=colors[8])\n",
    "l10, = ax.plot(rbin_centers, gal_omega_10, '-', color=colors[9])\n",
    "ax.set_xscale('log')\n",
    "ax.set_yscale('log')\n",
    "ax.set_xlabel(r'$r~[h^{-1}\\rm Mpc]$')\n",
    "ax.set_ylabel(r'$\\omega(r)$')\n",
    "ax.set_ylim([0.001,0.6])\n",
    "\n",
    "# EE\n",
    "ax = ax2\n",
    "l0 = ax.errorbar(rbin_centers, halo_eta, yerr=halo_eta_err, fmt='o',  color='black')\n",
    "l1,  = ax.plot(rbin_centers, gal_eta_1,  '-', color=colors[0])\n",
    "l2,  = ax.plot(rbin_centers, gal_eta_2,  '-', color=colors[1])\n",
    "l3,  = ax.plot(rbin_centers, gal_eta_3,  '-', color=colors[2])\n",
    "l4,  = ax.plot(rbin_centers, gal_eta_4,  '-', color=colors[3])\n",
    "l5,  = ax.plot(rbin_centers, gal_eta_5,  '-', color=colors[4])\n",
    "l6,  = ax.plot(rbin_centers, gal_eta_6,  '-', color=colors[5])\n",
    "l7,  = ax.plot(rbin_centers, gal_eta_7,  '-', color=colors[6])\n",
    "l8,  = ax.plot(rbin_centers, gal_eta_8,  '-', color=colors[7])\n",
    "l9,  = ax.plot(rbin_centers, gal_eta_9,  '-', color=colors[8])\n",
    "l10, = ax.plot(rbin_centers, gal_eta_10, '-', color=colors[9])\n",
    "ax.set_xscale('log')\n",
    "ax.set_yscale('log')\n",
    "ax.set_xlabel(r'$r~[h^{-1}\\rm Mpc]$')\n",
    "ax.set_ylabel(r'$\\eta(r)$')\n",
    "ax.set_ylim([0.0001,0.5])\n",
    "plt.show()\n",
    "\n",
    "fig.savefig('/Users/duncan/Desktop/varying_central_alignment.pdf', dpi=300)"
   ]
  },
  {
   "cell_type": "code",
   "execution_count": 23,
   "metadata": {},
   "outputs": [
    {
     "name": "stderr",
     "output_type": "stream",
     "text": [
      "/Users/duncan/Projects/intrinsic_alignments/ia_models/ia_model_components.py:345: UserWarning: 1033105 galaxies have a radial distance equal to zero (or infinity) from their host. These galaxies will be re-assigned random alignment vectors.\n",
      "  warn(msg)\n",
      "/Users/duncan/Projects/intrinsic_alignments/ia_models/ia_model_components.py:353: UserWarning: `satellite_alignment_strength` not detected in the table, using value in self.param_dict.\n",
      "  warn(msg)\n"
     ]
    }
   ],
   "source": [
    "mus = np.linspace(0.99,0,10)\n",
    "gal_omega_11, gal_eta_11   = calculate_ed_ee(0.99, mus[0], num_realizations=1)\n",
    "gal_omega_22, gal_eta_22   = calculate_ed_ee(0.99, mus[1], num_realizations=1)\n",
    "gal_omega_33, gal_eta_33   = calculate_ed_ee(0.99, mus[2], num_realizations=1)\n",
    "gal_omega_44, gal_eta_44   = calculate_ed_ee(0.99, mus[3], num_realizations=1)\n",
    "gal_omega_55, gal_eta_55   = calculate_ed_ee(0.99, mus[4], num_realizations=1)\n",
    "gal_omega_66, gal_eta_66   = calculate_ed_ee(0.99, mus[5], num_realizations=1)\n",
    "gal_omega_77, gal_eta_77   = calculate_ed_ee(0.99, mus[6], num_realizations=1)\n",
    "gal_omega_88, gal_eta_88   = calculate_ed_ee(0.99, mus[7], num_realizations=1)\n",
    "gal_omega_99, gal_eta_99   = calculate_ed_ee(0.99, mus[8], num_realizations=1)\n",
    "gal_omega_100, gal_eta_100 = calculate_ed_ee(0.99, mus[9], num_realizations=1)"
   ]
  },
  {
   "cell_type": "code",
   "execution_count": 28,
   "metadata": {},
   "outputs": [
    {
     "data": {
      "image/png": "[encoded data removed]",
      "text/plain": [
       "<Figure size 237.6x475.2 with 2 Axes>"
      ]
     },
     "metadata": {},
     "output_type": "display_data"
    }
   ],
   "source": [
    "ps = np.linspace(1,0,10)\n",
    "colors = np.linspace(1.0,0.5,len(ps))\n",
    "colors = plt.cm.cool(colors)\n",
    "\n",
    "fig, (ax1, ax2) = plt.subplots(2,1, sharex=True, figsize=(3.3,6.6))\n",
    "fig.subplots_adjust(left=0.2, right=0.9, bottom=0.2, top=0.9)\n",
    "\n",
    "# ED\n",
    "ax = ax1\n",
    "l0 = ax.errorbar(rbin_centers, halo_omega, yerr=halo_omega_err, fmt='o', color='black')\n",
    "l1,  = ax.plot(rbin_centers, gal_omega_11,  '-', color=colors[0])\n",
    "l2,  = ax.plot(rbin_centers, gal_omega_22,  '-', color=colors[1])\n",
    "l3,  = ax.plot(rbin_centers, gal_omega_33,  '-', color=colors[2])\n",
    "l4,  = ax.plot(rbin_centers, gal_omega_44,  '-', color=colors[3])\n",
    "l5,  = ax.plot(rbin_centers, gal_omega_55,  '-', color=colors[4])\n",
    "l6,  = ax.plot(rbin_centers, gal_omega_66,  '-', color=colors[5])\n",
    "l7,  = ax.plot(rbin_centers, gal_omega_77,  '-', color=colors[6])\n",
    "l8,  = ax.plot(rbin_centers, gal_omega_88,  '-', color=colors[7])\n",
    "l9,  = ax.plot(rbin_centers, gal_omega_99,  '-', color=colors[8])\n",
    "l10, = ax.plot(rbin_centers, gal_omega_100, '-', color=colors[9])\n",
    "ax.set_xscale('log')\n",
    "ax.set_yscale('log')\n",
    "ax.set_xlabel(r'$r~[h^{-1}\\rm Mpc]$')\n",
    "ax.set_ylabel(r'$\\omega(r)$')\n",
    "ax.set_ylim([0.001,0.6])\n",
    "\n",
    "# EE\n",
    "ax = ax2\n",
    "l0 = ax.errorbar(rbin_centers, halo_eta, yerr=halo_eta_err, fmt='o',  color='black')\n",
    "l1,  = ax.plot(rbin_centers, gal_eta_11,  '-', color=colors[0])\n",
    "l2,  = ax.plot(rbin_centers, gal_eta_22,  '-', color=colors[1])\n",
    "l3,  = ax.plot(rbin_centers, gal_eta_33,  '-', color=colors[2])\n",
    "l4,  = ax.plot(rbin_centers, gal_eta_44,  '-', color=colors[3])\n",
    "l5,  = ax.plot(rbin_centers, gal_eta_55,  '-', color=colors[4])\n",
    "l6,  = ax.plot(rbin_centers, gal_eta_66,  '-', color=colors[5])\n",
    "l7,  = ax.plot(rbin_centers, gal_eta_77,  '-', color=colors[6])\n",
    "l8,  = ax.plot(rbin_centers, gal_eta_88,  '-', color=colors[7])\n",
    "l9,  = ax.plot(rbin_centers, gal_eta_99,  '-', color=colors[8])\n",
    "l10, = ax.plot(rbin_centers, gal_eta_100, '-', color=colors[9])\n",
    "ax.set_xscale('log')\n",
    "ax.set_yscale('log')\n",
    "ax.set_xlabel(r'$r~[h^{-1}\\rm Mpc]$')\n",
    "ax.set_ylabel(r'$\\eta(r)$')\n",
    "ax.set_ylim([0.0001,0.5])\n",
    "plt.show()\n",
    "\n",
    "fig.savefig('/Users/duncan/Desktop/varying_satellite_alignment.pdf', dpi=300)"
   ]
  },
  {
   "cell_type": "code",
   "execution_count": null,
   "metadata": {},
   "outputs": [],
   "source": []
  }
 ],
 "metadata": {
  "kernelspec": {
   "display_name": "Python 2",
   "language": "python",
   "name": "python2"
  },
  "language_info": {
   "codemirror_mode": {
    "name": "ipython",
    "version": 2
   },
   "file_extension": ".py",
   "mimetype": "text/x-python",
   "name": "python",
   "nbconvert_exporter": "python",
   "pygments_lexer": "ipython2",
   "version": "2.7.15"
  }
 },
 "nbformat": 4,
 "nbformat_minor": 2
}
