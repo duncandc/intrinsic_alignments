{
 "cells": [
  {
   "cell_type": "code",
   "execution_count": 1,
   "metadata": {},
   "outputs": [],
   "source": [
    "from __future__ import print_function, division\n",
    "import numpy as np\n",
    "from astropy.table import Table\n",
    "import matplotlib.pyplot as plt\n",
    "%matplotlib inline\n",
    "\n",
    "# location to save figures\n",
    "import os\n",
    "cwd = os.getcwd()\n",
    "figure_path = cwd + '/figures/'"
   ]
  },
  {
   "cell_type": "markdown",
   "metadata": {},
   "source": [
    "# Fitting Functions\n",
    "\n",
    "In this notebook, I develop fitting functions for EE correlation function"
   ]
  },
  {
   "cell_type": "markdown",
   "metadata": {},
   "source": [
    "## Halo Catalog"
   ]
  },
  {
   "cell_type": "code",
   "execution_count": 2,
   "metadata": {},
   "outputs": [],
   "source": [
    "# load a halo catalog\n",
    "from halotools.sim_manager import CachedHaloCatalog\n",
    "halocat = CachedHaloCatalog(simname='bolshoi',\n",
    "                            halo_finder='rockstar',\n",
    "                            redshift=0.0, dz_tol=0.001,\n",
    "                            version_name='halotools_v0p4')"
   ]
  },
  {
   "cell_type": "code",
   "execution_count": 3,
   "metadata": {},
   "outputs": [],
   "source": [
    "#halocat = CachedHaloCatalog(simname='bolshoi',\n",
    "#                            halo_finder='Rockstar',\n",
    "#                            redshift=0.0, dz_tol=0.001,\n",
    "#                            version_name='custom')"
   ]
  },
  {
   "cell_type": "code",
   "execution_count": 4,
   "metadata": {},
   "outputs": [],
   "source": [
    "from intrinsic_alignments.utils.jackknife_observables import jackknife_ed_3d, jackknife_ee_3d\n",
    "\n",
    "rbins = np.logspace(-1,1.8,25)\n",
    "rbin_centers = (rbins[:-1]+rbins[1:])/2.0\n",
    "\n",
    "# empirical halo and sub-halo correlations\n",
    "\n",
    "halo_coords = np.vstack((halocat.halo_table['halo_x'],\n",
    "                         halocat.halo_table['halo_y'],\n",
    "                         halocat.halo_table['halo_z'])).T\n",
    "\n",
    "halo_orientations = np.vstack((halocat.halo_table['halo_axisA_x'],\n",
    "                               halocat.halo_table['halo_axisA_y'],\n",
    "                               halocat.halo_table['halo_axisA_z'])).T\n",
    "\n",
    "# define host and sub-halo samples\n",
    "hosts = halocat.halo_table['halo_upid']==-1\n",
    "subs = halocat.halo_table['halo_upid']!=-1\n",
    "\n",
    "# define host halo IDs\n",
    "host_ids = halocat.halo_table['halo_hostid']\n",
    "\n",
    "# define halo sub-samples\n",
    "halo_sample_mask = (halocat.halo_table['halo_mpeak']>10**12.0)"
   ]
  },
  {
   "cell_type": "code",
   "execution_count": 5,
   "metadata": {},
   "outputs": [
    {
     "name": "stdout",
     "output_type": "stream",
     "text": [
      "estimated time to complete jackknife calculation (s): 1164.3540337085724\n"
     ]
    }
   ],
   "source": [
    "# calculate ED correaltion functions\n",
    "halo_omega, halo_omega_cov = jackknife_ed_3d(halo_coords[halo_sample_mask], \n",
    "                                             halo_orientations[halo_sample_mask],\n",
    "                                             halo_coords[halo_sample_mask],\n",
    "                                             rbins, Nsub = [3,3,3],\n",
    "                                             period=halocat.Lbox, num_threads=4,\n",
    "                                             verbose=True)\n",
    "halo_omega_err = np.sqrt(np.diag(halo_omega_cov))"
   ]
  },
  {
   "cell_type": "code",
   "execution_count": null,
   "metadata": {},
   "outputs": [
    {
     "name": "stdout",
     "output_type": "stream",
     "text": [
      "estimated time to complete jackknife calculation (s): 2071.217269897461\n"
     ]
    }
   ],
   "source": [
    "# calculate EE correaltion functions\n",
    "halo_eta, halo_eta_cov = jackknife_ee_3d(halo_coords[halo_sample_mask], \n",
    "                                         halo_orientations[halo_sample_mask],\n",
    "                                         halo_coords[halo_sample_mask],\n",
    "                                         halo_orientations[halo_sample_mask],\n",
    "                                         rbins, Nsub = [4,4,4],\n",
    "                                         period=halocat.Lbox, num_threads=4,\n",
    "                                         verbose=True)\n",
    "halo_eta_err = np.sqrt(np.diag(halo_eta_cov))"
   ]
  },
  {
   "cell_type": "code",
   "execution_count": null,
   "metadata": {},
   "outputs": [],
   "source": [
    "\n",
    "fig, ax = plt.subplots(1,1, sharex=True, figsize=(3.3,3.3))\n",
    "fig.subplots_adjust(left=0.2, right=0.9, bottom=0.2, top=0.9)\n",
    "ax.errorbar(rbin_centers, halo_eta, yerr=halo_eta_err,\n",
    "            fmt='o',  color='black', ms=4)\n",
    "ax.plot(r_sample, f1(r_sample, popt[0], popt[1], popt[-2]), '--', color='black')\n",
    "ax.plot(r_sample, f2(r_sample, popt[2], popt[3], popt[-1]), '--', color='black')\n",
    "ax.plot(r_sample, ee_model(r_sample, *popt), '-', color='red')\n",
    "result = np.zeros((1000,len(r_sample)))\n",
    "for i in range(0,1000):\n",
    "    poptt = np.random.multivariate_normal(popt, pcov)\n",
    "    result[i,:] = ee_model(r_sample, *poptt)\n",
    "    #ax.plot(r_sample, result[i,:], '-', color='red', alpha=0.1)\n",
    "err = np.nanstd(result,axis=0)\n",
    "ax.fill_between(r_sample, ee_model(r_sample, *popt)+err, ee_model(r_sample, *popt)-err, color='red', alpha=0.1)    \n",
    "ax.set_xscale('log')\n",
    "ax.set_yscale('log')\n",
    "ax.set_xlabel(r'$r~[h^{-1}\\rm Mpc]$')\n",
    "ax.set_ylabel(r'$\\eta(r)$')\n",
    "ax.set_ylim([0.0001,0.5])\n",
    "plt.show()\n",
    "\n",
    "fig, ax = plt.subplots(1,1, sharex=True, figsize=(3.3,3.3))\n",
    "fig.subplots_adjust(left=0.2, right=0.9, bottom=0.2, top=0.9)\n",
    "ax.plot(r_sample,r_sample*0,'-',color='red')\n",
    "ax.errorbar(rbin_centers, (halo_eta)/(ee_model(rbin_centers, *popt))-1,\n",
    "            yerr=halo_eta_err/(ee_model(rbin_centers, *popt)),\n",
    "            fmt='o',  color='black', ms=4)\n",
    "for i in range(0,100):\n",
    "    poptt = np.random.multivariate_normal(popt, pcov)\n",
    "    #ax.plot(r_sample, ee_model(r_sample, *poptt)/ee_model(r_sample, *popt)-1, '-', color='red', alpha=0.1)\n",
    "ax.fill_between(r_sample, err/ee_model(r_sample, *popt), -1.0*err/ee_model(r_sample, *popt), color='red', alpha=0.1)    \n",
    "ax.set_xscale('log')\n",
    "ax.set_xlabel(r'$r~[h^{-1}\\rm Mpc]$')\n",
    "ax.set_ylabel(r'$\\eta(r)$')\n",
    "ax.set_ylim([-1,0.4])\n",
    "plt.show()"
   ]
  },
  {
   "cell_type": "code",
   "execution_count": null,
   "metadata": {},
   "outputs": [],
   "source": [
    "r_sample = np.logspace(-1,2,1000)\n",
    "\n",
    "def f2(r, A=0.01, B=1.0, gamma=1.5):\n",
    "    \"\"\"\n",
    "    2-halo component\n",
    "    \"\"\"\n",
    "    return A/(1.0+(r/B)**gamma)*np.exp(-1.0*B/r)\n",
    "\n",
    "def f1(r, A=0.55, B=0.18, gamma=0.91):\n",
    "    \"\"\"\n",
    "    1-halo componenet\n",
    "    \"\"\"\n",
    "    return A*np.exp(-1.0*(r/B)**gamma)\n",
    "\n",
    "def ee_model(r, A1, B1, A2, B2, gamma1, gamma2):\n",
    "    return f1(r, A1, B1, gamma1) + f2(r, A2, B2, gamma2)"
   ]
  },
  {
   "cell_type": "code",
   "execution_count": null,
   "metadata": {},
   "outputs": [],
   "source": [
    "from scipy.optimize import curve_fit\n",
    "\n",
    "p0 = [0.53453726, 0.17883229, 0.01043898, 2.97565686, 0.87894279, 1.5]\n",
    "popt, pcov = curve_fit(ee_model, rbin_centers, halo_eta, p0=p0, sigma=halo_eta_err)\n"
   ]
  },
  {
   "cell_type": "code",
   "execution_count": null,
   "metadata": {},
   "outputs": [],
   "source": [
    "fig, ax = plt.subplots(1,1, sharex=True, figsize=(3.3,3.3))\n",
    "fig.subplots_adjust(left=0.2, right=0.9, bottom=0.2, top=0.9)\n",
    "ax.errorbar(rbin_centers, halo_omega, yerr=halo_omega_err,\n",
    "            fmt='o',  color='black', ms=4)\n",
    "ax.plot(r_sample, ed_fitting_function(r_sample, *popt), '-', color='red')\n",
    "ax.set_xscale('log')\n",
    "ax.set_yscale('log')\n",
    "ax.set_xlabel(r'$r~[h^{-1}\\rm Mpc]$')\n",
    "ax.set_ylabel(r'$\\eta(r)$')\n",
    "ax.set_ylim([0.001,1])\n",
    "ax.set_xlim([0.1,100])\n",
    "plt.show()\n",
    "\n",
    "fig, ax = plt.subplots(1,1, sharex=True, figsize=(3.3,3.3))\n",
    "fig.subplots_adjust(left=0.2, right=0.9, bottom=0.2, top=0.9)\n",
    "ax.plot(r_sample,r_sample*0,'-',color='red')\n",
    "ax.errorbar(rbin_centers, (halo_omega)/(ed_fitting_function(rbin_centers, *popt))-1,\n",
    "            yerr=halo_omega_err/(ed_fitting_function(rbin_centers, *popt)),\n",
    "            fmt='o',  color='black', ms=4)\n",
    "ax.set_xscale('log')\n",
    "ax.set_xlabel(r'$r~[h^{-1}\\rm Mpc]$')\n",
    "ax.set_ylabel(r'$\\eta(r)$')\n",
    "ax.set_ylim([-0.5,0.1])\n",
    "plt.show()"
   ]
  },
  {
   "cell_type": "code",
   "execution_count": null,
   "metadata": {},
   "outputs": [],
   "source": [
    "r_sample = np.logspace(-1,2,1000)\n",
    "\n",
    "\n",
    "def f2(r, A1=0.001, B1=10.0, alpha=-2.0, k=1.5, A2=0.2, B2=1.0, B=0.2):\n",
    "    \"\"\"\n",
    "    2-halo component\n",
    "    \"\"\"\n",
    "    return f2_1(r, A1, B1, alpha, k, B) + f2_2(r, A2, B2)\n",
    "\n",
    "def f2_1(r, A=0.001, B=10.0, alpha=-2.0):\n",
    "    \"\"\"\n",
    "    2-halo component\n",
    "    \"\"\"\n",
    "    return (A*(r/B)**alpha)*np.exp(-1.0*(B/r))\n",
    "\n",
    "def f2_1(r, A=0.05, B=10.0, alpha=-2.0, beta=1.0):\n",
    "    \"\"\"\n",
    "    2-halo component\n",
    "    \"\"\"\n",
    "    return (A/(1.0+(r/B)**-alpha))*np.exp(-1.0*(B/r)**beta)\n",
    "\n",
    "def f2_1(r, A=0.01, B=10.0, beta=-2.0, k=1.0, B0=0.2):\n",
    "    \"\"\"\n",
    "    2-halo component\n",
    "    \"\"\"\n",
    "    return broken_powerlaw(r, A=A, x0=B, alpha=0, beta=beta, k=k)*np.exp(-B0/r)\n",
    "\n",
    "def f2_2(r, A=0.1, B=2.0):\n",
    "    \"\"\"\n",
    "    2-halo component\n",
    "    \"\"\"\n",
    "    return A*1.0/(1+np.exp((r/B)))\n",
    "\n",
    "def f1(r, A=0.3, B=0.3, gamma=1.6):\n",
    "    \"\"\"\n",
    "    1-halo componenet\n",
    "    \"\"\"\n",
    "    return A*np.exp(-1.0*(r/B)**gamma)\n",
    "\n",
    "def ed_model(r, A, B, gamma, A1, B1, alpha, k, A2, B2):\n",
    "    return f1(r, A, B, gamma) + f2(r, A1, B1, alpha, k, A2, B2, B)"
   ]
  },
  {
   "cell_type": "code",
   "execution_count": null,
   "metadata": {},
   "outputs": [],
   "source": [
    "from scipy.optimize import curve_fit\n",
    "\n",
    "p0 = [0.8, 0.18, 0.9, 0.05, 10.0, -2.0, 1.0, 0.2, 2.0]\n",
    "popt, pcov = curve_fit(ed_model, rbin_centers, halo_omega, p0=p0, sigma=halo_omega_err)\n",
    "\n",
    "popt"
   ]
  },
  {
   "cell_type": "code",
   "execution_count": null,
   "metadata": {},
   "outputs": [],
   "source": [
    "def broken_powerlaw(x, A=1.0, x0=1, alpha=0, beta=-4, k=0.1):\n",
    "    \"\"\"\n",
    "    \"\"\"\n",
    "    f = _logit(np.log10(x), np.log10(x0), 1/k)\n",
    "    n = (1-f)*alpha + f*beta\n",
    "    return A*(x/x0)**n\n",
    "\n",
    "def _logit(x, x0, k):\n",
    "    \"\"\"\n",
    "    \"\"\"\n",
    "    return 1.0/(1.0+np.exp(-k*(x-x0)))\n",
    "\n",
    "def ed_fit_1(r, A=0.3, B=0.3, gamma=1.6):\n",
    "    \"\"\"\n",
    "    one-halo c-s and s-c fitting function\n",
    "    \"\"\"\n",
    "    return A*np.exp(-1.0*(r/B)**gamma)\n",
    "\n",
    "def ed_fit_2(r, A=0.1, B=2.0):\n",
    "    \"\"\"\n",
    "    one-halo s-s fitting function\n",
    "    \"\"\"\n",
    "    return A*1.0/(1.0+np.exp((r/B)))\n",
    "\n",
    "def ed_fit_3(r, A=0.01, B=10.0, beta=-2.0, k=1.0, B0=0.2):\n",
    "    \"\"\"\n",
    "    two-halo fitting function\n",
    "    \"\"\"\n",
    "    return broken_powerlaw(r, A=A, x0=B, alpha=0, beta=beta, k=k)*np.exp(-B0/r)\n",
    "\n",
    "def ed_fitting_function(r, A, B, gamma, A1, B1, A2, B2, beta, k):\n",
    "    \"\"\"\n",
    "    \"\"\"\n",
    "    y1 = ed_fit_1(r, A=A, B=B, gamma=gamma)\n",
    "    y2 = ed_fit_2(r, A=A1, B=B1)\n",
    "    y3 = ed_fit_3(r, A=A2, B=B2, beta=beta, k=k, B0=B)\n",
    "    return y1+y2+y3\n",
    "\n",
    "from scipy.optimize import curve_fit\n",
    "p0 = [0.8, 0.18, 0.9,\n",
    "      0.2, 2.0,\n",
    "      0.05, 10.0, -2.0, 1.0,]\n",
    "popt, pcov = curve_fit(ed_fitting_function, rbin_centers, halo_omega, p0=p0, sigma=halo_omega_err)\n",
    "\n",
    "popt"
   ]
  },
  {
   "cell_type": "code",
   "execution_count": null,
   "metadata": {},
   "outputs": [],
   "source": [
    "r_sample = np.logspace(-1,2,1000)\n",
    "\n",
    "def _sigmoid(x, x0=0, k=1, ymin=0, ymax=1):\n",
    "    \"\"\"\n",
    "    sigmoid function\n",
    "    \"\"\"\n",
    "    height_diff = ymax-ymin\n",
    "    return ymin + height_diff/(1 + np.exp(-k*(x-x0)))\n",
    "\n",
    "def f2(r, A=0.05, B1=3.0, alpha=-1.0):\n",
    "    \"\"\"\n",
    "    2-halo component\n",
    "    \"\"\"\n",
    "    return A*((r/B1)**alpha)*np.exp(-1.0*B1/r)\n",
    "\n",
    "def f1(r, A=0.8, B=0.18, gamma=0.9):\n",
    "    \"\"\"\n",
    "    1-halo componenet\n",
    "    \"\"\"\n",
    "    return A*np.exp(-1.0*(r/B)**gamma)\n",
    "\n",
    "def ed_model(r, A1, B1, gamma, A2, B2_1, alpha):\n",
    "    return f1(r, A1, B1, gamma) + f2(r, A2, B2_1, alpha)"
   ]
  },
  {
   "cell_type": "code",
   "execution_count": null,
   "metadata": {},
   "outputs": [],
   "source": [
    "from scipy.optimize import curve_fit\n",
    "\n",
    "p0 = [0.53453726, 0.17883229, 0.9, 0.05, 1.0, -0.5]\n",
    "popt, pcov = curve_fit(ed_model, rbin_centers, halo_omega, p0=p0, sigma=halo_omega_err)\n",
    "\n",
    "popt"
   ]
  },
  {
   "cell_type": "code",
   "execution_count": null,
   "metadata": {},
   "outputs": [],
   "source": [
    "def broken_powerlaw(x, A=1.0, x0=1, alpha=0, beta=-4, k=0.1):\n",
    "    \"\"\"\n",
    "    \"\"\"\n",
    "    f = _logit(np.log10(x), np.log10(x0), 1/k)\n",
    "    n = (1-f)*alpha + f*beta\n",
    "    return A*(x/x0)**n\n",
    "\n",
    "def _logit(x, x0, k):\n",
    "    \"\"\"\n",
    "    \"\"\"\n",
    "    return 1.0/(1.0+np.exp(-k*(x-x0)))\n",
    "\n",
    "x = np.logspace(-2,2,100)\n",
    "\n",
    "plt.figure()\n",
    "plt.plot(x, broken_powerlaw(x), '-')\n",
    "plt.xscale('log')\n",
    "plt.yscale('log')\n",
    "plt.show()"
   ]
  },
  {
   "cell_type": "code",
   "execution_count": null,
   "metadata": {},
   "outputs": [],
   "source": []
  }
 ],
 "metadata": {
  "kernelspec": {
   "display_name": "Python 3",
   "language": "python",
   "name": "python3"
  },
  "language_info": {
   "codemirror_mode": {
    "name": "ipython",
    "version": 3
   },
   "file_extension": ".py",
   "mimetype": "text/x-python",
   "name": "python",
   "nbconvert_exporter": "python",
   "pygments_lexer": "ipython3",
   "version": "3.8.5"
  }
 },
 "nbformat": 4,
 "nbformat_minor": 4
}
