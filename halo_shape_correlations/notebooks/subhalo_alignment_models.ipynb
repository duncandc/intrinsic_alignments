{
 "cells": [
  {
   "cell_type": "code",
   "execution_count": 1,
   "metadata": {
    "collapsed": true
   },
   "outputs": [],
   "source": [
    "from __future__ import print_function, division\n",
    "import numpy as np\n",
    "import matplotlib.pyplot as plt\n",
    "%matplotlib inline"
   ]
  },
  {
   "cell_type": "markdown",
   "metadata": {},
   "source": [
    "# Modelling Sub-halo Alignment 2-point Correlations"
   ]
  },
  {
   "cell_type": "code",
   "execution_count": 2,
   "metadata": {},
   "outputs": [
    {
     "name": "stdout",
     "output_type": "stream",
     "text": [
      "halo_vmax_firstacc\n",
      "halo_dmvir_dt_tdyn\n",
      "halo_macc\n",
      "halo_scale_factor\n",
      "halo_vmax_mpeak\n",
      "halo_m_pe_behroozi\n",
      "halo_xoff\n",
      "halo_spin\n",
      "halo_scale_factor_firstacc\n",
      "halo_c_to_a\n",
      "halo_mvir_firstacc\n",
      "halo_scale_factor_last_mm\n",
      "halo_scale_factor_mpeak\n",
      "halo_pid\n",
      "halo_m500c\n",
      "halo_id\n",
      "halo_halfmass_scale_factor\n",
      "halo_upid\n",
      "halo_t_by_u\n",
      "halo_rvir\n",
      "halo_vpeak\n",
      "halo_dmvir_dt_100myr\n",
      "halo_mpeak\n",
      "halo_m_pe_diemer\n",
      "halo_jx\n",
      "halo_jy\n",
      "halo_jz\n",
      "halo_m2500c\n",
      "halo_mvir\n",
      "halo_voff\n",
      "halo_axisA_z\n",
      "halo_axisA_x\n",
      "halo_axisA_y\n",
      "halo_y\n",
      "halo_b_to_a\n",
      "halo_x\n",
      "halo_z\n",
      "halo_m200b\n",
      "halo_vacc\n",
      "halo_scale_factor_lastacc\n",
      "halo_vmax\n",
      "halo_m200c\n",
      "halo_vx\n",
      "halo_vy\n",
      "halo_vz\n",
      "halo_dmvir_dt_inst\n",
      "halo_rs\n",
      "halo_nfw_conc\n",
      "halo_hostid\n",
      "halo_mvir_host_halo\n"
     ]
    }
   ],
   "source": [
    "from halotools.sim_manager import CachedHaloCatalog\n",
    "halocat = CachedHaloCatalog(simname='bolshoi', halo_finder='rockstar', redshift=0.0, dz_tol=0.001, version_name='halotools_v0p4')\n",
    "for name in halocat.halo_table.dtype.names:\n",
    "    print(name)"
   ]
  },
  {
   "cell_type": "markdown",
   "metadata": {},
   "source": [
    "## Alignment Models"
   ]
  },
  {
   "cell_type": "code",
   "execution_count": 3,
   "metadata": {
    "collapsed": true
   },
   "outputs": [],
   "source": [
    "from intrinsic_alignments.ia_models.ia_model_components import CentralAlignment\n",
    "from intrinsic_alignments.ia_models.ia_model_components import RadialSatelliteAlignment\n",
    "from intrinsic_alignments.ia_models.ia_model_components import MajorAxisSatelliteAlignment\n",
    "from intrinsic_alignments.ia_models.ia_model_components import HybridSatelliteAlignment"
   ]
  },
  {
   "cell_type": "code",
   "execution_count": 4,
   "metadata": {},
   "outputs": [],
   "source": [
    "# create a model table\n",
    "from intrinsic_alignments.ia_models.utils import halocat_to_galaxy_table\n",
    "table = halocat_to_galaxy_table(halocat)"
   ]
  },
  {
   "cell_type": "code",
   "execution_count": 5,
   "metadata": {},
   "outputs": [
    {
     "name": "stderr",
     "output_type": "stream",
     "text": [
      "/Users/duncan/Code/halotools/halotools/utils/matrix_operations_3d.py:88: RuntimeWarning: invalid value encountered in true_divide\n",
      "  return vectors/elementwise_norm(vectors).reshape((npts, -1))\n",
      "/Users/duncan/Projects/intrinsic_alignments/ia_models/utils.py:299: RuntimeWarning: invalid value encountered in greater\n",
      "  mask1 = (dot > 1) & (dot < 1 + tol)\n",
      "/Users/duncan/Projects/intrinsic_alignments/ia_models/utils.py:299: RuntimeWarning: invalid value encountered in less\n",
      "  mask1 = (dot > 1) & (dot < 1 + tol)\n",
      "/Users/duncan/Projects/intrinsic_alignments/ia_models/utils.py:301: RuntimeWarning: invalid value encountered in less\n",
      "  mask2 = (dot < -1) & (dot > -1 - tol)\n",
      "/Users/duncan/Projects/intrinsic_alignments/ia_models/utils.py:301: RuntimeWarning: invalid value encountered in greater\n",
      "  mask2 = (dot < -1) & (dot > -1 - tol)\n"
     ]
    }
   ],
   "source": [
    "# apply central alignments to model\n",
    "cen_alignment_model = CentralAlignment(central_alignment_stregth=0.95)\n",
    "table = cen_alignment_model.assign_orientation(table=table)"
   ]
  },
  {
   "cell_type": "code",
   "execution_count": 6,
   "metadata": {},
   "outputs": [],
   "source": [
    "# apply satellite alignments to model\n",
    "sat_alignment_model = RadialSatelliteAlignment()\n",
    "table = sat_alignment_model.assign_orientation(table=table, Lbox=halocat.Lbox)"
   ]
  },
  {
   "cell_type": "markdown",
   "metadata": {},
   "source": [
    "## Alignment Correlation Functions"
   ]
  },
  {
   "cell_type": "code",
   "execution_count": 7,
   "metadata": {
    "collapsed": true
   },
   "outputs": [],
   "source": [
    "from halotools.mock_observables.alignments import ed_3d, ee_3d\n",
    "from halotools.mock_observables.alignments import ee_3d_one_two_halo_decomp, ed_3d_one_two_halo_decomp\n",
    "\n",
    "rbins = np.logspace(-1,1.4,20)\n",
    "rbin_centers = (rbins[:-1]+rbins[1:])/2.0"
   ]
  },
  {
   "cell_type": "code",
   "execution_count": 8,
   "metadata": {},
   "outputs": [],
   "source": [
    "# galaxy coordinates and orientations\n",
    "galaxy_coords = np.vstack((table['x'],\n",
    "                           table['y'],\n",
    "                           table['z'])).T\n",
    "\n",
    "galaxy_orientations = np.vstack((table['galaxy_axisA_x'],\n",
    "                                 table['galaxy_axisA_y'],\n",
    "                                 table['galaxy_axisA_z'])).T\n",
    "\n",
    "cens = table['gal_type']=='centrals'\n",
    "sats = table['gal_type']=='satellites'\n",
    "gal_mask = table['halo_mpeak']>10**12\n",
    "\n",
    "# halo orientations\n",
    "halo_coords = np.vstack((halocat.halo_table['halo_x'],\n",
    "                         halocat.halo_table['halo_y'],\n",
    "                         halocat.halo_table['halo_z'])).T\n",
    "\n",
    "halo_orientations = np.vstack((halocat.halo_table['halo_axisA_x'],\n",
    "                               halocat.halo_table['halo_axisA_y'],\n",
    "                               halocat.halo_table['halo_axisA_z'])).T\n",
    "\n",
    "hosts = halocat.halo_table['halo_upid']==-1\n",
    "subs = halocat.halo_table['halo_upid']!=-1\n",
    "halo_mask = halocat.halo_table['halo_mpeak']>10**12"
   ]
  },
  {
   "cell_type": "code",
   "execution_count": 9,
   "metadata": {
    "collapsed": true
   },
   "outputs": [],
   "source": [
    "galaxy_eta = ed_3d(galaxy_coords[gal_mask], galaxy_orientations[gal_mask],\n",
    "                   galaxy_coords[gal_mask],\n",
    "                   rbins, period=halocat.Lbox, num_threads=4)\n",
    "galaxy_omega = ee_3d(galaxy_coords[gal_mask], galaxy_orientations[gal_mask],\n",
    "                     galaxy_coords[gal_mask], galaxy_orientations[gal_mask],\n",
    "                     rbins, period=halocat.Lbox, num_threads=4)"
   ]
  },
  {
   "cell_type": "code",
   "execution_count": 10,
   "metadata": {
    "collapsed": true
   },
   "outputs": [],
   "source": [
    "halo_eta = ed_3d(halo_coords[halo_mask], halo_orientations[halo_mask], halo_coords[halo_mask],\n",
    "                 rbins, period=halocat.Lbox, num_threads=4)\n",
    "halo_omega = ee_3d(halo_coords[halo_mask], halo_orientations[halo_mask],\n",
    "                   halo_coords[halo_mask], halo_orientations[halo_mask],\n",
    "                   rbins, period=halocat.Lbox, num_threads=4)"
   ]
  },
  {
   "cell_type": "code",
   "execution_count": 11,
   "metadata": {},
   "outputs": [
    {
     "data": {
      "image/png": "[encoded data removed]",
      "text/plain": [
       "<matplotlib.figure.Figure at 0x11d916590>"
      ]
     },
     "metadata": {},
     "output_type": "display_data"
    },
    {
     "data": {
      "image/png": "[encoded data removed]",
      "text/plain": [
       "<matplotlib.figure.Figure at 0x11d947410>"
      ]
     },
     "metadata": {},
     "output_type": "display_data"
    }
   ],
   "source": [
    "fig, ax = plt.subplots(figsize=(3.3,3.3))\n",
    "fig.subplots_adjust(left=0.2, right=0.9, bottom=0.2, top=0.9)\n",
    "p1, = plt.plot(rbin_centers, galaxy_eta, 'o', color='blue', mec='none')\n",
    "p2, = plt.plot(rbin_centers, halo_eta, '-')\n",
    "plt.xscale('log')\n",
    "plt.yscale('log')\n",
    "plt.xlabel(r'$r~[h^{-1}\\rm Mpc]$')\n",
    "plt.ylabel(r'$\\eta(r)$')\n",
    "plt.show()\n",
    "\n",
    "fig, ax  = plt.subplots(figsize=(3.3,3.3))\n",
    "fig.subplots_adjust(left=0.2, right=0.9, bottom=0.2, top=0.9)\n",
    "p1, = plt.plot(rbin_centers, galaxy_omega, 'o', color='blue', mec='none')\n",
    "p2, = plt.plot(rbin_centers, halo_omega, '-')\n",
    "plt.xscale('log')\n",
    "plt.yscale('log')\n",
    "plt.xlabel(r'$r~[h^{-1}\\rm Mpc]$')\n",
    "plt.ylabel(r'$\\omega(r)$')\n",
    "plt.legend([p1,p2],['galaxies','haloes'], frameon=False, loc='upper right', fontsize=10)\n",
    "plt.show()"
   ]
  },
  {
   "cell_type": "markdown",
   "metadata": {},
   "source": [
    "## 1- and 2-halo decomposition"
   ]
  },
  {
   "cell_type": "code",
   "execution_count": 13,
   "metadata": {},
   "outputs": [
    {
     "data": {
      "text/html": [
       "&lt;Table length=1367493&gt;\n",
       "<table id=\"table4529372944\" class=\"table-striped table-bordered table-condensed\">\n",
       "<thead><tr><th>halo_id</th><th>halo_upid</th><th>x</th><th>y</th><th>z</th><th>vx</th><th>vy</th><th>vz</th><th>halo_mpeak</th><th>galaxy_axisA_x</th><th>galaxy_axisA_y</th><th>galaxy_axisA_z</th><th>galaxy_axisB_x</th><th>galaxy_axisB_y</th><th>galaxy_axisB_z</th><th>galaxy_axisC_x</th><th>galaxy_axisC_y</th><th>galaxy_axisC_z</th><th>gal_type</th><th>halo_x</th><th>halo_y</th><th>halo_z</th><th>halo_mvir</th><th>halo_axisA_x</th><th>halo_axisA_y</th><th>halo_axisA_z</th></tr></thead>\n",
       "<thead><tr><th>int64</th><th>int64</th><th>float32</th><th>float32</th><th>float32</th><th>float32</th><th>float32</th><th>float32</th><th>float32</th><th>float64</th><th>float64</th><th>float64</th><th>float64</th><th>float64</th><th>float64</th><th>float64</th><th>float64</th><th>float64</th><th>unicode10</th><th>float64</th><th>float64</th><th>float64</th><th>float64</th><th>float64</th><th>float64</th><th>float64</th></tr></thead>\n",
       "<tr><td>3060299107</td><td>-1</td><td>35.725</td><td>43.2765</td><td>17.713</td><td>48.16</td><td>-34.49</td><td>-82.51</td><td>1.643e+14</td><td>-0.857177978954</td><td>0.39663702747</td><td>-0.328519376653</td><td>0.494366780576</td><td>0.454843356928</td><td>-0.740755699891</td><td>0.144386282794</td><td>0.797368540324</td><td>0.58596587976</td><td>centrals</td><td>35.7249908447</td><td>43.2765007019</td><td>17.7129898071</td><td>1.64299997708e+14</td><td>51.3941001892</td><td>-20.2019004822</td><td>17.9174003601</td></tr>\n",
       "<tr><td>3060312953</td><td>-1</td><td>45.2089</td><td>49.7075</td><td>39.9112</td><td>-14.21</td><td>264.96</td><td>-132.11</td><td>1.589e+14</td><td>0.611624355392</td><td>-0.10402571924</td><td>0.784279476735</td><td>-0.773333680353</td><td>0.130574337785</td><td>0.620407415449</td><td>0.166945100927</td><td>0.985966019723</td><td>0.000584147132997</td><td>centrals</td><td>45.2089195251</td><td>49.7075119019</td><td>39.911239624</td><td>1.5889999908e+14</td><td>47.9604988098</td><td>-3.02157998085</td><td>41.3292007446</td></tr>\n",
       "<tr><td>3058440575</td><td>-1</td><td>21.812</td><td>13.8923</td><td>9.54759</td><td>-4.75</td><td>104.38</td><td>-61.29</td><td>1.144e+14</td><td>-0.79077352458</td><td>-0.492189665881</td><td>-0.363904610611</td><td>-0.606906290894</td><td>0.707794430673</td><td>0.361513205819</td><td>-0.0796365927037</td><td>-0.506731069412</td><td>0.858418101157</td><td>centrals</td><td>21.8120098114</td><td>13.8922595978</td><td>9.54759025574</td><td>1.1440000231e+14</td><td>40.1133003235</td><td>18.3442993164</td><td>11.6084003448</td></tr>\n",
       "<tr><td>3058441456</td><td>-1</td><td>26.1803</td><td>14.3142</td><td>6.51834</td><td>-271.94</td><td>78.85</td><td>423.44</td><td>9.709e+13</td><td>-0.484861696747</td><td>-0.016971383265</td><td>0.874426158791</td><td>-0.809351418701</td><td>0.38761327332</td><td>-0.441255290498</td><td>0.331450473032</td><td>0.921665841016</td><td>0.201674642506</td><td>centrals</td><td>26.1803398132</td><td>14.3142299652</td><td>6.51834011078</td><td>9.70900006502e+13</td><td>49.165599823</td><td>-6.97702980042</td><td>-40.8121986389</td></tr>\n",
       "<tr><td>3058452345</td><td>-1</td><td>1.74397</td><td>29.7332</td><td>17.8252</td><td>317.08</td><td>238.52</td><td>179.34</td><td>8.527e+13</td><td>0.775191025088</td><td>-0.608205868233</td><td>-0.170776158962</td><td>-0.437623605535</td><td>-0.711972622318</td><td>0.549163513854</td><td>0.455592421471</td><td>0.350970948821</td><td>0.818080031893</td><td>centrals</td><td>1.74397003651</td><td>29.7332401276</td><td>17.8251895905</td><td>8.52699989934e+13</td><td>37.964099884</td><td>-19.6548995972</td><td>-1.47247004509</td></tr>\n",
       "<tr><td>3058463669</td><td>-1</td><td>10.2739</td><td>26.2383</td><td>22.2927</td><td>-57.3</td><td>186.67</td><td>-187.27</td><td>8.439e+13</td><td>0.596974649008</td><td>0.562858247968</td><td>0.57167461124</td><td>0.800183928895</td><td>-0.468980010665</td><td>-0.373849474433</td><td>-0.0576797050931</td><td>-0.680623495253</td><td>0.730359301529</td><td>centrals</td><td>10.2738800049</td><td>26.2383308411</td><td>22.2926807404</td><td>8.42600022016e+13</td><td>44.0497016907</td><td>15.064499855</td><td>29.0485992432</td></tr>\n",
       "<tr><td>3058683023</td><td>-1</td><td>12.0235</td><td>36.6319</td><td>33.6698</td><td>-306.38</td><td>-77.55</td><td>-386.58</td><td>8.357e+13</td><td>0.515127249947</td><td>0.854287865319</td><td>0.0695425016096</td><td>0.126013360172</td><td>-0.155738630061</td><td>0.979727570381</td><td>-0.847799828627</td><td>0.495921084725</td><td>0.187876896677</td><td>centrals</td><td>12.0234804153</td><td>36.6319313049</td><td>33.6697998047</td><td>8.35699972506e+13</td><td>16.772600174</td><td>38.7454986572</td><td>4.325319767</td></tr>\n",
       "<tr><td>3060115960</td><td>-1</td><td>45.8238</td><td>6.50973</td><td>41.8451</td><td>-233.79</td><td>179.51</td><td>64.62</td><td>7.795e+13</td><td>-0.976052083677</td><td>0.171861182828</td><td>-0.133364402245</td><td>0.147429597916</td><td>0.0718017477761</td><td>-0.98646288459</td><td>0.159958880989</td><td>0.982501014174</td><td>0.0954196706103</td><td>centrals</td><td>45.8237609863</td><td>6.50972986221</td><td>41.8451004028</td><td>7.79499989893e+13</td><td>25.442199707</td><td>-2.93612003326</td><td>35.2636985779</td></tr>\n",
       "<tr><td>3058477222</td><td>-1</td><td>14.5065</td><td>24.5942</td><td>38.4724</td><td>-31.82</td><td>239.24</td><td>-397.53</td><td>7.284e+13</td><td>-0.0410414624562</td><td>-0.0444645310817</td><td>0.998167573023</td><td>-0.514469966028</td><td>0.85733912038</td><td>0.0170378026994</td><td>0.856525686955</td><td>0.512827981044</td><td>0.0580621171164</td><td>centrals</td><td>14.5065002441</td><td>24.5941905975</td><td>38.4723815918</td><td>7.28400029286e+13</td><td>-10.2829999924</td><td>-11.0193004608</td><td>42.6865997314</td></tr>\n",
       "<tr><td>3058476367</td><td>-1</td><td>10.3723</td><td>33.4206</td><td>32.9355</td><td>-16.72</td><td>315.94</td><td>-417.13</td><td>7.274e+13</td><td>0.448042398397</td><td>-0.599032658936</td><td>0.663639874304</td><td>-0.893560628651</td><td>-0.276465448588</td><td>0.353717766957</td><td>0.0284149989029</td><td>0.751483019945</td><td>0.659140241961</td><td>centrals</td><td>10.3723402023</td><td>33.4206314087</td><td>32.9355201721</td><td>7.24899966484e+13</td><td>-18.4610996246</td><td>47.3245010376</td><td>-18.577999115</td></tr>\n",
       "<tr><td>...</td><td>...</td><td>...</td><td>...</td><td>...</td><td>...</td><td>...</td><td>...</td><td>...</td><td>...</td><td>...</td><td>...</td><td>...</td><td>...</td><td>...</td><td>...</td><td>...</td><td>...</td><td>...</td><td>...</td><td>...</td><td>...</td><td>...</td><td>...</td><td>...</td><td>...</td></tr>\n",
       "<tr><td>3071567605</td><td>-1</td><td>236.87</td><td>229.113</td><td>219.266</td><td>1159.99</td><td>-670.81</td><td>200.4</td><td>4.525e+10</td><td>0.179849389122</td><td>-0.650651928099</td><td>-0.737771147236</td><td>-0.233296278382</td><td>-0.756815590377</td><td>0.610575964688</td><td>0.955629135034</td><td>-0.062307548686</td><td>0.287907494955</td><td>centrals</td><td>236.8697052</td><td>229.112960815</td><td>219.266235352</td><td>1636000000.0</td><td>-0.0533000007272</td><td>6.26460981369</td><td>5.58402013779</td></tr>\n",
       "<tr><td>3071570614</td><td>3071570615</td><td>223.554</td><td>226.352</td><td>223.465</td><td>1369.15</td><td>133.21</td><td>-389.12</td><td>8.055e+10</td><td>-0.744333434654</td><td>0.444124583799</td><td>-0.498719452319</td><td>0.577133816507</td><td>0.803529170287</td><td>-0.145799281005</td><td>-0.335982582734</td><td>0.396351140484</td><td>0.854412943217</td><td>satellites</td><td>223.499130249</td><td>226.340301514</td><td>223.499313354</td><td>3.79399988838e+12</td><td>19.6142997742</td><td>3.92637991905</td><td>-5.84832000732</td></tr>\n",
       "<tr><td>3071591661</td><td>3071591676</td><td>244.927</td><td>230.537</td><td>245.133</td><td>510.06</td><td>-151.45</td><td>-425.21</td><td>4.798e+10</td><td>0.689221301482</td><td>0.604243104899</td><td>-0.399830298709</td><td>0.719296139634</td><td>-0.504271369429</td><td>0.477832030615</td><td>-0.0871037375298</td><td>0.616928404401</td><td>0.782184302292</td><td>satellites</td><td>244.967483521</td><td>230.554412842</td><td>244.91569519</td><td>8.18200025498e+12</td><td>10.2311000824</td><td>1.48309004307</td><td>18.244600296</td></tr>\n",
       "<tr><td>3071559812</td><td>3071559728</td><td>225.823</td><td>233.709</td><td>214.685</td><td>646.81</td><td>33.98</td><td>83.93</td><td>5.956e+10</td><td>0.12162228628</td><td>0.892987305228</td><td>-0.43333784993</td><td>0.888657164981</td><td>-0.292440555841</td><td>-0.353223674784</td><td>0.442149819188</td><td>0.342128914302</td><td>0.82912685603</td><td>satellites</td><td>225.514846802</td><td>233.344787598</td><td>214.715545654</td><td>1.67299996713e+13</td><td>18.7269001007</td><td>18.7626991272</td><td>-2.8903799057</td></tr>\n",
       "<tr><td>3071544205</td><td>3071544288</td><td>246.723</td><td>246.001</td><td>207.201</td><td>163.59</td><td>-446.84</td><td>104.15</td><td>4.961e+10</td><td>-0.948056223986</td><td>0.066826309073</td><td>-0.311004245272</td><td>0.147947598971</td><td>0.958137198652</td><td>-0.24512163617</td><td>-0.281604162114</td><td>0.278401424162</td><td>0.91825472659</td><td>satellites</td><td>246.803268433</td><td>245.934570312</td><td>207.328445435</td><td>4.02699992433e+13</td><td>42.8908996582</td><td>-18.3143005371</td><td>1.0950499773</td></tr>\n",
       "<tr><td>3071558476</td><td>-1</td><td>227.979</td><td>228.332</td><td>218.716</td><td>501.36</td><td>-235.72</td><td>127.44</td><td>4.757e+10</td><td>-0.488745905675</td><td>-0.528230507443</td><td>0.694334192369</td><td>-0.603381715432</td><td>0.779492232843</td><td>0.168292496625</td><td>0.63012534084</td><td>0.336696287393</td><td>0.699698267032</td><td>centrals</td><td>227.979309082</td><td>228.331558228</td><td>218.71635437</td><td>1227000064.0</td><td>-5.95161008835</td><td>-4.06474018097</td><td>8.30844974518</td></tr>\n",
       "<tr><td>3071559040</td><td>3071559245</td><td>226.236</td><td>223.465</td><td>216.678</td><td>612.28</td><td>-229.63</td><td>195.54</td><td>6.379e+10</td><td>-0.371863454907</td><td>-0.740447777224</td><td>-0.559870217201</td><td>-0.20456652845</td><td>-0.522929363997</td><td>0.827464449815</td><td>0.905466789199</td><td>-0.422234495836</td><td>-0.0429874886831</td><td>satellites</td><td>226.31237793</td><td>223.718643188</td><td>217.024719238</td><td>2.41600005407e+13</td><td>4.20314979553</td><td>32.9681015015</td><td>32.4418983459</td></tr>\n",
       "<tr><td>3071570821</td><td>3071570713</td><td>229.769</td><td>245.944</td><td>221.452</td><td>-228.94</td><td>-383.12</td><td>108.27</td><td>5.479e+10</td><td>0.884952029982</td><td>0.426463090065</td><td>0.18705383568</td><td>0.293138091209</td><td>-0.822255054399</td><td>0.487818290963</td><td>-0.361842457586</td><td>0.376863182506</td><td>0.852668855746</td><td>satellites</td><td>229.600616455</td><td>245.860015869</td><td>221.480819702</td><td>1.39199994921e+13</td><td>10.3066997528</td><td>-17.4246006012</td><td>19.1194000244</td></tr>\n",
       "<tr><td>3071577824</td><td>3071578123</td><td>223.349</td><td>248.948</td><td>229.087</td><td>423.5</td><td>820.47</td><td>-682.48</td><td>5.302e+10</td><td>0.908449526419</td><td>-0.406575235322</td><td>-0.0970362611134</td><td>-0.0925950481213</td><td>-0.422123454998</td><td>0.901797064646</td><td>0.407609635573</td><td>0.810252039037</td><td>0.421124706263</td><td>satellites</td><td>223.440246582</td><td>249.172897339</td><td>229.075210571</td><td>5.89099979244e+13</td><td>-8.0958404541</td><td>4.08205986023</td><td>39.2074012756</td></tr>\n",
       "<tr><td>3071560014</td><td>-1</td><td>231.296</td><td>232.477</td><td>217.403</td><td>569.88</td><td>-42.85</td><td>109.2</td><td>8.423e+10</td><td>0.996805511083</td><td>0.0574363638164</td><td>0.0554962808388</td><td>0.0166151002178</td><td>-0.828783791956</td><td>0.559322236851</td><td>-0.0781198535594</td><td>0.556613411896</td><td>0.827090562259</td><td>centrals</td><td>231.295532227</td><td>232.476715088</td><td>217.403366089</td><td>681500032.0</td><td>10.8184995651</td><td>0.213620007038</td><td>4.74548006058</td></tr>\n",
       "</table>"
      ],
      "text/plain": [
       "<Table length=1367493>\n",
       " halo_id   halo_upid     x    ...   halo_axisA_x    halo_axisA_y   halo_axisA_z \n",
       "  int64      int64    float32 ...     float64         float64        float64    \n",
       "---------- ---------- ------- ... ---------------- -------------- --------------\n",
       "3060299107         -1  35.725 ...    51.3941001892 -20.2019004822  17.9174003601\n",
       "3060312953         -1 45.2089 ...    47.9604988098 -3.02157998085  41.3292007446\n",
       "3058440575         -1  21.812 ...    40.1133003235  18.3442993164  11.6084003448\n",
       "3058441456         -1 26.1803 ...     49.165599823 -6.97702980042 -40.8121986389\n",
       "3058452345         -1 1.74397 ...     37.964099884 -19.6548995972 -1.47247004509\n",
       "3058463669         -1 10.2739 ...    44.0497016907   15.064499855  29.0485992432\n",
       "3058683023         -1 12.0235 ...     16.772600174  38.7454986572    4.325319767\n",
       "3060115960         -1 45.8238 ...     25.442199707 -2.93612003326  35.2636985779\n",
       "3058477222         -1 14.5065 ...   -10.2829999924 -11.0193004608  42.6865997314\n",
       "3058476367         -1 10.3723 ...   -18.4610996246  47.3245010376  -18.577999115\n",
       "       ...        ...     ... ...              ...            ...            ...\n",
       "3071567605         -1  236.87 ... -0.0533000007272  6.26460981369  5.58402013779\n",
       "3071570614 3071570615 223.554 ...    19.6142997742  3.92637991905 -5.84832000732\n",
       "3071591661 3071591676 244.927 ...    10.2311000824  1.48309004307   18.244600296\n",
       "3071559812 3071559728 225.823 ...    18.7269001007  18.7626991272  -2.8903799057\n",
       "3071544205 3071544288 246.723 ...    42.8908996582 -18.3143005371   1.0950499773\n",
       "3071558476         -1 227.979 ...   -5.95161008835 -4.06474018097  8.30844974518\n",
       "3071559040 3071559245 226.236 ...    4.20314979553  32.9681015015  32.4418983459\n",
       "3071570821 3071570713 229.769 ...    10.3066997528 -17.4246006012  19.1194000244\n",
       "3071577824 3071578123 223.349 ...    -8.0958404541  4.08205986023  39.2074012756\n",
       "3071560014         -1 231.296 ...    10.8184995651 0.213620007038  4.74548006058"
      ]
     },
     "execution_count": 13,
     "metadata": {},
     "output_type": "execute_result"
    }
   ],
   "source": [
    "table"
   ]
  },
  {
   "cell_type": "code",
   "execution_count": null,
   "metadata": {
    "collapsed": true
   },
   "outputs": [],
   "source": []
  }
 ],
 "metadata": {
  "kernelspec": {
   "display_name": "Python 2",
   "language": "python",
   "name": "python2"
  },
  "language_info": {
   "codemirror_mode": {
    "name": "ipython",
    "version": 2
   },
   "file_extension": ".py",
   "mimetype": "text/x-python",
   "name": "python",
   "nbconvert_exporter": "python",
   "pygments_lexer": "ipython2",
   "version": "2.7.13"
  }
 },
 "nbformat": 4,
 "nbformat_minor": 2
}
