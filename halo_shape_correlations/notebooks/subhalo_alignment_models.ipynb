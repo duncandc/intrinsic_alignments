{
 "cells": [
  {
   "cell_type": "code",
   "execution_count": 1,
   "metadata": {},
   "outputs": [],
   "source": [
    "from __future__ import print_function, division\n",
    "import numpy as np\n",
    "import matplotlib.pyplot as plt\n",
    "%matplotlib inline"
   ]
  },
  {
   "cell_type": "markdown",
   "metadata": {},
   "source": [
    "# Modelling Sub-halo Alignment 2-point Correlations"
   ]
  },
  {
   "cell_type": "code",
   "execution_count": 2,
   "metadata": {},
   "outputs": [
    {
     "name": "stderr",
     "output_type": "stream",
     "text": [
      "/anaconda2/lib/python2.7/site-packages/h5py/__init__.py:36: FutureWarning: Conversion of the second argument of issubdtype from `float` to `np.floating` is deprecated. In future, it will be treated as `np.float64 == np.dtype(float).type`.\n",
      "  from ._conv import register_converters as _register_converters\n"
     ]
    },
    {
     "name": "stdout",
     "output_type": "stream",
     "text": [
      "halo_vmax_firstacc\n",
      "halo_dmvir_dt_tdyn\n",
      "halo_macc\n",
      "halo_scale_factor\n",
      "halo_vmax_mpeak\n",
      "halo_m_pe_behroozi\n",
      "halo_xoff\n",
      "halo_spin\n",
      "halo_scale_factor_firstacc\n",
      "halo_c_to_a\n",
      "halo_mvir_firstacc\n",
      "halo_scale_factor_last_mm\n",
      "halo_scale_factor_mpeak\n",
      "halo_pid\n",
      "halo_m500c\n",
      "halo_id\n",
      "halo_halfmass_scale_factor\n",
      "halo_upid\n",
      "halo_t_by_u\n",
      "halo_rvir\n",
      "halo_vpeak\n",
      "halo_dmvir_dt_100myr\n",
      "halo_mpeak\n",
      "halo_m_pe_diemer\n",
      "halo_jx\n",
      "halo_jy\n",
      "halo_jz\n",
      "halo_m2500c\n",
      "halo_mvir\n",
      "halo_voff\n",
      "halo_axisA_z\n",
      "halo_axisA_x\n",
      "halo_axisA_y\n",
      "halo_y\n",
      "halo_b_to_a\n",
      "halo_x\n",
      "halo_z\n",
      "halo_m200b\n",
      "halo_vacc\n",
      "halo_scale_factor_lastacc\n",
      "halo_vmax\n",
      "halo_m200c\n",
      "halo_vx\n",
      "halo_vy\n",
      "halo_vz\n",
      "halo_dmvir_dt_inst\n",
      "halo_rs\n",
      "halo_nfw_conc\n",
      "halo_hostid\n",
      "halo_mvir_host_halo\n"
     ]
    }
   ],
   "source": [
    "from halotools.sim_manager import CachedHaloCatalog\n",
    "halocat = CachedHaloCatalog(simname='bolshoi', halo_finder='rockstar', redshift=0.0, dz_tol=0.001, version_name='halotools_v0p4')\n",
    "for name in halocat.halo_table.dtype.names:\n",
    "    print(name)"
   ]
  },
  {
   "cell_type": "markdown",
   "metadata": {},
   "source": [
    "## Alignment Models"
   ]
  },
  {
   "cell_type": "code",
   "execution_count": 3,
   "metadata": {},
   "outputs": [],
   "source": [
    "from intrinsic_alignments.ia_models.ia_model_components import CentralAlignment\n",
    "from intrinsic_alignments.ia_models.ia_model_components import RadialSatelliteAlignment\n",
    "from intrinsic_alignments.ia_models.ia_model_components import MajorAxisSatelliteAlignment\n",
    "from intrinsic_alignments.ia_models.ia_model_components import HybridSatelliteAlignment\n",
    "from intrinsic_alignments.ia_models.ia_model_components import RadialSatelliteAlignmentStrength"
   ]
  },
  {
   "cell_type": "code",
   "execution_count": 4,
   "metadata": {},
   "outputs": [],
   "source": [
    "# create a model table\n",
    "from intrinsic_alignments.ia_models.utils import halocat_to_galaxy_table\n",
    "table = halocat_to_galaxy_table(halocat)"
   ]
  },
  {
   "cell_type": "code",
   "execution_count": 5,
   "metadata": {},
   "outputs": [
    {
     "name": "stderr",
     "output_type": "stream",
     "text": [
      "/Users/duncan/Code/halotools/halotools/utils/matrix_operations_3d.py:88: RuntimeWarning: invalid value encountered in true_divide\n",
      "  return vectors/elementwise_norm(vectors).reshape((npts, -1))\n",
      "/Users/duncan/Code/halotools/halotools/utils/matrix_operations_3d.py:130: RuntimeWarning: invalid value encountered in greater\n",
      "  mask1 = (dot > 1) & (dot < 1 + tol)\n",
      "/Users/duncan/Code/halotools/halotools/utils/matrix_operations_3d.py:130: RuntimeWarning: invalid value encountered in less\n",
      "  mask1 = (dot > 1) & (dot < 1 + tol)\n",
      "/Users/duncan/Code/halotools/halotools/utils/matrix_operations_3d.py:132: RuntimeWarning: invalid value encountered in less\n",
      "  mask2 = (dot < -1) & (dot > -1 - tol)\n",
      "/Users/duncan/Code/halotools/halotools/utils/matrix_operations_3d.py:132: RuntimeWarning: invalid value encountered in greater\n",
      "  mask2 = (dot < -1) & (dot > -1 - tol)\n"
     ]
    }
   ],
   "source": [
    "# apply central alignments to model\n",
    "cen_alignment_model = CentralAlignment(central_alignment_stregth=0.99)\n",
    "table = cen_alignment_model.assign_central_orientation(table=table)"
   ]
  },
  {
   "cell_type": "code",
   "execution_count": 6,
   "metadata": {},
   "outputs": [
    {
     "name": "stderr",
     "output_type": "stream",
     "text": [
      "/Users/duncan/Projects/intrinsic_alignments/ia_models/ia_model_components.py:549: RuntimeWarning: divide by zero encountered in true_divide\n",
      "  r = np.sqrt(dx**2 + dy**2 + dz**2)/halo_r\n",
      "/Users/duncan/Projects/intrinsic_alignments/ia_models/ia_model_components.py:576: RuntimeWarning: divide by zero encountered in true_divide\n",
      "  result = a*(1.0-1.0/(1.0+(1.0/r)**gamma))\n"
     ]
    },
    {
     "data": {
      "image/png": "[encoded data removed]",
      "text/plain": [
       "<Figure size 237.6x237.6 with 1 Axes>"
      ]
     },
     "metadata": {},
     "output_type": "display_data"
    }
   ],
   "source": [
    "# apply satellite alignments to model\n",
    "sat_alignment_strength = RadialSatelliteAlignmentStrength(satellite_alignment_a=1.6, satellite_alignment_gamma=0.1)\n",
    "sat_alignment_model = RadialSatelliteAlignment(Lbox=halocat.Lbox)\n",
    "table = sat_alignment_strength.assign_satellite_alignment_strength(table=table, Lbox=halocat.Lbox)\n",
    "table = sat_alignment_model.assign_orientation(table=table)\n",
    "\n",
    "r_sample = np.logspace(-2,0,100)\n",
    "fig, ax = plt.subplots(figsize=(3.3,3.3))\n",
    "fig.subplots_adjust(left=0.2, right=0.9, bottom=0.2, top=0.9)\n",
    "plt.plot(r_sample, sat_alignment_strength.alignment_strength_radial_dependence(r_sample), '-', color='black')\n",
    "plt.ylim([0,1])\n",
    "plt.xlim([0.09,1.01])\n",
    "plt.xscale('log')\n",
    "plt.ylabel('alignment strength')\n",
    "plt.xlabel(r'$r/r_{\\rm vir}$')\n",
    "plt.show()\n",
    "\n",
    "filename = \"radial_subhalo_alignment_strength.pdf\"\n",
    "fig.savefig('/Users/duncan/Projects/intrinsic_alignments/halo_shape_correlations/figures/'+filename, dpi=250)"
   ]
  },
  {
   "cell_type": "markdown",
   "metadata": {},
   "source": [
    "## Alignment Correlation Functions"
   ]
  },
  {
   "cell_type": "code",
   "execution_count": 7,
   "metadata": {},
   "outputs": [],
   "source": [
    "from halotools.mock_observables.alignments import ed_3d, ee_3d\n",
    "from halotools.mock_observables.alignments import ee_3d_one_two_halo_decomp, ed_3d_one_two_halo_decomp\n",
    "\n",
    "rbins = np.logspace(-1,1.4,20)\n",
    "rbin_centers = (rbins[:-1]+rbins[1:])/2.0"
   ]
  },
  {
   "cell_type": "code",
   "execution_count": 8,
   "metadata": {},
   "outputs": [],
   "source": [
    "# galaxy coordinates and orientations\n",
    "galaxy_coords = np.vstack((table['x'],\n",
    "                           table['y'],\n",
    "                           table['z'])).T\n",
    "\n",
    "galaxy_orientations = np.vstack((table['galaxy_axisA_x'],\n",
    "                                 table['galaxy_axisA_y'],\n",
    "                                 table['galaxy_axisA_z'])).T\n",
    "\n",
    "cens = table['gal_type']=='centrals'\n",
    "sats = table['gal_type']=='satellites'\n",
    "gal_mask = table['halo_mpeak']>10**12.0\n",
    "\n",
    "# halo orientations\n",
    "halo_coords = np.vstack((halocat.halo_table['halo_x'],\n",
    "                         halocat.halo_table['halo_y'],\n",
    "                         halocat.halo_table['halo_z'])).T\n",
    "\n",
    "halo_orientations = np.vstack((halocat.halo_table['halo_axisA_x'],\n",
    "                               halocat.halo_table['halo_axisA_y'],\n",
    "                               halocat.halo_table['halo_axisA_z'])).T\n",
    "\n",
    "hosts = halocat.halo_table['halo_upid']==-1\n",
    "subs = halocat.halo_table['halo_upid']!=-1\n",
    "halo_mask = halocat.halo_table['halo_mpeak']>10**12.0"
   ]
  },
  {
   "cell_type": "code",
   "execution_count": 9,
   "metadata": {},
   "outputs": [],
   "source": [
    "galaxy_eta = ed_3d(galaxy_coords[gal_mask], galaxy_orientations[gal_mask],\n",
    "                   galaxy_coords[gal_mask],\n",
    "                   rbins, period=halocat.Lbox, num_threads=1)\n",
    "galaxy_omega = ee_3d(galaxy_coords[gal_mask], galaxy_orientations[gal_mask],\n",
    "                     galaxy_coords[gal_mask], galaxy_orientations[gal_mask],\n",
    "                     rbins, period=halocat.Lbox, num_threads=1)"
   ]
  },
  {
   "cell_type": "code",
   "execution_count": 10,
   "metadata": {},
   "outputs": [],
   "source": [
    "halo_eta = ed_3d(halo_coords[halo_mask], halo_orientations[halo_mask], halo_coords[halo_mask],\n",
    "                 rbins, period=halocat.Lbox, num_threads=4)\n",
    "halo_omega = ee_3d(halo_coords[halo_mask], halo_orientations[halo_mask],\n",
    "                   halo_coords[halo_mask], halo_orientations[halo_mask],\n",
    "                   rbins, period=halocat.Lbox, num_threads=4)"
   ]
  },
  {
   "cell_type": "markdown",
   "metadata": {},
   "source": [
    "## 1- and 2-halo decomposition"
   ]
  },
  {
   "cell_type": "code",
   "execution_count": 11,
   "metadata": {},
   "outputs": [],
   "source": [
    "host_ids = table['halo_hostid']\n",
    "galaxy_eta_1h, galaxy_eta_2h  = ed_3d_one_two_halo_decomp(galaxy_coords[gal_mask], galaxy_orientations[gal_mask],\n",
    "                                                          host_ids[gal_mask],\n",
    "                                                          galaxy_coords[gal_mask], host_ids[gal_mask],\n",
    "                                                          rbins, period=halocat.Lbox, num_threads=4)\n",
    "galaxy_omega_1h, galaxy_omega_2h = ee_3d_one_two_halo_decomp(galaxy_coords[gal_mask], galaxy_orientations[gal_mask],\n",
    "                                                             host_ids[gal_mask],\n",
    "                                                             galaxy_coords[gal_mask], galaxy_orientations[gal_mask],\n",
    "                                                             host_ids[gal_mask],\n",
    "                                                             rbins, period=halocat.Lbox, num_threads=4)"
   ]
  },
  {
   "cell_type": "code",
   "execution_count": 13,
   "metadata": {},
   "outputs": [],
   "source": [
    "galaxy_eta_1h, galaxy_eta_2h  = ed_3d_one_two_halo_decomp(galaxy_coords[gal_mask], galaxy_orientations[gal_mask],\n",
    "                                                          host_ids[gal_mask],\n",
    "                                                          galaxy_coords[gal_mask], host_ids[gal_mask],\n",
    "                                                          rbins, period=halocat.Lbox, num_threads=4)\n",
    "galaxy_omega_1h, galaxy_omega_2h = ee_3d_one_two_halo_decomp(galaxy_coords[gal_mask], galaxy_orientations[gal_mask],\n",
    "                                                             host_ids[gal_mask],\n",
    "                                                             galaxy_coords[gal_mask], galaxy_orientations[gal_mask],\n",
    "                                                             host_ids[gal_mask],\n",
    "                                                             rbins, period=halocat.Lbox, num_threads=4)"
   ]
  },
  {
   "cell_type": "code",
   "execution_count": 14,
   "metadata": {},
   "outputs": [],
   "source": [
    "host_ids = halocat.halo_table['halo_hostid']\n",
    "halo_eta_1h, halo_eta_2h = ed_3d_one_two_halo_decomp(halo_coords[halo_mask], halo_orientations[halo_mask],\n",
    "                                                     host_ids[halo_mask],\n",
    "                                                     halo_coords[halo_mask], host_ids[halo_mask],\n",
    "                                                     rbins, period=halocat.Lbox, num_threads=4)\n",
    "halo_omega_1h, halo_omega_2h= ee_3d_one_two_halo_decomp(halo_coords[halo_mask], halo_orientations[halo_mask],\n",
    "                                                        host_ids[halo_mask],\n",
    "                                                        halo_coords[halo_mask], halo_orientations[halo_mask],\n",
    "                                                        host_ids[halo_mask],\n",
    "                                                        rbins, period=halocat.Lbox, num_threads=4)"
   ]
  },
  {
   "cell_type": "code",
   "execution_count": 15,
   "metadata": {},
   "outputs": [
    {
     "data": {
      "image/png": "[encoded data removed]",
      "text/plain": [
       "<Figure size 237.6x237.6 with 1 Axes>"
      ]
     },
     "metadata": {},
     "output_type": "display_data"
    },
    {
     "data": {
      "image/png": "[encoded data removed]",
      "text/plain": [
       "<Figure size 237.6x237.6 with 1 Axes>"
      ]
     },
     "metadata": {},
     "output_type": "display_data"
    }
   ],
   "source": [
    "fig, ax = plt.subplots(figsize=(3.3,3.3))\n",
    "fig.subplots_adjust(left=0.2, right=0.9, bottom=0.2, top=0.9)\n",
    "p1, = plt.plot(rbin_centers, galaxy_eta, 'o', color='black', mec='none')\n",
    "p1, = plt.plot(rbin_centers, galaxy_eta_1h, 'o', color='red', mec='none')\n",
    "p1, = plt.plot(rbin_centers, galaxy_eta_2h, 'o', color='blue', mec='none')\n",
    "l1, = plt.plot(rbin_centers, halo_eta, '-', color='black')\n",
    "l2, = plt.plot(rbin_centers, halo_eta_1h, '--', color='black')\n",
    "l3, = plt.plot(rbin_centers, halo_eta_2h, ':', color='black')\n",
    "plt.xscale('log')\n",
    "plt.yscale('log')\n",
    "plt.xlabel(r'$r~[h^{-1}\\rm Mpc]$')\n",
    "plt.ylabel(r'$\\eta(r)$')\n",
    "plt.ylim([0.005,0.5])\n",
    "plt.legend([l1,l2,l3],['all', '1-halo', '2-halo'], frameon=False, loc='upper right', fontsize=10, title='Bolshoi')\n",
    "plt.show()\n",
    "\n",
    "filename = \"subhalo_ed_tpcf.pdf\"\n",
    "fig.savefig('/Users/duncan/Projects/intrinsic_alignments/halo_shape_correlations/figures/'+filename, dpi=250)\n",
    "\n",
    "fig, ax  = plt.subplots(figsize=(3.3,3.3))\n",
    "fig.subplots_adjust(left=0.2, right=0.9, bottom=0.2, top=0.9)\n",
    "p1, = plt.plot(rbin_centers, galaxy_omega, 'o', color='black', mec='none')\n",
    "p2, = plt.plot(rbin_centers, galaxy_omega_1h, 'o', color='red', mec='none')\n",
    "p3, = plt.plot(rbin_centers, galaxy_omega_2h, 'o', color='blue', mec='none')\n",
    "l1, = plt.plot(rbin_centers, halo_omega, '-', color='black')\n",
    "l2, = plt.plot(rbin_centers, halo_omega_1h, '--', color='black')\n",
    "l3, = plt.plot(rbin_centers, halo_omega_2h, ':', color='black')\n",
    "plt.xscale('log')\n",
    "plt.yscale('log')\n",
    "plt.xlabel(r'$r~[h^{-1}\\rm Mpc]$')\n",
    "plt.ylabel(r'$\\omega(r)$')\n",
    "plt.ylim([0.0001,0.5])\n",
    "plt.legend([p1,p2,p3],['all', '1-halo', '2-halo'], frameon=False, loc='upper right', fontsize=10, title='model')\n",
    "plt.show()\n",
    "\n",
    "filename = \"subhalo_ee_tpcf.pdf\"\n",
    "fig.savefig('/Users/duncan/Projects/intrinsic_alignments/halo_shape_correlations/figures/'+filename, dpi=250)"
   ]
  },
  {
   "cell_type": "code",
   "execution_count": null,
   "metadata": {
    "collapsed": true
   },
   "outputs": [],
   "source": []
  }
 ],
 "metadata": {
  "kernelspec": {
   "display_name": "Python 2",
   "language": "python",
   "name": "python2"
  },
  "language_info": {
   "codemirror_mode": {
    "name": "ipython",
    "version": 2
   },
   "file_extension": ".py",
   "mimetype": "text/x-python",
   "name": "python",
   "nbconvert_exporter": "python",
   "pygments_lexer": "ipython2",
   "version": "2.7.14"
  }
 },
 "nbformat": 4,
 "nbformat_minor": 2
}
