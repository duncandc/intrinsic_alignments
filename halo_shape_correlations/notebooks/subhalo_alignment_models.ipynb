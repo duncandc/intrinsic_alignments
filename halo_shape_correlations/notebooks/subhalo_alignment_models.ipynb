{
 "cells": [
  {
   "cell_type": "code",
   "execution_count": 1,
   "metadata": {},
   "outputs": [],
   "source": [
    "from __future__ import print_function, division\n",
    "import numpy as np\n",
    "import matplotlib.pyplot as plt\n",
    "%matplotlib inline"
   ]
  },
  {
   "cell_type": "markdown",
   "metadata": {},
   "source": [
    "# Modelling Sub-halo Alignment 2-point Correlations"
   ]
  },
  {
   "cell_type": "code",
   "execution_count": 2,
   "metadata": {},
   "outputs": [
    {
     "name": "stderr",
     "output_type": "stream",
     "text": [
      "/anaconda2/lib/python2.7/site-packages/h5py/__init__.py:36: FutureWarning: Conversion of the second argument of issubdtype from `float` to `np.floating` is deprecated. In future, it will be treated as `np.float64 == np.dtype(float).type`.\n",
      "  from ._conv import register_converters as _register_converters\n"
     ]
    },
    {
     "name": "stdout",
     "output_type": "stream",
     "text": [
      "halo_vmax_firstacc\n",
      "halo_dmvir_dt_tdyn\n",
      "halo_macc\n",
      "halo_scale_factor\n",
      "halo_vmax_mpeak\n",
      "halo_m_pe_behroozi\n",
      "halo_xoff\n",
      "halo_spin\n",
      "halo_scale_factor_firstacc\n",
      "halo_c_to_a\n",
      "halo_mvir_firstacc\n",
      "halo_scale_factor_last_mm\n",
      "halo_scale_factor_mpeak\n",
      "halo_pid\n",
      "halo_m500c\n",
      "halo_id\n",
      "halo_halfmass_scale_factor\n",
      "halo_upid\n",
      "halo_t_by_u\n",
      "halo_rvir\n",
      "halo_vpeak\n",
      "halo_dmvir_dt_100myr\n",
      "halo_mpeak\n",
      "halo_m_pe_diemer\n",
      "halo_jx\n",
      "halo_jy\n",
      "halo_jz\n",
      "halo_m2500c\n",
      "halo_mvir\n",
      "halo_voff\n",
      "halo_axisA_z\n",
      "halo_axisA_x\n",
      "halo_axisA_y\n",
      "halo_y\n",
      "halo_b_to_a\n",
      "halo_x\n",
      "halo_z\n",
      "halo_m200b\n",
      "halo_vacc\n",
      "halo_scale_factor_lastacc\n",
      "halo_vmax\n",
      "halo_m200c\n",
      "halo_vx\n",
      "halo_vy\n",
      "halo_vz\n",
      "halo_dmvir_dt_inst\n",
      "halo_rs\n",
      "halo_nfw_conc\n",
      "halo_hostid\n",
      "halo_mvir_host_halo\n"
     ]
    }
   ],
   "source": [
    "from halotools.sim_manager import CachedHaloCatalog\n",
    "halocat = CachedHaloCatalog(simname='bolshoi', halo_finder='rockstar', redshift=0.0, dz_tol=0.001, version_name='halotools_v0p4')\n",
    "for name in halocat.halo_table.dtype.names:\n",
    "    print(name)"
   ]
  },
  {
   "cell_type": "markdown",
   "metadata": {},
   "source": [
    "## Alignment Models"
   ]
  },
  {
   "cell_type": "code",
   "execution_count": 69,
   "metadata": {},
   "outputs": [],
   "source": [
    "from intrinsic_alignments.ia_models.ia_model_components import CentralAlignment\n",
    "from intrinsic_alignments.ia_models.ia_model_components import RadialSatelliteAlignment\n",
    "from intrinsic_alignments.ia_models.ia_model_components import MajorAxisSatelliteAlignment\n",
    "from intrinsic_alignments.ia_models.ia_model_components import HybridSatelliteAlignment\n",
    "from intrinsic_alignments.ia_models.ia_model_components import RadialSatelliteAlignmentStrength"
   ]
  },
  {
   "cell_type": "code",
   "execution_count": 79,
   "metadata": {},
   "outputs": [],
   "source": [
    "# create a model table\n",
    "from intrinsic_alignments.ia_models.utils import halocat_to_galaxy_table\n",
    "table = halocat_to_galaxy_table(halocat)"
   ]
  },
  {
   "cell_type": "code",
   "execution_count": 82,
   "metadata": {},
   "outputs": [],
   "source": [
    "# apply central alignments to model\n",
    "cen_alignment_model = CentralAlignment(central_alignment_strength=0.99)\n",
    "table = cen_alignment_model.assign_central_orientation(table=table)"
   ]
  },
  {
   "cell_type": "code",
   "execution_count": 92,
   "metadata": {},
   "outputs": [
    {
     "data": {
      "text/plain": [
       "'\\nr_sample = np.logspace(-2,0,100)\\nfig, ax = plt.subplots(figsize=(3.3,3.3))\\nfig.subplots_adjust(left=0.2, right=0.9, bottom=0.2, top=0.9)\\nplt.plot(r_sample, sat_alignment_strength.alignment_strength_radial_dependence(r_sample), \\'-\\', color=\\'black\\')\\nplt.ylim([0,1])\\nplt.xlim([0.09,1.01])\\nplt.xscale(\\'log\\')\\nplt.ylabel(\\'alignment strength\\')\\nplt.xlabel(r\\'$r/r_{\\rm vir}$\\')\\nplt.show()\\n\\nfilename = \"radial_subhalo_alignment_strength.pdf\"\\nfig.savefig(\\'/Users/duncan/Projects/intrinsic_alignments/halo_shape_correlations/figures/\\'+filename, dpi=250)\\n'"
      ]
     },
     "execution_count": 92,
     "metadata": {},
     "output_type": "execute_result"
    }
   ],
   "source": [
    "# apply satellite alignments to model\n",
    "sat_alignment_strength = RadialSatelliteAlignmentStrength(satellite_alignment_a=2.0, satellite_alignment_gamma=0.15)\n",
    "sat_alignment_model = RadialSatelliteAlignment(Lbox=halocat.Lbox, satellite_alignment_strength=0.85)\n",
    "#table = sat_alignment_strength.assign_satellite_alignment_strength(table=table, Lbox=halocat.Lbox)\n",
    "table = sat_alignment_model.assign_satellite_orientation(table=table)\n",
    "\n",
    "\"\"\"\n",
    "r_sample = np.logspace(-2,0,100)\n",
    "fig, ax = plt.subplots(figsize=(3.3,3.3))\n",
    "fig.subplots_adjust(left=0.2, right=0.9, bottom=0.2, top=0.9)\n",
    "plt.plot(r_sample, sat_alignment_strength.alignment_strength_radial_dependence(r_sample), '-', color='black')\n",
    "plt.ylim([0,1])\n",
    "plt.xlim([0.09,1.01])\n",
    "plt.xscale('log')\n",
    "plt.ylabel('alignment strength')\n",
    "plt.xlabel(r'$r/r_{\\rm vir}$')\n",
    "plt.show()\n",
    "\n",
    "filename = \"radial_subhalo_alignment_strength.pdf\"\n",
    "fig.savefig('/Users/duncan/Projects/intrinsic_alignments/halo_shape_correlations/figures/'+filename, dpi=250)\n",
    "\"\"\""
   ]
  },
  {
   "cell_type": "markdown",
   "metadata": {},
   "source": [
    "## Alignment Correlation Functions"
   ]
  },
  {
   "cell_type": "code",
   "execution_count": 93,
   "metadata": {},
   "outputs": [],
   "source": [
    "from halotools.mock_observables.alignments import ed_3d, ee_3d\n",
    "from halotools.mock_observables.alignments import ee_3d_one_two_halo_decomp, ed_3d_one_two_halo_decomp\n",
    "\n",
    "rbins = np.logspace(-1,1.4,20)\n",
    "rbin_centers = (rbins[:-1]+rbins[1:])/2.0"
   ]
  },
  {
   "cell_type": "code",
   "execution_count": 94,
   "metadata": {},
   "outputs": [],
   "source": [
    "# galaxy coordinates and orientations\n",
    "galaxy_coords = np.vstack((table['x'],\n",
    "                           table['y'],\n",
    "                           table['z'])).T\n",
    "\n",
    "galaxy_orientations = np.vstack((table['galaxy_axisA_x'],\n",
    "                                 table['galaxy_axisA_y'],\n",
    "                                 table['galaxy_axisA_z'])).T\n",
    "\n",
    "cens = table['gal_type']=='centrals'\n",
    "sats = table['gal_type']=='satellites'\n",
    "gal_mask = table['halo_mpeak']>10**12.0\n",
    "\n",
    "# halo orientations\n",
    "halo_coords = np.vstack((halocat.halo_table['halo_x'],\n",
    "                         halocat.halo_table['halo_y'],\n",
    "                         halocat.halo_table['halo_z'])).T\n",
    "\n",
    "halo_orientations = np.vstack((halocat.halo_table['halo_axisA_x'],\n",
    "                               halocat.halo_table['halo_axisA_y'],\n",
    "                               halocat.halo_table['halo_axisA_z'])).T\n",
    "\n",
    "hosts = halocat.halo_table['halo_upid']==-1\n",
    "subs = halocat.halo_table['halo_upid']!=-1\n",
    "halo_mask = halocat.halo_table['halo_mpeak']>10**12.0"
   ]
  },
  {
   "cell_type": "code",
   "execution_count": 95,
   "metadata": {},
   "outputs": [],
   "source": [
    "galaxy_eta = ed_3d(galaxy_coords[gal_mask], galaxy_orientations[gal_mask],\n",
    "                   galaxy_coords[gal_mask],\n",
    "                   rbins, period=halocat.Lbox, num_threads=1)\n",
    "galaxy_omega = ee_3d(galaxy_coords[gal_mask], galaxy_orientations[gal_mask],\n",
    "                     galaxy_coords[gal_mask], galaxy_orientations[gal_mask],\n",
    "                     rbins, period=halocat.Lbox, num_threads=1)"
   ]
  },
  {
   "cell_type": "code",
   "execution_count": 96,
   "metadata": {},
   "outputs": [],
   "source": [
    "halo_eta = ed_3d(halo_coords[halo_mask], halo_orientations[halo_mask], halo_coords[halo_mask],\n",
    "                 rbins, period=halocat.Lbox, num_threads=4)\n",
    "halo_omega = ee_3d(halo_coords[halo_mask], halo_orientations[halo_mask],\n",
    "                   halo_coords[halo_mask], halo_orientations[halo_mask],\n",
    "                   rbins, period=halocat.Lbox, num_threads=4)"
   ]
  },
  {
   "cell_type": "markdown",
   "metadata": {},
   "source": [
    "## 1- and 2-halo decomposition"
   ]
  },
  {
   "cell_type": "code",
   "execution_count": 97,
   "metadata": {},
   "outputs": [],
   "source": [
    "host_ids = table['halo_hostid']\n",
    "\n",
    "galaxy_eta_1h, galaxy_eta_2h  = ed_3d_one_two_halo_decomp(galaxy_coords[gal_mask], galaxy_orientations[gal_mask],\n",
    "                                                          host_ids[gal_mask],\n",
    "                                                          galaxy_coords[gal_mask], host_ids[gal_mask],\n",
    "                                                          rbins, period=halocat.Lbox, num_threads=4)\n",
    "galaxy_omega_1h, galaxy_omega_2h = ee_3d_one_two_halo_decomp(galaxy_coords[gal_mask], galaxy_orientations[gal_mask],\n",
    "                                                             host_ids[gal_mask],\n",
    "                                                             galaxy_coords[gal_mask], galaxy_orientations[gal_mask],\n",
    "                                                             host_ids[gal_mask],\n",
    "                                                             rbins, period=halocat.Lbox, num_threads=4)"
   ]
  },
  {
   "cell_type": "code",
   "execution_count": 98,
   "metadata": {},
   "outputs": [],
   "source": [
    "galaxy_eta_1h, galaxy_eta_2h  = ed_3d_one_two_halo_decomp(galaxy_coords[gal_mask], galaxy_orientations[gal_mask],\n",
    "                                                          host_ids[gal_mask],\n",
    "                                                          galaxy_coords[gal_mask], host_ids[gal_mask],\n",
    "                                                          rbins, period=halocat.Lbox, num_threads=4)\n",
    "galaxy_omega_1h, galaxy_omega_2h = ee_3d_one_two_halo_decomp(galaxy_coords[gal_mask], galaxy_orientations[gal_mask],\n",
    "                                                             host_ids[gal_mask],\n",
    "                                                             galaxy_coords[gal_mask], galaxy_orientations[gal_mask],\n",
    "                                                             host_ids[gal_mask],\n",
    "                                                             rbins, period=halocat.Lbox, num_threads=4)"
   ]
  },
  {
   "cell_type": "code",
   "execution_count": 99,
   "metadata": {},
   "outputs": [],
   "source": [
    "host_ids = halocat.halo_table['halo_hostid']\n",
    "halo_eta_1h, halo_eta_2h = ed_3d_one_two_halo_decomp(halo_coords[halo_mask], halo_orientations[halo_mask],\n",
    "                                                     host_ids[halo_mask],\n",
    "                                                     halo_coords[halo_mask], host_ids[halo_mask],\n",
    "                                                     rbins, period=halocat.Lbox, num_threads=4)\n",
    "halo_omega_1h, halo_omega_2h= ee_3d_one_two_halo_decomp(halo_coords[halo_mask], halo_orientations[halo_mask],\n",
    "                                                        host_ids[halo_mask],\n",
    "                                                        halo_coords[halo_mask], halo_orientations[halo_mask],\n",
    "                                                        host_ids[halo_mask],\n",
    "                                                        rbins, period=halocat.Lbox, num_threads=4)"
   ]
  },
  {
   "cell_type": "code",
   "execution_count": 100,
   "metadata": {},
   "outputs": [
    {
     "data": {
      "image/png": "[encoded data removed]",
      "text/plain": [
       "<Figure size 237.6x237.6 with 1 Axes>"
      ]
     },
     "metadata": {},
     "output_type": "display_data"
    },
    {
     "data": {
      "image/png": "[encoded data removed]",
      "text/plain": [
       "<Figure size 237.6x237.6 with 1 Axes>"
      ]
     },
     "metadata": {},
     "output_type": "display_data"
    }
   ],
   "source": [
    "fig, ax = plt.subplots(figsize=(3.3,3.3))\n",
    "fig.subplots_adjust(left=0.2, right=0.9, bottom=0.2, top=0.9)\n",
    "p1, = plt.plot(rbin_centers, galaxy_eta, 'o', color='black', mec='none')\n",
    "p1, = plt.plot(rbin_centers, galaxy_eta_1h, 'o', color='red', mec='none')\n",
    "p1, = plt.plot(rbin_centers, galaxy_eta_2h, 'o', color='blue', mec='none')\n",
    "l1, = plt.plot(rbin_centers, halo_eta, '-', color='black')\n",
    "l2, = plt.plot(rbin_centers, halo_eta_1h, '--', color='black')\n",
    "l3, = plt.plot(rbin_centers, halo_eta_2h, ':', color='black')\n",
    "plt.xscale('log')\n",
    "plt.yscale('log')\n",
    "plt.xlabel(r'$r~[h^{-1}\\rm Mpc]$')\n",
    "plt.ylabel(r'$\\eta(r)$')\n",
    "plt.ylim([0.005,0.5])\n",
    "plt.legend([l1,l2,l3],['all', '1-halo', '2-halo'], frameon=False, loc='upper right', fontsize=10, title='Bolshoi')\n",
    "plt.show()\n",
    "\n",
    "filename = \"subhalo_ed_tpcf.pdf\"\n",
    "fig.savefig('/Users/duncan/Projects/intrinsic_alignments/halo_shape_correlations/figures/'+filename, dpi=250)\n",
    "\n",
    "fig, ax  = plt.subplots(figsize=(3.3,3.3))\n",
    "fig.subplots_adjust(left=0.2, right=0.9, bottom=0.2, top=0.9)\n",
    "p1, = plt.plot(rbin_centers, galaxy_omega, 'o', color='black', mec='none')\n",
    "p2, = plt.plot(rbin_centers, galaxy_omega_1h, 'o', color='red', mec='none')\n",
    "p3, = plt.plot(rbin_centers, galaxy_omega_2h, 'o', color='blue', mec='none')\n",
    "l1, = plt.plot(rbin_centers, halo_omega, '-', color='black')\n",
    "l2, = plt.plot(rbin_centers, halo_omega_1h, '--', color='black')\n",
    "l3, = plt.plot(rbin_centers, halo_omega_2h, ':', color='black')\n",
    "plt.xscale('log')\n",
    "plt.yscale('log')\n",
    "plt.xlabel(r'$r~[h^{-1}\\rm Mpc]$')\n",
    "plt.ylabel(r'$\\omega(r)$')\n",
    "plt.ylim([0.0001,0.5])\n",
    "plt.legend([p1,p2,p3],['all', '1-halo', '2-halo'], frameon=False, loc='upper right', fontsize=10, title='model')\n",
    "plt.show()\n",
    "\n",
    "filename = \"subhalo_ee_tpcf.pdf\"\n",
    "fig.savefig('/Users/duncan/Projects/intrinsic_alignments/halo_shape_correlations/figures/'+filename, dpi=250)"
   ]
  },
  {
   "cell_type": "markdown",
   "metadata": {},
   "source": [
    "## further decomposition"
   ]
  },
  {
   "cell_type": "code",
   "execution_count": 120,
   "metadata": {},
   "outputs": [],
   "source": [
    "# (sub-)haloes\n",
    "\n",
    "centrals = (halocat.halo_table['halo_upid'][halo_mask]==-1)\n",
    "satellites = (halocat.halo_table['halo_upid'][halo_mask]!=-1)\n",
    "\n",
    "host_ids = halocat.halo_table['halo_hostid']"
   ]
  },
  {
   "cell_type": "code",
   "execution_count": 121,
   "metadata": {},
   "outputs": [],
   "source": [
    "# EE\n",
    "halo_omega_1h_ss, halo_omega_2h_ss = ee_3d_one_two_halo_decomp(halo_coords[halo_mask], halo_orientations[halo_mask],\n",
    "                                                        host_ids[halo_mask],\n",
    "                                                        halo_coords[halo_mask], halo_orientations[halo_mask],\n",
    "                                                        host_ids[halo_mask],rbins, \n",
    "                                                        mask1 = satellites,  \n",
    "                                                        mask2 = satellites,\n",
    "                                                        period=halocat.Lbox, num_threads=4)"
   ]
  },
  {
   "cell_type": "code",
   "execution_count": 122,
   "metadata": {},
   "outputs": [],
   "source": [
    "halo_omega_1h_cs, halo_omega_2h_cs = ee_3d_one_two_halo_decomp(halo_coords[halo_mask], halo_orientations[halo_mask],\n",
    "                                                        host_ids[halo_mask],\n",
    "                                                        halo_coords[halo_mask], halo_orientations[halo_mask],\n",
    "                                                        host_ids[halo_mask],rbins, \n",
    "                                                        mask1 = centrals,  \n",
    "                                                        mask2 = satellites,\n",
    "                                                        period=halocat.Lbox, num_threads=4)"
   ]
  },
  {
   "cell_type": "code",
   "execution_count": 123,
   "metadata": {},
   "outputs": [],
   "source": [
    "halo_omega_1h_sc, halo_omega_2h_sc = ee_3d_one_two_halo_decomp(halo_coords[halo_mask], halo_orientations[halo_mask],\n",
    "                                                        host_ids[halo_mask],\n",
    "                                                        halo_coords[halo_mask], halo_orientations[halo_mask],\n",
    "                                                        host_ids[halo_mask],rbins, \n",
    "                                                        mask1 = satellites,  \n",
    "                                                        mask2 = centrals,\n",
    "                                                        period=halocat.Lbox, num_threads=4)"
   ]
  },
  {
   "cell_type": "code",
   "execution_count": 124,
   "metadata": {},
   "outputs": [],
   "source": [
    "halo_omega_1h_cc, halo_omega_2h_cc = ee_3d_one_two_halo_decomp(halo_coords[halo_mask], halo_orientations[halo_mask],\n",
    "                                                        host_ids[halo_mask],\n",
    "                                                        halo_coords[halo_mask], halo_orientations[halo_mask],\n",
    "                                                        host_ids[halo_mask],rbins, \n",
    "                                                        mask1 = centrals,  \n",
    "                                                        mask2 = centrals,\n",
    "                                                        period=halocat.Lbox, num_threads=4)"
   ]
  },
  {
   "cell_type": "code",
   "execution_count": 125,
   "metadata": {},
   "outputs": [],
   "source": [
    "## ED\n",
    "halo_eta_1h_ss, halo_eta_2h_ss = ed_3d_one_two_halo_decomp(halo_coords[halo_mask], halo_orientations[halo_mask],\n",
    "                                    host_ids[halo_mask],\n",
    "                                    halo_coords[halo_mask], host_ids[halo_mask],\n",
    "                                    rbins,\n",
    "                                    mask1 = satellites,  \n",
    "                                    mask2 = satellites,\n",
    "                                    period=halocat.Lbox, num_threads=4)"
   ]
  },
  {
   "cell_type": "code",
   "execution_count": 126,
   "metadata": {},
   "outputs": [],
   "source": [
    "halo_eta_1h_cs, halo_eta_2h_cs = ed_3d_one_two_halo_decomp(halo_coords[halo_mask], halo_orientations[halo_mask],\n",
    "                                    host_ids[halo_mask],\n",
    "                                    halo_coords[halo_mask], host_ids[halo_mask],\n",
    "                                    rbins,\n",
    "                                    mask1 = centrals,  \n",
    "                                    mask2 = satellites,\n",
    "                                    period=halocat.Lbox, num_threads=4)"
   ]
  },
  {
   "cell_type": "code",
   "execution_count": 127,
   "metadata": {},
   "outputs": [],
   "source": [
    "halo_eta_1h_sc, halo_eta_2h_sc = ed_3d_one_two_halo_decomp(halo_coords[halo_mask], halo_orientations[halo_mask],\n",
    "                                    host_ids[halo_mask],\n",
    "                                    halo_coords[halo_mask], host_ids[halo_mask],\n",
    "                                    rbins,\n",
    "                                    mask1 = satellites,  \n",
    "                                    mask2 = centrals,\n",
    "                                    period=halocat.Lbox, num_threads=4)"
   ]
  },
  {
   "cell_type": "code",
   "execution_count": 128,
   "metadata": {},
   "outputs": [],
   "source": [
    "halo_eta_1h_cc, halo_eta_2h_cc = ed_3d_one_two_halo_decomp(halo_coords[halo_mask], halo_orientations[halo_mask],\n",
    "                                    host_ids[halo_mask],\n",
    "                                    halo_coords[halo_mask], host_ids[halo_mask],\n",
    "                                    rbins,\n",
    "                                    mask1 = centrals,  \n",
    "                                    mask2 = centrals,\n",
    "                                    period=halocat.Lbox, num_threads=4)"
   ]
  },
  {
   "cell_type": "code",
   "execution_count": 129,
   "metadata": {},
   "outputs": [
    {
     "data": {
      "image/png": "[encoded data removed]",
      "text/plain": [
       "<Figure size 237.6x237.6 with 1 Axes>"
      ]
     },
     "metadata": {},
     "output_type": "display_data"
    }
   ],
   "source": [
    "## plot EE results\n",
    "\n",
    "fig, ax = plt.subplots(figsize=(3.3,3.3))\n",
    "fig.subplots_adjust(left=0.2, right=0.9, bottom=0.2, top=0.9)\n",
    "l1, = plt.plot(rbin_centers, halo_omega, '-', color='black')\n",
    "l2, = plt.plot(rbin_centers, halo_omega_1h, '-', color='red')\n",
    "l3, = plt.plot(rbin_centers, halo_omega_2h, '-', color='blue')\n",
    "l4, = plt.plot(rbin_centers, halo_omega_1h_cc, '-', color='red')\n",
    "l5, = plt.plot(rbin_centers, halo_omega_1h_sc, '--', color='red')\n",
    "l6, = plt.plot(rbin_centers, halo_omega_1h_cs, ':', color='red')\n",
    "l7, = plt.plot(rbin_centers, halo_omega_1h_ss, '-.', color='red')\n",
    "l8, = plt.plot(rbin_centers, halo_omega_2h_cc, '-', color='blue')\n",
    "l9, = plt.plot(rbin_centers, halo_omega_2h_sc, '--', color='blue')\n",
    "l10, = plt.plot(rbin_centers, halo_omega_2h_cs, ':', color='blue')\n",
    "l11, = plt.plot(rbin_centers, halo_omega_2h_ss, '-.', color='blue')\n",
    "plt.xscale('log')\n",
    "plt.yscale('log')\n",
    "plt.xlabel(r'$r~[h^{-1}\\rm Mpc]$')\n",
    "plt.ylabel(r'$\\eta(r)$')\n",
    "plt.ylim([0.0001,0.5])\n",
    "plt.legend([l1,l2,l3],['all', '1-halo', '2-halo'], frameon=False, loc='upper right', fontsize=10, title='Bolshoi')\n",
    "plt.show()"
   ]
  },
  {
   "cell_type": "code",
   "execution_count": 130,
   "metadata": {},
   "outputs": [
    {
     "data": {
      "image/png": "[encoded data removed]",
      "text/plain": [
       "<Figure size 237.6x237.6 with 1 Axes>"
      ]
     },
     "metadata": {},
     "output_type": "display_data"
    }
   ],
   "source": [
    "# plot ED results\n",
    "\n",
    "fig, ax = plt.subplots(figsize=(3.3,3.3))\n",
    "fig.subplots_adjust(left=0.2, right=0.9, bottom=0.2, top=0.9)\n",
    "l1, = plt.plot(rbin_centers, halo_eta, '-', color='black')\n",
    "l2, = plt.plot(rbin_centers, halo_eta_1h, '-', color='red')\n",
    "l3, = plt.plot(rbin_centers, halo_eta_2h, '-', color='blue')\n",
    "l4, = plt.plot(rbin_centers, halo_eta_1h_cc, '-', color='red')\n",
    "l5, = plt.plot(rbin_centers, halo_eta_1h_sc, '--', color='red')\n",
    "l6, = plt.plot(rbin_centers, halo_eta_1h_cs, ':', color='red')\n",
    "l7, = plt.plot(rbin_centers, halo_eta_1h_ss, '-.', color='red')\n",
    "l8, = plt.plot(rbin_centers, halo_eta_2h_cc, '-', color='blue')\n",
    "l9, = plt.plot(rbin_centers, halo_eta_2h_sc, '--', color='blue')\n",
    "l10, = plt.plot(rbin_centers, halo_eta_2h_cs, ':', color='blue')\n",
    "l11, = plt.plot(rbin_centers, halo_eta_2h_ss, '-.', color='blue')\n",
    "plt.xscale('log')\n",
    "plt.yscale('log')\n",
    "plt.xlabel(r'$r~[h^{-1}\\rm Mpc]$')\n",
    "plt.ylabel(r'$\\eta(r)$')\n",
    "plt.ylim([0.005,0.5])\n",
    "plt.legend([l1,l2,l3],['all', '1-halo', '2-halo'], frameon=False, loc='upper right', fontsize=10, title='Bolshoi')\n",
    "plt.show()"
   ]
  },
  {
   "cell_type": "code",
   "execution_count": 131,
   "metadata": {},
   "outputs": [],
   "source": [
    "# galaxies\n",
    "\n",
    "host_ids = table['halo_hostid']\n",
    "satellites = table['gal_type'][gal_mask]=='satellites'\n",
    "centrals = table['gal_type'][gal_mask]=='centrals'"
   ]
  },
  {
   "cell_type": "code",
   "execution_count": 132,
   "metadata": {},
   "outputs": [],
   "source": [
    "# EE\n",
    "galaxy_omega_1h_cc, galaxy_omega_2h_cc = ee_3d_one_two_halo_decomp(galaxy_coords[gal_mask], galaxy_orientations[gal_mask],\n",
    "                                                             host_ids[gal_mask],\n",
    "                                                             galaxy_coords[gal_mask], galaxy_orientations[gal_mask],\n",
    "                                                             host_ids[gal_mask],\n",
    "                                                             rbins,\n",
    "                                                             mask1 = centrals, mask2 = centrals,\n",
    "                                                             period=halocat.Lbox, num_threads=4)"
   ]
  },
  {
   "cell_type": "code",
   "execution_count": 133,
   "metadata": {},
   "outputs": [],
   "source": [
    "galaxy_omega_1h_sc, galaxy_omega_2h_sc = ee_3d_one_two_halo_decomp(galaxy_coords[gal_mask], galaxy_orientations[gal_mask],\n",
    "                                                             host_ids[gal_mask],\n",
    "                                                             galaxy_coords[gal_mask], galaxy_orientations[gal_mask],\n",
    "                                                             host_ids[gal_mask],\n",
    "                                                             rbins,\n",
    "                                                             mask1 = satellites, mask2 = centrals,\n",
    "                                                             period=halocat.Lbox, num_threads=4)"
   ]
  },
  {
   "cell_type": "code",
   "execution_count": 134,
   "metadata": {},
   "outputs": [],
   "source": [
    "galaxy_omega_1h_cs, galaxy_omega_2h_cs = ee_3d_one_two_halo_decomp(galaxy_coords[gal_mask], galaxy_orientations[gal_mask],\n",
    "                                                             host_ids[gal_mask],\n",
    "                                                             galaxy_coords[gal_mask], galaxy_orientations[gal_mask],\n",
    "                                                             host_ids[gal_mask],\n",
    "                                                             rbins,\n",
    "                                                             mask1 = centrals, mask2 = satellites,\n",
    "                                                             period=halocat.Lbox, num_threads=4)"
   ]
  },
  {
   "cell_type": "code",
   "execution_count": 135,
   "metadata": {},
   "outputs": [],
   "source": [
    "galaxy_omega_1h_ss, galaxy_omega_2h_ss = ee_3d_one_two_halo_decomp(galaxy_coords[gal_mask], galaxy_orientations[gal_mask],\n",
    "                                                             host_ids[gal_mask],\n",
    "                                                             galaxy_coords[gal_mask], galaxy_orientations[gal_mask],\n",
    "                                                             host_ids[gal_mask],\n",
    "                                                             rbins,\n",
    "                                                             mask1 = satellites, mask2 = satellites,\n",
    "                                                             period=halocat.Lbox, num_threads=4)"
   ]
  },
  {
   "cell_type": "code",
   "execution_count": 136,
   "metadata": {},
   "outputs": [],
   "source": [
    "# ED\n",
    "galaxy_eta_1h_cc, galaxy_eta_2h_cc  = ed_3d_one_two_halo_decomp(galaxy_coords[gal_mask], galaxy_orientations[gal_mask],\n",
    "                                                          host_ids[gal_mask],\n",
    "                                                          galaxy_coords[gal_mask], host_ids[gal_mask],\n",
    "                                                          rbins,\n",
    "                                                          mask1 = centrals, mask2 = centrals,\n",
    "                                                          period=halocat.Lbox, num_threads=4)"
   ]
  },
  {
   "cell_type": "code",
   "execution_count": 137,
   "metadata": {},
   "outputs": [],
   "source": [
    "galaxy_eta_1h_sc, galaxy_eta_2h_sc  = ed_3d_one_two_halo_decomp(galaxy_coords[gal_mask], galaxy_orientations[gal_mask],\n",
    "                                                          host_ids[gal_mask],\n",
    "                                                          galaxy_coords[gal_mask], host_ids[gal_mask],\n",
    "                                                          rbins,\n",
    "                                                          mask1 = satellites, mask2 = centrals,\n",
    "                                                          period=halocat.Lbox, num_threads=4)"
   ]
  },
  {
   "cell_type": "code",
   "execution_count": 138,
   "metadata": {},
   "outputs": [],
   "source": [
    "galaxy_eta_1h_cs, galaxy_eta_2h_cs  = ed_3d_one_two_halo_decomp(galaxy_coords[gal_mask], galaxy_orientations[gal_mask],\n",
    "                                                          host_ids[gal_mask],\n",
    "                                                          galaxy_coords[gal_mask], host_ids[gal_mask],\n",
    "                                                          rbins,\n",
    "                                                          mask1 = centrals, mask2 = satellites,\n",
    "                                                          period=halocat.Lbox, num_threads=4)"
   ]
  },
  {
   "cell_type": "code",
   "execution_count": 139,
   "metadata": {},
   "outputs": [],
   "source": [
    "galaxy_eta_1h_ss, galaxy_eta_2h_ss  = ed_3d_one_two_halo_decomp(galaxy_coords[gal_mask], galaxy_orientations[gal_mask],\n",
    "                                                          host_ids[gal_mask],\n",
    "                                                          galaxy_coords[gal_mask], host_ids[gal_mask],\n",
    "                                                          rbins,\n",
    "                                                          mask1 = satellites, mask2 = satellites,\n",
    "                                                          period=halocat.Lbox, num_threads=4)"
   ]
  },
  {
   "cell_type": "code",
   "execution_count": 140,
   "metadata": {},
   "outputs": [
    {
     "data": {
      "image/png": "[encoded data removed]",
      "text/plain": [
       "<Figure size 237.6x237.6 with 1 Axes>"
      ]
     },
     "metadata": {},
     "output_type": "display_data"
    }
   ],
   "source": [
    "# plot EE results\n",
    "\n",
    "fig, ax = plt.subplots(figsize=(3.3,3.3))\n",
    "fig.subplots_adjust(left=0.2, right=0.9, bottom=0.2, top=0.9)\n",
    "l1, = plt.plot(rbin_centers, galaxy_omega, '-', color='black')\n",
    "l2, = plt.plot(rbin_centers, galaxy_omega_1h, '-', color='red')\n",
    "l3, = plt.plot(rbin_centers, galaxy_omega_2h, '-', color='blue')\n",
    "l4, = plt.plot(rbin_centers, galaxy_omega_1h_cc, '-', color='red')\n",
    "l5, = plt.plot(rbin_centers, galaxy_omega_1h_sc, '--', color='red')\n",
    "l6, = plt.plot(rbin_centers, galaxy_omega_1h_cs, ':', color='red')\n",
    "l7, = plt.plot(rbin_centers, galaxy_omega_1h_ss, '-.', color='red')\n",
    "l8, = plt.plot(rbin_centers, galaxy_omega_2h_cc, '-', color='blue')\n",
    "l9, = plt.plot(rbin_centers, galaxy_omega_2h_sc, '--', color='blue')\n",
    "l10, = plt.plot(rbin_centers, galaxy_omega_2h_cs, ':', color='blue')\n",
    "l11, = plt.plot(rbin_centers, galaxy_omega_2h_ss, '-.', color='blue')\n",
    "plt.xscale('log')\n",
    "plt.yscale('log')\n",
    "plt.xlabel(r'$r~[h^{-1}\\rm Mpc]$')\n",
    "plt.ylabel(r'$\\eta(r)$')\n",
    "plt.ylim([0.001,0.5])\n",
    "plt.show()"
   ]
  },
  {
   "cell_type": "code",
   "execution_count": 141,
   "metadata": {},
   "outputs": [
    {
     "data": {
      "image/png": "[encoded data removed]",
      "text/plain": [
       "<Figure size 237.6x237.6 with 1 Axes>"
      ]
     },
     "metadata": {},
     "output_type": "display_data"
    }
   ],
   "source": [
    "#plot ED results\n",
    "\n",
    "fig, ax = plt.subplots(figsize=(3.3,3.3))\n",
    "fig.subplots_adjust(left=0.2, right=0.9, bottom=0.2, top=0.9)\n",
    "l1, = plt.plot(rbin_centers, galaxy_eta, '-', color='black')\n",
    "l2, = plt.plot(rbin_centers, galaxy_eta_1h, '-', color='red')\n",
    "l3, = plt.plot(rbin_centers, galaxy_eta_2h, '-', color='blue')\n",
    "l4, = plt.plot(rbin_centers, galaxy_eta_1h_cc, '-', color='red')\n",
    "l5, = plt.plot(rbin_centers, galaxy_eta_1h_sc, '--', color='red')\n",
    "l6, = plt.plot(rbin_centers, galaxy_eta_1h_cs, ':', color='red')\n",
    "l7, = plt.plot(rbin_centers, galaxy_eta_1h_ss, '-.', color='red')\n",
    "l8, = plt.plot(rbin_centers, galaxy_eta_2h_cc, '-', color='blue')\n",
    "l9, = plt.plot(rbin_centers, galaxy_eta_2h_sc, '--', color='blue')\n",
    "l10, = plt.plot(rbin_centers, galaxy_eta_2h_cs, ':', color='blue')\n",
    "l11, = plt.plot(rbin_centers, galaxy_eta_2h_ss, '-.', color='blue')\n",
    "plt.xscale('log')\n",
    "plt.yscale('log')\n",
    "plt.xlabel(r'$r~[h^{-1}\\rm Mpc]$')\n",
    "plt.ylabel(r'$\\eta(r)$')\n",
    "plt.ylim([0.005,0.5])\n",
    "plt.show()"
   ]
  },
  {
   "cell_type": "code",
   "execution_count": 142,
   "metadata": {},
   "outputs": [
    {
     "data": {
      "image/png": "[encoded data removed]",
      "text/plain": [
       "<Figure size 237.6x237.6 with 1 Axes>"
      ]
     },
     "metadata": {},
     "output_type": "display_data"
    },
    {
     "data": {
      "image/png": "[encoded data removed]",
      "text/plain": [
       "<Figure size 237.6x237.6 with 1 Axes>"
      ]
     },
     "metadata": {},
     "output_type": "display_data"
    }
   ],
   "source": [
    "# all together now\n",
    "\n",
    "fig, ax = plt.subplots(figsize=(3.3,3.3))\n",
    "fig.subplots_adjust(left=0.2, right=0.9, bottom=0.2, top=0.9)\n",
    "l1, = plt.plot(rbin_centers, halo_omega, '-', color='black')\n",
    "l2, = plt.plot(rbin_centers, halo_omega_1h, '-', color='red')\n",
    "l3, = plt.plot(rbin_centers, halo_omega_2h, '-', color='blue')\n",
    "l4, = plt.plot(rbin_centers, halo_omega_1h_cc, '-', color='red')\n",
    "l5, = plt.plot(rbin_centers, halo_omega_1h_sc, '--', color='red')\n",
    "l6, = plt.plot(rbin_centers, halo_omega_1h_cs, ':', color='red')\n",
    "l7, = plt.plot(rbin_centers, halo_omega_1h_ss, '-.', color='red')\n",
    "l8, = plt.plot(rbin_centers, halo_omega_2h_cc, '-', color='blue')\n",
    "l9, = plt.plot(rbin_centers, halo_omega_2h_sc, '--', color='blue')\n",
    "l10, = plt.plot(rbin_centers, halo_omega_2h_cs, ':', color='blue')\n",
    "l11, = plt.plot(rbin_centers, halo_omega_2h_ss, '-.', color='blue')\n",
    "l1, = plt.plot(rbin_centers, galaxy_omega, 'o', color='black')\n",
    "l2, = plt.plot(rbin_centers, galaxy_omega_1h, 'o', color='red')\n",
    "l3, = plt.plot(rbin_centers, galaxy_omega_2h, 'o', color='blue')\n",
    "l4, = plt.plot(rbin_centers, galaxy_omega_1h_cc, 'o', color='red')\n",
    "l5, = plt.plot(rbin_centers, galaxy_omega_1h_sc, 'o', color='red')\n",
    "l6, = plt.plot(rbin_centers, galaxy_omega_1h_cs, 'o', color='red')\n",
    "l7, = plt.plot(rbin_centers, galaxy_omega_1h_ss, 'o', color='red')\n",
    "l8, = plt.plot(rbin_centers, galaxy_omega_2h_cc, 'o', color='blue')\n",
    "l9, = plt.plot(rbin_centers, galaxy_omega_2h_sc, 'o', color='blue')\n",
    "l10, = plt.plot(rbin_centers, galaxy_omega_2h_cs, 'o', color='blue')\n",
    "l11, = plt.plot(rbin_centers, galaxy_omega_2h_ss, 'o', color='blue')\n",
    "plt.xscale('log')\n",
    "plt.yscale('log')\n",
    "plt.xlabel(r'$r~[h^{-1}\\rm Mpc]$')\n",
    "plt.ylabel(r'$\\omega(r)$')\n",
    "plt.ylim([0.001,0.5])\n",
    "plt.show()\n",
    "\n",
    "filename = \"total_decomp_ee.pdf\"\n",
    "fig.savefig('/Users/duncan/Projects/intrinsic_alignments/halo_shape_correlations/figures/'+filename, dpi=250)\n",
    "\n",
    "fig, ax = plt.subplots(figsize=(3.3,3.3))\n",
    "fig.subplots_adjust(left=0.2, right=0.9, bottom=0.2, top=0.9)\n",
    "l1, = plt.plot(rbin_centers, halo_eta, '-', color='black')\n",
    "l2, = plt.plot(rbin_centers, halo_eta_1h, '-', color='red')\n",
    "l3, = plt.plot(rbin_centers, halo_eta_2h, '-', color='blue')\n",
    "l4, = plt.plot(rbin_centers, halo_eta_1h_cc, '-', color='red')\n",
    "l5, = plt.plot(rbin_centers, halo_eta_1h_sc, '--', color='red')\n",
    "l6, = plt.plot(rbin_centers, halo_eta_1h_cs, ':', color='red')\n",
    "l7, = plt.plot(rbin_centers, halo_eta_1h_ss, '-.', color='red')\n",
    "l8, = plt.plot(rbin_centers, halo_eta_2h_cc, '-', color='blue')\n",
    "l9, = plt.plot(rbin_centers, halo_eta_2h_sc, '--', color='blue')\n",
    "l10, = plt.plot(rbin_centers, halo_eta_2h_cs, ':', color='blue')\n",
    "l11, = plt.plot(rbin_centers, halo_eta_2h_ss, '-.', color='blue')\n",
    "l1, = plt.plot(rbin_centers, galaxy_eta, 'o', color='black')\n",
    "l2, = plt.plot(rbin_centers, galaxy_eta_1h, 'o', color='red')\n",
    "l3, = plt.plot(rbin_centers, galaxy_eta_2h, 'o', color='blue')\n",
    "l4, = plt.plot(rbin_centers, galaxy_eta_1h_cc, 'o', color='red')\n",
    "l5, = plt.plot(rbin_centers, galaxy_eta_1h_sc, 'x', color='red')\n",
    "l6, = plt.plot(rbin_centers, galaxy_eta_1h_cs, 'o', color='red')\n",
    "l7, = plt.plot(rbin_centers, galaxy_eta_1h_ss, 'o', color='red')\n",
    "l8, = plt.plot(rbin_centers, galaxy_eta_2h_cc, 'o', color='blue')\n",
    "l9, = plt.plot(rbin_centers, galaxy_eta_2h_sc, 'o', color='blue')\n",
    "l10, = plt.plot(rbin_centers, galaxy_eta_2h_cs, 'o', color='blue')\n",
    "l11, = plt.plot(rbin_centers, galaxy_eta_2h_ss, 'o', color='blue')\n",
    "plt.xscale('log')\n",
    "plt.yscale('log')\n",
    "plt.xlabel(r'$r~[h^{-1}\\rm Mpc]$')\n",
    "plt.ylabel(r'$\\eta(r)$')\n",
    "plt.ylim([0.005,0.5])\n",
    "plt.show()\n",
    "\n",
    "filename = \"total_decomp_ed.pdf\"\n",
    "fig.savefig('/Users/duncan/Projects/intrinsic_alignments/halo_shape_correlations/figures/'+filename, dpi=250)"
   ]
  },
  {
   "cell_type": "code",
   "execution_count": 143,
   "metadata": {},
   "outputs": [],
   "source": [
    "from halotools.mock_observables import tpcf"
   ]
  },
  {
   "cell_type": "code",
   "execution_count": 144,
   "metadata": {},
   "outputs": [],
   "source": [
    "xi_sub = tpcf(halo_coords[halo_mask], rbins, period=halocat.Lbox)\n",
    "xi_gal = tpcf(galaxy_coords[gal_mask], rbins, period=halocat.Lbox)"
   ]
  },
  {
   "cell_type": "code",
   "execution_count": 145,
   "metadata": {},
   "outputs": [
    {
     "data": {
      "image/png": "[encoded data removed]",
      "text/plain": [
       "<Figure size 237.6x237.6 with 1 Axes>"
      ]
     },
     "metadata": {},
     "output_type": "display_data"
    },
    {
     "data": {
      "image/png": "[encoded data removed]",
      "text/plain": [
       "<Figure size 237.6x237.6 with 1 Axes>"
      ]
     },
     "metadata": {},
     "output_type": "display_data"
    }
   ],
   "source": [
    "fig, ax = plt.subplots(figsize=(3.3,3.3))\n",
    "fig.subplots_adjust(left=0.2, right=0.9, bottom=0.2, top=0.9)\n",
    "plt.plot(rbin_centers,xi_sub)\n",
    "plt.plot(rbin_centers,xi_gal, 'o')\n",
    "plt.xlabel(r'$r~[h^{-1}\\rm Mpc]$')\n",
    "plt.xscale('log')\n",
    "plt.yscale('log')\n",
    "\n",
    "fig, ax = plt.subplots(figsize=(3.3,3.3))\n",
    "fig.subplots_adjust(left=0.2, right=0.9, bottom=0.2, top=0.9)\n",
    "plt.plot(rbin_centers,(xi_gal-xi_sub)/xi_sub, 'o')\n",
    "plt.xlabel(r'$r~[h^{-1}\\rm Mpc]$')\n",
    "plt.xscale('log')"
   ]
  },
  {
   "cell_type": "code",
   "execution_count": 16,
   "metadata": {},
   "outputs": [
    {
     "data": {
      "text/plain": [
       "array([-0.23394672, -0.22468342, -0.20682348, -0.18531644, -0.14217271,\n",
       "       -0.11294516, -0.09511314, -0.07998843, -0.06138516, -0.04514086,\n",
       "       -0.03799208, -0.0300673 , -0.0235524 , -0.01628407, -0.01233829,\n",
       "       -0.01165289, -0.00802347, -0.00548551, -0.00380639])"
      ]
     },
     "execution_count": 16,
     "metadata": {},
     "output_type": "execute_result"
    }
   ],
   "source": [
    "galaxy_eta"
   ]
  },
  {
   "cell_type": "code",
   "execution_count": 29,
   "metadata": {},
   "outputs": [
    {
     "data": {
      "text/html": [
       "&lt;Table length=1367493&gt;\n",
       "<table id=\"table112525964176\" class=\"table-striped table-bordered table-condensed\">\n",
       "<thead><tr><th>halo_id</th><th>halo_upid</th><th>halo_hostid</th><th>x</th><th>y</th><th>z</th><th>vx</th><th>vy</th><th>vz</th><th>halo_mpeak</th><th>galaxy_axisA_x</th><th>galaxy_axisA_y</th><th>galaxy_axisA_z</th><th>galaxy_axisB_x</th><th>galaxy_axisB_y</th><th>galaxy_axisB_z</th><th>galaxy_axisC_x</th><th>galaxy_axisC_y</th><th>galaxy_axisC_z</th><th>gal_type</th><th>halo_x</th><th>halo_y</th><th>halo_z</th><th>halo_mvir</th><th>halo_rvir</th><th>halo_axisA_x</th><th>halo_axisA_y</th><th>halo_axisA_z</th></tr></thead>\n",
       "<thead><tr><th>int64</th><th>int64</th><th>int64</th><th>float32</th><th>float32</th><th>float32</th><th>float32</th><th>float32</th><th>float32</th><th>float32</th><th>float64</th><th>float64</th><th>float64</th><th>float64</th><th>float64</th><th>float64</th><th>float64</th><th>float64</th><th>float64</th><th>unicode10</th><th>float64</th><th>float64</th><th>float64</th><th>float64</th><th>float64</th><th>float64</th><th>float64</th><th>float64</th></tr></thead>\n",
       "<tr><td>3060299107</td><td>-1</td><td>3060299107</td><td>35.72499</td><td>43.2765</td><td>17.71299</td><td>48.16</td><td>-34.49</td><td>-82.51</td><td>164300000000000.0</td><td>0.4434837854130266</td><td>0.4314853008826601</td><td>-0.7855842203086394</td><td>0.29723942615345167</td><td>0.7560845201814553</td><td>0.5830822599616159</td><td>0.8455594926530596</td><td>-0.4920941306947066</td><td>0.20705678187425236</td><td>centrals</td><td>35.72499084472656</td><td>43.2765007019043</td><td>17.712989807128906</td><td>164299997708288.0</td><td>1.1335829496383667</td><td>51.394100189208984</td><td>-20.201900482177734</td><td>17.917400360107422</td></tr>\n",
       "<tr><td>3060312953</td><td>-1</td><td>3060312953</td><td>45.20892</td><td>49.70751</td><td>39.91124</td><td>-14.21</td><td>264.96</td><td>-132.11</td><td>158900000000000.0</td><td>-0.06831572926239124</td><td>0.9861133453517871</td><td>0.15137183111284225</td><td>0.7985738817386384</td><td>-0.03689608519696859</td><td>0.6007648743909892</td><td>0.5980072880327051</td><td>0.16192328126691735</td><td>-0.784963779064693</td><td>centrals</td><td>45.208919525146484</td><td>49.70751190185547</td><td>39.91123962402344</td><td>158899999080448.0</td><td>1.1208980083465576</td><td>47.96049880981445</td><td>-3.0215799808502197</td><td>41.329200744628906</td></tr>\n",
       "<tr><td>3058440575</td><td>-1</td><td>3058440575</td><td>21.81201</td><td>13.89226</td><td>9.54759</td><td>-4.75</td><td>104.38</td><td>-61.29</td><td>114400000000000.0</td><td>0.09776241203400704</td><td>-0.6759815049532867</td><td>0.7304050354114371</td><td>0.36855070750721386</td><td>0.7063315882091695</td><td>0.6043724542811693</td><td>-0.9244527498954315</td><td>0.210106383670277</td><td>0.3181861416714645</td><td>centrals</td><td>21.812009811401367</td><td>13.89225959777832</td><td>9.547590255737305</td><td>114400002310144.0</td><td>1.0046019554138184</td><td>40.11330032348633</td><td>18.34429931640625</td><td>11.608400344848633</td></tr>\n",
       "<tr><td>3058441456</td><td>-1</td><td>3058441456</td><td>26.18034</td><td>14.31423</td><td>6.51834</td><td>-271.94</td><td>78.85</td><td>423.44</td><td>97090000000000.0</td><td>0.06564037878836587</td><td>-0.9674343639677179</td><td>0.24446286443322424</td><td>0.31604230206272826</td><td>0.25253481756695706</td><td>0.9145181404561175</td><td>-0.9464716604206441</td><td>0.017231289295953314</td><td>0.32232666456529485</td><td>centrals</td><td>26.180339813232422</td><td>14.314229965209961</td><td>6.518340110778809</td><td>97090000650240.0</td><td>0.9511829614639282</td><td>49.16559982299805</td><td>-6.977029800415039</td><td>-40.812198638916016</td></tr>\n",
       "<tr><td>3058452345</td><td>-1</td><td>3058452345</td><td>1.74397</td><td>29.73324</td><td>17.82519</td><td>317.08</td><td>238.52</td><td>179.34</td><td>85270000000000.0</td><td>-0.19148823929604603</td><td>-0.2998515517069835</td><td>-0.9345701156950261</td><td>0.19845626867307992</td><td>0.9206939776699864</td><td>-0.3360620610937463</td><td>0.96122180771956</td><td>-0.2498232303472452</td><td>-0.11679464860689776</td><td>centrals</td><td>1.7439700365066528</td><td>29.733240127563477</td><td>17.8251895904541</td><td>85269998993408.0</td><td>0.9108850359916687</td><td>37.9640998840332</td><td>-19.65489959716797</td><td>-1.4724700450897217</td></tr>\n",
       "<tr><td>3058463669</td><td>-1</td><td>3058463669</td><td>10.27388</td><td>26.23833</td><td>22.29268</td><td>-57.3</td><td>186.67</td><td>-187.27</td><td>84390000000000.0</td><td>-0.591292934494965</td><td>0.25139514916740247</td><td>0.7662722392149102</td><td>0.7769513742409436</td><td>0.4322434454303735</td><td>0.45772498942879325</td><td>-0.21614631082080102</td><td>0.8660058214917375</td><td>-0.4509043018878602</td><td>centrals</td><td>10.273880004882812</td><td>26.238330841064453</td><td>22.292680740356445</td><td>84260002201600.0</td><td>0.9072589874267578</td><td>44.04970169067383</td><td>15.064499855041504</td><td>29.048599243164062</td></tr>\n",
       "<tr><td>3058683023</td><td>-1</td><td>3058683023</td><td>12.02348</td><td>36.63193</td><td>33.6698</td><td>-306.38</td><td>-77.55</td><td>-386.58</td><td>83570000000000.0</td><td>0.8146086946479101</td><td>-0.39957084104442375</td><td>0.4204233789777629</td><td>0.3054546142933474</td><td>0.9117326147136136</td><td>0.27466546538358255</td><td>-0.4930620176113044</td><td>-0.09532461515542252</td><td>0.8647560722738756</td><td>centrals</td><td>12.023480415344238</td><td>36.63193130493164</td><td>33.6697998046875</td><td>83569997250560.0</td><td>0.9048089981079102</td><td>16.772600173950195</td><td>38.74549865722656</td><td>4.325319766998291</td></tr>\n",
       "<tr><td>3060115960</td><td>-1</td><td>3060115960</td><td>45.82376</td><td>6.50973</td><td>41.8451</td><td>-233.79</td><td>179.51</td><td>64.62</td><td>77950000000000.0</td><td>0.10283087652106004</td><td>-0.9823919744070062</td><td>-0.15598660024058036</td><td>0.9578800622092913</td><td>0.055528353037102636</td><td>0.2817488037790242</td><td>-0.2681260846240714</td><td>-0.1783889307936202</td><td>0.9467237147734677</td><td>centrals</td><td>45.823760986328125</td><td>6.509729862213135</td><td>41.84510040283203</td><td>77949998989312.0</td><td>0.8840529918670654</td><td>25.44219970703125</td><td>-2.93612003326416</td><td>35.26369857788086</td></tr>\n",
       "<tr><td>3058477222</td><td>-1</td><td>3058477222</td><td>14.5065</td><td>24.59419</td><td>38.47238</td><td>-31.82</td><td>239.24</td><td>-397.53</td><td>72840000000000.0</td><td>0.973700785114451</td><td>-0.07424200719054733</td><td>0.21539476650053552</td><td>0.06294751592717576</td><td>0.9962808124529803</td><td>0.05884006268374855</td><td>-0.21896207732413264</td><td>-0.043734049736426715</td><td>0.9747527592100226</td><td>centrals</td><td>14.506500244140625</td><td>24.59419059753418</td><td>38.472381591796875</td><td>72840002928640.0</td><td>0.8642839789390564</td><td>-10.282999992370605</td><td>-11.01930046081543</td><td>42.68659973144531</td></tr>\n",
       "<tr><td>3058476367</td><td>-1</td><td>3058476367</td><td>10.37234</td><td>33.42063</td><td>32.93552</td><td>-16.72</td><td>315.94</td><td>-417.13</td><td>72740000000000.0</td><td>0.8480018028324008</td><td>0.12900193726878792</td><td>-0.5140539296356927</td><td>0.05618573042514319</td><td>0.9425780142801731</td><td>0.3292261391387976</td><td>0.5270067419773595</td><td>-0.30806685504374776</td><td>0.7920597873480659</td><td>centrals</td><td>10.372340202331543</td><td>33.420631408691406</td><td>32.93552017211914</td><td>72489996648448.0</td><td>0.8629170060157776</td><td>-18.46109962463379</td><td>47.324501037597656</td><td>-18.577999114990234</td></tr>\n",
       "<tr><td>...</td><td>...</td><td>...</td><td>...</td><td>...</td><td>...</td><td>...</td><td>...</td><td>...</td><td>...</td><td>...</td><td>...</td><td>...</td><td>...</td><td>...</td><td>...</td><td>...</td><td>...</td><td>...</td><td>...</td><td>...</td><td>...</td><td>...</td><td>...</td><td>...</td><td>...</td><td>...</td><td>...</td></tr>\n",
       "<tr><td>3071567605</td><td>-1</td><td>3071567605</td><td>236.8697</td><td>229.11296</td><td>219.26624</td><td>1159.99</td><td>-670.81</td><td>200.4</td><td>45250000000.0</td><td>0.6655135361540379</td><td>0.49978759695405933</td><td>-0.5543501520939946</td><td>0.530574388797427</td><td>0.20559306986691372</td><td>0.8223273725074066</td><td>0.5249595709652173</td><td>-0.8413939906806949</td><td>-0.1283495278465409</td><td>centrals</td><td>236.8697052001953</td><td>229.1129608154297</td><td>219.2662353515625</td><td>1636000000.0</td><td>0.024382999166846275</td><td>-0.053300000727176666</td><td>6.2646098136901855</td><td>5.584020137786865</td></tr>\n",
       "<tr><td>3071570614</td><td>3071570615</td><td>3071570615</td><td>223.5538</td><td>226.35213</td><td>223.46526</td><td>1369.15</td><td>133.21</td><td>-389.12</td><td>80550000000.0</td><td>-0.5499917984873286</td><td>0.3144746853689596</td><td>-0.7737019412272195</td><td>0.6461935781697328</td><td>0.74712653016057</td><td>-0.1556785388626971</td><td>0.5290962872000438</td><td>-0.5855831454134595</td><td>-0.6141249862029782</td><td>satellites</td><td>223.49913024902344</td><td>226.34030151367188</td><td>223.4993133544922</td><td>3793999888384.0</td><td>0.32276099920272827</td><td>19.614299774169922</td><td>3.926379919052124</td><td>-5.848320007324219</td></tr>\n",
       "<tr><td>3071591661</td><td>3071591676</td><td>3071591676</td><td>244.92746</td><td>230.53673</td><td>245.13266</td><td>510.06</td><td>-151.45</td><td>-425.21</td><td>47980000000.0</td><td>-0.052920307552371565</td><td>0.9960410706330673</td><td>0.07142567228031896</td><td>0.8966300238632386</td><td>0.01590743204865724</td><td>0.4424946936547661</td><td>0.43960668938901554</td><td>0.08745935751965292</td><td>-0.8939221551268763</td><td>satellites</td><td>244.9674835205078</td><td>230.55441284179688</td><td>244.9156951904297</td><td>8182000254976.0</td><td>0.4170140027999878</td><td>10.231100082397461</td><td>1.4830900430679321</td><td>18.244600296020508</td></tr>\n",
       "<tr><td>3071559812</td><td>3071559728</td><td>3071559728</td><td>225.82323</td><td>233.70894</td><td>214.68483</td><td>646.81</td><td>33.98</td><td>83.93</td><td>59560000000.0</td><td>0.4105880015166566</td><td>-0.27435771184296365</td><td>0.8695661785987605</td><td>0.33620876636306707</td><td>0.9320162978907415</td><td>0.13531180985657207</td><td>-0.8475736890861953</td><td>0.23679836658712397</td><td>0.47491617697282906</td><td>satellites</td><td>225.5148468017578</td><td>233.34478759765625</td><td>214.71554565429688</td><td>16729999671296.0</td><td>0.529263973236084</td><td>18.726900100708008</td><td>18.762699127197266</td><td>-2.8903799057006836</td></tr>\n",
       "<tr><td>3071544205</td><td>3071544288</td><td>3071544288</td><td>246.72331</td><td>246.0007</td><td>207.2011</td><td>163.59</td><td>-446.84</td><td>104.15</td><td>49610000000.0</td><td>-0.8735463478941315</td><td>-0.2259872960711871</td><td>0.43109919983138334</td><td>0.30626199403364157</td><td>0.43319402420813263</td><td>0.8476712383942856</td><td>-0.378312528329902</td><td>0.8725094150808904</td><td>-0.30920373785554345</td><td>satellites</td><td>246.8032684326172</td><td>245.9345703125</td><td>207.3284454345703</td><td>40269999243264.0</td><td>0.7093389630317688</td><td>42.890899658203125</td><td>-18.314300537109375</td><td>1.0950499773025513</td></tr>\n",
       "<tr><td>3071558476</td><td>-1</td><td>3071558476</td><td>227.97931</td><td>228.33156</td><td>218.71635</td><td>501.36</td><td>-235.72</td><td>127.44</td><td>47570000000.0</td><td>-0.8205070717320323</td><td>0.42887050795464354</td><td>-0.3779394563213157</td><td>0.1312363831295901</td><td>0.7848203583485599</td><td>0.6056682399339605</td><td>0.5563678252566274</td><td>0.44735566669973464</td><td>-0.7002340683591787</td><td>centrals</td><td>227.97930908203125</td><td>228.33155822753906</td><td>218.7163543701172</td><td>1227000064.0</td><td>0.022153999656438828</td><td>-5.951610088348389</td><td>-4.064740180969238</td><td>8.308449745178223</td></tr>\n",
       "<tr><td>3071559040</td><td>3071559245</td><td>3071559245</td><td>226.2357</td><td>223.46529</td><td>216.67805</td><td>612.28</td><td>-229.63</td><td>195.54</td><td>63790000000.0</td><td>0.47870593836343667</td><td>-0.755917206312359</td><td>0.44657563947947276</td><td>0.18089097848506788</td><td>0.582646947052694</td><td>0.7923389356789744</td><td>-0.8591385676817777</td><td>-0.2985158493130534</td><td>0.41565515662699304</td><td>satellites</td><td>226.3123779296875</td><td>223.71864318847656</td><td>217.02471923828125</td><td>24160000540672.0</td><td>0.5982599854469299</td><td>4.203149795532227</td><td>32.968101501464844</td><td>32.441898345947266</td></tr>\n",
       "<tr><td>3071570821</td><td>3071570713</td><td>3071570713</td><td>229.76892</td><td>245.94423</td><td>221.45229</td><td>-228.94</td><td>-383.12</td><td>108.27</td><td>54790000000.0</td><td>-0.006651869321052953</td><td>-0.30895125975828225</td><td>-0.9510546102765636</td><td>0.6891661107401568</td><td>0.6877224779844119</td><td>-0.2282276606423201</td><td>0.724572856545028</td><td>-0.6569527474398371</td><td>0.20834409804318427</td><td>satellites</td><td>229.60061645507812</td><td>245.86001586914062</td><td>221.48081970214844</td><td>13919999492096.0</td><td>0.4977969825267792</td><td>10.306699752807617</td><td>-17.42460060119629</td><td>19.119400024414062</td></tr>\n",
       "<tr><td>3071577824</td><td>3071578123</td><td>3071578123</td><td>223.34944</td><td>248.9476</td><td>229.08696</td><td>423.5</td><td>820.47</td><td>-682.48</td><td>53020000000.0</td><td>-0.2789048906004161</td><td>0.1617772017080297</td><td>0.9465939990337408</td><td>0.9320275640172582</td><td>0.2830979878826812</td><td>0.226230301173015</td><td>-0.23137995140293754</td><td>0.9453484364319311</td><td>-0.22973822456108067</td><td>satellites</td><td>223.44024658203125</td><td>249.1728973388672</td><td>229.07521057128906</td><td>58909997924352.0</td><td>0.8052510023117065</td><td>-8.095840454101562</td><td>4.082059860229492</td><td>39.207401275634766</td></tr>\n",
       "<tr><td>3071560014</td><td>-1</td><td>3071560014</td><td>231.29553</td><td>232.47672</td><td>217.40337</td><td>569.88</td><td>-42.85</td><td>109.2</td><td>84230000000.0</td><td>0.030934752486358255</td><td>-0.9991949429579247</td><td>-0.025544217661095783</td><td>0.9398187345159791</td><td>0.020377219385216944</td><td>0.341065265283509</td><td>-0.34027016816258143</td><td>-0.03455770387969124</td><td>0.9396924910635246</td><td>centrals</td><td>231.2955322265625</td><td>232.47671508789062</td><td>217.4033660888672</td><td>681500032.0</td><td>0.018211999908089638</td><td>10.818499565124512</td><td>0.21362000703811646</td><td>4.745480060577393</td></tr>\n",
       "</table>"
      ],
      "text/plain": [
       "<Table length=1367493>\n",
       " halo_id   halo_upid  halo_hostid ...     halo_axisA_y        halo_axisA_z   \n",
       "  int64      int64       int64    ...       float64             float64      \n",
       "---------- ---------- ----------- ... ------------------- -------------------\n",
       "3060299107         -1  3060299107 ... -20.201900482177734  17.917400360107422\n",
       "3060312953         -1  3060312953 ... -3.0215799808502197  41.329200744628906\n",
       "3058440575         -1  3058440575 ...   18.34429931640625  11.608400344848633\n",
       "3058441456         -1  3058441456 ...  -6.977029800415039 -40.812198638916016\n",
       "3058452345         -1  3058452345 ...  -19.65489959716797 -1.4724700450897217\n",
       "3058463669         -1  3058463669 ...  15.064499855041504  29.048599243164062\n",
       "3058683023         -1  3058683023 ...   38.74549865722656   4.325319766998291\n",
       "3060115960         -1  3060115960 ...   -2.93612003326416   35.26369857788086\n",
       "3058477222         -1  3058477222 ...  -11.01930046081543   42.68659973144531\n",
       "3058476367         -1  3058476367 ...  47.324501037597656 -18.577999114990234\n",
       "       ...        ...         ... ...                 ...                 ...\n",
       "3071567605         -1  3071567605 ...  6.2646098136901855   5.584020137786865\n",
       "3071570614 3071570615  3071570615 ...   3.926379919052124  -5.848320007324219\n",
       "3071591661 3071591676  3071591676 ...  1.4830900430679321  18.244600296020508\n",
       "3071559812 3071559728  3071559728 ...  18.762699127197266 -2.8903799057006836\n",
       "3071544205 3071544288  3071544288 ... -18.314300537109375  1.0950499773025513\n",
       "3071558476         -1  3071558476 ...  -4.064740180969238   8.308449745178223\n",
       "3071559040 3071559245  3071559245 ...  32.968101501464844  32.441898345947266\n",
       "3071570821 3071570713  3071570713 ...  -17.42460060119629  19.119400024414062\n",
       "3071577824 3071578123  3071578123 ...   4.082059860229492  39.207401275634766\n",
       "3071560014         -1  3071560014 ... 0.21362000703811646   4.745480060577393"
      ]
     },
     "execution_count": 29,
     "metadata": {},
     "output_type": "execute_result"
    }
   ],
   "source": [
    "table"
   ]
  },
  {
   "cell_type": "code",
   "execution_count": 31,
   "metadata": {},
   "outputs": [
    {
     "data": {
      "text/plain": [
       "array([[ 0.44348379,  0.4314853 , -0.78558422],\n",
       "       [-0.06831573,  0.98611335,  0.15137183],\n",
       "       [ 0.09776241, -0.6759815 ,  0.73040504],\n",
       "       ...,\n",
       "       [-0.00665187, -0.30895126, -0.95105461],\n",
       "       [-0.27890489,  0.1617772 ,  0.946594  ],\n",
       "       [ 0.03093475, -0.99919494, -0.02554422]])"
      ]
     },
     "execution_count": 31,
     "metadata": {},
     "output_type": "execute_result"
    }
   ],
   "source": [
    "galaxy_orientations"
   ]
  },
  {
   "cell_type": "code",
   "execution_count": 21,
   "metadata": {},
   "outputs": [
    {
     "data": {
      "text/plain": [
       "array([[ 0.3717108 ,  0.92813882, -0.01973357],\n",
       "       [-0.53819161,  0.52084495,  0.66262382],\n",
       "       [-0.3160598 ,  0.8933171 , -0.31951644],\n",
       "       ...,\n",
       "       [-0.4664468 ,  0.8534754 , -0.23239435],\n",
       "       [ 0.18268852, -0.02237276,  0.98291626],\n",
       "       [ 0.27207897, -0.76333676, -0.58590957]])"
      ]
     },
     "execution_count": 21,
     "metadata": {},
     "output_type": "execute_result"
    }
   ],
   "source": [
    "galaxy_orientations"
   ]
  },
  {
   "cell_type": "code",
   "execution_count": null,
   "metadata": {},
   "outputs": [],
   "source": []
  }
 ],
 "metadata": {
  "kernelspec": {
   "display_name": "Python 2",
   "language": "python",
   "name": "python2"
  },
  "language_info": {
   "codemirror_mode": {
    "name": "ipython",
    "version": 2
   },
   "file_extension": ".py",
   "mimetype": "text/x-python",
   "name": "python",
   "nbconvert_exporter": "python",
   "pygments_lexer": "ipython2",
   "version": "2.7.14"
  }
 },
 "nbformat": 4,
 "nbformat_minor": 2
}
