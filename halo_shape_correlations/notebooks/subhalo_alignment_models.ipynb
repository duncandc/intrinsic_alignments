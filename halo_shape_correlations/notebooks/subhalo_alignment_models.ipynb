{
 "cells": [
  {
   "cell_type": "code",
   "execution_count": 1,
   "metadata": {},
   "outputs": [],
   "source": [
    "from __future__ import print_function, division\n",
    "import numpy as np\n",
    "import matplotlib.pyplot as plt\n",
    "%matplotlib inline"
   ]
  },
  {
   "cell_type": "markdown",
   "metadata": {},
   "source": [
    "# Modelling Sub-halo Alignment 2-point Correlations"
   ]
  },
  {
   "cell_type": "code",
   "execution_count": 2,
   "metadata": {},
   "outputs": [
    {
     "name": "stdout",
     "output_type": "stream",
     "text": [
      "halo_vmax_firstacc\n",
      "halo_dmvir_dt_tdyn\n",
      "halo_macc\n",
      "halo_scale_factor\n",
      "halo_vmax_mpeak\n",
      "halo_m_pe_behroozi\n",
      "halo_xoff\n",
      "halo_spin\n",
      "halo_scale_factor_firstacc\n",
      "halo_c_to_a\n",
      "halo_mvir_firstacc\n",
      "halo_scale_factor_last_mm\n",
      "halo_scale_factor_mpeak\n",
      "halo_pid\n",
      "halo_m500c\n",
      "halo_id\n",
      "halo_halfmass_scale_factor\n",
      "halo_upid\n",
      "halo_t_by_u\n",
      "halo_rvir\n",
      "halo_vpeak\n",
      "halo_dmvir_dt_100myr\n",
      "halo_mpeak\n",
      "halo_m_pe_diemer\n",
      "halo_jx\n",
      "halo_jy\n",
      "halo_jz\n",
      "halo_m2500c\n",
      "halo_mvir\n",
      "halo_voff\n",
      "halo_axisA_z\n",
      "halo_axisA_x\n",
      "halo_axisA_y\n",
      "halo_y\n",
      "halo_b_to_a\n",
      "halo_x\n",
      "halo_z\n",
      "halo_m200b\n",
      "halo_vacc\n",
      "halo_scale_factor_lastacc\n",
      "halo_vmax\n",
      "halo_m200c\n",
      "halo_vx\n",
      "halo_vy\n",
      "halo_vz\n",
      "halo_dmvir_dt_inst\n",
      "halo_rs\n",
      "halo_nfw_conc\n",
      "halo_hostid\n",
      "halo_mvir_host_halo\n"
     ]
    }
   ],
   "source": [
    "from halotools.sim_manager import CachedHaloCatalog\n",
    "halocat = CachedHaloCatalog(simname='bolshoi', halo_finder='rockstar', redshift=0.0, dz_tol=0.001, version_name='halotools_v0p4')\n",
    "for name in halocat.halo_table.dtype.names:\n",
    "    print(name)"
   ]
  },
  {
   "cell_type": "markdown",
   "metadata": {},
   "source": [
    "## Alignment Models"
   ]
  },
  {
   "cell_type": "code",
   "execution_count": 3,
   "metadata": {},
   "outputs": [],
   "source": [
    "from intrinsic_alignments.ia_models.ia_model_components import CentralAlignment\n",
    "from intrinsic_alignments.ia_models.ia_model_components import RadialSatelliteAlignment\n",
    "from intrinsic_alignments.ia_models.ia_model_components import MajorAxisSatelliteAlignment\n",
    "from intrinsic_alignments.ia_models.ia_model_components import HybridSatelliteAlignment\n",
    "from intrinsic_alignments.ia_models.ia_model_components import RadialSatelliteAlignmentStrength"
   ]
  },
  {
   "cell_type": "code",
   "execution_count": 4,
   "metadata": {},
   "outputs": [],
   "source": [
    "# create a model table\n",
    "#from intrinsic_alignments.ia_models.utils import halocat_to_galaxy_table\n",
    "from intrinsic_alignments.utils.value_added_halocat import halocat_to_galaxy_table\n",
    "table = halocat_to_galaxy_table(halocat)"
   ]
  },
  {
   "cell_type": "code",
   "execution_count": 5,
   "metadata": {},
   "outputs": [
    {
     "name": "stderr",
     "output_type": "stream",
     "text": [
<<<<<<< HEAD
      "/home/nvanalfen/github_repos/intrinsic_alignments/intrinsic_alignments/ia_models/ia_model_components.py:189: UserWarning: `central_alignment_strength` not detected in the table, using value in self.param_dict.\n",
      "  warn(msg)\n",
      "/home/nvanalfen/miniconda3/lib/python3.8/site-packages/scipy/stats/_distn_infrastructure.py:1051: VisibleDeprecationWarning: The signature of <bound method DimrothWatson._rvs of <watson_dist.watson_dist.watson_distribution.DimrothWatson object at 0x2b53310f2970>> does not contain a \"size\" keyword.  Such signatures are deprecated.\n",
      "  warnings.warn(\n"
=======
      "c:\\users\\nvana\\appdata\\local\\programs\\python\\python38-32\\lib\\site-packages\\intrinsic_alignments\\ia_models\\ia_model_components.py:189: UserWarning: `central_alignment_strength` not detected in the table, using value in self.param_dict.\n",
      "  warn(msg)\n"
>>>>>>> 93f93b9c992f6cbc5a5b3442873cc731fb57ae01
     ]
    }
   ],
   "source": [
    "# apply central alignments to model\n",
    "cen_alignment_model = CentralAlignment(central_alignment_strength=0.99)\n",
    "table = cen_alignment_model.assign_central_orientation(table=table)"
   ]
  },
  {
   "cell_type": "code",
   "execution_count": 6,
   "metadata": {},
   "outputs": [
    {
     "name": "stderr",
     "output_type": "stream",
     "text": [
<<<<<<< HEAD
      "/home/nvanalfen/github_repos/intrinsic_alignments/intrinsic_alignments/ia_models/ia_model_components.py:583: UserWarning: 1033105 galaxies have a radial distance equal to zero (or infinity) from their host. These galaxies will be re-assigned random alignment vectors.\n",
      "  warn(msg)\n",
      "/home/nvanalfen/github_repos/intrinsic_alignments/intrinsic_alignments/ia_models/ia_model_components.py:592: UserWarning: `satellite_alignment_strength` key not detected in `table`.The value set in self.param_dict of this class will be used instead.\n",
      "  warn(msg)\n",
      "/home/nvanalfen/miniconda3/lib/python3.8/site-packages/scipy/stats/_distn_infrastructure.py:1051: VisibleDeprecationWarning: The signature of <bound method DimrothWatson._rvs of <watson_dist.watson_dist.watson_distribution.DimrothWatson object at 0x2b534f5a35b0>> does not contain a \"size\" keyword.  Such signatures are deprecated.\n",
      "  warnings.warn(\n"
=======
      "c:\\users\\nvana\\appdata\\local\\programs\\python\\python38-32\\lib\\site-packages\\intrinsic_alignments\\ia_models\\ia_model_components.py:583: UserWarning: 1033105 galaxies have a radial distance equal to zero (or infinity) from their host. These galaxies will be re-assigned random alignment vectors.\n",
      "  warn(msg)\n",
      "c:\\users\\nvana\\appdata\\local\\programs\\python\\python38-32\\lib\\site-packages\\intrinsic_alignments\\ia_models\\ia_model_components.py:592: UserWarning: `satellite_alignment_strength` key not detected in `table`.The value set in self.param_dict of this class will be used instead.\n",
      "  warn(msg)\n"
>>>>>>> 93f93b9c992f6cbc5a5b3442873cc731fb57ae01
     ]
    },
    {
     "ename": "MemoryError",
     "evalue": "Unable to allocate 93.9 MiB for an array with shape (1367493, 3, 3) and data type float64",
     "output_type": "error",
     "traceback": [
      "\u001b[1;31m----------------------------------------------------------------------\u001b[0m",
      "\u001b[1;31mMemoryError\u001b[0m                          Traceback (most recent call last)",
      "\u001b[1;32m<ipython-input-6-165f71f8aa91>\u001b[0m in \u001b[0;36m<module>\u001b[1;34m\u001b[0m\n\u001b[0;32m      3\u001b[0m \u001b[0msat_alignment_model\u001b[0m \u001b[1;33m=\u001b[0m \u001b[0mRadialSatelliteAlignment\u001b[0m\u001b[1;33m(\u001b[0m\u001b[0mLbox\u001b[0m\u001b[1;33m=\u001b[0m\u001b[0mhalocat\u001b[0m\u001b[1;33m.\u001b[0m\u001b[0mLbox\u001b[0m\u001b[1;33m,\u001b[0m \u001b[0msatellite_alignment_strength\u001b[0m\u001b[1;33m=\u001b[0m\u001b[1;36m0.85\u001b[0m\u001b[1;33m)\u001b[0m\u001b[1;33m\u001b[0m\u001b[1;33m\u001b[0m\u001b[0m\n\u001b[0;32m      4\u001b[0m \u001b[1;31m#table = sat_alignment_strength.assign_satellite_alignment_strength(table=table, Lbox=halocat.Lbox)\u001b[0m\u001b[1;33m\u001b[0m\u001b[1;33m\u001b[0m\u001b[1;33m\u001b[0m\u001b[0m\n\u001b[1;32m----> 5\u001b[1;33m \u001b[0mtable\u001b[0m \u001b[1;33m=\u001b[0m \u001b[0msat_alignment_model\u001b[0m\u001b[1;33m.\u001b[0m\u001b[0massign_satellite_orientation\u001b[0m\u001b[1;33m(\u001b[0m\u001b[0mtable\u001b[0m\u001b[1;33m=\u001b[0m\u001b[0mtable\u001b[0m\u001b[1;33m)\u001b[0m\u001b[1;33m\u001b[0m\u001b[1;33m\u001b[0m\u001b[0m\n\u001b[0m\u001b[0;32m      6\u001b[0m \u001b[1;33m\u001b[0m\u001b[0m\n\u001b[0;32m      7\u001b[0m \"\"\"\n",
      "\u001b[1;32mc:\\users\\nvana\\appdata\\local\\programs\\python\\python38-32\\lib\\site-packages\\intrinsic_alignments\\ia_models\\ia_model_components.py\u001b[0m in \u001b[0;36massign_satellite_orientation\u001b[1;34m(self, **kwargs)\u001b[0m\n\u001b[0;32m    597\u001b[0m \u001b[1;33m\u001b[0m\u001b[0m\n\u001b[0;32m    598\u001b[0m         \u001b[1;31m# set prim_gal_axis orientation\u001b[0m\u001b[1;33m\u001b[0m\u001b[1;33m\u001b[0m\u001b[1;33m\u001b[0m\u001b[0m\n\u001b[1;32m--> 599\u001b[1;33m         \u001b[0mA_v\u001b[0m \u001b[1;33m=\u001b[0m \u001b[0maxes_correlated_with_input_vector\u001b[0m\u001b[1;33m(\u001b[0m\u001b[0mmajor_input_vectors\u001b[0m\u001b[1;33m,\u001b[0m \u001b[0mp\u001b[0m\u001b[1;33m=\u001b[0m\u001b[0mp\u001b[0m\u001b[1;33m)\u001b[0m\u001b[1;33m\u001b[0m\u001b[1;33m\u001b[0m\u001b[0m\n\u001b[0m\u001b[0;32m    600\u001b[0m \u001b[1;33m\u001b[0m\u001b[0m\n\u001b[0;32m    601\u001b[0m         \u001b[1;31m# check for nan vectors\u001b[0m\u001b[1;33m\u001b[0m\u001b[1;33m\u001b[0m\u001b[1;33m\u001b[0m\u001b[0m\n",
      "\u001b[1;32mc:\\users\\nvana\\appdata\\local\\programs\\python\\python38-32\\lib\\site-packages\\intrinsic_alignments\\ia_models\\ia_model_components.py\u001b[0m in \u001b[0;36maxes_correlated_with_input_vector\u001b[1;34m(input_vectors, p, seed)\u001b[0m\n\u001b[0;32m   1335\u001b[0m     \u001b[0mangles\u001b[0m \u001b[1;33m=\u001b[0m \u001b[0mangles_between_list_of_vectors\u001b[0m\u001b[1;33m(\u001b[0m\u001b[0mz_axes\u001b[0m\u001b[1;33m,\u001b[0m \u001b[0minput_unit_vectors\u001b[0m\u001b[1;33m)\u001b[0m\u001b[1;33m\u001b[0m\u001b[1;33m\u001b[0m\u001b[0m\n\u001b[0;32m   1336\u001b[0m     \u001b[0mrotation_axes\u001b[0m \u001b[1;33m=\u001b[0m \u001b[0mvectors_normal_to_planes\u001b[0m\u001b[1;33m(\u001b[0m\u001b[0mz_axes\u001b[0m\u001b[1;33m,\u001b[0m \u001b[0minput_unit_vectors\u001b[0m\u001b[1;33m)\u001b[0m\u001b[1;33m\u001b[0m\u001b[1;33m\u001b[0m\u001b[0m\n\u001b[1;32m-> 1337\u001b[1;33m     \u001b[0mmatrices\u001b[0m \u001b[1;33m=\u001b[0m \u001b[0mrotation_matrices_from_angles\u001b[0m\u001b[1;33m(\u001b[0m\u001b[0mangles\u001b[0m\u001b[1;33m,\u001b[0m \u001b[0mrotation_axes\u001b[0m\u001b[1;33m)\u001b[0m\u001b[1;33m\u001b[0m\u001b[1;33m\u001b[0m\u001b[0m\n\u001b[0m\u001b[0;32m   1338\u001b[0m \u001b[1;33m\u001b[0m\u001b[0m\n\u001b[0;32m   1339\u001b[0m     \u001b[1;32mreturn\u001b[0m \u001b[0mrotate_vector_collection\u001b[0m\u001b[1;33m(\u001b[0m\u001b[0mmatrices\u001b[0m\u001b[1;33m,\u001b[0m \u001b[0mz_correlated_axes\u001b[0m\u001b[1;33m)\u001b[0m\u001b[1;33m\u001b[0m\u001b[1;33m\u001b[0m\u001b[0m\n",
      "\u001b[1;32mc:\\users\\nvana\\appdata\\local\\programs\\python\\python38-32\\lib\\site-packages\\rotations\\rotations3d.py\u001b[0m in \u001b[0;36mrotation_matrices_from_angles\u001b[1;34m(angles, directions)\u001b[0m\n\u001b[0;32m     66\u001b[0m     \u001b[0mR3\u001b[0m\u001b[1;33m[\u001b[0m\u001b[1;33m:\u001b[0m\u001b[1;33m,\u001b[0m \u001b[1;33m[\u001b[0m\u001b[1;36m2\u001b[0m\u001b[1;33m,\u001b[0m \u001b[1;36m0\u001b[0m\u001b[1;33m,\u001b[0m \u001b[1;36m1\u001b[0m\u001b[1;33m]\u001b[0m\u001b[1;33m,\u001b[0m \u001b[1;33m[\u001b[0m\u001b[1;36m1\u001b[0m\u001b[1;33m,\u001b[0m \u001b[1;36m2\u001b[0m\u001b[1;33m,\u001b[0m \u001b[1;36m0\u001b[0m\u001b[1;33m]\u001b[0m\u001b[1;33m]\u001b[0m \u001b[1;33m+=\u001b[0m \u001b[0mdirections\u001b[0m\u001b[1;33m\u001b[0m\u001b[1;33m\u001b[0m\u001b[0m\n\u001b[0;32m     67\u001b[0m \u001b[1;33m\u001b[0m\u001b[0m\n\u001b[1;32m---> 68\u001b[1;33m     \u001b[1;32mreturn\u001b[0m \u001b[0mR1\u001b[0m \u001b[1;33m+\u001b[0m \u001b[0mR2\u001b[0m \u001b[1;33m+\u001b[0m \u001b[0mR3\u001b[0m\u001b[1;33m\u001b[0m\u001b[1;33m\u001b[0m\u001b[0m\n\u001b[0m\u001b[0;32m     69\u001b[0m \u001b[1;33m\u001b[0m\u001b[0m\n\u001b[0;32m     70\u001b[0m \u001b[1;33m\u001b[0m\u001b[0m\n",
      "\u001b[1;31mMemoryError\u001b[0m: Unable to allocate 93.9 MiB for an array with shape (1367493, 3, 3) and data type float64"
     ]
    }
   ],
   "source": [
    "# apply satellite alignments to model\n",
    "sat_alignment_strength = RadialSatelliteAlignmentStrength(satellite_alignment_a=2.0, satellite_alignment_gamma=0.15)\n",
    "sat_alignment_model = RadialSatelliteAlignment(Lbox=halocat.Lbox, satellite_alignment_strength=0.85)\n",
    "#table = sat_alignment_strength.assign_satellite_alignment_strength(table=table, Lbox=halocat.Lbox)\n",
    "table = sat_alignment_model.assign_satellite_orientation(table=table)\n",
    "\n",
    "\"\"\"\n",
    "r_sample = np.logspace(-2,0,100)\n",
    "fig, ax = plt.subplots(figsize=(3.3,3.3))\n",
    "fig.subplots_adjust(left=0.2, right=0.9, bottom=0.2, top=0.9)\n",
    "plt.plot(r_sample, sat_alignment_strength.alignment_strength_radial_dependence(r_sample), '-', color='black')\n",
    "plt.ylim([0,1])\n",
    "plt.xlim([0.09,1.01])\n",
    "plt.xscale('log')\n",
    "plt.ylabel('alignment strength')\n",
    "plt.xlabel(r'$r/r_{\\rm vir}$')\n",
    "plt.show()\n",
    "\n",
    "filename = \"radial_subhalo_alignment_strength.pdf\"\n",
    "fig.savefig('/Users/duncan/Projects/intrinsic_alignments/halo_shape_correlations/figures/'+filename, dpi=250)\n",
    "\"\"\""
   ]
  },
  {
   "cell_type": "markdown",
   "metadata": {},
   "source": [
    "## Alignment Correlation Functions"
   ]
  },
  {
   "cell_type": "code",
   "execution_count": null,
   "metadata": {},
   "outputs": [],
   "source": [
    "from halotools_ia.correlation_functions import ed_3d, ee_3d\n",
    "from halotools_ia.correlation_functions import ee_3d_one_two_halo_decomp, ed_3d_one_two_halo_decomp\n",
    "\n",
    "rbins = np.logspace(-1,1.4,20)\n",
    "rbin_centers = (rbins[:-1]+rbins[1:])/2.0"
   ]
  },
  {
   "cell_type": "code",
   "execution_count": null,
   "metadata": {},
   "outputs": [],
   "source": [
    "# galaxy coordinates and orientations\n",
    "galaxy_coords = np.vstack((table['x'],\n",
    "                           table['y'],\n",
    "                           table['z'])).T\n",
    "\n",
    "galaxy_orientations = np.vstack((table['galaxy_axisA_x'],\n",
    "                                 table['galaxy_axisA_y'],\n",
    "                                 table['galaxy_axisA_z'])).T\n",
    "\n",
    "cens = table['gal_type']=='centrals'\n",
    "sats = table['gal_type']=='satellites'\n",
    "gal_mask = table['halo_mpeak']>10**12.0\n",
    "\n",
    "# halo orientations\n",
    "halo_coords = np.vstack((halocat.halo_table['halo_x'],\n",
    "                         halocat.halo_table['halo_y'],\n",
    "                         halocat.halo_table['halo_z'])).T\n",
    "\n",
    "halo_orientations = np.vstack((halocat.halo_table['halo_axisA_x'],\n",
    "                               halocat.halo_table['halo_axisA_y'],\n",
    "                               halocat.halo_table['halo_axisA_z'])).T\n",
    "\n",
    "hosts = halocat.halo_table['halo_upid']==-1\n",
    "subs = halocat.halo_table['halo_upid']!=-1\n",
    "halo_mask = halocat.halo_table['halo_mpeak']>10**12.0"
   ]
  },
  {
   "cell_type": "code",
<<<<<<< HEAD
   "execution_count": 9,
=======
   "execution_count": null,
>>>>>>> 93f93b9c992f6cbc5a5b3442873cc731fb57ae01
   "metadata": {},
   "outputs": [],
   "source": [
    "galaxy_omega = ed_3d(galaxy_coords[gal_mask], galaxy_orientations[gal_mask],\n",
    "                   galaxy_coords[gal_mask],\n",
    "                   rbins, period=halocat.Lbox, num_threads=1)\n",
    "galaxy_eta = ee_3d(galaxy_coords[gal_mask], galaxy_orientations[gal_mask],\n",
    "                     galaxy_coords[gal_mask], galaxy_orientations[gal_mask],\n",
    "                     rbins, period=halocat.Lbox, num_threads=1)"
   ]
  },
  {
   "cell_type": "code",
<<<<<<< HEAD
   "execution_count": 10,
=======
   "execution_count": null,
>>>>>>> 93f93b9c992f6cbc5a5b3442873cc731fb57ae01
   "metadata": {},
   "outputs": [],
   "source": [
    "halo_omega = ed_3d(halo_coords[halo_mask], halo_orientations[halo_mask], halo_coords[halo_mask],\n",
    "                 rbins, period=halocat.Lbox, num_threads=4)\n",
    "halo_eta = ee_3d(halo_coords[halo_mask], halo_orientations[halo_mask],\n",
    "                   halo_coords[halo_mask], halo_orientations[halo_mask],\n",
    "                   rbins, period=halocat.Lbox, num_threads=4)"
   ]
  },
  {
   "cell_type": "markdown",
   "metadata": {},
   "source": [
    "## 1- and 2-halo decomposition"
   ]
  },
  {
   "cell_type": "code",
<<<<<<< HEAD
   "execution_count": 11,
=======
   "execution_count": null,
>>>>>>> 93f93b9c992f6cbc5a5b3442873cc731fb57ae01
   "metadata": {},
   "outputs": [],
   "source": [
    "host_ids = table['halo_hostid']\n",
    "\n",
    "galaxy_omega_1h, galaxy_omega_2h  = ed_3d_one_two_halo_decomp(galaxy_coords[gal_mask], galaxy_orientations[gal_mask],\n",
    "                                                          host_ids[gal_mask],\n",
    "                                                          galaxy_coords[gal_mask], host_ids[gal_mask],\n",
    "                                                          rbins, period=halocat.Lbox, num_threads=4)\n",
    "galaxy_eta_1h, galaxy_eta_2h = ee_3d_one_two_halo_decomp(galaxy_coords[gal_mask], galaxy_orientations[gal_mask],\n",
    "                                                             host_ids[gal_mask],\n",
    "                                                             galaxy_coords[gal_mask], galaxy_orientations[gal_mask],\n",
    "                                                             host_ids[gal_mask],\n",
    "                                                             rbins, period=halocat.Lbox, num_threads=4)"
   ]
  },
  {
   "cell_type": "code",
<<<<<<< HEAD
   "execution_count": 12,
=======
   "execution_count": null,
>>>>>>> 93f93b9c992f6cbc5a5b3442873cc731fb57ae01
   "metadata": {},
   "outputs": [],
   "source": [
    "galaxy_omega_1h, galaxy_omega_2h  = ed_3d_one_two_halo_decomp(galaxy_coords[gal_mask], galaxy_orientations[gal_mask],\n",
    "                                                          host_ids[gal_mask],\n",
    "                                                          galaxy_coords[gal_mask], host_ids[gal_mask],\n",
    "                                                          rbins, period=halocat.Lbox, num_threads=4)\n",
    "galaxy_eta_1h, galaxy_eta_2h = ee_3d_one_two_halo_decomp(galaxy_coords[gal_mask], galaxy_orientations[gal_mask],\n",
    "                                                             host_ids[gal_mask],\n",
    "                                                             galaxy_coords[gal_mask], galaxy_orientations[gal_mask],\n",
    "                                                             host_ids[gal_mask],\n",
    "                                                             rbins, period=halocat.Lbox, num_threads=4)"
   ]
  },
  {
   "cell_type": "code",
<<<<<<< HEAD
   "execution_count": 13,
=======
   "execution_count": null,
>>>>>>> 93f93b9c992f6cbc5a5b3442873cc731fb57ae01
   "metadata": {},
   "outputs": [],
   "source": [
    "host_ids = halocat.halo_table['halo_hostid']\n",
    "halo_omega_1h, halo_omega_2h = ed_3d_one_two_halo_decomp(halo_coords[halo_mask], halo_orientations[halo_mask],\n",
    "                                                     host_ids[halo_mask],\n",
    "                                                     halo_coords[halo_mask], host_ids[halo_mask],\n",
    "                                                     rbins, period=halocat.Lbox, num_threads=4)\n",
    "halo_eta_1h, halo_eta_2h= ee_3d_one_two_halo_decomp(halo_coords[halo_mask], halo_orientations[halo_mask],\n",
    "                                                        host_ids[halo_mask],\n",
    "                                                        halo_coords[halo_mask], halo_orientations[halo_mask],\n",
    "                                                        host_ids[halo_mask],\n",
    "                                                        rbins, period=halocat.Lbox, num_threads=4)"
   ]
  },
  {
   "cell_type": "code",
<<<<<<< HEAD
   "execution_count": 15,
   "metadata": {},
   "outputs": [
    {
     "data": {
      "image/png": "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\n",
      "text/plain": [
       "<Figure size 237.6x237.6 with 1 Axes>"
      ]
     },
     "metadata": {
      "needs_background": "light"
     },
     "output_type": "display_data"
    },
    {
     "data": {
      "image/png": "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\n",
      "text/plain": [
       "<Figure size 237.6x237.6 with 1 Axes>"
      ]
     },
     "metadata": {
      "needs_background": "light"
     },
     "output_type": "display_data"
    }
   ],
=======
   "execution_count": null,
   "metadata": {},
   "outputs": [],
>>>>>>> 93f93b9c992f6cbc5a5b3442873cc731fb57ae01
   "source": [
    "fig, ax = plt.subplots(figsize=(3.3,3.3))\n",
    "fig.subplots_adjust(left=0.2, right=0.9, bottom=0.2, top=0.9)\n",
    "p1, = plt.plot(rbin_centers, galaxy_omega, 'o', color='black', mec='none')\n",
    "p1, = plt.plot(rbin_centers, galaxy_omega_1h, 'o', color='red', mec='none')\n",
    "p1, = plt.plot(rbin_centers, galaxy_omega_2h, 'o', color='blue', mec='none')\n",
    "l1, = plt.plot(rbin_centers, halo_omega, '-', color='black')\n",
    "l2, = plt.plot(rbin_centers, halo_omega_1h, '--', color='black')\n",
    "l3, = plt.plot(rbin_centers, halo_omega_2h, ':', color='black')\n",
    "plt.xscale('log')\n",
    "plt.yscale('log')\n",
    "plt.xlabel(r'$r~[h^{-1}\\rm Mpc]$')\n",
    "plt.ylabel(r'$\\omega(r)$')\n",
    "plt.ylim([0.005,0.5])\n",
    "plt.legend([l1,l2,l3],['all', '1-halo', '2-halo'], frameon=False, loc='upper right', fontsize=10, title='Bolshoi')\n",
    "plt.show()\n",
    "\n",
    "filename = \"subhalo_ed_tpcf.pdf\"\n",
    "#fig.savefig('/Users/duncan/Projects/intrinsic_alignments/halo_shape_correlations/figures/'+filename, dpi=250)\n",
    "\n",
    "fig, ax  = plt.subplots(figsize=(3.3,3.3))\n",
    "fig.subplots_adjust(left=0.2, right=0.9, bottom=0.2, top=0.9)\n",
    "p1, = plt.plot(rbin_centers, galaxy_eta, 'o', color='black', mec='none')\n",
    "p2, = plt.plot(rbin_centers, galaxy_eta_1h, 'o', color='red', mec='none')\n",
    "p3, = plt.plot(rbin_centers, galaxy_eta_2h, 'o', color='blue', mec='none')\n",
    "l1, = plt.plot(rbin_centers, halo_eta, '-', color='black')\n",
    "l2, = plt.plot(rbin_centers, halo_eta_1h, '--', color='black')\n",
    "l3, = plt.plot(rbin_centers, halo_eta_2h, ':', color='black')\n",
    "plt.xscale('log')\n",
    "plt.yscale('log')\n",
    "plt.xlabel(r'$r~[h^{-1}\\rm Mpc]$')\n",
    "plt.ylabel(r'$\\eta(r)$')\n",
    "plt.ylim([0.0001,0.5])\n",
    "plt.legend([p1,p2,p3],['all', '1-halo', '2-halo'], frameon=False, loc='upper right', fontsize=10, title='model')\n",
    "plt.show()\n",
    "\n",
    "filename = \"subhalo_ee_tpcf.pdf\"\n",
    "#fig.savefig('/Users/duncan/Projects/intrinsic_alignments/halo_shape_correlations/figures/'+filename, dpi=250)"
   ]
  },
  {
   "cell_type": "markdown",
   "metadata": {},
   "source": [
    "## further decomposition"
   ]
  },
  {
   "cell_type": "code",
<<<<<<< HEAD
   "execution_count": 16,
=======
   "execution_count": null,
>>>>>>> 93f93b9c992f6cbc5a5b3442873cc731fb57ae01
   "metadata": {},
   "outputs": [],
   "source": [
    "# (sub-)haloes\n",
    "\n",
    "centrals = (halocat.halo_table['halo_upid'][halo_mask]==-1)\n",
    "satellites = (halocat.halo_table['halo_upid'][halo_mask]!=-1)\n",
    "\n",
    "host_ids = halocat.halo_table['halo_hostid']"
   ]
  },
  {
   "cell_type": "code",
<<<<<<< HEAD
   "execution_count": 17,
=======
   "execution_count": null,
>>>>>>> 93f93b9c992f6cbc5a5b3442873cc731fb57ae01
   "metadata": {},
   "outputs": [],
   "source": [
    "# EE\n",
    "halo_omega_1h_ss, halo_omega_2h_ss = ee_3d_one_two_halo_decomp(halo_coords[halo_mask], halo_orientations[halo_mask],\n",
    "                                                        host_ids[halo_mask],\n",
    "                                                        halo_coords[halo_mask], halo_orientations[halo_mask],\n",
    "                                                        host_ids[halo_mask],rbins, \n",
    "                                                        mask1 = satellites,  \n",
    "                                                        mask2 = satellites,\n",
    "                                                        period=halocat.Lbox, num_threads=4)"
   ]
  },
  {
   "cell_type": "code",
<<<<<<< HEAD
   "execution_count": 18,
=======
   "execution_count": null,
>>>>>>> 93f93b9c992f6cbc5a5b3442873cc731fb57ae01
   "metadata": {},
   "outputs": [],
   "source": [
    "halo_omega_1h_cs, halo_omega_2h_cs = ee_3d_one_two_halo_decomp(halo_coords[halo_mask], halo_orientations[halo_mask],\n",
    "                                                        host_ids[halo_mask],\n",
    "                                                        halo_coords[halo_mask], halo_orientations[halo_mask],\n",
    "                                                        host_ids[halo_mask],rbins, \n",
    "                                                        mask1 = centrals,  \n",
    "                                                        mask2 = satellites,\n",
    "                                                        period=halocat.Lbox, num_threads=4)"
   ]
  },
  {
   "cell_type": "code",
<<<<<<< HEAD
   "execution_count": 19,
=======
   "execution_count": null,
>>>>>>> 93f93b9c992f6cbc5a5b3442873cc731fb57ae01
   "metadata": {},
   "outputs": [],
   "source": [
    "halo_omega_1h_sc, halo_omega_2h_sc = ee_3d_one_two_halo_decomp(halo_coords[halo_mask], halo_orientations[halo_mask],\n",
    "                                                        host_ids[halo_mask],\n",
    "                                                        halo_coords[halo_mask], halo_orientations[halo_mask],\n",
    "                                                        host_ids[halo_mask],rbins, \n",
    "                                                        mask1 = satellites,  \n",
    "                                                        mask2 = centrals,\n",
    "                                                        period=halocat.Lbox, num_threads=4)"
   ]
  },
  {
   "cell_type": "code",
<<<<<<< HEAD
   "execution_count": 20,
=======
   "execution_count": null,
>>>>>>> 93f93b9c992f6cbc5a5b3442873cc731fb57ae01
   "metadata": {},
   "outputs": [],
   "source": [
    "halo_omega_1h_cc, halo_omega_2h_cc = ee_3d_one_two_halo_decomp(halo_coords[halo_mask], halo_orientations[halo_mask],\n",
    "                                                        host_ids[halo_mask],\n",
    "                                                        halo_coords[halo_mask], halo_orientations[halo_mask],\n",
    "                                                        host_ids[halo_mask],rbins, \n",
    "                                                        mask1 = centrals,  \n",
    "                                                        mask2 = centrals,\n",
    "                                                        period=halocat.Lbox, num_threads=4)"
   ]
  },
  {
   "cell_type": "code",
<<<<<<< HEAD
   "execution_count": 21,
=======
   "execution_count": null,
>>>>>>> 93f93b9c992f6cbc5a5b3442873cc731fb57ae01
   "metadata": {},
   "outputs": [],
   "source": [
    "## ED\n",
    "halo_eta_1h_ss, halo_eta_2h_ss = ed_3d_one_two_halo_decomp(halo_coords[halo_mask], halo_orientations[halo_mask],\n",
    "                                    host_ids[halo_mask],\n",
    "                                    halo_coords[halo_mask], host_ids[halo_mask],\n",
    "                                    rbins,\n",
    "                                    mask1 = satellites,  \n",
    "                                    mask2 = satellites,\n",
    "                                    period=halocat.Lbox, num_threads=4)"
   ]
  },
  {
   "cell_type": "code",
<<<<<<< HEAD
   "execution_count": 22,
=======
   "execution_count": null,
>>>>>>> 93f93b9c992f6cbc5a5b3442873cc731fb57ae01
   "metadata": {},
   "outputs": [],
   "source": [
    "halo_eta_1h_cs, halo_eta_2h_cs = ed_3d_one_two_halo_decomp(halo_coords[halo_mask], halo_orientations[halo_mask],\n",
    "                                    host_ids[halo_mask],\n",
    "                                    halo_coords[halo_mask], host_ids[halo_mask],\n",
    "                                    rbins,\n",
    "                                    mask1 = centrals,  \n",
    "                                    mask2 = satellites,\n",
    "                                    period=halocat.Lbox, num_threads=4)"
   ]
  },
  {
   "cell_type": "code",
<<<<<<< HEAD
   "execution_count": 23,
=======
   "execution_count": null,
>>>>>>> 93f93b9c992f6cbc5a5b3442873cc731fb57ae01
   "metadata": {},
   "outputs": [],
   "source": [
    "halo_eta_1h_sc, halo_eta_2h_sc = ed_3d_one_two_halo_decomp(halo_coords[halo_mask], halo_orientations[halo_mask],\n",
    "                                    host_ids[halo_mask],\n",
    "                                    halo_coords[halo_mask], host_ids[halo_mask],\n",
    "                                    rbins,\n",
    "                                    mask1 = satellites,  \n",
    "                                    mask2 = centrals,\n",
    "                                    period=halocat.Lbox, num_threads=4)"
   ]
  },
  {
   "cell_type": "code",
<<<<<<< HEAD
   "execution_count": 24,
=======
   "execution_count": null,
>>>>>>> 93f93b9c992f6cbc5a5b3442873cc731fb57ae01
   "metadata": {},
   "outputs": [],
   "source": [
    "halo_eta_1h_cc, halo_eta_2h_cc = ed_3d_one_two_halo_decomp(halo_coords[halo_mask], halo_orientations[halo_mask],\n",
    "                                    host_ids[halo_mask],\n",
    "                                    halo_coords[halo_mask], host_ids[halo_mask],\n",
    "                                    rbins,\n",
    "                                    mask1 = centrals,  \n",
    "                                    mask2 = centrals,\n",
    "                                    period=halocat.Lbox, num_threads=4)"
   ]
  },
  {
   "cell_type": "code",
<<<<<<< HEAD
   "execution_count": 25,
   "metadata": {},
   "outputs": [
    {
     "data": {
      "image/png": "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\n",
      "text/plain": [
       "<Figure size 237.6x237.6 with 1 Axes>"
      ]
     },
     "metadata": {
      "needs_background": "light"
     },
     "output_type": "display_data"
    }
   ],
=======
   "execution_count": null,
   "metadata": {},
   "outputs": [],
>>>>>>> 93f93b9c992f6cbc5a5b3442873cc731fb57ae01
   "source": [
    "## plot EE results\n",
    "\n",
    "fig, ax = plt.subplots(figsize=(3.3,3.3))\n",
    "fig.subplots_adjust(left=0.2, right=0.9, bottom=0.2, top=0.9)\n",
    "l1, = plt.plot(rbin_centers, halo_omega, '-', color='black')\n",
    "#l2, = plt.plot(rbin_centers, halo_omega_1h, '-', color='red')\n",
    "#l3, = plt.plot(rbin_centers, halo_omega_2h, '-', color='blue')\n",
    "l4, = plt.plot(rbin_centers, halo_omega_1h_cc, '-', color='red')\n",
    "l5, = plt.plot(rbin_centers, halo_omega_1h_sc, '--', color='red')\n",
    "l6, = plt.plot(rbin_centers, halo_omega_1h_cs, ':', color='red')\n",
    "l7, = plt.plot(rbin_centers, halo_omega_1h_ss, '-.', color='red')\n",
    "l8, = plt.plot(rbin_centers, halo_omega_2h_cc, '-', color='blue')\n",
    "l9, = plt.plot(rbin_centers, halo_omega_2h_sc, '--', color='blue')\n",
    "l10, = plt.plot(rbin_centers, halo_omega_2h_cs, ':', color='blue')\n",
    "l11, = plt.plot(rbin_centers, halo_omega_2h_ss, '-.', color='blue')\n",
    "plt.xscale('log')\n",
    "plt.yscale('log')\n",
    "plt.xlabel(r'$r~[h^{-1}\\rm Mpc]$')\n",
    "plt.ylabel(r'$\\eta(r)$')\n",
    "plt.ylim([0.0001,1])\n",
    "plt.legend([l4,l5,l6, l7, l8, l9, l10, l11],['cc', 'sc', 'cs', 'ss', 'cc', 'sc', 'cs', 'ss'],\n",
    "           frameon=False, loc='upper right', fontsize=10, labelspacing=0.1)\n",
    "plt.show()\n",
    "\n",
    "#fig.savefig('/Users/duncan/Desktop/ee_components.pdf', dpi=250)"
   ]
  },
  {
   "cell_type": "code",
<<<<<<< HEAD
   "execution_count": 26,
   "metadata": {},
   "outputs": [
    {
     "data": {
      "image/png": "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\n",
      "text/plain": [
       "<Figure size 237.6x237.6 with 1 Axes>"
      ]
     },
     "metadata": {
      "needs_background": "light"
     },
     "output_type": "display_data"
    }
   ],
=======
   "execution_count": null,
   "metadata": {},
   "outputs": [],
>>>>>>> 93f93b9c992f6cbc5a5b3442873cc731fb57ae01
   "source": [
    "# plot ED results\n",
    "\n",
    "fig, ax = plt.subplots(figsize=(3.3,3.3))\n",
    "fig.subplots_adjust(left=0.2, right=0.9, bottom=0.2, top=0.9)\n",
    "l1, = plt.plot(rbin_centers, halo_eta, '-', color='black')\n",
    "#l2, = plt.plot(rbin_centers, halo_eta_1h, '-', color='red')\n",
    "#l3, = plt.plot(rbin_centers, halo_eta_2h, '-', color='blue')\n",
    "l4, = plt.plot(rbin_centers, halo_eta_1h_cc, '-', color='red')\n",
    "l5, = plt.plot(rbin_centers, halo_eta_1h_sc, '--', color='red')\n",
    "l6, = plt.plot(rbin_centers, halo_eta_1h_cs, ':', color='red')\n",
    "l7, = plt.plot(rbin_centers, halo_eta_1h_ss, '-.', color='red')\n",
    "l8, = plt.plot(rbin_centers, halo_eta_2h_cc, '-', color='blue')\n",
    "l9, = plt.plot(rbin_centers, halo_eta_2h_sc, '--', color='blue')\n",
    "l10, = plt.plot(rbin_centers, halo_eta_2h_cs, ':', color='blue')\n",
    "l11, = plt.plot(rbin_centers, halo_eta_2h_ss, '-.', color='blue')\n",
    "plt.xscale('log')\n",
    "plt.yscale('log')\n",
    "plt.xlabel(r'$r~[h^{-1}\\rm Mpc]$')\n",
    "plt.ylabel(r'$\\omega(r)$')\n",
    "plt.ylim([0.001,1])\n",
    "plt.legend([l4,l5,l6, l7, l8, l9, l10, l11],['cc', 'sc', 'cs', 'ss', 'cc', 'sc', 'cs', 'ss'],\n",
    "           frameon=False, loc='upper right', fontsize=10, labelspacing=0.1)\n",
    "plt.show()\n",
    "\n",
    "#fig.savefig('/Users/duncan/Desktop/ed_components.pdf', dpi=250)"
   ]
  },
  {
   "cell_type": "code",
<<<<<<< HEAD
   "execution_count": 27,
=======
   "execution_count": null,
>>>>>>> 93f93b9c992f6cbc5a5b3442873cc731fb57ae01
   "metadata": {},
   "outputs": [],
   "source": [
    "# galaxies\n",
    "\n",
    "host_ids = table['halo_hostid']\n",
    "satellites = table['gal_type'][gal_mask]=='satellites'\n",
    "centrals = table['gal_type'][gal_mask]=='centrals'"
   ]
  },
  {
   "cell_type": "code",
<<<<<<< HEAD
   "execution_count": 28,
=======
   "execution_count": null,
>>>>>>> 93f93b9c992f6cbc5a5b3442873cc731fb57ae01
   "metadata": {},
   "outputs": [],
   "source": [
    "# EE\n",
    "galaxy_omega_1h_cc, galaxy_omega_2h_cc = ee_3d_one_two_halo_decomp(galaxy_coords[gal_mask], galaxy_orientations[gal_mask],\n",
    "                                                             host_ids[gal_mask],\n",
    "                                                             galaxy_coords[gal_mask], galaxy_orientations[gal_mask],\n",
    "                                                             host_ids[gal_mask],\n",
    "                                                             rbins,\n",
    "                                                             mask1 = centrals, mask2 = centrals,\n",
    "                                                             period=halocat.Lbox, num_threads=4)"
   ]
  },
  {
   "cell_type": "code",
<<<<<<< HEAD
   "execution_count": 29,
=======
   "execution_count": null,
>>>>>>> 93f93b9c992f6cbc5a5b3442873cc731fb57ae01
   "metadata": {},
   "outputs": [],
   "source": [
    "galaxy_omega_1h_sc, galaxy_omega_2h_sc = ee_3d_one_two_halo_decomp(galaxy_coords[gal_mask], galaxy_orientations[gal_mask],\n",
    "                                                             host_ids[gal_mask],\n",
    "                                                             galaxy_coords[gal_mask], galaxy_orientations[gal_mask],\n",
    "                                                             host_ids[gal_mask],\n",
    "                                                             rbins,\n",
    "                                                             mask1 = satellites, mask2 = centrals,\n",
    "                                                             period=halocat.Lbox, num_threads=4)"
   ]
  },
  {
   "cell_type": "code",
<<<<<<< HEAD
   "execution_count": 30,
=======
   "execution_count": null,
>>>>>>> 93f93b9c992f6cbc5a5b3442873cc731fb57ae01
   "metadata": {},
   "outputs": [],
   "source": [
    "galaxy_omega_1h_cs, galaxy_omega_2h_cs = ee_3d_one_two_halo_decomp(galaxy_coords[gal_mask], galaxy_orientations[gal_mask],\n",
    "                                                             host_ids[gal_mask],\n",
    "                                                             galaxy_coords[gal_mask], galaxy_orientations[gal_mask],\n",
    "                                                             host_ids[gal_mask],\n",
    "                                                             rbins,\n",
    "                                                             mask1 = centrals, mask2 = satellites,\n",
    "                                                             period=halocat.Lbox, num_threads=4)"
   ]
  },
  {
   "cell_type": "code",
<<<<<<< HEAD
   "execution_count": 31,
=======
   "execution_count": null,
>>>>>>> 93f93b9c992f6cbc5a5b3442873cc731fb57ae01
   "metadata": {},
   "outputs": [],
   "source": [
    "galaxy_omega_1h_ss, galaxy_omega_2h_ss = ee_3d_one_two_halo_decomp(galaxy_coords[gal_mask], galaxy_orientations[gal_mask],\n",
    "                                                             host_ids[gal_mask],\n",
    "                                                             galaxy_coords[gal_mask], galaxy_orientations[gal_mask],\n",
    "                                                             host_ids[gal_mask],\n",
    "                                                             rbins,\n",
    "                                                             mask1 = satellites, mask2 = satellites,\n",
    "                                                             period=halocat.Lbox, num_threads=4)"
   ]
  },
  {
   "cell_type": "code",
<<<<<<< HEAD
   "execution_count": 32,
=======
   "execution_count": null,
>>>>>>> 93f93b9c992f6cbc5a5b3442873cc731fb57ae01
   "metadata": {},
   "outputs": [],
   "source": [
    "# ED\n",
    "galaxy_eta_1h_cc, galaxy_eta_2h_cc  = ed_3d_one_two_halo_decomp(galaxy_coords[gal_mask], galaxy_orientations[gal_mask],\n",
    "                                                          host_ids[gal_mask],\n",
    "                                                          galaxy_coords[gal_mask], host_ids[gal_mask],\n",
    "                                                          rbins,\n",
    "                                                          mask1 = centrals, mask2 = centrals,\n",
    "                                                          period=halocat.Lbox, num_threads=4)"
   ]
  },
  {
   "cell_type": "code",
<<<<<<< HEAD
   "execution_count": 33,
=======
   "execution_count": null,
>>>>>>> 93f93b9c992f6cbc5a5b3442873cc731fb57ae01
   "metadata": {},
   "outputs": [],
   "source": [
    "galaxy_eta_1h_sc, galaxy_eta_2h_sc  = ed_3d_one_two_halo_decomp(galaxy_coords[gal_mask], galaxy_orientations[gal_mask],\n",
    "                                                          host_ids[gal_mask],\n",
    "                                                          galaxy_coords[gal_mask], host_ids[gal_mask],\n",
    "                                                          rbins,\n",
    "                                                          mask1 = satellites, mask2 = centrals,\n",
    "                                                          period=halocat.Lbox, num_threads=4)"
   ]
  },
  {
   "cell_type": "code",
<<<<<<< HEAD
   "execution_count": 34,
=======
   "execution_count": null,
>>>>>>> 93f93b9c992f6cbc5a5b3442873cc731fb57ae01
   "metadata": {},
   "outputs": [],
   "source": [
    "galaxy_eta_1h_cs, galaxy_eta_2h_cs  = ed_3d_one_two_halo_decomp(galaxy_coords[gal_mask], galaxy_orientations[gal_mask],\n",
    "                                                          host_ids[gal_mask],\n",
    "                                                          galaxy_coords[gal_mask], host_ids[gal_mask],\n",
    "                                                          rbins,\n",
    "                                                          mask1 = centrals, mask2 = satellites,\n",
    "                                                          period=halocat.Lbox, num_threads=4)"
   ]
  },
  {
   "cell_type": "code",
<<<<<<< HEAD
   "execution_count": 35,
=======
   "execution_count": null,
>>>>>>> 93f93b9c992f6cbc5a5b3442873cc731fb57ae01
   "metadata": {},
   "outputs": [],
   "source": [
    "galaxy_eta_1h_ss, galaxy_eta_2h_ss  = ed_3d_one_two_halo_decomp(galaxy_coords[gal_mask], galaxy_orientations[gal_mask],\n",
    "                                                          host_ids[gal_mask],\n",
    "                                                          galaxy_coords[gal_mask], host_ids[gal_mask],\n",
    "                                                          rbins,\n",
    "                                                          mask1 = satellites, mask2 = satellites,\n",
    "                                                          period=halocat.Lbox, num_threads=4)"
   ]
  },
  {
   "cell_type": "code",
<<<<<<< HEAD
   "execution_count": 36,
   "metadata": {},
   "outputs": [
    {
     "data": {
      "image/png": "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\n",
      "text/plain": [
       "<Figure size 237.6x237.6 with 1 Axes>"
      ]
     },
     "metadata": {
      "needs_background": "light"
     },
     "output_type": "display_data"
    }
   ],
=======
   "execution_count": null,
   "metadata": {},
   "outputs": [],
>>>>>>> 93f93b9c992f6cbc5a5b3442873cc731fb57ae01
   "source": [
    "# plot EE results\n",
    "\n",
    "fig, ax = plt.subplots(figsize=(3.3,3.3))\n",
    "fig.subplots_adjust(left=0.2, right=0.9, bottom=0.2, top=0.9)\n",
    "l1, = plt.plot(rbin_centers, galaxy_omega, '-', color='black')\n",
    "l2, = plt.plot(rbin_centers, galaxy_omega_1h, '-', color='red')\n",
    "l3, = plt.plot(rbin_centers, galaxy_omega_2h, '-', color='blue')\n",
    "l4, = plt.plot(rbin_centers, galaxy_omega_1h_cc, '-', color='red')\n",
    "l5, = plt.plot(rbin_centers, galaxy_omega_1h_sc, '--', color='red')\n",
    "l6, = plt.plot(rbin_centers, galaxy_omega_1h_cs, ':', color='red')\n",
    "l7, = plt.plot(rbin_centers, galaxy_omega_1h_ss, '-.', color='red')\n",
    "l8, = plt.plot(rbin_centers, galaxy_omega_2h_cc, '-', color='blue')\n",
    "l9, = plt.plot(rbin_centers, galaxy_omega_2h_sc, '--', color='blue')\n",
    "l10, = plt.plot(rbin_centers, galaxy_omega_2h_cs, ':', color='blue')\n",
    "l11, = plt.plot(rbin_centers, galaxy_omega_2h_ss, '-.', color='blue')\n",
    "plt.xscale('log')\n",
    "plt.yscale('log')\n",
    "plt.xlabel(r'$r~[h^{-1}\\rm Mpc]$')\n",
    "plt.ylabel(r'$\\eta(r)$')\n",
    "plt.ylim([0.001,0.5])\n",
    "plt.show()"
   ]
  },
  {
   "cell_type": "code",
<<<<<<< HEAD
   "execution_count": 37,
   "metadata": {},
   "outputs": [
    {
     "data": {
      "image/png": "iVBORw0KGgoAAAANSUhEUgAAAOYAAADdCAYAAACv1w7VAAAAOXRFWHRTb2Z0d2FyZQBNYXRwbG90bGliIHZlcnNpb24zLjMuNCwgaHR0cHM6Ly9tYXRwbG90bGliLm9yZy8QVMy6AAAACXBIWXMAAAsTAAALEwEAmpwYAAAuNklEQVR4nO2deXxM1/vHP08SQSIopajYSxt7pC1KbaHaSimtUt9+KVWtrVoUra/SDVW+VNHSon61tNV+i6L2pbVHrbEGQURJqC2bJPP8/ngyycyYSWa7MzeT83697msy5957zjM385mzPec5xMxQKBT6ws/bBigUintRwlQodIgSpkKhQ5QwFQodooSpUOgQJUyFQocEeNsALSGiKABRISEh/WvXru1tcxQKM/bv35/EzOWsnaPCMI8ZERHB0dHR3jZDoTCDiPYzc4S1c6opq1DoECVMhUKHKGEqFDpECVOh0CFKmAqFDlHCVCh0iE8Lk4iiiGjuzZs3vW2KQuEQPi1MZl7FzK+XKlXK26YoFA7h08JUKAoqSpgKhQ5RwlQodIgSpkKhQ5QwFQodooSpUOgQJUyFQocoYSoUOsSnhak8fxQFFZ8WpvL8URRUfFqYCkVBRQlTodAhSpgKhQ5RwlQodIgSpkKhQ5QwFQodooSpUOgQJUyFQof49N4lznL12DGc//VX3Nm+HQFnz6L4a68h4t13vW2WohBRqIXJzIiPjsaFX39F2o4dCDpxAqFJSaiclYXy2dfcBhAyahQ2/d//4dENG1CyQgVvmqwoJBRqYW5p0QJtd+5EaPb7c4GBuBgairP166Nk69ao3rUrAkNC8EeHDmj311+IDQ3FienT8digQV61W+H7FOrdvmLmzsWNjRtxX7t2qN6lC4o/8IDNPGJmzkSZd95BucxM/B4ejlYbNiCkTBktzVb4OHnt9lWohekoqZcvIyYyEhHHjuFwYCCS58xBs7593WChojBSaLfhc/eyr+IVKyIiJgYnPvkElbOy0LhfP/z0xBO4rZaVKdyMqjGdJDUuDmfbtUPds2exLSgIoXv2oEa9em4tQ+HbFNoaU0uKV6uGurGxOPX222iZkoL48HDs3bLF22YpfAQlTFcgQu1p03BlyhQ8kZGBtHbtsHLJEm9bpfABlDDdQMURI5A8dy6aM+O+Xr0wa9Ikb5ukKOAoYX76KfDZZ7nvMzOdyqZk//7IWrwYzYjQeMwYvPvGG8jKynKTkYrChhLmwYNyGGnaFOjTJ/f9hg1AcrJdWRV9+WXQTz/hcT8/dP36a/z7ueeQkpLiTmsVhQQlzB9/BEz7hS+9BERGyt/MwAsvAEOH2p2df7du8P/lFzzq749ha9bguZYtcfXqVTcbrfB11HRJXjADW7YA1avLceUKEB8PNGmS/72//Yas55/Hkaws9A0Nxe/79qF8+fL536coNKjpEmchAtq2FVEC0h994gkgMTH/ezt1gv/KlWhQpAgWXLiAT997T1tbFT6FEqYjfPghsHw5UK6cvN+wAbh71/b1Tz8Nv//9Dw0BFJ0/HzExMR4xU1HwUcLs2hWoVg1o1Aho3Rp4/nlg7Njc8z//DMTFyd+lSgGdOsnfsbHAU0+Zj+ha45lncLdVK7wNYMzbb7vdfIVvooT5xBNAq1ZA1aqAwQCcOQMcP557/oMPgJo1ZVBo797c9Fq1gN9+AwYPzreIwHHjUIEZlTZswLp16zT4EAqfg5l9/mjSpAk7zblzzO++y1yqFDPA3KIF886d5tdcu8bcvbtcaw2DgbMefZTPBwRwg7AwzsjIcN4ehc8AIJptfGdVjZkf1aoBkycDFy8C06fLa3q6nLt+HUhJkcGgbduAQ4es50EEv/feQ5XMTIQdO4b58+d7ynpFAUVNlzhKZibg7y8jtkOHAosXA+++CwwcCISE2L7PYADXr48z58/jiaAgnI6NRcmSJd1jk6JAoqZL3ElAgIgSAHr0AJo1A0aPBrp3B65dAzZuBEaNkjlQU/z8QKNGoVZyMiISEzFJ+dMq8kDVmK7CDMydK7VnhQriNbR3L7BjB2BZI2ZkAA89hJMpKWh46xZOnjyJqlWramOXQveoGlNLiIABA0SI5coB//kPsGvXvaIEgCJFgBEjUCcxES2YMWbMGM/bqygQqBrTnTCLUA0GYNo04MIFoG9fmSM1kpICVKuGUyVLos6ZM9i1axeaNm2qvW0K3aFqTE9h7Hvu3AmMHAnMmQN8/735NUFBwLBhqH3mDNqVLYt33nkHheHHUeEYBU6YRFSDiL4louXetsUmLVoA69bJKO3cueI9ZEr2CO7cGjWwa9cu/PTTT96xU6FbPCpMIppPRFeJ6KhFekciOklEsUQ0Oq88mPksM/fT1lI30KGDrPMMC5OlY1Om5J4rXRoYOBDV9+/Hs3XqYNSoUUhLS/OWpQod4ukacyGAjqYJROQPYBaApwGEAehJRGFEVJ+IfrM4Cta6qSpVgK1bgRIlgIULzc8NGwYqUgRf1ayJuLg4zJw50xsWKnSKR4XJzNsBXLdIfgxAbHZNeBfAMgCdmfkIM3eyOAreiuNixYA//pDDlAoVgL59UXnjRvRs1QqTJ0/GnTt3vGOjQnfooY/5IICLJu/js9OsQkRliegrAI2JyOZ8AxG9TkTRRBSdaM/6SS1p1Ej6mxMmiOO7kZEjgawsfF6pEq5du4ZZs2Z5zUSFvtCDMMlKms1hSma+xsxvMHNNZp6Yx3VzmTmCmSPKGddPepMjR2QKpV8/8bEFZAF2jx6otHIlurVpg88//1zVmgoA+hBmPJCz4RYAVAaQ4CVbtKNoUSAwUNz23norN330aCA5Gf+tWRNJSUmYPXu292xU6AY9CHMfgIeIqDoRBQLoAWCll21yP3XrApcvyyLs778HVqyQ9Hr1gE6dELpiBaIiIzFlyhRVayo8Pl2yFMAuAHWIKJ6I+jFzJoDBANYBOA7gR2Z2SwwOd28q5DIBAcCYMSLGwYNzw5IMHw4kJuK/TZogKSkJc+bM8a6dCq+jXPI8zTPPAHfuyNrO8HBJYwYiIoCUFHQMDcX+AwcQFxeH4OBgr5qq0BblkqcnunYF/v3vXFFeuyaufMOHAydO4L8dOqi+pkLVmF5l0iSpOY8elUBfNWsCNWviqcBAHDhwAOfOnVO1pg9TaGtM3fUxjdy9KxHg27aVqZMhQ2RJ2FtvAVu34rMePZCYmKj6moUYVWN6g61bgTZtZGuG2Fhg3DiJVxsZCYSGAlFR6JCYiIMHD6pa04cptDWmbmnVSkKQvPSSzGM2aiS1pb8/0L8/8MMP+OSNN5CYmIivvvrK29YqvIASpjcgAtq1A/z8pAk7a5aM1B48mON88OjOnWjfvj0+++wzJNu525jCd1DC9CazZ0sztnlzCYvZooWsSHnxRWDePHw4YgSuXr2qas1CiE8LU7eDP0YOHwb27JF5zJAQed24UaZObt1C06NHc2pNtc9m4cKnhcnMq5j59VKlSnnbFOvMnCmRDowhSb7/HmjfXrb7a9UKmDED499/X9WahRCfFqbuKVJEXpOTJYDXSy8BdeoAw4ZJOMwLF9A8IQGRkZGYPHkyUlNTvWquwnMoYXqbAweABx8E1q+X1SdffCFTKCdOiEinTsV/xo7F1atXsWDBAm9bq/AQDguTiIKzw4Eo3EHdukDPnhLRAJBYQV26AJ98AvTpA+zfj5bMaN68OaZMmYLMzExvWqvwEPkKk4j8iOhlIlpNRFcBnABwmYhiiGgKET2kvZnOofvBH0BqyTlzzGPPTpsm2wI2awbcfz9o2jSMHj0acXFxWLZsmddMVXiOfD1/iGgbgI0AVgA4ysyG7PQyANoAeBnA/5j5e9u5eBfdef5YIz5eBn2aNJH3xuDR48cDEybAEBODhi+9BGbG4cOH4eeneiEFHVc9fyIBfAKgk1GUAMDM15n5Z2buBuAH95haiOnSBXjjjdz3REBqak7kA78ZMzB69GjExMTgN9O4QQqfxG5fWSLazMxtNbZHEwpEjbl7N1C+PFCjRm7aypVA587SpD1wAJlXruChhg1RoUIF7Ny5E0TWwiUpCgru8pU9QEQfEJFqQ2lB06bmogSAqChx3TtyBEhLQ8Du3Rg5ciR2796N7du3e8dOhUdwRGShkHg8CUS0gog+IqIXNbKrcHLkCPD227I5LiDN2S++ANLSxK9240a8+uqrKF++PCZOtBkgUOED2C1MZu7OzI8AqApgAoBYAI9rZVih5PRpYN484Pjx3LSwMGDQIHFA+PlnFJ8+HWNefx3r1q3DX3/95T1bFZpiz6gscT4X2XONNyCiKABRtWrV6n/69Glvm5M/GRlAerpsqWBk8WIJEh0dLY4Hfn64FRuL0EaNMK5uXQyPigJat5aYQUZPIkWBwNU+5hYiGkJEVSwyDSSitkT0HYDe7jDU3ejeV9aSIkXMRblnjwSIvnwZmD9f0r75BiWrV8fAgQMRvGsX8N57sjqldGkZJHr9dfHB3bpV4gkpCibMnOcBoBiAgQB2ALgM4BiAcwDOA5gHoFF+eXj7aNKkCRcYbtxgbtuWefJk5goVmKtXZ05MZM7IYC5RgrlrV2Zm/vvvv7lYsWI8rFcv5p9/Zn7rLebWrZnLlmWWWVA5IiJy887K8s5nUlgFQDTb0p2tE1YvBooAqAigtCP3efsoUMI0GJiffpq5alUR4tGjueklSjAXLZpz6cCBA7lIkSIcHx9vfn9CAvPvvzNPmcL8+eeSHhfH3LAh8x9/eOyjKPImL2HaPfhDRO9AoqYvBjCBiPoSURMiKuq26lshhITINvFLl4ovLSAjtO3bSx909WoAwIgRI2AwGDBt2rTce4mAihWBp54CRoyQtZ3GPIsXl3pUoX9sKdbyAHAWQC0A1QF0BvABgP8BOA1x1fN6zWjrKFA15ocfSkNm0iTmCxfMz+3cKedatsxJ6tWrFwcHB3NSUlL+eRsMuX/fvesmgxXOAnc0ZbNFSDbOlbI3H28cBUaYy5fLv+SVV5h792auUsW8X2gwMBcvzuzvz/zPP8zMfOTIEQbAEyZMsL+cyZOZn3iCOTXVreYrHCMvYTriYHAVwHwiqmal1tXx8o0CgsEgAaCbNgXmzgV69wY+/ljSjRBJ2MusrJyNcOvVq4eoqCh88cUX9gftqlED2LFDlpWZ5q/QD7YUa3kAeBfA/wE4BNk6bwOAqfbe740DQBSAubVq1XLfz5yW3LjBfOVK3tcsXCi16sGDOUk7duxgADxp0iT7y/rsM8ln9GgnjVW4Ctw1Ksu5X/gAAHUB9HDmfk8fum7K7tnDPHIkc0rKvedu3xYh3rqVm3bxovzbPv/crJ/YqVMnLlmyJF/JT9hGDAbmAQMkr7lzXfwQCmdwuzAL2qFLYRoHYn79lblSJevTGH/+Kf+ipUvN0x9+WOY4u3XLSTp+/Dj7+/vzm2++ab8NGRnMHTtKn3XdOic+hMIVlDD1JMzz55n79GEeP17eGwzWa0vjuV27zEdTmZkHDWIOCBBBmcxhDh48mP38/Pioce7THm7dkvnNkBDmQ4cc+ywKl8hLmGoJl6e4fh0YORKoXVvmJ42DLkQyv2gNIhkMslx3GRkpK1AMBnF6z2b8+PEoWbIkRowYYb9dISHiixsSAjz7rNip8D62FOtLh1drzIwMmZMsVYqZSGrL8+ftv99gYJ4wgXnOnNy0f/5h9vNjrlWLuWJFs77m1KlTGQCvXbvWMTv37ZP89u517D6F00A1Zb0ozGHD5DF36sR8+LBzebRrx9yvn3naY49JXxNg/vHHnOS0tDSuWbMmh4WFcUZGhmPlKF9aj6KE6S1hGh0Ghg51LR9rXjrvvSe15rRpzNevm5365ZdfGADPMa1l7SUlhTkmxklDFY6QlzBVH1MrYmOBV18FHn8cmDLFtbyM6yzZxM81MlL6mLVqAffdZ3Z5ly5d8OSTT2LcuHFwOHRnt27Ac8+JE4PCawR42wCfpXx5oHt32c0rMND1/CZMADZvBrZtk/fNmgHFigGbNgG3bgFXr0pYEgBEhGnTpuHRRx/FxIkTMWnSJLuLSRv+PhISiyD+Tz9cSgAuXZLImpcuAQkJotfg4HuPoCB5rVpVdnpwx0cuzPj0jtJei2CQkeH+aALz5kkUg1mzgIDs39MOHUQt4eHAr7+KekJCcm7p06cPli5dihMnTqB69epWs71xA1i7VgLybd4s+rakRAnZxeHBB6Xo5GQ5UlJy/05Olo8NANWqSTjcf/1L9uJVWCevCAZe7/954vBoH3PBAuZGjfJ3rXMHkydLH3bVKnmdN8/sdHx8PAcFBXH37t3N0s+dY54xQ8aUAgLk1vLlmf/9b+aPPmKe/8VtXv/cTI5ZFM03b9pvzt27zGvXMoeHS56PPCJruC2nYRUC1OCPB4W5ejXzCy8wZ2Zqk7+p4KOj5V+4aBFzjRrMHTvm+Cv8/TfzqVPM/ft/zUAbnjjxOI8dy1y/PucENwgLE1fZnTstzE1JYb7/fhlJdgKDQca9jIPGERHiWKQEao4SpieE6Ylv3X//K1WccRQ2M5O5TBk+/8I7/FjF81wGSRwQYDCLLGJ6+PkZuFUr5qlTRbR5Mn683OTCCG1GhjQgqlaVrFq1Yt6xw+nsfA4lTK2FaTAw9+yZG8ZDKw4flnAh2WsxmZlvdf4XNygSwyWDM3jgA8t5TP9EnjSJefZs5u+/Z165knn06LUMNOKvv/7J/rISE2Xt56uvumx2WhrzzJnMDzwg37imTaXV7Ugz2RdRwtRamDNmcE7UAQ+SmckcVf8c+yODf593weZ1WVlZHB4ezjVr1uQsR5wIBg1iLlKE+dIlN1jLfOeOTLuGhcnjCgoSR6jt2wtnM1cJU0th7t4tX96oKM94zqSnM69fz5yWxsOHy39wFt5knjVLzt+8KVWUBUuXLmUAvGbNGvvLOnNGnBhGjXKT8YLBII+tf3/xnQeYH3qIeeJEt/0GFAiUMLUS5uXLzA8+yFyt2j3eN5qxejUzwHOHHmaAechgg3Tinn+e+cAB5sBA5l9+uee29PR0fuCBB7iTowM63bszlyypWbvzzh1Zcvrkk5zdD2bu27dwhCRSwtRCmGlpzM2bS3vswAH352+L1FTe9NEODggwcMeOMsDC/foxly4tMXzKlGH+17+s3jp27FgmIj579qz95e3bxzkLszXm1CkJjwswd+5steL3KZQw3S1Mg0HEYOFA7glOnBAN1q0rkUiYmXnJErFl717ptJUqJU1eCy5evMj+/v48ytGmaevWzKGh2k0BWTBzpnycZ57x7XhhSpjuFqbxm/P+++7NNx+SkmRlVrn7s/js+O9yg0Ffviz2TJ0qw7CABHy2QteuXbls2bKc6sg3/sAB5mPHXP8ADvD117JKrn175uRkjxbtMZQw3SnMO3dkDaSnBnuySU+XecCiRZl3rL0p0QsmT869oHx5qS1TU5mDgyWejxU2btzIAPi7777Lt0yDIbupzJLtihWeHZxZsEDE2bq1hD/yNZQw3V1jxsV5dBLOYJABEYB58eLsRMvF1u3a5e5Tsnw58/HjNvIycJ06dfjxxx83S790SULZGsMLpaTIYLNxBujmmUQGmD98JT/PBPeyeLH8Bj3xhO/Ne+YlTLXsy17u3BEHcoNBllCULOmRYjMygHfekc2+xo0DXn45+0SVKuYX1q8PxMTI8o9u3YCHH7aaHxFh4MCB2LNnD/bv35+TXq6c+MBfvizvixcH3n1XIpsAQMiDJbGpzkC8G74RAHDwoOyzqzUvvyyRWPbsEZ/9Gze0L1MX2FKsLx1uqTFnz5ax/Oho1/Oyk4QE2Q0BYB4yxKLlnJkpQ5jffivvv/1WLjT62q1cKa4/LPdNnpw7sHrjxg0ODg7ml14axgMGONeHa9tWNiJzNEiCs/z6q9Tg4eHS1/YFUFibsnBnwGeDgXn/ftfzsZOtW8WFLSjIpPlqSbNmuQGb9+6Vf+fPP8v7Tp2Yq1blmzcM/NxzcoooN070gAEDuEiRjhwcbOBt2xwwzGBgzszkpCSZSWEW4Rv/1pLVq6WP3aCBbzgiFFphGo88a8zff5eO1apVooboaJmTiI+XTs3atTb7a1pgMEiQdH9/5jp1cgderWJahd65I8ozhsWcP58Z4G7V97O/v3jV3Hcfc2Qk88aNzIcOHcre8+RL+427eFFi4C5caJZsDA7viR3+1q+Xsa1KlTzzY6AlSph5CdPYVszriIx04HE7z40bzF26SJEvvGAegD1PjI6mNWvmBIHe/GMiZ8CfPy/+Pm/aJKenTJG8ixWT5mCLFi0c85/NyhJ1WwQGS06WIH5GM7T2ez10SJydihW7NxZ2QUIJMy9hXr4sNeLevcybN0vfbMkSmUibOlWqLw8sej50SOYoAwJkdZfdX+7XXhMVMzN36cKG2nV46lTpDu8u0ZbTaz2Sc2lqqngQ1q4tGluyZInjoS47dZIMbBAXx9yihR3Lylzk6tXc39SxYwtmgD8lTD1FYrfC0qWywqpSJdkVwSEmTsxxdEgZPYFfwSIGpOJMm/olc7VqnBqfxMOHi0/6d99xzq4LTvnPGqMm/P231dNHjohDuieamenp8rsEiKtwQZvrVMLUsTBTUmSAp1kzm991u7h4kTmi5jUGmD9685LUuHfvMhsMvH27+LZv3CiDuQ0aSMCD9PRc/9lz587ZV5Bx89zly21eYjpSa2v3B3dhMDBPny4thAYNpMYuKChh6liYa9bIf8GR1ViWXL9m4MYPXOKQ4Exegah7Bmc4K4sTE3Obx2vXSplffMF84cIF9vPzs99/Nj1dqve33sr30kWLZErFcmNsLfj9d3ERLlfOiVaHl8hLmMrBwMusXi2hH9u0cT6Pc13exvorDbBuVQaeK7rebOaf1/4OVKiA+5PP52yB8tRTQNu2wIcfAqVKhaJz58745ptvkJaWln9hgYESKzd749y8qFsXePRR4P77nf1k9vPUU+KEULq0PMslS7QvU1NsKdaXDr3WmAaDLOWMinI+j6ws5u6V/uDPan4lozuNGjF36JBzflCvf7gHlrBh2n/N7jOu5ho7lnnDhg0MgBctWmRfof/5j7QdHfCRS00VhwmtuX5dfGv9/PJsbesCqBpTnxw7BsTFAZ06OZ/HunXAjwktEPrxAAkAXb8+cPRozvkKD5dG5fvTQf/7xey+iAgJzDxtGhAW1g516tTBrFmz7Cu0ZUtxTdy1y247e/cGWrUC7KmUXeG++2TzsmbNgJ49gTVrtC1PM2wp1pcOvdaYxgHOixedz+PZZ8VDKD3xJvOmTblbuF+7lnvRBx+I84HF6FJsrLi5vf4684wZMxgAb9++Pf9Cb9+WPE+fttvO3bvv7fpqyY0b4r5XrBjzli2eK9cRoAZ/9CnMJ5+UPWOd5cwZ0du4ccz88cecMw8CsGHLVv7rr+wBn0OH5NzXX9+Tx5Ah4mW0f38yV65cmRs3bsyZGi+IPnjQM83axEQJ/BUcLPv/6g0lTB0K8/p1EYQra61HjDDZVDouTqqGc+eYAf5j2PLcAAsGg3Qmrfj6Xr0qAbG6dGFetmwZA+CvrQj4Hm7flijODsb/SEuTYAgdOzp0m9MkJIhDVOnSno0AYw9KmDoUZnbFxjt3Ond/crJ4x734osUJg4G5dGm+2Wcoz54tLrT58dFHnO3rauAnn3ySy5Yty9fzCy72yy9ykxNzE3/8Ib8fniIuTn4MypXzeCCGPFHC1KEwe/WSXQicbTUaV3lt3WqSGBsrs+0tWojHgimpqSIiK2umjEEZmjdnPnDgIPv5+fGQIUPyNuDGDfEodyHuh8Egq+kSE53Owm5OnZK+eKVK0gXQA0qYOhNmZiZz2bLMr7zi3P0GA3Pjxsz16ln41H7zDTPAPz4xnX8u9jIbskxOHjzIOX1QK8ydyznTJwMHDmR/f38+7OwO2HYSGyuDMx9+qGkxORw5IkEEq1VzbcDNXShh6kyYO3bIk1+2zLn7jV5x92wYffMm86VL3OqhS9wKW8z90+7eFRUMH241z6ysXL/TMWOSuUyZMtymTRs25OVNf/SoqMqFwaLDhz3rgB4dLWFy69QxiTLoJZQwdSbMMWNk0MZkCxKH6NVLvly2nLYzt/3JCagga0xNefxxiehlg6ws2YoPYO7SZQcD4J9+ymO/k0WL5GLj6msXSEqSuEbOPhNH2LpVnn+XLt7dmkEJU2fCbNAgT33kyd9/y9zj0KHWzxui90tULYD500/NTw4axFyiRJ5VVGYmc48ecnulSpO4SpUqnGyrH5k9AswzZzr1WUzZuFFGh+2ZRnUHU6eyp+JY20QJU0fCPH9envpnnzl3v3G68sQJ63mHVbnFf5Z4irlCBdmBzJQFC+TmfCIy3L0ry6hknfgb/MEHH1i/0GBgrlxZtlFwA6Y+EVpjMDB37So1p6d+DCxRwtSRMOfMkafuzLB9RobooH176+f/+ou5eTMDx8VmSBjzevXML7hyReYq7Aj2nJ4ua6IB5oCAAbaXhfXsKUO6bmwTrlwpGw5p3cy8cUMWp1esKOvlPU1ewixwvrJE1IWI5hHRCiLq4G17HGX1aqB6dZvRJfNk5UogPh4YPNj6+caNgR07CVVrBojP7IkTwN27uReULw+0aCE+tfkQGAj89BPw5JOpyMycjRdfXGn9wpYtJebl2bOOfyAbHD0q4TFv3XJbllYpVQr4+WcJidmzJ5CZqW15DmFLsVocAOYDuArgqEV6RwAnAcQCGG1nXvcB+Naea/VSY6akyFJGyynC3r2l4slvDKVtW4l1Y20Q9Nw5k0XJf/4p4T8AmSMwZetWK8O5edtcvfo5BjL5/fetTJ8cOSLlLFhgd575YTB4dkMhYzAxY8BBTwG9NGUBPAkg3FSYAPwBnAFQA0AggEMAwgDUB/CbxVHe5L6pAMLtKVcvwszeQc9sW5ELF9gs7tczz1iPNhcTI+cnTrSed+vWzDkfc/9+2XUIkPhFpgwdKiETHJjiSEpK5aJF9zKQwStWWASSNQbo6tvX7vzsxRg6xKHwmk7Sv788rhUrtC/LiG6EKbagmoUwmwFYZ/J+DIAxedxPACYDiLS3TL0I8803RROmXbyvv+Yc17yPPxZvIECcd9asye1nDRokMVWvXrWe9+bNEhQ5h/R0iew1Zoz5hcYpjjzjYt7LkiWrGDjC5cpdu3dQNypKAv24mX/+YX7kEc+MnKamymqU0qU95xmkd2G+AOAbk/evAPgyj/uHAtgP4CsAb+Rx3esAogFEV6lSxd3P1GEMBuYqVWTfR1M6d5bmqVGAycmyc3xoqPx3GjWSAFolSsgco0OEhcm6MFOOHZOMHVyDZTAYODx8EgPM06ZZ7K/52WcSfk+DaFie3Onr7FkRZni4Z7b/07swX7QizJnuLFMPNaaxKzZ3bm5aWposSXrzzXuvT0+XbludOpzTzN27997rDAaZRrzHxWzrVqliK1Y0T8/MFJUPHuzwZ0hIuMr+/nFcrNhffOuWiQizg35pydGj4lihdd9z1Sp51v37a1sOc97C1MOobDyAUJP3lQEkeMkWzfjtN3l95pnctD//BJKTzdOMBAYCffrIPkHLlwMzZkj8HEtiYoAhQ4D16y1O1KwpQ7+XL5sPb/r7A+HhwPHjDn+GihXLYdCgdKSlNcaLL07PPVGkCHICCmlETAyweTNw/rymxaBTJ2DMGGDePGDhQm3LyhNbitXqwL01ZgCAswCqI3fwp647y9RDjdmihTiem/LOO1Kp2bM0Ky/OnLERtX3FCra6tuzaNadruORk5uLFkxlYwQtNm8MTJ7oWvMgOPBU3NiNDRsCLFtV2uxropcYkoqUAdgGoQ0TxRNSPmTMBDAawDsBxAD8yc4ybyosiork3b950R3ZOc+0asHMn8Oyz5ulr1kgcnOBg1/KvUQMICbFyon59eT1wwDy9TBmna7igIGDkyGIAnsMbb8zEiRMn5ETx4vJBDAan8rWHEiWkUT9tmrZR8AICgGXLZNq3a1cgKUm7smxiS7G+dHi7xly8WCqu3btz086elbTp053Pd9Mm6QvZ3JZu61Yp5LnnzNNv3ZLpDbNhXPtJSmIuXjyLixZdwg0aNOAUraM6m5CRIX7GvXppX9a+fVJrRka6tIDGJtBLjVlYWb1aNoY17SOuXSuv1vqX9nL6tETJs1pbAhIKr3Jl4O+/zdODg6Xjum6dU+WWLQu89pofsrJewuHD1zB8+PDck8nJTuVpLwEBwKpVwKJFmhYDQB7f7NnAxo3A2LHal2eGLcX60uHNGjMjQ+bfLac6nn1W/DRdJd9f8tdek9XBln3KNm2YH33U6XLPnRMH8IiILQyAly9fLjVzy5ZO5+koSUnSYtB6C/gBA6Th4e44tSisNaYe+pj79gH//GPev0xNlRHGp592Pl+jX6e/fz4XhoUB16+L36wpERHAoUPmvrQOUK0a0L07cPJkK4SHt0W/fv1w8/77gb17ZX96D3D0qGwDv2+ftuXMmCHB5/v0cWow2yl8WpjMvIqZXy9VqpTXbDh1Sl6bNMlN27ZNxOlKM7ZLFwminC9BQfK6YIF5ekSEiDLG+XG2kSOB27cJkZE/gpkxfetWID0diI11Ok9HaNVKAma3a6dtOUWLSss/KAh4/nntnesBHxemHrh8WV4rVsxNW7tWBjFbtXIuT2agaVNzsdvk+efl1bIjGhEB1K4t1bmTNG4MdOgALFpUFrNnz8dK4woTF8TuKGXLyuu6dcA332hXTuXKwI8/ym9O796aDj4DUMLUnIQEWV5krLgAmSZp21bE6QxEMhgxdKgdF5cvD1SoAJw5Y55eowZw8qQY4gLvvitjS6mp3dC0Tx8YANzas8elPJ3hq6+AOXO0XbrVqhUwZQrw66/A5MnalQNADf5oTbdu4oht5NQpGUj48kvn89y/38EAVm3aiEOuBt7ZBoP4ltauzXz06DGOBfikpSeFB7h924aThZsxGCT0CpH5KiFngBr88d7gT0ICUKlS7nvjJjfODvycPi1N2DlzHLipVi3xZVuxwjx94UIgNNSlnX6IpNY8dQo4ffoRxJcsiQDLgSYPUKKEtNYzMoBx44DERG3KIZImc926MhikVX/Tp4XJOhj8uXz53v7lww9LS9IZKlWSObyuXR24qVkzebX8NQgJkZAIJvtpOkO3bhKVYfJkILBRY1ROTUXc6dMu5eksJ09Kc3P5cu3KCA4Gvv1WmvAff6xNGT4tTG/DbF5jJicDW7e6NhobHAy88oq52PPF6JpnOSgTESGv0dHOGwSZ9B8xAti9G/Cr3xWBADZ+9ZVLeTpLvXrSqnjzTW3LeewxoG9fYPp0+TFwN0qYGnL9usxIGIW5ZYvMJjjbjI2JAb77TqZaHCIsTF6nTwcuXMhNr1JFtnvev985g0zo00ey+ubYs5j34INY7qRXkTuoXFleT5+WHwut+PRTGcAbNkx+hN2JEqaGJGQvXjPWbmvWSI3XsqVz+f3wAzBggBM+AUFBIsIdO8ybrURSa7pYYxqLGDQI+GZLTVzsOwHrYmJwUouqxE6YJcDW669rN7XxwAPA+PHA77+L26U7UcLUEOMcZqVK8kVZuxaIjJQJa2eYMAE4fFimXxwmIkLcdSyXuLz4okxGuuEn3+jwEHCrHR4G8MMPP7icp7MQSV989WrAT8Nv+eDBwCOPSK2Znu7GjG0N1/rCASAKwNxa7nBKdQJjfOUzZ3Ijetiz9aQmfPKJGKDxHgTNmzNvDonis0FB/PDDD+e994kHiYnRLu/16znPQGm2QGGdLmEvj8qaNmVdnSYZMwaYOtUFY4xuQt26AVlZ5ufS09226LBXL2Dc7ZHY1nkYTpw4gSMujvi6gzlzgIYNJVatFrRvLy6SH38MXLrknjx9WpjeJiEBKF1aBgjWrJERw9DQfG+7B2ZxnrZ03nGI8HB5PXgQuHLF/Fzt2jKs6ga6dwd2B7REdJn34e/vj2XLlrklX1fo2ROYOFGev1ZMnSpeR6NGuSc/JUwNuXxZ+pe3bwN//OH8NAmRuIF9+aULxpQrJ8OVTz1l7vEAyHSKGwaAABmZ7dThLq4u2YHeTZth2bJlxm6F1yhdWn53AgJkykoLc2rUEKf+xYtljM1VlDA1xDiHuWmTeKQ4K0yj/6fLgxgREdanRiIipEq+c8el7LdtkymKju2z8PM/bbHj0EKcO9cH3357XBfbD1y5Io73Lv3A5cHo0fLbN2TIvb0FR1HC1JCEhNz+ZcmSQPPmjudx86b4oLtlxX6TJuI79/LL5ukRETKn4GIn7LXXpNZ4qktxDMUXCMzIAPA++vcPQ/ny8gPlTcqXB1q3lv6mFgQHA59/LiGWXF3pQt5uZmgJEUVBRmZ7QQJ9AcD9ANwZXqkUAHudce251tY11tLtSTN9b/q3N5+DPdfndd7Rz53fe289i6rMXM7qGVvDtb50AJhr8rfNIWpX83bHtbausZZuT5rFZ9fFc7Dn+rzOO/q57XguXn0W1o7C0pRdpZO87bnW1jXW0u1JW5XHOXfiaN75XZ/XeUc/tz3v3YnLeft0U9YaRBTNzBHetsPbqOeQix6fRWGpMU2Z620DdIJ6Drno7lkUuhpToSgIFMYaU6HQPUqYCoUOUcJUKHSIEqYJRFSDiL4lIg0jxugTIgomou+IaB4R9fK2Pd5CL98BnxEmEc0noqtEdNQivSMRnSSiWCIanVcezHyWmftpa6nncPCZdAWwnJn7A3jO48ZqiCPPQS/fAZ8RJoCFADqaJhCRP4BZAJ4GEAagJxGFEVF9IvrN4ijveZM1ZyHsfCaQnbwvZl/mogu27lgI+5+DLgjwtgHugpm3E1E1i+THAMQy81kAIKJlADoz80QAnTxsosdx5JkAiIeI8yB86wfb0edwzMPmWcWn/gFWeBC5tQAgX74HbV1MRGWJ6CsAjYlojNbGeQlbz+QXAN2IaA60dVfTC1afg16+Az5TY9rA2n7mNj0qmPkagDe0M0cXWH0mzJwM4FVPG+NFbD0HXXwHfL3GjAdgGsyjMoAEL9miF9QzEXT9HHxdmPsAPERE1YkoEEAPACu9bJO3Uc9E0PVz8BlhEtFSALsA1CGieCLqx8yZAAYDWAdZKP0jM3tu80Yvo56JUBCfg3JiVyh0iM/UmAqFL6GEqVDoECVMhUKHKGEqFDpECVOh0CFKmAqFDlHCVCh0iBKmQqFDlDAVdqGXlf2FBSXMQgARVSOiVCI6aJIWSUT/Z28e1lb2ExGb5kFEAUSUSES/OWlncSI6SER3ieh+Z/LwFXx92VehhYj8mdk0EsEZZm5k8r4hgANW7qsPYKJFcl9mvmqlmGQA9YioODOnAmgPwOk9lbPzaEREcc7m4SuoGtOHIKKfiGgaEW0BkN8i34YAKhDRH0T0NxFFAgAzH2HmThaHNVEaWQvg2ey/ewJYamJPNSI6kR3k6zARLSeioOxz/85OO+RIzV1YUML0LeoDuMPMbZj543yubQggiZlbAhgI2arQJnms7F8GoAcRFQPQAMAei1vrQHa/agDgFoCBRFQXwPsA2jJzQwBv2fn5Cg2qKesjZAujDIAP7bi2SPa1n2cnBQC4kdc9tlb2M/Ph7Hg6PQGssXLrRWY2bn7+PYChANIhEfmSsvO4np/NhQ0lTN+hLoA92esM8yMMwCFmNmS/bwDgaB7X58dKiMhbAyhrcc5yXSFDwnqo9YZ5oJqyvkN9AIftvLYhgEMm7xs4cK815gP4kJmPWDlXhYiaZf/dE8CfADYB6E5EZQGAiMq4ULZPooTpOzgqTNNr68GFGpOZ45l5ho3TxwH0JqLDkObznOxIAZ8A2EZEhwBMc7ZsX0VFMCgEZPcBf2PmegWh3OzpkghjH7QwomrMwkEWgFKmDgZ6xOhgAKAIAEM+l/s0qsZUKHSIqjEVCh2ihKlQ6BAlTIVChyhhKhQ6RAlTodAhSpgKhQ5RwlQodIgSpkKhQ5QwFQod8v/OMjich2V1PQAAAABJRU5ErkJggg==\n",
      "text/plain": [
       "<Figure size 237.6x237.6 with 1 Axes>"
      ]
     },
     "metadata": {
      "needs_background": "light"
     },
     "output_type": "display_data"
    }
   ],
=======
   "execution_count": null,
   "metadata": {},
   "outputs": [],
>>>>>>> 93f93b9c992f6cbc5a5b3442873cc731fb57ae01
   "source": [
    "#plot ED results\n",
    "\n",
    "fig, ax = plt.subplots(figsize=(3.3,3.3))\n",
    "fig.subplots_adjust(left=0.2, right=0.9, bottom=0.2, top=0.9)\n",
    "l1, = plt.plot(rbin_centers, galaxy_eta, '-', color='black')\n",
    "l2, = plt.plot(rbin_centers, galaxy_eta_1h, '-', color='red')\n",
    "l3, = plt.plot(rbin_centers, galaxy_eta_2h, '-', color='blue')\n",
    "l4, = plt.plot(rbin_centers, galaxy_eta_1h_cc, '-', color='red')\n",
    "l5, = plt.plot(rbin_centers, galaxy_eta_1h_sc, '--', color='red')\n",
    "l6, = plt.plot(rbin_centers, galaxy_eta_1h_cs, ':', color='red')\n",
    "l7, = plt.plot(rbin_centers, galaxy_eta_1h_ss, '-.', color='red')\n",
    "l8, = plt.plot(rbin_centers, galaxy_eta_2h_cc, '-', color='blue')\n",
    "l9, = plt.plot(rbin_centers, galaxy_eta_2h_sc, '--', color='blue')\n",
    "l10, = plt.plot(rbin_centers, galaxy_eta_2h_cs, ':', color='blue')\n",
    "l11, = plt.plot(rbin_centers, galaxy_eta_2h_ss, '-.', color='blue')\n",
    "plt.xscale('log')\n",
    "plt.yscale('log')\n",
    "plt.xlabel(r'$r~[h^{-1}\\rm Mpc]$')\n",
    "plt.ylabel(r'$\\eta(r)$')\n",
    "plt.ylim([0.005,0.5])\n",
    "plt.show()"
   ]
  },
  {
   "cell_type": "code",
<<<<<<< HEAD
   "execution_count": 38,
   "metadata": {},
   "outputs": [
    {
     "data": {
      "image/png": "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\n",
      "text/plain": [
       "<Figure size 237.6x237.6 with 1 Axes>"
      ]
     },
     "metadata": {
      "needs_background": "light"
     },
     "output_type": "display_data"
    },
    {
     "data": {
      "image/png": "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\n",
      "text/plain": [
       "<Figure size 237.6x237.6 with 1 Axes>"
      ]
     },
     "metadata": {
      "needs_background": "light"
     },
     "output_type": "display_data"
    }
   ],
=======
   "execution_count": null,
   "metadata": {},
   "outputs": [],
>>>>>>> 93f93b9c992f6cbc5a5b3442873cc731fb57ae01
   "source": [
    "# all together now\n",
    "\n",
    "fig, ax = plt.subplots(figsize=(3.3,3.3))\n",
    "fig.subplots_adjust(left=0.2, right=0.9, bottom=0.2, top=0.9)\n",
    "l1, = plt.plot(rbin_centers, halo_omega, '-', color='black')\n",
    "l2, = plt.plot(rbin_centers, halo_omega_1h, '-', color='red')\n",
    "l3, = plt.plot(rbin_centers, halo_omega_2h, '-', color='blue')\n",
    "l4, = plt.plot(rbin_centers, halo_omega_1h_cc, '-', color='red')\n",
    "l5, = plt.plot(rbin_centers, halo_omega_1h_sc, '--', color='red')\n",
    "l6, = plt.plot(rbin_centers, halo_omega_1h_cs, ':', color='red')\n",
    "l7, = plt.plot(rbin_centers, halo_omega_1h_ss, '-.', color='red')\n",
    "l8, = plt.plot(rbin_centers, halo_omega_2h_cc, '-', color='blue')\n",
    "l9, = plt.plot(rbin_centers, halo_omega_2h_sc, '--', color='blue')\n",
    "l10, = plt.plot(rbin_centers, halo_omega_2h_cs, ':', color='blue')\n",
    "l11, = plt.plot(rbin_centers, halo_omega_2h_ss, '-.', color='blue')\n",
    "l1, = plt.plot(rbin_centers, galaxy_omega, 'o', color='black')\n",
    "l2, = plt.plot(rbin_centers, galaxy_omega_1h, 'o', color='red')\n",
    "l3, = plt.plot(rbin_centers, galaxy_omega_2h, 'o', color='blue')\n",
    "l4, = plt.plot(rbin_centers, galaxy_omega_1h_cc, 'o', color='red')\n",
    "l5, = plt.plot(rbin_centers, galaxy_omega_1h_sc, 'o', color='red')\n",
    "l6, = plt.plot(rbin_centers, galaxy_omega_1h_cs, 'o', color='red')\n",
    "l7, = plt.plot(rbin_centers, galaxy_omega_1h_ss, 'o', color='red')\n",
    "l8, = plt.plot(rbin_centers, galaxy_omega_2h_cc, 'o', color='blue')\n",
    "l9, = plt.plot(rbin_centers, galaxy_omega_2h_sc, 'o', color='blue')\n",
    "l10, = plt.plot(rbin_centers, galaxy_omega_2h_cs, 'o', color='blue')\n",
    "l11, = plt.plot(rbin_centers, galaxy_omega_2h_ss, 'o', color='blue')\n",
    "plt.xscale('log')\n",
    "plt.yscale('log')\n",
    "plt.xlabel(r'$r~[h^{-1}\\rm Mpc]$')\n",
    "plt.ylabel(r'$\\omega(r)$')\n",
    "plt.ylim([0.001,0.5])\n",
    "plt.show()\n",
    "\n",
    "filename = \"total_decomp_ee.pdf\"\n",
    "#fig.savefig('/Users/duncan/Projects/intrinsic_alignments/halo_shape_correlations/figures/'+filename, dpi=250)\n",
    "\n",
    "fig, ax = plt.subplots(figsize=(3.3,3.3))\n",
    "fig.subplots_adjust(left=0.2, right=0.9, bottom=0.2, top=0.9)\n",
    "l1, = plt.plot(rbin_centers, halo_eta, '-', color='black')\n",
    "l2, = plt.plot(rbin_centers, halo_eta_1h, '-', color='red')\n",
    "l3, = plt.plot(rbin_centers, halo_eta_2h, '-', color='blue')\n",
    "l4, = plt.plot(rbin_centers, halo_eta_1h_cc, '-', color='red')\n",
    "l5, = plt.plot(rbin_centers, halo_eta_1h_sc, '--', color='red')\n",
    "l6, = plt.plot(rbin_centers, halo_eta_1h_cs, ':', color='red')\n",
    "l7, = plt.plot(rbin_centers, halo_eta_1h_ss, '-.', color='red')\n",
    "l8, = plt.plot(rbin_centers, halo_eta_2h_cc, '-', color='blue')\n",
    "l9, = plt.plot(rbin_centers, halo_eta_2h_sc, '--', color='blue')\n",
    "l10, = plt.plot(rbin_centers, halo_eta_2h_cs, ':', color='blue')\n",
    "l11, = plt.plot(rbin_centers, halo_eta_2h_ss, '-.', color='blue')\n",
    "l1, = plt.plot(rbin_centers, galaxy_eta, 'o', color='black')\n",
    "l2, = plt.plot(rbin_centers, galaxy_eta_1h, 'o', color='red')\n",
    "l3, = plt.plot(rbin_centers, galaxy_eta_2h, 'o', color='blue')\n",
    "l4, = plt.plot(rbin_centers, galaxy_eta_1h_cc, 'o', color='red')\n",
    "l5, = plt.plot(rbin_centers, galaxy_eta_1h_sc, 'x', color='red')\n",
    "l6, = plt.plot(rbin_centers, galaxy_eta_1h_cs, 'o', color='red')\n",
    "l7, = plt.plot(rbin_centers, galaxy_eta_1h_ss, 'o', color='red')\n",
    "l8, = plt.plot(rbin_centers, galaxy_eta_2h_cc, 'o', color='blue')\n",
    "l9, = plt.plot(rbin_centers, galaxy_eta_2h_sc, 'o', color='blue')\n",
    "l10, = plt.plot(rbin_centers, galaxy_eta_2h_cs, 'o', color='blue')\n",
    "l11, = plt.plot(rbin_centers, galaxy_eta_2h_ss, 'o', color='blue')\n",
    "plt.xscale('log')\n",
    "plt.yscale('log')\n",
    "plt.xlabel(r'$r~[h^{-1}\\rm Mpc]$')\n",
    "plt.ylabel(r'$\\eta(r)$')\n",
    "plt.ylim([0.005,0.5])\n",
    "plt.show()\n",
    "\n",
    "filename = \"total_decomp_ed.pdf\"\n",
    "#fig.savefig('/Users/duncan/Projects/intrinsic_alignments/halo_shape_correlations/figures/'+filename, dpi=250)"
   ]
  },
  {
   "cell_type": "code",
<<<<<<< HEAD
   "execution_count": 39,
=======
   "execution_count": null,
>>>>>>> 93f93b9c992f6cbc5a5b3442873cc731fb57ae01
   "metadata": {},
   "outputs": [],
   "source": [
    "from halotools.mock_observables import tpcf"
   ]
  },
  {
   "cell_type": "code",
<<<<<<< HEAD
   "execution_count": 40,
=======
   "execution_count": null,
>>>>>>> 93f93b9c992f6cbc5a5b3442873cc731fb57ae01
   "metadata": {},
   "outputs": [],
   "source": [
    "xi_sub = tpcf(halo_coords[halo_mask], rbins, period=halocat.Lbox)\n",
    "xi_gal = tpcf(galaxy_coords[gal_mask], rbins, period=halocat.Lbox)"
   ]
  },
  {
   "cell_type": "code",
<<<<<<< HEAD
   "execution_count": 41,
   "metadata": {},
   "outputs": [
    {
     "data": {
      "image/png": "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\n",
      "text/plain": [
       "<Figure size 237.6x237.6 with 1 Axes>"
      ]
     },
     "metadata": {
      "needs_background": "light"
     },
     "output_type": "display_data"
    },
    {
     "data": {
      "image/png": "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\n",
      "text/plain": [
       "<Figure size 237.6x237.6 with 1 Axes>"
      ]
     },
     "metadata": {
      "needs_background": "light"
     },
     "output_type": "display_data"
    }
   ],
=======
   "execution_count": null,
   "metadata": {},
   "outputs": [],
>>>>>>> 93f93b9c992f6cbc5a5b3442873cc731fb57ae01
   "source": [
    "fig, ax = plt.subplots(figsize=(3.3,3.3))\n",
    "fig.subplots_adjust(left=0.2, right=0.9, bottom=0.2, top=0.9)\n",
    "plt.plot(rbin_centers,xi_sub)\n",
    "plt.plot(rbin_centers,xi_gal, 'o')\n",
    "plt.xlabel(r'$r~[h^{-1}\\rm Mpc]$')\n",
    "plt.xscale('log')\n",
    "plt.yscale('log')\n",
    "\n",
    "fig, ax = plt.subplots(figsize=(3.3,3.3))\n",
    "fig.subplots_adjust(left=0.2, right=0.9, bottom=0.2, top=0.9)\n",
    "plt.plot(rbin_centers,(xi_gal-xi_sub)/xi_sub, 'o')\n",
    "plt.xlabel(r'$r~[h^{-1}\\rm Mpc]$')\n",
    "plt.xscale('log')"
   ]
  },
  {
   "cell_type": "code",
<<<<<<< HEAD
   "execution_count": 42,
   "metadata": {},
   "outputs": [
    {
     "data": {
      "text/plain": [
       "array([2.13057863e-01, 2.22817675e-01, 1.90744028e-01, 1.55756942e-01,\n",
       "       1.02971383e-01, 6.46017236e-02, 3.94568675e-02, 2.61219982e-02,\n",
       "       1.49439800e-02, 1.00463547e-02, 7.33226489e-03, 3.72843218e-03,\n",
       "       4.88577794e-03, 2.78961508e-03, 1.84773596e-03, 1.59097714e-03,\n",
       "       1.09683165e-03, 4.15028066e-04, 1.72791938e-04])"
      ]
     },
     "execution_count": 42,
     "metadata": {},
     "output_type": "execute_result"
    }
   ],
=======
   "execution_count": null,
   "metadata": {},
   "outputs": [],
>>>>>>> 93f93b9c992f6cbc5a5b3442873cc731fb57ae01
   "source": [
    "galaxy_eta"
   ]
  },
  {
   "cell_type": "code",
<<<<<<< HEAD
   "execution_count": 43,
   "metadata": {},
   "outputs": [
    {
     "data": {
      "text/html": [
       "<i>Table length=1367493</i>\n",
       "<table id=\"table47636563049440\" class=\"table-striped table-bordered table-condensed\">\n",
       "<thead><tr><th>halo_id</th><th>halo_upid</th><th>halo_hostid</th><th>x</th><th>y</th><th>z</th><th>vx</th><th>vy</th><th>vz</th><th>halo_mpeak</th><th>galaxy_axisA_x</th><th>galaxy_axisA_y</th><th>galaxy_axisA_z</th><th>galaxy_axisB_x</th><th>galaxy_axisB_y</th><th>galaxy_axisB_z</th><th>galaxy_axisC_x</th><th>galaxy_axisC_y</th><th>galaxy_axisC_z</th><th>gal_type</th><th>halo_x</th><th>halo_y</th><th>halo_z</th><th>halo_mvir</th><th>halo_rvir</th><th>halo_axisA_x</th><th>halo_axisA_y</th><th>halo_axisA_z</th></tr></thead>\n",
       "<thead><tr><th>int64</th><th>int64</th><th>int64</th><th>float32</th><th>float32</th><th>float32</th><th>float32</th><th>float32</th><th>float32</th><th>float32</th><th>float64</th><th>float64</th><th>float64</th><th>float64</th><th>float64</th><th>float64</th><th>float64</th><th>float64</th><th>float64</th><th>str10</th><th>float64</th><th>float64</th><th>float64</th><th>float64</th><th>float64</th><th>float32</th><th>float32</th><th>float32</th></tr></thead>\n",
       "<tr><td>3060299107</td><td>-1</td><td>3060299107</td><td>35.72499</td><td>43.2765</td><td>17.71299</td><td>48.16</td><td>-34.49</td><td>-82.51</td><td>164300000000000.0</td><td>0.787472029638212</td><td>-0.5476818669008149</td><td>0.28272314232392254</td><td>0.5644941720180432</td><td>0.45670338679977895</td><td>-0.6875815197075003</td><td>0.24745531373389185</td><td>0.7010467810022736</td><td>0.668804364931339</td><td>centrals</td><td>35.72499084472656</td><td>43.2765007019043</td><td>17.712989807128906</td><td>164299997708288.0</td><td>1.1335829496383667</td><td>51.3941</td><td>-20.2019</td><td>17.9174</td></tr>\n",
       "<tr><td>3060312953</td><td>-1</td><td>3060312953</td><td>45.20892</td><td>49.70751</td><td>39.91124</td><td>-14.21</td><td>264.96</td><td>-132.11</td><td>158900000000000.0</td><td>0.6949095618829523</td><td>0.012791974396678799</td><td>0.7189833559928062</td><td>0.6867855228248994</td><td>0.28453876006480444</td><td>-0.6688522554786769</td><td>-0.21313457354866905</td><td>0.958579187867032</td><td>0.18894336227136596</td><td>centrals</td><td>45.208919525146484</td><td>49.70751190185547</td><td>39.91123962402344</td><td>158899999080448.0</td><td>1.1208980083465576</td><td>47.9605</td><td>-3.02158</td><td>41.3292</td></tr>\n",
       "<tr><td>3058440575</td><td>-1</td><td>3058440575</td><td>21.81201</td><td>13.89226</td><td>9.54759</td><td>-4.75</td><td>104.38</td><td>-61.29</td><td>114400000000000.0</td><td>-0.8588909098256703</td><td>-0.3418593312005444</td><td>-0.38136413398476376</td><td>0.3231834137966253</td><td>0.215886696336546</td><td>-0.9213823394181436</td><td>0.3973145933206981</td><td>-0.9146174785209435</td><td>-0.07493985534013109</td><td>centrals</td><td>21.812009811401367</td><td>13.89225959777832</td><td>9.547590255737305</td><td>114400002310144.0</td><td>1.0046019554138184</td><td>40.1133</td><td>18.3443</td><td>11.6084</td></tr>\n",
       "<tr><td>3058441456</td><td>-1</td><td>3058441456</td><td>26.18034</td><td>14.31423</td><td>6.51834</td><td>-271.94</td><td>78.85</td><td>423.44</td><td>97090000000000.0</td><td>-0.7754631636112703</td><td>0.1557676041708253</td><td>0.6118768956030953</td><td>-0.32610035095110385</td><td>0.7310253462249402</td><td>-0.5993834367800576</td><td>-0.5406620413821993</td><td>-0.6643330464967007</td><td>-0.5160873572766976</td><td>centrals</td><td>26.180339813232422</td><td>14.314229965209961</td><td>6.518340110778809</td><td>97090000650240.0</td><td>0.9511829614639282</td><td>49.1656</td><td>-6.97703</td><td>-40.8122</td></tr>\n",
       "<tr><td>3058452345</td><td>-1</td><td>3058452345</td><td>1.74397</td><td>29.73324</td><td>17.82519</td><td>317.08</td><td>238.52</td><td>179.34</td><td>85270000000000.0</td><td>-0.8484217375021345</td><td>0.5289895230311689</td><td>0.01872538002593473</td><td>-0.34740362887349013</td><td>-0.5831780182865827</td><td>0.7343120029203286</td><td>0.3993635861960747</td><td>0.6165010004132927</td><td>0.6785537874848387</td><td>centrals</td><td>1.7439700365066528</td><td>29.733240127563477</td><td>17.8251895904541</td><td>85269998993408.0</td><td>0.9108850359916687</td><td>37.9641</td><td>-19.6549</td><td>-1.47247</td></tr>\n",
       "<tr><td>3058463669</td><td>-1</td><td>3058463669</td><td>10.27388</td><td>26.23833</td><td>22.29268</td><td>-57.3</td><td>186.67</td><td>-187.27</td><td>84390000000000.0</td><td>-0.805926201523212</td><td>-0.31588451985926835</td><td>-0.5006994385972952</td><td>0.5042405872975874</td><td>-0.8094163011451797</td><td>-0.3009762142798662</td><td>-0.3102005606380349</td><td>-0.49503759610128134</td><td>0.8116116008449569</td><td>centrals</td><td>10.273880004882812</td><td>26.238330841064453</td><td>22.292680740356445</td><td>84260002201600.0</td><td>0.9072589874267578</td><td>44.0497</td><td>15.0645</td><td>29.0486</td></tr>\n",
       "<tr><td>3058683023</td><td>-1</td><td>3058683023</td><td>12.02348</td><td>36.63193</td><td>33.6698</td><td>-306.38</td><td>-77.55</td><td>-386.58</td><td>83570000000000.0</td><td>0.4072791009268937</td><td>0.9112858494278292</td><td>0.06067812275261129</td><td>0.8935165437208775</td><td>-0.38382011320656534</td><td>-0.23304571825115514</td><td>-0.18908178136795328</td><td>0.149131557125577</td><td>-0.9705708931469262</td><td>centrals</td><td>12.023480415344238</td><td>36.63193130493164</td><td>33.6697998046875</td><td>83569997250560.0</td><td>0.9048089981079102</td><td>16.7726</td><td>38.7455</td><td>4.32532</td></tr>\n",
       "<tr><td>3060115960</td><td>-1</td><td>3060115960</td><td>45.82376</td><td>6.50973</td><td>41.8451</td><td>-233.79</td><td>179.51</td><td>64.62</td><td>77950000000000.0</td><td>-0.7293595250722779</td><td>0.10548276200888626</td><td>-0.6759497541277146</td><td>-0.49405276467160025</td><td>0.6022411872120859</td><td>0.6270705049240681</td><td>0.47322991125529</td><td>0.7913146904641377</td><td>-0.387136296088285</td><td>centrals</td><td>45.823760986328125</td><td>6.509729862213135</td><td>41.84510040283203</td><td>77949998989312.0</td><td>0.8840529918670654</td><td>25.4422</td><td>-2.93612</td><td>35.2637</td></tr>\n",
       "<tr><td>3058477222</td><td>-1</td><td>3058477222</td><td>14.5065</td><td>24.59419</td><td>38.47238</td><td>-31.82</td><td>239.24</td><td>-397.53</td><td>72840000000000.0</td><td>-0.18998464076111077</td><td>-0.3261486549530159</td><td>0.9260307182524833</td><td>-0.7641844747234627</td><td>0.6412876161892118</td><td>0.06908170462563445</td><td>-0.6163829368716309</td><td>-0.6945338351690986</td><td>-0.37107253595329087</td><td>centrals</td><td>14.506500244140625</td><td>24.59419059753418</td><td>38.472381591796875</td><td>72840002928640.0</td><td>0.8642839789390564</td><td>-10.283</td><td>-11.0193</td><td>42.6866</td></tr>\n",
       "<tr><td>3058476367</td><td>-1</td><td>3058476367</td><td>10.37234</td><td>33.42063</td><td>32.93552</td><td>-16.72</td><td>315.94</td><td>-417.13</td><td>72740000000000.0</td><td>0.35593668930418804</td><td>-0.8840397568794881</td><td>0.3029567319991906</td><td>-0.40077562987431714</td><td>-0.43726509988079026</td><td>-0.8050951042734559</td><td>0.844208485923956</td><td>0.16514521089846365</td><td>-0.5099402823971487</td><td>centrals</td><td>10.372340202331543</td><td>33.420631408691406</td><td>32.93552017211914</td><td>72489996648448.0</td><td>0.8629170060157776</td><td>-18.4611</td><td>47.3245</td><td>-18.578</td></tr>\n",
       "<tr><td>...</td><td>...</td><td>...</td><td>...</td><td>...</td><td>...</td><td>...</td><td>...</td><td>...</td><td>...</td><td>...</td><td>...</td><td>...</td><td>...</td><td>...</td><td>...</td><td>...</td><td>...</td><td>...</td><td>...</td><td>...</td><td>...</td><td>...</td><td>...</td><td>...</td><td>...</td><td>...</td><td>...</td></tr>\n",
       "<tr><td>3071567605</td><td>-1</td><td>3071567605</td><td>236.8697</td><td>229.11296</td><td>219.26624</td><td>1159.99</td><td>-670.81</td><td>200.4</td><td>45250000000.0</td><td>0.048292057011175636</td><td>-0.8431658340372966</td><td>-0.5354803951050116</td><td>0.8100359981452173</td><td>0.34672023201724367</td><td>-0.47289191409749254</td><td>0.5843881919910009</td><td>-0.41092147306036336</td><td>0.699738511187851</td><td>centrals</td><td>236.8697052001953</td><td>229.1129608154297</td><td>219.2662353515625</td><td>1636000000.0</td><td>0.024382999166846275</td><td>-0.0533</td><td>6.26461</td><td>5.58402</td></tr>\n",
       "<tr><td>3071570614</td><td>3071570615</td><td>3071570615</td><td>223.5538</td><td>226.35213</td><td>223.46526</td><td>1369.15</td><td>133.21</td><td>-389.12</td><td>80550000000.0</td><td>0.6269922337834034</td><td>0.643833727322962</td><td>-0.43858735770279555</td><td>0.3546543278422256</td><td>-0.7371744199349592</td><td>-0.5751470962600225</td><td>-0.6936144797494335</td><td>0.20506585809192693</td><td>-0.6905410540488847</td><td>satellites</td><td>223.49913024902344</td><td>226.34030151367188</td><td>223.4993133544922</td><td>3793999888384.0</td><td>0.32276099920272827</td><td>2.63821</td><td>0.51768</td><td>-1.9973</td></tr>\n",
       "<tr><td>3071591661</td><td>3071591676</td><td>3071591676</td><td>244.92746</td><td>230.53673</td><td>245.13266</td><td>510.06</td><td>-151.45</td><td>-425.21</td><td>47980000000.0</td><td>-0.12924477204670706</td><td>-0.3765185438843836</td><td>-0.9173492110476676</td><td>0.6941482319182987</td><td>0.6262886188591722</td><td>-0.35485320628700845</td><td>0.7081341829224844</td><td>-0.6826392546569924</td><td>0.18041515174189654</td><td>satellites</td><td>244.9674835205078</td><td>230.55441284179688</td><td>244.9156951904297</td><td>8182000254976.0</td><td>0.4170140027999878</td><td>-6.28383</td><td>-4.38742</td><td>9.03029</td></tr>\n",
       "<tr><td>3071559812</td><td>3071559728</td><td>3071559728</td><td>225.82323</td><td>233.70894</td><td>214.68483</td><td>646.81</td><td>33.98</td><td>83.93</td><td>59560000000.0</td><td>0.8714422821566752</td><td>0.331092223872566</td><td>-0.36189264728740267</td><td>-0.10609680198922826</td><td>0.8475772099208951</td><td>0.519958019296144</td><td>0.47888601720787827</td><td>-0.41471775042048714</td><td>0.7737424442338331</td><td>satellites</td><td>225.5148468017578</td><td>233.34478759765625</td><td>214.71554565429688</td><td>16729999671296.0</td><td>0.529263973236084</td><td>8.27042</td><td>4.44162</td><td>-1.39503</td></tr>\n",
       "<tr><td>3071544205</td><td>3071544288</td><td>3071544288</td><td>246.72331</td><td>246.0007</td><td>207.2011</td><td>163.59</td><td>-446.84</td><td>104.15</td><td>49610000000.0</td><td>-0.27738763164700014</td><td>0.34605125803923376</td><td>0.8962726307428628</td><td>-0.8303744745096511</td><td>-0.5555839697748363</td><td>-0.042481579679369295</td><td>0.483253902097116</td><td>-0.7560257795463707</td><td>0.4414642531046127</td><td>satellites</td><td>246.8032684326172</td><td>245.9345703125</td><td>207.3284454345703</td><td>40269999243264.0</td><td>0.7093389630317688</td><td>5.38491</td><td>-2.60852</td><td>1.73772</td></tr>\n",
       "<tr><td>3071558476</td><td>-1</td><td>3071558476</td><td>227.97931</td><td>228.33156</td><td>218.71635</td><td>501.36</td><td>-235.72</td><td>127.44</td><td>47570000000.0</td><td>-0.6321643109088483</td><td>-0.3369293061498241</td><td>0.6977441699294514</td><td>0.4366224866764368</td><td>-0.8988231276433113</td><td>-0.038442025726807834</td><td>0.6401008421660026</td><td>0.28034911783505573</td><td>0.7153148146008723</td><td>centrals</td><td>227.97930908203125</td><td>228.33155822753906</td><td>218.7163543701172</td><td>1227000064.0</td><td>0.022153999656438828</td><td>-5.95161</td><td>-4.06474</td><td>8.30845</td></tr>\n",
       "<tr><td>3071559040</td><td>3071559245</td><td>3071559245</td><td>226.2357</td><td>223.46529</td><td>216.67805</td><td>612.28</td><td>-229.63</td><td>195.54</td><td>63790000000.0</td><td>0.46748374492388023</td><td>0.8348696671337026</td><td>0.2906055524796545</td><td>-0.37421088826019505</td><td>0.48472561100114037</td><td>-0.7905740276198598</td><td>-0.8008902292695674</td><td>0.2608327451445309</td><td>0.5390186636109253</td><td>satellites</td><td>226.3123779296875</td><td>223.71864318847656</td><td>217.02471923828125</td><td>24160000540672.0</td><td>0.5982599854469299</td><td>0.72992</td><td>8.50842</td><td>-2.29393</td></tr>\n",
       "<tr><td>3071570821</td><td>3071570713</td><td>3071570713</td><td>229.76892</td><td>245.94423</td><td>221.45229</td><td>-228.94</td><td>-383.12</td><td>108.27</td><td>54790000000.0</td><td>0.9842364622749338</td><td>0.1419234324733144</td><td>0.10552879059060474</td><td>0.1371772393402904</td><td>-0.9892334224289154</td><td>0.0509866743037014</td><td>0.1116288105083085</td><td>-0.035706795775700566</td><td>-0.9931082687199482</td><td>satellites</td><td>229.60061645507812</td><td>245.86001586914062</td><td>221.48081970214844</td><td>13919999492096.0</td><td>0.4977969825267792</td><td>5.1112</td><td>1.12402</td><td>-2.23591</td></tr>\n",
       "<tr><td>3071577824</td><td>3071578123</td><td>3071578123</td><td>223.34944</td><td>248.9476</td><td>229.08696</td><td>423.5</td><td>820.47</td><td>-682.48</td><td>53020000000.0</td><td>-0.10423386697771897</td><td>-0.9940147855738245</td><td>-0.032709433432805024</td><td>-0.9914361838205817</td><td>0.10124937067842177</td><td>0.08247944197498773</td><td>-0.07867397527869688</td><td>0.04102646704077092</td><td>-0.9960558391054186</td><td>satellites</td><td>223.44024658203125</td><td>249.1728973388672</td><td>229.07521057128906</td><td>58909997924352.0</td><td>0.8052510023117065</td><td>12.0142</td><td>6.43077</td><td>0.15535</td></tr>\n",
       "<tr><td>3071560014</td><td>-1</td><td>3071560014</td><td>231.29553</td><td>232.47672</td><td>217.40337</td><td>569.88</td><td>-42.85</td><td>109.2</td><td>84230000000.0</td><td>-0.9469625584649393</td><td>0.0631083672298645</td><td>-0.31508609434742924</td><td>-0.18618479611837044</td><td>-0.9069269283976962</td><td>0.3779137047547774</td><td>-0.26191054686647763</td><td>0.41653436896935747</td><td>0.8705756629422867</td><td>centrals</td><td>231.2955322265625</td><td>232.47671508789062</td><td>217.4033660888672</td><td>681500032.0</td><td>0.018211999908089638</td><td>10.8185</td><td>0.21362</td><td>4.74548</td></tr>\n",
       "</table>"
      ],
      "text/plain": [
       "<Table length=1367493>\n",
       " halo_id   halo_upid  halo_hostid ... halo_axisA_x halo_axisA_y halo_axisA_z\n",
       "  int64      int64       int64    ...   float32      float32      float32   \n",
       "---------- ---------- ----------- ... ------------ ------------ ------------\n",
       "3060299107         -1  3060299107 ...      51.3941     -20.2019      17.9174\n",
       "3060312953         -1  3060312953 ...      47.9605     -3.02158      41.3292\n",
       "3058440575         -1  3058440575 ...      40.1133      18.3443      11.6084\n",
       "3058441456         -1  3058441456 ...      49.1656     -6.97703     -40.8122\n",
       "3058452345         -1  3058452345 ...      37.9641     -19.6549     -1.47247\n",
       "3058463669         -1  3058463669 ...      44.0497      15.0645      29.0486\n",
       "3058683023         -1  3058683023 ...      16.7726      38.7455      4.32532\n",
       "3060115960         -1  3060115960 ...      25.4422     -2.93612      35.2637\n",
       "3058477222         -1  3058477222 ...      -10.283     -11.0193      42.6866\n",
       "3058476367         -1  3058476367 ...     -18.4611      47.3245      -18.578\n",
       "       ...        ...         ... ...          ...          ...          ...\n",
       "3071567605         -1  3071567605 ...      -0.0533      6.26461      5.58402\n",
       "3071570614 3071570615  3071570615 ...      2.63821      0.51768      -1.9973\n",
       "3071591661 3071591676  3071591676 ...     -6.28383     -4.38742      9.03029\n",
       "3071559812 3071559728  3071559728 ...      8.27042      4.44162     -1.39503\n",
       "3071544205 3071544288  3071544288 ...      5.38491     -2.60852      1.73772\n",
       "3071558476         -1  3071558476 ...     -5.95161     -4.06474      8.30845\n",
       "3071559040 3071559245  3071559245 ...      0.72992      8.50842     -2.29393\n",
       "3071570821 3071570713  3071570713 ...       5.1112      1.12402     -2.23591\n",
       "3071577824 3071578123  3071578123 ...      12.0142      6.43077      0.15535\n",
       "3071560014         -1  3071560014 ...      10.8185      0.21362      4.74548"
      ]
     },
     "execution_count": 43,
     "metadata": {},
     "output_type": "execute_result"
    }
   ],
=======
   "execution_count": null,
   "metadata": {},
   "outputs": [],
>>>>>>> 93f93b9c992f6cbc5a5b3442873cc731fb57ae01
   "source": [
    "table"
   ]
  },
  {
   "cell_type": "code",
<<<<<<< HEAD
   "execution_count": 44,
   "metadata": {},
   "outputs": [
    {
     "data": {
      "text/plain": [
       "array([[ 0.78747203, -0.54768187,  0.28272314],\n",
       "       [ 0.69490956,  0.01279197,  0.71898336],\n",
       "       [-0.85889091, -0.34185933, -0.38136413],\n",
       "       ...,\n",
       "       [ 0.98423646,  0.14192343,  0.10552879],\n",
       "       [-0.10423387, -0.99401479, -0.03270943],\n",
       "       [-0.94696256,  0.06310837, -0.31508609]])"
      ]
     },
     "execution_count": 44,
     "metadata": {},
     "output_type": "execute_result"
    }
   ],
=======
   "execution_count": null,
   "metadata": {},
   "outputs": [],
>>>>>>> 93f93b9c992f6cbc5a5b3442873cc731fb57ae01
   "source": [
    "galaxy_orientations"
   ]
  },
  {
   "cell_type": "code",
<<<<<<< HEAD
   "execution_count": 45,
   "metadata": {},
   "outputs": [
    {
     "data": {
      "text/plain": [
       "array([[ 0.78747203, -0.54768187,  0.28272314],\n",
       "       [ 0.69490956,  0.01279197,  0.71898336],\n",
       "       [-0.85889091, -0.34185933, -0.38136413],\n",
       "       ...,\n",
       "       [ 0.98423646,  0.14192343,  0.10552879],\n",
       "       [-0.10423387, -0.99401479, -0.03270943],\n",
       "       [-0.94696256,  0.06310837, -0.31508609]])"
      ]
     },
     "execution_count": 45,
     "metadata": {},
     "output_type": "execute_result"
    }
   ],
=======
   "execution_count": null,
   "metadata": {},
   "outputs": [],
>>>>>>> 93f93b9c992f6cbc5a5b3442873cc731fb57ae01
   "source": [
    "galaxy_orientations"
   ]
  },
  {
   "cell_type": "code",
   "execution_count": null,
   "metadata": {},
   "outputs": [],
   "source": []
  }
 ],
 "metadata": {
  "kernelspec": {
   "display_name": "Python 3",
   "language": "python",
   "name": "python3"
  },
  "language_info": {
   "codemirror_mode": {
    "name": "ipython",
    "version": 3
   },
   "file_extension": ".py",
   "mimetype": "text/x-python",
   "name": "python",
   "nbconvert_exporter": "python",
   "pygments_lexer": "ipython3",
<<<<<<< HEAD
   "version": "3.8.5"
=======
   "version": "3.8.1"
>>>>>>> 93f93b9c992f6cbc5a5b3442873cc731fb57ae01
  }
 },
 "nbformat": 4,
 "nbformat_minor": 4
}
