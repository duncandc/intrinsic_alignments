{
 "cells": [
  {
   "cell_type": "code",
   "execution_count": 1,
   "metadata": {},
   "outputs": [],
   "source": [
    "from __future__ import print_function, division\n",
    "import numpy as np\n",
    "import matplotlib.pyplot as plt\n",
    "%matplotlib inline"
   ]
  },
  {
   "cell_type": "markdown",
   "metadata": {},
   "source": [
    "# Modelling Sub-halo Alignment 2-point Correlations"
   ]
  },
  {
   "cell_type": "code",
   "execution_count": 2,
   "metadata": {},
   "outputs": [
    {
     "name": "stdout",
     "output_type": "stream",
     "text": [
      "halo_vmax_firstacc\n",
      "halo_dmvir_dt_tdyn\n",
      "halo_macc\n",
      "halo_scale_factor\n",
      "halo_vmax_mpeak\n",
      "halo_m_pe_behroozi\n",
      "halo_xoff\n",
      "halo_spin\n",
      "halo_scale_factor_firstacc\n",
      "halo_c_to_a\n",
      "halo_mvir_firstacc\n",
      "halo_scale_factor_last_mm\n",
      "halo_scale_factor_mpeak\n",
      "halo_pid\n",
      "halo_m500c\n",
      "halo_id\n",
      "halo_halfmass_scale_factor\n",
      "halo_upid\n",
      "halo_t_by_u\n",
      "halo_rvir\n",
      "halo_vpeak\n",
      "halo_dmvir_dt_100myr\n",
      "halo_mpeak\n",
      "halo_m_pe_diemer\n",
      "halo_jx\n",
      "halo_jy\n",
      "halo_jz\n",
      "halo_m2500c\n",
      "halo_mvir\n",
      "halo_voff\n",
      "halo_axisA_z\n",
      "halo_axisA_x\n",
      "halo_axisA_y\n",
      "halo_y\n",
      "halo_b_to_a\n",
      "halo_x\n",
      "halo_z\n",
      "halo_m200b\n",
      "halo_vacc\n",
      "halo_scale_factor_lastacc\n",
      "halo_vmax\n",
      "halo_m200c\n",
      "halo_vx\n",
      "halo_vy\n",
      "halo_vz\n",
      "halo_dmvir_dt_inst\n",
      "halo_rs\n",
      "halo_nfw_conc\n",
      "halo_hostid\n",
      "halo_mvir_host_halo\n"
     ]
    }
   ],
   "source": [
    "from halotools.sim_manager import CachedHaloCatalog\n",
    "halocat = CachedHaloCatalog(simname='bolshoi', halo_finder='rockstar', redshift=0.0, dz_tol=0.001, version_name='halotools_v0p4')\n",
    "for name in halocat.halo_table.dtype.names:\n",
    "    print(name)"
   ]
  },
  {
   "cell_type": "markdown",
   "metadata": {},
   "source": [
    "## Alignment Models"
   ]
  },
  {
   "cell_type": "code",
   "execution_count": 3,
   "metadata": {},
   "outputs": [],
   "source": [
    "from intrinsic_alignments.ia_models.ia_model_components import CentralAlignment\n",
    "from intrinsic_alignments.ia_models.ia_model_components import RadialSatelliteAlignment\n",
    "from intrinsic_alignments.ia_models.ia_model_components import MajorAxisSatelliteAlignment\n",
    "from intrinsic_alignments.ia_models.ia_model_components import HybridSatelliteAlignment\n",
    "from intrinsic_alignments.ia_models.ia_model_components import RadialSatelliteAlignmentStrength"
   ]
  },
  {
   "cell_type": "code",
   "execution_count": 4,
   "metadata": {},
   "outputs": [],
   "source": [
    "# create a model table\n",
    "from intrinsic_alignments.utils.value_added_halocat import halocat_to_galaxy_table\n",
    "table = halocat_to_galaxy_table(halocat)"
   ]
  },
  {
   "cell_type": "code",
   "execution_count": 5,
   "metadata": {},
   "outputs": [
    {
     "name": "stderr",
     "output_type": "stream",
     "text": [
      "/home/nvanalfen/github_repos/intrinsic_alignments/intrinsic_alignments/ia_models/ia_model_components.py:189: UserWarning: `central_alignment_strength` not detected in the table, using value in self.param_dict.\n",
      "  warn(msg)\n",
      "/home/nvanalfen/miniconda3/lib/python3.8/site-packages/scipy/stats/_distn_infrastructure.py:1051: VisibleDeprecationWarning: The signature of <bound method DimrothWatson._rvs of <watson_dist.watson_dist.watson_distribution.DimrothWatson object at 0x2ba77b15a100>> does not contain a \"size\" keyword.  Such signatures are deprecated.\n",
      "  warnings.warn(\n"
     ]
    }
   ],
   "source": [
    "# apply central alignments to model\n",
    "cen_alignment_model = CentralAlignment(central_alignment_strength=0.99)\n",
    "table = cen_alignment_model.assign_central_orientation(table=table)"
   ]
  },
  {
   "cell_type": "code",
   "execution_count": 6,
   "metadata": {},
   "outputs": [
    {
     "name": "stderr",
     "output_type": "stream",
     "text": [
      "/home/nvanalfen/github_repos/intrinsic_alignments/intrinsic_alignments/ia_models/ia_model_components.py:583: UserWarning: 1033105 galaxies have a radial distance equal to zero (or infinity) from their host. These galaxies will be re-assigned random alignment vectors.\n",
      "  warn(msg)\n",
      "/home/nvanalfen/github_repos/intrinsic_alignments/intrinsic_alignments/ia_models/ia_model_components.py:592: UserWarning: `satellite_alignment_strength` key not detected in `table`.The value set in self.param_dict of this class will be used instead.\n",
      "  warn(msg)\n",
      "/home/nvanalfen/miniconda3/lib/python3.8/site-packages/scipy/stats/_distn_infrastructure.py:1051: VisibleDeprecationWarning: The signature of <bound method DimrothWatson._rvs of <watson_dist.watson_dist.watson_distribution.DimrothWatson object at 0x2ba7a5093ee0>> does not contain a \"size\" keyword.  Such signatures are deprecated.\n",
      "  warnings.warn(\n"
     ]
    },
    {
     "data": {
      "text/plain": [
       "'\\nr_sample = np.logspace(-2,0,100)\\nfig, ax = plt.subplots(figsize=(3.3,3.3))\\nfig.subplots_adjust(left=0.2, right=0.9, bottom=0.2, top=0.9)\\nplt.plot(r_sample, sat_alignment_strength.alignment_strength_radial_dependence(r_sample), \\'-\\', color=\\'black\\')\\nplt.ylim([0,1])\\nplt.xlim([0.09,1.01])\\nplt.xscale(\\'log\\')\\nplt.ylabel(\\'alignment strength\\')\\nplt.xlabel(r\\'$r/r_{\\rm vir}$\\')\\nplt.show()\\n\\nfilename = \"radial_subhalo_alignment_strength.pdf\"\\nfig.savefig(\\'/Users/duncan/Projects/intrinsic_alignments/halo_shape_correlations/figures/\\'+filename, dpi=250)\\n'"
      ]
     },
     "execution_count": 6,
     "metadata": {},
     "output_type": "execute_result"
    }
   ],
   "source": [
    "# apply satellite alignments to model\n",
    "sat_alignment_strength = RadialSatelliteAlignmentStrength(satellite_alignment_a=2.0, satellite_alignment_gamma=0.15)\n",
    "sat_alignment_model = RadialSatelliteAlignment(Lbox=halocat.Lbox, satellite_alignment_strength=0.85)\n",
    "#table = sat_alignment_strength.assign_satellite_alignment_strength(table=table, Lbox=halocat.Lbox)\n",
    "table = sat_alignment_model.assign_satellite_orientation(table=table)\n",
    "\n",
    "\"\"\"\n",
    "r_sample = np.logspace(-2,0,100)\n",
    "fig, ax = plt.subplots(figsize=(3.3,3.3))\n",
    "fig.subplots_adjust(left=0.2, right=0.9, bottom=0.2, top=0.9)\n",
    "plt.plot(r_sample, sat_alignment_strength.alignment_strength_radial_dependence(r_sample), '-', color='black')\n",
    "plt.ylim([0,1])\n",
    "plt.xlim([0.09,1.01])\n",
    "plt.xscale('log')\n",
    "plt.ylabel('alignment strength')\n",
    "plt.xlabel(r'$r/r_{\\rm vir}$')\n",
    "plt.show()\n",
    "\n",
    "filename = \"radial_subhalo_alignment_strength.pdf\"\n",
    "fig.savefig('/Users/duncan/Projects/intrinsic_alignments/halo_shape_correlations/figures/'+filename, dpi=250)\n",
    "\"\"\""
   ]
  },
  {
   "cell_type": "markdown",
   "metadata": {},
   "source": [
    "## Alignment Correlation Functions"
   ]
  },
  {
   "cell_type": "code",
   "execution_count": 8,
   "metadata": {},
   "outputs": [],
   "source": [
    "from halotools_ia.correlation_functions import ed_3d, ee_3d\n",
    "from halotools_ia.correlation_functions import ee_3d_one_two_halo_decomp, ed_3d_one_two_halo_decomp\n",
    "\n",
    "rbins = np.logspace(-1,1.4,20)\n",
    "rbin_centers = (rbins[:-1]+rbins[1:])/2.0"
   ]
  },
  {
   "cell_type": "code",
   "execution_count": 9,
   "metadata": {},
   "outputs": [],
   "source": [
    "# galaxy coordinates and orientations\n",
    "galaxy_coords = np.vstack((table['x'],\n",
    "                           table['y'],\n",
    "                           table['z'])).T\n",
    "\n",
    "galaxy_orientations = np.vstack((table['galaxy_axisA_x'],\n",
    "                                 table['galaxy_axisA_y'],\n",
    "                                 table['galaxy_axisA_z'])).T\n",
    "\n",
    "cens = table['gal_type']=='centrals'\n",
    "sats = table['gal_type']=='satellites'\n",
    "gal_mask = table['halo_mpeak']>10**12.0\n",
    "\n",
    "# halo orientations\n",
    "halo_coords = np.vstack((halocat.halo_table['halo_x'],\n",
    "                         halocat.halo_table['halo_y'],\n",
    "                         halocat.halo_table['halo_z'])).T\n",
    "\n",
    "halo_orientations = np.vstack((halocat.halo_table['halo_axisA_x'],\n",
    "                               halocat.halo_table['halo_axisA_y'],\n",
    "                               halocat.halo_table['halo_axisA_z'])).T\n",
    "\n",
    "hosts = halocat.halo_table['halo_upid']==-1\n",
    "subs = halocat.halo_table['halo_upid']!=-1\n",
    "halo_mask = halocat.halo_table['halo_mpeak']>10**12.0"
   ]
  },
  {
   "cell_type": "code",
   "execution_count": 10,
   "metadata": {},
   "outputs": [],
   "source": [
    "galaxy_omega = ed_3d(galaxy_coords[gal_mask], galaxy_orientations[gal_mask],\n",
    "                   galaxy_coords[gal_mask],\n",
    "                   rbins, period=halocat.Lbox, num_threads=1)\n",
    "galaxy_eta = ee_3d(galaxy_coords[gal_mask], galaxy_orientations[gal_mask],\n",
    "                     galaxy_coords[gal_mask], galaxy_orientations[gal_mask],\n",
    "                     rbins, period=halocat.Lbox, num_threads=1)"
   ]
  },
  {
   "cell_type": "code",
   "execution_count": 11,
   "metadata": {},
   "outputs": [],
   "source": [
    "halo_omega = ed_3d(halo_coords[halo_mask], halo_orientations[halo_mask], halo_coords[halo_mask],\n",
    "                 rbins, period=halocat.Lbox, num_threads=4)\n",
    "halo_eta = ee_3d(halo_coords[halo_mask], halo_orientations[halo_mask],\n",
    "                   halo_coords[halo_mask], halo_orientations[halo_mask],\n",
    "                   rbins, period=halocat.Lbox, num_threads=4)"
   ]
  },
  {
   "cell_type": "markdown",
   "metadata": {},
   "source": [
    "## 1- and 2-halo decomposition"
   ]
  },
  {
   "cell_type": "code",
   "execution_count": 12,
   "metadata": {},
   "outputs": [],
   "source": [
    "host_ids = table['halo_hostid']\n",
    "\n",
    "galaxy_omega_1h, galaxy_omega_2h  = ed_3d_one_two_halo_decomp(galaxy_coords[gal_mask], galaxy_orientations[gal_mask],\n",
    "                                                          host_ids[gal_mask],\n",
    "                                                          galaxy_coords[gal_mask], host_ids[gal_mask],\n",
    "                                                          rbins, period=halocat.Lbox, num_threads=4)\n",
    "galaxy_eta_1h, galaxy_eta_2h = ee_3d_one_two_halo_decomp(galaxy_coords[gal_mask], galaxy_orientations[gal_mask],\n",
    "                                                             host_ids[gal_mask],\n",
    "                                                             galaxy_coords[gal_mask], galaxy_orientations[gal_mask],\n",
    "                                                             host_ids[gal_mask],\n",
    "                                                             rbins, period=halocat.Lbox, num_threads=4)"
   ]
  },
  {
   "cell_type": "code",
   "execution_count": 13,
   "metadata": {},
   "outputs": [],
   "source": [
    "galaxy_omega_1h, galaxy_omega_2h  = ed_3d_one_two_halo_decomp(galaxy_coords[gal_mask], galaxy_orientations[gal_mask],\n",
    "                                                          host_ids[gal_mask],\n",
    "                                                          galaxy_coords[gal_mask], host_ids[gal_mask],\n",
    "                                                          rbins, period=halocat.Lbox, num_threads=4)\n",
    "galaxy_eta_1h, galaxy_eta_2h = ee_3d_one_two_halo_decomp(galaxy_coords[gal_mask], galaxy_orientations[gal_mask],\n",
    "                                                             host_ids[gal_mask],\n",
    "                                                             galaxy_coords[gal_mask], galaxy_orientations[gal_mask],\n",
    "                                                             host_ids[gal_mask],\n",
    "                                                             rbins, period=halocat.Lbox, num_threads=4)"
   ]
  },
  {
   "cell_type": "code",
   "execution_count": 14,
   "metadata": {},
   "outputs": [],
   "source": [
    "host_ids = halocat.halo_table['halo_hostid']\n",
    "halo_omega_1h, halo_omega_2h = ed_3d_one_two_halo_decomp(halo_coords[halo_mask], halo_orientations[halo_mask],\n",
    "                                                     host_ids[halo_mask],\n",
    "                                                     halo_coords[halo_mask], host_ids[halo_mask],\n",
    "                                                     rbins, period=halocat.Lbox, num_threads=4)\n",
    "halo_eta_1h, halo_eta_2h= ee_3d_one_two_halo_decomp(halo_coords[halo_mask], halo_orientations[halo_mask],\n",
    "                                                        host_ids[halo_mask],\n",
    "                                                        halo_coords[halo_mask], halo_orientations[halo_mask],\n",
    "                                                        host_ids[halo_mask],\n",
    "                                                        rbins, period=halocat.Lbox, num_threads=4)"
   ]
  },
  {
   "cell_type": "code",
   "execution_count": 16,
   "metadata": {},
   "outputs": [
    {
     "data": {
      "image/png": "[encoded data removed]",
      "text/plain": [
       "<Figure size 237.6x237.6 with 1 Axes>"
      ]
     },
     "metadata": {
      "needs_background": "light"
     },
     "output_type": "display_data"
    },
    {
     "data": {
      "image/png": "[encoded data removed]",
      "text/plain": [
       "<Figure size 237.6x237.6 with 1 Axes>"
      ]
     },
     "metadata": {
      "needs_background": "light"
     },
     "output_type": "display_data"
    }
   ],
   "source": [
    "fig, ax = plt.subplots(figsize=(3.3,3.3))\n",
    "fig.subplots_adjust(left=0.2, right=0.9, bottom=0.2, top=0.9)\n",
    "p1, = plt.plot(rbin_centers, galaxy_omega, 'o', color='black', mec='none')\n",
    "p1, = plt.plot(rbin_centers, galaxy_omega_1h, 'o', color='red', mec='none')\n",
    "p1, = plt.plot(rbin_centers, galaxy_omega_2h, 'o', color='blue', mec='none')\n",
    "l1, = plt.plot(rbin_centers, halo_omega, '-', color='black')\n",
    "l2, = plt.plot(rbin_centers, halo_omega_1h, '--', color='black')\n",
    "l3, = plt.plot(rbin_centers, halo_omega_2h, ':', color='black')\n",
    "plt.xscale('log')\n",
    "plt.yscale('log')\n",
    "plt.xlabel(r'$r~[h^{-1}\\rm Mpc]$')\n",
    "plt.ylabel(r'$\\omega(r)$')\n",
    "plt.ylim([0.005,0.5])\n",
    "plt.legend([l1,l2,l3],['all', '1-halo', '2-halo'], frameon=False, loc='upper right', fontsize=10, title='Bolshoi')\n",
    "plt.show()\n",
    "\n",
    "filename = \"subhalo_ed_tpcf.pdf\"\n",
    "#fig.savefig('/Users/duncan/Projects/intrinsic_alignments/halo_shape_correlations/figures/'+filename, dpi=250)\n",
    "\n",
    "fig, ax  = plt.subplots(figsize=(3.3,3.3))\n",
    "fig.subplots_adjust(left=0.2, right=0.9, bottom=0.2, top=0.9)\n",
    "p1, = plt.plot(rbin_centers, galaxy_eta, 'o', color='black', mec='none')\n",
    "p2, = plt.plot(rbin_centers, galaxy_eta_1h, 'o', color='red', mec='none')\n",
    "p3, = plt.plot(rbin_centers, galaxy_eta_2h, 'o', color='blue', mec='none')\n",
    "l1, = plt.plot(rbin_centers, halo_eta, '-', color='black')\n",
    "l2, = plt.plot(rbin_centers, halo_eta_1h, '--', color='black')\n",
    "l3, = plt.plot(rbin_centers, halo_eta_2h, ':', color='black')\n",
    "plt.xscale('log')\n",
    "plt.yscale('log')\n",
    "plt.xlabel(r'$r~[h^{-1}\\rm Mpc]$')\n",
    "plt.ylabel(r'$\\eta(r)$')\n",
    "plt.ylim([0.0001,0.5])\n",
    "plt.legend([p1,p2,p3],['all', '1-halo', '2-halo'], frameon=False, loc='upper right', fontsize=10, title='model')\n",
    "plt.show()\n",
    "\n",
    "filename = \"subhalo_ee_tpcf.pdf\"\n",
    "#fig.savefig('/Users/duncan/Projects/intrinsic_alignments/halo_shape_correlations/figures/'+filename, dpi=250)"
   ]
  },
  {
   "cell_type": "markdown",
   "metadata": {},
   "source": [
    "## further decomposition"
   ]
  },
  {
   "cell_type": "code",
   "execution_count": 17,
   "metadata": {},
   "outputs": [],
   "source": [
    "# (sub-)haloes\n",
    "\n",
    "centrals = (halocat.halo_table['halo_upid'][halo_mask]==-1)\n",
    "satellites = (halocat.halo_table['halo_upid'][halo_mask]!=-1)\n",
    "\n",
    "host_ids = halocat.halo_table['halo_hostid']"
   ]
  },
  {
   "cell_type": "code",
   "execution_count": 18,
   "metadata": {},
   "outputs": [],
   "source": [
    "# EE\n",
    "halo_omega_1h_ss, halo_omega_2h_ss = ee_3d_one_two_halo_decomp(halo_coords[halo_mask], halo_orientations[halo_mask],\n",
    "                                                        host_ids[halo_mask],\n",
    "                                                        halo_coords[halo_mask], halo_orientations[halo_mask],\n",
    "                                                        host_ids[halo_mask],rbins, \n",
    "                                                        mask1 = satellites,  \n",
    "                                                        mask2 = satellites,\n",
    "                                                        period=halocat.Lbox, num_threads=4)"
   ]
  },
  {
   "cell_type": "code",
   "execution_count": 19,
   "metadata": {},
   "outputs": [],
   "source": [
    "halo_omega_1h_cs, halo_omega_2h_cs = ee_3d_one_two_halo_decomp(halo_coords[halo_mask], halo_orientations[halo_mask],\n",
    "                                                        host_ids[halo_mask],\n",
    "                                                        halo_coords[halo_mask], halo_orientations[halo_mask],\n",
    "                                                        host_ids[halo_mask],rbins, \n",
    "                                                        mask1 = centrals,  \n",
    "                                                        mask2 = satellites,\n",
    "                                                        period=halocat.Lbox, num_threads=4)"
   ]
  },
  {
   "cell_type": "code",
   "execution_count": 20,
   "metadata": {},
   "outputs": [],
   "source": [
    "halo_omega_1h_sc, halo_omega_2h_sc = ee_3d_one_two_halo_decomp(halo_coords[halo_mask], halo_orientations[halo_mask],\n",
    "                                                        host_ids[halo_mask],\n",
    "                                                        halo_coords[halo_mask], halo_orientations[halo_mask],\n",
    "                                                        host_ids[halo_mask],rbins, \n",
    "                                                        mask1 = satellites,  \n",
    "                                                        mask2 = centrals,\n",
    "                                                        period=halocat.Lbox, num_threads=4)"
   ]
  },
  {
   "cell_type": "code",
   "execution_count": 21,
   "metadata": {},
   "outputs": [],
   "source": [
    "halo_omega_1h_cc, halo_omega_2h_cc = ee_3d_one_two_halo_decomp(halo_coords[halo_mask], halo_orientations[halo_mask],\n",
    "                                                        host_ids[halo_mask],\n",
    "                                                        halo_coords[halo_mask], halo_orientations[halo_mask],\n",
    "                                                        host_ids[halo_mask],rbins, \n",
    "                                                        mask1 = centrals,  \n",
    "                                                        mask2 = centrals,\n",
    "                                                        period=halocat.Lbox, num_threads=4)"
   ]
  },
  {
   "cell_type": "code",
   "execution_count": 22,
   "metadata": {},
   "outputs": [],
   "source": [
    "## ED\n",
    "halo_eta_1h_ss, halo_eta_2h_ss = ed_3d_one_two_halo_decomp(halo_coords[halo_mask], halo_orientations[halo_mask],\n",
    "                                    host_ids[halo_mask],\n",
    "                                    halo_coords[halo_mask], host_ids[halo_mask],\n",
    "                                    rbins,\n",
    "                                    mask1 = satellites,  \n",
    "                                    mask2 = satellites,\n",
    "                                    period=halocat.Lbox, num_threads=4)"
   ]
  },
  {
   "cell_type": "code",
   "execution_count": 23,
   "metadata": {},
   "outputs": [],
   "source": [
    "halo_eta_1h_cs, halo_eta_2h_cs = ed_3d_one_two_halo_decomp(halo_coords[halo_mask], halo_orientations[halo_mask],\n",
    "                                    host_ids[halo_mask],\n",
    "                                    halo_coords[halo_mask], host_ids[halo_mask],\n",
    "                                    rbins,\n",
    "                                    mask1 = centrals,  \n",
    "                                    mask2 = satellites,\n",
    "                                    period=halocat.Lbox, num_threads=4)"
   ]
  },
  {
   "cell_type": "code",
   "execution_count": 24,
   "metadata": {},
   "outputs": [],
   "source": [
    "halo_eta_1h_sc, halo_eta_2h_sc = ed_3d_one_two_halo_decomp(halo_coords[halo_mask], halo_orientations[halo_mask],\n",
    "                                    host_ids[halo_mask],\n",
    "                                    halo_coords[halo_mask], host_ids[halo_mask],\n",
    "                                    rbins,\n",
    "                                    mask1 = satellites,  \n",
    "                                    mask2 = centrals,\n",
    "                                    period=halocat.Lbox, num_threads=4)"
   ]
  },
  {
   "cell_type": "code",
   "execution_count": 25,
   "metadata": {},
   "outputs": [],
   "source": [
    "halo_eta_1h_cc, halo_eta_2h_cc = ed_3d_one_two_halo_decomp(halo_coords[halo_mask], halo_orientations[halo_mask],\n",
    "                                    host_ids[halo_mask],\n",
    "                                    halo_coords[halo_mask], host_ids[halo_mask],\n",
    "                                    rbins,\n",
    "                                    mask1 = centrals,  \n",
    "                                    mask2 = centrals,\n",
    "                                    period=halocat.Lbox, num_threads=4)"
   ]
  },
  {
   "cell_type": "code",
   "execution_count": 26,
   "metadata": {},
   "outputs": [
    {
     "data": {
      "image/png": "[encoded data removed]",
      "text/plain": [
       "<Figure size 237.6x237.6 with 1 Axes>"
      ]
     },
     "metadata": {
      "needs_background": "light"
     },
     "output_type": "display_data"
    }
   ],
   "source": [
    "## plot EE results\n",
    "\n",
    "fig, ax = plt.subplots(figsize=(3.3,3.3))\n",
    "fig.subplots_adjust(left=0.2, right=0.9, bottom=0.2, top=0.9)\n",
    "l1, = plt.plot(rbin_centers, halo_omega, '-', color='black')\n",
    "#l2, = plt.plot(rbin_centers, halo_omega_1h, '-', color='red')\n",
    "#l3, = plt.plot(rbin_centers, halo_omega_2h, '-', color='blue')\n",
    "l4, = plt.plot(rbin_centers, halo_omega_1h_cc, '-', color='red')\n",
    "l5, = plt.plot(rbin_centers, halo_omega_1h_sc, '--', color='red')\n",
    "l6, = plt.plot(rbin_centers, halo_omega_1h_cs, ':', color='red')\n",
    "l7, = plt.plot(rbin_centers, halo_omega_1h_ss, '-.', color='red')\n",
    "l8, = plt.plot(rbin_centers, halo_omega_2h_cc, '-', color='blue')\n",
    "l9, = plt.plot(rbin_centers, halo_omega_2h_sc, '--', color='blue')\n",
    "l10, = plt.plot(rbin_centers, halo_omega_2h_cs, ':', color='blue')\n",
    "l11, = plt.plot(rbin_centers, halo_omega_2h_ss, '-.', color='blue')\n",
    "plt.xscale('log')\n",
    "plt.yscale('log')\n",
    "plt.xlabel(r'$r~[h^{-1}\\rm Mpc]$')\n",
    "plt.ylabel(r'$\\eta(r)$')\n",
    "plt.ylim([0.0001,1])\n",
    "plt.legend([l4,l5,l6, l7, l8, l9, l10, l11],['cc', 'sc', 'cs', 'ss', 'cc', 'sc', 'cs', 'ss'],\n",
    "           frameon=False, loc='upper right', fontsize=10, labelspacing=0.1)\n",
    "plt.show()\n",
    "\n",
    "#fig.savefig('/Users/duncan/Desktop/ee_components.pdf', dpi=250)"
   ]
  },
  {
   "cell_type": "code",
   "execution_count": 27,
   "metadata": {},
   "outputs": [
    {
     "data": {
      "image/png": "[encoded data removed]",
      "text/plain": [
       "<Figure size 237.6x237.6 with 1 Axes>"
      ]
     },
     "metadata": {
      "needs_background": "light"
     },
     "output_type": "display_data"
    }
   ],
   "source": [
    "# plot ED results\n",
    "\n",
    "fig, ax = plt.subplots(figsize=(3.3,3.3))\n",
    "fig.subplots_adjust(left=0.2, right=0.9, bottom=0.2, top=0.9)\n",
    "l1, = plt.plot(rbin_centers, halo_eta, '-', color='black')\n",
    "#l2, = plt.plot(rbin_centers, halo_eta_1h, '-', color='red')\n",
    "#l3, = plt.plot(rbin_centers, halo_eta_2h, '-', color='blue')\n",
    "l4, = plt.plot(rbin_centers, halo_eta_1h_cc, '-', color='red')\n",
    "l5, = plt.plot(rbin_centers, halo_eta_1h_sc, '--', color='red')\n",
    "l6, = plt.plot(rbin_centers, halo_eta_1h_cs, ':', color='red')\n",
    "l7, = plt.plot(rbin_centers, halo_eta_1h_ss, '-.', color='red')\n",
    "l8, = plt.plot(rbin_centers, halo_eta_2h_cc, '-', color='blue')\n",
    "l9, = plt.plot(rbin_centers, halo_eta_2h_sc, '--', color='blue')\n",
    "l10, = plt.plot(rbin_centers, halo_eta_2h_cs, ':', color='blue')\n",
    "l11, = plt.plot(rbin_centers, halo_eta_2h_ss, '-.', color='blue')\n",
    "plt.xscale('log')\n",
    "plt.yscale('log')\n",
    "plt.xlabel(r'$r~[h^{-1}\\rm Mpc]$')\n",
    "plt.ylabel(r'$\\omega(r)$')\n",
    "plt.ylim([0.001,1])\n",
    "plt.legend([l4,l5,l6, l7, l8, l9, l10, l11],['cc', 'sc', 'cs', 'ss', 'cc', 'sc', 'cs', 'ss'],\n",
    "           frameon=False, loc='upper right', fontsize=10, labelspacing=0.1)\n",
    "plt.show()\n",
    "\n",
    "#fig.savefig('/Users/duncan/Desktop/ed_components.pdf', dpi=250)"
   ]
  },
  {
   "cell_type": "code",
   "execution_count": 28,
   "metadata": {},
   "outputs": [],
   "source": [
    "# galaxies\n",
    "\n",
    "host_ids = table['halo_hostid']\n",
    "satellites = table['gal_type'][gal_mask]=='satellites'\n",
    "centrals = table['gal_type'][gal_mask]=='centrals'"
   ]
  },
  {
   "cell_type": "code",
   "execution_count": 29,
   "metadata": {},
   "outputs": [],
   "source": [
    "# EE\n",
    "galaxy_omega_1h_cc, galaxy_omega_2h_cc = ee_3d_one_two_halo_decomp(galaxy_coords[gal_mask], galaxy_orientations[gal_mask],\n",
    "                                                             host_ids[gal_mask],\n",
    "                                                             galaxy_coords[gal_mask], galaxy_orientations[gal_mask],\n",
    "                                                             host_ids[gal_mask],\n",
    "                                                             rbins,\n",
    "                                                             mask1 = centrals, mask2 = centrals,\n",
    "                                                             period=halocat.Lbox, num_threads=4)"
   ]
  },
  {
   "cell_type": "code",
   "execution_count": 30,
   "metadata": {},
   "outputs": [],
   "source": [
    "galaxy_omega_1h_sc, galaxy_omega_2h_sc = ee_3d_one_two_halo_decomp(galaxy_coords[gal_mask], galaxy_orientations[gal_mask],\n",
    "                                                             host_ids[gal_mask],\n",
    "                                                             galaxy_coords[gal_mask], galaxy_orientations[gal_mask],\n",
    "                                                             host_ids[gal_mask],\n",
    "                                                             rbins,\n",
    "                                                             mask1 = satellites, mask2 = centrals,\n",
    "                                                             period=halocat.Lbox, num_threads=4)"
   ]
  },
  {
   "cell_type": "code",
   "execution_count": 31,
   "metadata": {},
   "outputs": [],
   "source": [
    "galaxy_omega_1h_cs, galaxy_omega_2h_cs = ee_3d_one_two_halo_decomp(galaxy_coords[gal_mask], galaxy_orientations[gal_mask],\n",
    "                                                             host_ids[gal_mask],\n",
    "                                                             galaxy_coords[gal_mask], galaxy_orientations[gal_mask],\n",
    "                                                             host_ids[gal_mask],\n",
    "                                                             rbins,\n",
    "                                                             mask1 = centrals, mask2 = satellites,\n",
    "                                                             period=halocat.Lbox, num_threads=4)"
   ]
  },
  {
   "cell_type": "code",
   "execution_count": 32,
   "metadata": {},
   "outputs": [],
   "source": [
    "galaxy_omega_1h_ss, galaxy_omega_2h_ss = ee_3d_one_two_halo_decomp(galaxy_coords[gal_mask], galaxy_orientations[gal_mask],\n",
    "                                                             host_ids[gal_mask],\n",
    "                                                             galaxy_coords[gal_mask], galaxy_orientations[gal_mask],\n",
    "                                                             host_ids[gal_mask],\n",
    "                                                             rbins,\n",
    "                                                             mask1 = satellites, mask2 = satellites,\n",
    "                                                             period=halocat.Lbox, num_threads=4)"
   ]
  },
  {
   "cell_type": "code",
   "execution_count": 33,
   "metadata": {},
   "outputs": [],
   "source": [
    "# ED\n",
    "galaxy_eta_1h_cc, galaxy_eta_2h_cc  = ed_3d_one_two_halo_decomp(galaxy_coords[gal_mask], galaxy_orientations[gal_mask],\n",
    "                                                          host_ids[gal_mask],\n",
    "                                                          galaxy_coords[gal_mask], host_ids[gal_mask],\n",
    "                                                          rbins,\n",
    "                                                          mask1 = centrals, mask2 = centrals,\n",
    "                                                          period=halocat.Lbox, num_threads=4)"
   ]
  },
  {
   "cell_type": "code",
   "execution_count": 34,
   "metadata": {},
   "outputs": [],
   "source": [
    "galaxy_eta_1h_sc, galaxy_eta_2h_sc  = ed_3d_one_two_halo_decomp(galaxy_coords[gal_mask], galaxy_orientations[gal_mask],\n",
    "                                                          host_ids[gal_mask],\n",
    "                                                          galaxy_coords[gal_mask], host_ids[gal_mask],\n",
    "                                                          rbins,\n",
    "                                                          mask1 = satellites, mask2 = centrals,\n",
    "                                                          period=halocat.Lbox, num_threads=4)"
   ]
  },
  {
   "cell_type": "code",
   "execution_count": 35,
   "metadata": {},
   "outputs": [],
   "source": [
    "galaxy_eta_1h_cs, galaxy_eta_2h_cs  = ed_3d_one_two_halo_decomp(galaxy_coords[gal_mask], galaxy_orientations[gal_mask],\n",
    "                                                          host_ids[gal_mask],\n",
    "                                                          galaxy_coords[gal_mask], host_ids[gal_mask],\n",
    "                                                          rbins,\n",
    "                                                          mask1 = centrals, mask2 = satellites,\n",
    "                                                          period=halocat.Lbox, num_threads=4)"
   ]
  },
  {
   "cell_type": "code",
   "execution_count": 36,
   "metadata": {},
   "outputs": [],
   "source": [
    "galaxy_eta_1h_ss, galaxy_eta_2h_ss  = ed_3d_one_two_halo_decomp(galaxy_coords[gal_mask], galaxy_orientations[gal_mask],\n",
    "                                                          host_ids[gal_mask],\n",
    "                                                          galaxy_coords[gal_mask], host_ids[gal_mask],\n",
    "                                                          rbins,\n",
    "                                                          mask1 = satellites, mask2 = satellites,\n",
    "                                                          period=halocat.Lbox, num_threads=4)"
   ]
  },
  {
   "cell_type": "code",
   "execution_count": 37,
   "metadata": {},
   "outputs": [
    {
     "data": {
      "image/png": "[encoded data removed]",
      "text/plain": [
       "<Figure size 237.6x237.6 with 1 Axes>"
      ]
     },
     "metadata": {
      "needs_background": "light"
     },
     "output_type": "display_data"
    }
   ],
   "source": [
    "# plot EE results\n",
    "\n",
    "fig, ax = plt.subplots(figsize=(3.3,3.3))\n",
    "fig.subplots_adjust(left=0.2, right=0.9, bottom=0.2, top=0.9)\n",
    "l1, = plt.plot(rbin_centers, galaxy_omega, '-', color='black')\n",
    "l2, = plt.plot(rbin_centers, galaxy_omega_1h, '-', color='red')\n",
    "l3, = plt.plot(rbin_centers, galaxy_omega_2h, '-', color='blue')\n",
    "l4, = plt.plot(rbin_centers, galaxy_omega_1h_cc, '-', color='red')\n",
    "l5, = plt.plot(rbin_centers, galaxy_omega_1h_sc, '--', color='red')\n",
    "l6, = plt.plot(rbin_centers, galaxy_omega_1h_cs, ':', color='red')\n",
    "l7, = plt.plot(rbin_centers, galaxy_omega_1h_ss, '-.', color='red')\n",
    "l8, = plt.plot(rbin_centers, galaxy_omega_2h_cc, '-', color='blue')\n",
    "l9, = plt.plot(rbin_centers, galaxy_omega_2h_sc, '--', color='blue')\n",
    "l10, = plt.plot(rbin_centers, galaxy_omega_2h_cs, ':', color='blue')\n",
    "l11, = plt.plot(rbin_centers, galaxy_omega_2h_ss, '-.', color='blue')\n",
    "plt.xscale('log')\n",
    "plt.yscale('log')\n",
    "plt.xlabel(r'$r~[h^{-1}\\rm Mpc]$')\n",
    "plt.ylabel(r'$\\eta(r)$')\n",
    "plt.ylim([0.001,0.5])\n",
    "plt.show()"
   ]
  },
  {
   "cell_type": "code",
   "execution_count": 38,
   "metadata": {},
   "outputs": [
    {
     "data": {
      "image/png": "[encoded data removed]",
      "text/plain": [
       "<Figure size 237.6x237.6 with 1 Axes>"
      ]
     },
     "metadata": {
      "needs_background": "light"
     },
     "output_type": "display_data"
    }
   ],
   "source": [
    "#plot ED results\n",
    "\n",
    "fig, ax = plt.subplots(figsize=(3.3,3.3))\n",
    "fig.subplots_adjust(left=0.2, right=0.9, bottom=0.2, top=0.9)\n",
    "l1, = plt.plot(rbin_centers, galaxy_eta, '-', color='black')\n",
    "l2, = plt.plot(rbin_centers, galaxy_eta_1h, '-', color='red')\n",
    "l3, = plt.plot(rbin_centers, galaxy_eta_2h, '-', color='blue')\n",
    "l4, = plt.plot(rbin_centers, galaxy_eta_1h_cc, '-', color='red')\n",
    "l5, = plt.plot(rbin_centers, galaxy_eta_1h_sc, '--', color='red')\n",
    "l6, = plt.plot(rbin_centers, galaxy_eta_1h_cs, ':', color='red')\n",
    "l7, = plt.plot(rbin_centers, galaxy_eta_1h_ss, '-.', color='red')\n",
    "l8, = plt.plot(rbin_centers, galaxy_eta_2h_cc, '-', color='blue')\n",
    "l9, = plt.plot(rbin_centers, galaxy_eta_2h_sc, '--', color='blue')\n",
    "l10, = plt.plot(rbin_centers, galaxy_eta_2h_cs, ':', color='blue')\n",
    "l11, = plt.plot(rbin_centers, galaxy_eta_2h_ss, '-.', color='blue')\n",
    "plt.xscale('log')\n",
    "plt.yscale('log')\n",
    "plt.xlabel(r'$r~[h^{-1}\\rm Mpc]$')\n",
    "plt.ylabel(r'$\\eta(r)$')\n",
    "plt.ylim([0.005,0.5])\n",
    "plt.show()"
   ]
  },
  {
   "cell_type": "code",
   "execution_count": 39,
   "metadata": {},
   "outputs": [
    {
     "data": {
      "image/png": "[encoded data removed]",
      "text/plain": [
       "<Figure size 237.6x237.6 with 1 Axes>"
      ]
     },
     "metadata": {
      "needs_background": "light"
     },
     "output_type": "display_data"
    },
    {
     "data": {
      "image/png": "[encoded data removed]",
      "text/plain": [
       "<Figure size 237.6x237.6 with 1 Axes>"
      ]
     },
     "metadata": {
      "needs_background": "light"
     },
     "output_type": "display_data"
    }
   ],
   "source": [
    "# all together now\n",
    "\n",
    "fig, ax = plt.subplots(figsize=(3.3,3.3))\n",
    "fig.subplots_adjust(left=0.2, right=0.9, bottom=0.2, top=0.9)\n",
    "l1, = plt.plot(rbin_centers, halo_omega, '-', color='black')\n",
    "l2, = plt.plot(rbin_centers, halo_omega_1h, '-', color='red')\n",
    "l3, = plt.plot(rbin_centers, halo_omega_2h, '-', color='blue')\n",
    "l4, = plt.plot(rbin_centers, halo_omega_1h_cc, '-', color='red')\n",
    "l5, = plt.plot(rbin_centers, halo_omega_1h_sc, '--', color='red')\n",
    "l6, = plt.plot(rbin_centers, halo_omega_1h_cs, ':', color='red')\n",
    "l7, = plt.plot(rbin_centers, halo_omega_1h_ss, '-.', color='red')\n",
    "l8, = plt.plot(rbin_centers, halo_omega_2h_cc, '-', color='blue')\n",
    "l9, = plt.plot(rbin_centers, halo_omega_2h_sc, '--', color='blue')\n",
    "l10, = plt.plot(rbin_centers, halo_omega_2h_cs, ':', color='blue')\n",
    "l11, = plt.plot(rbin_centers, halo_omega_2h_ss, '-.', color='blue')\n",
    "l1, = plt.plot(rbin_centers, galaxy_omega, 'o', color='black')\n",
    "l2, = plt.plot(rbin_centers, galaxy_omega_1h, 'o', color='red')\n",
    "l3, = plt.plot(rbin_centers, galaxy_omega_2h, 'o', color='blue')\n",
    "l4, = plt.plot(rbin_centers, galaxy_omega_1h_cc, 'o', color='red')\n",
    "l5, = plt.plot(rbin_centers, galaxy_omega_1h_sc, 'o', color='red')\n",
    "l6, = plt.plot(rbin_centers, galaxy_omega_1h_cs, 'o', color='red')\n",
    "l7, = plt.plot(rbin_centers, galaxy_omega_1h_ss, 'o', color='red')\n",
    "l8, = plt.plot(rbin_centers, galaxy_omega_2h_cc, 'o', color='blue')\n",
    "l9, = plt.plot(rbin_centers, galaxy_omega_2h_sc, 'o', color='blue')\n",
    "l10, = plt.plot(rbin_centers, galaxy_omega_2h_cs, 'o', color='blue')\n",
    "l11, = plt.plot(rbin_centers, galaxy_omega_2h_ss, 'o', color='blue')\n",
    "plt.xscale('log')\n",
    "plt.yscale('log')\n",
    "plt.xlabel(r'$r~[h^{-1}\\rm Mpc]$')\n",
    "plt.ylabel(r'$\\omega(r)$')\n",
    "plt.ylim([0.001,0.5])\n",
    "plt.show()\n",
    "\n",
    "filename = \"total_decomp_ee.pdf\"\n",
    "#fig.savefig('/Users/duncan/Projects/intrinsic_alignments/halo_shape_correlations/figures/'+filename, dpi=250)\n",
    "\n",
    "fig, ax = plt.subplots(figsize=(3.3,3.3))\n",
    "fig.subplots_adjust(left=0.2, right=0.9, bottom=0.2, top=0.9)\n",
    "l1, = plt.plot(rbin_centers, halo_eta, '-', color='black')\n",
    "l2, = plt.plot(rbin_centers, halo_eta_1h, '-', color='red')\n",
    "l3, = plt.plot(rbin_centers, halo_eta_2h, '-', color='blue')\n",
    "l4, = plt.plot(rbin_centers, halo_eta_1h_cc, '-', color='red')\n",
    "l5, = plt.plot(rbin_centers, halo_eta_1h_sc, '--', color='red')\n",
    "l6, = plt.plot(rbin_centers, halo_eta_1h_cs, ':', color='red')\n",
    "l7, = plt.plot(rbin_centers, halo_eta_1h_ss, '-.', color='red')\n",
    "l8, = plt.plot(rbin_centers, halo_eta_2h_cc, '-', color='blue')\n",
    "l9, = plt.plot(rbin_centers, halo_eta_2h_sc, '--', color='blue')\n",
    "l10, = plt.plot(rbin_centers, halo_eta_2h_cs, ':', color='blue')\n",
    "l11, = plt.plot(rbin_centers, halo_eta_2h_ss, '-.', color='blue')\n",
    "l1, = plt.plot(rbin_centers, galaxy_eta, 'o', color='black')\n",
    "l2, = plt.plot(rbin_centers, galaxy_eta_1h, 'o', color='red')\n",
    "l3, = plt.plot(rbin_centers, galaxy_eta_2h, 'o', color='blue')\n",
    "l4, = plt.plot(rbin_centers, galaxy_eta_1h_cc, 'o', color='red')\n",
    "l5, = plt.plot(rbin_centers, galaxy_eta_1h_sc, 'x', color='red')\n",
    "l6, = plt.plot(rbin_centers, galaxy_eta_1h_cs, 'o', color='red')\n",
    "l7, = plt.plot(rbin_centers, galaxy_eta_1h_ss, 'o', color='red')\n",
    "l8, = plt.plot(rbin_centers, galaxy_eta_2h_cc, 'o', color='blue')\n",
    "l9, = plt.plot(rbin_centers, galaxy_eta_2h_sc, 'o', color='blue')\n",
    "l10, = plt.plot(rbin_centers, galaxy_eta_2h_cs, 'o', color='blue')\n",
    "l11, = plt.plot(rbin_centers, galaxy_eta_2h_ss, 'o', color='blue')\n",
    "plt.xscale('log')\n",
    "plt.yscale('log')\n",
    "plt.xlabel(r'$r~[h^{-1}\\rm Mpc]$')\n",
    "plt.ylabel(r'$\\eta(r)$')\n",
    "plt.ylim([0.005,0.5])\n",
    "plt.show()\n",
    "\n",
    "filename = \"total_decomp_ed.pdf\"\n",
    "#fig.savefig('/Users/duncan/Projects/intrinsic_alignments/halo_shape_correlations/figures/'+filename, dpi=250)"
   ]
  },
  {
   "cell_type": "code",
   "execution_count": 40,
   "metadata": {},
   "outputs": [],
   "source": [
    "from halotools.mock_observables import tpcf"
   ]
  },
  {
   "cell_type": "code",
   "execution_count": 41,
   "metadata": {},
   "outputs": [],
   "source": [
    "xi_sub = tpcf(halo_coords[halo_mask], rbins, period=halocat.Lbox)\n",
    "xi_gal = tpcf(galaxy_coords[gal_mask], rbins, period=halocat.Lbox)"
   ]
  },
  {
   "cell_type": "code",
   "execution_count": 42,
   "metadata": {},
   "outputs": [
    {
     "data": {
      "image/png": "[encoded data removed]",
      "text/plain": [
       "<Figure size 237.6x237.6 with 1 Axes>"
      ]
     },
     "metadata": {
      "needs_background": "light"
     },
     "output_type": "display_data"
    },
    {
     "data": {
      "image/png": "[encoded data removed]",
      "text/plain": [
       "<Figure size 237.6x237.6 with 1 Axes>"
      ]
     },
     "metadata": {
      "needs_background": "light"
     },
     "output_type": "display_data"
    }
   ],
   "source": [
    "fig, ax = plt.subplots(figsize=(3.3,3.3))\n",
    "fig.subplots_adjust(left=0.2, right=0.9, bottom=0.2, top=0.9)\n",
    "plt.plot(rbin_centers,xi_sub)\n",
    "plt.plot(rbin_centers,xi_gal, 'o')\n",
    "plt.xlabel(r'$r~[h^{-1}\\rm Mpc]$')\n",
    "plt.xscale('log')\n",
    "plt.yscale('log')\n",
    "\n",
    "fig, ax = plt.subplots(figsize=(3.3,3.3))\n",
    "fig.subplots_adjust(left=0.2, right=0.9, bottom=0.2, top=0.9)\n",
    "plt.plot(rbin_centers,(xi_gal-xi_sub)/xi_sub, 'o')\n",
    "plt.xlabel(r'$r~[h^{-1}\\rm Mpc]$')\n",
    "plt.xscale('log')"
   ]
  },
  {
   "cell_type": "code",
   "execution_count": null,
   "metadata": {},
   "outputs": [],
   "source": [
    "galaxy_eta"
   ]
  },
  {
   "cell_type": "code",
   "execution_count": null,
   "metadata": {},
   "outputs": [],
   "source": [
    "table"
   ]
  },
  {
   "cell_type": "code",
   "execution_count": null,
   "metadata": {},
   "outputs": [],
   "source": [
    "galaxy_orientations"
   ]
  },
  {
   "cell_type": "code",
   "execution_count": null,
   "metadata": {},
   "outputs": [],
   "source": [
    "galaxy_orientations"
   ]
  },
  {
   "cell_type": "code",
   "execution_count": null,
   "metadata": {},
   "outputs": [],
   "source": []
  }
 ],
 "metadata": {
  "kernelspec": {
   "display_name": "Python 3",
   "language": "python",
   "name": "python3"
  },
  "language_info": {
   "codemirror_mode": {
    "name": "ipython",
    "version": 3
   },
   "file_extension": ".py",
   "mimetype": "text/x-python",
   "name": "python",
   "nbconvert_exporter": "python",
   "pygments_lexer": "ipython3",
   "version": "3.8.5"
  }
 },
 "nbformat": 4,
 "nbformat_minor": 4
}
