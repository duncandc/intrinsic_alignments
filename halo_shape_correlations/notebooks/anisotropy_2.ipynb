{
 "cells": [
  {
   "cell_type": "code",
   "execution_count": 1,
   "metadata": {},
   "outputs": [],
   "source": [
    "from __future__ import print_function, division\n",
    "import numpy as np\n",
    "from astropy.table import Table\n",
    "import matplotlib.pyplot as plt\n",
    "%matplotlib inline\n",
    "\n",
    "# location to save figures\n",
    "import os\n",
    "cwd = os.getcwd()\n",
    "figure_path = cwd + '/figures/'"
   ]
  },
  {
   "cell_type": "markdown",
   "metadata": {},
   "source": [
    "## Halo Catalog"
   ]
  },
  {
   "cell_type": "code",
   "execution_count": 2,
   "metadata": {},
   "outputs": [],
   "source": [
    "# load a test halo catalog\n",
    "\n",
    "from halotools.sim_manager import CachedHaloCatalog\n",
    "halocat = CachedHaloCatalog(simname='bolshoi', halo_finder='rockstar',\n",
    "                            redshift=0.0, dz_tol=0.001, version_name='halotools_v0p4')\n",
    "\n",
    "# add estimate of minor axis\n",
    "from rotations.vector_utilities import normalized_vectors\n",
    "B = np.vstack((halocat.halo_table['halo_axisA_x'],\n",
    "               halocat.halo_table['halo_axisA_y'],\n",
    "               halocat.halo_table['halo_axisA_z'])).T\n",
    "A = np.vstack((halocat.halo_table['halo_jx'],\n",
    "               halocat.halo_table['halo_jy'],\n",
    "               halocat.halo_table['halo_jz'])).T\n",
    "B = normalized_vectors(B)\n",
    "A = normalized_vectors(A)\n",
    "\n",
    "D = np.cross(A, B)\n",
    "C = np.cross(B, D)\n",
    "\n",
    "halocat.halo_table['halo_axisC_x'] = C[:,0]\n",
    "halocat.halo_table['halo_axisC_y'] = C[:,1]\n",
    "halocat.halo_table['halo_axisC_z'] = C[:,2]\n",
    "\n",
    "# get host halo properties\n",
    "from halotools.utils import crossmatch\n",
    "halo_hostid = halocat.halo_table['halo_hostid']\n",
    "halo_id = halocat.halo_table['halo_id']\n",
    "inds1, inds2 = crossmatch(halo_hostid, halo_id)\n",
    "halocat.halo_table['halo_rvir'][inds1] = halocat.halo_table['halo_rvir'][inds2]"
   ]
  },
  {
   "cell_type": "markdown",
   "metadata": {},
   "source": [
    "## (sub-)halo correlations"
   ]
  },
  {
   "cell_type": "code",
   "execution_count": 3,
   "metadata": {},
   "outputs": [],
   "source": [
    "from halotools.mock_observables import tpcf_jackknife\n",
    "from intrinsic_alignments.utils.jackknife_observables import jackknife_ed_3d, jackknife_ee_3d\n",
    "\n",
    "rbins = np.logspace(-1,1.2,13)\n",
    "rbin_centers = (rbins[:-1]+rbins[1:])/2.0\n",
    "\n",
    "# empirical halo and sub-halo correlations\n",
    "\n",
    "halo_coords = np.vstack((halocat.halo_table['halo_x'],\n",
    "                         halocat.halo_table['halo_y'],\n",
    "                         halocat.halo_table['halo_z'])).T\n",
    "\n",
    "halo_orientations = np.vstack((halocat.halo_table['halo_axisA_x'],\n",
    "                               halocat.halo_table['halo_axisA_y'],\n",
    "                               halocat.halo_table['halo_axisA_z'])).T\n",
    "\n",
    "# define host and sub-halo samples\n",
    "hosts = halocat.halo_table['halo_upid']==-1\n",
    "subs = halocat.halo_table['halo_upid']!=-1\n",
    "\n",
    "# define host halo IDs\n",
    "host_ids = halocat.halo_table['halo_hostid']\n",
    "\n",
    "# define halo sub-samples\n",
    "halo_mask = (halocat.halo_table['halo_mpeak']>10**12.0)"
   ]
  },
  {
   "cell_type": "code",
   "execution_count": 4,
   "metadata": {},
   "outputs": [
    {
     "name": "stdout",
     "output_type": "stream",
     "text": [
      "estimated time to complete jackknife calculation (s): 274.79885387420654\n"
     ]
    }
   ],
   "source": [
    "# calculate ED correaltion functions\n",
    "halo_omega, halo_omega_cov = jackknife_ed_3d(halo_coords[halo_mask], \n",
    "                                             halo_orientations[halo_mask],\n",
    "                                             halo_coords[halo_mask],\n",
    "                                             rbins, Nsub = [3,3,3],\n",
    "                                             period=halocat.Lbox, num_threads=4,\n",
    "                                             verbose=True)\n",
    "halo_omega_err = np.sqrt(np.diag(halo_omega_cov))"
   ]
  },
  {
   "cell_type": "code",
   "execution_count": 5,
   "metadata": {},
   "outputs": [
    {
     "name": "stdout",
     "output_type": "stream",
     "text": [
      "estimated time to complete jackknife calculation (s): 574.7184600830078\n"
     ]
    }
   ],
   "source": [
    "# calculate EE correaltion functions\n",
    "halo_eta, halo_eta_cov = jackknife_ee_3d(halo_coords[halo_mask], \n",
    "                                         halo_orientations[halo_mask],\n",
    "                                         halo_coords[halo_mask],\n",
    "                                         halo_orientations[halo_mask],\n",
    "                                         rbins, Nsub = [4,4,4],\n",
    "                                         period=halocat.Lbox, num_threads=4,\n",
    "                                         verbose=True)\n",
    "halo_eta_err = np.sqrt(np.diag(halo_eta_cov))"
   ]
  },
  {
   "cell_type": "code",
   "execution_count": 6,
   "metadata": {},
   "outputs": [
    {
     "ename": "ValueError",
     "evalue": "When calculating the two-point function, there was at least one \nseparation bin with zero RR pairs. Since the ``Natural`` estimator you chose \ndivides by RR, you will have at least one NaN returned value.\nMost likely, the innermost separation bin is the problem.\nTry increasing the number of randoms and/or using broader bins.\nTo estimate the number of required randoms, the following expression \nfor the expected number of pairs inside a sphere of radius ``r`` may be useful:\n\n<Npairs> = (Nran_tot)*(4pi/3)*(r/Lbox)^3 \n\n",
     "output_type": "error",
     "traceback": [
      "\u001b[1;31m----------------------------------------------------------------------\u001b[0m",
      "\u001b[1;31mValueError\u001b[0m                           Traceback (most recent call last)",
      "\u001b[1;32m<ipython-input-6-84ae73f6234f>\u001b[0m in \u001b[0;36m<module>\u001b[1;34m\u001b[0m\n\u001b[0;32m      1\u001b[0m \u001b[0mN\u001b[0m \u001b[1;33m=\u001b[0m \u001b[1;36m10\u001b[0m\u001b[1;33m**\u001b[0m\u001b[1;36m5\u001b[0m\u001b[1;33m\u001b[0m\u001b[1;33m\u001b[0m\u001b[0m\n\u001b[0;32m      2\u001b[0m \u001b[0mrandoms\u001b[0m \u001b[1;33m=\u001b[0m \u001b[0mnp\u001b[0m\u001b[1;33m.\u001b[0m\u001b[0mrandom\u001b[0m\u001b[1;33m.\u001b[0m\u001b[0mrandom\u001b[0m\u001b[1;33m(\u001b[0m\u001b[1;33m(\u001b[0m\u001b[0mN\u001b[0m\u001b[1;33m,\u001b[0m\u001b[1;36m3\u001b[0m\u001b[1;33m)\u001b[0m\u001b[1;33m)\u001b[0m\u001b[1;33m*\u001b[0m\u001b[0mhalocat\u001b[0m\u001b[1;33m.\u001b[0m\u001b[0mLbox\u001b[0m\u001b[1;33m\u001b[0m\u001b[1;33m\u001b[0m\u001b[0m\n\u001b[1;32m----> 3\u001b[1;33m halo_xi, halo_xi_cov =  tpcf_jackknife(halo_coords[halo_mask], randoms,\n\u001b[0m\u001b[0;32m      4\u001b[0m                                        rbins, Nsub=[4, 4, 4], period=halocat.Lbox, num_threads=4)\n\u001b[0;32m      5\u001b[0m \u001b[0mhalo_xi_err\u001b[0m \u001b[1;33m=\u001b[0m \u001b[0mnp\u001b[0m\u001b[1;33m.\u001b[0m\u001b[0msqrt\u001b[0m\u001b[1;33m(\u001b[0m\u001b[0mnp\u001b[0m\u001b[1;33m.\u001b[0m\u001b[0mdiag\u001b[0m\u001b[1;33m(\u001b[0m\u001b[0mhalo_xi_cov\u001b[0m\u001b[1;33m)\u001b[0m\u001b[1;33m)\u001b[0m\u001b[1;33m\u001b[0m\u001b[1;33m\u001b[0m\u001b[0m\n",
      "\u001b[1;32mc:\\users\\nvana\\appdata\\local\\programs\\python\\python38-32\\lib\\site-packages\\halotools\\mock_observables\\two_point_clustering\\tpcf_jackknife.py\u001b[0m in \u001b[0;36mtpcf_jackknife\u001b[1;34m(sample1, randoms, rbins, Nsub, sample2, period, do_auto, do_cross, estimator, num_threads, seed)\u001b[0m\n\u001b[0;32m    285\u001b[0m \u001b[1;33m\u001b[0m\u001b[0m\n\u001b[0;32m    286\u001b[0m     \u001b[1;31m# calculate the correlation function for the subsamples\u001b[0m\u001b[1;33m\u001b[0m\u001b[1;33m\u001b[0m\u001b[1;33m\u001b[0m\u001b[0m\n\u001b[1;32m--> 287\u001b[1;33m     \u001b[0mxi_11_sub\u001b[0m \u001b[1;33m=\u001b[0m \u001b[0m_TP_estimator\u001b[0m\u001b[1;33m(\u001b[0m\u001b[0mD1D1_sub\u001b[0m\u001b[1;33m,\u001b[0m \u001b[0mD1R_sub\u001b[0m\u001b[1;33m,\u001b[0m \u001b[0mRR_sub\u001b[0m\u001b[1;33m,\u001b[0m \u001b[0mN1_subs\u001b[0m\u001b[1;33m,\u001b[0m \u001b[0mN1_subs\u001b[0m\u001b[1;33m,\u001b[0m \u001b[0mNR_subs\u001b[0m\u001b[1;33m,\u001b[0m \u001b[0mNR_subs\u001b[0m\u001b[1;33m,\u001b[0m \u001b[0mestimator\u001b[0m\u001b[1;33m)\u001b[0m\u001b[1;33m\u001b[0m\u001b[1;33m\u001b[0m\u001b[0m\n\u001b[0m\u001b[0;32m    288\u001b[0m     \u001b[0mxi_12_sub\u001b[0m \u001b[1;33m=\u001b[0m \u001b[0m_TP_estimator\u001b[0m\u001b[1;33m(\u001b[0m\u001b[0mD1D2_sub\u001b[0m\u001b[1;33m,\u001b[0m \u001b[0mD1R_sub\u001b[0m\u001b[1;33m,\u001b[0m \u001b[0mRR_sub\u001b[0m\u001b[1;33m,\u001b[0m \u001b[0mN1_subs\u001b[0m\u001b[1;33m,\u001b[0m \u001b[0mN2_subs\u001b[0m\u001b[1;33m,\u001b[0m \u001b[0mNR_subs\u001b[0m\u001b[1;33m,\u001b[0m \u001b[0mNR_subs\u001b[0m\u001b[1;33m,\u001b[0m \u001b[0mestimator\u001b[0m\u001b[1;33m)\u001b[0m\u001b[1;33m\u001b[0m\u001b[1;33m\u001b[0m\u001b[0m\n\u001b[0;32m    289\u001b[0m     \u001b[0mxi_22_sub\u001b[0m \u001b[1;33m=\u001b[0m \u001b[0m_TP_estimator\u001b[0m\u001b[1;33m(\u001b[0m\u001b[0mD2D2_sub\u001b[0m\u001b[1;33m,\u001b[0m \u001b[0mD2R_sub\u001b[0m\u001b[1;33m,\u001b[0m \u001b[0mRR_sub\u001b[0m\u001b[1;33m,\u001b[0m \u001b[0mN2_subs\u001b[0m\u001b[1;33m,\u001b[0m \u001b[0mN2_subs\u001b[0m\u001b[1;33m,\u001b[0m \u001b[0mNR_subs\u001b[0m\u001b[1;33m,\u001b[0m \u001b[0mNR_subs\u001b[0m\u001b[1;33m,\u001b[0m \u001b[0mestimator\u001b[0m\u001b[1;33m)\u001b[0m\u001b[1;33m\u001b[0m\u001b[1;33m\u001b[0m\u001b[0m\n",
      "\u001b[1;32mc:\\users\\nvana\\appdata\\local\\programs\\python\\python38-32\\lib\\site-packages\\halotools\\mock_observables\\two_point_clustering\\tpcf_estimators.py\u001b[0m in \u001b[0;36m_TP_estimator\u001b[1;34m(DD, DR, RR, ND1, ND2, NR1, NR2, estimator)\u001b[0m\n\u001b[0;32m     34\u001b[0m             \u001b[1;32mreturn\u001b[0m \u001b[0mx\u001b[0m\u001b[1;33m*\u001b[0m\u001b[0my\u001b[0m\u001b[1;33m\u001b[0m\u001b[1;33m\u001b[0m\u001b[0m\n\u001b[0;32m     35\u001b[0m \u001b[1;33m\u001b[0m\u001b[0m\n\u001b[1;32m---> 36\u001b[1;33m     \u001b[0m_test_for_zero_division\u001b[0m\u001b[1;33m(\u001b[0m\u001b[0mDD\u001b[0m\u001b[1;33m,\u001b[0m \u001b[0mDR\u001b[0m\u001b[1;33m,\u001b[0m \u001b[0mRR\u001b[0m\u001b[1;33m,\u001b[0m \u001b[0mND1\u001b[0m\u001b[1;33m,\u001b[0m \u001b[0mND2\u001b[0m\u001b[1;33m,\u001b[0m \u001b[0mNR1\u001b[0m\u001b[1;33m,\u001b[0m \u001b[0mNR2\u001b[0m\u001b[1;33m,\u001b[0m \u001b[0mestimator\u001b[0m\u001b[1;33m)\u001b[0m\u001b[1;33m\u001b[0m\u001b[1;33m\u001b[0m\u001b[0m\n\u001b[0m\u001b[0;32m     37\u001b[0m \u001b[1;33m\u001b[0m\u001b[0m\n\u001b[0;32m     38\u001b[0m     \u001b[1;32mif\u001b[0m \u001b[0mestimator\u001b[0m \u001b[1;33m==\u001b[0m \u001b[1;34m'Natural'\u001b[0m\u001b[1;33m:\u001b[0m\u001b[1;33m\u001b[0m\u001b[1;33m\u001b[0m\u001b[0m\n",
      "\u001b[1;32mc:\\users\\nvana\\appdata\\local\\programs\\python\\python38-32\\lib\\site-packages\\halotools\\mock_observables\\two_point_clustering\\tpcf_estimators.py\u001b[0m in \u001b[0;36m_test_for_zero_division\u001b[1;34m(DD, DR, RR, ND1, ND2, NR1, NR2, estimator)\u001b[0m\n\u001b[0;32m    119\u001b[0m     \u001b[0mestimators_dividing_by_rr\u001b[0m \u001b[1;33m=\u001b[0m \u001b[1;33m(\u001b[0m\u001b[1;34m'Natural'\u001b[0m\u001b[1;33m,\u001b[0m \u001b[1;34m'Davis-Peebles'\u001b[0m\u001b[1;33m,\u001b[0m \u001b[1;34m'Hewett'\u001b[0m\u001b[1;33m,\u001b[0m \u001b[1;34m'Landy-Szalay'\u001b[0m\u001b[1;33m)\u001b[0m\u001b[1;33m\u001b[0m\u001b[1;33m\u001b[0m\u001b[0m\n\u001b[0;32m    120\u001b[0m     \u001b[1;32mif\u001b[0m \u001b[1;33m(\u001b[0m\u001b[0mestimator\u001b[0m \u001b[1;32min\u001b[0m \u001b[0mestimators_dividing_by_rr\u001b[0m\u001b[1;33m)\u001b[0m \u001b[1;33m&\u001b[0m \u001b[1;33m(\u001b[0m\u001b[0mnp\u001b[0m\u001b[1;33m.\u001b[0m\u001b[0many\u001b[0m\u001b[1;33m(\u001b[0m\u001b[0mRR\u001b[0m \u001b[1;33m==\u001b[0m \u001b[1;36m0\u001b[0m\u001b[1;33m)\u001b[0m\u001b[1;33m)\u001b[0m\u001b[1;33m:\u001b[0m\u001b[1;33m\u001b[0m\u001b[1;33m\u001b[0m\u001b[0m\n\u001b[1;32m--> 121\u001b[1;33m         \u001b[1;32mraise\u001b[0m \u001b[0mValueError\u001b[0m\u001b[1;33m(\u001b[0m\u001b[0mzero_msg\u001b[0m\u001b[1;33m.\u001b[0m\u001b[0mformat\u001b[0m\u001b[1;33m(\u001b[0m\u001b[1;34m'RR'\u001b[0m\u001b[1;33m,\u001b[0m \u001b[0mestimator\u001b[0m\u001b[1;33m)\u001b[0m\u001b[1;33m)\u001b[0m\u001b[1;33m\u001b[0m\u001b[1;33m\u001b[0m\u001b[0m\n\u001b[0m\u001b[0;32m    122\u001b[0m \u001b[1;33m\u001b[0m\u001b[0m\n\u001b[0;32m    123\u001b[0m     \u001b[0mestimators_dividing_by_dr\u001b[0m \u001b[1;33m=\u001b[0m \u001b[1;33m(\u001b[0m\u001b[1;34m'Hamilton'\u001b[0m\u001b[1;33m,\u001b[0m \u001b[1;33m)\u001b[0m\u001b[1;33m\u001b[0m\u001b[1;33m\u001b[0m\u001b[0m\n",
      "\u001b[1;31mValueError\u001b[0m: When calculating the two-point function, there was at least one \nseparation bin with zero RR pairs. Since the ``Natural`` estimator you chose \ndivides by RR, you will have at least one NaN returned value.\nMost likely, the innermost separation bin is the problem.\nTry increasing the number of randoms and/or using broader bins.\nTo estimate the number of required randoms, the following expression \nfor the expected number of pairs inside a sphere of radius ``r`` may be useful:\n\n<Npairs> = (Nran_tot)*(4pi/3)*(r/Lbox)^3 \n\n"
     ]
    }
   ],
   "source": [
    "N = 10**5\n",
    "randoms = np.random.random((N,3))*halocat.Lbox\n",
    "halo_xi, halo_xi_cov =  tpcf_jackknife(halo_coords[halo_mask], randoms,\n",
    "                                       rbins, Nsub=[4, 4, 4], period=halocat.Lbox, num_threads=4)\n",
    "halo_xi_err = np.sqrt(np.diag(halo_xi_cov))"
   ]
  },
  {
   "cell_type": "markdown",
   "metadata": {},
   "source": [
    "## Halo Model"
   ]
  },
  {
   "cell_type": "code",
   "execution_count": null,
   "metadata": {},
   "outputs": [],
   "source": [
    "from intrinsic_alignments.ia_models.ia_model_components import CentralAlignment\n",
    "from intrinsic_alignments.ia_models.ia_model_components import RadialSatelliteAlignment, RadialSatelliteAlignmentStrength\n",
    "from intrinsic_alignments.ia_models.occupation_models import SubHaloPositions, TriaxialNFW"
   ]
  },
  {
   "cell_type": "code",
   "execution_count": null,
   "metadata": {},
   "outputs": [],
   "source": [
    "satellite_alignment_strength = RadialSatelliteAlignmentStrength(satellite_alignment_a= 0.00650463)\n",
    "satellite_alignment_model = RadialSatelliteAlignment(satellite_alignment_strength=0.83, Lbox=halocat.Lbox)\n",
    "central_alignment_model = CentralAlignment(central_alignment_strength=0.999)"
   ]
  },
  {
   "cell_type": "code",
   "execution_count": null,
   "metadata": {},
   "outputs": [],
   "source": [
    "r = np.logspace(-2,0,100)\n",
    "plt.plot(r, satellite_alignment_strength.alignment_strength_radial_dependence(r))\n",
    "plt.xscale('log')\n",
    "plt.ylim([0,1])\n",
    "plt.show()"
   ]
  },
  {
   "cell_type": "markdown",
   "metadata": {},
   "source": [
    "## Anisotropy Effect"
   ]
  },
  {
   "cell_type": "code",
   "execution_count": null,
   "metadata": {},
   "outputs": [],
   "source": [
    "# define subhalo positions\n",
    "satellite_position_model = TriaxialNFW(anisotropy_bias=4.0, Lbox=halocat.Lbox)\n",
    "#satellite_position_model = SubHaloPositions()\n",
    "\n",
    "table = Table(np.copy(halocat.halo_table))\n",
    "table = satellite_position_model.assign_gal_type(table=table)\n",
    "table = satellite_position_model.assign_positions(table=table)\n",
    "\n",
    "table = central_alignment_model.assign_central_orientation(table=table)\n",
    "table = satellite_alignment_strength.assign_satellite_alignment_strength(table=table, Lbox=halocat.Lbox)\n",
    "table = satellite_alignment_model.assign_satellite_orientation(table=table)"
   ]
  },
  {
   "cell_type": "code",
   "execution_count": null,
   "metadata": {
    "scrolled": true
   },
   "outputs": [],
   "source": [
    "# get host halo properties\n",
    "halo_hostid = halocat.halo_table['halo_hostid']\n",
    "halo_id = halocat.halo_table['halo_id']\n",
    "inds1, inds2 = crossmatch(halo_hostid, halo_id)\n",
    "halo_x = halocat.halo_table['halo_x']\n",
    "halo_y = halocat.halo_table['halo_y']\n",
    "halo_z = halocat.halo_table['halo_z']\n",
    "\n",
    "from intrinsic_alignments.ia_models.occupation_models import radial_distance\n",
    "rr = radial_distance(halo_x[inds1], halo_y[inds1], halo_z[inds1],\n",
    "                     halo_x[inds2], halo_y[inds2], halo_z[inds2],\n",
    "                     Lbox=halocat.Lbox)[1]"
   ]
  },
  {
   "cell_type": "code",
   "execution_count": null,
   "metadata": {},
   "outputs": [],
   "source": [
    "mask = (halo_hostid==3060299107)\n",
    "halocat.halo_table['halo_x'][mask]"
   ]
  },
  {
   "cell_type": "code",
   "execution_count": null,
   "metadata": {},
   "outputs": [],
   "source": [
    "rbins = np.logspace(-2,1.5,100)\n",
    "counts1 = np.histogram(table['r'], bins=rbins)[0]\n",
    "counts2 = np.histogram(rr, bins=rbins)[0]\n",
    "\n",
    "plt.step(rbins[:-1], counts1, color='red')\n",
    "plt.step(rbins[:-1], counts2, color='blue')\n",
    "plt.xscale('log')"
   ]
  },
  {
   "cell_type": "code",
   "execution_count": null,
   "metadata": {},
   "outputs": [],
   "source": [
    "mask = (table['halo_mpeak']>10**12.0)\n",
    "\n",
    "coords = np.vstack((table['x'],table['y'],table['z'])).T\n",
    "coords = coords[mask]\n",
    "\n",
    "orientations = np.vstack((table['galaxy_axisA_x'],\n",
    "                          table['galaxy_axisA_y'],\n",
    "                          table['galaxy_axisA_z'])).T\n",
    "orientations = orientations[mask]"
   ]
  },
  {
   "cell_type": "code",
   "execution_count": null,
   "metadata": {},
   "outputs": [],
   "source": [
    "from halotools.mock_observables import tpcf\n",
    "from halotools.mock_observables.alignments import ed_3d, ee_3d\n",
    "\n",
    "rbins = np.logspace(-1,1.2,13)\n",
    "rbin_centers = (rbins[:-1]+rbins[1:])/2.0\n",
    "\n",
    "xi = tpcf(coords, rbins=rbins, period=halocat.Lbox, num_threads=4)\n",
    "\n",
    "omega = ed_3d(coords, orientations,\n",
    "              coords,\n",
    "              rbins, period=halocat.Lbox, num_threads=4)\n",
    "\n",
    "eta = ee_3d(coords, orientations,\n",
    "              coords, orientations,\n",
    "              rbins, period=halocat.Lbox, num_threads=4)"
   ]
  },
  {
   "cell_type": "code",
   "execution_count": null,
   "metadata": {},
   "outputs": [],
   "source": [
    "ps = np.linspace(1,0,10)\n",
    "colors = np.linspace(1.0,0.5,len(ps))\n",
    "colors = plt.cm.cool(colors)\n",
    "\n",
    "fig = plt.figure(figsize=(8.0,4.0))\n",
    "\n",
    "# TPCF\n",
    "rect = (0.1,0.4,0.3,0.5) # [left, bottom, width, height]\n",
    "\n",
    "ax = plt.axes(rect)\n",
    "l0 = ax.errorbar(rbin_centers, halo_xi, yerr=halo_xi_err,\n",
    "                 fmt='o', color='black', ms=4)\n",
    "ax.plot(rbin_centers, xi, '-')\n",
    "ax.set_yscale('log')\n",
    "ax.set_xscale('log')\n",
    "\n",
    "# ED\n",
    "rect = (0.45,0.4,0.3,0.5) # [left, bottom, width, height]\n",
    "\n",
    "ax = plt.axes(rect)\n",
    "l0 = ax.errorbar(rbin_centers, halo_omega, yerr=halo_omega_err,\n",
    "                 fmt='o', color='black', ms=4)\n",
    "ax.plot(rbin_centers, omega, '-')\n",
    "ax.set_yscale('log')\n",
    "ax.set_xscale('log')\n",
    "\n",
    "# EE\n",
    "rect = (0.8,0.4,0.3,0.5) # [left, bottom, width, height]\n",
    "\n",
    "ax = plt.axes(rect)\n",
    "l0 = ax.errorbar(rbin_centers, halo_eta, yerr=halo_eta_err,\n",
    "                 fmt='o', color='black', ms=4)\n",
    "ax.plot(rbin_centers, eta, '-')\n",
    "ax.set_yscale('log')\n",
    "ax.set_xscale('log')"
   ]
  },
  {
   "cell_type": "markdown",
   "metadata": {},
   "source": [
    "# subhalo anisotropy"
   ]
  },
  {
   "cell_type": "code",
   "execution_count": null,
   "metadata": {},
   "outputs": [],
   "source": [
    "from intrinsic_alignments.ia_models.ia_model_components import CentralAlignment\n",
    "from intrinsic_alignments.ia_models.ia_model_components import RadialSatelliteAlignment\n",
    "from intrinsic_alignments.ia_models.occupation_models import SubHaloPositions, IsotropicSubhaloPositions, SemiIsotropicSubhaloPositions"
   ]
  },
  {
   "cell_type": "code",
   "execution_count": null,
   "metadata": {},
   "outputs": [],
   "source": [
    "# define subhalo positions\n",
    "satellite_position_model_1 = SubHaloPositions()\n",
    "\n",
    "table_1 = Table(np.copy(halocat.halo_table))\n",
    "table_1 = satellite_position_model_1.assign_gal_type(table=table_1)\n",
    "table_1 = satellite_position_model_1.assign_positions(table=table_1)"
   ]
  },
  {
   "cell_type": "code",
   "execution_count": null,
   "metadata": {},
   "outputs": [],
   "source": [
    "# define subhalo and host halo alignments\n",
    "satellite_alignment_model = RadialSatelliteAlignment(satellite_alignment_strength=0.85, Lbox=halocat.Lbox)\n",
    "central_alignment_model = CentralAlignment(central_alignment_strength=0.99)\n",
    "\n",
    "table_1 = central_alignment_model.assign_central_orientation(table=table_1)\n",
    "table_1 = satellite_alignment_model.assign_satellite_orientation(table=table_1)"
   ]
  },
  {
   "cell_type": "code",
   "execution_count": null,
   "metadata": {},
   "outputs": [],
   "source": [
    "# examine galaxy-galaxy correlation function\n",
    "from halotools.mock_observables import tpcf\n",
    "\n",
    "rbins = np.logspace(-1,1.2,20)\n",
    "rbin_centers = (rbins[:-1]+rbins[1:])/2.0\n",
    "\n",
    "mask_0 = (halocat.halo_table['halo_mpeak']>10**12.5)\n",
    "mask_1 = (table_1['halo_mpeak']>10**12.5)\n",
    "\n",
    "coords_0 = np.vstack((halocat.halo_table['halo_x'],\n",
    "                      halocat.halo_table['halo_y'],\n",
    "                      halocat.halo_table['halo_z'])).T\n",
    "result_0 = tpcf(coords_0[mask_0], rbins=rbins, period=halocat.Lbox)\n",
    "\n",
    "coords_1 = np.vstack((table_1['x'],table_1['y'],table_1['z'])).T\n",
    "result_1 = tpcf(coords_1[mask_1], rbins=rbins, period=halocat.Lbox, num_threads=4)"
   ]
  },
  {
   "cell_type": "code",
   "execution_count": null,
   "metadata": {},
   "outputs": [],
   "source": [
    "from halotools.mock_observables.alignments import ed_3d, ee_3d\n",
    "\n",
    "orientations_0 = np.vstack((halocat.halo_table['halo_axisA_x'],\n",
    "                            halocat.halo_table['halo_axisA_y'],\n",
    "                            halocat.halo_table['halo_axisA_z'])).T\n",
    "mask = (np.prod(orientations_0*orientations_0,axis=-1)==0)\n",
    "orientations_0[mask,:] = np.random.random(3)\n",
    "\n",
    "orientations_1 = np.vstack((table_1['galaxy_axisA_x'],\n",
    "                            table_1['galaxy_axisA_y'],\n",
    "                            table_1['galaxy_axisA_z'])).T\n",
    "mask = (np.prod(orientations_1*orientations_1,axis=-1)==0)\n",
    "\n",
    "# calculate ED correaltion functions\n",
    "omega_0 = ed_3d(coords_0[mask_0], orientations_0[mask_0],\n",
    "                coords_0[mask_0],\n",
    "                rbins, period=halocat.Lbox, num_threads=4)\n",
    "\n",
    "omega_1 = ed_3d(coords_1[mask_1], orientations_1[mask_1],\n",
    "                coords_1[mask_1],\n",
    "                rbins, period=halocat.Lbox, num_threads=4)\n",
    "\n",
    "\n",
    "# calculate EE correaltion functions\n",
    "eta_0 = ee_3d(coords_0[mask_0], orientations_0[mask_0],\n",
    "              coords_0[mask_0], orientations_0[mask_0],\n",
    "              rbins, period=halocat.Lbox, num_threads=4)\n",
    "\n",
    "eta_1 = ee_3d(coords_1[mask_1], orientations_1[mask_1],\n",
    "              coords_1[mask_1], orientations_1[mask_1],\n",
    "              rbins, period=halocat.Lbox, num_threads=4)"
   ]
  },
  {
   "cell_type": "code",
   "execution_count": null,
   "metadata": {},
   "outputs": [],
   "source": [
    "fig, (ax1, ax2) = plt.subplots(2,1, sharex=True, figsize=(3.3,6.6))\n",
    "fig.subplots_adjust(left=0.2, right=0.9, bottom=0.2, top=0.9)\n",
    "\n",
    "ax = ax1\n",
    "l0, = ax.plot(rbin_centers, omega_0, 'o', color='black')\n",
    "l1, = ax.plot(rbin_centers, omega_1, '-', color='black')\n",
    "ax.set_xscale('log')\n",
    "ax.set_yscale('log')\n",
    "ax.set_xlabel(r'$r~[h^{-1}\\rm Mpc]$')\n",
    "ax.set_ylabel(r'$\\omega(r)$')\n",
    "ax.set_ylim([0.01,0.5])\n",
    "\n",
    "ax = ax2\n",
    "l0, = ax.plot(rbin_centers, eta_0, 'o', color='black')\n",
    "l1, = ax.plot(rbin_centers, eta_1, '-', color='black')\n",
    "ax.set_xscale('log')\n",
    "ax.set_yscale('log')\n",
    "ax.set_xlabel(r'$r~[h^{-1}\\rm Mpc]$')\n",
    "ax.set_ylabel(r'$\\eta(r)$')\n",
    "ax.set_ylim([0.0001,0.5])\n",
    "\n",
    "plt.show()"
   ]
  },
  {
   "cell_type": "code",
   "execution_count": null,
   "metadata": {},
   "outputs": [],
   "source": [
    "from intrinsic_alignments.ia_models.occupation_models import TriaxialNFW\n",
    "\n",
    "# add estimate of minor axis\n",
    "from rotations.vector_utilities import normalized_vectors\n",
    "B = np.vstack((halocat.halo_table['halo_axisA_x'],\n",
    "               halocat.halo_table['halo_axisA_y'],\n",
    "               halocat.halo_table['halo_axisA_z'])).T\n",
    "A = np.vstack((halocat.halo_table['halo_jx'],\n",
    "               halocat.halo_table['halo_jy'],\n",
    "               halocat.halo_table['halo_jz'])).T\n",
    "B = normalized_vectors(B)\n",
    "A = normalized_vectors(A)\n",
    "\n",
    "D = np.cross(A, B)\n",
    "C = np.cross(B, D)\n",
    "\n",
    "halocat.halo_table['halo_axisC_x'] = C[:,0]\n",
    "halocat.halo_table['halo_axisC_y'] = C[:,1]\n",
    "halocat.halo_table['halo_axisC_z'] = C[:,2]\n",
    "\n",
    "# define subhalo positions\n",
    "satellite_position_model_2 = TriaxialNFW(anisotropy_bias=0.0, Lbox=halocat.Lbox)\n",
    "# define subhalo positions\n",
    "satellite_position_model_3 = TriaxialNFW(anisotropy_bias=5.0, Lbox=halocat.Lbox)\n",
    "\n",
    "table_2 = Table(np.copy(halocat.halo_table))\n",
    "table_2 = satellite_position_model_2.assign_gal_type(table=table_2)\n",
    "table_2 = satellite_position_model_2.assign_positions(table=table_2)\n",
    "\n",
    "table_3 = Table(np.copy(halocat.halo_table))\n",
    "table_3 = satellite_position_model_3.assign_gal_type(table=table_3)\n",
    "table_3 = satellite_position_model_3.assign_positions(table=table_3)\n",
    "\n",
    "# define subhalo and host halo alignments\n",
    "satellite_alignment_model = RadialSatelliteAlignment(satellite_alignment_strength=0.85, Lbox=halocat.Lbox)\n",
    "central_alignment_model = CentralAlignment(central_alignment_strength=0.99)\n",
    "\n",
    "table_2 = central_alignment_model.assign_central_orientation(table=table_2)\n",
    "table_2 = satellite_alignment_model.assign_satellite_orientation(table=table_2)\n",
    "\n",
    "table_3 = central_alignment_model.assign_central_orientation(table=table_3)\n",
    "table_3 = satellite_alignment_model.assign_satellite_orientation(table=table_3)"
   ]
  },
  {
   "cell_type": "code",
   "execution_count": null,
   "metadata": {},
   "outputs": [],
   "source": [
    "mask_2 = (table_2['halo_mpeak']>10**12.5)\n",
    "\n",
    "coords_2 = np.vstack((table_2['x'],table_2['y'],table_2['z'])).T\n",
    "result_2 = tpcf(coords_2[mask_2], rbins=rbins, period=halocat.Lbox, num_threads=4)\n",
    "\n",
    "mask_3 = (table_3['halo_mpeak']>10**12.5)\n",
    "\n",
    "coords_3 = np.vstack((table_3['x'],table_3['y'],table_3['z'])).T\n",
    "result_3 = tpcf(coords_3[mask_3], rbins=rbins, period=halocat.Lbox, num_threads=4)"
   ]
  },
  {
   "cell_type": "code",
   "execution_count": null,
   "metadata": {},
   "outputs": [],
   "source": [
    "fig = plt.figure(figsize=(3.3,3.3))\n",
    "l1, = plt.plot(rbin_centers, result_0, 'o')\n",
    "l1, = plt.plot(rbin_centers, result_1, '-')\n",
    "l2, = plt.plot(rbin_centers, result_2, '--')\n",
    "l2, = plt.plot(rbin_centers, result_3, ':')\n",
    "plt.xscale('log')\n",
    "plt.yscale('log')\n",
    "plt.xlabel(r'$r~[h^{-1}{\\rm Mpc}]$')\n",
    "plt.ylabel(r'$\\xi$')\n",
    "plt.show()"
   ]
  },
  {
   "cell_type": "code",
   "execution_count": null,
   "metadata": {},
   "outputs": [],
   "source": [
    "orientations_2 = np.vstack((table_2['galaxy_axisA_x'],\n",
    "                            table_2['galaxy_axisA_y'],\n",
    "                            table_2['galaxy_axisA_z'])).T\n",
    "\n",
    "omega_2 = ed_3d(coords_2[mask_2], orientations_2[mask_2],\n",
    "              coords_2[mask_2],\n",
    "              rbins, period=halocat.Lbox, num_threads=4)\n",
    "\n",
    "eta_2 = ee_3d(coords_2[mask_2], orientations_2[mask_2],\n",
    "              coords_2[mask_2], orientations_2[mask_2],\n",
    "              rbins, period=halocat.Lbox, num_threads=4)"
   ]
  },
  {
   "cell_type": "code",
   "execution_count": null,
   "metadata": {},
   "outputs": [],
   "source": [
    "orientations_3 = np.vstack((table_3['galaxy_axisA_x'],\n",
    "                            table_3['galaxy_axisA_y'],\n",
    "                            table_3['galaxy_axisA_z'])).T\n",
    "\n",
    "omega_3 = ed_3d(coords_3[mask_3], orientations_3[mask_3],\n",
    "              coords_3[mask_3],\n",
    "              rbins, period=halocat.Lbox, num_threads=4)\n",
    "\n",
    "eta_3 = ee_3d(coords_3[mask_3], orientations_3[mask_3],\n",
    "              coords_3[mask_3], orientations_3[mask_3],\n",
    "              rbins, period=halocat.Lbox, num_threads=4)"
   ]
  }
 ],
 "metadata": {
  "kernelspec": {
   "display_name": "Python 3",
   "language": "python",
   "name": "python3"
  },
  "language_info": {
   "codemirror_mode": {
    "name": "ipython",
    "version": 3
   },
   "file_extension": ".py",
   "mimetype": "text/x-python",
   "name": "python",
   "nbconvert_exporter": "python",
   "pygments_lexer": "ipython3",
   "version": "3.8.1"
  }
 },
 "nbformat": 4,
 "nbformat_minor": 2
}
