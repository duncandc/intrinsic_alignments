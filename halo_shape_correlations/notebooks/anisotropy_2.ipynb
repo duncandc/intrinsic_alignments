{
 "cells": [
  {
   "cell_type": "code",
   "execution_count": 1,
   "metadata": {},
   "outputs": [],
   "source": [
    "from __future__ import print_function, division\n",
    "import numpy as np\n",
    "from astropy.table import Table\n",
    "import matplotlib.pyplot as plt\n",
    "%matplotlib inline\n",
    "\n",
    "# location to save figures\n",
    "import os\n",
    "cwd = os.getcwd()\n",
    "figure_path = cwd + '/figures/'"
   ]
  },
  {
   "cell_type": "markdown",
   "metadata": {},
   "source": [
    "## Halo Catalog"
   ]
  },
  {
   "cell_type": "code",
   "execution_count": 2,
   "metadata": {},
   "outputs": [],
   "source": [
    "# load a test halo catalog\n",
    "\n",
    "from halotools.sim_manager import CachedHaloCatalog\n",
    "halocat = CachedHaloCatalog(simname='bolshoi', halo_finder='rockstar',\n",
    "                            redshift=0.0, dz_tol=0.001, version_name='halotools_v0p4')\n",
    "\n",
    "# add estimate of minor axis\n",
    "from rotations.vector_utilities import normalized_vectors\n",
    "B = np.vstack((halocat.halo_table['halo_axisA_x'],\n",
    "               halocat.halo_table['halo_axisA_y'],\n",
    "               halocat.halo_table['halo_axisA_z'])).T\n",
    "A = np.vstack((halocat.halo_table['halo_jx'],\n",
    "               halocat.halo_table['halo_jy'],\n",
    "               halocat.halo_table['halo_jz'])).T\n",
    "B = normalized_vectors(B)\n",
    "A = normalized_vectors(A)\n",
    "\n",
    "D = np.cross(A, B)\n",
    "C = np.cross(B, D)\n",
    "\n",
    "halocat.halo_table['halo_axisC_x'] = C[:,0]\n",
    "halocat.halo_table['halo_axisC_y'] = C[:,1]\n",
    "halocat.halo_table['halo_axisC_z'] = C[:,2]\n",
    "\n",
    "# get host halo properties\n",
    "from halotools.utils import crossmatch\n",
    "halo_hostid = halocat.halo_table['halo_hostid']\n",
    "halo_id = halocat.halo_table['halo_id']\n",
    "inds1, inds2 = crossmatch(halo_hostid, halo_id)\n",
    "halocat.halo_table['halo_rvir'][inds1] = halocat.halo_table['halo_rvir'][inds2]"
   ]
  },
  {
   "cell_type": "markdown",
   "metadata": {},
   "source": [
    "## (sub-)halo correlations"
   ]
  },
  {
   "cell_type": "code",
   "execution_count": 3,
   "metadata": {},
   "outputs": [],
   "source": [
    "from halotools.mock_observables import tpcf_jackknife\n",
    "from intrinsic_alignments.utils.jackknife_observables import jackknife_ed_3d, jackknife_ee_3d\n",
    "\n",
    "rbins = np.logspace(-1,1.2,13)\n",
    "rbin_centers = (rbins[:-1]+rbins[1:])/2.0\n",
    "\n",
    "# empirical halo and sub-halo correlations\n",
    "\n",
    "halo_coords = np.vstack((halocat.halo_table['halo_x'],\n",
    "                         halocat.halo_table['halo_y'],\n",
    "                         halocat.halo_table['halo_z'])).T\n",
    "\n",
    "halo_orientations = np.vstack((halocat.halo_table['halo_axisA_x'],\n",
    "                               halocat.halo_table['halo_axisA_y'],\n",
    "                               halocat.halo_table['halo_axisA_z'])).T\n",
    "\n",
    "# define host and sub-halo samples\n",
    "hosts = halocat.halo_table['halo_upid']==-1\n",
    "subs = halocat.halo_table['halo_upid']!=-1\n",
    "\n",
    "# define host halo IDs\n",
    "host_ids = halocat.halo_table['halo_hostid']\n",
    "\n",
    "# define halo sub-samples\n",
    "halo_mask = (halocat.halo_table['halo_mpeak']>10**12.0)"
   ]
  },
  {
   "cell_type": "code",
   "execution_count": 4,
   "metadata": {},
   "outputs": [
    {
     "name": "stdout",
     "output_type": "stream",
     "text": [
      "estimated time to complete jackknife calculation (s): 26.008848667144775\n"
     ]
    }
   ],
   "source": [
    "# calculate ED correaltion functions\n",
    "halo_omega, halo_omega_cov = jackknife_ed_3d(halo_coords[halo_mask], \n",
    "                                             halo_orientations[halo_mask],\n",
    "                                             halo_coords[halo_mask],\n",
    "                                             rbins, Nsub = [3,3,3],\n",
    "                                             period=halocat.Lbox, num_threads=4,\n",
    "                                             verbose=True)\n",
    "halo_omega_err = np.sqrt(np.diag(halo_omega_cov))"
   ]
  },
  {
   "cell_type": "code",
   "execution_count": 5,
   "metadata": {},
   "outputs": [
    {
     "name": "stdout",
     "output_type": "stream",
     "text": [
      "estimated time to complete jackknife calculation (s): 53.64155578613281\n"
     ]
    }
   ],
   "source": [
    "# calculate EE correaltion functions\n",
    "halo_eta, halo_eta_cov = jackknife_ee_3d(halo_coords[halo_mask], \n",
    "                                         halo_orientations[halo_mask],\n",
    "                                         halo_coords[halo_mask],\n",
    "                                         halo_orientations[halo_mask],\n",
    "                                         rbins, Nsub = [4,4,4],\n",
    "                                         period=halocat.Lbox, num_threads=4,\n",
    "                                         verbose=True)\n",
    "halo_eta_err = np.sqrt(np.diag(halo_eta_cov))"
   ]
  },
  {
   "cell_type": "code",
   "execution_count": 6,
   "metadata": {},
   "outputs": [],
   "source": [
    "N = 10**5\n",
    "randoms = np.random.random((N,3))*halocat.Lbox\n",
    "halo_xi, halo_xi_cov =  tpcf_jackknife(halo_coords[halo_mask], randoms,\n",
    "                                       rbins, Nsub=[4, 4, 4], period=halocat.Lbox, num_threads=4)\n",
    "halo_xi_err = np.sqrt(np.diag(halo_xi_cov))"
   ]
  },
  {
   "cell_type": "markdown",
   "metadata": {},
   "source": [
    "## Halo Model"
   ]
  },
  {
   "cell_type": "code",
   "execution_count": 7,
   "metadata": {},
   "outputs": [],
   "source": [
    "from intrinsic_alignments.ia_models.ia_model_components import CentralAlignment\n",
    "from intrinsic_alignments.ia_models.ia_model_components import RadialSatelliteAlignment, RadialSatelliteAlignmentStrength\n",
    "from intrinsic_alignments.ia_models.occupation_models import SubHaloPositions, TriaxialNFW"
   ]
  },
  {
   "cell_type": "code",
   "execution_count": 8,
   "metadata": {},
   "outputs": [],
   "source": [
    "satellite_alignment_strength = RadialSatelliteAlignmentStrength(satellite_alignment_a= 0.00650463)\n",
    "satellite_alignment_model = RadialSatelliteAlignment(satellite_alignment_strength=0.83, Lbox=halocat.Lbox)\n",
    "central_alignment_model = CentralAlignment(central_alignment_strength=0.999)"
   ]
  },
  {
   "cell_type": "code",
   "execution_count": 9,
   "metadata": {},
   "outputs": [
    {
     "data": {
      "image/png": "[encoded data removed]",
      "text/plain": [
       "<Figure size 432x288 with 1 Axes>"
      ]
     },
     "metadata": {
      "needs_background": "light"
     },
     "output_type": "display_data"
    }
   ],
   "source": [
    "r = np.logspace(-2,0,100)\n",
    "plt.plot(r, satellite_alignment_strength.alignment_strength_radial_dependence(r))\n",
    "plt.xscale('log')\n",
    "plt.ylim([0,1])\n",
    "plt.show()"
   ]
  },
  {
   "cell_type": "markdown",
   "metadata": {},
   "source": [
    "## Anisotropy Effect"
   ]
  },
  {
   "cell_type": "code",
   "execution_count": 10,
   "metadata": {},
   "outputs": [
    {
     "name": "stderr",
     "output_type": "stream",
     "text": [
      "/home/nvanalfen/github_repos/intrinsic_alignments/intrinsic_alignments/ia_models/occupation_models.py:515: UserWarning: There are 460 sub-haloes with no host halo.\n",
      "  warn(msg)\n",
      "/home/nvanalfen/github_repos/intrinsic_alignments/intrinsic_alignments/ia_models/ia_model_components.py:189: UserWarning: `central_alignment_strength` not detected in the table, using value in self.param_dict.\n",
      "  warn(msg)\n",
      "/home/nvanalfen/miniconda3/lib/python3.8/site-packages/scipy/stats/_distn_infrastructure.py:1051: VisibleDeprecationWarning: The signature of <bound method DimrothWatson._rvs of <watson_dist.watson_dist.watson_distribution.DimrothWatson object at 0x2b264c65a040>> does not contain a \"size\" keyword.  Such signatures are deprecated.\n",
      "  warnings.warn(\n",
      "/home/nvanalfen/github_repos/intrinsic_alignments/intrinsic_alignments/ia_models/ia_model_components.py:583: UserWarning: 1033565 galaxies have a radial distance equal to zero (or infinity) from their host. These galaxies will be re-assigned random alignment vectors.\n",
      "  warn(msg)\n",
      "/home/nvanalfen/miniconda3/lib/python3.8/site-packages/scipy/stats/_distn_infrastructure.py:1051: VisibleDeprecationWarning: The signature of <bound method DimrothWatson._rvs of <watson_dist.watson_dist.watson_distribution.DimrothWatson object at 0x2b264d4af7f0>> does not contain a \"size\" keyword.  Such signatures are deprecated.\n",
      "  warnings.warn(\n",
      "/home/nvanalfen/github_repos/intrinsic_alignments/intrinsic_alignments/ia_models/ia_model_components.py:608: UserWarning: 1 correlated alignment axis(axes) were found to be not finite. These will be re-assigned random vectors.\n",
      "  warn(msg)\n"
     ]
    }
   ],
   "source": [
    "# define subhalo positions\n",
    "satellite_position_model = TriaxialNFW(anisotropy_bias=4.0, Lbox=halocat.Lbox)\n",
    "#satellite_position_model = SubHaloPositions()\n",
    "\n",
    "table = Table(np.copy(halocat.halo_table))\n",
    "table = satellite_position_model.assign_gal_type(table=table)\n",
    "table = satellite_position_model.assign_positions(table=table)\n",
    "\n",
    "table = central_alignment_model.assign_central_orientation(table=table)\n",
    "table = satellite_alignment_strength.assign_satellite_alignment_strength(table=table, Lbox=halocat.Lbox)\n",
    "table = satellite_alignment_model.assign_satellite_orientation(table=table)"
   ]
  },
  {
   "cell_type": "code",
   "execution_count": 11,
   "metadata": {
    "scrolled": true
   },
   "outputs": [],
   "source": [
    "# get host halo properties\n",
    "halo_hostid = halocat.halo_table['halo_hostid']\n",
    "halo_id = halocat.halo_table['halo_id']\n",
    "inds1, inds2 = crossmatch(halo_hostid, halo_id)\n",
    "halo_x = halocat.halo_table['halo_x']\n",
    "halo_y = halocat.halo_table['halo_y']\n",
    "halo_z = halocat.halo_table['halo_z']\n",
    "\n",
    "from intrinsic_alignments.ia_models.occupation_models import radial_distance\n",
    "rr = radial_distance(halo_x[inds1], halo_y[inds1], halo_z[inds1],\n",
    "                     halo_x[inds2], halo_y[inds2], halo_z[inds2],\n",
    "                     Lbox=halocat.Lbox)[1]"
   ]
  },
  {
   "cell_type": "code",
   "execution_count": 12,
   "metadata": {},
   "outputs": [
    {
     "data": {
      "text/html": [
       "&lt;Column name=&apos;halo_x&apos; dtype=&apos;float32&apos; length=115&gt;\n",
       "<table>\n",
       "<tr><td>35.72499</td></tr>\n",
       "<tr><td>35.59784</td></tr>\n",
       "<tr><td>35.88582</td></tr>\n",
       "<tr><td>34.83579</td></tr>\n",
       "<tr><td>35.67586</td></tr>\n",
       "<tr><td>35.51022</td></tr>\n",
       "<tr><td>35.2747</td></tr>\n",
       "<tr><td>35.25866</td></tr>\n",
       "<tr><td>35.96299</td></tr>\n",
       "<tr><td>35.03138</td></tr>\n",
       "<tr><td>35.37808</td></tr>\n",
       "<tr><td>36.38504</td></tr>\n",
       "<tr><td>...</td></tr>\n",
       "<tr><td>35.60458</td></tr>\n",
       "<tr><td>35.2385</td></tr>\n",
       "<tr><td>35.94378</td></tr>\n",
       "<tr><td>35.25238</td></tr>\n",
       "<tr><td>35.98488</td></tr>\n",
       "<tr><td>35.04091</td></tr>\n",
       "<tr><td>35.44402</td></tr>\n",
       "<tr><td>35.87405</td></tr>\n",
       "<tr><td>35.00665</td></tr>\n",
       "<tr><td>35.5754</td></tr>\n",
       "<tr><td>35.29343</td></tr>\n",
       "<tr><td>36.05329</td></tr>\n",
       "</table>"
      ],
      "text/plain": [
       "<Column name='halo_x' dtype='float32' length=115>\n",
       "35.72499\n",
       "35.59784\n",
       "35.88582\n",
       "34.83579\n",
       "35.67586\n",
       "35.51022\n",
       " 35.2747\n",
       "35.25866\n",
       "35.96299\n",
       "35.03138\n",
       "35.37808\n",
       "36.38504\n",
       "     ...\n",
       "35.60458\n",
       " 35.2385\n",
       "35.94378\n",
       "35.25238\n",
       "35.98488\n",
       "35.04091\n",
       "35.44402\n",
       "35.87405\n",
       "35.00665\n",
       " 35.5754\n",
       "35.29343\n",
       "36.05329"
      ]
     },
     "execution_count": 12,
     "metadata": {},
     "output_type": "execute_result"
    }
   ],
   "source": [
    "mask = (halo_hostid==3060299107)\n",
    "halocat.halo_table['halo_x'][mask]"
   ]
  },
  {
   "cell_type": "code",
   "execution_count": 13,
   "metadata": {},
   "outputs": [
    {
     "data": {
      "image/png": "[encoded data removed]",
      "text/plain": [
       "<Figure size 432x288 with 1 Axes>"
      ]
     },
     "metadata": {
      "needs_background": "light"
     },
     "output_type": "display_data"
    }
   ],
   "source": [
    "rbins = np.logspace(-2,1.5,100)\n",
    "counts1 = np.histogram(table['r'], bins=rbins)[0]\n",
    "counts2 = np.histogram(rr, bins=rbins)[0]\n",
    "\n",
    "plt.step(rbins[:-1], counts1, color='red')\n",
    "plt.step(rbins[:-1], counts2, color='blue')\n",
    "plt.xscale('log')"
   ]
  },
  {
   "cell_type": "code",
   "execution_count": 14,
   "metadata": {},
   "outputs": [],
   "source": [
    "mask = (table['halo_mpeak']>10**12.0)\n",
    "\n",
    "coords = np.vstack((table['x'],table['y'],table['z'])).T\n",
    "coords = coords[mask]\n",
    "\n",
    "orientations = np.vstack((table['galaxy_axisA_x'],\n",
    "                          table['galaxy_axisA_y'],\n",
    "                          table['galaxy_axisA_z'])).T\n",
    "orientations = orientations[mask]"
   ]
  },
  {
   "cell_type": "code",
   "execution_count": 16,
   "metadata": {},
   "outputs": [],
   "source": [
    "from halotools.mock_observables import tpcf\n",
    "from halotools_ia.correlation_functions import ed_3d, ee_3d\n",
    "\n",
    "rbins = np.logspace(-1,1.2,13)\n",
    "rbin_centers = (rbins[:-1]+rbins[1:])/2.0\n",
    "\n",
    "xi = tpcf(coords, rbins=rbins, period=halocat.Lbox, num_threads=4)\n",
    "\n",
    "omega = ed_3d(coords, orientations,\n",
    "              coords,\n",
    "              rbins, period=halocat.Lbox, num_threads=4)\n",
    "\n",
    "eta = ee_3d(coords, orientations,\n",
    "              coords, orientations,\n",
    "              rbins, period=halocat.Lbox, num_threads=4)"
   ]
  },
  {
   "cell_type": "code",
   "execution_count": 17,
   "metadata": {},
   "outputs": [
    {
     "data": {
      "image/png": "[encoded data removed]",
      "text/plain": [
       "<Figure size 576x288 with 3 Axes>"
      ]
     },
     "metadata": {
      "needs_background": "light"
     },
     "output_type": "display_data"
    }
   ],
   "source": [
    "ps = np.linspace(1,0,10)\n",
    "colors = np.linspace(1.0,0.5,len(ps))\n",
    "colors = plt.cm.cool(colors)\n",
    "\n",
    "fig = plt.figure(figsize=(8.0,4.0))\n",
    "\n",
    "# TPCF\n",
    "rect = (0.1,0.4,0.3,0.5) # [left, bottom, width, height]\n",
    "\n",
    "ax = plt.axes(rect)\n",
    "l0 = ax.errorbar(rbin_centers, halo_xi, yerr=halo_xi_err,\n",
    "                 fmt='o', color='black', ms=4)\n",
    "ax.plot(rbin_centers, xi, '-')\n",
    "ax.set_yscale('log')\n",
    "ax.set_xscale('log')\n",
    "\n",
    "# ED\n",
    "rect = (0.45,0.4,0.3,0.5) # [left, bottom, width, height]\n",
    "\n",
    "ax = plt.axes(rect)\n",
    "l0 = ax.errorbar(rbin_centers, halo_omega, yerr=halo_omega_err,\n",
    "                 fmt='o', color='black', ms=4)\n",
    "ax.plot(rbin_centers, omega, '-')\n",
    "ax.set_yscale('log')\n",
    "ax.set_xscale('log')\n",
    "\n",
    "# EE\n",
    "rect = (0.8,0.4,0.3,0.5) # [left, bottom, width, height]\n",
    "\n",
    "ax = plt.axes(rect)\n",
    "l0 = ax.errorbar(rbin_centers, halo_eta, yerr=halo_eta_err,\n",
    "                 fmt='o', color='black', ms=4)\n",
    "ax.plot(rbin_centers, eta, '-')\n",
    "ax.set_yscale('log')\n",
    "ax.set_xscale('log')"
   ]
  },
  {
   "cell_type": "markdown",
   "metadata": {},
   "source": [
    "# subhalo anisotropy"
   ]
  },
  {
   "cell_type": "code",
   "execution_count": 18,
   "metadata": {},
   "outputs": [],
   "source": [
    "from intrinsic_alignments.ia_models.ia_model_components import CentralAlignment\n",
    "from intrinsic_alignments.ia_models.ia_model_components import RadialSatelliteAlignment\n",
    "from intrinsic_alignments.ia_models.occupation_models import SubHaloPositions, IsotropicSubhaloPositions, SemiIsotropicSubhaloPositions"
   ]
  },
  {
   "cell_type": "code",
   "execution_count": 19,
   "metadata": {},
   "outputs": [],
   "source": [
    "# define subhalo positions\n",
    "satellite_position_model_1 = SubHaloPositions()\n",
    "\n",
    "table_1 = Table(np.copy(halocat.halo_table))\n",
    "table_1 = satellite_position_model_1.assign_gal_type(table=table_1)\n",
    "table_1 = satellite_position_model_1.assign_positions(table=table_1)"
   ]
  },
  {
   "cell_type": "code",
   "execution_count": 20,
   "metadata": {},
   "outputs": [
    {
     "name": "stderr",
     "output_type": "stream",
     "text": [
      "/home/nvanalfen/github_repos/intrinsic_alignments/intrinsic_alignments/ia_models/ia_model_components.py:189: UserWarning: `central_alignment_strength` not detected in the table, using value in self.param_dict.\n",
      "  warn(msg)\n",
      "/home/nvanalfen/miniconda3/lib/python3.8/site-packages/scipy/stats/_distn_infrastructure.py:1051: VisibleDeprecationWarning: The signature of <bound method DimrothWatson._rvs of <watson_dist.watson_dist.watson_distribution.DimrothWatson object at 0x2b264d4ceca0>> does not contain a \"size\" keyword.  Such signatures are deprecated.\n",
      "  warnings.warn(\n",
      "/home/nvanalfen/github_repos/intrinsic_alignments/intrinsic_alignments/ia_models/ia_model_components.py:583: UserWarning: 1033565 galaxies have a radial distance equal to zero (or infinity) from their host. These galaxies will be re-assigned random alignment vectors.\n",
      "  warn(msg)\n",
      "/home/nvanalfen/github_repos/intrinsic_alignments/intrinsic_alignments/ia_models/ia_model_components.py:592: UserWarning: `satellite_alignment_strength` key not detected in `table`.The value set in self.param_dict of this class will be used instead.\n",
      "  warn(msg)\n",
      "/home/nvanalfen/miniconda3/lib/python3.8/site-packages/scipy/stats/_distn_infrastructure.py:1051: VisibleDeprecationWarning: The signature of <bound method DimrothWatson._rvs of <watson_dist.watson_dist.watson_distribution.DimrothWatson object at 0x2b264d98a400>> does not contain a \"size\" keyword.  Such signatures are deprecated.\n",
      "  warnings.warn(\n"
     ]
    }
   ],
   "source": [
    "# define subhalo and host halo alignments\n",
    "satellite_alignment_model = RadialSatelliteAlignment(satellite_alignment_strength=0.85, Lbox=halocat.Lbox)\n",
    "central_alignment_model = CentralAlignment(central_alignment_strength=0.99)\n",
    "\n",
    "table_1 = central_alignment_model.assign_central_orientation(table=table_1)\n",
    "table_1 = satellite_alignment_model.assign_satellite_orientation(table=table_1)"
   ]
  },
  {
   "cell_type": "code",
   "execution_count": 21,
   "metadata": {},
   "outputs": [],
   "source": [
    "# examine galaxy-galaxy correlation function\n",
    "from halotools.mock_observables import tpcf\n",
    "\n",
    "rbins = np.logspace(-1,1.2,20)\n",
    "rbin_centers = (rbins[:-1]+rbins[1:])/2.0\n",
    "\n",
    "mask_0 = (halocat.halo_table['halo_mpeak']>10**12.5)\n",
    "mask_1 = (table_1['halo_mpeak']>10**12.5)\n",
    "\n",
    "coords_0 = np.vstack((halocat.halo_table['halo_x'],\n",
    "                      halocat.halo_table['halo_y'],\n",
    "                      halocat.halo_table['halo_z'])).T\n",
    "result_0 = tpcf(coords_0[mask_0], rbins=rbins, period=halocat.Lbox)\n",
    "\n",
    "coords_1 = np.vstack((table_1['x'],table_1['y'],table_1['z'])).T\n",
    "result_1 = tpcf(coords_1[mask_1], rbins=rbins, period=halocat.Lbox, num_threads=4)"
   ]
  },
  {
   "cell_type": "code",
   "execution_count": 22,
   "metadata": {},
   "outputs": [],
   "source": [
    "from halotools_ia.correlation_functions import ed_3d, ee_3d\n",
    "\n",
    "orientations_0 = np.vstack((halocat.halo_table['halo_axisA_x'],\n",
    "                            halocat.halo_table['halo_axisA_y'],\n",
    "                            halocat.halo_table['halo_axisA_z'])).T\n",
    "mask = (np.prod(orientations_0*orientations_0,axis=-1)==0)\n",
    "orientations_0[mask,:] = np.random.random(3)\n",
    "\n",
    "orientations_1 = np.vstack((table_1['galaxy_axisA_x'],\n",
    "                            table_1['galaxy_axisA_y'],\n",
    "                            table_1['galaxy_axisA_z'])).T\n",
    "mask = (np.prod(orientations_1*orientations_1,axis=-1)==0)\n",
    "\n",
    "# calculate ED correaltion functions\n",
    "omega_0 = ed_3d(coords_0[mask_0], orientations_0[mask_0],\n",
    "                coords_0[mask_0],\n",
    "                rbins, period=halocat.Lbox, num_threads=4)\n",
    "\n",
    "omega_1 = ed_3d(coords_1[mask_1], orientations_1[mask_1],\n",
    "                coords_1[mask_1],\n",
    "                rbins, period=halocat.Lbox, num_threads=4)\n",
    "\n",
    "\n",
    "# calculate EE correaltion functions\n",
    "eta_0 = ee_3d(coords_0[mask_0], orientations_0[mask_0],\n",
    "              coords_0[mask_0], orientations_0[mask_0],\n",
    "              rbins, period=halocat.Lbox, num_threads=4)\n",
    "\n",
    "eta_1 = ee_3d(coords_1[mask_1], orientations_1[mask_1],\n",
    "              coords_1[mask_1], orientations_1[mask_1],\n",
    "              rbins, period=halocat.Lbox, num_threads=4)"
   ]
  },
  {
   "cell_type": "code",
   "execution_count": 23,
   "metadata": {},
   "outputs": [
    {
     "data": {
      "image/png": "[encoded data removed]",
      "text/plain": [
       "<Figure size 237.6x475.2 with 2 Axes>"
      ]
     },
     "metadata": {
      "needs_background": "light"
     },
     "output_type": "display_data"
    }
   ],
   "source": [
    "fig, (ax1, ax2) = plt.subplots(2,1, sharex=True, figsize=(3.3,6.6))\n",
    "fig.subplots_adjust(left=0.2, right=0.9, bottom=0.2, top=0.9)\n",
    "\n",
    "ax = ax1\n",
    "l0, = ax.plot(rbin_centers, omega_0, 'o', color='black')\n",
    "l1, = ax.plot(rbin_centers, omega_1, '-', color='black')\n",
    "ax.set_xscale('log')\n",
    "ax.set_yscale('log')\n",
    "ax.set_xlabel(r'$r~[h^{-1}\\rm Mpc]$')\n",
    "ax.set_ylabel(r'$\\omega(r)$')\n",
    "ax.set_ylim([0.01,0.5])\n",
    "\n",
    "ax = ax2\n",
    "l0, = ax.plot(rbin_centers, eta_0, 'o', color='black')\n",
    "l1, = ax.plot(rbin_centers, eta_1, '-', color='black')\n",
    "ax.set_xscale('log')\n",
    "ax.set_yscale('log')\n",
    "ax.set_xlabel(r'$r~[h^{-1}\\rm Mpc]$')\n",
    "ax.set_ylabel(r'$\\eta(r)$')\n",
    "ax.set_ylim([0.0001,0.5])\n",
    "\n",
    "plt.show()"
   ]
  },
  {
   "cell_type": "code",
   "execution_count": 24,
   "metadata": {},
   "outputs": [
    {
     "name": "stderr",
     "output_type": "stream",
     "text": [
      "/home/nvanalfen/github_repos/intrinsic_alignments/intrinsic_alignments/ia_models/occupation_models.py:515: UserWarning: There are 460 sub-haloes with no host halo.\n",
      "  warn(msg)\n",
      "/home/nvanalfen/github_repos/intrinsic_alignments/intrinsic_alignments/ia_models/occupation_models.py:515: UserWarning: There are 460 sub-haloes with no host halo.\n",
      "  warn(msg)\n",
      "/home/nvanalfen/github_repos/intrinsic_alignments/intrinsic_alignments/ia_models/ia_model_components.py:189: UserWarning: `central_alignment_strength` not detected in the table, using value in self.param_dict.\n",
      "  warn(msg)\n",
      "/home/nvanalfen/miniconda3/lib/python3.8/site-packages/scipy/stats/_distn_infrastructure.py:1051: VisibleDeprecationWarning: The signature of <bound method DimrothWatson._rvs of <watson_dist.watson_dist.watson_distribution.DimrothWatson object at 0x2b264da42910>> does not contain a \"size\" keyword.  Such signatures are deprecated.\n",
      "  warnings.warn(\n",
      "/home/nvanalfen/github_repos/intrinsic_alignments/intrinsic_alignments/ia_models/ia_model_components.py:583: UserWarning: 1033565 galaxies have a radial distance equal to zero (or infinity) from their host. These galaxies will be re-assigned random alignment vectors.\n",
      "  warn(msg)\n",
      "/home/nvanalfen/github_repos/intrinsic_alignments/intrinsic_alignments/ia_models/ia_model_components.py:592: UserWarning: `satellite_alignment_strength` key not detected in `table`.The value set in self.param_dict of this class will be used instead.\n",
      "  warn(msg)\n",
      "/home/nvanalfen/miniconda3/lib/python3.8/site-packages/scipy/stats/_distn_infrastructure.py:1051: VisibleDeprecationWarning: The signature of <bound method DimrothWatson._rvs of <watson_dist.watson_dist.watson_distribution.DimrothWatson object at 0x2b264d3d40d0>> does not contain a \"size\" keyword.  Such signatures are deprecated.\n",
      "  warnings.warn(\n",
      "/home/nvanalfen/github_repos/intrinsic_alignments/intrinsic_alignments/ia_models/ia_model_components.py:189: UserWarning: `central_alignment_strength` not detected in the table, using value in self.param_dict.\n",
      "  warn(msg)\n",
      "/home/nvanalfen/miniconda3/lib/python3.8/site-packages/scipy/stats/_distn_infrastructure.py:1051: VisibleDeprecationWarning: The signature of <bound method DimrothWatson._rvs of <watson_dist.watson_dist.watson_distribution.DimrothWatson object at 0x2b264d4a17f0>> does not contain a \"size\" keyword.  Such signatures are deprecated.\n",
      "  warnings.warn(\n",
      "/home/nvanalfen/github_repos/intrinsic_alignments/intrinsic_alignments/ia_models/ia_model_components.py:583: UserWarning: 1033565 galaxies have a radial distance equal to zero (or infinity) from their host. These galaxies will be re-assigned random alignment vectors.\n",
      "  warn(msg)\n",
      "/home/nvanalfen/github_repos/intrinsic_alignments/intrinsic_alignments/ia_models/ia_model_components.py:592: UserWarning: `satellite_alignment_strength` key not detected in `table`.The value set in self.param_dict of this class will be used instead.\n",
      "  warn(msg)\n",
      "/home/nvanalfen/miniconda3/lib/python3.8/site-packages/scipy/stats/_distn_infrastructure.py:1051: VisibleDeprecationWarning: The signature of <bound method DimrothWatson._rvs of <watson_dist.watson_dist.watson_distribution.DimrothWatson object at 0x2b264d6bbdf0>> does not contain a \"size\" keyword.  Such signatures are deprecated.\n",
      "  warnings.warn(\n",
      "/home/nvanalfen/github_repos/intrinsic_alignments/intrinsic_alignments/ia_models/ia_model_components.py:608: UserWarning: 1 correlated alignment axis(axes) were found to be not finite. These will be re-assigned random vectors.\n",
      "  warn(msg)\n"
     ]
    }
   ],
   "source": [
    "from intrinsic_alignments.ia_models.occupation_models import TriaxialNFW\n",
    "\n",
    "# add estimate of minor axis\n",
    "from rotations.vector_utilities import normalized_vectors\n",
    "B = np.vstack((halocat.halo_table['halo_axisA_x'],\n",
    "               halocat.halo_table['halo_axisA_y'],\n",
    "               halocat.halo_table['halo_axisA_z'])).T\n",
    "A = np.vstack((halocat.halo_table['halo_jx'],\n",
    "               halocat.halo_table['halo_jy'],\n",
    "               halocat.halo_table['halo_jz'])).T\n",
    "B = normalized_vectors(B)\n",
    "A = normalized_vectors(A)\n",
    "\n",
    "D = np.cross(A, B)\n",
    "C = np.cross(B, D)\n",
    "\n",
    "halocat.halo_table['halo_axisC_x'] = C[:,0]\n",
    "halocat.halo_table['halo_axisC_y'] = C[:,1]\n",
    "halocat.halo_table['halo_axisC_z'] = C[:,2]\n",
    "\n",
    "# define subhalo positions\n",
    "satellite_position_model_2 = TriaxialNFW(anisotropy_bias=0.0, Lbox=halocat.Lbox)\n",
    "# define subhalo positions\n",
    "satellite_position_model_3 = TriaxialNFW(anisotropy_bias=5.0, Lbox=halocat.Lbox)\n",
    "\n",
    "table_2 = Table(np.copy(halocat.halo_table))\n",
    "table_2 = satellite_position_model_2.assign_gal_type(table=table_2)\n",
    "table_2 = satellite_position_model_2.assign_positions(table=table_2)\n",
    "\n",
    "table_3 = Table(np.copy(halocat.halo_table))\n",
    "table_3 = satellite_position_model_3.assign_gal_type(table=table_3)\n",
    "table_3 = satellite_position_model_3.assign_positions(table=table_3)\n",
    "\n",
    "# define subhalo and host halo alignments\n",
    "satellite_alignment_model = RadialSatelliteAlignment(satellite_alignment_strength=0.85, Lbox=halocat.Lbox)\n",
    "central_alignment_model = CentralAlignment(central_alignment_strength=0.99)\n",
    "\n",
    "table_2 = central_alignment_model.assign_central_orientation(table=table_2)\n",
    "table_2 = satellite_alignment_model.assign_satellite_orientation(table=table_2)\n",
    "\n",
    "table_3 = central_alignment_model.assign_central_orientation(table=table_3)\n",
    "table_3 = satellite_alignment_model.assign_satellite_orientation(table=table_3)"
   ]
  },
  {
   "cell_type": "code",
   "execution_count": 25,
   "metadata": {},
   "outputs": [],
   "source": [
    "mask_2 = (table_2['halo_mpeak']>10**12.5)\n",
    "\n",
    "coords_2 = np.vstack((table_2['x'],table_2['y'],table_2['z'])).T\n",
    "result_2 = tpcf(coords_2[mask_2], rbins=rbins, period=halocat.Lbox, num_threads=4)\n",
    "\n",
    "mask_3 = (table_3['halo_mpeak']>10**12.5)\n",
    "\n",
    "coords_3 = np.vstack((table_3['x'],table_3['y'],table_3['z'])).T\n",
    "result_3 = tpcf(coords_3[mask_3], rbins=rbins, period=halocat.Lbox, num_threads=4)"
   ]
  },
  {
   "cell_type": "code",
   "execution_count": 26,
   "metadata": {},
   "outputs": [
    {
     "data": {
      "image/png": "[encoded data removed]",
      "text/plain": [
       "<Figure size 237.6x237.6 with 1 Axes>"
      ]
     },
     "metadata": {
      "needs_background": "light"
     },
     "output_type": "display_data"
    }
   ],
   "source": [
    "fig = plt.figure(figsize=(3.3,3.3))\n",
    "l1, = plt.plot(rbin_centers, result_0, 'o')\n",
    "l1, = plt.plot(rbin_centers, result_1, '-')\n",
    "l2, = plt.plot(rbin_centers, result_2, '--')\n",
    "l2, = plt.plot(rbin_centers, result_3, ':')\n",
    "plt.xscale('log')\n",
    "plt.yscale('log')\n",
    "plt.xlabel(r'$r~[h^{-1}{\\rm Mpc}]$')\n",
    "plt.ylabel(r'$\\xi$')\n",
    "plt.show()"
   ]
  },
  {
   "cell_type": "code",
   "execution_count": 27,
   "metadata": {},
   "outputs": [],
   "source": [
    "orientations_2 = np.vstack((table_2['galaxy_axisA_x'],\n",
    "                            table_2['galaxy_axisA_y'],\n",
    "                            table_2['galaxy_axisA_z'])).T\n",
    "\n",
    "omega_2 = ed_3d(coords_2[mask_2], orientations_2[mask_2],\n",
    "              coords_2[mask_2],\n",
    "              rbins, period=halocat.Lbox, num_threads=4)\n",
    "\n",
    "eta_2 = ee_3d(coords_2[mask_2], orientations_2[mask_2],\n",
    "              coords_2[mask_2], orientations_2[mask_2],\n",
    "              rbins, period=halocat.Lbox, num_threads=4)"
   ]
  },
  {
   "cell_type": "code",
   "execution_count": 28,
   "metadata": {},
   "outputs": [],
   "source": [
    "orientations_3 = np.vstack((table_3['galaxy_axisA_x'],\n",
    "                            table_3['galaxy_axisA_y'],\n",
    "                            table_3['galaxy_axisA_z'])).T\n",
    "\n",
    "omega_3 = ed_3d(coords_3[mask_3], orientations_3[mask_3],\n",
    "              coords_3[mask_3],\n",
    "              rbins, period=halocat.Lbox, num_threads=4)\n",
    "\n",
    "eta_3 = ee_3d(coords_3[mask_3], orientations_3[mask_3],\n",
    "              coords_3[mask_3], orientations_3[mask_3],\n",
    "              rbins, period=halocat.Lbox, num_threads=4)"
   ]
  },
  {
   "cell_type": "code",
   "execution_count": null,
   "metadata": {},
   "outputs": [],
   "source": []
  }
 ],
 "metadata": {
  "kernelspec": {
   "display_name": "Python 3",
   "language": "python",
   "name": "python3"
  },
  "language_info": {
   "codemirror_mode": {
    "name": "ipython",
    "version": 3
   },
   "file_extension": ".py",
   "mimetype": "text/x-python",
   "name": "python",
   "nbconvert_exporter": "python",
   "pygments_lexer": "ipython3",
   "version": "3.8.5"
  }
 },
 "nbformat": 4,
 "nbformat_minor": 4
}
