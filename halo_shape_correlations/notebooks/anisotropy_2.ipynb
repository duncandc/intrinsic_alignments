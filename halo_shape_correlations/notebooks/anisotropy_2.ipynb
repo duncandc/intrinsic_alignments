{
 "cells": [
  {
   "cell_type": "code",
   "execution_count": 1,
   "metadata": {},
   "outputs": [],
   "source": [
    "from __future__ import print_function, division\n",
    "import numpy as np\n",
    "from astropy.table import Table\n",
    "import matplotlib.pyplot as plt\n",
    "%matplotlib inline\n",
    "\n",
    "# location to save figures\n",
    "import os\n",
    "cwd = os.getcwd()\n",
    "figure_path = cwd + '/figures/'"
   ]
  },
  {
   "cell_type": "code",
   "execution_count": 2,
   "metadata": {},
   "outputs": [
    {
     "name": "stdout",
     "output_type": "stream",
     "text": [
      "/home/nvanalfen/miniconda3/envs/alignments/bin/python\n"
     ]
    }
   ],
   "source": [
    "!which python"
   ]
  },
  {
   "cell_type": "markdown",
   "metadata": {},
   "source": [
    "## Halo Catalog"
   ]
  },
  {
   "cell_type": "code",
<<<<<<< HEAD
   "execution_count": 3,
=======
   "execution_count": 2,
>>>>>>> 93f93b9c992f6cbc5a5b3442873cc731fb57ae01
   "metadata": {},
   "outputs": [],
   "source": [
    "# load a test halo catalog\n",
    "\n",
    "from halotools.sim_manager import CachedHaloCatalog\n",
    "halocat = CachedHaloCatalog(simname='bolshoi', halo_finder='rockstar',\n",
    "                            redshift=0.0, dz_tol=0.001, version_name='halotools_v0p4')\n",
    "\n",
    "# add estimate of minor axis\n",
    "from rotations.vector_utilities import normalized_vectors\n",
    "B = np.vstack((halocat.halo_table['halo_axisA_x'],\n",
    "               halocat.halo_table['halo_axisA_y'],\n",
    "               halocat.halo_table['halo_axisA_z'])).T\n",
    "A = np.vstack((halocat.halo_table['halo_jx'],\n",
    "               halocat.halo_table['halo_jy'],\n",
    "               halocat.halo_table['halo_jz'])).T\n",
    "B = normalized_vectors(B)\n",
    "A = normalized_vectors(A)\n",
    "\n",
    "D = np.cross(A, B)\n",
    "C = np.cross(B, D)\n",
    "\n",
    "halocat.halo_table['halo_axisC_x'] = C[:,0]\n",
    "halocat.halo_table['halo_axisC_y'] = C[:,1]\n",
    "halocat.halo_table['halo_axisC_z'] = C[:,2]\n",
    "\n",
    "# get host halo properties\n",
    "from halotools.utils import crossmatch\n",
    "halo_hostid = halocat.halo_table['halo_hostid']\n",
    "halo_id = halocat.halo_table['halo_id']\n",
    "inds1, inds2 = crossmatch(halo_hostid, halo_id)\n",
    "halocat.halo_table['halo_rvir'][inds1] = halocat.halo_table['halo_rvir'][inds2]"
   ]
  },
  {
   "cell_type": "markdown",
   "metadata": {},
   "source": [
    "## (sub-)halo correlations"
   ]
  },
  {
   "cell_type": "code",
   "execution_count": 4,
   "metadata": {},
   "outputs": [],
   "source": [
    "from halotools.mock_observables import tpcf_jackknife\n",
    "from intrinsic_alignments.utils.jackknife_observables import jackknife_ed_3d, jackknife_ee_3d\n",
    "\n",
    "rbins = np.logspace(-1,1.2,13)\n",
    "rbin_centers = (rbins[:-1]+rbins[1:])/2.0\n",
    "\n",
    "# empirical halo and sub-halo correlations\n",
    "\n",
    "halo_coords = np.vstack((halocat.halo_table['halo_x'],\n",
    "                         halocat.halo_table['halo_y'],\n",
    "                         halocat.halo_table['halo_z'])).T\n",
    "\n",
    "halo_orientations = np.vstack((halocat.halo_table['halo_axisA_x'],\n",
    "                               halocat.halo_table['halo_axisA_y'],\n",
    "                               halocat.halo_table['halo_axisA_z'])).T\n",
    "\n",
    "# define host and sub-halo samples\n",
    "hosts = halocat.halo_table['halo_upid']==-1\n",
    "subs = halocat.halo_table['halo_upid']!=-1\n",
    "\n",
    "# define host halo IDs\n",
    "host_ids = halocat.halo_table['halo_hostid']\n",
    "\n",
    "# define halo sub-samples\n",
    "halo_mask = (halocat.halo_table['halo_mpeak']>10**12.0)"
   ]
  },
  {
   "cell_type": "code",
   "execution_count": 5,
   "metadata": {},
   "outputs": [
    {
     "name": "stdout",
     "output_type": "stream",
     "text": [
<<<<<<< HEAD
      "estimated time to complete jackknife calculation (s): 25.482483386993408\n"
=======
      "estimated time to complete jackknife calculation (s): 274.79885387420654\n"
>>>>>>> 93f93b9c992f6cbc5a5b3442873cc731fb57ae01
     ]
    }
   ],
   "source": [
    "# calculate ED correaltion functions\n",
    "halo_omega, halo_omega_cov = jackknife_ed_3d(halo_coords[halo_mask], \n",
    "                                             halo_orientations[halo_mask],\n",
    "                                             halo_coords[halo_mask],\n",
    "                                             rbins, Nsub = [3,3,3],\n",
    "                                             period=halocat.Lbox, num_threads=4,\n",
    "                                             verbose=True)\n",
    "halo_omega_err = np.sqrt(np.diag(halo_omega_cov))"
   ]
  },
  {
   "cell_type": "code",
   "execution_count": 6,
   "metadata": {},
   "outputs": [
    {
     "name": "stdout",
     "output_type": "stream",
     "text": [
<<<<<<< HEAD
      "estimated time to complete jackknife calculation (s): 39.54759216308594\n"
=======
      "estimated time to complete jackknife calculation (s): 574.7184600830078\n"
>>>>>>> 93f93b9c992f6cbc5a5b3442873cc731fb57ae01
     ]
    }
   ],
   "source": [
    "# calculate EE correaltion functions\n",
    "halo_eta, halo_eta_cov = jackknife_ee_3d(halo_coords[halo_mask], \n",
    "                                         halo_orientations[halo_mask],\n",
    "                                         halo_coords[halo_mask],\n",
    "                                         halo_orientations[halo_mask],\n",
    "                                         rbins, Nsub = [4,4,4],\n",
    "                                         period=halocat.Lbox, num_threads=4,\n",
    "                                         verbose=True)\n",
    "halo_eta_err = np.sqrt(np.diag(halo_eta_cov))"
   ]
  },
  {
   "cell_type": "code",
   "execution_count": 7,
   "metadata": {},
   "outputs": [
    {
     "ename": "ValueError",
     "evalue": "When calculating the two-point function, there was at least one \nseparation bin with zero RR pairs. Since the ``Natural`` estimator you chose \ndivides by RR, you will have at least one NaN returned value.\nMost likely, the innermost separation bin is the problem.\nTry increasing the number of randoms and/or using broader bins.\nTo estimate the number of required randoms, the following expression \nfor the expected number of pairs inside a sphere of radius ``r`` may be useful:\n\n<Npairs> = (Nran_tot)*(4pi/3)*(r/Lbox)^3 \n\n",
     "output_type": "error",
     "traceback": [
      "\u001b[1;31m----------------------------------------------------------------------\u001b[0m",
      "\u001b[1;31mValueError\u001b[0m                           Traceback (most recent call last)",
      "\u001b[1;32m<ipython-input-6-84ae73f6234f>\u001b[0m in \u001b[0;36m<module>\u001b[1;34m\u001b[0m\n\u001b[0;32m      1\u001b[0m \u001b[0mN\u001b[0m \u001b[1;33m=\u001b[0m \u001b[1;36m10\u001b[0m\u001b[1;33m**\u001b[0m\u001b[1;36m5\u001b[0m\u001b[1;33m\u001b[0m\u001b[1;33m\u001b[0m\u001b[0m\n\u001b[0;32m      2\u001b[0m \u001b[0mrandoms\u001b[0m \u001b[1;33m=\u001b[0m \u001b[0mnp\u001b[0m\u001b[1;33m.\u001b[0m\u001b[0mrandom\u001b[0m\u001b[1;33m.\u001b[0m\u001b[0mrandom\u001b[0m\u001b[1;33m(\u001b[0m\u001b[1;33m(\u001b[0m\u001b[0mN\u001b[0m\u001b[1;33m,\u001b[0m\u001b[1;36m3\u001b[0m\u001b[1;33m)\u001b[0m\u001b[1;33m)\u001b[0m\u001b[1;33m*\u001b[0m\u001b[0mhalocat\u001b[0m\u001b[1;33m.\u001b[0m\u001b[0mLbox\u001b[0m\u001b[1;33m\u001b[0m\u001b[1;33m\u001b[0m\u001b[0m\n\u001b[1;32m----> 3\u001b[1;33m halo_xi, halo_xi_cov =  tpcf_jackknife(halo_coords[halo_mask], randoms,\n\u001b[0m\u001b[0;32m      4\u001b[0m                                        rbins, Nsub=[4, 4, 4], period=halocat.Lbox, num_threads=4)\n\u001b[0;32m      5\u001b[0m \u001b[0mhalo_xi_err\u001b[0m \u001b[1;33m=\u001b[0m \u001b[0mnp\u001b[0m\u001b[1;33m.\u001b[0m\u001b[0msqrt\u001b[0m\u001b[1;33m(\u001b[0m\u001b[0mnp\u001b[0m\u001b[1;33m.\u001b[0m\u001b[0mdiag\u001b[0m\u001b[1;33m(\u001b[0m\u001b[0mhalo_xi_cov\u001b[0m\u001b[1;33m)\u001b[0m\u001b[1;33m)\u001b[0m\u001b[1;33m\u001b[0m\u001b[1;33m\u001b[0m\u001b[0m\n",
      "\u001b[1;32mc:\\users\\nvana\\appdata\\local\\programs\\python\\python38-32\\lib\\site-packages\\halotools\\mock_observables\\two_point_clustering\\tpcf_jackknife.py\u001b[0m in \u001b[0;36mtpcf_jackknife\u001b[1;34m(sample1, randoms, rbins, Nsub, sample2, period, do_auto, do_cross, estimator, num_threads, seed)\u001b[0m\n\u001b[0;32m    285\u001b[0m \u001b[1;33m\u001b[0m\u001b[0m\n\u001b[0;32m    286\u001b[0m     \u001b[1;31m# calculate the correlation function for the subsamples\u001b[0m\u001b[1;33m\u001b[0m\u001b[1;33m\u001b[0m\u001b[1;33m\u001b[0m\u001b[0m\n\u001b[1;32m--> 287\u001b[1;33m     \u001b[0mxi_11_sub\u001b[0m \u001b[1;33m=\u001b[0m \u001b[0m_TP_estimator\u001b[0m\u001b[1;33m(\u001b[0m\u001b[0mD1D1_sub\u001b[0m\u001b[1;33m,\u001b[0m \u001b[0mD1R_sub\u001b[0m\u001b[1;33m,\u001b[0m \u001b[0mRR_sub\u001b[0m\u001b[1;33m,\u001b[0m \u001b[0mN1_subs\u001b[0m\u001b[1;33m,\u001b[0m \u001b[0mN1_subs\u001b[0m\u001b[1;33m,\u001b[0m \u001b[0mNR_subs\u001b[0m\u001b[1;33m,\u001b[0m \u001b[0mNR_subs\u001b[0m\u001b[1;33m,\u001b[0m \u001b[0mestimator\u001b[0m\u001b[1;33m)\u001b[0m\u001b[1;33m\u001b[0m\u001b[1;33m\u001b[0m\u001b[0m\n\u001b[0m\u001b[0;32m    288\u001b[0m     \u001b[0mxi_12_sub\u001b[0m \u001b[1;33m=\u001b[0m \u001b[0m_TP_estimator\u001b[0m\u001b[1;33m(\u001b[0m\u001b[0mD1D2_sub\u001b[0m\u001b[1;33m,\u001b[0m \u001b[0mD1R_sub\u001b[0m\u001b[1;33m,\u001b[0m \u001b[0mRR_sub\u001b[0m\u001b[1;33m,\u001b[0m \u001b[0mN1_subs\u001b[0m\u001b[1;33m,\u001b[0m \u001b[0mN2_subs\u001b[0m\u001b[1;33m,\u001b[0m \u001b[0mNR_subs\u001b[0m\u001b[1;33m,\u001b[0m \u001b[0mNR_subs\u001b[0m\u001b[1;33m,\u001b[0m \u001b[0mestimator\u001b[0m\u001b[1;33m)\u001b[0m\u001b[1;33m\u001b[0m\u001b[1;33m\u001b[0m\u001b[0m\n\u001b[0;32m    289\u001b[0m     \u001b[0mxi_22_sub\u001b[0m \u001b[1;33m=\u001b[0m \u001b[0m_TP_estimator\u001b[0m\u001b[1;33m(\u001b[0m\u001b[0mD2D2_sub\u001b[0m\u001b[1;33m,\u001b[0m \u001b[0mD2R_sub\u001b[0m\u001b[1;33m,\u001b[0m \u001b[0mRR_sub\u001b[0m\u001b[1;33m,\u001b[0m \u001b[0mN2_subs\u001b[0m\u001b[1;33m,\u001b[0m \u001b[0mN2_subs\u001b[0m\u001b[1;33m,\u001b[0m \u001b[0mNR_subs\u001b[0m\u001b[1;33m,\u001b[0m \u001b[0mNR_subs\u001b[0m\u001b[1;33m,\u001b[0m \u001b[0mestimator\u001b[0m\u001b[1;33m)\u001b[0m\u001b[1;33m\u001b[0m\u001b[1;33m\u001b[0m\u001b[0m\n",
      "\u001b[1;32mc:\\users\\nvana\\appdata\\local\\programs\\python\\python38-32\\lib\\site-packages\\halotools\\mock_observables\\two_point_clustering\\tpcf_estimators.py\u001b[0m in \u001b[0;36m_TP_estimator\u001b[1;34m(DD, DR, RR, ND1, ND2, NR1, NR2, estimator)\u001b[0m\n\u001b[0;32m     34\u001b[0m             \u001b[1;32mreturn\u001b[0m \u001b[0mx\u001b[0m\u001b[1;33m*\u001b[0m\u001b[0my\u001b[0m\u001b[1;33m\u001b[0m\u001b[1;33m\u001b[0m\u001b[0m\n\u001b[0;32m     35\u001b[0m \u001b[1;33m\u001b[0m\u001b[0m\n\u001b[1;32m---> 36\u001b[1;33m     \u001b[0m_test_for_zero_division\u001b[0m\u001b[1;33m(\u001b[0m\u001b[0mDD\u001b[0m\u001b[1;33m,\u001b[0m \u001b[0mDR\u001b[0m\u001b[1;33m,\u001b[0m \u001b[0mRR\u001b[0m\u001b[1;33m,\u001b[0m \u001b[0mND1\u001b[0m\u001b[1;33m,\u001b[0m \u001b[0mND2\u001b[0m\u001b[1;33m,\u001b[0m \u001b[0mNR1\u001b[0m\u001b[1;33m,\u001b[0m \u001b[0mNR2\u001b[0m\u001b[1;33m,\u001b[0m \u001b[0mestimator\u001b[0m\u001b[1;33m)\u001b[0m\u001b[1;33m\u001b[0m\u001b[1;33m\u001b[0m\u001b[0m\n\u001b[0m\u001b[0;32m     37\u001b[0m \u001b[1;33m\u001b[0m\u001b[0m\n\u001b[0;32m     38\u001b[0m     \u001b[1;32mif\u001b[0m \u001b[0mestimator\u001b[0m \u001b[1;33m==\u001b[0m \u001b[1;34m'Natural'\u001b[0m\u001b[1;33m:\u001b[0m\u001b[1;33m\u001b[0m\u001b[1;33m\u001b[0m\u001b[0m\n",
      "\u001b[1;32mc:\\users\\nvana\\appdata\\local\\programs\\python\\python38-32\\lib\\site-packages\\halotools\\mock_observables\\two_point_clustering\\tpcf_estimators.py\u001b[0m in \u001b[0;36m_test_for_zero_division\u001b[1;34m(DD, DR, RR, ND1, ND2, NR1, NR2, estimator)\u001b[0m\n\u001b[0;32m    119\u001b[0m     \u001b[0mestimators_dividing_by_rr\u001b[0m \u001b[1;33m=\u001b[0m \u001b[1;33m(\u001b[0m\u001b[1;34m'Natural'\u001b[0m\u001b[1;33m,\u001b[0m \u001b[1;34m'Davis-Peebles'\u001b[0m\u001b[1;33m,\u001b[0m \u001b[1;34m'Hewett'\u001b[0m\u001b[1;33m,\u001b[0m \u001b[1;34m'Landy-Szalay'\u001b[0m\u001b[1;33m)\u001b[0m\u001b[1;33m\u001b[0m\u001b[1;33m\u001b[0m\u001b[0m\n\u001b[0;32m    120\u001b[0m     \u001b[1;32mif\u001b[0m \u001b[1;33m(\u001b[0m\u001b[0mestimator\u001b[0m \u001b[1;32min\u001b[0m \u001b[0mestimators_dividing_by_rr\u001b[0m\u001b[1;33m)\u001b[0m \u001b[1;33m&\u001b[0m \u001b[1;33m(\u001b[0m\u001b[0mnp\u001b[0m\u001b[1;33m.\u001b[0m\u001b[0many\u001b[0m\u001b[1;33m(\u001b[0m\u001b[0mRR\u001b[0m \u001b[1;33m==\u001b[0m \u001b[1;36m0\u001b[0m\u001b[1;33m)\u001b[0m\u001b[1;33m)\u001b[0m\u001b[1;33m:\u001b[0m\u001b[1;33m\u001b[0m\u001b[1;33m\u001b[0m\u001b[0m\n\u001b[1;32m--> 121\u001b[1;33m         \u001b[1;32mraise\u001b[0m \u001b[0mValueError\u001b[0m\u001b[1;33m(\u001b[0m\u001b[0mzero_msg\u001b[0m\u001b[1;33m.\u001b[0m\u001b[0mformat\u001b[0m\u001b[1;33m(\u001b[0m\u001b[1;34m'RR'\u001b[0m\u001b[1;33m,\u001b[0m \u001b[0mestimator\u001b[0m\u001b[1;33m)\u001b[0m\u001b[1;33m)\u001b[0m\u001b[1;33m\u001b[0m\u001b[1;33m\u001b[0m\u001b[0m\n\u001b[0m\u001b[0;32m    122\u001b[0m \u001b[1;33m\u001b[0m\u001b[0m\n\u001b[0;32m    123\u001b[0m     \u001b[0mestimators_dividing_by_dr\u001b[0m \u001b[1;33m=\u001b[0m \u001b[1;33m(\u001b[0m\u001b[1;34m'Hamilton'\u001b[0m\u001b[1;33m,\u001b[0m \u001b[1;33m)\u001b[0m\u001b[1;33m\u001b[0m\u001b[1;33m\u001b[0m\u001b[0m\n",
      "\u001b[1;31mValueError\u001b[0m: When calculating the two-point function, there was at least one \nseparation bin with zero RR pairs. Since the ``Natural`` estimator you chose \ndivides by RR, you will have at least one NaN returned value.\nMost likely, the innermost separation bin is the problem.\nTry increasing the number of randoms and/or using broader bins.\nTo estimate the number of required randoms, the following expression \nfor the expected number of pairs inside a sphere of radius ``r`` may be useful:\n\n<Npairs> = (Nran_tot)*(4pi/3)*(r/Lbox)^3 \n\n"
     ]
    }
   ],
   "source": [
    "N = 10**5\n",
    "randoms = np.random.random((N,3))*halocat.Lbox\n",
    "halo_xi, halo_xi_cov =  tpcf_jackknife(halo_coords[halo_mask], randoms,\n",
    "                                       rbins, Nsub=[4, 4, 4], period=halocat.Lbox, num_threads=4)\n",
    "halo_xi_err = np.sqrt(np.diag(halo_xi_cov))"
   ]
  },
  {
   "cell_type": "markdown",
   "metadata": {},
   "source": [
    "## Halo Model"
   ]
  },
  {
   "cell_type": "code",
<<<<<<< HEAD
   "execution_count": 8,
=======
   "execution_count": null,
>>>>>>> 93f93b9c992f6cbc5a5b3442873cc731fb57ae01
   "metadata": {},
   "outputs": [],
   "source": [
    "from intrinsic_alignments.ia_models.ia_model_components import CentralAlignment\n",
    "from intrinsic_alignments.ia_models.ia_model_components import RadialSatelliteAlignment, RadialSatelliteAlignmentStrength\n",
    "from intrinsic_alignments.ia_models.occupation_models import SubHaloPositions, TriaxialNFW"
   ]
  },
  {
   "cell_type": "code",
<<<<<<< HEAD
   "execution_count": 9,
=======
   "execution_count": null,
>>>>>>> 93f93b9c992f6cbc5a5b3442873cc731fb57ae01
   "metadata": {},
   "outputs": [],
   "source": [
    "satellite_alignment_strength = RadialSatelliteAlignmentStrength(satellite_alignment_a= 0.00650463)\n",
    "satellite_alignment_model = RadialSatelliteAlignment(satellite_alignment_strength=0.83, Lbox=halocat.Lbox)\n",
    "central_alignment_model = CentralAlignment(central_alignment_strength=0.999)"
   ]
  },
  {
   "cell_type": "code",
<<<<<<< HEAD
   "execution_count": 10,
   "metadata": {},
   "outputs": [
    {
     "data": {
      "image/png": "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\n",
      "text/plain": [
       "<Figure size 432x288 with 1 Axes>"
      ]
     },
     "metadata": {
      "needs_background": "light"
     },
     "output_type": "display_data"
    }
   ],
=======
   "execution_count": null,
   "metadata": {},
   "outputs": [],
>>>>>>> 93f93b9c992f6cbc5a5b3442873cc731fb57ae01
   "source": [
    "r = np.logspace(-2,0,100)\n",
    "plt.plot(r, satellite_alignment_strength.alignment_strength_radial_dependence(r))\n",
    "plt.xscale('log')\n",
    "plt.ylim([0,1])\n",
    "plt.show()"
   ]
  },
  {
   "cell_type": "markdown",
   "metadata": {},
   "source": [
    "## Anisotropy Effect"
   ]
  },
  {
   "cell_type": "code",
<<<<<<< HEAD
   "execution_count": 11,
=======
   "execution_count": null,
>>>>>>> 93f93b9c992f6cbc5a5b3442873cc731fb57ae01
   "metadata": {},
   "outputs": [
    {
     "name": "stderr",
     "output_type": "stream",
     "text": [
      "/home/nvanalfen/github_repos/intrinsic_alignments/intrinsic_alignments/ia_models/occupation_models.py:515: UserWarning: There are 460 sub-haloes with no host halo.\n",
      "  warn(msg)\n",
      "/home/nvanalfen/github_repos/intrinsic_alignments/intrinsic_alignments/ia_models/ia_model_components.py:189: UserWarning: `central_alignment_strength` not detected in the table, using value in self.param_dict.\n",
      "  warn(msg)\n",
      "/home/nvanalfen/miniconda3/lib/python3.8/site-packages/scipy/stats/_distn_infrastructure.py:1051: VisibleDeprecationWarning: The signature of <bound method DimrothWatson._rvs of <watson_dist.watson_dist.watson_distribution.DimrothWatson object at 0x2ae72bedbfd0>> does not contain a \"size\" keyword.  Such signatures are deprecated.\n",
      "  warnings.warn(\n",
      "/home/nvanalfen/github_repos/intrinsic_alignments/intrinsic_alignments/ia_models/ia_model_components.py:583: UserWarning: 1033565 galaxies have a radial distance equal to zero (or infinity) from their host. These galaxies will be re-assigned random alignment vectors.\n",
      "  warn(msg)\n",
      "/home/nvanalfen/miniconda3/lib/python3.8/site-packages/scipy/stats/_distn_infrastructure.py:1051: VisibleDeprecationWarning: The signature of <bound method DimrothWatson._rvs of <watson_dist.watson_dist.watson_distribution.DimrothWatson object at 0x2ae73bc3a040>> does not contain a \"size\" keyword.  Such signatures are deprecated.\n",
      "  warnings.warn(\n"
     ]
    }
   ],
   "source": [
    "# define subhalo positions\n",
    "satellite_position_model = TriaxialNFW(anisotropy_bias=4.0, Lbox=halocat.Lbox)\n",
    "#satellite_position_model = SubHaloPositions()\n",
    "\n",
    "table = Table(np.copy(halocat.halo_table))\n",
    "table = satellite_position_model.assign_gal_type(table=table)\n",
    "table = satellite_position_model.assign_positions(table=table)\n",
    "\n",
    "table = central_alignment_model.assign_central_orientation(table=table)\n",
    "table = satellite_alignment_strength.assign_satellite_alignment_strength(table=table, Lbox=halocat.Lbox)\n",
    "table = satellite_alignment_model.assign_satellite_orientation(table=table)"
   ]
  },
  {
   "cell_type": "code",
<<<<<<< HEAD
   "execution_count": 12,
=======
   "execution_count": null,
>>>>>>> 93f93b9c992f6cbc5a5b3442873cc731fb57ae01
   "metadata": {
    "scrolled": true
   },
   "outputs": [],
   "source": [
    "# get host halo properties\n",
    "halo_hostid = halocat.halo_table['halo_hostid']\n",
    "halo_id = halocat.halo_table['halo_id']\n",
    "inds1, inds2 = crossmatch(halo_hostid, halo_id)\n",
    "halo_x = halocat.halo_table['halo_x']\n",
    "halo_y = halocat.halo_table['halo_y']\n",
    "halo_z = halocat.halo_table['halo_z']\n",
    "\n",
    "from intrinsic_alignments.ia_models.occupation_models import radial_distance\n",
    "rr = radial_distance(halo_x[inds1], halo_y[inds1], halo_z[inds1],\n",
    "                     halo_x[inds2], halo_y[inds2], halo_z[inds2],\n",
    "                     Lbox=halocat.Lbox)[1]"
   ]
  },
  {
   "cell_type": "code",
<<<<<<< HEAD
   "execution_count": 13,
   "metadata": {},
   "outputs": [
    {
     "data": {
      "text/html": [
       "&lt;Column name=&apos;halo_x&apos; dtype=&apos;float32&apos; length=115&gt;\n",
       "<table>\n",
       "<tr><td>35.72499</td></tr>\n",
       "<tr><td>35.59784</td></tr>\n",
       "<tr><td>35.88582</td></tr>\n",
       "<tr><td>34.83579</td></tr>\n",
       "<tr><td>35.67586</td></tr>\n",
       "<tr><td>35.51022</td></tr>\n",
       "<tr><td>35.2747</td></tr>\n",
       "<tr><td>35.25866</td></tr>\n",
       "<tr><td>35.96299</td></tr>\n",
       "<tr><td>35.03138</td></tr>\n",
       "<tr><td>35.37808</td></tr>\n",
       "<tr><td>36.38504</td></tr>\n",
       "<tr><td>...</td></tr>\n",
       "<tr><td>35.60458</td></tr>\n",
       "<tr><td>35.2385</td></tr>\n",
       "<tr><td>35.94378</td></tr>\n",
       "<tr><td>35.25238</td></tr>\n",
       "<tr><td>35.98488</td></tr>\n",
       "<tr><td>35.04091</td></tr>\n",
       "<tr><td>35.44402</td></tr>\n",
       "<tr><td>35.87405</td></tr>\n",
       "<tr><td>35.00665</td></tr>\n",
       "<tr><td>35.5754</td></tr>\n",
       "<tr><td>35.29343</td></tr>\n",
       "<tr><td>36.05329</td></tr>\n",
       "</table>"
      ],
      "text/plain": [
       "<Column name='halo_x' dtype='float32' length=115>\n",
       "35.72499\n",
       "35.59784\n",
       "35.88582\n",
       "34.83579\n",
       "35.67586\n",
       "35.51022\n",
       " 35.2747\n",
       "35.25866\n",
       "35.96299\n",
       "35.03138\n",
       "35.37808\n",
       "36.38504\n",
       "     ...\n",
       "35.60458\n",
       " 35.2385\n",
       "35.94378\n",
       "35.25238\n",
       "35.98488\n",
       "35.04091\n",
       "35.44402\n",
       "35.87405\n",
       "35.00665\n",
       " 35.5754\n",
       "35.29343\n",
       "36.05329"
      ]
     },
     "execution_count": 13,
     "metadata": {},
     "output_type": "execute_result"
    }
   ],
=======
   "execution_count": null,
   "metadata": {},
   "outputs": [],
>>>>>>> 93f93b9c992f6cbc5a5b3442873cc731fb57ae01
   "source": [
    "mask = (halo_hostid==3060299107)\n",
    "halocat.halo_table['halo_x'][mask]"
   ]
  },
  {
   "cell_type": "code",
<<<<<<< HEAD
   "execution_count": 14,
   "metadata": {},
   "outputs": [
    {
     "data": {
      "image/png": "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\n",
      "text/plain": [
       "<Figure size 432x288 with 1 Axes>"
      ]
     },
     "metadata": {
      "needs_background": "light"
     },
     "output_type": "display_data"
    }
   ],
=======
   "execution_count": null,
   "metadata": {},
   "outputs": [],
>>>>>>> 93f93b9c992f6cbc5a5b3442873cc731fb57ae01
   "source": [
    "rbins = np.logspace(-2,1.5,100)\n",
    "counts1 = np.histogram(table['r'], bins=rbins)[0]\n",
    "counts2 = np.histogram(rr, bins=rbins)[0]\n",
    "\n",
    "plt.step(rbins[:-1], counts1, color='red')\n",
    "plt.step(rbins[:-1], counts2, color='blue')\n",
    "plt.xscale('log')"
   ]
  },
  {
   "cell_type": "code",
<<<<<<< HEAD
   "execution_count": 15,
=======
   "execution_count": null,
>>>>>>> 93f93b9c992f6cbc5a5b3442873cc731fb57ae01
   "metadata": {},
   "outputs": [],
   "source": [
    "mask = (table['halo_mpeak']>10**12.0)\n",
    "\n",
    "coords = np.vstack((table['x'],table['y'],table['z'])).T\n",
    "coords = coords[mask]\n",
    "\n",
    "orientations = np.vstack((table['galaxy_axisA_x'],\n",
    "                          table['galaxy_axisA_y'],\n",
    "                          table['galaxy_axisA_z'])).T\n",
    "orientations = orientations[mask]"
   ]
  },
  {
   "cell_type": "code",
<<<<<<< HEAD
   "execution_count": 16,
=======
   "execution_count": null,
>>>>>>> 93f93b9c992f6cbc5a5b3442873cc731fb57ae01
   "metadata": {},
   "outputs": [],
   "source": [
    "from halotools.mock_observables import tpcf\n",
    "from halotools_ia.correlation_functions import ed_3d, ee_3d\n",
    "\n",
    "rbins = np.logspace(-1,1.2,13)\n",
    "rbin_centers = (rbins[:-1]+rbins[1:])/2.0\n",
    "\n",
    "xi = tpcf(coords, rbins=rbins, period=halocat.Lbox, num_threads=4)\n",
    "\n",
    "omega = ed_3d(coords, orientations,\n",
    "              coords,\n",
    "              rbins, period=halocat.Lbox, num_threads=4)\n",
    "\n",
    "eta = ee_3d(coords, orientations,\n",
    "              coords, orientations,\n",
    "              rbins, period=halocat.Lbox, num_threads=4)"
   ]
  },
  {
   "cell_type": "code",
<<<<<<< HEAD
   "execution_count": 17,
   "metadata": {},
   "outputs": [
    {
     "data": {
      "image/png": "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\n",
      "text/plain": [
       "<Figure size 576x288 with 3 Axes>"
      ]
     },
     "metadata": {
      "needs_background": "light"
     },
     "output_type": "display_data"
    }
   ],
=======
   "execution_count": null,
   "metadata": {},
   "outputs": [],
>>>>>>> 93f93b9c992f6cbc5a5b3442873cc731fb57ae01
   "source": [
    "ps = np.linspace(1,0,10)\n",
    "colors = np.linspace(1.0,0.5,len(ps))\n",
    "colors = plt.cm.cool(colors)\n",
    "\n",
    "fig = plt.figure(figsize=(8.0,4.0))\n",
    "\n",
    "# TPCF\n",
    "rect = (0.1,0.4,0.3,0.5) # [left, bottom, width, height]\n",
    "\n",
    "ax = plt.axes(rect)\n",
    "l0 = ax.errorbar(rbin_centers, halo_xi, yerr=halo_xi_err,\n",
    "                 fmt='o', color='black', ms=4)\n",
    "ax.plot(rbin_centers, xi, '-')\n",
    "ax.set_yscale('log')\n",
    "ax.set_xscale('log')\n",
    "\n",
    "# ED\n",
    "rect = (0.45,0.4,0.3,0.5) # [left, bottom, width, height]\n",
    "\n",
    "ax = plt.axes(rect)\n",
    "l0 = ax.errorbar(rbin_centers, halo_omega, yerr=halo_omega_err,\n",
    "                 fmt='o', color='black', ms=4)\n",
    "ax.plot(rbin_centers, omega, '-')\n",
    "ax.set_yscale('log')\n",
    "ax.set_xscale('log')\n",
    "\n",
    "# EE\n",
    "rect = (0.8,0.4,0.3,0.5) # [left, bottom, width, height]\n",
    "\n",
    "ax = plt.axes(rect)\n",
    "l0 = ax.errorbar(rbin_centers, halo_eta, yerr=halo_eta_err,\n",
    "                 fmt='o', color='black', ms=4)\n",
    "ax.plot(rbin_centers, eta, '-')\n",
    "ax.set_yscale('log')\n",
    "ax.set_xscale('log')"
   ]
  },
  {
   "cell_type": "markdown",
   "metadata": {},
   "source": [
    "# subhalo anisotropy"
   ]
  },
  {
   "cell_type": "code",
<<<<<<< HEAD
   "execution_count": 18,
=======
   "execution_count": null,
>>>>>>> 93f93b9c992f6cbc5a5b3442873cc731fb57ae01
   "metadata": {},
   "outputs": [],
   "source": [
    "from intrinsic_alignments.ia_models.ia_model_components import CentralAlignment\n",
    "from intrinsic_alignments.ia_models.ia_model_components import RadialSatelliteAlignment\n",
    "from intrinsic_alignments.ia_models.occupation_models import SubHaloPositions, IsotropicSubhaloPositions, SemiIsotropicSubhaloPositions"
   ]
  },
  {
   "cell_type": "code",
<<<<<<< HEAD
   "execution_count": 19,
=======
   "execution_count": null,
>>>>>>> 93f93b9c992f6cbc5a5b3442873cc731fb57ae01
   "metadata": {},
   "outputs": [],
   "source": [
    "# define subhalo positions\n",
    "satellite_position_model_1 = SubHaloPositions()\n",
    "\n",
    "table_1 = Table(np.copy(halocat.halo_table))\n",
    "table_1 = satellite_position_model_1.assign_gal_type(table=table_1)\n",
    "table_1 = satellite_position_model_1.assign_positions(table=table_1)"
   ]
  },
  {
   "cell_type": "code",
<<<<<<< HEAD
   "execution_count": 20,
   "metadata": {},
   "outputs": [
    {
     "name": "stderr",
     "output_type": "stream",
     "text": [
      "/home/nvanalfen/github_repos/intrinsic_alignments/intrinsic_alignments/ia_models/ia_model_components.py:189: UserWarning: `central_alignment_strength` not detected in the table, using value in self.param_dict.\n",
      "  warn(msg)\n",
      "/home/nvanalfen/miniconda3/lib/python3.8/site-packages/scipy/stats/_distn_infrastructure.py:1051: VisibleDeprecationWarning: The signature of <bound method DimrothWatson._rvs of <watson_dist.watson_dist.watson_distribution.DimrothWatson object at 0x2ae73c153e80>> does not contain a \"size\" keyword.  Such signatures are deprecated.\n",
      "  warnings.warn(\n",
      "/home/nvanalfen/github_repos/intrinsic_alignments/intrinsic_alignments/ia_models/ia_model_components.py:583: UserWarning: 1033565 galaxies have a radial distance equal to zero (or infinity) from their host. These galaxies will be re-assigned random alignment vectors.\n",
      "  warn(msg)\n",
      "/home/nvanalfen/github_repos/intrinsic_alignments/intrinsic_alignments/ia_models/ia_model_components.py:592: UserWarning: `satellite_alignment_strength` key not detected in `table`.The value set in self.param_dict of this class will be used instead.\n",
      "  warn(msg)\n",
      "/home/nvanalfen/miniconda3/lib/python3.8/site-packages/scipy/stats/_distn_infrastructure.py:1051: VisibleDeprecationWarning: The signature of <bound method DimrothWatson._rvs of <watson_dist.watson_dist.watson_distribution.DimrothWatson object at 0x2ae73be16070>> does not contain a \"size\" keyword.  Such signatures are deprecated.\n",
      "  warnings.warn(\n"
     ]
    }
   ],
=======
   "execution_count": null,
   "metadata": {},
   "outputs": [],
>>>>>>> 93f93b9c992f6cbc5a5b3442873cc731fb57ae01
   "source": [
    "# define subhalo and host halo alignments\n",
    "satellite_alignment_model = RadialSatelliteAlignment(satellite_alignment_strength=0.85, Lbox=halocat.Lbox)\n",
    "central_alignment_model = CentralAlignment(central_alignment_strength=0.99)\n",
    "\n",
    "table_1 = central_alignment_model.assign_central_orientation(table=table_1)\n",
    "table_1 = satellite_alignment_model.assign_satellite_orientation(table=table_1)"
   ]
  },
  {
   "cell_type": "code",
<<<<<<< HEAD
   "execution_count": 21,
=======
   "execution_count": null,
>>>>>>> 93f93b9c992f6cbc5a5b3442873cc731fb57ae01
   "metadata": {},
   "outputs": [],
   "source": [
    "# examine galaxy-galaxy correlation function\n",
    "from halotools.mock_observables import tpcf\n",
    "\n",
    "rbins = np.logspace(-1,1.2,20)\n",
    "rbin_centers = (rbins[:-1]+rbins[1:])/2.0\n",
    "\n",
    "mask_0 = (halocat.halo_table['halo_mpeak']>10**12.5)\n",
    "mask_1 = (table_1['halo_mpeak']>10**12.5)\n",
    "\n",
    "coords_0 = np.vstack((halocat.halo_table['halo_x'],\n",
    "                      halocat.halo_table['halo_y'],\n",
    "                      halocat.halo_table['halo_z'])).T\n",
    "result_0 = tpcf(coords_0[mask_0], rbins=rbins, period=halocat.Lbox)\n",
    "\n",
    "coords_1 = np.vstack((table_1['x'],table_1['y'],table_1['z'])).T\n",
    "result_1 = tpcf(coords_1[mask_1], rbins=rbins, period=halocat.Lbox, num_threads=4)"
   ]
  },
  {
   "cell_type": "code",
<<<<<<< HEAD
   "execution_count": 22,
=======
   "execution_count": null,
>>>>>>> 93f93b9c992f6cbc5a5b3442873cc731fb57ae01
   "metadata": {},
   "outputs": [],
   "source": [
    "from halotools_ia.correlation_functions import ed_3d, ee_3d\n",
    "\n",
    "orientations_0 = np.vstack((halocat.halo_table['halo_axisA_x'],\n",
    "                            halocat.halo_table['halo_axisA_y'],\n",
    "                            halocat.halo_table['halo_axisA_z'])).T\n",
    "mask = (np.prod(orientations_0*orientations_0,axis=-1)==0)\n",
    "orientations_0[mask,:] = np.random.random(3)\n",
    "\n",
    "orientations_1 = np.vstack((table_1['galaxy_axisA_x'],\n",
    "                            table_1['galaxy_axisA_y'],\n",
    "                            table_1['galaxy_axisA_z'])).T\n",
    "mask = (np.prod(orientations_1*orientations_1,axis=-1)==0)\n",
    "\n",
    "# calculate ED correaltion functions\n",
    "omega_0 = ed_3d(coords_0[mask_0], orientations_0[mask_0],\n",
    "                coords_0[mask_0],\n",
    "                rbins, period=halocat.Lbox, num_threads=4)\n",
    "\n",
    "omega_1 = ed_3d(coords_1[mask_1], orientations_1[mask_1],\n",
    "                coords_1[mask_1],\n",
    "                rbins, period=halocat.Lbox, num_threads=4)\n",
    "\n",
    "\n",
    "# calculate EE correaltion functions\n",
    "eta_0 = ee_3d(coords_0[mask_0], orientations_0[mask_0],\n",
    "              coords_0[mask_0], orientations_0[mask_0],\n",
    "              rbins, period=halocat.Lbox, num_threads=4)\n",
    "\n",
    "eta_1 = ee_3d(coords_1[mask_1], orientations_1[mask_1],\n",
    "              coords_1[mask_1], orientations_1[mask_1],\n",
    "              rbins, period=halocat.Lbox, num_threads=4)"
   ]
  },
  {
   "cell_type": "code",
<<<<<<< HEAD
   "execution_count": 23,
   "metadata": {},
   "outputs": [
    {
     "data": {
      "image/png": "iVBORw0KGgoAAAANSUhEUgAAAOYAAAGDCAYAAAA/JGzmAAAAOXRFWHRTb2Z0d2FyZQBNYXRwbG90bGliIHZlcnNpb24zLjMuNCwgaHR0cHM6Ly9tYXRwbG90bGliLm9yZy8QVMy6AAAACXBIWXMAAAsTAAALEwEAmpwYAAAs+UlEQVR4nO3deXxU5b348c83CwmBALK4IGGigt6CQCtpkRZ/UGsVBa++KIp2XG5dokW8vmyRH0sveLHR4kKLYsEgCJgobj8FEYGL9V5vVZBQRHAriwRQCFuVHTT5/v6YSToJM5OZZJYzZ77v1+u8zHnO9uSYL885z3kWUVWMMc6SkewMGGNOZoFpjANZYBrjQBaYxjiQBaYxDmSBaYwDZSU7A/EkIlcCV+bn599+7rnnJjs7xtSzZs2avaraKdg2SYfvmEVFRVpRUZHsbBhTj4isUdWiYNvsUdYYB0rbwCwvL6ewsJCMjAwKCwspLy9PdpaMqePqd8xQysvLKS4u5siRIwBUVlZSXFwMgNfrTWbWjAHStMScMGFCXVDWOnLkCBMmTIjqPFbqmnhJyxJz27ZtUaUHY6Wuiae0LDG7du0aUXq4EjFWpa4xQamqaxfgSqC0W7duGqisrEzz8vIUqFvy8vK0rKws4n1EpN622kVETrqWx+NREVGPx1PvGia9ARUa6m831AY3LX379j3pptQGDBA0YGq3NVw8Hk9E22uv0dg/ACZ9WWAGCUxV1U8++US7d++uL774otbU1NTb1liJGEnQRRK8Jn2FC8y0fMesdfjwYXJzc7n22msZMGAAq1atqtvW2Huo1+ultLS0bt3j8VBaWlqv4icWlUwmPaV1YBYVFbF27VpmzZrF5s2bufDCC/F6vWzbto2SkhLy8vLq7Z+Xl0dJSQkAW7dupbKyktatWwNw9OhRHn/8cUaMGMGYMWP485//TKdOQZtBhgx6Y2pZW1m/gwcPMmXKFB577DEA7r33Xs466yxKSkrYtm0bXbt2ZezYsdTU1FBeXs57770HwIABAxg0aBBVVVV1wVpZWcnx48eDXicnJ4dZs2Zx4403xvaXNCknXFvZpL//JWIJ9Y4ZTGVlpXq9XgX01FNP1ZkzZ2p5ebkOGTJEs7KyFNCePXvqgw8+qF988UXQc1RXV+tXX32l7733nt51113atm3beu+YHTt21BtuuEEXLFigTz31lNXapims8ifywKz1wQcf6IABA+qCqaCgQMeMGaPr1q07qaIoUvv27dPnnntOvV6vtm/fPmjFkNXapo9wgWmPsmGoKitWrCAnJ4cBAwaQkRG7V/Lq6mrOPPNMqqqqTtrm8XjYunVrzK5lnCnco2xaNsmLlIjw85//PC7nzszMZPfu3UG3VVZWxuWaJnWkda1ssoWqnc3NzeXAgQMJzo1xElcHpohcKSKl33zzTbKzElSwTzItWrTg22+/ZeDAgezcuTNJOTPJ5urAVNXXVbW4bdu2yc5KULWNFDweDyKCx+Nhzpw5LF68mI0bN/LjH/+Yzz//PNnZNElglT8OtWbNGq644gqOHDlC69atqaqqomvXrpSUlFi3MpewMX9SUN++fRk7diyHDx9m165dqGpdn0/rkO1+FpgONm3aNBo+0Vifz/RggelgoRq72+cU97PAdLBQn1NEhLlz555Umhr3sMB0sGCfU3JzcznvvPP41a9+xYgRI9i/f3+ScmfiyQLTwYJ9Tnn66afZsGEDDz30EK+++iq9e/dmwoQJNlqfy9jnkhS2Zs0ahg4dyq5du+ql5+XlndRp2ziPfS5xqb59+5KdnX1SutXcpj4LzBS3Y8eOoOk2fElqs8BMcZGOkWtSiwVmigtWcysi/O53v0tSjkwsWGCmuIY1t6eddhoAb7/9tn3nTGEWmC7g9XrZunUrNTU17Nq1i8mTJ/Pcc8/xzDPPJDtrpolcHZhO748ZL+PGjePiiy9m1KhRfPrpp8nOjmkCVwem0/tjxktmZiZlZWW0bt2aa6+9lqNHjyY7SyZKrg7MdHbGGWcwf/58NmzYwL333pvs7JgoWWC62ODBgxkzZgxPPfUUnTp1siZ7KcRGyXO5Hj16kJGRwd69ewGbYDdVWInpcpMmTaKmpqZemjXZcz4LTJezGcdSkwWmy4VqmhdqJjLjDBaYLheqyd6ePXuYOnWqtQ5yKAtMlwvW2XrWrFkMGzaM3/72t9xyyy0hpww0SRRqtiE3LU2Z7cvtqqurdeLEiQroj3/8Y921a1eys5R2sKneTUMZGRn853/+Jy+++CJr166lZ8+edO7c2b51OoQFZpq75pprGD9+PPv372fnzp02sLRDWGAann76aRtY2mEsMI1963QgC0wT8lvnGWeckeCcmFoWmCbot06Ab7/9li+//BKA8vJyG7s2kUJV17ppsc8ljSsrK1OPx6Mioh6PRydPnqytW7fWHj166IwZMzQvL0+BuiUvL0/LysqSne2URpjPJTbgswnp7bff5vLLL0dVOXHixEnbPR4PW7duTXzGXMIGfDZN8tOf/pQXXnghaFCCVQ7FkwWmCeuqq66iQ4cOQbfZ2LXxY4FpGjVt2rSTpmLIy8ujpKQkSTlyPwtM0yiv18szzzxDu3btAGjRogUlJSX1RkCwWtsYC1Ur5NQFOBuYDbwc6TFWKxs7ixYt0rZt22r79u116dKlquqr0bVa2+gRplY20UE1B9gNbGiQPhj4HNgEjI3wXBaYSbJx40bt1auXiohOnjxZu3btWi8oaxePx5PsrDpauMBM9GBcc4HpwPzaBBHJBJ4Efg7sAFaLyCIgE3iowfG3qOruxGTVhNKtWzdWrlzJHXfcwcSJE0PuZ7W2TZfQwFTVd0SksEHyj4BNqroFQEQWAFep6kPA0ETmz0QuLy+P+fPnc+GFFzJq1Kig+1itbdM5ofLnTGB7wPoOf1pQItJBRGYCPxCRcWH2KxaRChGp2LNnT+xya+qICHfddReTJk1CROpts1rb5nFCYEqQtJDNkVR1n6reqarn+EvVUPuVqmqRqhbZwFPxdf/99zN9+nRycnIAyM/PZ+bMmTZubTM4ITB3AAUB612Ar5KUF9NEI0eO5NChQ9x9990cPHiQl156iUOHDiU7WynLCYG5GuguImeJSAvgOmBRkvNkmiArK4vHH3+c6dOns2TJEgYMGMD27f98S7FvnVEIVV0bjwV4HtgJfIuvpLzVn34F8HdgMzAhhte7Eijt1q1b8+u2TVSWLl2qbdq00dNPP11XrVpl3zqDINa9S0SkFXBMVaub+w9DIljvkuT4+OOPGTp0KLt27aJ169Z186cESuceKs3uXSIiGSLySxF5Q0R2A58BO0XkYxF5RES6xzLDxh169uzJBx98wAUXXBA0KMG+dYYS6Tvm28A5wDjgdFUtUNVTgYuAlcAfROSGOOXRpLBOnTrx1ltv0apVq6Db7VtncJEG5iVACTBUVeumjlLV/ar6iqr+AnghHhlsjnSd6t1pcnNzmTlzZqM9VKxyKECol89gC/CXaPZ3ymJtZZ2hrKxMO3XqVFf5M2zYMD1+/HjdtnSrHCJWjdiBx4BJQEY0xyV7scB0lr1796rX61VA+/Tpo2vXrlWPx5N2DeHDBWa03zEL8H1n/EpEForIAyJyTXNLbZNeOnToQFlZGa+99hpVVVX88Ic/pLKyMui+DSuH0uZxN1TEhluAHOAC4Gbg0aacI5GLlZjOtW/fPr3xxhuDlpY0KDHd9rhLcx9lwfe9s7n7JGuxwHS+3/zmNyoi9YKuZcuW9YLObY+74QIz4s8lInK3iNSr2xaRFiJysYjM85eejmK1sqnjscceY+bMmfU+q2RmZvL666/zzDPP8OWXX6bVVA4RtfwRkVzgFsCLb2iPfwAt8X1uWQ48qaofxi+bzWMtf1LLnj17+K//+i+WL1/OsmXL2LVrFwDZ2dl8++23J+2fqq2HwrX8ibpJnohkAx2Bo6r6dfOzF38WmKlLVVm/fj3Lly9n3rx5bNiwod72vLw8SktLU7KLWcwGfBaRPwFv4BsiZLyI9Gl27owJQ0To3bs3o0ePZv369cyePZv8/HzAV7ubqkHZmGg/l3wGPAJMwzeoVrmIBB9Xwpg4uOWWW9i/fz+DBg3iyJEjnH/++cnOUlw0a+4S/7vnalXtFbssxZ49yrpPVVUVF1xwAbm5uVRUVHDKKackO0tRi/ncJSJyp4g8iq/kPNCczMWT1cq612mnncbLL7/M9u3buemmm6ipqWn8oBTS1BEMlgCf4hsGJOS4O8mmqq+ranHbtm2TnRUTB/379+ePf/wjixcv5sEHH0x2dmIq2sqfF0Xke6q6TVVn4xshwIZCM0kzcuRIvF4vEydOZNmyZa5pshftuLJlwAviG6twDdAacNczhEkpIsJTTz3FRx99xPDhw/nuu+84duwYAJWVlRQXFwOkXM1tU4cW6Q18H1+Ju0QdPjq6Vf6436ZNmzj33HMJ9vfs1AYI4Sp/mjQSu6p+BHzUrFwZE0PdunULGpSQmk32nDB8pTEx4fF4gqan4vAlrg5M+1ySXkpKSmjZsmW9tJYtW6bm8CWhup24abFuX+mjrKys3rSA3bt3123bttVtc1J/TpwyP2ayFgvM9LRgwQLNz8/X9u3b6xtvvOG4/pzhAtPVj7ImvY0YMYKKigq6dOnCkCFDIh6+xAksMI2rnXvuuaxcuZLbb7895D5OrByywDSu17JlS0pLS7nzzjtP2ubUeTwtME3amDFjBlOmTKkbeLpt27aOncfTAtOklTFjxvCPf/yDm266iW+++YaysrKT5lVxxCeVULVCbliwafhMCDU1NVpaWqo5OTlaUFCgK1euVNXEflLBPpfY5xITXEVFhRYWFmp2drY+/vjj9b6BEudPKuECs1kjGKQKa8Ruwql9tF28eHHIfUQk5p2xYz6CgTFucsopp7Bw4cKwna0T/UnFAtMYICMjg3HjxjF+/PiTtiXjk4oFpjEBSkpKeOKJJ+o+qXTp0iUpQ2RaYBrTwKhRo1i7di3Z2dlcfPHFSfnOaYFpTBA9e/ZkzJgxzJ8/n7feeivh17daWWNCOHbsGL1796ampob169ef1NezuaxW1pgmyM3NZebMmWzevJnf//73Cb22BaYxYVx88cXcfPPNPPzww6xfvz5h13V1YNrQIiYWHn30Udq1a8cdd9yRsBHfXR2YaiOxmxjo2LEjU6dO5f333+epp55KyDVdHZjGxMoNN9zAz372M8aOHcv06dPj3vvEamWNidCmTZvo0aMHNTU1VFdX16U3dfJcq5U1Jga6detGq1at6gUlwJEjR5gwYUJMr2WBaUwUvv7666DpsR7QywLTmCgkarR3C0xjolBSUkJeXl69tHj0PrHANCYKXq+X0tJSCgoK6tLuueeemDd0t8A0Jkper5dt27axf/9+evbsyfTp01m3bl1Mr2GBaUwTnXLKKbz55pu0adOGyy+/PKZzcFpgGtMMBQUFLFu2jKNHjzJ48GD27dsXk/NaYBrTTD179mTRokVs3bqVoUOHcuTIkWaPTdukGaWNMfVddNFFPPfccwwfPpwBAwbw2WefcfToUQAqKyspLi4GiLiSyEpMY2Jk2LBhTJ8+nbVr19YFZa1oWwdZYBoTQyNHjgy5LZrWQa4OTOuPaZIhVCugaFoHuTowrT+mSYYHH3zwpPGBom0d5OrANCYZvF4vs2bNwuPxICJ4PJ6ou4VZf0xjksT6YxqTYiwwjXEgC0xjHMgC0xgHssA0xoEsMI1xIAtMYxzIAtMYB7LANMaBLDCNcSALTGMcyALTGAeywDTGgSwwjXEgC0xjHMgC0xgHssA0xoEsMI1xIAtMYxwoJQNTRK4WkVkislBELk12foyJtYQHpojMEZHdIrKhQfpgEflcRDaJyNhw51DV11T1duDfgBFxzK4xSZGMuUvmAtOB+bUJIpIJPAn8HNgBrBaRRUAm8FCD429R1d3+n3/nP84YV0l4YKrqOyJS2CD5R8AmVd0CICILgKtU9SFgaMNziIgAfwDeVNW/xTnLxiScU2b7OhPYHrC+A+gXZv+7gUuAtiLSTVVnNtxBRIqBYv/qIRH53P9zR2Bv87N8krZAtHMxRHJMuH2CbWtKWsPt8bhHTrk/odIbpoVbj9X98YTcoqoJX4BCYEPA+jXA0wHrNwJPxOnaFXE6b2k8jgm3T7BtTUlruD0e98gp9yfSexRuPV5/Q4GLU2pldwAFAetdgK+SlJemej1Ox4TbJ9i2pqQ1Je/Rcsr9CZXeMK2x9bhKyhQJ/nfMxap6vn89C/g78DPgS2A18EtV/TgO167QEMPSGx+7R+El4v4k43PJ88D7wHkiskNEblXV74BRwDLgU+DFeASlX2mczusmdo/Ci/v9SYtJhYxJNU55xzQOJyJni8hsEXk52XlJBxaYaUBECkXkqIh8GJB2iYg8G+k5VHWLqt7a4LwaeA4RyRKRPSKyuIn5bCkiH4rICRHp2JRzuIVTvmOaGBORTFWtDkjarKrfD1jvA6wNclwvwre2CnQYOF9EWqrqUXwtt75sap795/i+iGxt6jncwkpMFxGRl0Rkqoi8DYxrZPc+wOki8r8isktELgFQ1fWqOrTBEiwoa70JDPH/fD3wfEB+CkXkMxGZJyIficjLIpLn33aTP21dNCV3urDAdJdewCFV/amq/r6RffsAe1X1ImAkEHYechHpICIzgR+ISGDQLwCuE5FcoDewqsGh5+H7ON8bOACMFJGewATgYlXtA9wT4e+XNuxR1iX8gdEemBzBvtn+fR/1J2UBX4c7RlX3AXcGSf/I/136emBJkEO3q+q7/p/LgH8HjgMvq+pe/zn2N5bndGOB6R49gVX+b8KN6QGsU9Ua/3pvYEOY/RuzCF+QDwI6NNjW8HucAhIk3QSwR1n36AV8FOG+fYB1Aeu9ozg2mDnAZFVdH2RbVxHp7//5euCvwFvAtSLSAUBE2jfj2q5kgeke0QZm4L7n04wSU1V3qOq0EJs/BW4WkY/wPT7P8LfqKgH+R0TWAVObem23spY/aaBh22SnX9f/uaSo9h00HVmJmR6q8fVd/TDZGQmntoEBkA3UNLK7q1mJaYwDWYlpjANZYBrjQBaYxjiQBaYxDmSBaYwDWWAa40AWmMY4kAWmMQ5kgWmMA1lgGuNAFpjGOJAFpjEO5OoRDETkSuDK/Pz8288999xkZ8eYetasWbNXVTsF25YWvUuKioq0oqIi2dkwph4RWRNqDhR7lDXGgdI2MMvLyyksLCQjI4PCwkLKy8uTnSVj6qTFO2a3bt3qpZeXl1NcXMyRI0cAqKyspLjYN/m01xt2eFVjEsLVJaaqvq6qxW3btq2XPmHChLqgrHXkyBEmTJhQL81KVZMsri4xQ9m2bVuj6VaqmmRydYkZSteuXRtNj6RUtRLVxI2qun7p27evBiorK9O8vDzFNxq4ApqXl6dlZWV1+4hIve21i4hEfA5jwgEqNMTfbNKDJp4LcCVQ2q1bt5NuSllZmXo8HhUR9Xg8JwWUx+MJGpgejyei7ZFex6SvtA3M2qVhiRmJxkrExkrUSM5h0psFZojArK6u1pqampA3LlxpF0mJGWmpatJTuMBMy8qfWitXrqRjx45cccUVTJ48meXLl/P111/Xbfd6vWzdupWamhq2bt1aVxt74MABvF4v2dnZ9c6Xm5vLAw88ULceSe2vMcGk5eeSWvn5+QwbNoyVK1eydOlS3yME8L3vfY8LL7yQCy+8kH79+nH48GFWr15NRUUFFRUVfP7553X7ZmZmUl3tm1H92LFj3HfffaxYsYLBgwdz5plnsmPHjpOuG6pW2Jha1ojd78CBA6xevZqVK1fWLXv31p/TpnPnzhQVFdVbOnXydQ6oqqpi+fLlvPnmmyxbtoz9+/cjIogINTX/nIajRYsW3HXXXVx66aXk5uaSk5NDbm4uZ511Fu3atYv5726cK1wjdgvMEFSVLVu28MEHH9CqVSuKioro3LlzRMdWV1dTUVHB0qVLefbZZ9m8eXOjx7Rp04ZHHnmE2267jYyMtH7DSBtpG5gBbWVv37hxY9LycfDgQQ4cOMCxY8c4fvw4x48fr/t5yZIlzJ07lz179gDwL//yLyxcuBDrP+p+4QIz6TWmiVia8rkkEYJ9TgE0OztbH3zwQT1x4kSys2jiCKuVdaZgzf4AsrOzGT9+PEVFRVgH7/RkgZlEoT6bHD16lFdffZW9e/fSr18/Ro8ezeHDhxOcO5NMFphJFK4x/dVXX80nn3zCoEGDeOyxx2jdujWdO3e2hvJpwgIziUpKSsjLy6uXlpeXR0lJCQCLFy9m5cqVddt27tzJbbfdZsGZDkK9fLppcWrlj2rTmv2dfvrpScyxiRXCVP64+nNJrVQdJS8jI4NQ/3/ee+89+vfvn+AcmViyUfJSVKh30KysLC699FLeeeedBOfIJErKBaaInC0is0Xk5WTnJd5CvYP+8Y9/pKCggMGDB7NixYok5c7EVahn3HgswBxgN7ChQfpg4HNgEzA2wnO9HOl1nfyO2ZhQ76BVVVXaq1cvzcnJ0dGjR1tn7BSEU/pjAv8HuCAwMIFMYDNwNtACWAf0AHoBixsspwYclxaBGc7evXu1sLDwpMoh64ydGsIFZkIfZVX1HWB/g+QfAZtUdYuqngAWAFep6npVHdpg2Z3I/Dpdhw4d6rqcBQo2FKdJLU54xzwT2B6wvsOfFpSIdBCRmcAPRGRcmP2KRaRCRCpqG4i7UbD+nmCdsVOdEzpKS5C0kN9wVHUfcGdjJ1XVUhHZCVzZokWLvs3In6N17dqVysrKoOkmdTmhxNwBFASsdwG+isWJNcRI7G4SrOYW4LLLLktCbkysOCEwVwPdReQsEWkBXAcsSnKeUobX66W0tBSPx4OIUFBQQK9evZg1axZPP/10srNnmipUrVA8FuB5YCfwLb6S8lZ/+hXA3/HVzk6I4fVCjivrZkePHtXBgwcroDNmzEh2dkwIWJO81GyS1xzHjx9n+PDhLF68mCeeeIJRo0YlO0umgbRtkiciV4pI6TfffJPsrCRcTk4Or7zyCldddRV33303f/rTn5KdJRMFVwempkHlTzgtWrTgpZde4he/+AX33nsvjzzySLKzZCLk6sA0vmFKnn/+eUaMGMGYMWOYMmVKsrNkIuCE75hxE2pG6XSTnZ1NWVkZGRkZjB07FlVl7Nixyc6WCcPVgamqrwOvFxUV3Z7svCRbVlYW8+fPR0QYN24cqsq4cSEbTpkkc3VgmvqysrKYN28eAOPHj0dVGT9+fJJzZYJx9TtmOtfKBgqc+bpbt24MHjwYr9fLhAkT6sYXMg4T6gOnmxa3dvuKRKg5OufPn6833nijAjp58uRkZzMtEaaBgT3KulywQaWPHDnCf/zHf7B582ZEhIkTJ6KqTJw4MUm5NA1ZYLpcuDk6MzMzmTNnDiLCpEmTUFUmTZqU4ByaYFwdmPa5pPFuYZmZmcyePRsR4f777+fAgQM8/PDDZGZmJjqrJoCrK380zVv+QOODSoMvOC+++GLy8/OZOnUq+fn5zJ49O9FZNYFCvXy6aUnnyh/V8INK125vWEEkIjpt2rQk5Tg94JTBuJK1pHtgNibUiO+ZmZm6atWqiM7RWPCbk4ULTFc/yprIhKogqq6uZuDAgbz44othjy8vL6e4uJjKykpUlcrKSoqLi22OlWZwdWBaA4PIhBofqEuXLvTt25cRI0ZwzTXX4PF4yMjIoLCwsF7QhfokYyP1NUOootRNiz3KhheqEUJZWZkeO3ZMf/KTn4Qdu1ZEgj4Ki0iSfzNnwx5lTTgNxw3yeDyUlpbi9XrJyclh+/btJx0TWCKGm+fTNI0NLWIaFW7Wseeee45jx44xatSoeo+zeXl5dcFtggs3tIirGxiY2AjVSCEzM5Nf/vKXtGnThh/+8Id89tlnVFVV4fF4KCkpsaBsBnuUNY0K1UjhmWee4e2332bYsGGsWbOGqqoqzjnnHJ5//nkLyuYK9fLppsUqf5qvse+Uhw4d0rKyMj3nnHM0JydHFyxYkKScpg7StYEBaTqubDLt2bNHBwwYoICWlJRoTU1NsrPkWOEC09WPsmptZROuY8eOrFixoq4j9i233MKJEyeSna2UY5U/JuZycnJ49tln6d69O/fffz9bt27llVdeoX379snOWspwdYlpkqe2j+ezzz7Le++9R//+/dm8eXOys5UyLDBNXN1www2sWLGCvXv30q9fP959991kZyklWGCauLvoootYuXIl2dnZDBgwABE5qb2tqc8C0yTEBx98QGBnAuuBEp4FpkmICRMmcPTo0Xpp1gMlNAtMkxCh+nwGa+pnUjQwReRqEZklIgtF5NJk58c0LlRPk/z8/ATnJDUkPDBFZI6I7BaRDQ3SB4vI5yKySUTCznijqq+p6u3AvwEj4phdEyPB2ttmZWVx8OBBnn32WaD+iPFpXzkUqklQqAVoBWRGe1zA8f8HuADYEJCWiW+a97OBFsA6oAfQC1jcYDk14LjHgAsau6a1lXWGhu1t586dqwMHDtTc3Fx94IEHQnbWDneOVB5biOa0lcVXqv4SeAPYDWz3//dj4BGge2PnCHLOwgaB2R9YFrA+DhgX5ngBpgCXhNmnGKgAKrp27Rqve2uaqaqqSgsKCjQzMzPoKAgej6du33AjLaSicIEZyaPs28A5/mA5XVULVPVU4CJgJfAHEbkhgvOEcya+gK+1w58Wyt3AJcBwEbkz2A6qWqqqRapa1KlTp2Zmz8TLqaeeyquvvkp1dXXQ7YGVRuk0tlAkbWUvAaqBsar6UW2iqu4HXgFeEZHsZuZDgqSFHFpBVR8HHm/0pDYSe0ro27cvHTp0YN++fSdtC6w0Cjfdg9s0WmKq6reqWoMvQEPu08x87AAKAta7AF8185zWuySFTJs2jays+uVEwxHj02lsoWhqZdeKyCQRiUdN7mqgu4icJSItgOuARc09qQ1fmTq8Xi+zZ88mJycH8NXYDhw4kM6dO/Ptt75/9yOZ7sE1Qr18NlyAF4FPgV3AQuAB4JpIjw84z/PATuBbfCXlrf70K4C/46udnRDtecMtViubOg4cOKCPP/64XnbZZdqiRQsFtE2bNjp8+HCdO3euPvnkk41O99Cc7YlELEcwAHLwfe64GXg02uOTsVhgpqaDBw/qa6+9prfddpt27ty5bqzafv36BZ26obFaW6fV6jYrMPEPcdncfZKxYEOLuEZNTY3+7W9/0wceeEALCgq0Y8eOunHjxnr7hJqDpfaTS2PbEy1cYDY6rqyI/De+2teFqrotIL0FMMBfcr6tqnMjfHpOOBtX1l02btxI//79ad++Pe+//z4dOnQAQo9/KyLU1NQ0uj3Rwo0rG0lFzmB8n0ueF5GdIvKJiHwBbASuB/7o5KA07tO9e3cWLlzItm3buPrqqzl27BjQeK1tStXqhipKgy1ANnAG0C6a45K1YI+yrvbCCy8ooNddd51WV1en1zum/vOP/DfAh8BfgGnALUBfICfScyRrscof95oyZYoCOm7cOFV1T61sxHOXiMgW4FJ8j7W9ge/7l/OB46p6fnNK7niyd0z3UlVGjhzJzJkzeeqppyguLk52liIWq7lL1gGb/ZH+Bb5vmbUXcGTTGmuS534iwhNPPEFlZSUjR46ka9euDB48ONnZarZoWvHsBuaISGHDDarqyKY1ak3y0kJWVhYvvPACvXr14pprrmHdunVh9z9x4gRff/11YjLXRNGUmJvx9Y9cKCId8LUC+khVfxuXnBkThfz8fN544w369evHkCFDWLJkCYcPH+aLL75gy5YtbNmype7nHTt2UFNTw8SJE5k0aRIZGc4byCPiwFTVh2t/FpEs4Dx8gWqMI3Tu3JklS5bwk5/8hD59+tTbdsYZZ3D22WczcOBAzjrrLDZu3MjkyZP5+OOPmTdvHq1atUpSroNr0hQJqvodvo7SH8c2O7Fl75jpp1evXrz77ru88847FBYWcvbZZ1NYWEjLli3r7aeqFBUVcd9997F582YWLVpEQUFBiLMmns0obdLakiVLuP7662nZsiWvvvoq/fv3T9i1m9vyxxjXuuKKK3j//fdp3bo1gwYNYv78+cnOEmCBaQw9evRg1apVDBgwgJtvvpkxY8aEHOokUSwwjQE6dOjA0qVL+fWvf80jjzzCVVddxYEDB5p8vvLycjp37tz0eVpCNQlyw4K1lTVN8OSTT2pmZqaOGDGiSceXlZVpbm5uo21ySdep3msXaytrojV27FjNyMjQv//971EfG2m/z3CBaY+yxgRxzz33kJ2dzaOPPnrStsZGjA81H0tUo/mFilg3LVZimqYoLi7WnJwc3blzZ11aJF3H2rZtayWmMfEyevRoTpw4wbRp0+rSGht0+vDhw1RXV5OZmVlvn2hH87PANCaE7t27M3z4cP785z/XTbrb2KDTTz/9NIcOHeJ3v/sdHo8HEcHj8VBaWorX64384qGKUjct9ihrohHYmfr0009XQKdMmaKq4St2Tpw4oQUFBXrRRRdFdB3StVYW+1xiohTsHTIjI0PbtWunx44dC/uOOW/ePAX0jTfeiOhaaRuYtYuVmCZSoUpEQGfNmqWqwYcnqa6u1h49emivXr20pqYmomtZYFpgmgiJSMjA7N69u3733XdBj1u4cKECUY0hFC4wrfLHmAChhrLs2LEjGzdu5LXXXjtpm6ryhz/8gcLCQkaMiM0E5xaYxgQINXHR1KlTOeecc5gyZYrvUTPAX//6V95//31Gjx590oxlTRaqKHXTYo+yJhqhhricMWOGAvqXv/yl3v5DhgzRjh076uHDh6O6DvaOaYFpmu/o0aN62mmn6aWXXlqXtm7dOgX0gQceiPp84QLTHmWNiVBubi733HMPy5cvZ+3atQA8/PDDtG7dmrvuuium17LANCYKv/71r8nPz+fhhx9m69atLFiwgOLiYk455ZSYXidGb6qJIyLfA+4BOgJvqeqMJGfJpJF27dpxxx13MHXqVA4fPkxGRgb33ntvzK+T0BJTROaIyG4R2dAgfbCIfC4im0RkbLhzqOqnqnoncC0QdCAjY+Lp3nvvJSsri9dff50bb7yRLl26xPwaiX6UnYtvWr86IpIJPAlcDvQArheRHiLSS0QWN1hO9R/zr8BfgbcSm31jfOPX3nTTTYgI9913X1yukfDhK/1TLCxW/yREItIfuF9VL/OvjwNQ1YciONcbqjokxLZioBiga9eufUN1XjWmKQ4cOMAnn3zChRde2ORzxGpSoXg5E9gesL4D6BdqZxEZBAwDcoAlofZT1VKgFHzjysYgn8bUadOmTbOCsjFOCEwJkhYykFT1v4H/jujENhK7SVFO+FyyAwgcm74L8FUsTqw225dJUU4IzNVAdxE5S0RaANcBi2JxYhG5UkRKa3ufG5MqEv255HngfeA8EdkhIreqb4KiUcAyfFP7vaiqMZmsyEpMk6oS+o6pqteHSF9CmIocY9KNEx5l48YeZU2qcnVg2qOsSVWuDkwrMU2qcnVgWolpUpWrA9OYVGWBaYwDuTow7R3TpCpXB6a9Y5pU5erANCZVWWAa40CuDkx7xzSpytWBae+YJlW5OjCNSVUWmMY4kAWmMQ7k6sC0yh+TqlwdmFb5Y1KVqwPTmFRlgWmMA1lgGuNAFpjGOJAFpjEO5OrAtM8lJlW5OjDtc4lJVa4OTGNSlQWmMQ5kgWmMA1lgGuNAFpjGOJAFpjEOZIFpjAOlZGCKSCsRWSMiQ5OdF2PiIdEzSs8Rkd0isqFB+mAR+VxENonI2AhO9X+BF+OTS2OSL6EzSgNzgenA/NoEEckEngR+DuwAVovIIiATeKjB8bcAvYFPgNwE5NeYpEj0VO/viEhhg+QfAZtUdQuAiCwArlLVh4CTHlVF5KdAK6AHcFRElqhqTZD9ioFi/+ohEfnc/3NHYG8sfp8G2gLRNsqN5Jhw+wTb1pS0htvjcY+ccn9CpTdMC7ceq/vjCblFVRO6AIXAhoD14cDTAes3AtMjOM+/AUObcP2KOP1epfE4Jtw+wbY1Ja3h9njcI6fcn0jvUbj1eP0NBS6JfpQNRoKkaWMHqerc2GelWV6P0zHh9gm2rSlpTcl7tJxyf0KlN0xrbD2uxP8vQOIu6HuUXayq5/vX+wP3q+pl/vVxAOp7lI3H9StUtSge53YLu0fhJeL+OOFzyWqgu4icJSItgOuARXG8Xmkcz+0Wdo/Ci/v9SWiJKSLPA4PwvTxXAZNUdbaIXAH8CV9N7BxVLUlYpoxxoIQ/yhpjGueER1ljTAMWmMY4kAWmMQ5kgRlARM4Wkdki8nKy8+IU/g4D80Rkloh4k50fJ4rH341rAjMWDeRVdYuq3hrfnCZflPdqGPCyqt4O/GvCM5sk0dyjePzduCYw8TWQHxyYENBA/nJ8bWuvF5EeItJLRBY3WE5NfJaTZi4R3iugC7Ddv1t1AvOYbHOJ/B7FnBOa5MWExqCBfLqI5l7h6/HTBfgQd/1DHlaU9+iTWF/f7Tf6TP75rz34/sjODLWziHQQkZnAD2qbBqaRUPfq/wG/EJEZJLi9qAMFvUfx+LtxTYkZQlQN5FV1H3Bn/LLjaEHvlaoeBn6V6Mw4VKh7FPO/G7eXmDuAgoD1LsBXScqL09m9alzC7pHbAzPRDeRTmd2rxiXsHrkmMP0N5N8HzhORHSJyq6p+B4wClgGfAi+q6sfJzKcT2L1qXLLvkTViN8aBXFNiGuMmFpjGOJAFpjEOZIFpjANZYBrjQBaYxjiQBaYxDmSBaSJincgTywIzDYhIoYgcFZEPA9IuEZFnIz1HsM7AIqKB5xCRLBHZIyKLm5jPliLyoYicEJGOTTmHW7i9d0naEpFMVQ3s2LxZVb8fsN4HWBvkuF4EmWVNVXcHucxh4HwRaamqR/HN2PZlU/PsP8f3RWRrU8/hFlZiuoiIvCQiU0XkbaCxfoF9gNNF5H9FZJeIXAKgqutVdWiDJVhQ1noTGOL/+Xrg+YD8FIrIZ/4xgz4SkZdFJM+/7SZ/2rpoSu50YYHpLr2AQ6r6U1X9fSP79gH2qupFwEgg7EBbYToDLwCuE5FcfHOXrmpw6Hn4ZsrqDRwARopIT2ACcLGq9gHuifD3Sxv2KOsS/sBoD0yOYN9s/76P+pOygK/DHROqM7CqfuQfguN6YEmQQ7er6rv+n8uAfweO4xvga6//HPsby3O6scB0j57AKn/XpMb0ANbpPyf87Q1sCLN/YxbhC/JBQIcG2xp2X1J8IwFYt6Yw7FHWPXoBH0W4bx9gXcB67yiODWYOMFlV1wfZ1lV8Uy2Cr1T9K/AWcK2IdAAQkfbNuLYrWWC6R7SBGbjv+TSjxFTVHao6LcTmT4GbReQjfI/PM/ydi0uA/xGRdcDUpl7brayjdBqQBpMFO/26/s8lRbXvoOnISsz0UA20DWxg4ES1DQyAbKCmkd1dzUpMYxzISkxjHMgC0xgHssA0xoEsMI1xIAtMYxzIAtMYB7LANMaBLDCNcSALTGMc6P8D5LZC4eNQN1oAAAAASUVORK5CYII=\n",
      "text/plain": [
       "<Figure size 237.6x475.2 with 2 Axes>"
      ]
     },
     "metadata": {
      "needs_background": "light"
     },
     "output_type": "display_data"
    }
   ],
=======
   "execution_count": null,
   "metadata": {},
   "outputs": [],
>>>>>>> 93f93b9c992f6cbc5a5b3442873cc731fb57ae01
   "source": [
    "fig, (ax1, ax2) = plt.subplots(2,1, sharex=True, figsize=(3.3,6.6))\n",
    "fig.subplots_adjust(left=0.2, right=0.9, bottom=0.2, top=0.9)\n",
    "\n",
    "ax = ax1\n",
    "l0, = ax.plot(rbin_centers, omega_0, 'o', color='black')\n",
    "l1, = ax.plot(rbin_centers, omega_1, '-', color='black')\n",
    "ax.set_xscale('log')\n",
    "ax.set_yscale('log')\n",
    "ax.set_xlabel(r'$r~[h^{-1}\\rm Mpc]$')\n",
    "ax.set_ylabel(r'$\\omega(r)$')\n",
    "ax.set_ylim([0.01,0.5])\n",
    "\n",
    "ax = ax2\n",
    "l0, = ax.plot(rbin_centers, eta_0, 'o', color='black')\n",
    "l1, = ax.plot(rbin_centers, eta_1, '-', color='black')\n",
    "ax.set_xscale('log')\n",
    "ax.set_yscale('log')\n",
    "ax.set_xlabel(r'$r~[h^{-1}\\rm Mpc]$')\n",
    "ax.set_ylabel(r'$\\eta(r)$')\n",
    "ax.set_ylim([0.0001,0.5])\n",
    "\n",
    "plt.show()"
   ]
  },
  {
   "cell_type": "code",
<<<<<<< HEAD
   "execution_count": 24,
   "metadata": {},
   "outputs": [
    {
     "name": "stderr",
     "output_type": "stream",
     "text": [
      "/home/nvanalfen/github_repos/intrinsic_alignments/intrinsic_alignments/ia_models/occupation_models.py:515: UserWarning: There are 460 sub-haloes with no host halo.\n",
      "  warn(msg)\n",
      "/home/nvanalfen/github_repos/intrinsic_alignments/intrinsic_alignments/ia_models/occupation_models.py:515: UserWarning: There are 460 sub-haloes with no host halo.\n",
      "  warn(msg)\n",
      "/home/nvanalfen/github_repos/intrinsic_alignments/intrinsic_alignments/ia_models/ia_model_components.py:189: UserWarning: `central_alignment_strength` not detected in the table, using value in self.param_dict.\n",
      "  warn(msg)\n",
      "/home/nvanalfen/miniconda3/lib/python3.8/site-packages/scipy/stats/_distn_infrastructure.py:1051: VisibleDeprecationWarning: The signature of <bound method DimrothWatson._rvs of <watson_dist.watson_dist.watson_distribution.DimrothWatson object at 0x2ae73bdc1070>> does not contain a \"size\" keyword.  Such signatures are deprecated.\n",
      "  warnings.warn(\n",
      "/home/nvanalfen/github_repos/intrinsic_alignments/intrinsic_alignments/ia_models/ia_model_components.py:583: UserWarning: 1033565 galaxies have a radial distance equal to zero (or infinity) from their host. These galaxies will be re-assigned random alignment vectors.\n",
      "  warn(msg)\n",
      "/home/nvanalfen/github_repos/intrinsic_alignments/intrinsic_alignments/ia_models/ia_model_components.py:592: UserWarning: `satellite_alignment_strength` key not detected in `table`.The value set in self.param_dict of this class will be used instead.\n",
      "  warn(msg)\n",
      "/home/nvanalfen/miniconda3/lib/python3.8/site-packages/scipy/stats/_distn_infrastructure.py:1051: VisibleDeprecationWarning: The signature of <bound method DimrothWatson._rvs of <watson_dist.watson_dist.watson_distribution.DimrothWatson object at 0x2ae73bdc1a30>> does not contain a \"size\" keyword.  Such signatures are deprecated.\n",
      "  warnings.warn(\n",
      "/home/nvanalfen/github_repos/intrinsic_alignments/intrinsic_alignments/ia_models/ia_model_components.py:189: UserWarning: `central_alignment_strength` not detected in the table, using value in self.param_dict.\n",
      "  warn(msg)\n",
      "/home/nvanalfen/miniconda3/lib/python3.8/site-packages/scipy/stats/_distn_infrastructure.py:1051: VisibleDeprecationWarning: The signature of <bound method DimrothWatson._rvs of <watson_dist.watson_dist.watson_distribution.DimrothWatson object at 0x2ae73bdc1790>> does not contain a \"size\" keyword.  Such signatures are deprecated.\n",
      "  warnings.warn(\n",
      "/home/nvanalfen/github_repos/intrinsic_alignments/intrinsic_alignments/ia_models/ia_model_components.py:583: UserWarning: 1033565 galaxies have a radial distance equal to zero (or infinity) from their host. These galaxies will be re-assigned random alignment vectors.\n",
      "  warn(msg)\n",
      "/home/nvanalfen/github_repos/intrinsic_alignments/intrinsic_alignments/ia_models/ia_model_components.py:592: UserWarning: `satellite_alignment_strength` key not detected in `table`.The value set in self.param_dict of this class will be used instead.\n",
      "  warn(msg)\n",
      "/home/nvanalfen/miniconda3/lib/python3.8/site-packages/scipy/stats/_distn_infrastructure.py:1051: VisibleDeprecationWarning: The signature of <bound method DimrothWatson._rvs of <watson_dist.watson_dist.watson_distribution.DimrothWatson object at 0x2ae73be4e190>> does not contain a \"size\" keyword.  Such signatures are deprecated.\n",
      "  warnings.warn(\n"
     ]
    }
   ],
=======
   "execution_count": null,
   "metadata": {},
   "outputs": [],
>>>>>>> 93f93b9c992f6cbc5a5b3442873cc731fb57ae01
   "source": [
    "from intrinsic_alignments.ia_models.occupation_models import TriaxialNFW\n",
    "\n",
    "# add estimate of minor axis\n",
    "from rotations.vector_utilities import normalized_vectors\n",
    "B = np.vstack((halocat.halo_table['halo_axisA_x'],\n",
    "               halocat.halo_table['halo_axisA_y'],\n",
    "               halocat.halo_table['halo_axisA_z'])).T\n",
    "A = np.vstack((halocat.halo_table['halo_jx'],\n",
    "               halocat.halo_table['halo_jy'],\n",
    "               halocat.halo_table['halo_jz'])).T\n",
    "B = normalized_vectors(B)\n",
    "A = normalized_vectors(A)\n",
    "\n",
    "D = np.cross(A, B)\n",
    "C = np.cross(B, D)\n",
    "\n",
    "halocat.halo_table['halo_axisC_x'] = C[:,0]\n",
    "halocat.halo_table['halo_axisC_y'] = C[:,1]\n",
    "halocat.halo_table['halo_axisC_z'] = C[:,2]\n",
    "\n",
    "# define subhalo positions\n",
    "satellite_position_model_2 = TriaxialNFW(anisotropy_bias=0.0, Lbox=halocat.Lbox)\n",
    "# define subhalo positions\n",
    "satellite_position_model_3 = TriaxialNFW(anisotropy_bias=5.0, Lbox=halocat.Lbox)\n",
    "\n",
    "table_2 = Table(np.copy(halocat.halo_table))\n",
    "table_2 = satellite_position_model_2.assign_gal_type(table=table_2)\n",
    "table_2 = satellite_position_model_2.assign_positions(table=table_2)\n",
    "\n",
    "table_3 = Table(np.copy(halocat.halo_table))\n",
    "table_3 = satellite_position_model_3.assign_gal_type(table=table_3)\n",
    "table_3 = satellite_position_model_3.assign_positions(table=table_3)\n",
    "\n",
    "# define subhalo and host halo alignments\n",
    "satellite_alignment_model = RadialSatelliteAlignment(satellite_alignment_strength=0.85, Lbox=halocat.Lbox)\n",
    "central_alignment_model = CentralAlignment(central_alignment_strength=0.99)\n",
    "\n",
    "table_2 = central_alignment_model.assign_central_orientation(table=table_2)\n",
    "table_2 = satellite_alignment_model.assign_satellite_orientation(table=table_2)\n",
    "\n",
    "table_3 = central_alignment_model.assign_central_orientation(table=table_3)\n",
    "table_3 = satellite_alignment_model.assign_satellite_orientation(table=table_3)"
   ]
  },
  {
   "cell_type": "code",
<<<<<<< HEAD
   "execution_count": 25,
=======
   "execution_count": null,
>>>>>>> 93f93b9c992f6cbc5a5b3442873cc731fb57ae01
   "metadata": {},
   "outputs": [],
   "source": [
    "mask_2 = (table_2['halo_mpeak']>10**12.5)\n",
    "\n",
    "coords_2 = np.vstack((table_2['x'],table_2['y'],table_2['z'])).T\n",
    "result_2 = tpcf(coords_2[mask_2], rbins=rbins, period=halocat.Lbox, num_threads=4)\n",
    "\n",
    "mask_3 = (table_3['halo_mpeak']>10**12.5)\n",
    "\n",
    "coords_3 = np.vstack((table_3['x'],table_3['y'],table_3['z'])).T\n",
    "result_3 = tpcf(coords_3[mask_3], rbins=rbins, period=halocat.Lbox, num_threads=4)"
   ]
  },
  {
   "cell_type": "code",
<<<<<<< HEAD
   "execution_count": 26,
   "metadata": {},
   "outputs": [
    {
     "data": {
      "image/png": "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\n",
      "text/plain": [
       "<Figure size 237.6x237.6 with 1 Axes>"
      ]
     },
     "metadata": {
      "needs_background": "light"
     },
     "output_type": "display_data"
    }
   ],
=======
   "execution_count": null,
   "metadata": {},
   "outputs": [],
>>>>>>> 93f93b9c992f6cbc5a5b3442873cc731fb57ae01
   "source": [
    "fig = plt.figure(figsize=(3.3,3.3))\n",
    "l1, = plt.plot(rbin_centers, result_0, 'o')\n",
    "l1, = plt.plot(rbin_centers, result_1, '-')\n",
    "l2, = plt.plot(rbin_centers, result_2, '--')\n",
    "l2, = plt.plot(rbin_centers, result_3, ':')\n",
    "plt.xscale('log')\n",
    "plt.yscale('log')\n",
    "plt.xlabel(r'$r~[h^{-1}{\\rm Mpc}]$')\n",
    "plt.ylabel(r'$\\xi$')\n",
    "plt.show()"
   ]
  },
  {
   "cell_type": "code",
<<<<<<< HEAD
   "execution_count": 27,
=======
   "execution_count": null,
>>>>>>> 93f93b9c992f6cbc5a5b3442873cc731fb57ae01
   "metadata": {},
   "outputs": [],
   "source": [
    "orientations_2 = np.vstack((table_2['galaxy_axisA_x'],\n",
    "                            table_2['galaxy_axisA_y'],\n",
    "                            table_2['galaxy_axisA_z'])).T\n",
    "\n",
    "omega_2 = ed_3d(coords_2[mask_2], orientations_2[mask_2],\n",
    "              coords_2[mask_2],\n",
    "              rbins, period=halocat.Lbox, num_threads=4)\n",
    "\n",
    "eta_2 = ee_3d(coords_2[mask_2], orientations_2[mask_2],\n",
    "              coords_2[mask_2], orientations_2[mask_2],\n",
    "              rbins, period=halocat.Lbox, num_threads=4)"
   ]
  },
  {
   "cell_type": "code",
<<<<<<< HEAD
   "execution_count": 28,
=======
   "execution_count": null,
>>>>>>> 93f93b9c992f6cbc5a5b3442873cc731fb57ae01
   "metadata": {},
   "outputs": [],
   "source": [
    "orientations_3 = np.vstack((table_3['galaxy_axisA_x'],\n",
    "                            table_3['galaxy_axisA_y'],\n",
    "                            table_3['galaxy_axisA_z'])).T\n",
    "\n",
    "omega_3 = ed_3d(coords_3[mask_3], orientations_3[mask_3],\n",
    "              coords_3[mask_3],\n",
    "              rbins, period=halocat.Lbox, num_threads=4)\n",
    "\n",
    "eta_3 = ee_3d(coords_3[mask_3], orientations_3[mask_3],\n",
    "              coords_3[mask_3], orientations_3[mask_3],\n",
    "              rbins, period=halocat.Lbox, num_threads=4)"
   ]
  },
  {
   "cell_type": "code",
   "execution_count": null,
   "metadata": {},
   "outputs": [],
   "source": []
  },
  {
   "cell_type": "code",
   "execution_count": null,
   "metadata": {},
   "outputs": [],
   "source": []
  }
 ],
 "metadata": {
  "kernelspec": {
   "display_name": "Python 3",
   "language": "python",
   "name": "python3"
  },
  "language_info": {
   "codemirror_mode": {
    "name": "ipython",
    "version": 3
   },
   "file_extension": ".py",
   "mimetype": "text/x-python",
   "name": "python",
   "nbconvert_exporter": "python",
   "pygments_lexer": "ipython3",
<<<<<<< HEAD
   "version": "3.8.5"
=======
   "version": "3.8.1"
>>>>>>> 93f93b9c992f6cbc5a5b3442873cc731fb57ae01
  }
 },
 "nbformat": 4,
 "nbformat_minor": 4
}
