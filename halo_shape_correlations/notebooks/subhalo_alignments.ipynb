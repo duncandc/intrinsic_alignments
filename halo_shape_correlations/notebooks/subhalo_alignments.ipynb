{
 "cells": [
  {
   "cell_type": "code",
   "execution_count": 1,
   "metadata": {
    "collapsed": true
   },
   "outputs": [],
   "source": [
    "from __future__ import print_function, division\n",
    "import numpy as np\n",
    "import matplotlib.pyplot as plt\n",
    "%matplotlib inline"
   ]
  },
  {
   "cell_type": "markdown",
   "metadata": {},
   "source": [
    "# Subhalo Alignments"
   ]
  },
  {
   "cell_type": "markdown",
   "metadata": {},
   "source": [
    "Examine the intrinsic alignment between sub-haloes and thier host halo."
   ]
  },
  {
   "cell_type": "markdown",
   "metadata": {},
   "source": [
    "## Load Sub-halo Catalog"
   ]
  },
  {
   "cell_type": "code",
   "execution_count": 2,
   "metadata": {},
   "outputs": [
    {
     "name": "stderr",
     "output_type": "stream",
     "text": [
      "/anaconda2/lib/python2.7/site-packages/h5py/__init__.py:34: FutureWarning: Conversion of the second argument of issubdtype from `float` to `np.floating` is deprecated. In future, it will be treated as `np.float64 == np.dtype(float).type`.\n",
      "  from ._conv import register_converters as _register_converters\n"
     ]
    },
    {
     "name": "stdout",
     "output_type": "stream",
     "text": [
      "halo_vmax_firstacc\n",
      "halo_dmvir_dt_tdyn\n",
      "halo_macc\n",
      "halo_scale_factor\n",
      "halo_vmax_mpeak\n",
      "halo_m_pe_behroozi\n",
      "halo_xoff\n",
      "halo_spin\n",
      "halo_scale_factor_firstacc\n",
      "halo_c_to_a\n",
      "halo_mvir_firstacc\n",
      "halo_scale_factor_last_mm\n",
      "halo_scale_factor_mpeak\n",
      "halo_pid\n",
      "halo_m500c\n",
      "halo_id\n",
      "halo_halfmass_scale_factor\n",
      "halo_upid\n",
      "halo_t_by_u\n",
      "halo_rvir\n",
      "halo_vpeak\n",
      "halo_dmvir_dt_100myr\n",
      "halo_mpeak\n",
      "halo_m_pe_diemer\n",
      "halo_jx\n",
      "halo_jy\n",
      "halo_jz\n",
      "halo_m2500c\n",
      "halo_mvir\n",
      "halo_voff\n",
      "halo_axisA_z\n",
      "halo_axisA_x\n",
      "halo_axisA_y\n",
      "halo_y\n",
      "halo_b_to_a\n",
      "halo_x\n",
      "halo_z\n",
      "halo_m200b\n",
      "halo_vacc\n",
      "halo_scale_factor_lastacc\n",
      "halo_vmax\n",
      "halo_m200c\n",
      "halo_vx\n",
      "halo_vy\n",
      "halo_vz\n",
      "halo_dmvir_dt_inst\n",
      "halo_rs\n",
      "halo_nfw_conc\n",
      "halo_hostid\n",
      "halo_mvir_host_halo\n"
     ]
    }
   ],
   "source": [
    "from halotools.sim_manager import CachedHaloCatalog\n",
    "halocat = CachedHaloCatalog(simname='bolshoi', halo_finder='rockstar', redshift=0.0, dz_tol=0.001, version_name='halotools_v0p4')\n",
    "for name in halocat.halo_table.dtype.names:\n",
    "    print(name)"
   ]
  },
  {
   "cell_type": "markdown",
   "metadata": {},
   "source": [
    "## Define some useful quantities"
   ]
  },
  {
   "cell_type": "code",
   "execution_count": 3,
   "metadata": {
    "collapsed": true
   },
   "outputs": [],
   "source": [
    "# get masks for sub-haloes and host-haloes\n",
    "hosts = (halocat.halo_table['halo_upid']==-1)\n",
    "subs = (halocat.halo_table['halo_upid']!=-1)"
   ]
  },
  {
   "cell_type": "code",
   "execution_count": 4,
   "metadata": {
    "collapsed": true
   },
   "outputs": [],
   "source": [
    "# get the index of each sub-halo's host halo\n",
    "from halotools.utils import crossmatch, normalized_vectors\n",
    "inds1, inds2 = crossmatch(halocat.halo_table['halo_hostid'], halocat.halo_table['halo_id'])"
   ]
  },
  {
   "cell_type": "code",
   "execution_count": 5,
   "metadata": {},
   "outputs": [
    {
     "name": "stderr",
     "output_type": "stream",
     "text": [
      "/Users/duncan/Code/halotools/halotools/utils/matrix_operations_3d.py:88: RuntimeWarning: invalid value encountered in true_divide\n",
      "  return vectors/elementwise_norm(vectors).reshape((npts, -1))\n"
     ]
    }
   ],
   "source": [
    "# define radial vector between sub-halo and the center of its host halo.\n",
    "x = np.zeros(len(halocat.halo_table))\n",
    "y = np.zeros(len(halocat.halo_table))\n",
    "z = np.zeros(len(halocat.halo_table))\n",
    "x[inds1] = halocat.halo_table['halo_x'][inds2]\n",
    "y[inds1] = halocat.halo_table['halo_y'][inds2]\n",
    "z[inds1] = halocat.halo_table['halo_z'][inds2]\n",
    "\n",
    "dx = (halocat.halo_table['halo_x'] - x)\n",
    "dy = (halocat.halo_table['halo_y'] - y)\n",
    "dz = (halocat.halo_table['halo_z'] - z)\n",
    "\n",
    "# account for PBCs\n",
    "mask = (dx>halocat.Lbox[0]/2.0)\n",
    "dx[mask] = dx[mask] - halocat.Lbox[0]\n",
    "mask = (dx<-1.0*halocat.Lbox[0]/2.0)\n",
    "dx[mask] = dx[mask] + halocat.Lbox[0]\n",
    "\n",
    "mask = (dy>halocat.Lbox[1]/2.0)\n",
    "dy[mask] = dy[mask] - halocat.Lbox[1]\n",
    "mask = (dy<-1.0*halocat.Lbox[1]/2.0)\n",
    "dy[mask] = dy[mask] + halocat.Lbox[1]\n",
    "\n",
    "mask = (dz>halocat.Lbox[2]/2.0)\n",
    "dz[mask] = dz[mask] - halocat.Lbox[2]\n",
    "mask = (dz<-1.0*halocat.Lbox[2]/2.0)\n",
    "dz[mask] = dz[mask] + halocat.Lbox[2]\n",
    "\n",
    "# calculate radial distance and radial unit vector\n",
    "radius = np.sqrt(dx**2+dy**2+dz**2)\n",
    "r = normalized_vectors(np.vstack((dx, dy, dz)).T)\n",
    "r = np.nan_to_num(r)\n",
    "\n",
    "# calculate scaled radial distance (r/r_vir)\n",
    "scaled_radius = np.zeros(len(halocat.halo_table))\n",
    "# ignore divide by zero in this case\n",
    "scaled_radius[inds1] = np.divide(radius[inds1], halocat.halo_table['halo_rvir'][inds2],\n",
    "                                 out=np.zeros_like(radius[inds1]),\n",
    "                                 where=halocat.halo_table['halo_rvir'][inds2]!=0)"
   ]
  },
  {
   "cell_type": "code",
   "execution_count": 6,
   "metadata": {
    "collapsed": true
   },
   "outputs": [],
   "source": [
    "# define orinetation vecotrs of (sub-)haloes\n",
    "from halotools.utils import rotation_matrices_from_vectors, elementwise_dot, normalized_vectors\n",
    "from intrinsic_alignments.ia_models.utils import project_onto_plane\n",
    "\n",
    "#define major axis of (sub-)haloes\n",
    "major_axis = normalized_vectors(np.vstack((halocat.halo_table['halo_axisA_x'],\n",
    "                                           halocat.halo_table['halo_axisA_y'],\n",
    "                                           halocat.halo_table['halo_axisA_z'])).T)\n",
    "\n",
    "#define spin axis of (sub-)haloes\n",
    "spin_axis = normalized_vectors(np.vstack((halocat.halo_table['halo_jx'],\n",
    "                                          halocat.halo_table['halo_jy'],\n",
    "                                          halocat.halo_table['halo_jz'])).T)\n",
    "\n",
    "# define host orientation vectors for each sub-halo\n",
    "# major axis\n",
    "host_major_axis = np.copy(major_axis)\n",
    "host_major_axis[inds1] = major_axis[inds2]\n",
    "# spin axis\n",
    "host_spin_axis = np.copy(spin_axis)\n",
    "host_spin_axis[inds1] = spin_axis[inds2]"
   ]
  },
  {
   "cell_type": "code",
   "execution_count": 7,
   "metadata": {},
   "outputs": [
    {
     "name": "stderr",
     "output_type": "stream",
     "text": [
      "/Users/duncan/Code/halotools/halotools/utils/matrix_operations_3d.py:130: RuntimeWarning: invalid value encountered in greater\n",
      "  mask1 = (dot > 1) & (dot < 1 + tol)\n",
      "/Users/duncan/Code/halotools/halotools/utils/matrix_operations_3d.py:130: RuntimeWarning: invalid value encountered in less\n",
      "  mask1 = (dot > 1) & (dot < 1 + tol)\n",
      "/Users/duncan/Code/halotools/halotools/utils/matrix_operations_3d.py:132: RuntimeWarning: invalid value encountered in less\n",
      "  mask2 = (dot < -1) & (dot > -1 - tol)\n",
      "/Users/duncan/Code/halotools/halotools/utils/matrix_operations_3d.py:132: RuntimeWarning: invalid value encountered in greater\n",
      "  mask2 = (dot < -1) & (dot > -1 - tol)\n"
     ]
    }
   ],
   "source": [
    "# calculate misalignment angles\n",
    "from halotools.utils import angles_between_list_of_vectors\n",
    "\n",
    "# major axis\n",
    "theta_ma_1 = angles_between_list_of_vectors(r, major_axis)\n",
    "theta_ma_2 = angles_between_list_of_vectors(host_major_axis, major_axis)\n",
    "\n",
    "# spin axis\n",
    "theta_ma_3 = angles_between_list_of_vectors(r, spin_axis)\n",
    "theta_ma_4 = angles_between_list_of_vectors(host_spin_axis, spin_axis)"
   ]
  },
  {
   "cell_type": "markdown",
   "metadata": {},
   "source": [
    "# Radial Major Axis Alingment"
   ]
  },
  {
   "cell_type": "code",
   "execution_count": 30,
   "metadata": {},
   "outputs": [
    {
     "data": {
      "image/png": "[encoded data removed]",
      "text/plain": [
       "<matplotlib.figure.Figure at 0x1182cc290>"
      ]
     },
     "metadata": {},
     "output_type": "display_data"
    }
   ],
   "source": [
    "# import misalignment angle distribution model\n",
    "from intrinsic_alignments.ia_models.ia_model_components import DimrothWatson, inverse_alignment_strenth\n",
    "from intrinsic_alignments.halo_shape_correlations.utils import empirical_cdf, binned_bootstrap_1d\n",
    "\n",
    "d = DimrothWatson()\n",
    "\n",
    "# define bins\n",
    "costheta_bins = np.linspace(-1,1,21)\n",
    "mask = np.isfinite(theta_ma_1) & subs\n",
    "\n",
    "# calculate differential probability distribution\n",
    "costheta_1 = np.fabs(np.cos(theta_ma_1[mask]))\n",
    "uran = np.random.random(len(costheta_1))\n",
    "costheta_1[uran < 0.5] = -1.0*costheta_1[uran < 0.5] # symmeterize\n",
    "counts_1 = np.histogram(costheta_1, bins=costheta_bins)[0]\n",
    "counts_1 = 1.0*counts_1/np.sum(counts_1)/np.diff(costheta_bins)\n",
    "\n",
    "# fit for shape parameter\n",
    "k_1 = d.fit(np.cos(theta_ma_1[mask]), floc=0, fscale=1)[0]\n",
    "full_sample_p_1 = inverse_alignment_strenth(k_1)\n",
    "p = inverse_alignment_strenth(k_1)[0]\n",
    "\n",
    "# plot results\n",
    "x = np.linspace(-1,1,1000)\n",
    "fig, axes = plt.subplots(1,2,figsize=(6.3,3.3))\n",
    "fig.subplots_adjust(left=0.1, right=0.95, bottom=0.2, top=0.9, wspace=0.3)\n",
    "\n",
    "# differential probability distribution\n",
    "ax = axes[0]\n",
    "ax.step(costheta_bins[1:], counts_1, '-', color='black')\n",
    "ax.plot(x, d.pdf(x, k=k_1), '-', color='red')\n",
    "ax.set_ylim([0,1.5])\n",
    "ax.set_xlim([-1,1])\n",
    "ax.set_xlabel(r'$\\cos(\\theta_{MA})$')\n",
    "ax.set_ylabel(r'$\\mathrm{d}P/\\mathrm{d}\\cos(\\theta_{MA})$')\n",
    "ax.text(-0.75, 1.3, r'$\\mu=$'+'{:.2f}'.format(p))\n",
    "\n",
    "# cumulative distribution\n",
    "from intrinsic_alignments.halo_shape_correlations.utils import empirical_cdf\n",
    "cdf = empirical_cdf(costheta_1, bins=costheta_bins)[0]\n",
    "\n",
    "ax=axes[1]\n",
    "p1, = ax.step(costheta_bins, cdf, color='black')\n",
    "p2, = ax.step(x, d.cdf(x, k=k_1), '-', color='red')\n",
    "ax.set_ylim([0,1])\n",
    "ax.set_xlim([-1,1])\n",
    "ax.set_xlabel(r'$\\cos(\\theta_{MA})$')\n",
    "ax.set_ylabel(r'$F[\\cos(\\theta_{MA})]$')\n",
    "\n",
    "ax.legend([p1,p2],['Bolshoi','Model'], loc='upper left', frameon=False, fontsize=10)\n",
    "\n",
    "plt.show()"
   ]
  },
  {
   "cell_type": "code",
   "execution_count": 17,
   "metadata": {},
   "outputs": [
    {
     "data": {
      "image/png": "[encoded data removed]",
      "text/plain": [
       "<matplotlib.figure.Figure at 0x1193893d0>"
      ]
     },
     "metadata": {},
     "output_type": "display_data"
    }
   ],
   "source": [
    "from intrinsic_alignments.halo_shape_correlations.utils import binned_bootstrap_1d\n",
    "\n",
    "Nboot = 5\n",
    "\n",
    "# check for radial dependence \n",
    "rbins = np.logspace(-1.5,0.0,15)\n",
    "rbin_centers = (rbins[:-1]+rbins[1:])/2.0\n",
    "\n",
    "statisic = lambda x: inverse_alignment_strenth(d.fit(x, floc=0, fscale=1)[0])\n",
    "p, err_p = binned_bootstrap_1d(scaled_radius[mask], costheta_1, rbins,\n",
    "                               statistic=statisic, Nboot=Nboot)\n",
    "\n",
    "\n",
    "fig, ax = plt.subplots(1,1,figsize=(3.3,3.3))\n",
    "fig.subplots_adjust(left=0.2, right=0.9, bottom=0.2, top=0.9)\n",
    "ax.errorbar(rbin_centers, p, yerr=5*err_p, fmt='o', ms=4, color='black')\n",
    "ax.plot([0.001,2], [full_sample_p_1, full_sample_p_1], '-', color='red')\n",
    "ax.set_ylim([0,1])\n",
    "ax.set_xscale('log')\n",
    "ax.set_xlim(0.03,1.1)\n",
    "ax.set_xlabel(r'$r/r_{\\rm vir}$')\n",
    "ax.set_ylabel(r'$\\mu$')\n",
    "plt.show()"
   ]
  },
  {
   "cell_type": "code",
   "execution_count": 18,
   "metadata": {},
   "outputs": [
    {
     "data": {
      "image/png": "[encoded data removed]",
      "text/plain": [
       "<matplotlib.figure.Figure at 0x11846d110>"
      ]
     },
     "metadata": {},
     "output_type": "display_data"
    }
   ],
   "source": [
    "Nboot = 5\n",
    "\n",
    "# check for host mass dependence\n",
    "mbins = np.logspace(11,15,20)\n",
    "mbins_centers = (mbins[:-1]+mbins[1:])/2.0\n",
    "\n",
    "statisic = lambda x: inverse_alignment_strenth(d.fit(x, floc=0, fscale=1)[0])\n",
    "p, err_p = binned_bootstrap_1d(halocat.halo_table['halo_mvir_host_halo'][mask],\n",
    "                               costheta_1, mbins, statistic=statisic, Nboot=5)\n",
    "        \n",
    "fig, ax = plt.subplots(1,1,figsize=(3.3,3.3))\n",
    "fig.subplots_adjust(left=0.2, right=0.9, bottom=0.2, top=0.9)\n",
    "ax.errorbar(mbins_centers, p, yerr=5*err_p, fmt='o', ms=4, color='black')\n",
    "ax.plot([0.001,10**16], [full_sample_p_1, full_sample_p_1], '-', color='red')\n",
    "ax.set_ylim([0,1])\n",
    "ax.set_xlim([10**11,10**14])\n",
    "ax.set_xscale('log')\n",
    "ax.set_xlabel('host ' + r'$M_{\\rm vir}$')\n",
    "ax.set_ylabel(r'$\\mu$')\n",
    "plt.show()"
   ]
  },
  {
   "cell_type": "code",
   "execution_count": 15,
   "metadata": {},
   "outputs": [
    {
     "name": "stderr",
     "output_type": "stream",
     "text": [
      "/anaconda2/lib/python2.7/site-packages/ipykernel_launcher.py:7: RuntimeWarning: divide by zero encountered in true_divide\n",
      "  import sys\n"
     ]
    },
    {
     "data": {
      "image/png": "[encoded data removed]",
      "text/plain": [
       "<matplotlib.figure.Figure at 0x118f88ad0>"
      ]
     },
     "metadata": {},
     "output_type": "display_data"
    }
   ],
   "source": [
    "Nboot = 5\n",
    "\n",
    "# check for mass ratio dependence\n",
    "ratio_bins = np.logspace(-2,0,21)\n",
    "ratio_bins_centers = (ratio_bins[:-1]+ratio_bins[1:])/2.0\n",
    "\n",
    "ratio = (halocat.halo_table['halo_mvir']/halocat.halo_table['halo_mvir_host_halo'])\n",
    "\n",
    "statisic = lambda x: inverse_alignment_strenth(d.fit(x, floc=0, fscale=1)[0])\n",
    "p, err_p = binned_bootstrap_1d(ratio[mask], costheta_1, ratio_bins, statistic=statisic, Nboot=Nboot)\n",
    "        \n",
    "fig, ax = plt.subplots(1,1,figsize=(3.3,3.3))\n",
    "fig.subplots_adjust(left=0.2, right=0.9, bottom=0.2, top=0.9)\n",
    "ax.errorbar(ratio_bins_centers, p, yerr=5*err_p, fmt='o', ms=4, color='black')\n",
    "ax.plot([0.001,2], [full_sample_p_1, full_sample_p_1], '-', color='red')\n",
    "ax.set_ylim([0,1])\n",
    "ax.set_xlim([0.01,1])\n",
    "ax.set_xscale('log')\n",
    "ax.set_xlabel(r'$M_{\\rm sub}/M_{\\rm host}$')\n",
    "ax.set_ylabel(r'$\\mu$')\n",
    "plt.show()"
   ]
  },
  {
   "cell_type": "markdown",
   "metadata": {},
   "source": [
    "# Host Major Axis Alingment"
   ]
  },
  {
   "cell_type": "code",
   "execution_count": 29,
   "metadata": {},
   "outputs": [
    {
     "data": {
      "image/png": "[encoded data removed]",
      "text/plain": [
       "<matplotlib.figure.Figure at 0x1119b6810>"
      ]
     },
     "metadata": {},
     "output_type": "display_data"
    }
   ],
   "source": [
    "# import misalignment angle distribution model\n",
    "from intrinsic_alignments.ia_models.ia_model_components import DimrothWatson, inverse_alignment_strenth\n",
    "from intrinsic_alignments.halo_shape_correlations.utils import empirical_cdf, binned_bootstrap_1d\n",
    "\n",
    "d = DimrothWatson()\n",
    "\n",
    "# define bins\n",
    "costheta_bins = np.linspace(-1,1,21)\n",
    "mask = np.isfinite(theta_ma_2) & subs\n",
    "\n",
    "# calculate differential probability distribution\n",
    "costheta_2 = np.fabs(np.cos(theta_ma_2[mask]))\n",
    "uran = np.random.random(len(costheta_2))\n",
    "costheta_2[uran < 0.5] = -1.0*costheta_2[uran < 0.5] # symmeterize\n",
    "counts_2 = np.histogram(costheta_2, bins=costheta_bins)[0]\n",
    "counts_2 = 1.0*counts_2/np.sum(counts_2)/np.diff(costheta_bins)\n",
    "\n",
    "# fit for shape parameter\n",
    "k_2 = d.fit(np.cos(theta_ma_2[mask]), floc=0, fscale=1)[0]\n",
    "full_sample_p_2 = inverse_alignment_strenth(k_2)\n",
    "p = inverse_alignment_strenth(k_2)[0]\n",
    "\n",
    "# plot results\n",
    "x = np.linspace(-1,1,1000)\n",
    "fig, axes = plt.subplots(1,2,figsize=(6.3,3.3))\n",
    "fig.subplots_adjust(left=0.1, right=0.95, bottom=0.2, top=0.9, wspace=0.3)\n",
    "\n",
    "# differential probability distribution\n",
    "ax = axes[0]\n",
    "ax.step(costheta_bins[1:], counts_2, '-', color='black')\n",
    "ax.plot(x, d.pdf(x, k=k_2), '-', color='red')\n",
    "ax.set_ylim([0,1.5])\n",
    "ax.set_xlim([-1,1])\n",
    "ax.set_xlabel(r'$\\cos(\\theta_{MA})$')\n",
    "ax.set_ylabel(r'$\\mathrm{d}P/\\mathrm{d}\\cos(\\theta_{MA})$')\n",
    "ax.text(-0.75, 1.3, r'$\\mu=$'+'{:.2f}'.format(p))\n",
    "\n",
    "# cumulative distribution\n",
    "cdf = empirical_cdf(costheta_2, bins=costheta_bins)[0]\n",
    "\n",
    "ax=axes[1]\n",
    "p1, = ax.step(costheta_bins, cdf, color='black')\n",
    "p2, = ax.step(x, d.cdf(x, k=k_2), '-', color='red')\n",
    "ax.set_ylim([0,1])\n",
    "ax.set_xlim([-1,1])\n",
    "ax.set_xlabel(r'$\\cos(\\theta_{MA})$')\n",
    "ax.set_ylabel(r'$F[\\cos(\\theta_{MA})]$')\n",
    "\n",
    "ax.legend([p1,p2],['Bolshoi','Model'], loc='upper left', frameon=False, fontsize=10)\n",
    "\n",
    "plt.show()"
   ]
  },
  {
   "cell_type": "code",
   "execution_count": 31,
   "metadata": {},
   "outputs": [
    {
     "data": {
      "image/png": "[encoded data removed]",
      "text/plain": [
       "<matplotlib.figure.Figure at 0x118c6ba50>"
      ]
     },
     "metadata": {},
     "output_type": "display_data"
    }
   ],
   "source": [
    "from intrinsic_alignments.halo_shape_correlations.utils import binned_bootstrap_1d\n",
    "\n",
    "Nboot = 5\n",
    "\n",
    "# check for radial dependence \n",
    "rbins = np.logspace(-1.5,0.0,15)\n",
    "rbin_centers = (rbins[:-1]+rbins[1:])/2.0\n",
    "\n",
    "statisic = lambda x: inverse_alignment_strenth(d.fit(x, floc=0, fscale=1)[0])\n",
    "p, err_p = binned_bootstrap_1d(scaled_radius[mask], costheta_2, rbins,\n",
    "                               statistic=statisic, Nboot=Nboot)\n",
    "\n",
    "\n",
    "fig, ax = plt.subplots(1,1,figsize=(3.3,3.3))\n",
    "fig.subplots_adjust(left=0.2, right=0.9, bottom=0.2, top=0.9)\n",
    "ax.errorbar(rbin_centers, p, yerr=5*err_p, fmt='o', ms=4, color='black')\n",
    "ax.plot([0.001,2], [full_sample_p_2, full_sample_p_2], '-', color='red')\n",
    "ax.set_ylim([0,1])\n",
    "ax.set_xscale('log')\n",
    "ax.set_xlim(0.03,1.1)\n",
    "ax.set_xlabel(r'$r/r_{\\rm vir}$')\n",
    "ax.set_ylabel(r'$\\mu$')\n",
    "plt.show()"
   ]
  },
  {
   "cell_type": "code",
   "execution_count": 32,
   "metadata": {},
   "outputs": [
    {
     "data": {
      "image/png": "[encoded data removed]",
      "text/plain": [
       "<matplotlib.figure.Figure at 0x118dfa950>"
      ]
     },
     "metadata": {},
     "output_type": "display_data"
    }
   ],
   "source": [
    "Nboot = 5\n",
    "\n",
    "# check for host mass dependence\n",
    "mbins = np.logspace(11,15,20)\n",
    "mbins_centers = (mbins[:-1]+mbins[1:])/2.0\n",
    "\n",
    "statisic = lambda x: inverse_alignment_strenth(d.fit(x, floc=0, fscale=1)[0])\n",
    "p, err_p = binned_bootstrap_1d(halocat.halo_table['halo_mvir_host_halo'][mask],\n",
    "                               costheta_2, mbins, statistic=statisic, Nboot=5)\n",
    "        \n",
    "fig, ax = plt.subplots(1,1,figsize=(3.3,3.3))\n",
    "fig.subplots_adjust(left=0.2, right=0.9, bottom=0.2, top=0.9)\n",
    "ax.errorbar(mbins_centers, p, yerr=5*err_p, fmt='o', ms=4, color='black')\n",
    "ax.plot([0.001,10**16], [full_sample_p_2, full_sample_p_2], '-', color='red')\n",
    "ax.set_ylim([0,1])\n",
    "ax.set_xlim([10**11,10**14])\n",
    "ax.set_xscale('log')\n",
    "ax.set_xlabel('host ' + r'$M_{\\rm vir}$')\n",
    "ax.set_ylabel(r'$\\mu$')\n",
    "plt.show()"
   ]
  },
  {
   "cell_type": "code",
   "execution_count": 33,
   "metadata": {},
   "outputs": [
    {
     "name": "stderr",
     "output_type": "stream",
     "text": [
      "/anaconda2/lib/python2.7/site-packages/ipykernel_launcher.py:7: RuntimeWarning: divide by zero encountered in true_divide\n",
      "  import sys\n"
     ]
    },
    {
     "data": {
      "image/png": "[encoded data removed]",
      "text/plain": [
       "<matplotlib.figure.Figure at 0x1181ba550>"
      ]
     },
     "metadata": {},
     "output_type": "display_data"
    }
   ],
   "source": [
    "Nboot = 5\n",
    "\n",
    "# check for mass ratio dependence\n",
    "ratio_bins = np.logspace(-2,0,21)\n",
    "ratio_bins_centers = (ratio_bins[:-1]+ratio_bins[1:])/2.0\n",
    "\n",
    "ratio = (halocat.halo_table['halo_mvir']/halocat.halo_table['halo_mvir_host_halo'])\n",
    "\n",
    "statisic = lambda x: inverse_alignment_strenth(d.fit(x, floc=0, fscale=1)[0])\n",
    "p, err_p = binned_bootstrap_1d(ratio[mask], costheta_2, ratio_bins, statistic=statisic, Nboot=Nboot)\n",
    "        \n",
    "fig, ax = plt.subplots(1,1,figsize=(3.3,3.3))\n",
    "fig.subplots_adjust(left=0.2, right=0.9, bottom=0.2, top=0.9)\n",
    "ax.errorbar(ratio_bins_centers, p, yerr=5*err_p, fmt='o', ms=4, color='black')\n",
    "ax.plot([0.001,2], [full_sample_p_2, full_sample_p_2], '-', color='red')\n",
    "ax.set_ylim([0,1])\n",
    "ax.set_xlim([0.01,1])\n",
    "ax.set_xscale('log')\n",
    "ax.set_xlabel(r'$M_{\\rm sub}/M_{\\rm host}$')\n",
    "ax.set_ylabel(r'$\\mu$')\n",
    "plt.show()"
   ]
  },
  {
   "cell_type": "markdown",
   "metadata": {},
   "source": [
    "## check for more trends"
   ]
  },
  {
   "cell_type": "code",
   "execution_count": 261,
   "metadata": {
    "collapsed": true
   },
   "outputs": [],
   "source": [
    "# check for sub mass dependence\n",
    "mbins = np.logspace(10,14,20)\n",
    "mbins_centers = (mbins[:-1]+mbins[1:])/2.0\n",
    "inds = np.digitize(halocat.halo_table['halo_mvir'], bins=mbins)\n",
    "Nboot=20\n",
    "k = np.zeros((len(mbins)-1,Nboot))\n",
    "for i in range(0,len(mbins)-1):\n",
    "    mask = (inds==i) & np.isfinite(theta_ma)\n",
    "    x = np.cos(theta_ma[mask])\n",
    "    for j in range(0,Nboot):\n",
    "        xx = np.random.choice(x, size=len(x), replace=True)\n",
    "        k[i,j] = d.fit(xx, floc=0, fscale=1)[0]"
   ]
  },
  {
   "cell_type": "code",
   "execution_count": 262,
   "metadata": {},
   "outputs": [
    {
     "data": {
      "image/png": "[encoded data removed]",
      "text/plain": [
       "<matplotlib.figure.Figure at 0x10c53c450>"
      ]
     },
     "metadata": {},
     "output_type": "display_data"
    }
   ],
   "source": [
    "p = np.mean(inverse_alignment_strenth(k), axis=-1)\n",
    "err_p = np.std(inverse_alignment_strenth(k), axis=-1)\n",
    "\n",
    "fig, ax = plt.subplots(figsize=(3.3,3.3))\n",
    "fig.subplots_adjust(left=0.2, right=0.9, bottom=0.2, top=0.9)\n",
    "plt.errorbar(mbins_centers, p, yerr=5*err_p, fmt='o', ms=4, color='black')\n",
    "plt.plot([0.001,10**16], [full_sample_p, full_sample_p], '-', color='red')\n",
    "plt.ylim([0,1])\n",
    "plt.xlim([10**10,10**14])\n",
    "plt.xscale('log')\n",
    "plt.xlabel(r'$M_{\\rm vir}$')\n",
    "plt.ylabel(r'$\\mu$')\n",
    "plt.show()"
   ]
  },
  {
   "cell_type": "code",
   "execution_count": 260,
   "metadata": {
    "collapsed": true
   },
   "outputs": [],
   "source": [
    "# check for sub-halo ellipticity\n",
    "\n",
    "q = halocat.halo_table['halo_b_to_a']\n",
    "s = halocat.halo_table['halo_c_to_a']\n",
    "e = (1.0-q)/(1.0+q)\n",
    "\n",
    "ebins = np.logspace(-2,0.0,20)\n",
    "ebins_centers = (ebins[:-1]+ebins[1:])/2.0\n",
    "inds = np.digitize(e, bins=ebins)\n",
    "Nboot=5\n",
    "k = np.zeros((len(ebins)-1,Nboot))\n",
    "for i in range(0,len(ebins)-1):\n",
    "    mask = (inds==i) & np.isfinite(theta_ma)\n",
    "    x = np.cos(theta_ma[mask])\n",
    "    for j in range(0,Nboot):\n",
    "        xx = np.random.choice(x, size=len(x), replace=True)\n",
    "        k[i,j] = d.fit(xx, floc=0, fscale=1)[0]"
   ]
  },
  {
   "cell_type": "code",
   "execution_count": 259,
   "metadata": {},
   "outputs": [
    {
     "data": {
      "image/png": "[encoded data removed]",
      "text/plain": [
       "<matplotlib.figure.Figure at 0x10c52cad0>"
      ]
     },
     "metadata": {},
     "output_type": "display_data"
    }
   ],
   "source": [
    "p = np.mean(inverse_alignment_strenth(k), axis=-1)\n",
    "err_p = np.std(inverse_alignment_strenth(k), axis=-1)\n",
    "\n",
    "fig, ax = plt.subplots(figsize=(3.3,3.3))\n",
    "fig.subplots_adjust(left=0.2, right=0.9, bottom=0.2, top=0.9)\n",
    "plt.errorbar(ebins_centers, p, yerr=5*err_p, fmt='o', ms=4, color='black')\n",
    "plt.plot([0.001,10**16], [full_sample_p, full_sample_p], '-', color='red')\n",
    "plt.ylim([0,1])\n",
    "plt.xlim([0.01,1.1])\n",
    "plt.xscale('log')\n",
    "plt.xlabel('$e$')\n",
    "plt.ylabel(r'$\\mu$')\n",
    "plt.show()"
   ]
  },
  {
   "cell_type": "markdown",
   "metadata": {},
   "source": [
    "## fit for hybrid model alignment"
   ]
  },
  {
   "cell_type": "code",
   "execution_count": 226,
   "metadata": {
    "collapsed": true
   },
   "outputs": [],
   "source": [
    "fs = np.linspace(0,1.0,11)\n",
    "#fs = np.array([0,1])\n",
    "\n",
    "v = np.zeros((len(fs),N,3))\n",
    "for i,f in enumerate(fs):\n",
    "    v[i,:,:] = normalized_vectors(f*r + (1.0-f)*host_major_axis)"
   ]
  },
  {
   "cell_type": "code",
   "execution_count": 227,
   "metadata": {
    "collapsed": true
   },
   "outputs": [],
   "source": [
    "rbins = np.logspace(-1.5,0.0,15)\n",
    "rbin_centers = (rbins[:-1]+rbins[1:])/2.0\n",
    "inds = np.digitize(scaled_radius, bins=rbins)\n",
    "\n",
    "k = np.zeros((len(fs), len(rbins)-1))\n",
    "for j in range(len(fs)):\n",
    "    theta_ma = angles_between_list_of_vectors(v[j,:,:], major_axis)\n",
    "    for i in range(0,len(rbins)-1):\n",
    "        mask = (inds==i+1) & np.isfinite(theta_ma)\n",
    "        x = np.fabs(np.cos(theta_ma[mask]))\n",
    "        uran = np.random.random(len(x))\n",
    "        x[uran < 0.5] = -1.0*x[uran < 0.5]\n",
    "        k[j,i] = d.fit(x, floc=0, fscale=1)[0]"
   ]
  },
  {
   "cell_type": "code",
   "execution_count": 228,
   "metadata": {},
   "outputs": [
    {
     "data": {
      "image/png": "[encoded data removed]",
      "text/plain": [
       "<matplotlib.figure.Figure at 0x118a61b50>"
      ]
     },
     "metadata": {},
     "output_type": "display_data"
    }
   ],
   "source": [
    "p = inverse_alignment_strenth(k)\n",
    "plt.imshow(p, vmin=0.0, vmax=1, extent=[-1.5,0,0,1])\n",
    "plt.colorbar()\n",
    "plt.show()"
   ]
  },
  {
   "cell_type": "markdown",
   "metadata": {},
   "source": [
    "## consider two vvector alignemnts\n"
   ]
  },
  {
   "cell_type": "code",
   "execution_count": 287,
   "metadata": {
    "collapsed": true
   },
   "outputs": [],
   "source": [
    "from intrinsic_alignments.ia_models.ia_model_components import DimrothWatson, inverse_alignment_strenth, alignment_strenth, axes_correlated_with_input_vector\n",
    "from halotools.utils import angles_between_list_of_vectors"
   ]
  },
  {
   "cell_type": "code",
   "execution_count": 304,
   "metadata": {
    "collapsed": true
   },
   "outputs": [],
   "source": [
    "N = 100000\n",
    "\n",
    "input_vectors = np.zeros((N,3))\n",
    "ran = np.random.random(N)\n",
    "xaxis = np.zeros((N,3))\n",
    "xaxis[:,0]=1.0\n",
    "input_vectors[ran<0.5,0] = 1.0\n",
    "input_vectors[ran>=0.5,1] = 1.0\n",
    "ps = np.ones(N)*0.9\n",
    "output_vectors = axes_correlated_with_input_vector(input_vectors, p=ps)"
   ]
  },
  {
   "cell_type": "code",
   "execution_count": 305,
   "metadata": {
    "collapsed": true
   },
   "outputs": [],
   "source": [
    "theta = angles_between_list_of_vectors(output_vectors, xaxis)\n",
    "x = np.cos(theta)"
   ]
  },
  {
   "cell_type": "code",
   "execution_count": 61,
   "metadata": {},
   "outputs": [
    {
     "data": {
      "text/plain": [
       "Text(0,0.5,u'$\\\\mathrm{d}P/\\\\mathrm{d}\\\\cos(\\\\theta_{MA})$')"
      ]
     },
     "execution_count": 61,
     "metadata": {},
     "output_type": "execute_result"
    },
    {
     "data": {
      "image/png": "[encoded data removed]",
      "text/plain": [
       "<matplotlib.figure.Figure at 0x11af078d0>"
      ]
     },
     "metadata": {},
     "output_type": "display_data"
    }
   ],
   "source": [
    "bins = np.linspace(-1,1,21)\n",
    "\n",
    "counts = np.histogram(x, bins=bins)[0]\n",
    "counts = 1.0*counts/np.sum(counts)/np.diff(bins)\n",
    "\n",
    "xx = np.linspace(-1,1,1000)\n",
    "fig, ax = plt.subplots(1,1, figsize=(3.3,3.3))\n",
    "fig.subplots_adjust(left=0.2, right=0.9, bottom=0.2, top=0.9, wspace=0.3)\n",
    "ax.step(costheta_bins[1:], counts, '-', color='black')\n",
    "ax.plot(xx, 0.5*d.pdf(xx,k=alignment_strenth(0.8))+0.5*d.pdf(xx,k=alignment_strenth(-0.8)))\n",
    "ax.set_ylim([0,1.5])\n",
    "ax.set_xlim([-1,1])\n",
    "ax.set_xlabel(r'$\\cos(2\\theta_{MA})$')\n",
    "ax.set_ylabel(r'$\\mathrm{d}P/\\mathrm{d}\\cos(\\theta_{MA})$')"
   ]
  },
  {
   "cell_type": "code",
   "execution_count": 310,
   "metadata": {},
   "outputs": [
    {
     "data": {
      "text/plain": [
       "array([-6.31375151])"
      ]
     },
     "execution_count": 310,
     "metadata": {},
     "output_type": "execute_result"
    }
   ],
   "source": [
    "alignment_strenth(0.9)"
   ]
  },
  {
   "cell_type": "code",
   "execution_count": 111,
   "metadata": {},
   "outputs": [
    {
     "data": {
      "image/png": "[encoded data removed]",
      "text/plain": [
       "<matplotlib.figure.Figure at 0x119062ed0>"
      ]
     },
     "metadata": {},
     "output_type": "display_data"
    }
   ],
   "source": [
    "from intrinsic_alignments.ia_models.ia_model_components import DimrothWatson, alignment_strenth\n",
    "\n",
    "d = DimrothWatson()\n",
    "\n",
    "def f(x, dtheta = np.pi/2):\n",
    "    b = dtheta\n",
    "    a = np.arccos(x)\n",
    "    x = (1.0/np.cos(a))*np.cos(a+b)\n",
    "    return x*np.cos(a)    \n",
    "\n",
    "def shifted_DimrothWatson(x, dtheta = 0.0*np.pi/100, k=0.0):\n",
    "    return 0.5*d.pdf(f(x, dtheta=dtheta), k=k)+0.5*d.pdf(f(-1.0*x, dtheta=dtheta), k=k)\n",
    "\n",
    "xx = np.linspace(-1,1,1000)\n",
    "fig, ax = plt.subplots(1,1, figsize=(3.3,3.3))\n",
    "fig.subplots_adjust(left=0.2, right=0.9, bottom=0.2, top=0.9, wspace=0.3)\n",
    "ax.plot(xx, 0.5*d.pdf(xx, k=alignment_strenth(0.8)) + 0.5*shifted_DimrothWatson(xx, k=alignment_strenth(0.8)))\n",
    "ax.set_ylim([0,1.5])\n",
    "ax.set_xlim([-1,1])\n",
    "plt.show()"
   ]
  },
  {
   "cell_type": "code",
   "execution_count": null,
   "metadata": {
    "collapsed": true
   },
   "outputs": [],
   "source": []
  }
 ],
 "metadata": {
  "kernelspec": {
   "display_name": "Python 2",
   "language": "python",
   "name": "python2"
  },
  "language_info": {
   "codemirror_mode": {
    "name": "ipython",
    "version": 2
   },
   "file_extension": ".py",
   "mimetype": "text/x-python",
   "name": "python",
   "nbconvert_exporter": "python",
   "pygments_lexer": "ipython2",
   "version": "2.7.14"
  }
 },
 "nbformat": 4,
 "nbformat_minor": 2
}
