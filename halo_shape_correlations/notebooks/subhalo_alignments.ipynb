{
 "cells": [
  {
   "cell_type": "code",
   "execution_count": 1,
   "metadata": {},
   "outputs": [],
   "source": [
    "from __future__ import print_function, division\n",
    "import numpy as np\n",
    "import matplotlib.pyplot as plt\n",
    "%matplotlib inline"
   ]
  },
  {
   "cell_type": "markdown",
   "metadata": {},
   "source": [
    "# Subhalo Alignments"
   ]
  },
  {
   "cell_type": "markdown",
   "metadata": {},
   "source": [
    "Examine the intrinsic alignment between sub-haloes and thier host halo."
   ]
  },
  {
   "cell_type": "markdown",
   "metadata": {},
   "source": [
    "## Load Sub-halo Catalog"
   ]
  },
  {
   "cell_type": "code",
   "execution_count": 2,
   "metadata": {},
   "outputs": [
    {
     "name": "stderr",
     "output_type": "stream",
     "text": [
      "/anaconda2/lib/python2.7/site-packages/h5py/__init__.py:36: FutureWarning: Conversion of the second argument of issubdtype from `float` to `np.floating` is deprecated. In future, it will be treated as `np.float64 == np.dtype(float).type`.\n",
      "  from ._conv import register_converters as _register_converters\n"
     ]
    },
    {
     "name": "stdout",
     "output_type": "stream",
     "text": [
      "halo_vmax_firstacc\n",
      "halo_dmvir_dt_tdyn\n",
      "halo_macc\n",
      "halo_scale_factor\n",
      "halo_vmax_mpeak\n",
      "halo_m_pe_behroozi\n",
      "halo_xoff\n",
      "halo_spin\n",
      "halo_scale_factor_firstacc\n",
      "halo_c_to_a\n",
      "halo_mvir_firstacc\n",
      "halo_scale_factor_last_mm\n",
      "halo_scale_factor_mpeak\n",
      "halo_pid\n",
      "halo_m500c\n",
      "halo_id\n",
      "halo_halfmass_scale_factor\n",
      "halo_upid\n",
      "halo_t_by_u\n",
      "halo_rvir\n",
      "halo_vpeak\n",
      "halo_dmvir_dt_100myr\n",
      "halo_mpeak\n",
      "halo_m_pe_diemer\n",
      "halo_jx\n",
      "halo_jy\n",
      "halo_jz\n",
      "halo_m2500c\n",
      "halo_mvir\n",
      "halo_voff\n",
      "halo_axisA_z\n",
      "halo_axisA_x\n",
      "halo_axisA_y\n",
      "halo_y\n",
      "halo_b_to_a\n",
      "halo_x\n",
      "halo_z\n",
      "halo_m200b\n",
      "halo_vacc\n",
      "halo_scale_factor_lastacc\n",
      "halo_vmax\n",
      "halo_m200c\n",
      "halo_vx\n",
      "halo_vy\n",
      "halo_vz\n",
      "halo_dmvir_dt_inst\n",
      "halo_rs\n",
      "halo_nfw_conc\n",
      "halo_hostid\n",
      "halo_mvir_host_halo\n"
     ]
    }
   ],
   "source": [
    "from halotools.sim_manager import CachedHaloCatalog\n",
    "halocat = CachedHaloCatalog(simname='bolshoi', halo_finder='rockstar', redshift=0.0, dz_tol=0.001, version_name='halotools_v0p4')\n",
    "for name in halocat.halo_table.dtype.names:\n",
    "    print(name)"
   ]
  },
  {
   "cell_type": "markdown",
   "metadata": {},
   "source": [
    "## Define some useful quantities"
   ]
  },
  {
   "cell_type": "code",
   "execution_count": 3,
   "metadata": {},
   "outputs": [],
   "source": [
    "# get masks for sub-haloes and host-haloes\n",
    "hosts = (halocat.halo_table['halo_upid']==-1)\n",
    "subs = (halocat.halo_table['halo_upid']!=-1)"
   ]
  },
  {
   "cell_type": "code",
   "execution_count": 4,
   "metadata": {},
   "outputs": [],
   "source": [
    "# get the index of each sub-halo's host halo\n",
    "from halotools.utils import crossmatch, normalized_vectors\n",
    "inds1, inds2 = crossmatch(halocat.halo_table['halo_hostid'], halocat.halo_table['halo_id'])"
   ]
  },
  {
   "cell_type": "code",
   "execution_count": 5,
   "metadata": {},
   "outputs": [
    {
     "name": "stderr",
     "output_type": "stream",
     "text": [
      "/Users/duncan/Code/halotools/halotools/utils/matrix_operations_3d.py:88: RuntimeWarning: invalid value encountered in true_divide\n",
      "  return vectors/elementwise_norm(vectors).reshape((npts, -1))\n"
     ]
    }
   ],
   "source": [
    "# define radial vector between sub-halo and the center of its host halo.\n",
    "x = np.zeros(len(halocat.halo_table))\n",
    "y = np.zeros(len(halocat.halo_table))\n",
    "z = np.zeros(len(halocat.halo_table))\n",
    "x[inds1] = halocat.halo_table['halo_x'][inds2]\n",
    "y[inds1] = halocat.halo_table['halo_y'][inds2]\n",
    "z[inds1] = halocat.halo_table['halo_z'][inds2]\n",
    "\n",
    "dx = (halocat.halo_table['halo_x'] - x)\n",
    "dy = (halocat.halo_table['halo_y'] - y)\n",
    "dz = (halocat.halo_table['halo_z'] - z)\n",
    "\n",
    "# account for PBCs\n",
    "mask = (dx>halocat.Lbox[0]/2.0)\n",
    "dx[mask] = dx[mask] - halocat.Lbox[0]\n",
    "mask = (dx<-1.0*halocat.Lbox[0]/2.0)\n",
    "dx[mask] = dx[mask] + halocat.Lbox[0]\n",
    "\n",
    "mask = (dy>halocat.Lbox[1]/2.0)\n",
    "dy[mask] = dy[mask] - halocat.Lbox[1]\n",
    "mask = (dy<-1.0*halocat.Lbox[1]/2.0)\n",
    "dy[mask] = dy[mask] + halocat.Lbox[1]\n",
    "\n",
    "mask = (dz>halocat.Lbox[2]/2.0)\n",
    "dz[mask] = dz[mask] - halocat.Lbox[2]\n",
    "mask = (dz<-1.0*halocat.Lbox[2]/2.0)\n",
    "dz[mask] = dz[mask] + halocat.Lbox[2]\n",
    "\n",
    "# calculate radial distance and radial unit vector\n",
    "radius = np.sqrt(dx**2+dy**2+dz**2)\n",
    "r = normalized_vectors(np.vstack((dx, dy, dz)).T)\n",
    "r = np.nan_to_num(r)\n",
    "\n",
    "# calculate scaled radial distance (r/r_vir)\n",
    "scaled_radius = np.zeros(len(halocat.halo_table))\n",
    "# ignore divide by zero in this case\n",
    "scaled_radius[inds1] = np.divide(radius[inds1], halocat.halo_table['halo_rvir'][inds2],\n",
    "                                 out=np.zeros_like(radius[inds1]),\n",
    "                                 where=halocat.halo_table['halo_rvir'][inds2]!=0)"
   ]
  },
  {
   "cell_type": "code",
   "execution_count": 6,
   "metadata": {},
   "outputs": [],
   "source": [
    "# define orinetation vecotrs of (sub-)haloes\n",
    "from halotools.utils import rotation_matrices_from_vectors, elementwise_dot, normalized_vectors\n",
    "from intrinsic_alignments.ia_models.utils import project_onto_plane\n",
    "\n",
    "#define major axis of (sub-)haloes\n",
    "major_axis = normalized_vectors(np.vstack((halocat.halo_table['halo_axisA_x'],\n",
    "                                           halocat.halo_table['halo_axisA_y'],\n",
    "                                           halocat.halo_table['halo_axisA_z'])).T)\n",
    "\n",
    "#define spin axis of (sub-)haloes\n",
    "spin_axis = normalized_vectors(np.vstack((halocat.halo_table['halo_jx'],\n",
    "                                          halocat.halo_table['halo_jy'],\n",
    "                                          halocat.halo_table['halo_jz'])).T)\n",
    "\n",
    "# define host orientation vectors for each sub-halo\n",
    "# major axis\n",
    "host_major_axis = np.copy(major_axis)\n",
    "host_major_axis[inds1] = major_axis[inds2]\n",
    "# spin axis\n",
    "host_spin_axis = np.copy(spin_axis)\n",
    "host_spin_axis[inds1] = spin_axis[inds2]"
   ]
  },
  {
   "cell_type": "code",
   "execution_count": 7,
   "metadata": {},
   "outputs": [
    {
     "name": "stderr",
     "output_type": "stream",
     "text": [
      "/Users/duncan/Code/halotools/halotools/utils/matrix_operations_3d.py:130: RuntimeWarning: invalid value encountered in greater\n",
      "  mask1 = (dot > 1) & (dot < 1 + tol)\n",
      "/Users/duncan/Code/halotools/halotools/utils/matrix_operations_3d.py:130: RuntimeWarning: invalid value encountered in less\n",
      "  mask1 = (dot > 1) & (dot < 1 + tol)\n",
      "/Users/duncan/Code/halotools/halotools/utils/matrix_operations_3d.py:132: RuntimeWarning: invalid value encountered in less\n",
      "  mask2 = (dot < -1) & (dot > -1 - tol)\n",
      "/Users/duncan/Code/halotools/halotools/utils/matrix_operations_3d.py:132: RuntimeWarning: invalid value encountered in greater\n",
      "  mask2 = (dot < -1) & (dot > -1 - tol)\n"
     ]
    }
   ],
   "source": [
    "# calculate misalignment angles\n",
    "from halotools.utils import angles_between_list_of_vectors\n",
    "\n",
    "# major axis\n",
    "theta_ma_1 = angles_between_list_of_vectors(r, major_axis)\n",
    "theta_ma_2 = angles_between_list_of_vectors(host_major_axis, major_axis)\n",
    "\n",
    "# spin axis\n",
    "theta_ma_3 = angles_between_list_of_vectors(r, spin_axis)\n",
    "theta_ma_4 = angles_between_list_of_vectors(host_spin_axis, spin_axis)"
   ]
  },
  {
   "cell_type": "markdown",
   "metadata": {},
   "source": [
    "# Radial Major Axis Alingment"
   ]
  },
  {
   "cell_type": "code",
   "execution_count": 8,
   "metadata": {},
   "outputs": [
    {
     "data": {
      "image/png": "[encoded data removed]",
      "text/plain": [
       "<Figure size 453.6x237.6 with 2 Axes>"
      ]
     },
     "metadata": {},
     "output_type": "display_data"
    }
   ],
   "source": [
    "# import misalignment angle distribution model\n",
    "from intrinsic_alignments.ia_models.ia_model_components import DimrothWatson, inverse_alignment_strenth\n",
    "from intrinsic_alignments.halo_shape_correlations.utils import empirical_cdf, binned_bootstrap_1d\n",
    "\n",
    "mass_mask = (halocat.halo_table['halo_mpeak']>10**12)\n",
    "\n",
    "d = DimrothWatson()\n",
    "\n",
    "# define bins\n",
    "costheta_bins = np.linspace(-1,1,21)\n",
    "mask = np.isfinite(theta_ma_1) & subs & mass_mask\n",
    "\n",
    "# calculate differential probability distribution\n",
    "costheta_1 = np.fabs(np.cos(theta_ma_1[mask]))\n",
    "uran = np.random.random(len(costheta_1))\n",
    "costheta_1[uran < 0.5] = -1.0*costheta_1[uran < 0.5] # symmeterize\n",
    "counts_1 = np.histogram(costheta_1, bins=costheta_bins)[0]\n",
    "counts_1 = 1.0*counts_1/np.sum(counts_1)/np.diff(costheta_bins)\n",
    "\n",
    "# fit for shape parameter\n",
    "k_1 = d.fit(np.cos(theta_ma_1[mask]), floc=0, fscale=1)[0]\n",
    "full_sample_p_1 = inverse_alignment_strenth(k_1)\n",
    "p = inverse_alignment_strenth(k_1)[0]\n",
    "\n",
    "# plot results\n",
    "x = np.linspace(-1,1,1000)\n",
    "fig, axes = plt.subplots(1,2,figsize=(6.3,3.3))\n",
    "fig.subplots_adjust(left=0.1, right=0.95, bottom=0.2, top=0.9, wspace=0.3)\n",
    "\n",
    "# differential probability distribution\n",
    "ax = axes[0]\n",
    "ax.step(costheta_bins[1:], counts_1, '-', color='black')\n",
    "ax.plot(x, d.pdf(x, k=k_1), '-', color='red')\n",
    "ax.set_ylim([0,1.5])\n",
    "ax.set_xlim([-1,1])\n",
    "ax.set_xlabel(r'$\\cos(\\theta_{MA})$')\n",
    "ax.set_ylabel(r'$\\mathrm{d}P/\\mathrm{d}\\cos(\\theta_{MA})$')\n",
    "ax.text(-0.75, 1.3, r'$\\mu=$'+'{:.2f}'.format(p))\n",
    "\n",
    "# cumulative distribution\n",
    "from intrinsic_alignments.halo_shape_correlations.utils import empirical_cdf\n",
    "cdf = empirical_cdf(costheta_1, bins=costheta_bins)[0]\n",
    "\n",
    "ax=axes[1]\n",
    "p1, = ax.step(costheta_bins, cdf, color='black')\n",
    "p2, = ax.step(x, d.cdf(x, k=k_1), '-', color='red')\n",
    "ax.set_ylim([0,1])\n",
    "ax.set_xlim([-1,1])\n",
    "ax.set_xlabel(r'$\\cos(\\theta_{MA})$')\n",
    "ax.set_ylabel(r'$F[\\cos(\\theta_{MA})]$')\n",
    "\n",
    "ax.legend([p1,p2],['Bolshoi','Model'], loc='upper left', frameon=False, fontsize=10)\n",
    "\n",
    "plt.show()\n",
    "\n",
    "filename = \"subhalo_misalignment_dist.pdf\"\n",
    "fig.savefig('/Users/duncan/Projects/intrinsic_alignments/halo_shape_correlations/figures/'+filename, dpi=250)"
   ]
  },
  {
   "cell_type": "code",
   "execution_count": 88,
   "metadata": {},
   "outputs": [
    {
     "data": {
      "image/png": "[encoded data removed]",
      "text/plain": [
       "<matplotlib.figure.Figure at 0x11f928b50>"
      ]
     },
     "metadata": {},
     "output_type": "display_data"
    }
   ],
   "source": [
    "# import misalignment angle distribution model\n",
    "from intrinsic_alignments.ia_models.ia_model_components import DimrothWatson, inverse_alignment_strenth\n",
    "from intrinsic_alignments.halo_shape_correlations.utils import empirical_cdf, binned_bootstrap_1d\n",
    "\n",
    "mass_mask = (halocat.halo_table['halo_mpeak']>10**12)\n",
    "\n",
    "d = DimrothWatson()\n",
    "\n",
    "# define bins\n",
    "costheta_bins = np.linspace(-1,1,21)\n",
    "mask = np.isfinite(theta_ma_3) & subs & mass_mask\n",
    "\n",
    "# calculate differential probability distribution\n",
    "costheta_1 = np.fabs(np.cos(theta_ma_3[mask]))\n",
    "uran = np.random.random(len(costheta_1))\n",
    "costheta_1[uran < 0.5] = -1.0*costheta_1[uran < 0.5] # symmeterize\n",
    "counts_1 = np.histogram(costheta_1, bins=costheta_bins)[0]\n",
    "counts_1 = 1.0*counts_1/np.sum(counts_1)/np.diff(costheta_bins)\n",
    "\n",
    "# fit for shape parameter\n",
    "k_1 = d.fit(np.cos(theta_ma_3[mask]), floc=0, fscale=1)[0]\n",
    "full_sample_p_1 = inverse_alignment_strenth(k_1)\n",
    "p = inverse_alignment_strenth(k_1)[0]\n",
    "\n",
    "# plot results\n",
    "x = np.linspace(-1,1,1000)\n",
    "fig, axes = plt.subplots(1,2,figsize=(6.3,3.3))\n",
    "fig.subplots_adjust(left=0.1, right=0.95, bottom=0.2, top=0.9, wspace=0.3)\n",
    "\n",
    "# differential probability distribution\n",
    "ax = axes[0]\n",
    "ax.step(costheta_bins[1:], counts_1, '-', color='black')\n",
    "ax.plot(x, d.pdf(x, k=k_1), '-', color='red')\n",
    "ax.set_ylim([0,1.5])\n",
    "ax.set_xlim([-1,1])\n",
    "ax.set_xlabel(r'$\\cos(\\theta_{MA})$')\n",
    "ax.set_ylabel(r'$\\mathrm{d}P/\\mathrm{d}\\cos(\\theta_{MA})$')\n",
    "ax.text(-0.75, 1.3, r'$\\mu=$'+'{:.2f}'.format(p))\n",
    "\n",
    "# cumulative distribution\n",
    "from intrinsic_alignments.halo_shape_correlations.utils import empirical_cdf\n",
    "cdf = empirical_cdf(costheta_1, bins=costheta_bins)[0]\n",
    "\n",
    "ax=axes[1]\n",
    "p1, = ax.step(costheta_bins, cdf, color='black')\n",
    "p2, = ax.step(x, d.cdf(x, k=k_1), '-', color='red')\n",
    "ax.set_ylim([0,1])\n",
    "ax.set_xlim([-1,1])\n",
    "ax.set_xlabel(r'$\\cos(\\theta_{MA})$')\n",
    "ax.set_ylabel(r'$F[\\cos(\\theta_{MA})]$')\n",
    "\n",
    "ax.legend([p1,p2],['Bolshoi','Model'], loc='upper left', frameon=False, fontsize=10)\n",
    "\n",
    "plt.show()\n",
    "\n",
    "filename = \"subhalo_misalignment_dist.pdf\"\n",
    "fig.savefig('/Users/duncan/Projects/intrinsic_alignments/halo_shape_correlations/figures/'+filename, dpi=250)"
   ]
  },
  {
   "cell_type": "code",
   "execution_count": 9,
   "metadata": {},
   "outputs": [
    {
     "name": "stderr",
     "output_type": "stream",
     "text": [
      "/anaconda2/lib/python2.7/site-packages/scipy/stats/_distn_infrastructure.py:2303: RuntimeWarning: Mean of empty slice.\n",
      "  muhat = tmp.mean()\n",
      "/anaconda2/lib/python2.7/site-packages/numpy/core/_methods.py:80: RuntimeWarning: invalid value encountered in double_scalars\n",
      "  ret = ret.dtype.type(ret / rcount)\n",
      "/anaconda2/lib/python2.7/site-packages/scipy/stats/_distn_infrastructure.py:2304: RuntimeWarning: Degrees of freedom <= 0 for slice\n",
      "  mu2hat = tmp.var()\n",
      "/anaconda2/lib/python2.7/site-packages/numpy/core/_methods.py:105: RuntimeWarning: invalid value encountered in true_divide\n",
      "  arrmean, rcount, out=arrmean, casting='unsafe', subok=False)\n",
      "/anaconda2/lib/python2.7/site-packages/numpy/core/_methods.py:127: RuntimeWarning: invalid value encountered in double_scalars\n",
      "  ret = ret.dtype.type(ret / rcount)\n"
     ]
    }
   ],
   "source": [
    "from intrinsic_alignments.halo_shape_correlations.utils import binned_bootstrap_1d\n",
    "\n",
    "Nboot = 5\n",
    "\n",
    "# check for radial dependence \n",
    "rbins = np.logspace(-1.5,0.0,15)\n",
    "rbin_centers = (rbins[:-1]+rbins[1:])/2.0\n",
    "\n",
    "mass_mask = (halocat.halo_table['halo_mpeak']>10**12)\n",
    "mask = np.isfinite(theta_ma_1) & subs & mass_mask\n",
    "costheta_1 = np.fabs(np.cos(theta_ma_1))\n",
    "\n",
    "statisic = lambda x: inverse_alignment_strenth(d.fit(x, floc=0, fscale=1)[0])\n",
    "p, err_p = binned_bootstrap_1d(scaled_radius[mask], costheta_1[mask], rbins,\n",
    "                               statistic=statisic, Nboot=Nboot)"
   ]
  },
  {
   "cell_type": "code",
   "execution_count": 12,
   "metadata": {},
   "outputs": [
    {
     "data": {
      "image/png": "[encoded data removed]",
      "text/plain": [
       "<Figure size 237.6x237.6 with 1 Axes>"
      ]
     },
     "metadata": {},
     "output_type": "display_data"
    },
    {
     "ename": "NameError",
     "evalue": "name 'alignment_strenth' is not defined",
     "output_type": "error",
     "traceback": [
      "\u001b[0;31m---------------------------------------------------------------------------\u001b[0m",
      "\u001b[0;31mNameError\u001b[0m                                 Traceback (most recent call last)",
      "\u001b[0;32m<ipython-input-12-f4a4cdc5926c>\u001b[0m in \u001b[0;36m<module>\u001b[0;34m()\u001b[0m\n\u001b[1;32m     36\u001b[0m \u001b[0;34m\u001b[0m\u001b[0m\n\u001b[1;32m     37\u001b[0m \u001b[0mmus\u001b[0m \u001b[0;34m=\u001b[0m \u001b[0mclipped_powerlaw\u001b[0m\u001b[0;34m(\u001b[0m\u001b[0mscaled_radius\u001b[0m\u001b[0;34m[\u001b[0m\u001b[0mmask\u001b[0m\u001b[0;34m]\u001b[0m\u001b[0;34m,\u001b[0m \u001b[0;34m*\u001b[0m\u001b[0mpopt\u001b[0m\u001b[0;34m)\u001b[0m\u001b[0;34m\u001b[0m\u001b[0m\n\u001b[0;32m---> 38\u001b[0;31m \u001b[0mks\u001b[0m \u001b[0;34m=\u001b[0m \u001b[0malignment_strenth\u001b[0m\u001b[0;34m(\u001b[0m\u001b[0mmus\u001b[0m\u001b[0;34m)\u001b[0m\u001b[0;34m\u001b[0m\u001b[0m\n\u001b[0m\u001b[1;32m     39\u001b[0m \u001b[0mxs\u001b[0m \u001b[0;34m=\u001b[0m \u001b[0mnp\u001b[0m\u001b[0;34m.\u001b[0m\u001b[0mlinspace\u001b[0m\u001b[0;34m(\u001b[0m\u001b[0;34m-\u001b[0m\u001b[0;36m1\u001b[0m\u001b[0;34m,\u001b[0m\u001b[0;36m1\u001b[0m\u001b[0;34m,\u001b[0m\u001b[0;36m100\u001b[0m\u001b[0;34m)\u001b[0m\u001b[0;34m\u001b[0m\u001b[0m\n\u001b[1;32m     40\u001b[0m \u001b[0mmean_prob\u001b[0m \u001b[0;34m=\u001b[0m \u001b[0mnp\u001b[0m\u001b[0;34m.\u001b[0m\u001b[0mzeros\u001b[0m\u001b[0;34m(\u001b[0m\u001b[0mlen\u001b[0m\u001b[0;34m(\u001b[0m\u001b[0mxs\u001b[0m\u001b[0;34m)\u001b[0m\u001b[0;34m)\u001b[0m\u001b[0;34m\u001b[0m\u001b[0m\n",
      "\u001b[0;31mNameError\u001b[0m: name 'alignment_strenth' is not defined"
     ]
    }
   ],
   "source": [
    "def clipped_powerlaw(x, x0=0.01, alpha=-0.05):\n",
    "    \"\"\"\n",
    "    clipped power law model\n",
    "    \"\"\"\n",
    "    ymax=1.0\n",
    "    ymin=-1.0\n",
    "    x = np.atleast_1d(x)\n",
    "    \n",
    "    result = np.zeros(len(x))\n",
    "    result = (x/x0)**alpha\n",
    "    \n",
    "    mask = (result>ymax)\n",
    "    result[mask] = ymax\n",
    "    mask = (result<ymin)\n",
    "    result[mask] = ymin\n",
    "    \n",
    "    return result\n",
    "\n",
    "from scipy.optimize import curve_fit\n",
    "\n",
    "popt, pcov = curve_fit(clipped_powerlaw, rbin_centers, p, sigma=err_p, p0=[0.01, -0.05])\n",
    "\n",
    "fig, ax = plt.subplots(1,1,figsize=(3.3,3.3))\n",
    "fig.subplots_adjust(left=0.2, right=0.9, bottom=0.2, top=0.9)\n",
    "ax.errorbar(rbin_centers, p, yerr=5*err_p, fmt='o', ms=4, color='black')\n",
    "ax.plot(rbin_centers, clipped_powerlaw(rbin_centers, *popt), '-', color='red')\n",
    "ax.set_ylim([0,1])\n",
    "ax.set_xscale('log')\n",
    "ax.set_xlim(0.03,1.1)\n",
    "ax.set_xlabel(r'$r/r_{\\rm vir}$')\n",
    "ax.set_ylabel(r'$\\mu$')\n",
    "plt.show()\n",
    "\n",
    "filename = \"measured_radial_subhalo_algignment_strength.pdf\"\n",
    "fig.savefig('/Users/duncan/Projects/intrinsic_alignments/halo_shape_correlations/figures/'+filename, dpi=250)\n",
    "\n",
    "mus = clipped_powerlaw(scaled_radius[mask], *popt)\n",
    "ks = alignment_strenth(mus)\n",
    "xs = np.linspace(-1,1,100)\n",
    "mean_prob = np.zeros(len(xs))\n",
    "for i,x in enumerate(xs):\n",
    "    mean_prob[i] = np.median(d.pdf(x, k=ks))\n",
    "\n",
    "# plot results\n",
    "x = np.linspace(-1,1,1000)\n",
    "fig, axes = plt.subplots(1,2,figsize=(6.3,3.3))\n",
    "fig.subplots_adjust(left=0.1, right=0.95, bottom=0.2, top=0.9, wspace=0.3)\n",
    "\n",
    "# differential probability distribution\n",
    "ax = axes[0]\n",
    "ax.step(costheta_bins[1:], counts_1, '-', color='black')\n",
    "ax.plot(xs, mean_prob, '-', color='red')\n",
    "ax.plot(x, d.pdf(x, k=k_1), '--', color='red')\n",
    "ax.set_ylim([0.08,1])\n",
    "ax.set_xlim([-1,1])\n",
    "ax.set_yscale('log')\n",
    "ax.set_xlabel(r'$\\cos(\\theta_{MA})$')\n",
    "ax.set_ylabel(r'$\\mathrm{d}P/\\mathrm{d}\\cos(\\theta_{MA})$')\n",
    "\n",
    "plt.show()"
   ]
  },
  {
   "cell_type": "code",
   "execution_count": 75,
   "metadata": {},
   "outputs": [
    {
     "data": {
      "text/plain": [
       "array([ 0.79516724])"
      ]
     },
     "execution_count": 75,
     "metadata": {},
     "output_type": "execute_result"
    }
   ],
   "source": [
    "alignment_strenth(0.8)\n",
    "inverse_alignment_strenth(-3)"
   ]
  },
  {
   "cell_type": "code",
   "execution_count": 18,
   "metadata": {},
   "outputs": [
    {
     "data": {
      "image/png": "[encoded data removed]",
      "text/plain": [
       "<matplotlib.figure.Figure at 0x11846d110>"
      ]
     },
     "metadata": {},
     "output_type": "display_data"
    }
   ],
   "source": [
    "Nboot = 5\n",
    "\n",
    "# check for host mass dependence\n",
    "mbins = np.logspace(11,15,20)\n",
    "mbins_centers = (mbins[:-1]+mbins[1:])/2.0\n",
    "\n",
    "statisic = lambda x: inverse_alignment_strenth(d.fit(x, floc=0, fscale=1)[0])\n",
    "p, err_p = binned_bootstrap_1d(halocat.halo_table['halo_mvir_host_halo'][mask],\n",
    "                               costheta_1, mbins, statistic=statisic, Nboot=5)\n",
    "        \n",
    "fig, ax = plt.subplots(1,1,figsize=(3.3,3.3))\n",
    "fig.subplots_adjust(left=0.2, right=0.9, bottom=0.2, top=0.9)\n",
    "ax.errorbar(mbins_centers, p, yerr=5*err_p, fmt='o', ms=4, color='black')\n",
    "ax.plot([0.001,10**16], [full_sample_p_1, full_sample_p_1], '-', color='red')\n",
    "ax.set_ylim([0,1])\n",
    "ax.set_xlim([10**11,10**14])\n",
    "ax.set_xscale('log')\n",
    "ax.set_xlabel('host ' + r'$M_{\\rm vir}$')\n",
    "ax.set_ylabel(r'$\\mu$')\n",
    "plt.show()"
   ]
  },
  {
   "cell_type": "code",
   "execution_count": 15,
   "metadata": {},
   "outputs": [
    {
     "name": "stderr",
     "output_type": "stream",
     "text": [
      "/anaconda2/lib/python2.7/site-packages/ipykernel_launcher.py:7: RuntimeWarning: divide by zero encountered in true_divide\n",
      "  import sys\n"
     ]
    },
    {
     "data": {
      "image/png": "[encoded data removed]",
      "text/plain": [
       "<matplotlib.figure.Figure at 0x118f88ad0>"
      ]
     },
     "metadata": {},
     "output_type": "display_data"
    }
   ],
   "source": [
    "Nboot = 5\n",
    "\n",
    "# check for mass ratio dependence\n",
    "ratio_bins = np.logspace(-2,0,21)\n",
    "ratio_bins_centers = (ratio_bins[:-1]+ratio_bins[1:])/2.0\n",
    "\n",
    "ratio = (halocat.halo_table['halo_mvir']/halocat.halo_table['halo_mvir_host_halo'])\n",
    "\n",
    "statisic = lambda x: inverse_alignment_strenth(d.fit(x, floc=0, fscale=1)[0])\n",
    "p, err_p = binned_bootstrap_1d(ratio[mask], costheta_1, ratio_bins, statistic=statisic, Nboot=Nboot)\n",
    "        \n",
    "fig, ax = plt.subplots(1,1,figsize=(3.3,3.3))\n",
    "fig.subplots_adjust(left=0.2, right=0.9, bottom=0.2, top=0.9)\n",
    "ax.errorbar(ratio_bins_centers, p, yerr=5*err_p, fmt='o', ms=4, color='black')\n",
    "ax.plot([0.001,2], [full_sample_p_1, full_sample_p_1], '-', color='red')\n",
    "ax.set_ylim([0,1])\n",
    "ax.set_xlim([0.01,1])\n",
    "ax.set_xscale('log')\n",
    "ax.set_xlabel(r'$M_{\\rm sub}/M_{\\rm host}$')\n",
    "ax.set_ylabel(r'$\\mu$')\n",
    "plt.show()"
   ]
  },
  {
   "cell_type": "markdown",
   "metadata": {},
   "source": [
    "# Host Major Axis Alingment"
   ]
  },
  {
   "cell_type": "code",
   "execution_count": 59,
   "metadata": {},
   "outputs": [
    {
     "data": {
      "image/png": "[encoded data removed]",
      "text/plain": [
       "<matplotlib.figure.Figure at 0x1a3507a210>"
      ]
     },
     "metadata": {},
     "output_type": "display_data"
    }
   ],
   "source": [
    "# import misalignment angle distribution model\n",
    "from intrinsic_alignments.ia_models.ia_model_components import DimrothWatson, inverse_alignment_strenth\n",
    "from intrinsic_alignments.halo_shape_correlations.utils import empirical_cdf, binned_bootstrap_1d\n",
    "\n",
    "d = DimrothWatson()\n",
    "\n",
    "# define bins\n",
    "costheta_bins = np.linspace(-1,1,21)\n",
    "mask = np.isfinite(theta_ma_2) & subs\n",
    "\n",
    "# calculate differential probability distribution\n",
    "costheta_2 = np.fabs(np.cos(theta_ma_2[mask]))\n",
    "uran = np.random.random(len(costheta_2))\n",
    "costheta_2[uran < 0.5] = -1.0*costheta_2[uran < 0.5] # symmeterize\n",
    "counts_2 = np.histogram(costheta_2, bins=costheta_bins)[0]\n",
    "counts_2 = 1.0*counts_2/np.sum(counts_2)/np.diff(costheta_bins)\n",
    "\n",
    "# fit for shape parameter\n",
    "k_2 = d.fit(np.cos(theta_ma_2[mask]), floc=0, fscale=1)[0]\n",
    "full_sample_p_2 = inverse_alignment_strenth(k_2)\n",
    "p = inverse_alignment_strenth(k_2)[0]\n",
    "\n",
    "# plot results\n",
    "x = np.linspace(-1,1,1000)\n",
    "fig, axes = plt.subplots(1,2,figsize=(6.3,3.3))\n",
    "fig.subplots_adjust(left=0.1, right=0.95, bottom=0.2, top=0.9, wspace=0.3)\n",
    "\n",
    "# differential probability distribution\n",
    "ax = axes[0]\n",
    "ax.step(costheta_bins[1:], counts_2, '-', color='black')\n",
    "ax.plot(x, d.pdf(x, k=k_2), '-', color='red')\n",
    "ax.set_ylim([0,1.5])\n",
    "ax.set_xlim([-1,1])\n",
    "ax.set_xlabel(r'$\\cos(\\theta_{MA})$')\n",
    "ax.set_ylabel(r'$\\mathrm{d}P/\\mathrm{d}\\cos(\\theta_{MA})$')\n",
    "ax.text(-0.75, 1.3, r'$\\mu=$'+'{:.2f}'.format(p))\n",
    "\n",
    "# cumulative distribution\n",
    "cdf = empirical_cdf(costheta_2, bins=costheta_bins)[0]\n",
    "\n",
    "ax=axes[1]\n",
    "p1, = ax.step(costheta_bins, cdf, color='black')\n",
    "p2, = ax.step(x, d.cdf(x, k=k_2), '-', color='red')\n",
    "ax.set_ylim([0,1])\n",
    "ax.set_xlim([-1,1])\n",
    "ax.set_xlabel(r'$\\cos(\\theta_{MA})$')\n",
    "ax.set_ylabel(r'$F[\\cos(\\theta_{MA})]$')\n",
    "\n",
    "ax.legend([p1,p2],['Bolshoi','Model'], loc='upper left', frameon=False, fontsize=10)\n",
    "\n",
    "plt.show()"
   ]
  },
  {
   "cell_type": "code",
   "execution_count": 31,
   "metadata": {},
   "outputs": [
    {
     "data": {
      "image/png": "[encoded data removed]",
      "text/plain": [
       "<matplotlib.figure.Figure at 0x118c6ba50>"
      ]
     },
     "metadata": {},
     "output_type": "display_data"
    }
   ],
   "source": [
    "from intrinsic_alignments.halo_shape_correlations.utils import binned_bootstrap_1d\n",
    "\n",
    "Nboot = 5\n",
    "\n",
    "# check for radial dependence \n",
    "rbins = np.logspace(-1.5,0.0,15)\n",
    "rbin_centers = (rbins[:-1]+rbins[1:])/2.0\n",
    "\n",
    "statisic = lambda x: inverse_alignment_strenth(d.fit(x, floc=0, fscale=1)[0])\n",
    "p, err_p = binned_bootstrap_1d(scaled_radius[mask], costheta_2, rbins,\n",
    "                               statistic=statisic, Nboot=Nboot)\n",
    "\n",
    "\n",
    "fig, ax = plt.subplots(1,1,figsize=(3.3,3.3))\n",
    "fig.subplots_adjust(left=0.2, right=0.9, bottom=0.2, top=0.9)\n",
    "ax.errorbar(rbin_centers, p, yerr=5*err_p, fmt='o', ms=4, color='black')\n",
    "ax.plot([0.001,2], [full_sample_p_2, full_sample_p_2], '-', color='red')\n",
    "ax.set_ylim([0,1])\n",
    "ax.set_xscale('log')\n",
    "ax.set_xlim(0.03,1.1)\n",
    "ax.set_xlabel(r'$r/r_{\\rm vir}$')\n",
    "ax.set_ylabel(r'$\\mu$')\n",
    "plt.show()"
   ]
  },
  {
   "cell_type": "code",
   "execution_count": 32,
   "metadata": {},
   "outputs": [
    {
     "data": {
      "image/png": "[encoded data removed]",
      "text/plain": [
       "<matplotlib.figure.Figure at 0x118dfa950>"
      ]
     },
     "metadata": {},
     "output_type": "display_data"
    }
   ],
   "source": [
    "Nboot = 5\n",
    "\n",
    "# check for host mass dependence\n",
    "mbins = np.logspace(11,15,20)\n",
    "mbins_centers = (mbins[:-1]+mbins[1:])/2.0\n",
    "\n",
    "statisic = lambda x: inverse_alignment_strenth(d.fit(x, floc=0, fscale=1)[0])\n",
    "p, err_p = binned_bootstrap_1d(halocat.halo_table['halo_mvir_host_halo'][mask],\n",
    "                               costheta_2, mbins, statistic=statisic, Nboot=5)\n",
    "        \n",
    "fig, ax = plt.subplots(1,1,figsize=(3.3,3.3))\n",
    "fig.subplots_adjust(left=0.2, right=0.9, bottom=0.2, top=0.9)\n",
    "ax.errorbar(mbins_centers, p, yerr=5*err_p, fmt='o', ms=4, color='black')\n",
    "ax.plot([0.001,10**16], [full_sample_p_2, full_sample_p_2], '-', color='red')\n",
    "ax.set_ylim([0,1])\n",
    "ax.set_xlim([10**11,10**14])\n",
    "ax.set_xscale('log')\n",
    "ax.set_xlabel('host ' + r'$M_{\\rm vir}$')\n",
    "ax.set_ylabel(r'$\\mu$')\n",
    "plt.show()"
   ]
  },
  {
   "cell_type": "code",
   "execution_count": 33,
   "metadata": {},
   "outputs": [
    {
     "name": "stderr",
     "output_type": "stream",
     "text": [
      "/anaconda2/lib/python2.7/site-packages/ipykernel_launcher.py:7: RuntimeWarning: divide by zero encountered in true_divide\n",
      "  import sys\n"
     ]
    },
    {
     "data": {
      "image/png": "[encoded data removed]",
      "text/plain": [
       "<matplotlib.figure.Figure at 0x1181ba550>"
      ]
     },
     "metadata": {},
     "output_type": "display_data"
    }
   ],
   "source": [
    "Nboot = 5\n",
    "\n",
    "# check for mass ratio dependence\n",
    "ratio_bins = np.logspace(-2,0,21)\n",
    "ratio_bins_centers = (ratio_bins[:-1]+ratio_bins[1:])/2.0\n",
    "\n",
    "ratio = (halocat.halo_table['halo_mvir']/halocat.halo_table['halo_mvir_host_halo'])\n",
    "\n",
    "statisic = lambda x: inverse_alignment_strenth(d.fit(x, floc=0, fscale=1)[0])\n",
    "p, err_p = binned_bootstrap_1d(ratio[mask], costheta_2, ratio_bins, statistic=statisic, Nboot=Nboot)\n",
    "        \n",
    "fig, ax = plt.subplots(1,1,figsize=(3.3,3.3))\n",
    "fig.subplots_adjust(left=0.2, right=0.9, bottom=0.2, top=0.9)\n",
    "ax.errorbar(ratio_bins_centers, p, yerr=5*err_p, fmt='o', ms=4, color='black')\n",
    "ax.plot([0.001,2], [full_sample_p_2, full_sample_p_2], '-', color='red')\n",
    "ax.set_ylim([0,1])\n",
    "ax.set_xlim([0.01,1])\n",
    "ax.set_xscale('log')\n",
    "ax.set_xlabel(r'$M_{\\rm sub}/M_{\\rm host}$')\n",
    "ax.set_ylabel(r'$\\mu$')\n",
    "plt.show()"
   ]
  },
  {
   "cell_type": "markdown",
   "metadata": {},
   "source": [
    "## check for more trends"
   ]
  },
  {
   "cell_type": "code",
   "execution_count": 261,
   "metadata": {
    "collapsed": true
   },
   "outputs": [],
   "source": [
    "# check for sub mass dependence\n",
    "mbins = np.logspace(10,14,20)\n",
    "mbins_centers = (mbins[:-1]+mbins[1:])/2.0\n",
    "inds = np.digitize(halocat.halo_table['halo_mvir'], bins=mbins)\n",
    "Nboot=20\n",
    "k = np.zeros((len(mbins)-1,Nboot))\n",
    "for i in range(0,len(mbins)-1):\n",
    "    mask = (inds==i) & np.isfinite(theta_ma)\n",
    "    x = np.cos(theta_ma[mask])\n",
    "    for j in range(0,Nboot):\n",
    "        xx = np.random.choice(x, size=len(x), replace=True)\n",
    "        k[i,j] = d.fit(xx, floc=0, fscale=1)[0]"
   ]
  },
  {
   "cell_type": "code",
   "execution_count": 262,
   "metadata": {},
   "outputs": [
    {
     "data": {
      "image/png": "[encoded data removed]",
      "text/plain": [
       "<matplotlib.figure.Figure at 0x10c53c450>"
      ]
     },
     "metadata": {},
     "output_type": "display_data"
    }
   ],
   "source": [
    "p = np.mean(inverse_alignment_strenth(k), axis=-1)\n",
    "err_p = np.std(inverse_alignment_strenth(k), axis=-1)\n",
    "\n",
    "fig, ax = plt.subplots(figsize=(3.3,3.3))\n",
    "fig.subplots_adjust(left=0.2, right=0.9, bottom=0.2, top=0.9)\n",
    "plt.errorbar(mbins_centers, p, yerr=5*err_p, fmt='o', ms=4, color='black')\n",
    "plt.plot([0.001,10**16], [full_sample_p, full_sample_p], '-', color='red')\n",
    "plt.ylim([0,1])\n",
    "plt.xlim([10**10,10**14])\n",
    "plt.xscale('log')\n",
    "plt.xlabel(r'$M_{\\rm vir}$')\n",
    "plt.ylabel(r'$\\mu$')\n",
    "plt.show()"
   ]
  },
  {
   "cell_type": "code",
   "execution_count": 260,
   "metadata": {
    "collapsed": true
   },
   "outputs": [],
   "source": [
    "# check for sub-halo ellipticity\n",
    "\n",
    "q = halocat.halo_table['halo_b_to_a']\n",
    "s = halocat.halo_table['halo_c_to_a']\n",
    "e = (1.0-q)/(1.0+q)\n",
    "\n",
    "ebins = np.logspace(-2,0.0,20)\n",
    "ebins_centers = (ebins[:-1]+ebins[1:])/2.0\n",
    "inds = np.digitize(e, bins=ebins)\n",
    "Nboot=5\n",
    "k = np.zeros((len(ebins)-1,Nboot))\n",
    "for i in range(0,len(ebins)-1):\n",
    "    mask = (inds==i) & np.isfinite(theta_ma)\n",
    "    x = np.cos(theta_ma[mask])\n",
    "    for j in range(0,Nboot):\n",
    "        xx = np.random.choice(x, size=len(x), replace=True)\n",
    "        k[i,j] = d.fit(xx, floc=0, fscale=1)[0]"
   ]
  },
  {
   "cell_type": "code",
   "execution_count": 259,
   "metadata": {},
   "outputs": [
    {
     "data": {
      "image/png": "[encoded data removed]",
      "text/plain": [
       "<matplotlib.figure.Figure at 0x10c52cad0>"
      ]
     },
     "metadata": {},
     "output_type": "display_data"
    }
   ],
   "source": [
    "p = np.mean(inverse_alignment_strenth(k), axis=-1)\n",
    "err_p = np.std(inverse_alignment_strenth(k), axis=-1)\n",
    "\n",
    "fig, ax = plt.subplots(figsize=(3.3,3.3))\n",
    "fig.subplots_adjust(left=0.2, right=0.9, bottom=0.2, top=0.9)\n",
    "plt.errorbar(ebins_centers, p, yerr=5*err_p, fmt='o', ms=4, color='black')\n",
    "plt.plot([0.001,10**16], [full_sample_p, full_sample_p], '-', color='red')\n",
    "plt.ylim([0,1])\n",
    "plt.xlim([0.01,1.1])\n",
    "plt.xscale('log')\n",
    "plt.xlabel('$e$')\n",
    "plt.ylabel(r'$\\mu$')\n",
    "plt.show()"
   ]
  },
  {
   "cell_type": "markdown",
   "metadata": {},
   "source": [
    "## fit for hybrid model alignment"
   ]
  },
  {
   "cell_type": "code",
   "execution_count": 133,
   "metadata": {
    "collapsed": true
   },
   "outputs": [],
   "source": [
    "from halotools.utils import vectors_between_list_of_vectors\n",
    "\n",
    "def hybrid_alignment_vector(v1, v2, ratio=0.5):\n",
    "    \"\"\"\n",
    "    return the hybrid alignment model alignment vectors\n",
    "    \"\"\"\n",
    "    \n",
    "    Ngal = np.shape(v1)[0]\n",
    "    \n",
    "    a = np.ones(Ngal)*ratio\n",
    "\n",
    "    v1 = normalized_vectors(v1)\n",
    "    v2 = normalized_vectors(v2)\n",
    "\n",
    "    v3_a = normalized_vectors(vectors_between_list_of_vectors(v1, v2, a))\n",
    "    v3_b = normalized_vectors(vectors_between_list_of_vectors(-1.0*v1, v2, a))\n",
    "    \n",
    "    return v3_a, v3_b\n",
    "\n",
    "N = len(halocat.halo_table)\n",
    "fs = np.linspace(0,1.0,21)\n",
    "v1 = np.zeros((len(fs), N, 3))\n",
    "v2 = np.zeros((len(fs), N, 3))\n",
    "for i,f in enumerate(fs):\n",
    "    v1[i,:,:], v2[i,:,:] = hybrid_alignment_vector(r, host_major_axis, fs[i])"
   ]
  },
  {
   "cell_type": "code",
   "execution_count": 134,
   "metadata": {
    "collapsed": true
   },
   "outputs": [],
   "source": [
    "costheta_1 = np.zeros((len(fs), N))\n",
    "costheta_2 = np.zeros((len(fs), N))\n",
    "for i in range(0,len(fs)):\n",
    "    costheta_1[i,:] = np.cos(angles_between_list_of_vectors(v1[i,:,:], major_axis))\n",
    "    costheta_2[i,:] = np.cos(angles_between_list_of_vectors(v2[i,:,:], major_axis))"
   ]
  },
  {
   "cell_type": "code",
   "execution_count": 135,
   "metadata": {
    "collapsed": true
   },
   "outputs": [],
   "source": [
    "from intrinsic_alignments.ia_models.ia_model_components import inverse_alignment_strenth, alignment_strenth, watson_mixture_membership, watson_mixture_liklihood\n",
    "\n",
    "rbins = np.logspace(-1.5,0.0,15)\n",
    "rbin_centers = (rbins[:-1]+rbins[1:])/2.0\n",
    "inds = np.digitize(scaled_radius, bins=rbins)\n",
    "\n",
    "p = np.zeros((len(fs), len(rbins)-1))\n",
    "log_l = np.zeros((len(fs), len(rbins)-1))\n",
    "for j in range(0, len(fs)):\n",
    "    for i in range(0, len(rbins)-1):\n",
    "        mask = (inds==i+1) & (subs)\n",
    "        costhetas = np.nan_to_num(np.vstack((costheta_1[j, mask], costheta_2[j, mask])).T)\n",
    "        p[j,i] = fit_watson_mixture_model(costhetas, verbose=False, max_iter=10)\n",
    "        k = inverse_alignment_strenth(p[j,i])\n",
    "        f = watson_mixture_membership(costhetas, p[j,i])\n",
    "        log_l[j,i] = watson_mixture_liklihood(costhetas, f, k)/np.sum(mask)"
   ]
  },
  {
   "cell_type": "code",
   "execution_count": 136,
   "metadata": {},
   "outputs": [
    {
     "data": {
      "image/png": "[encoded data removed]",
      "text/plain": [
       "<matplotlib.figure.Figure at 0x1a1f652c50>"
      ]
     },
     "metadata": {},
     "output_type": "display_data"
    },
    {
     "data": {
      "image/png": "[encoded data removed]",
      "text/plain": [
       "<matplotlib.figure.Figure at 0x1a34aaf850>"
      ]
     },
     "metadata": {},
     "output_type": "display_data"
    }
   ],
   "source": [
    "plt.imshow(p, vmin=0, vmax=1)\n",
    "plt.colorbar()\n",
    "plt.show()\n",
    "\n",
    "plt.imshow(log_l)\n",
    "plt.colorbar()\n",
    "plt.show()"
   ]
  },
  {
   "cell_type": "code",
   "execution_count": 150,
   "metadata": {},
   "outputs": [
    {
     "data": {
      "image/png": "[encoded data removed]",
      "text/plain": [
       "<matplotlib.figure.Figure at 0x1a345fc310>"
      ]
     },
     "metadata": {},
     "output_type": "display_data"
    },
    {
     "data": {
      "image/png": "[encoded data removed]",
      "text/plain": [
       "<matplotlib.figure.Figure at 0x1a347e7090>"
      ]
     },
     "metadata": {},
     "output_type": "display_data"
    }
   ],
   "source": [
    "inds = np.argmax(p,axis=0)\n",
    "max_ps = np.zeros(len(rbins)-1)\n",
    "for i in range(0, len(rbins)-1):\n",
    "    max_ps[i] = p[inds[i],i]\n",
    "\n",
    "plt.figure()\n",
    "plt.scatter(rbin_centers, fs[inds], c=max_ps, vmin=0, vmax=1.0)\n",
    "plt.plot(x, power_law(x, 0.25, -0.3))\n",
    "plt.colorbar()\n",
    "plt.xscale('log')\n",
    "plt.ylim([0.1,1])\n",
    "plt.show()\n",
    "\n",
    "x = np.logspace(-2,0,100)\n",
    "plt.figure()\n",
    "plt.scatter(rbin_centers, max_ps, c=fs[inds], vmin=0, vmax=1.0)\n",
    "plt.plot(x, power_law(x, 0.75, -0.05))\n",
    "plt.colorbar()\n",
    "plt.xscale('log')\n",
    "plt.ylim([0.1,1])\n",
    "plt.show()"
   ]
  },
  {
   "cell_type": "code",
   "execution_count": 143,
   "metadata": {
    "collapsed": true
   },
   "outputs": [],
   "source": [
    "def power_law(x, a, alpha):\n",
    "    return a*x**alpha"
   ]
  },
  {
   "cell_type": "markdown",
   "metadata": {},
   "source": [
    "## consider two vvector alignemnts\n"
   ]
  },
  {
   "cell_type": "code",
   "execution_count": 1,
   "metadata": {
    "collapsed": true
   },
   "outputs": [],
   "source": [
    "from intrinsic_alignments.ia_models.ia_model_components import DimrothWatson, inverse_alignment_strenth, alignment_strenth, axes_correlated_with_input_vector\n",
    "from halotools.utils import angles_between_list_of_vectors"
   ]
  },
  {
   "cell_type": "code",
   "execution_count": 46,
   "metadata": {
    "collapsed": true
   },
   "outputs": [],
   "source": [
    "N = 10000\n",
    "\n",
    "input_vectors = np.zeros((N,3))\n",
    "ran = np.random.random(N)\n",
    "xaxis = np.zeros((N,3))\n",
    "xaxis[:,0]=1.0\n",
    "yaxis = np.zeros((N,3))\n",
    "yaxis[:,1]=1.0\n",
    "input_vectors[ran<0.5,0] = 1.0\n",
    "input_vectors[ran>=0.5,1] = 1.0\n",
    "ps = np.ones(N)*0.6\n",
    "output_vectors = axes_correlated_with_input_vector(input_vectors, p=ps)\n",
    "membership = (ran<0.5)"
   ]
  },
  {
   "cell_type": "code",
   "execution_count": 47,
   "metadata": {
    "collapsed": true
   },
   "outputs": [],
   "source": [
    "theta = angles_between_list_of_vectors(output_vectors, xaxis)\n",
    "x = np.cos(theta)"
   ]
  },
  {
   "cell_type": "code",
   "execution_count": 48,
   "metadata": {},
   "outputs": [
    {
     "data": {
      "image/png": "[encoded data removed]",
      "text/plain": [
       "<matplotlib.figure.Figure at 0x1a1f2de110>"
      ]
     },
     "metadata": {},
     "output_type": "display_data"
    }
   ],
   "source": [
    "costheta_bins = np.linspace(-1,1,21)\n",
    "\n",
    "counts = np.histogram(x, bins=costheta_bins)[0]\n",
    "counts = 1.0*counts/np.sum(counts)/np.diff(costheta_bins)\n",
    "\n",
    "counts1 = np.histogram(x[membership==True], bins=costheta_bins)[0]\n",
    "counts1 = 1.0*counts1/np.sum(counts1)/np.diff(costheta_bins)\n",
    "\n",
    "counts2 = np.histogram(x[membership==False], bins=costheta_bins)[0]\n",
    "counts2 = 1.0*counts2/np.sum(counts2)/np.diff(costheta_bins)\n",
    "\n",
    "d = DimrothWatson()\n",
    "\n",
    "xx = np.linspace(-1,1,1000)\n",
    "fig, ax = plt.subplots(1,1, figsize=(3.3,3.3))\n",
    "fig.subplots_adjust(left=0.2, right=0.9, bottom=0.2, top=0.9, wspace=0.3)\n",
    "ax.step(costheta_bins[1:], counts, '-', color='black')\n",
    "ax.step(costheta_bins[1:], counts1, '-', color='grey')\n",
    "ax.step(costheta_bins[1:], counts2, '-', color='grey')\n",
    "ax.step(xx, d.pdf(xx, k=alignment_strenth(ps[0])), '-', color='red')\n",
    "ax.set_ylim([0,1.5])\n",
    "ax.set_xlim([-1,1])\n",
    "ax.set_xlabel(r'$\\cos(2\\theta_{MA})$')\n",
    "ax.set_ylabel(r'$\\mathrm{d}P/\\mathrm{d}\\cos(\\theta_{MA})$')\n",
    "\n",
    "plt.show()"
   ]
  },
  {
   "cell_type": "code",
   "execution_count": 49,
   "metadata": {},
   "outputs": [
    {
     "name": "stdout",
     "output_type": "stream",
     "text": [
      "1 0.2330501228695428\n",
      "2 0.38990919936532703\n",
      "3 0.48398007972589635\n",
      "4 0.5389758561156507\n",
      "5 0.5711078753324021\n",
      "6 0.5899338242971226\n",
      "7 0.6009862797685072\n",
      "8 0.6074823454671584\n",
      "9 0.6113024113896468\n",
      "0.6113024113896468\n"
     ]
    }
   ],
   "source": [
    "from intrinsic_alignments.ia_models.ia_model_components import fit_watson_mixture_model\n",
    "\n",
    "x1 = np.cos(angles_between_list_of_vectors(output_vectors, xaxis))\n",
    "x2 = np.cos(angles_between_list_of_vectors(output_vectors, yaxis))\n",
    "\n",
    "x = np.vstack((x1, x2)).T\n",
    "\n",
    "p = fit_watson_mixture_model(x, verbose=True)\n",
    "print(p)"
   ]
  },
  {
   "cell_type": "code",
   "execution_count": null,
   "metadata": {
    "collapsed": true
   },
   "outputs": [],
   "source": []
  }
 ],
 "metadata": {
  "kernelspec": {
   "display_name": "Python 2",
   "language": "python",
   "name": "python2"
  },
  "language_info": {
   "codemirror_mode": {
    "name": "ipython",
    "version": 2
   },
   "file_extension": ".py",
   "mimetype": "text/x-python",
   "name": "python",
   "nbconvert_exporter": "python",
   "pygments_lexer": "ipython2",
   "version": "2.7.14"
  }
 },
 "nbformat": 4,
 "nbformat_minor": 2
}
