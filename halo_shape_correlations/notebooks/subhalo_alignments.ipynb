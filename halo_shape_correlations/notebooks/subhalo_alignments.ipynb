{
 "cells": [
  {
   "cell_type": "code",
   "execution_count": 1,
   "metadata": {},
   "outputs": [],
   "source": [
    "from __future__ import print_function, division\n",
    "import numpy as np\n",
    "import matplotlib.pyplot as plt\n",
    "%matplotlib inline"
   ]
  },
  {
   "cell_type": "markdown",
   "metadata": {},
   "source": [
    "# Subhalo Alignments"
   ]
  },
  {
   "cell_type": "markdown",
   "metadata": {},
   "source": [
    "Examine the intrinsic alignment between sub-haloes and thier host halo."
   ]
  },
  {
   "cell_type": "markdown",
   "metadata": {},
   "source": [
    "## Load Sub-halo Catalog"
   ]
  },
  {
   "cell_type": "code",
<<<<<<< HEAD
   "execution_count": 2,
   "metadata": {},
   "outputs": [
    {
     "name": "stdout",
     "output_type": "stream",
     "text": [
      "halo_vmax_firstacc\n",
      "halo_dmvir_dt_tdyn\n",
      "halo_macc\n",
      "halo_scale_factor\n",
      "halo_vmax_mpeak\n",
      "halo_m_pe_behroozi\n",
      "halo_xoff\n",
      "halo_spin\n",
      "halo_scale_factor_firstacc\n",
      "halo_c_to_a\n",
      "halo_mvir_firstacc\n",
      "halo_scale_factor_last_mm\n",
      "halo_scale_factor_mpeak\n",
      "halo_pid\n",
      "halo_m500c\n",
      "halo_id\n",
      "halo_halfmass_scale_factor\n",
      "halo_upid\n",
      "halo_t_by_u\n",
      "halo_rvir\n",
      "halo_vpeak\n",
      "halo_dmvir_dt_100myr\n",
      "halo_mpeak\n",
      "halo_m_pe_diemer\n",
      "halo_jx\n",
      "halo_jy\n",
      "halo_jz\n",
      "halo_m2500c\n",
      "halo_mvir\n",
      "halo_voff\n",
      "halo_axisA_z\n",
      "halo_axisA_x\n",
      "halo_axisA_y\n",
      "halo_y\n",
      "halo_b_to_a\n",
      "halo_x\n",
      "halo_z\n",
      "halo_m200b\n",
      "halo_vacc\n",
      "halo_scale_factor_lastacc\n",
      "halo_vmax\n",
      "halo_m200c\n",
      "halo_vx\n",
      "halo_vy\n",
      "halo_vz\n",
      "halo_dmvir_dt_inst\n",
      "halo_rs\n",
      "halo_nfw_conc\n",
      "halo_hostid\n",
      "halo_mvir_host_halo\n"
=======
   "execution_count": 8,
   "metadata": {},
   "outputs": [
    {
     "ename": "InvalidCacheLogEntry",
     "evalue": "\nYou tried to load a cached halo catalog with the following characteristics:\n\nsimname = ``bolshoi``\nhalo_finder = ``rockstar``\nversion_name = ``custom``\nredshift = ``-0.0003``\n\nThere is no matching catalog in cache within dz_tol = 0.01 of these inputs.\n\nThe following entries in the cache log most closely match your inputs:\n\n('bolshoi', 'rockstar', 'halotools_v0p4', '-0.0003', 'C:\\Users\\nvana\\.astropy\\cache\\halotools\\halo_catalogs\\bolshoi\\rockstar\\hlist_1.00035.list.halotools_v0p4.hdf5')\n\n",
     "output_type": "error",
     "traceback": [
      "\u001b[1;31m----------------------------------------------------------------------\u001b[0m",
      "\u001b[1;31mInvalidCacheLogEntry\u001b[0m                 Traceback (most recent call last)",
      "\u001b[1;32m<ipython-input-8-f1c51934d39e>\u001b[0m in \u001b[0;36m<module>\u001b[1;34m\u001b[0m\n\u001b[0;32m      1\u001b[0m \u001b[1;32mfrom\u001b[0m \u001b[0mhalotools\u001b[0m\u001b[1;33m.\u001b[0m\u001b[0msim_manager\u001b[0m \u001b[1;32mimport\u001b[0m \u001b[0mCachedHaloCatalog\u001b[0m\u001b[1;33m\u001b[0m\u001b[1;33m\u001b[0m\u001b[0m\n\u001b[0;32m      2\u001b[0m \u001b[1;31m#halocat = CachedHaloCatalog(simname='smdpl_400', halo_finder='Rockstar', redshift=0.0, dz_tol=0.01, version_name='custom')\u001b[0m\u001b[1;33m\u001b[0m\u001b[1;33m\u001b[0m\u001b[1;33m\u001b[0m\u001b[0m\n\u001b[1;32m----> 3\u001b[1;33m \u001b[0mhalocat\u001b[0m \u001b[1;33m=\u001b[0m \u001b[0mCachedHaloCatalog\u001b[0m\u001b[1;33m(\u001b[0m\u001b[0msimname\u001b[0m\u001b[1;33m=\u001b[0m\u001b[1;34m'bolshoi'\u001b[0m\u001b[1;33m,\u001b[0m \u001b[0mhalo_finder\u001b[0m\u001b[1;33m=\u001b[0m\u001b[1;34m'rockstar'\u001b[0m\u001b[1;33m,\u001b[0m \u001b[0mredshift\u001b[0m\u001b[1;33m=\u001b[0m\u001b[1;33m-\u001b[0m\u001b[1;36m0.0003\u001b[0m\u001b[1;33m,\u001b[0m \u001b[0mdz_tol\u001b[0m\u001b[1;33m=\u001b[0m\u001b[1;36m0.01\u001b[0m\u001b[1;33m,\u001b[0m \u001b[0mversion_name\u001b[0m\u001b[1;33m=\u001b[0m\u001b[1;34m'custom'\u001b[0m\u001b[1;33m)\u001b[0m\u001b[1;33m\u001b[0m\u001b[1;33m\u001b[0m\u001b[0m\n\u001b[0m\u001b[0;32m      4\u001b[0m \u001b[1;32mfor\u001b[0m \u001b[0mname\u001b[0m \u001b[1;32min\u001b[0m \u001b[0mhalocat\u001b[0m\u001b[1;33m.\u001b[0m\u001b[0mhalo_table\u001b[0m\u001b[1;33m.\u001b[0m\u001b[0mdtype\u001b[0m\u001b[1;33m.\u001b[0m\u001b[0mnames\u001b[0m\u001b[1;33m:\u001b[0m\u001b[1;33m\u001b[0m\u001b[1;33m\u001b[0m\u001b[0m\n\u001b[0;32m      5\u001b[0m     \u001b[0mprint\u001b[0m\u001b[1;33m(\u001b[0m\u001b[0mname\u001b[0m\u001b[1;33m)\u001b[0m\u001b[1;33m\u001b[0m\u001b[1;33m\u001b[0m\u001b[0m\n",
      "\u001b[1;32mc:\\users\\nvana\\appdata\\local\\programs\\python\\python38-32\\lib\\site-packages\\halotools\\sim_manager\\cached_halo_catalog.py\u001b[0m in \u001b[0;36m__init__\u001b[1;34m(self, *args, **kwargs)\u001b[0m\n\u001b[0;32m    192\u001b[0m         \u001b[0mself\u001b[0m\u001b[1;33m.\u001b[0m\u001b[0m_disallow_catalogs_with_known_bugs\u001b[0m\u001b[1;33m(\u001b[0m\u001b[1;33m**\u001b[0m\u001b[0mkwargs\u001b[0m\u001b[1;33m)\u001b[0m\u001b[1;33m\u001b[0m\u001b[1;33m\u001b[0m\u001b[0m\n\u001b[0;32m    193\u001b[0m \u001b[1;33m\u001b[0m\u001b[0m\n\u001b[1;32m--> 194\u001b[1;33m         \u001b[0mself\u001b[0m\u001b[1;33m.\u001b[0m\u001b[0mlog_entry\u001b[0m \u001b[1;33m=\u001b[0m \u001b[0mself\u001b[0m\u001b[1;33m.\u001b[0m\u001b[0m_determine_cache_log_entry\u001b[0m\u001b[1;33m(\u001b[0m\u001b[1;33m**\u001b[0m\u001b[0mkwargs\u001b[0m\u001b[1;33m)\u001b[0m\u001b[1;33m\u001b[0m\u001b[1;33m\u001b[0m\u001b[0m\n\u001b[0m\u001b[0;32m    195\u001b[0m         \u001b[0mself\u001b[0m\u001b[1;33m.\u001b[0m\u001b[0msimname\u001b[0m \u001b[1;33m=\u001b[0m \u001b[0mself\u001b[0m\u001b[1;33m.\u001b[0m\u001b[0mlog_entry\u001b[0m\u001b[1;33m.\u001b[0m\u001b[0msimname\u001b[0m\u001b[1;33m\u001b[0m\u001b[1;33m\u001b[0m\u001b[0m\n\u001b[0;32m    196\u001b[0m         \u001b[0mself\u001b[0m\u001b[1;33m.\u001b[0m\u001b[0mhalo_finder\u001b[0m \u001b[1;33m=\u001b[0m \u001b[0mself\u001b[0m\u001b[1;33m.\u001b[0m\u001b[0mlog_entry\u001b[0m\u001b[1;33m.\u001b[0m\u001b[0mhalo_finder\u001b[0m\u001b[1;33m\u001b[0m\u001b[1;33m\u001b[0m\u001b[0m\n",
      "\u001b[1;32mc:\\users\\nvana\\appdata\\local\\programs\\python\\python38-32\\lib\\site-packages\\halotools\\sim_manager\\cached_halo_catalog.py\u001b[0m in \u001b[0;36m_determine_cache_log_entry\u001b[1;34m(self, **kwargs)\u001b[0m\n\u001b[0;32m    317\u001b[0m                 \u001b[0mself\u001b[0m\u001b[1;33m.\u001b[0m\u001b[0m_default_redshift_choice\u001b[0m \u001b[1;33m=\u001b[0m \u001b[1;32mTrue\u001b[0m\u001b[1;33m\u001b[0m\u001b[1;33m\u001b[0m\u001b[0m\n\u001b[0;32m    318\u001b[0m \u001b[1;33m\u001b[0m\u001b[0m\n\u001b[1;32m--> 319\u001b[1;33m             return self._retrieve_matching_log_entry_from_metadata(\n\u001b[0m\u001b[0;32m    320\u001b[0m                 simname, halo_finder, version_name, redshift)\n\u001b[0;32m    321\u001b[0m \u001b[1;33m\u001b[0m\u001b[0m\n",
      "\u001b[1;32mc:\\users\\nvana\\appdata\\local\\programs\\python\\python38-32\\lib\\site-packages\\halotools\\sim_manager\\cached_halo_catalog.py\u001b[0m in \u001b[0;36m_retrieve_matching_log_entry_from_metadata\u001b[1;34m(self, simname, halo_finder, version_name, redshift)\u001b[0m\n\u001b[0;32m    511\u001b[0m                     \u001b[1;32melse\u001b[0m\u001b[1;33m:\u001b[0m\u001b[1;33m\u001b[0m\u001b[1;33m\u001b[0m\u001b[0m\n\u001b[0;32m    512\u001b[0m                         \u001b[0mmsg\u001b[0m \u001b[1;33m+=\u001b[0m \u001b[1;34m\"There are no simulations matching your input simname.\\n\"\u001b[0m\u001b[1;33m\u001b[0m\u001b[1;33m\u001b[0m\u001b[0m\n\u001b[1;32m--> 513\u001b[1;33m             \u001b[1;32mraise\u001b[0m \u001b[0mInvalidCacheLogEntry\u001b[0m\u001b[1;33m(\u001b[0m\u001b[0mmsg\u001b[0m\u001b[1;33m)\u001b[0m\u001b[1;33m\u001b[0m\u001b[1;33m\u001b[0m\u001b[0m\n\u001b[0m\u001b[0;32m    514\u001b[0m \u001b[1;33m\u001b[0m\u001b[0m\n\u001b[0;32m    515\u001b[0m         \u001b[1;32melif\u001b[0m \u001b[0mlen\u001b[0m\u001b[1;33m(\u001b[0m\u001b[0mmatching_entries\u001b[0m\u001b[1;33m)\u001b[0m \u001b[1;33m==\u001b[0m \u001b[1;36m1\u001b[0m\u001b[1;33m:\u001b[0m\u001b[1;33m\u001b[0m\u001b[1;33m\u001b[0m\u001b[0m\n",
      "\u001b[1;31mInvalidCacheLogEntry\u001b[0m: \nYou tried to load a cached halo catalog with the following characteristics:\n\nsimname = ``bolshoi``\nhalo_finder = ``rockstar``\nversion_name = ``custom``\nredshift = ``-0.0003``\n\nThere is no matching catalog in cache within dz_tol = 0.01 of these inputs.\n\nThe following entries in the cache log most closely match your inputs:\n\n('bolshoi', 'rockstar', 'halotools_v0p4', '-0.0003', 'C:\\Users\\nvana\\.astropy\\cache\\halotools\\halo_catalogs\\bolshoi\\rockstar\\hlist_1.00035.list.halotools_v0p4.hdf5')\n\n"
>>>>>>> 93f93b9c992f6cbc5a5b3442873cc731fb57ae01
     ]
    }
   ],
   "source": [
    "from halotools.sim_manager import CachedHaloCatalog\n",
<<<<<<< HEAD
    "halocat = CachedHaloCatalog(simname='bolshoi', halo_finder='rockstar', redshift=0.0, dz_tol=0.01, version_name='halotools_v0p4')\n",
=======
    "#halocat = CachedHaloCatalog(simname='smdpl_400', halo_finder='Rockstar', redshift=0.0, dz_tol=0.01, version_name='custom')\n",
    "halocat = CachedHaloCatalog(simname='bolshoi', halo_finder='rockstar', redshift=-0.0003, dz_tol=0.01, version_name='custom')\n",
>>>>>>> 93f93b9c992f6cbc5a5b3442873cc731fb57ae01
    "for name in halocat.halo_table.dtype.names:\n",
    "    print(name)"
   ]
  },
  {
   "cell_type": "code",
   "execution_count": 3,
   "metadata": {},
   "outputs": [],
   "source": [
    "#from rotations import elementwise_norm\n",
    "#vecs = np.vstack((halocat.halo_table['halo_axisA_x'],\n",
    "#                                           halocat.halo_table['halo_axisA_y'],\n",
    "#                                           halocat.halo_table['halo_axisA_z'])).T\n",
    "#vecs=np.atleast_2d(vecs)\n",
    "#npts = vecs.shape[0]\n",
    "#el_norm = elementwise_norm(vecs)\n",
    "#el_norm_re = el_norm.reshape((npts, -1))\n",
    "\n",
    "## Mask out the zero vectors\n",
    "##blanks = []\n",
    "#inds = []\n",
    "##h_ids = halocat.halo_table[\"halo_id\"]\n",
    "#for i in range( len( el_norm ) ):\n",
    "#    if el_norm_re[i] == 0:\n",
    "#            #blanks.append( halocat.halo_table[\"halo_id\"][i] )\n",
    "#            inds.append( i )\n",
    "\n",
    "#print(len(halocat.halo_table))\n",
    "##halocat.halo_table = halocat.halo_table[ halocat.halo_table[\"halo_id\"][i] in blanks ]\n",
    "#halocat.halo_table.remove_rows( inds )\n",
    "#print(len(halocat.halo_table))"
   ]
  },
  {
   "cell_type": "markdown",
   "metadata": {},
   "source": [
    "## Define some useful quantities"
   ]
  },
  {
   "cell_type": "code",
   "execution_count": 4,
   "metadata": {},
   "outputs": [],
   "source": [
    "# get masks for sub-haloes and host-haloes\n",
    "hosts = (halocat.halo_table['halo_upid']==-1)\n",
    "subs = (halocat.halo_table['halo_upid']!=-1)"
   ]
  },
  {
   "cell_type": "code",
   "execution_count": 5,
   "metadata": {},
   "outputs": [],
   "source": [
    "# get the index of each sub-halo's host halo\n",
    "from halotools.utils import crossmatch, normalized_vectors\n",
    "inds1, inds2 = crossmatch(halocat.halo_table['halo_hostid'], halocat.halo_table['halo_id'])"
   ]
  },
  {
   "cell_type": "code",
   "execution_count": 6,
   "metadata": {},
   "outputs": [],
   "source": [
    "# define radial vector between sub-halo and the center of its host halo.\n",
    "x = np.zeros(len(halocat.halo_table))\n",
    "y = np.zeros(len(halocat.halo_table))\n",
    "z = np.zeros(len(halocat.halo_table))\n",
    "x[inds1] = halocat.halo_table['halo_x'][inds2]\n",
    "y[inds1] = halocat.halo_table['halo_y'][inds2]\n",
    "z[inds1] = halocat.halo_table['halo_z'][inds2]\n",
    "\n",
    "dx = (halocat.halo_table['halo_x'] - x)\n",
    "dy = (halocat.halo_table['halo_y'] - y)\n",
    "dz = (halocat.halo_table['halo_z'] - z)\n",
    "\n",
    "# account for PBCs\n",
    "mask = (dx>halocat.Lbox[0]/2.0)\n",
    "dx[mask] = dx[mask] - halocat.Lbox[0]\n",
    "mask = (dx<-1.0*halocat.Lbox[0]/2.0)\n",
    "dx[mask] = dx[mask] + halocat.Lbox[0]\n",
    "\n",
    "mask = (dy>halocat.Lbox[1]/2.0)\n",
    "dy[mask] = dy[mask] - halocat.Lbox[1]\n",
    "mask = (dy<-1.0*halocat.Lbox[1]/2.0)\n",
    "dy[mask] = dy[mask] + halocat.Lbox[1]\n",
    "\n",
    "mask = (dz>halocat.Lbox[2]/2.0)\n",
    "dz[mask] = dz[mask] - halocat.Lbox[2]\n",
    "mask = (dz<-1.0*halocat.Lbox[2]/2.0)\n",
    "dz[mask] = dz[mask] + halocat.Lbox[2]\n",
    "\n",
    "# calculate radial distance and radial unit vector\n",
    "radius = np.sqrt(dx**2+dy**2+dz**2)\n",
    "r = normalized_vectors(np.vstack((dx, dy, dz)).T)\n",
    "r = np.nan_to_num(r)\n",
    "\n",
    "# calculate scaled radial distance (r/r_vir)\n",
    "scaled_radius = np.zeros(len(halocat.halo_table))\n",
    "# ignore divide by zero in this case\n",
    "scaled_radius[inds1] = np.divide(radius[inds1], halocat.halo_table['halo_rvir'][inds2],\n",
    "                                 out=np.zeros_like(radius[inds1]),\n",
    "                                 where=halocat.halo_table['halo_rvir'][inds2]!=0)"
   ]
  },
  {
   "cell_type": "code",
   "execution_count": 7,
   "metadata": {},
   "outputs": [],
   "source": [
    "# define orinetation vecotrs of (sub-)haloes\n",
    "#from halotools.utils import rotation_matrices_from_vectors, elementwise_dot, normalized_vectors\n",
    "from rotations import rotation_matrices_from_vectors, elementwise_dot, normalized_vectors\n",
    "from rotations.rotations3d import project_onto_plane\n",
    "\n",
    "#define major axis of (sub-)haloes\n",
    "major_axis = normalized_vectors(np.vstack((halocat.halo_table['halo_axisA_x'],\n",
    "                                           halocat.halo_table['halo_axisA_y'],\n",
    "                                           halocat.halo_table['halo_axisA_z'])).T)\n",
    "\n",
    "#define spin axis of (sub-)haloes\n",
    "spin_axis = normalized_vectors(np.vstack((halocat.halo_table['halo_jx'],\n",
    "                                          halocat.halo_table['halo_jy'],\n",
    "                                          halocat.halo_table['halo_jz'])).T)\n",
    "\n",
    "# define host orientation vectors for each sub-halo\n",
    "# major axis\n",
    "host_major_axis = np.copy(major_axis)\n",
    "host_major_axis[inds1] = major_axis[inds2]\n",
    "# spin axis\n",
    "host_spin_axis = np.copy(spin_axis)\n",
    "host_spin_axis[inds1] = spin_axis[inds2]"
   ]
  },
  {
   "cell_type": "code",
   "execution_count": null,
   "metadata": {},
   "outputs": [],
   "source": []
  },
  {
   "cell_type": "code",
   "execution_count": 8,
   "metadata": {},
   "outputs": [],
   "source": [
    "# calculate misalignment angles\n",
    "from halotools.utils import angles_between_list_of_vectors\n",
    "\n",
    "# major axis\n",
    "theta_ma_1 = angles_between_list_of_vectors(r, major_axis)\n",
    "theta_ma_2 = angles_between_list_of_vectors(host_major_axis, major_axis)\n",
    "\n",
    "# spin axis\n",
    "theta_ma_3 = angles_between_list_of_vectors(r, spin_axis)\n",
    "theta_ma_4 = angles_between_list_of_vectors(host_spin_axis, spin_axis)"
   ]
  },
  {
   "cell_type": "markdown",
   "metadata": {},
   "source": [
    "# Radial Major Axis Alingment"
   ]
  },
  {
   "cell_type": "code",
   "execution_count": 9,
   "metadata": {},
   "outputs": [
    {
     "data": {
      "image/png": "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\n",
      "text/plain": [
       "<Figure size 237.6x237.6 with 1 Axes>"
      ]
     },
     "metadata": {
      "needs_background": "light"
     },
     "output_type": "display_data"
    },
    {
     "data": {
      "image/png": "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\n",
      "text/plain": [
       "<Figure size 453.6x237.6 with 2 Axes>"
      ]
     },
     "metadata": {
      "needs_background": "light"
     },
     "output_type": "display_data"
    }
   ],
   "source": [
    "# import misalignment angle distribution model\n",
    "from intrinsic_alignments.ia_models.ia_model_components import DimrothWatson, inverse_alignment_strength, alignment_strength\n",
    "from intrinsic_alignments.utils.stat_utils import empirical_cdf, binned_bootstrap_1d\n",
    "\n",
    "mass_mask = (halocat.halo_table['halo_mpeak']>10**12) & (halocat.halo_table['halo_mvir']>10**11)\n",
    "\n",
    "d = DimrothWatson()\n",
    "\n",
    "# define bins\n",
    "costheta_bins = np.linspace(-1,1,21)\n",
    "mask = np.isfinite(theta_ma_1) & subs & mass_mask\n",
    "\n",
    "# calculate differential probability distribution\n",
    "costheta_1 = np.fabs(np.cos(theta_ma_1[mask]))\n",
    "uran = np.random.random(len(costheta_1))\n",
    "costheta_1[uran < 0.5] = -1.0*costheta_1[uran < 0.5] # symmeterize\n",
    "counts_1 = np.histogram(costheta_1, bins=costheta_bins)[0]\n",
    "counts_1 = 1.0*counts_1/np.sum(counts_1)/np.diff(costheta_bins)\n",
    "\n",
    "# fit for shape parameter\n",
    "k_1 = d.fit(np.cos(theta_ma_1[mask]), floc=0, fscale=1)[0]\n",
    "full_sample_p_1 = inverse_alignment_strength(k_1)\n",
    "p = inverse_alignment_strength(k_1)[0]\n",
    "k_1 = alignment_strength(0.8)\n",
    "\n",
    "# plot results\n",
    "x = np.linspace(-1,1,1000)\n",
    "fig, axes = plt.subplots(1,1,figsize=(3.3,3.3))\n",
    "fig.subplots_adjust(left=0.1, right=0.9, bottom=0.2, top=0.9)\n",
    "\n",
    "# differential probability distribution\n",
    "ax = axes\n",
    "ax.set_title(r'$\\log(M_{\\rm peak}/{h^{-1}}M_{\\odot})>12$')\n",
    "ax.step(costheta_bins[1:], counts_1, '-', color='black')\n",
    "ax.plot(x, d.pdf(x, k=k_1), '-', color='red')\n",
    "ax.set_ylim([0,1.5])\n",
    "ax.set_xlim([-1,1])\n",
    "ax.set_xlabel(r'$\\cos(\\theta_{MA})$')\n",
    "ax.set_ylabel(r'$\\mathrm{d}P/\\mathrm{d}\\cos(\\theta_{MA})$')\n",
    "ax.text(-0.75, 1.3, r'$\\mu=$'+'{:.2f}'.format(p))\n",
    "\n",
    "plt.show()\n",
    "\n",
    "filename = \"subhalo_misalignment_dist.pdf\"\n",
    "#fig.savefig('/Users/duncan/Projects/intrinsic_alignments/halo_shape_correlations/figures/'+filename, dpi=250)\n",
    "\n",
    "# plot results\n",
    "x = np.linspace(-1,1,1000)\n",
    "fig, axes = plt.subplots(1,2,figsize=(6.3,3.3))\n",
    "fig.subplots_adjust(left=0.1, right=0.95, bottom=0.2, top=0.9, wspace=0.3)\n",
    "\n",
    "# differential probability distribution\n",
    "ax = axes[0]\n",
    "ax.step(costheta_bins[1:], counts_1, '-', color='black')\n",
    "ax.plot(x, d.pdf(x, k=k_1), '-', color='red')\n",
    "ax.set_ylim([0,1.5])\n",
    "ax.set_xlim([-1,1])\n",
    "ax.set_xlabel(r'$\\cos(\\theta_{MA})$')\n",
    "ax.set_ylabel(r'$\\mathrm{d}P/\\mathrm{d}\\cos(\\theta_{MA})$')\n",
    "ax.text(-0.75, 1.3, r'$\\mu=$'+'{:.2f}'.format(p))\n",
    "\n",
    "# cumulative distribution\n",
    "cdf = empirical_cdf(costheta_1, bins=costheta_bins)[0]\n",
    "\n",
    "ax=axes[1]\n",
    "p1, = ax.step(costheta_bins, cdf, color='black')\n",
    "p2, = ax.step(x, d.cdf(x, k=k_1), '-', color='red')\n",
    "ax.set_ylim([0,1])\n",
    "ax.set_xlim([-1,1])\n",
    "ax.set_xlabel(r'$\\cos(\\theta_{MA})$')\n",
    "ax.set_ylabel(r'$F[\\cos(\\theta_{MA})]$')\n",
    "\n",
    "ax.legend([p1,p2],['Bolshoi','Model'], loc='upper left', frameon=False, fontsize=10)\n",
    "\n",
    "plt.show()\n",
    "\n",
    "#filename = \"subhalo_misalignment_dist.pdf\"\n",
    "#fig.savefig('/Users/duncan/Projects/intrinsic_alignments/halo_shape_correlations/figures/'+filename, dpi=250)"
   ]
  },
  {
   "cell_type": "code",
   "execution_count": 10,
   "metadata": {},
   "outputs": [
    {
     "data": {
      "image/png": "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\n",
      "text/plain": [
       "<Figure size 453.6x237.6 with 2 Axes>"
      ]
     },
     "metadata": {
      "needs_background": "light"
     },
     "output_type": "display_data"
    }
   ],
   "source": [
    "# import misalignment angle distribution model\n",
    "from watson_dist import DimrothWatson\n",
    "from intrinsic_alignments.ia_models.ia_model_components import inverse_alignment_strength\n",
    "#from intrinsic_alignments.halo_shape_correlations.utils import empirical_cdf, binned_bootstrap_1d\n",
    "from intrinsic_alignments.utils.stat_utils import empirical_cdf, binned_bootstrap_1d\n",
    "\n",
    "mass_mask = (halocat.halo_table['halo_mpeak']>10**12)\n",
    "\n",
    "d = DimrothWatson()\n",
    "\n",
    "# define bins\n",
    "costheta_bins = np.linspace(-1,1,21)\n",
    "mask = np.isfinite(theta_ma_3) & subs & mass_mask\n",
    "\n",
    "# calculate differential probability distribution\n",
    "costheta_1 = np.fabs(np.cos(theta_ma_3[mask]))\n",
    "uran = np.random.random(len(costheta_1))\n",
    "costheta_1[uran < 0.5] = -1.0*costheta_1[uran < 0.5] # symmeterize\n",
    "counts_1 = np.histogram(costheta_1, bins=costheta_bins)[0]\n",
    "counts_1 = 1.0*counts_1/np.sum(counts_1)/np.diff(costheta_bins)\n",
    "\n",
    "# fit for shape parameter\n",
    "k_1 = d.fit(np.cos(theta_ma_3[mask]), floc=0, fscale=1)[0]\n",
    "full_sample_p_1 = inverse_alignment_strength(k_1)\n",
    "p = inverse_alignment_strength(k_1)[0]\n",
    "\n",
    "# plot results\n",
    "x = np.linspace(-1,1,1000)\n",
    "fig, axes = plt.subplots(1,2,figsize=(6.3,3.3))\n",
    "fig.subplots_adjust(left=0.1, right=0.95, bottom=0.2, top=0.9, wspace=0.3)\n",
    "\n",
    "# differential probability distribution\n",
    "ax = axes[0]\n",
    "ax.step(costheta_bins[1:], counts_1, '-', color='black')\n",
    "ax.plot(x, d.pdf(x, k=k_1), '-', color='red')\n",
    "ax.set_ylim([0,1.5])\n",
    "ax.set_xlim([-1,1])\n",
    "ax.set_xlabel(r'$\\cos(\\theta_{MA})$')\n",
    "ax.set_ylabel(r'$\\mathrm{d}P/\\mathrm{d}\\cos(\\theta_{MA})$')\n",
    "ax.text(-0.75, 1.3, r'$\\mu=$'+'{:.2f}'.format(p))\n",
    "\n",
    "# cumulative distribution\n",
    "#from intrinsic_alignments.halo_shape_correlations.utils import empirical_cdf\n",
    "cdf = empirical_cdf(costheta_1, bins=costheta_bins)[0]\n",
    "\n",
    "ax=axes[1]\n",
    "p1, = ax.step(costheta_bins, cdf, color='black')\n",
    "p2, = ax.step(x, d.cdf(x, k=k_1), '-', color='red')\n",
    "ax.set_ylim([0,1])\n",
    "ax.set_xlim([-1,1])\n",
    "ax.set_xlabel(r'$\\cos(\\theta_{MA})$')\n",
    "ax.set_ylabel(r'$F[\\cos(\\theta_{MA})]$')\n",
    "\n",
    "ax.legend([p1,p2],['Bolshoi','Model'], loc='upper left', frameon=False, fontsize=10)\n",
    "\n",
    "plt.show()\n",
    "\n",
    "filename = \"subhalo_misalignment_dist.pdf\"\n",
    "#fig.savefig('/Users/duncan/Projects/intrinsic_alignments/halo_shape_correlations/figures/'+filename, dpi=250)"
   ]
  },
  {
   "cell_type": "code",
   "execution_count": 11,
   "metadata": {
    "tags": []
   },
   "outputs": [
    {
     "name": "stderr",
     "output_type": "stream",
     "text": [
      "/home/nvanalfen/miniconda3/lib/python3.8/site-packages/scipy/stats/_distn_infrastructure.py:2491: RuntimeWarning: Mean of empty slice.\n",
      "  muhat = tmp.mean()\n",
      "/home/nvanalfen/miniconda3/lib/python3.8/site-packages/numpy/core/_methods.py:170: RuntimeWarning: invalid value encountered in double_scalars\n",
      "  ret = ret.dtype.type(ret / rcount)\n",
      "/home/nvanalfen/miniconda3/lib/python3.8/site-packages/scipy/stats/_distn_infrastructure.py:2492: RuntimeWarning: Degrees of freedom <= 0 for slice\n",
      "  mu2hat = tmp.var()\n",
      "/home/nvanalfen/miniconda3/lib/python3.8/site-packages/numpy/core/_methods.py:194: RuntimeWarning: invalid value encountered in true_divide\n",
      "  arrmean = um.true_divide(\n",
      "/home/nvanalfen/miniconda3/lib/python3.8/site-packages/numpy/core/_methods.py:226: RuntimeWarning: invalid value encountered in double_scalars\n",
      "  ret = ret.dtype.type(ret / rcount)\n"
     ]
    }
   ],
   "source": [
    "from intrinsic_alignments.utils.stat_utils import binned_bootstrap_1d\n",
    "\n",
    "Nboot = 2\n",
    "\n",
    "# check for radial dependence \n",
    "rbins = np.logspace(-1.5,0.0,15)\n",
    "rbin_centers = (rbins[:-1]+rbins[1:])/2.0\n",
    "\n",
    "mass_mask = (halocat.halo_table['halo_mpeak']>10**12)\n",
    "mask = np.isfinite(theta_ma_1) & subs & mass_mask\n",
    "costheta_1 = np.fabs(np.cos(theta_ma_1))\n",
    "\n",
    "statisic = lambda x: inverse_alignment_strength(d.fit(x, floc=0, fscale=1)[0])\n",
    "p, err_p = binned_bootstrap_1d(scaled_radius[mask], costheta_1[mask], rbins,\n",
    "                               statistic=statisic, Nboot=Nboot)"
   ]
  },
  {
   "cell_type": "code",
   "execution_count": 12,
   "metadata": {},
   "outputs": [
    {
     "name": "stdout",
     "output_type": "stream",
     "text": [
      "[ 0.00691288 -0.04674869]\n"
     ]
    },
    {
     "data": {
      "image/png": "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\n",
      "text/plain": [
       "<Figure size 237.6x237.6 with 1 Axes>"
      ]
     },
     "metadata": {
      "needs_background": "light"
     },
     "output_type": "display_data"
    }
   ],
   "source": [
    "def clipped_powerlaw(x, x0=0.01, alpha=-0.05):\n",
    "    \"\"\"\n",
    "    clipped power law model\n",
    "    \"\"\"\n",
    "    ymax=1.0\n",
    "    ymin=-1.0\n",
    "    x = np.atleast_1d(x)\n",
    "    \n",
    "    result = np.zeros(len(x))\n",
    "    result = (x/x0)**alpha\n",
    "    \n",
    "    mask = (result>ymax)\n",
    "    result[mask] = ymax\n",
    "    mask = (result<ymin)\n",
    "    result[mask] = ymin\n",
    "    \n",
    "    return result\n",
    "\n",
    "from scipy.optimize import curve_fit\n",
    "\n",
    "popt, pcov = curve_fit(clipped_powerlaw, rbin_centers, p, sigma=err_p, p0=[0.01, -0.05])\n",
    "print(popt)\n",
    "\n",
    "fig, ax = plt.subplots(1,1,figsize=(3.3,3.3))\n",
    "fig.subplots_adjust(left=0.2, right=0.9, bottom=0.2, top=0.9)\n",
    "ax.errorbar(rbin_centers, p, yerr=5*err_p, fmt='o', ms=4, color='black')\n",
    "ax.plot(rbin_centers, clipped_powerlaw(rbin_centers, *popt), '-', color='red')\n",
    "ax.set_ylim([0,1])\n",
    "ax.set_xscale('log')\n",
    "ax.set_xlim(0.03,1.1)\n",
    "ax.set_xlabel(r'$r/r_{\\rm vir}$')\n",
    "ax.set_ylabel(r'$\\mu$')\n",
    "plt.show()\n",
    "\n",
    "filename = \"measured_radial_subhalo_algignment_strength.pdf\"\n",
    "#fig.savefig('/Users/duncan/Projects/intrinsic_alignments/halo_shape_correlations/figures/'+filename, dpi=250)"
   ]
  },
  {
   "cell_type": "code",
   "execution_count": 13,
   "metadata": {},
   "outputs": [
    {
     "data": {
      "image/png": "iVBORw0KGgoAAAANSUhEUgAAAX4AAAD8CAYAAABw1c+bAAAAOXRFWHRTb2Z0d2FyZQBNYXRwbG90bGliIHZlcnNpb24zLjMuNCwgaHR0cHM6Ly9tYXRwbG90bGliLm9yZy8QVMy6AAAACXBIWXMAAAsTAAALEwEAmpwYAAATXklEQVR4nO3df4xdZX7f8fenXkInibYDYUAwZmtHcmkgbuRmhLZFqlZLV6bpam25WslVk1gpqpWIttuqomurf+QvZEtUVRKpbOVmt0vU1SKLUHATbQiFRqtWu0uGeFUWiIsVUvDYhUkrtqvUIkC//WPOwN3Za3vm3Dv313m/pNG997nnnPsM5n7m6Hue8zypKiRJ3fHnxt0BSdJoGfyS1DEGvyR1jMEvSR1j8EtSxxj8ktQxHxl3B67lpptuql27do27G5I0VV544YU/qaqFfu9NfPDv2rWL5eXlcXdDkqZKkv9xpfcs9UhSxxj8ktQxBr8kdYzBL0kdM/EXdyVpWj15doWHnz7Hxbcvc9v8HA/uv4OD+xbH3S2DX5K2w5NnVzj+xItcfvd9AFbevszxJ14EGHv4W+qRpG3w8NPnPgj9dZfffZ+Hnz43ph59yOCXpG1w8e3LW2ofJUs9knQNbWr1t83PsdIn5G+bn9uubm6aZ/ySdBXrtfqVty9TfFirf/LsylX3e3D/Hcxdt+P72uau28GD++/Yxt5ujsEvSVfRtlZ/cN8iJw7tZXF+jgCL83OcOLR37Bd2wVKPJF3VILX6g/sWJyLoN/KMX5Ku4ko1+Umo1bdl8EvSVUxyrb4tSz2SdBXrpZpJvAO3LYNfkq5hUmv1bVnqkaSOMfglqWOuGfxJvpTkrSTf6Wl7OMkfJvlvSf5Dkvme944nOZ/kXJL9Pe0/neTF5r1fS5Kh/zaSpGvazBn/l4H7NrQ9A/xkVf0V4L8DxwGS3AkcBu5q9nkkyfrl8C8AR4E9zc/GY0qSRuCawV9VXwf+94a2362q95qX3wR2Ns8PAI9V1TtV9RpwHrg7ya3AR6vqG1VVwG8AB4f0O0iStmAYNf6/D3yteb4IvNHz3oWmbbF5vrG9ryRHkywnWV5dXR1CFyVJ6wYK/iT/AngP+Mp6U5/N6irtfVXVqapaqqqlhYWFQbooSdqg9Tj+JEeATwP3NuUbWDuTv71ns53AxaZ9Z592SdKItTrjT3If8HngM1X1f3veOgMcTnJ9kt2sXcR9vqouAd9L8vFmNM/PA08N2HdJUgvXPONP8lXgE8BNSS4Av8zaKJ7rgWeaUZnfrKpfrKqXkpwGXmatBPRAVa3PZ/pLrI0QmmPtmsDXkCSNXD6s0kympaWlWl5eHnc3JGkk2qz21U+SF6pqqd97ztUjqVOGFazbYX21r/WFX9ZX+wKG2kenbJDUGW2XURyVtqt9bZXBL6kzRhWsbQ2y2tdWWOqRNLW2WrYZVbC2ddv8HCt9+jLs1b4845c0ldqUbSZ9GcVRrfZl8EuaSm3KNpO+jOLBfYucOLSXxfk5AizOz3Hi0N6hX3y21CNpKrUp20zDMoqjWO3L4Jc0ldrWw2dtGcU2LPVImkqTXraZZJ7xS5pK01C2mVQGv6SpZdmmHUs9ktQxBr8kdYzBL0kdY/BLUscY/JLUMQa/JHWMwS9JHeM4fkljN8mrYs0ig1/SWI1quUF9yFKPpLGa9FWxZpHBL2msJn1VrFlk8Esaq0lfFWsWXTP4k3wpyVtJvtPTdmOSZ5K82jze0PPe8STnk5xLsr+n/aeTvNi892tJMvxfR9K0cXrl0dvMGf+Xgfs2tB0Dnq2qPcCzzWuS3AkcBu5q9nkkyfq/6BeAo8Ce5mfjMSV10KiWG9SHrjmqp6q+nmTXhuYDwCea548Cvwd8vml/rKreAV5Lch64O8kfAx+tqm8AJPkN4CDwtYF/A0lTz+mVR6ttjf+WqroE0Dze3LQvAm/0bHehaVtsnm9s7yvJ0STLSZZXV1dbdlGS1M+wL+72q9vXVdr7qqpTVbVUVUsLCwtD65wkqX3wv5nkVoDm8a2m/QJwe892O4GLTfvOPu2SpBFrG/xngCPN8yPAUz3th5Ncn2Q3axdxn2/KQd9L8vFmNM/P9+wjSRqha17cTfJV1i7k3pTkAvDLwEngdJL7gdeBzwJU1UtJTgMvA+8BD1TV+i15v8TaCKE51i7qemFXksYgVVcstU+EpaWlWl5eHnc3JGmqJHmhqpb6veedu5LUMQa/JHWMwS9JHWPwS1LHGPyS1DEGvyR1jMEvSR3jmruShsqF0yefwS9paFw4fTpY6pE0NC6cPh0MfklD48Lp08HglzQ0Lpw+HQx+SUPjwunTwYu7koZm/QKuo3omm8EvaahcOH3yWeqRpI4x+CWpYwx+SeoYg1+SOsbgl6SOMfglqWMMfknqmIGCP8k/TfJSku8k+WqSP5/kxiTPJHm1ebyhZ/vjSc4nOZdk/+DdlyRtVevgT7II/GNgqap+EtgBHAaOAc9W1R7g2eY1Se5s3r8LuA94JMmOfseWJG2fQUs9HwHmknwE+GHgInAAeLR5/1HgYPP8APBYVb1TVa8B54G7B/x8SdIWtQ7+qloB/iXwOnAJ+G5V/S5wS1Vdara5BNzc7LIIvNFziAtNmyRphAYp9dzA2ln8buA24EeS/OzVdunTVlc49tEky0mWV1dX23ZRktTHIKWevwm8VlWrVfUu8ATw14E3k9wK0Dy+1Wx/Abi9Z/+drJWGfkBVnaqqpapaWlhYGKCLkqSNBgn+14GPJ/nhJAHuBV4BzgBHmm2OAE81z88Ah5Ncn2Q3sAd4foDPl7TNnjy7wj0nn2P3sd/mnpPP8eTZlXF3SUPQelrmqvpWkseBPwDeA84Cp4AfBU4nuZ+1Pw6fbbZ/Kclp4OVm+weq6v2+B5c0di6cPrtS1bfMPjGWlpZqeXl53N2QOueek8+x0met3MX5Of7rsU+OoUfaiiQvVNVSv/e8c1dSXy6cPrsMfkl9uXD67DL4JfXlwumzyzV3JfXlwumzy+CXdEUunD6bLPVIUscY/JLUMQa/JHWMwS9JHWPwS1LHGPyS1DEGvyR1jMEvSR1j8EtSxxj8ktQxBr8kdYzBL0kdY/BLUscY/JLUMU7LLHXAk2dXnFdfHzD4pRn35NkVjj/xIpfffR+Albcvc/yJFwEM/46y1CPNuIefPvdB6K+7/O77PPz0uTH1SONm8Esz7uLbl7fUrtk3UPAnmU/yeJI/TPJKkr+W5MYkzyR5tXm8oWf740nOJzmXZP/g3Zd0LbfNz22pXbNv0DP+XwV+p6r+MvBTwCvAMeDZqtoDPNu8JsmdwGHgLuA+4JEkOwb8fEnX8OD+O5i77vu/anPX7eDB/XeMqUcat9bBn+SjwN8AvghQVX9WVW8DB4BHm80eBQ42zw8Aj1XVO1X1GnAeuLvt50vanIP7FjlxaC+L83MEWJyf48ShvV7Y7bBBRvX8OLAK/LskPwW8AHwOuKWqLgFU1aUkNzfbLwLf7Nn/QtP2A5IcBY4CfOxjHxugi5JgLfwNeq0bpNTzEeCvAl+oqn3An9KUda4gfdqq34ZVdaqqlqpqaWFhYYAuSpI2GiT4LwAXqupbzevHWftD8GaSWwGax7d6tr+9Z/+dwMUBPl+S1ELr4K+q/wm8kWT9CtG9wMvAGeBI03YEeKp5fgY4nOT6JLuBPcDzbT9fktTOoHfu/iPgK0l+CPgj4BdY+2NyOsn9wOvAZwGq6qUkp1n74/Ae8EBVvd//sJKk7TJQ8FfVt4GlPm/de4XtHwIeGuQzJUmD8c5dSeoYg1+SOsbgl6SOMfglqWMMfknqGINfkjrG4JekjnHpRWnKuH6uBmXwS1PE9XM1DJZ6pCni+rkaBoNfmiKun6thMPilKeL6uRoGg1+aIq6fq2Hw4q40RdYv4DqqR4Mw+KUp4/q5GpSlHknqGM/4pTHxRiyNi8EvjYE3YmmcLPVIY+CNWBong18aA2/E0jgZ/NIYeCOWxsngl8bAG7E0TgMHf5IdSc4m+a3m9Y1JnknyavN4Q8+2x5OcT3Iuyf5BP1uaVgf3LXLi0F4W5+cIsDg/x4lDe72wq5EYxqiezwGvAB9tXh8Dnq2qk0mONa8/n+RO4DBwF3Ab8J+S/KWqer/fQaVZ541YGpeBzviT7AT+NvDrPc0HgEeb548CB3vaH6uqd6rqNeA8cPcgny9J2rpBSz2/Avxz4P/1tN1SVZcAmsebm/ZF4I2e7S40bZKkEWod/Ek+DbxVVS9sdpc+bXWFYx9NspxkeXV1tW0XJUl9DHLGfw/wmSR/DDwGfDLJvwfeTHIrQPP4VrP9BeD2nv13Ahf7HbiqTlXVUlUtLSwsDNBFSdJGrYO/qo5X1c6q2sXaRdvnqupngTPAkWazI8BTzfMzwOEk1yfZDewBnm/dc0lSK9sxV89J4HSS+4HXgc8CVNVLSU4DLwPvAQ84okezwgnXNE1S1bfMPjGWlpZqeXl53N2QrmjjhGuwdjOW4/I1TkleqKqlfu955640ICdc07Qx+KUBOeGapo3z8UsbbLVef9v8HCt9Qt4J1zSpPOOXeqzX61fevkzx4QIpT55dueI+TrimaWPwSz3a1OudcE3TxlKP1KNtvd4J1zRNPOOXerhAirrA4Jd6WK9XF1jqkXqsl2u8C1ezzOCXNrBer1lnqUeSOsbgl6SOsdSjmeWMmVJ/Br+mwlZDfOOMmet34AKGvzrPUo8mXptpFJwxU7oyg18Tr02IO2OmdGUGvyZemxD3Dlzpygx+Tbw2Ie4duNKVGfyaeG1C3BkzpStzVI8mXttpFLwDV+rP4NdUMMSl4bHUI0kdY/BLUse0Dv4ktyf5z0leSfJSks817TcmeSbJq83jDT37HE9yPsm5JPuH8QtIkrZmkDP+94B/VlU/AXwceCDJncAx4Nmq2gM827ymee8wcBdwH/BIkh19jyxJ2jatL+5W1SXgUvP8e0leARaBA8Anms0eBX4P+HzT/lhVvQO8luQ8cDfwjbZ90HRy8jRpvIZS40+yC9gHfAu4pfmjsP7H4eZms0XgjZ7dLjRt/Y53NMlykuXV1dVhdFETos28O5KGa+DgT/KjwG8C/6Sq/s/VNu3TVv02rKpTVbVUVUsLCwuDdlETxMnTpPEbKPiTXMda6H+lqp5omt9Mcmvz/q3AW037BeD2nt13AhcH+XxNHydPk8ZvkFE9Ab4IvFJV/6rnrTPAkeb5EeCpnvbDSa5PshvYAzzf9vM1nZw8TRq/Qc747wF+Dvhkkm83Pz8DnAQ+leRV4FPNa6rqJeA08DLwO8ADVfV+/0NrVjl5mjR+g4zq+S/0r9sD3HuFfR4CHmr7mZp+befdkTQ8ztWjkXPeHWm8DH4B7cbWOx5fmk4Gv1otTO5i5tL0cpI2tRpb73h8aXp5xj9j2pRf2oytdzy+NL08458hbadDaDO23vH40vQy+GdI2/JLm7H1jseXppelnhnStvzSZmy94/Gl6WXwz5Db5udY6RPymym/tBlb73h8aTpZ6pkhll8kbYZn/DPE8oukzTD4J1iboZmWXyRdi8E/IlsNce+MlbRdDP4tajunzVZD/GpDMw1+SYPw4u4WtL1Bqs34eu+MlbRdDP4taHuDVJsQ985YSdul08H/5NkV7jn5HLuP/Tb3nHzummfubc/C24S4QzMlbZeZCf6thnibsk3bs/A2IX5w3yInDu1lcX6OAIvzc5w4tNf6vqSBzcTF3VFdPH1w/x3f9zmwubPwtuPrHZopaTvMRPC3CfE2ZZtBbpAyxCVNipkI/rYXT9vMa2OAS5p2M1Hj9+KpJG3eTAS/F08lafNGXupJch/wq8AO4Ner6uSgx/TiqSRt3kiDP8kO4F8DnwIuAL+f5ExVvTzosQ1xSdqcUZd67gbOV9UfVdWfAY8BB0bcB0nqtFEH/yLwRs/rC03b90lyNMlykuXV1dWRdU6SumDUwZ8+bfUDDVWnqmqpqpYWFhZG0C1J6o5RB/8F4Pae1zuBiyPugyR12qiD//eBPUl2J/kh4DBwZsR9kKROS9UPVFq29wOTnwF+hbXhnF+qqoeusf13gVdH0LW/AHx3Ao/Z9hht9tvKPpvd9ibgT7bYj1myHf9fDcOo+uX3anzfq79YVf1r5VU10T/AqWn9nGEcs+0x2uy3lX02uy2wPIp/v0n9GdX/v5PaL79Xk/m9moY7d//jFH/OMI7Z9hht9tvKPqP6d5l2k/rfye/V6PabuO/VyEs96pYky1W1NO5+SLNk0O/VNJzxa7qdGncHpBk00PfKM35J6hjP+CWpYwx+SeoYg1+SOsbg11gk+fEkX0zy+Lj7Ik2zJD+S5NEk/zbJ39vMPga/tizJl5K8leQ7G9rvS3Iuyfkkx652jFqbmvv+7e2pNJ22+B07BDxeVf8A+Mxmjm/wq40vA/f1NvQssvO3gDuBv5vkziR7k/zWhp+bR99laap8mU1+x1ib7HJ9uvv3N3PwkS+9qOlXVV9PsmtD8weL7AAkeQw4UFUngE+PuIvSVNvKd4y1WY93At9mkyfznvFrWDa1yM66JD+W5N8A+5Ic3+7OSTPgSt+xJ4C/k+QLbHLKB8/4NSybWmTngzeq/hfwi9vXHWnm9P2OVdWfAr+wlQN5xq9hcZEdaXsN7Ttm8GtYXGRH2l5D+44Z/NqyJF8FvgHckeRCkvur6j3gHwJPA68Ap6vqpXH2U5pW2/0dc5I2SeoYz/glqWMMfknqGINfkjrG4JekjjH4JaljDH5J6hiDX5I6xuCXpI4x+CWpY/4/ne2JQwbRXIIAAAAASUVORK5CYII=\n",
      "text/plain": [
       "<Figure size 432x288 with 1 Axes>"
      ]
     },
     "metadata": {
      "needs_background": "light"
     },
     "output_type": "display_data"
    },
    {
     "data": {
      "image/png": "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\n",
      "text/plain": [
       "<Figure size 432x288 with 1 Axes>"
      ]
     },
     "metadata": {
      "needs_background": "light"
     },
     "output_type": "display_data"
    }
   ],
   "source": [
    "# check for radial dependence \n",
    "rbins = np.logspace(-1.5,0.0,25)\n",
    "rbin_centers = (rbins[:-1]+rbins[1:])/2.0\n",
    "\n",
    "\n",
    "counts = np.histogram(scaled_radius[mask], bins=rbins)[0]\n",
    "fig = plt.plot(rbin_centers, counts, 'o')\n",
    "plt.xscale('log')\n",
    "plt.xlim(0.03,1.1)\n",
    "plt.show()\n",
    "\n",
    "sort_inds = np.argsort(scaled_radius[mask])\n",
    "f = np.ones(np.sum(mask))/np.sum(mask)\n",
    "f = np.cumsum(f)\n",
    "r = scaled_radius[mask][sort_inds]\n",
    "\n",
    "from scipy.interpolate import interp1d\n",
    "\n",
    "f_r = interp1d(f,r)\n",
    "\n",
    "plt.figure()\n",
    "plt.plot(r, f)\n",
    "plt.xscale('log')\n",
    "plt.xlim(0.03,1.1)\n",
    "plt.show()\n",
    "\n",
    "rbins = np.logspace(-1.5,0.0,15)\n",
    "rbin_centers = (rbins[:-1]+rbins[1:])/2.0"
   ]
  },
  {
   "cell_type": "code",
   "execution_count": 14,
   "metadata": {},
   "outputs": [
    {
     "data": {
      "image/png": "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\n",
      "text/plain": [
       "<Figure size 475.2x237.6 with 2 Axes>"
      ]
     },
     "metadata": {
      "needs_background": "light"
     },
     "output_type": "display_data"
    }
   ],
   "source": [
    "k_0 = alignment_strength(clipped_powerlaw(f_r(0.1), *popt))\n",
    "k_1 = alignment_strength(clipped_powerlaw(f_r(0.5), *popt))\n",
    "k_2 = alignment_strength(clipped_powerlaw(f_r(0.9), *popt))\n",
    "\n",
    "# plot results\n",
    "x = np.linspace(-1,1,1000)\n",
    "fig, axes = plt.subplots(1,2,figsize=(6.6,3.3))\n",
    "fig.subplots_adjust(left=0.1, right=0.95, bottom=0.2, top=0.9)\n",
    "\n",
    "# differential probability distribution\n",
    "ax = axes[0]\n",
    "#ax.set_title(r'$\\log(M_{\\rm peak}/{h^{-1}}M_{\\odot})>12$')\n",
    "l1, = ax.step(costheta_bins[:-1], counts_1, '-', color='black', where='post')\n",
    "ax.fill_between(x, d.pdf(x, k=k_0), d.pdf(x, k=k_2), color='red', alpha=0.5)\n",
    "l2, = ax.plot(x, d.pdf(x, k=k_1), '-', color='red')\n",
    "ax.set_ylim([0,1.5])\n",
    "ax.set_xlim([-1,1])\n",
    "ax.set_xlabel(r'$\\cos(\\theta_{MA})$')\n",
    "ax.set_ylabel(r'$\\mathrm{d}P/\\mathrm{d}\\cos(\\theta_{MA})$')\n",
    "ax.legend([l1,l2],['simulation','model'], loc='upper center', frameon=False, fontsize=10)\n",
    "\n",
    "ax=axes[1]\n",
    "p1 = ax.errorbar(rbin_centers, p, yerr=err_p, fmt='o', ms=4, color='black')\n",
    "l1, = ax.plot(rbin_centers, clipped_powerlaw(rbin_centers, *popt), '-', color='red')\n",
    "ax.set_ylim([0,1])\n",
    "ax.set_xscale('log')\n",
    "ax.set_xlim(0.03,1.1)\n",
    "ax.set_xlabel(r'$r/r_{\\rm vir}$')\n",
    "ax.set_ylabel(r'$\\mu$')\n",
    "ax.legend([p1,l2],['simulation','fit'], loc='lower right', frameon=False, fontsize=10)\n",
    "\n",
    "plt.show()\n",
    "\n",
    "\n",
    "filename = \"subhalo_alignment_strength.pdf\"\n",
    "#fig.savefig('/Users/duncan/Projects/intrinsic_alignments/halo_shape_correlations/figures/'+filename, dpi=250)"
   ]
  },
  {
   "cell_type": "code",
   "execution_count": 15,
   "metadata": {},
   "outputs": [
    {
     "name": "stderr",
     "output_type": "stream",
     "text": [
      "/home/nvanalfen/miniconda3/lib/python3.8/site-packages/scipy/stats/_distn_infrastructure.py:2491: RuntimeWarning: Mean of empty slice.\n",
      "  muhat = tmp.mean()\n",
      "/home/nvanalfen/miniconda3/lib/python3.8/site-packages/numpy/core/_methods.py:170: RuntimeWarning: invalid value encountered in double_scalars\n",
      "  ret = ret.dtype.type(ret / rcount)\n",
      "/home/nvanalfen/miniconda3/lib/python3.8/site-packages/scipy/stats/_distn_infrastructure.py:2492: RuntimeWarning: Degrees of freedom <= 0 for slice\n",
      "  mu2hat = tmp.var()\n",
      "/home/nvanalfen/miniconda3/lib/python3.8/site-packages/numpy/core/_methods.py:194: RuntimeWarning: invalid value encountered in true_divide\n",
      "  arrmean = um.true_divide(\n",
      "/home/nvanalfen/miniconda3/lib/python3.8/site-packages/numpy/core/_methods.py:226: RuntimeWarning: invalid value encountered in double_scalars\n",
      "  ret = ret.dtype.type(ret / rcount)\n"
     ]
    },
    {
     "data": {
      "image/png": "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\n",
      "text/plain": [
       "<Figure size 237.6x237.6 with 1 Axes>"
      ]
     },
     "metadata": {
      "needs_background": "light"
     },
     "output_type": "display_data"
    }
   ],
   "source": [
    "Nboot = 5\n",
    "\n",
    "# check for host mass dependence\n",
    "mbins = np.logspace(12,14,20)\n",
    "mbins_centers = (mbins[:-1]+mbins[1:])/2.0\n",
    "\n",
    "statisic = lambda x: inverse_alignment_strength(d.fit(x, floc=0, fscale=1)[0])\n",
    "#p, err_p = binned_bootstrap_1d(halocat.halo_table['halo_mvir_host_halo'][mask],\n",
    "#                               costheta_1, mbins, statistic=statisic, Nboot=5)\n",
    "# Use the mask\n",
    "p, err_p = binned_bootstrap_1d(halocat.halo_table['halo_mvir_host_halo'][mask],\n",
    "                               costheta_1[mask], mbins, statistic=statisic, Nboot=5)\n",
    "        \n",
    "fig, ax = plt.subplots(1,1,figsize=(3.3,3.3))\n",
    "fig.subplots_adjust(left=0.2, right=0.9, bottom=0.2, top=0.9)\n",
    "ax.errorbar(mbins_centers, p, yerr=5*err_p, fmt='o', ms=4, color='black')\n",
    "ax.plot([0.001,10**16], [full_sample_p_1, full_sample_p_1], '-', color='red')\n",
    "ax.set_ylim([0,1])\n",
    "ax.set_xlim([10**11,10**14])\n",
    "ax.set_xscale('log')\n",
    "ax.set_xlabel('host ' + r'$M_{\\rm vir}$')\n",
    "ax.set_ylabel(r'$\\mu$')\n",
    "plt.show()"
   ]
  },
  {
   "cell_type": "code",
   "execution_count": 17,
   "metadata": {},
   "outputs": [
    {
     "name": "stderr",
     "output_type": "stream",
     "text": [
      "<ipython-input-17-c92d1b4602d1>:7: RuntimeWarning: divide by zero encountered in true_divide\n",
      "  ratio = (halocat.halo_table['halo_mvir']/halocat.halo_table['halo_mvir_host_halo'])\n"
     ]
    },
    {
     "data": {
      "image/png": "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\n",
      "text/plain": [
       "<Figure size 237.6x237.6 with 1 Axes>"
      ]
     },
     "metadata": {
      "needs_background": "light"
     },
     "output_type": "display_data"
    }
   ],
   "source": [
    "Nboot = 5\n",
    "\n",
    "# check for mass ratio dependence\n",
    "ratio_bins = np.logspace(-2,0,21)\n",
    "ratio_bins_centers = (ratio_bins[:-1]+ratio_bins[1:])/2.0\n",
    "\n",
    "ratio = (halocat.halo_table['halo_mvir']/halocat.halo_table['halo_mvir_host_halo'])\n",
    "\n",
    "statisic = lambda x: inverse_alignment_strength(d.fit(x, floc=0, fscale=1)[0])\n",
    "#p, err_p = binned_bootstrap_1d(ratio[mask], costheta_1, ratio_bins, statistic=statisic, Nboot=Nboot)\n",
    "p, err_p = binned_bootstrap_1d(ratio[mask], costheta_1[mask], ratio_bins, statistic=statisic, Nboot=Nboot)\n",
    "        \n",
    "fig, ax = plt.subplots(1,1,figsize=(3.3,3.3))\n",
    "fig.subplots_adjust(left=0.2, right=0.9, bottom=0.2, top=0.9)\n",
    "ax.errorbar(ratio_bins_centers, p, yerr=5*err_p, fmt='o', ms=4, color='black')\n",
    "ax.plot([0.001,2], [full_sample_p_1, full_sample_p_1], '-', color='red')\n",
    "ax.set_ylim([0,1])\n",
    "ax.set_xlim([0.01,1])\n",
    "ax.set_xscale('log')\n",
    "ax.set_xlabel(r'$M_{\\rm sub}/M_{\\rm host}$')\n",
    "ax.set_ylabel(r'$\\mu$')\n",
    "plt.show()"
   ]
  },
  {
   "cell_type": "markdown",
   "metadata": {},
   "source": [
    "# Host Major Axis Alingment"
   ]
  },
  {
   "cell_type": "code",
   "execution_count": 20,
   "metadata": {},
   "outputs": [
    {
     "ename": "ModuleNotFoundError",
     "evalue": "No module named 'intrinsic_alignments.halo_shape_correlations.utils'",
     "output_type": "error",
     "traceback": [
      "\u001b[0;31m---------------------------------------------------------------------------\u001b[0m",
      "\u001b[0;31mModuleNotFoundError\u001b[0m                       Traceback (most recent call last)",
      "\u001b[0;32m<ipython-input-20-46d18bc53dd8>\u001b[0m in \u001b[0;36m<module>\u001b[0;34m\u001b[0m\n\u001b[1;32m      1\u001b[0m \u001b[0;31m# import misalignment angle distribution model\u001b[0m\u001b[0;34m\u001b[0m\u001b[0;34m\u001b[0m\u001b[0;34m\u001b[0m\u001b[0m\n\u001b[1;32m      2\u001b[0m \u001b[0;32mfrom\u001b[0m \u001b[0mintrinsic_alignments\u001b[0m\u001b[0;34m.\u001b[0m\u001b[0mia_models\u001b[0m\u001b[0;34m.\u001b[0m\u001b[0mia_model_components\u001b[0m \u001b[0;32mimport\u001b[0m \u001b[0mDimrothWatson\u001b[0m\u001b[0;34m,\u001b[0m \u001b[0minverse_alignment_strength\u001b[0m\u001b[0;34m\u001b[0m\u001b[0;34m\u001b[0m\u001b[0m\n\u001b[0;32m----> 3\u001b[0;31m \u001b[0;32mfrom\u001b[0m \u001b[0mintrinsic_alignments\u001b[0m\u001b[0;34m.\u001b[0m\u001b[0mhalo_shape_correlations\u001b[0m\u001b[0;34m.\u001b[0m\u001b[0mutils\u001b[0m \u001b[0;32mimport\u001b[0m \u001b[0mempirical_cdf\u001b[0m\u001b[0;34m,\u001b[0m \u001b[0mbinned_bootstrap_1d\u001b[0m\u001b[0;34m\u001b[0m\u001b[0;34m\u001b[0m\u001b[0m\n\u001b[0m\u001b[1;32m      4\u001b[0m \u001b[0;34m\u001b[0m\u001b[0m\n\u001b[1;32m      5\u001b[0m \u001b[0md\u001b[0m \u001b[0;34m=\u001b[0m \u001b[0mDimrothWatson\u001b[0m\u001b[0;34m(\u001b[0m\u001b[0;34m)\u001b[0m\u001b[0;34m\u001b[0m\u001b[0;34m\u001b[0m\u001b[0m\n",
      "\u001b[0;31mModuleNotFoundError\u001b[0m: No module named 'intrinsic_alignments.halo_shape_correlations.utils'"
     ]
    }
   ],
   "source": [
    "# import misalignment angle distribution model\n",
    "from intrinsic_alignments.ia_models.ia_model_components import DimrothWatson, inverse_alignment_strength\n",
    "from intrinsic_alignments.halo_shape_correlations.utils import empirical_cdf, binned_bootstrap_1d\n",
    "\n",
    "d = DimrothWatson()\n",
    "\n",
    "# define bins\n",
    "costheta_bins = np.linspace(-1,1,21)\n",
    "mask = np.isfinite(theta_ma_2) & subs\n",
    "\n",
    "# calculate differential probability distribution\n",
    "costheta_2 = np.fabs(np.cos(theta_ma_2[mask]))\n",
    "uran = np.random.random(len(costheta_2))\n",
    "costheta_2[uran < 0.5] = -1.0*costheta_2[uran < 0.5] # symmeterize\n",
    "counts_2 = np.histogram(costheta_2, bins=costheta_bins)[0]\n",
    "counts_2 = 1.0*counts_2/np.sum(counts_2)/np.diff(costheta_bins)\n",
    "\n",
    "# fit for shape parameter\n",
    "k_2 = d.fit(np.cos(theta_ma_2[mask]), floc=0, fscale=1)[0]\n",
    "full_sample_p_2 = inverse_alignment_strength(k_2)\n",
    "p = inverse_alignment_strenth(k_2)[0]\n",
    "\n",
    "# plot results\n",
    "x = np.linspace(-1,1,1000)\n",
    "fig, axes = plt.subplots(1,2,figsize=(6.3,3.3))\n",
    "fig.subplots_adjust(left=0.1, right=0.95, bottom=0.2, top=0.9, wspace=0.3)\n",
    "\n",
    "# differential probability distribution\n",
    "ax = axes[0]\n",
    "ax.step(costheta_bins[1:], counts_2, '-', color='black')\n",
    "ax.plot(x, d.pdf(x, k=k_2), '-', color='red')\n",
    "ax.set_ylim([0,1.5])\n",
    "ax.set_xlim([-1,1])\n",
    "ax.set_xlabel(r'$\\cos(\\theta_{MA})$')\n",
    "ax.set_ylabel(r'$\\mathrm{d}P/\\mathrm{d}\\cos(\\theta_{MA})$')\n",
    "ax.text(-0.75, 1.3, r'$\\mu=$'+'{:.2f}'.format(p))\n",
    "\n",
    "# cumulative distribution\n",
    "cdf = empirical_cdf(costheta_2, bins=costheta_bins)[0]\n",
    "\n",
    "ax=axes[1]\n",
    "p1, = ax.step(costheta_bins, cdf, color='black')\n",
    "p2, = ax.step(x, d.cdf(x, k=k_2), '-', color='red')\n",
    "ax.set_ylim([0,1])\n",
    "ax.set_xlim([-1,1])\n",
    "ax.set_xlabel(r'$\\cos(\\theta_{MA})$')\n",
    "ax.set_ylabel(r'$F[\\cos(\\theta_{MA})]$')\n",
    "\n",
    "ax.legend([p1,p2],['Bolshoi','Model'], loc='upper left', frameon=False, fontsize=10)\n",
    "\n",
    "plt.show()"
   ]
  },
  {
   "cell_type": "code",
   "execution_count": null,
   "metadata": {},
   "outputs": [],
   "source": [
    "from intrinsic_alignments.halo_shape_correlations.utils import binned_bootstrap_1d\n",
    "\n",
    "Nboot = 5\n",
    "\n",
    "# check for radial dependence \n",
    "rbins = np.logspace(-1.5,0.0,15)\n",
    "rbin_centers = (rbins[:-1]+rbins[1:])/2.0\n",
    "\n",
    "statisic = lambda x: inverse_alignment_strenth(d.fit(x, floc=0, fscale=1)[0])\n",
    "p, err_p = binned_bootstrap_1d(scaled_radius[mask], costheta_2, rbins,\n",
    "                               statistic=statisic, Nboot=Nboot)\n",
    "\n",
    "\n",
    "fig, ax = plt.subplots(1,1,figsize=(3.3,3.3))\n",
    "fig.subplots_adjust(left=0.2, right=0.9, bottom=0.2, top=0.9)\n",
    "ax.errorbar(rbin_centers, p, yerr=5*err_p, fmt='o', ms=4, color='black')\n",
    "ax.plot([0.001,2], [full_sample_p_2, full_sample_p_2], '-', color='red')\n",
    "ax.set_ylim([0,1])\n",
    "ax.set_xscale('log')\n",
    "ax.set_xlim(0.03,1.1)\n",
    "ax.set_xlabel(r'$r/r_{\\rm vir}$')\n",
    "ax.set_ylabel(r'$\\mu$')\n",
    "plt.show()"
   ]
  },
  {
   "cell_type": "code",
   "execution_count": null,
   "metadata": {},
   "outputs": [],
   "source": [
    "Nboot = 5\n",
    "\n",
    "# check for host mass dependence\n",
    "mbins = np.logspace(11,15,20)\n",
    "mbins_centers = (mbins[:-1]+mbins[1:])/2.0\n",
    "\n",
    "statisic = lambda x: inverse_alignment_strenth(d.fit(x, floc=0, fscale=1)[0])\n",
    "p, err_p = binned_bootstrap_1d(halocat.halo_table['halo_mvir_host_halo'][mask],\n",
    "                               costheta_2, mbins, statistic=statisic, Nboot=5)\n",
    "        \n",
    "fig, ax = plt.subplots(1,1,figsize=(3.3,3.3))\n",
    "fig.subplots_adjust(left=0.2, right=0.9, bottom=0.2, top=0.9)\n",
    "ax.errorbar(mbins_centers, p, yerr=5*err_p, fmt='o', ms=4, color='black')\n",
    "ax.plot([0.001,10**16], [full_sample_p_2, full_sample_p_2], '-', color='red')\n",
    "ax.set_ylim([0,1])\n",
    "ax.set_xlim([10**11,10**14])\n",
    "ax.set_xscale('log')\n",
    "ax.set_xlabel('host ' + r'$M_{\\rm vir}$')\n",
    "ax.set_ylabel(r'$\\mu$')\n",
    "plt.show()"
   ]
  },
  {
   "cell_type": "code",
   "execution_count": null,
   "metadata": {},
   "outputs": [],
   "source": [
    "Nboot = 5\n",
    "\n",
    "# check for mass ratio dependence\n",
    "ratio_bins = np.logspace(-2,0,21)\n",
    "ratio_bins_centers = (ratio_bins[:-1]+ratio_bins[1:])/2.0\n",
    "\n",
    "ratio = (halocat.halo_table['halo_mvir']/halocat.halo_table['halo_mvir_host_halo'])\n",
    "\n",
    "statisic = lambda x: inverse_alignment_strenth(d.fit(x, floc=0, fscale=1)[0])\n",
    "p, err_p = binned_bootstrap_1d(ratio[mask], costheta_2, ratio_bins, statistic=statisic, Nboot=Nboot)\n",
    "        \n",
    "fig, ax = plt.subplots(1,1,figsize=(3.3,3.3))\n",
    "fig.subplots_adjust(left=0.2, right=0.9, bottom=0.2, top=0.9)\n",
    "ax.errorbar(ratio_bins_centers, p, yerr=5*err_p, fmt='o', ms=4, color='black')\n",
    "ax.plot([0.001,2], [full_sample_p_2, full_sample_p_2], '-', color='red')\n",
    "ax.set_ylim([0,1])\n",
    "ax.set_xlim([0.01,1])\n",
    "ax.set_xscale('log')\n",
    "ax.set_xlabel(r'$M_{\\rm sub}/M_{\\rm host}$')\n",
    "ax.set_ylabel(r'$\\mu$')\n",
    "plt.show()"
   ]
  },
  {
   "cell_type": "markdown",
   "metadata": {},
   "source": [
    "## check for more trends"
   ]
  },
  {
   "cell_type": "code",
   "execution_count": null,
   "metadata": {},
   "outputs": [],
   "source": [
    "# check for sub mass dependence\n",
    "mbins = np.logspace(10,14,20)\n",
    "mbins_centers = (mbins[:-1]+mbins[1:])/2.0\n",
    "inds = np.digitize(halocat.halo_table['halo_mvir'], bins=mbins)\n",
    "Nboot=20\n",
    "k = np.zeros((len(mbins)-1,Nboot))\n",
    "for i in range(0,len(mbins)-1):\n",
    "    mask = (inds==i) & np.isfinite(theta_ma)\n",
    "    x = np.cos(theta_ma[mask])\n",
    "    for j in range(0,Nboot):\n",
    "        xx = np.random.choice(x, size=len(x), replace=True)\n",
    "        k[i,j] = d.fit(xx, floc=0, fscale=1)[0]"
   ]
  },
  {
   "cell_type": "code",
   "execution_count": null,
   "metadata": {},
   "outputs": [],
   "source": [
    "p = np.mean(inverse_alignment_strenth(k), axis=-1)\n",
    "err_p = np.std(inverse_alignment_strenth(k), axis=-1)\n",
    "\n",
    "fig, ax = plt.subplots(figsize=(3.3,3.3))\n",
    "fig.subplots_adjust(left=0.2, right=0.9, bottom=0.2, top=0.9)\n",
    "plt.errorbar(mbins_centers, p, yerr=5*err_p, fmt='o', ms=4, color='black')\n",
    "plt.plot([0.001,10**16], [full_sample_p, full_sample_p], '-', color='red')\n",
    "plt.ylim([0,1])\n",
    "plt.xlim([10**10,10**14])\n",
    "plt.xscale('log')\n",
    "plt.xlabel(r'$M_{\\rm vir}$')\n",
    "plt.ylabel(r'$\\mu$')\n",
    "plt.show()"
   ]
  },
  {
   "cell_type": "code",
   "execution_count": null,
   "metadata": {},
   "outputs": [],
   "source": [
    "# check for sub-halo ellipticity\n",
    "\n",
    "q = halocat.halo_table['halo_b_to_a']\n",
    "s = halocat.halo_table['halo_c_to_a']\n",
    "e = (1.0-q)/(1.0+q)\n",
    "\n",
    "ebins = np.logspace(-2,0.0,20)\n",
    "ebins_centers = (ebins[:-1]+ebins[1:])/2.0\n",
    "inds = np.digitize(e, bins=ebins)\n",
    "Nboot=5\n",
    "k = np.zeros((len(ebins)-1,Nboot))\n",
    "for i in range(0,len(ebins)-1):\n",
    "    mask = (inds==i) & np.isfinite(theta_ma)\n",
    "    x = np.cos(theta_ma[mask])\n",
    "    for j in range(0,Nboot):\n",
    "        xx = np.random.choice(x, size=len(x), replace=True)\n",
    "        k[i,j] = d.fit(xx, floc=0, fscale=1)[0]"
   ]
  },
  {
   "cell_type": "code",
   "execution_count": null,
   "metadata": {},
   "outputs": [],
   "source": [
    "p = np.mean(inverse_alignment_strenth(k), axis=-1)\n",
    "err_p = np.std(inverse_alignment_strenth(k), axis=-1)\n",
    "\n",
    "fig, ax = plt.subplots(figsize=(3.3,3.3))\n",
    "fig.subplots_adjust(left=0.2, right=0.9, bottom=0.2, top=0.9)\n",
    "plt.errorbar(ebins_centers, p, yerr=5*err_p, fmt='o', ms=4, color='black')\n",
    "plt.plot([0.001,10**16], [full_sample_p, full_sample_p], '-', color='red')\n",
    "plt.ylim([0,1])\n",
    "plt.xlim([0.01,1.1])\n",
    "plt.xscale('log')\n",
    "plt.xlabel('$e$')\n",
    "plt.ylabel(r'$\\mu$')\n",
    "plt.show()"
   ]
  },
  {
   "cell_type": "markdown",
   "metadata": {},
   "source": [
    "## fit for hybrid model alignment"
   ]
  },
  {
   "cell_type": "code",
   "execution_count": null,
   "metadata": {},
   "outputs": [],
   "source": [
    "from halotools.utils import vectors_between_list_of_vectors\n",
    "\n",
    "def hybrid_alignment_vector(v1, v2, ratio=0.5):\n",
    "    \"\"\"\n",
    "    return the hybrid alignment model alignment vectors\n",
    "    \"\"\"\n",
    "    \n",
    "    Ngal = np.shape(v1)[0]\n",
    "    \n",
    "    a = np.ones(Ngal)*ratio\n",
    "\n",
    "    v1 = normalized_vectors(v1)\n",
    "    v2 = normalized_vectors(v2)\n",
    "\n",
    "    v3_a = normalized_vectors(vectors_between_list_of_vectors(v1, v2, a))\n",
    "    v3_b = normalized_vectors(vectors_between_list_of_vectors(-1.0*v1, v2, a))\n",
    "    \n",
    "    return v3_a, v3_b\n",
    "\n",
    "N = len(halocat.halo_table)\n",
    "fs = np.linspace(0,1.0,21)\n",
    "v1 = np.zeros((len(fs), N, 3))\n",
    "v2 = np.zeros((len(fs), N, 3))\n",
    "for i,f in enumerate(fs):\n",
    "    v1[i,:,:], v2[i,:,:] = hybrid_alignment_vector(r, host_major_axis, fs[i])"
   ]
  },
  {
   "cell_type": "code",
   "execution_count": null,
   "metadata": {},
   "outputs": [],
   "source": [
    "costheta_1 = np.zeros((len(fs), N))\n",
    "costheta_2 = np.zeros((len(fs), N))\n",
    "for i in range(0,len(fs)):\n",
    "    costheta_1[i,:] = np.cos(angles_between_list_of_vectors(v1[i,:,:], major_axis))\n",
    "    costheta_2[i,:] = np.cos(angles_between_list_of_vectors(v2[i,:,:], major_axis))"
   ]
  },
  {
   "cell_type": "code",
   "execution_count": null,
   "metadata": {},
   "outputs": [],
   "source": [
    "from intrinsic_alignments.ia_models.ia_model_components import inverse_alignment_strenth, alignment_strenth, watson_mixture_membership, watson_mixture_liklihood\n",
    "\n",
    "rbins = np.logspace(-1.5,0.0,15)\n",
    "rbin_centers = (rbins[:-1]+rbins[1:])/2.0\n",
    "inds = np.digitize(scaled_radius, bins=rbins)\n",
    "\n",
    "p = np.zeros((len(fs), len(rbins)-1))\n",
    "log_l = np.zeros((len(fs), len(rbins)-1))\n",
    "for j in range(0, len(fs)):\n",
    "    for i in range(0, len(rbins)-1):\n",
    "        mask = (inds==i+1) & (subs)\n",
    "        costhetas = np.nan_to_num(np.vstack((costheta_1[j, mask], costheta_2[j, mask])).T)\n",
    "        p[j,i] = fit_watson_mixture_model(costhetas, verbose=False, max_iter=10)\n",
    "        k = inverse_alignment_strenth(p[j,i])\n",
    "        f = watson_mixture_membership(costhetas, p[j,i])\n",
    "        log_l[j,i] = watson_mixture_liklihood(costhetas, f, k)/np.sum(mask)"
   ]
  },
  {
   "cell_type": "code",
   "execution_count": null,
   "metadata": {},
   "outputs": [],
   "source": [
    "plt.imshow(p, vmin=0, vmax=1)\n",
    "plt.colorbar()\n",
    "plt.show()\n",
    "\n",
    "plt.imshow(log_l)\n",
    "plt.colorbar()\n",
    "plt.show()"
   ]
  },
  {
   "cell_type": "code",
   "execution_count": null,
   "metadata": {},
   "outputs": [],
   "source": [
    "inds = np.argmax(p,axis=0)\n",
    "max_ps = np.zeros(len(rbins)-1)\n",
    "for i in range(0, len(rbins)-1):\n",
    "    max_ps[i] = p[inds[i],i]\n",
    "\n",
    "plt.figure()\n",
    "plt.scatter(rbin_centers, fs[inds], c=max_ps, vmin=0, vmax=1.0)\n",
    "plt.plot(x, power_law(x, 0.25, -0.3))\n",
    "plt.colorbar()\n",
    "plt.xscale('log')\n",
    "plt.ylim([0.1,1])\n",
    "plt.show()\n",
    "\n",
    "x = np.logspace(-2,0,100)\n",
    "plt.figure()\n",
    "plt.scatter(rbin_centers, max_ps, c=fs[inds], vmin=0, vmax=1.0)\n",
    "plt.plot(x, power_law(x, 0.75, -0.05))\n",
    "plt.colorbar()\n",
    "plt.xscale('log')\n",
    "plt.ylim([0.1,1])\n",
    "plt.show()"
   ]
  },
  {
   "cell_type": "code",
   "execution_count": null,
   "metadata": {},
   "outputs": [],
   "source": [
    "def power_law(x, a, alpha):\n",
    "    return a*x**alpha"
   ]
  },
  {
   "cell_type": "markdown",
   "metadata": {},
   "source": [
    "## consider two vvector alignemnts\n"
   ]
  },
  {
   "cell_type": "code",
   "execution_count": null,
   "metadata": {},
   "outputs": [],
   "source": [
    "from intrinsic_alignments.ia_models.ia_model_components import DimrothWatson, inverse_alignment_strenth, alignment_strenth, axes_correlated_with_input_vector\n",
    "from halotools.utils import angles_between_list_of_vectors"
   ]
  },
  {
   "cell_type": "code",
   "execution_count": null,
   "metadata": {},
   "outputs": [],
   "source": [
    "N = 10000\n",
    "\n",
    "input_vectors = np.zeros((N,3))\n",
    "ran = np.random.random(N)\n",
    "xaxis = np.zeros((N,3))\n",
    "xaxis[:,0]=1.0\n",
    "yaxis = np.zeros((N,3))\n",
    "yaxis[:,1]=1.0\n",
    "input_vectors[ran<0.5,0] = 1.0\n",
    "input_vectors[ran>=0.5,1] = 1.0\n",
    "ps = np.ones(N)*0.6\n",
    "output_vectors = axes_correlated_with_input_vector(input_vectors, p=ps)\n",
    "membership = (ran<0.5)"
   ]
  },
  {
   "cell_type": "code",
   "execution_count": null,
   "metadata": {},
   "outputs": [],
   "source": [
    "theta = angles_between_list_of_vectors(output_vectors, xaxis)\n",
    "x = np.cos(theta)"
   ]
  },
  {
   "cell_type": "code",
   "execution_count": null,
   "metadata": {},
   "outputs": [],
   "source": [
    "costheta_bins = np.linspace(-1,1,21)\n",
    "\n",
    "counts = np.histogram(x, bins=costheta_bins)[0]\n",
    "counts = 1.0*counts/np.sum(counts)/np.diff(costheta_bins)\n",
    "\n",
    "counts1 = np.histogram(x[membership==True], bins=costheta_bins)[0]\n",
    "counts1 = 1.0*counts1/np.sum(counts1)/np.diff(costheta_bins)\n",
    "\n",
    "counts2 = np.histogram(x[membership==False], bins=costheta_bins)[0]\n",
    "counts2 = 1.0*counts2/np.sum(counts2)/np.diff(costheta_bins)\n",
    "\n",
    "d = DimrothWatson()\n",
    "\n",
    "xx = np.linspace(-1,1,1000)\n",
    "fig, ax = plt.subplots(1,1, figsize=(3.3,3.3))\n",
    "fig.subplots_adjust(left=0.2, right=0.9, bottom=0.2, top=0.9, wspace=0.3)\n",
    "ax.step(costheta_bins[1:], counts, '-', color='black')\n",
    "ax.step(costheta_bins[1:], counts1, '-', color='grey')\n",
    "ax.step(costheta_bins[1:], counts2, '-', color='grey')\n",
    "ax.step(xx, d.pdf(xx, k=alignment_strenth(ps[0])), '-', color='red')\n",
    "ax.set_ylim([0,1.5])\n",
    "ax.set_xlim([-1,1])\n",
    "ax.set_xlabel(r'$\\cos(2\\theta_{MA})$')\n",
    "ax.set_ylabel(r'$\\mathrm{d}P/\\mathrm{d}\\cos(\\theta_{MA})$')\n",
    "\n",
    "plt.show()"
   ]
  },
  {
   "cell_type": "code",
   "execution_count": null,
   "metadata": {},
   "outputs": [],
   "source": [
    "from intrinsic_alignments.ia_models.ia_model_components import fit_watson_mixture_model\n",
    "\n",
    "x1 = np.cos(angles_between_list_of_vectors(output_vectors, xaxis))\n",
    "x2 = np.cos(angles_between_list_of_vectors(output_vectors, yaxis))\n",
    "\n",
    "x = np.vstack((x1, x2)).T\n",
    "\n",
    "p = fit_watson_mixture_model(x, verbose=True)\n",
    "print(p)"
   ]
  },
  {
   "cell_type": "code",
   "execution_count": null,
   "metadata": {
    "tags": []
   },
   "outputs": [],
   "source": []
  }
 ],
 "metadata": {
  "kernelspec": {
   "display_name": "Python 3",
   "language": "python",
   "name": "python3"
  },
  "language_info": {
   "codemirror_mode": {
    "name": "ipython",
    "version": 3
   },
   "file_extension": ".py",
   "mimetype": "text/x-python",
   "name": "python",
   "nbconvert_exporter": "python",
   "pygments_lexer": "ipython3",
<<<<<<< HEAD
   "version": "3.8.5"
=======
   "version": "3.8.1"
>>>>>>> 93f93b9c992f6cbc5a5b3442873cc731fb57ae01
  }
 },
 "nbformat": 4,
 "nbformat_minor": 4
}
