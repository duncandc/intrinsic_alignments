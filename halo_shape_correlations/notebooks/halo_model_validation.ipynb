{
 "cells": [
  {
   "cell_type": "code",
   "execution_count": 1,
   "metadata": {},
   "outputs": [],
   "source": [
    "from __future__ import print_function, division\n",
    "import numpy as np\n",
    "import matplotlib.pyplot as plt\n",
    "%matplotlib inline"
   ]
  },
  {
   "cell_type": "markdown",
   "metadata": {},
   "source": [
    "# Validate Halo Model Calulations"
   ]
  },
  {
   "cell_type": "code",
   "execution_count": 2,
   "metadata": {},
   "outputs": [],
   "source": [
    "# load a test halo catalog\n",
    "\n",
    "from halotools.sim_manager import CachedHaloCatalog\n",
    "halocat = CachedHaloCatalog(simname='bolshoi', halo_finder='rockstar', redshift=0.0, dz_tol=0.001, version_name='halotools_v0p4')"
   ]
  },
  {
   "cell_type": "markdown",
   "metadata": {},
   "source": [
    "## Calulate Orientation Correlation Functions"
   ]
  },
  {
   "cell_type": "code",
   "execution_count": 4,
   "metadata": {},
   "outputs": [],
   "source": [
    "#from halotools.mock_observables.alignments import ed_3d, ee_3d, ee_3d_one_two_halo_decomp, ed_3d_one_two_halo_decomp\n",
    "from halotools_ia.correlation_functions import ed_3d, ee_3d, ee_3d_one_two_halo_decomp, ed_3d_one_two_halo_decomp\n",
    "\n",
    "rbins = np.logspace(-1,1.4,20)\n",
    "rbin_centers = (rbins[:-1]+rbins[1:])/2.0"
   ]
  },
  {
   "cell_type": "code",
   "execution_count": 5,
   "metadata": {},
   "outputs": [],
   "source": [
    "# empirical halo and sub-halo correlations\n",
    "\n",
    "halo_coords = np.vstack((halocat.halo_table['halo_x'],\n",
    "                         halocat.halo_table['halo_y'],\n",
    "                         halocat.halo_table['halo_z'])).T\n",
    "\n",
    "halo_orientations = np.vstack((halocat.halo_table['halo_axisA_x'],\n",
    "                               halocat.halo_table['halo_axisA_y'],\n",
    "                               halocat.halo_table['halo_axisA_z'])).T\n",
    "\n",
    "# define host and sub-halo samples\n",
    "hosts = halocat.halo_table['halo_upid']==-1\n",
    "subs = halocat.halo_table['halo_upid']!=-1\n",
    "\n",
    "# define host halo IDs\n",
    "host_ids = halocat.halo_table['halo_hostid']\n",
    "\n",
    "# define halo sub-samples\n",
    "halo_sample_mask = (halocat.halo_table['halo_mpeak']>10**12.0)"
   ]
  },
  {
   "cell_type": "code",
   "execution_count": 6,
   "metadata": {},
   "outputs": [],
   "source": [
    "# calculate ED correaltion functions\n",
    "halo_omega_1h, halo_omega_2h = ed_3d_one_two_halo_decomp(halo_coords[halo_sample_mask], halo_orientations[halo_sample_mask],\n",
    "                                                         host_ids[halo_sample_mask],\n",
    "                                                         halo_coords[halo_sample_mask], host_ids[halo_sample_mask],\n",
    "                                                         rbins, period=halocat.Lbox, num_threads=4)\n",
    "\n",
    "halo_omega = halo_omega_1h + halo_omega_2h"
   ]
  },
  {
   "cell_type": "code",
   "execution_count": 7,
   "metadata": {},
   "outputs": [
    {
     "data": {
      "image/png": "[encoded data removed]",
      "text/plain": [
       "<Figure size 237.6x237.6 with 1 Axes>"
      ]
     },
     "metadata": {
      "needs_background": "light"
     },
     "output_type": "display_data"
    }
   ],
   "source": [
    "fig, ax = plt.subplots(figsize=(3.3,3.3))\n",
    "fig.subplots_adjust(left=0.2, right=0.9, bottom=0.2, top=0.9)\n",
    "l1, = plt.plot(rbin_centers, halo_omega, '-', color='black')\n",
    "l2, = plt.plot(rbin_centers, halo_omega_1h, '--', color='black')\n",
    "l3, = plt.plot(rbin_centers, halo_omega_2h, ':', color='black')\n",
    "plt.xscale('log')\n",
    "plt.yscale('log')\n",
    "plt.xlabel(r'$r~[h^{-1}\\rm Mpc]$')\n",
    "plt.ylabel(r'$\\omega(r)$')\n",
    "plt.ylim([0.005,0.5])\n",
    "plt.legend([l1,l2,l3],['all', '1-halo', '2-halo'],\n",
    "           frameon=False, loc='upper right', fontsize=10, title='Bolshoi')\n",
    "plt.show()"
   ]
  },
  {
   "cell_type": "code",
   "execution_count": 8,
   "metadata": {},
   "outputs": [],
   "source": [
    "# calculate EE correaltion functions\n",
    "halo_eta_1h, halo_eta_2h = ee_3d_one_two_halo_decomp(halo_coords[halo_sample_mask], halo_orientations[halo_sample_mask],\n",
    "                                                     host_ids[halo_sample_mask],\n",
    "                                                     halo_coords[halo_sample_mask], halo_orientations[halo_sample_mask],\n",
    "                                                     host_ids[halo_sample_mask],\n",
    "                                                     rbins, period=halocat.Lbox, num_threads=4)\n",
    "\n",
    "halo_eta = halo_eta_1h + halo_eta_2h"
   ]
  },
  {
   "cell_type": "code",
   "execution_count": 9,
   "metadata": {},
   "outputs": [
    {
     "data": {
      "image/png": "[encoded data removed]",
      "text/plain": [
       "<Figure size 237.6x237.6 with 1 Axes>"
      ]
     },
     "metadata": {
      "needs_background": "light"
     },
     "output_type": "display_data"
    }
   ],
   "source": [
    "fig, ax = plt.subplots(figsize=(3.3,3.3))\n",
    "fig.subplots_adjust(left=0.2, right=0.9, bottom=0.2, top=0.9)\n",
    "l1, = plt.plot(rbin_centers, halo_eta, '-', color='black')\n",
    "l2, = plt.plot(rbin_centers, halo_eta_1h, '--', color='black')\n",
    "l3, = plt.plot(rbin_centers, halo_eta_2h, ':', color='black')\n",
    "plt.xscale('log')\n",
    "plt.yscale('log')\n",
    "plt.xlabel(r'$r~[h^{-1}\\rm Mpc]$')\n",
    "plt.ylabel(r'$\\eta(r)$')\n",
    "plt.ylim([0.0005,0.5])\n",
    "plt.legend([l1,l2,l3],['all', '1-halo', '2-halo'],\n",
    "           frameon=False, loc='upper right', fontsize=10, title='Bolshoi')\n",
    "plt.show()"
   ]
  },
  {
   "cell_type": "code",
   "execution_count": 10,
   "metadata": {},
   "outputs": [],
   "source": [
    "from halotools.mock_observables import cuboid_subvolume_labels\n",
    "\n",
    "def jackknife_ee_3d_one_two_halo_decomp(coords_1, orientations_1, host_ids_1,\n",
    "                                        coords_2, orientations_2, host_ids_2,\n",
    "                                        rbins, period, num_threads, Nsub):\n",
    "    \"\"\"\n",
    "    calculate jackknife errors for EE correlation function\n",
    "    \"\"\"\n",
    "    \n",
    "    labels_1 = cuboid_subvolume_labels(coords_1, Nsub, period)[0]\n",
    "    labels_2 = cuboid_subvolume_labels(coords_2, Nsub, period)[0]\n",
    "    \n",
    "    Njack = np.prod(Nsub)\n",
    "    result_1h = np.zeros((Njack, len(rbins)-1))\n",
    "    result_2h = np.zeros((Njack, len(rbins)-1))\n",
    "    for i in range(1,Njack+1):\n",
    "        mask_1 = (labels_1 != i)\n",
    "        mask_2 = (labels_2 != i)\n",
    "        print(i,np.sum(mask_1),np.sum(mask_2))\n",
    "        result_1h[i-1,:], result_2h[i-1,:] = ee_3d_one_two_halo_decomp(coords_1[mask_1], orientations_1[mask_1], host_ids_1[mask_1],\n",
    "                coords_2[mask_2], orientations_2[mask_2], host_ids_2[mask_2],\n",
    "                rbins,  period=period, num_threads=num_threads)\n",
    "    \n",
    "    return result_1h, result_2h\n",
    "\n",
    "def jackknife_ed_3d_one_two_halo_decomp(coords_1, orientations_1, host_ids_1,\n",
    "                                        coords_2, host_ids_2,\n",
    "                                        rbins, period, num_threads, Nsub):\n",
    "    \"\"\"\n",
    "    calculate jackknife errors for EE correlation function\n",
    "    \"\"\"\n",
    "    \n",
    "    labels_1 = cuboid_subvolume_labels(coords_1, Nsub, period)[0]\n",
    "    labels_2 = cuboid_subvolume_labels(coords_2, Nsub, period)[0]\n",
    "    \n",
    "    Njack = np.prod(Nsub)\n",
    "    result_1h = np.zeros((Njack, len(rbins)-1))\n",
    "    result_2h = np.zeros((Njack, len(rbins)-1))\n",
    "    for i in range(1,Njack+1):\n",
    "        mask_1 = (labels_1 != i)\n",
    "        mask_2 = (labels_2 != i)\n",
    "        print(i,np.sum(mask_1),np.sum(mask_2))\n",
    "        result_1h[i-1,:], result_2h[i-1,:] = ed_3d_one_two_halo_decomp(coords_1[mask_1], orientations_1[mask_1], host_ids_1[mask_1],\n",
    "                coords_2[mask_2], host_ids_2[mask_2],\n",
    "                rbins,  period=period, num_threads=num_threads)\n",
    "    \n",
    "    return result_1h, result_2h"
   ]
  },
  {
   "cell_type": "code",
   "execution_count": 11,
   "metadata": {},
   "outputs": [
    {
     "name": "stdout",
     "output_type": "stream",
     "text": [
      "1 68259 68259\n",
      "2 68242 68242\n",
      "3 68880 68880\n",
      "4 68378 68378\n",
      "5 69318 69318\n",
      "6 68304 68304\n",
      "7 68374 68374\n",
      "8 68494 68494\n",
      "9 68147 68147\n",
      "10 68008 68008\n",
      "11 68666 68666\n",
      "12 68304 68304\n",
      "13 69194 69194\n",
      "14 68933 68933\n",
      "15 69209 69209\n",
      "16 68973 68973\n",
      "17 68682 68682\n",
      "18 68671 68671\n",
      "19 68177 68177\n",
      "20 68656 68656\n",
      "21 68319 68319\n",
      "22 68333 68333\n",
      "23 68988 68988\n",
      "24 67078 67078\n",
      "25 68722 68722\n",
      "26 68477 68477\n",
      "27 68686 68686\n"
     ]
    }
   ],
   "source": [
    "result1_ed, result2_ed = jackknife_ed_3d_one_two_halo_decomp(halo_coords[halo_sample_mask], halo_orientations[halo_sample_mask],\n",
    "                                    host_ids[halo_sample_mask],\n",
    "                                    halo_coords[halo_sample_mask],\n",
    "                                    host_ids[halo_sample_mask],\n",
    "                                    rbins, halocat.Lbox, 4, [3,3,3])"
   ]
  },
  {
   "cell_type": "code",
   "execution_count": 12,
   "metadata": {},
   "outputs": [],
   "source": [
    "err_1 = np.sqrt(np.diag(np.cov(result1_ed.T, bias=True))*(27-1.0))\n",
    "err_2 = np.sqrt(np.diag(np.cov(result2_ed.T, bias=True))*(27-1.0))"
   ]
  },
  {
   "cell_type": "code",
   "execution_count": 13,
   "metadata": {},
   "outputs": [
    {
     "data": {
      "image/png": "[encoded data removed]",
      "text/plain": [
       "<Figure size 237.6x237.6 with 1 Axes>"
      ]
     },
     "metadata": {
      "needs_background": "light"
     },
     "output_type": "display_data"
    }
   ],
   "source": [
    "fig, ax = plt.subplots(figsize=(3.3,3.3))\n",
    "fig.subplots_adjust(left=0.2, right=0.9, bottom=0.2, top=0.9)\n",
    "l1, = plt.plot(rbin_centers, halo_omega, '-', color='black')\n",
    "l2 = plt.errorbar(rbin_centers, halo_omega_1h, yerr=err_1, fmt='o', ms=2, color='red')\n",
    "l3 = plt.errorbar(rbin_centers, halo_omega_2h, yerr=err_2, fmt='o', ms=2, color='blue')\n",
    "plt.xscale('log')\n",
    "plt.yscale('log')\n",
    "plt.xlabel(r'$r~[h^{-1}\\rm Mpc]$')\n",
    "plt.ylabel(r'$\\omega(r)$')\n",
    "plt.ylim([0.005,0.5])\n",
    "plt.legend([l1,l2,l3],['all', '1-halo', '2-halo'],\n",
    "           frameon=False, loc='upper right', fontsize=10, title='Bolshoi')\n",
    "plt.show()"
   ]
  },
  {
   "cell_type": "code",
   "execution_count": 14,
   "metadata": {},
   "outputs": [
    {
     "name": "stdout",
     "output_type": "stream",
     "text": [
      "1 68259 68259\n",
      "2 68242 68242\n",
      "3 68880 68880\n",
      "4 68378 68378\n",
      "5 69318 69318\n",
      "6 68304 68304\n",
      "7 68374 68374\n",
      "8 68494 68494\n",
      "9 68147 68147\n",
      "10 68008 68008\n",
      "11 68666 68666\n",
      "12 68304 68304\n",
      "13 69194 69194\n",
      "14 68933 68933\n",
      "15 69209 69209\n",
      "16 68973 68973\n",
      "17 68682 68682\n",
      "18 68671 68671\n",
      "19 68177 68177\n",
      "20 68656 68656\n",
      "21 68319 68319\n",
      "22 68333 68333\n",
      "23 68988 68988\n",
      "24 67078 67078\n",
      "25 68722 68722\n",
      "26 68477 68477\n",
      "27 68686 68686\n"
     ]
    }
   ],
   "source": [
    "result1_ee, result2_ee = jackknife_ee_3d_one_two_halo_decomp(halo_coords[halo_sample_mask], halo_orientations[halo_sample_mask],\n",
    "                                    host_ids[halo_sample_mask],\n",
    "                                    halo_coords[halo_sample_mask], halo_orientations[halo_sample_mask],\n",
    "                                    host_ids[halo_sample_mask],\n",
    "                                    rbins, halocat.Lbox, 4, [3,3,3])"
   ]
  },
  {
   "cell_type": "code",
   "execution_count": 15,
   "metadata": {},
   "outputs": [],
   "source": [
    "err_1 = np.sqrt(np.diag(np.cov(result1_ee.T, bias=True))*(27-1.0))\n",
    "err_2 = np.sqrt(np.diag(np.cov(result2_ee.T, bias=True))*(27-1.0))"
   ]
  },
  {
   "cell_type": "code",
   "execution_count": 16,
   "metadata": {},
   "outputs": [
    {
     "data": {
      "image/png": "[encoded data removed]",
      "text/plain": [
       "<Figure size 237.6x237.6 with 1 Axes>"
      ]
     },
     "metadata": {
      "needs_background": "light"
     },
     "output_type": "display_data"
    }
   ],
   "source": [
    "fig, ax = plt.subplots(figsize=(3.3,3.3))\n",
    "fig.subplots_adjust(left=0.2, right=0.9, bottom=0.2, top=0.9)\n",
    "l1, = plt.plot(rbin_centers, halo_eta, '-', color='black')\n",
    "l2 = plt.errorbar(rbin_centers, halo_eta_1h, yerr=err_1, fmt='o', ms=2, color='red')\n",
    "l3 = plt.errorbar(rbin_centers, halo_eta_2h, yerr=err_2, fmt='o', ms=2, color='blue')\n",
    "plt.xscale('log')\n",
    "plt.yscale('log')\n",
    "plt.xlabel(r'$r~[h^{-1}\\rm Mpc]$')\n",
    "plt.ylabel(r'$\\eta(r)$')\n",
    "plt.ylim([0.0005,0.5])\n",
    "plt.legend([l1,l2,l3],['all', '1-halo', '2-halo'],\n",
    "           frameon=False, loc='upper right', fontsize=10, title='Bolshoi')\n",
    "plt.show()"
   ]
  },
  {
   "cell_type": "code",
   "execution_count": null,
   "metadata": {},
   "outputs": [],
   "source": []
  }
 ],
 "metadata": {
  "kernelspec": {
   "display_name": "Python 3",
   "language": "python",
   "name": "python3"
  },
  "language_info": {
   "codemirror_mode": {
    "name": "ipython",
    "version": 3
   },
   "file_extension": ".py",
   "mimetype": "text/x-python",
   "name": "python",
   "nbconvert_exporter": "python",
   "pygments_lexer": "ipython3",
   "version": "3.8.1"
  }
 },
 "nbformat": 4,
 "nbformat_minor": 2
}
