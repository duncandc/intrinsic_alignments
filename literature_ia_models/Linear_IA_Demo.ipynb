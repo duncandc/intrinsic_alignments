{
 "cells": [
  {
   "cell_type": "code",
   "execution_count": 1,
   "metadata": {},
   "outputs": [],
   "source": [
    "from __future__ import print_function, division\n",
    "import numpy as np\n",
    "import matplotlib.pyplot as plt\n",
    "%matplotlib inline"
   ]
  },
  {
   "cell_type": "code",
   "execution_count": 2,
   "metadata": {},
   "outputs": [],
   "source": [
    "# location to save figures\n",
    "import os\n",
    "cwd = os.getcwd()\n",
    "figure_path = cwd + '/figures/'"
   ]
  },
  {
   "cell_type": "markdown",
   "metadata": {},
   "source": [
    "# (Non)Linear IA Models"
   ]
  },
  {
   "cell_type": "code",
   "execution_count": 3,
   "metadata": {},
   "outputs": [
    {
<<<<<<< HEAD
<<<<<<< HEAD
     "ename": "ImportError",
     "evalue": "cannot import name 'pk2xi' from 'pyfftlog.pyfftlog' (/home/nvanalfen/miniconda3/lib/python3.8/site-packages/pyfftlog/pyfftlog.py)",
     "output_type": "error",
     "traceback": [
      "\u001b[0;31m---------------------------------------------------------------------------\u001b[0m",
      "\u001b[0;31mImportError\u001b[0m                               Traceback (most recent call last)",
      "\u001b[0;32m<ipython-input-3-4956d4d48873>\u001b[0m in \u001b[0;36m<module>\u001b[0;34m\u001b[0m\n\u001b[0;32m----> 1\u001b[0;31m \u001b[0;32mfrom\u001b[0m \u001b[0mintrinsic_alignments\u001b[0m\u001b[0;34m.\u001b[0m\u001b[0mliterature_ia_models\u001b[0m\u001b[0;34m.\u001b[0m\u001b[0mlinear_alignment_models\u001b[0m \u001b[0;32mimport\u001b[0m \u001b[0mLinearAlignmentModel\u001b[0m \u001b[0;32mas\u001b[0m \u001b[0mLA\u001b[0m\u001b[0;34m\u001b[0m\u001b[0;34m\u001b[0m\u001b[0m\n\u001b[0m\u001b[1;32m      2\u001b[0m \u001b[0;32mfrom\u001b[0m \u001b[0mintrinsic_alignments\u001b[0m\u001b[0;34m.\u001b[0m\u001b[0mliterature_ia_models\u001b[0m\u001b[0;34m.\u001b[0m\u001b[0mlinear_alignment_models\u001b[0m \u001b[0;32mimport\u001b[0m \u001b[0mNonLinearAlignmentModel\u001b[0m \u001b[0;32mas\u001b[0m \u001b[0mNLA\u001b[0m\u001b[0;34m\u001b[0m\u001b[0;34m\u001b[0m\u001b[0m\n",
      "\u001b[0;32m~/github_repos/intrinsic_alignments/intrinsic_alignments/literature_ia_models/linear_alignment_models.py\u001b[0m in \u001b[0;36m<module>\u001b[0;34m\u001b[0m\n\u001b[1;32m     11\u001b[0m \u001b[0;32mimport\u001b[0m \u001b[0mnumpy\u001b[0m \u001b[0;32mas\u001b[0m \u001b[0mnp\u001b[0m\u001b[0;34m\u001b[0m\u001b[0;34m\u001b[0m\u001b[0m\n\u001b[1;32m     12\u001b[0m \u001b[0;32mfrom\u001b[0m \u001b[0mscipy\u001b[0m\u001b[0;34m.\u001b[0m\u001b[0minterpolate\u001b[0m \u001b[0;32mimport\u001b[0m \u001b[0minterp1d\u001b[0m\u001b[0;34m\u001b[0m\u001b[0;34m\u001b[0m\u001b[0m\n\u001b[0;32m---> 13\u001b[0;31m \u001b[0;32mfrom\u001b[0m \u001b[0mpyfftlog\u001b[0m\u001b[0;34m.\u001b[0m\u001b[0mpyfftlog\u001b[0m \u001b[0;32mimport\u001b[0m \u001b[0mpk2xi\u001b[0m\u001b[0;34m,\u001b[0m \u001b[0mcall_transform\u001b[0m\u001b[0;34m\u001b[0m\u001b[0;34m\u001b[0m\u001b[0m\n\u001b[0m\u001b[1;32m     14\u001b[0m \u001b[0;32mimport\u001b[0m \u001b[0mscipy\u001b[0m\u001b[0;34m.\u001b[0m\u001b[0mintegrate\u001b[0m \u001b[0;32mas\u001b[0m \u001b[0mintegrate\u001b[0m\u001b[0;34m\u001b[0m\u001b[0;34m\u001b[0m\u001b[0m\n\u001b[1;32m     15\u001b[0m \u001b[0;32mfrom\u001b[0m \u001b[0mintrinsic_alignments\u001b[0m\u001b[0;34m.\u001b[0m\u001b[0mia_models\u001b[0m\u001b[0;34m.\u001b[0m\u001b[0mcosmo_utils\u001b[0m \u001b[0;32mimport\u001b[0m \u001b[0mlinear_growth_factor\u001b[0m\u001b[0;34m,\u001b[0m \u001b[0mmean_density\u001b[0m\u001b[0;34m,\u001b[0m \u001b[0mlinear_power_spectrum\u001b[0m\u001b[0;34m,\u001b[0m \u001b[0mnonlinear_power_spectrum\u001b[0m\u001b[0;34m\u001b[0m\u001b[0;34m\u001b[0m\u001b[0m\n",
      "\u001b[0;31mImportError\u001b[0m: cannot import name 'pk2xi' from 'pyfftlog.pyfftlog' (/home/nvanalfen/miniconda3/lib/python3.8/site-packages/pyfftlog/pyfftlog.py)"
=======
=======
>>>>>>> 93f93b9c992f6cbc5a5b3442873cc731fb57ae01
     "ename": "ModuleNotFoundError",
     "evalue": "No module named 'camb'",
     "output_type": "error",
     "traceback": [
      "\u001b[1;31m----------------------------------------------------------------------\u001b[0m",
      "\u001b[1;31mModuleNotFoundError\u001b[0m                  Traceback (most recent call last)",
      "\u001b[1;32m<ipython-input-3-4956d4d48873>\u001b[0m in \u001b[0;36m<module>\u001b[1;34m\u001b[0m\n\u001b[1;32m----> 1\u001b[1;33m \u001b[1;32mfrom\u001b[0m \u001b[0mintrinsic_alignments\u001b[0m\u001b[1;33m.\u001b[0m\u001b[0mliterature_ia_models\u001b[0m\u001b[1;33m.\u001b[0m\u001b[0mlinear_alignment_models\u001b[0m \u001b[1;32mimport\u001b[0m \u001b[0mLinearAlignmentModel\u001b[0m \u001b[1;32mas\u001b[0m \u001b[0mLA\u001b[0m\u001b[1;33m\u001b[0m\u001b[1;33m\u001b[0m\u001b[0m\n\u001b[0m\u001b[0;32m      2\u001b[0m \u001b[1;32mfrom\u001b[0m \u001b[0mintrinsic_alignments\u001b[0m\u001b[1;33m.\u001b[0m\u001b[0mliterature_ia_models\u001b[0m\u001b[1;33m.\u001b[0m\u001b[0mlinear_alignment_models\u001b[0m \u001b[1;32mimport\u001b[0m \u001b[0mNonLinearAlignmentModel\u001b[0m \u001b[1;32mas\u001b[0m \u001b[0mNLA\u001b[0m\u001b[1;33m\u001b[0m\u001b[1;33m\u001b[0m\u001b[0m\n",
      "\u001b[1;32mc:\\users\\nvana\\appdata\\local\\programs\\python\\python38-32\\lib\\site-packages\\intrinsic_alignments\\literature_ia_models\\linear_alignment_models.py\u001b[0m in \u001b[0;36m<module>\u001b[1;34m\u001b[0m\n\u001b[0;32m      8\u001b[0m \u001b[1;33m\u001b[0m\u001b[0m\n\u001b[0;32m      9\u001b[0m \u001b[1;32mfrom\u001b[0m \u001b[0m__future__\u001b[0m \u001b[1;32mimport\u001b[0m \u001b[0mabsolute_import\u001b[0m\u001b[1;33m,\u001b[0m \u001b[0mdivision\u001b[0m\u001b[1;33m,\u001b[0m \u001b[0mprint_function\u001b[0m\u001b[1;33m,\u001b[0m \u001b[0municode_literals\u001b[0m\u001b[1;33m\u001b[0m\u001b[1;33m\u001b[0m\u001b[0m\n\u001b[1;32m---> 10\u001b[1;33m \u001b[1;32mimport\u001b[0m \u001b[0mcamb\u001b[0m\u001b[1;33m\u001b[0m\u001b[1;33m\u001b[0m\u001b[0m\n\u001b[0m\u001b[0;32m     11\u001b[0m \u001b[1;32mimport\u001b[0m \u001b[0mnumpy\u001b[0m \u001b[1;32mas\u001b[0m \u001b[0mnp\u001b[0m\u001b[1;33m\u001b[0m\u001b[1;33m\u001b[0m\u001b[0m\n\u001b[0;32m     12\u001b[0m \u001b[1;32mfrom\u001b[0m \u001b[0mscipy\u001b[0m\u001b[1;33m.\u001b[0m\u001b[0minterpolate\u001b[0m \u001b[1;32mimport\u001b[0m \u001b[0minterp1d\u001b[0m\u001b[1;33m\u001b[0m\u001b[1;33m\u001b[0m\u001b[0m\n",
      "\u001b[1;31mModuleNotFoundError\u001b[0m: No module named 'camb'"
<<<<<<< HEAD
>>>>>>> 93f93b9c992f6cbc5a5b3442873cc731fb57ae01
=======
>>>>>>> 93f93b9c992f6cbc5a5b3442873cc731fb57ae01
     ]
    }
   ],
   "source": [
    "from intrinsic_alignments.literature_ia_models.linear_alignment_models import LinearAlignmentModel as LA\n",
    "from intrinsic_alignments.literature_ia_models.linear_alignment_models import NonLinearAlignmentModel as NLA"
   ]
  },
  {
   "cell_type": "markdown",
   "metadata": {},
   "source": [
    "## Power Spectrum"
   ]
  },
  {
   "cell_type": "code",
   "execution_count": null,
   "metadata": {},
   "outputs": [
    {
     "ename": "NameError",
     "evalue": "name 'LA' is not defined",
     "output_type": "error",
     "traceback": [
      "\u001b[0;31m---------------------------------------------------------------------------\u001b[0m",
      "\u001b[0;31mNameError\u001b[0m                                 Traceback (most recent call last)",
      "\u001b[0;32m<ipython-input-4-b4e2bf59792d>\u001b[0m in \u001b[0;36m<module>\u001b[0;34m\u001b[0m\n\u001b[1;32m      1\u001b[0m \u001b[0;31m# instantiate each model\u001b[0m\u001b[0;34m\u001b[0m\u001b[0;34m\u001b[0m\u001b[0;34m\u001b[0m\u001b[0m\n\u001b[1;32m      2\u001b[0m \u001b[0;31m# this takes some time\u001b[0m\u001b[0;34m\u001b[0m\u001b[0;34m\u001b[0m\u001b[0;34m\u001b[0m\u001b[0m\n\u001b[0;32m----> 3\u001b[0;31m \u001b[0mla\u001b[0m \u001b[0;34m=\u001b[0m \u001b[0mLA\u001b[0m\u001b[0;34m(\u001b[0m\u001b[0;34m)\u001b[0m\u001b[0;34m\u001b[0m\u001b[0;34m\u001b[0m\u001b[0m\n\u001b[0m\u001b[1;32m      4\u001b[0m \u001b[0mnla\u001b[0m \u001b[0;34m=\u001b[0m \u001b[0mNLA\u001b[0m\u001b[0;34m(\u001b[0m\u001b[0;34m)\u001b[0m\u001b[0;34m\u001b[0m\u001b[0;34m\u001b[0m\u001b[0m\n",
      "\u001b[0;31mNameError\u001b[0m: name 'LA' is not defined"
     ]
    }
   ],
   "source": [
    "# instantiate each model\n",
    "# this takes some time\n",
    "la = LA() \n",
    "nla = NLA() "
   ]
  },
  {
   "cell_type": "code",
   "execution_count": null,
   "metadata": {},
   "outputs": [],
   "source": [
    "# get tabulated power spectrum from each model\n",
    "k_1, pk_1 = la.power_spectrum\n",
    "k_2, pk_2 = nla.power_spectrum"
   ]
  },
  {
   "cell_type": "code",
   "execution_count": null,
   "metadata": {},
   "outputs": [],
   "source": [
    "# plot the power spectrum for each model\n",
    "fig = plt.figure(figsize=(3.3,3.3))\n",
    "fig.subplots_adjust(left=0.2, right=0.9, bottom=0.2, top=0.9)\n",
    "l1, = plt.plot(k_1, pk_1, '-', color='black')\n",
    "l2, = plt.plot(k_2, pk_2, '--', color='black')\n",
    "plt.yscale('log')\n",
    "plt.xscale('log')\n",
    "plt.ylim([100,50000])\n",
    "plt.xlim([0.001,4])\n",
    "plt.xlabel(r'$k~[h^{-1}~{\\rm Mpc}^{-1}]$')\n",
    "plt.ylabel(r'$P(k)$')\n",
    "plt.legend([l1, l2],['linear', 'non-linear'], frameon=False, loc='lower left', fontsize=10)\n",
    "plt.show()\n",
    "\n",
    "filename = 'power_spectrums.pdf'\n",
    "fig.savefig(figure_path+filename, dpi=250)"
   ]
  },
  {
   "cell_type": "markdown",
   "metadata": {},
   "source": [
    "## Ellipticity Correlation Functions"
   ]
  },
  {
   "cell_type": "code",
   "execution_count": null,
   "metadata": {},
   "outputs": [],
   "source": [
    "# define radial bins for correlation functions\n",
    "r = np.logspace(-1,2.2,50)\n",
    "\n",
    "xi_1 = la.ii_plus(r)\n",
    "xi_2 = nla.ii_plus(r)\n",
    "xi_3 = la.ii_cross(r)\n",
    "xi_4 = nla.ii_cross(r)"
   ]
  },
  {
   "cell_type": "code",
   "execution_count": null,
   "metadata": {},
   "outputs": [],
   "source": [
    "fig = plt.figure(figsize=(3.3,3.3))\n",
    "fig.subplots_adjust(left=0.2, right=0.9, bottom=0.2, top=0.9)\n",
    "l1, = plt.plot(r, xi_1, '-', color='black')\n",
    "l2, = plt.plot(r, xi_2, '--', color='black')\n",
    "plt.yscale('log')\n",
    "plt.xscale('log')\n",
    "plt.ylim([10**(-7),10**(-1)])\n",
    "plt.xlim([0.1,100])\n",
    "plt.xlabel(r'$r~[h~{\\rm Mpc}]$')\n",
    "plt.ylabel(r'$\\xi_{++}$')\n",
    "plt.legend([l1, l2],['LA', 'NLA'], frameon=False, loc='upper right', fontsize=10)\n",
    "plt.show()\n",
    "\n",
    "filename = 'nla_and_la_xi_pp.pdf'\n",
    "fig.savefig(figure_path+filename, dpi=250)\n",
    "\n",
    "fig = plt.figure(figsize=(3.3,3.3))\n",
    "fig.subplots_adjust(left=0.2, right=0.9, bottom=0.2, top=0.9)\n",
    "l1, = plt.plot(r, xi_3, '-', color='black')\n",
    "l2, = plt.plot(r, xi_4, '--', color='black')\n",
    "# plot the negative component\n",
    "mask = (xi_3<0.0)\n",
    "l3, = plt.plot(rp[mask], -1.0*xi_3[mask], '-', color='red')\n",
    "mask = (xi_4<0.0)\n",
    "l4, = plt.plot(rp[mask], -1.0*xi_4[mask], '--', color='red')\n",
    "plt.yscale('log')\n",
    "plt.xscale('log')\n",
    "plt.ylim([10**(-8),10**(0)])\n",
    "plt.xlim([0.1,100])\n",
    "plt.xlabel(r'$r~[h~{\\rm Mpc}]$')\n",
    "plt.ylabel(r'$\\xi_{xx}$')\n",
    "plt.legend([l1, l2],['LA', 'NLA'], frameon=False, loc='upper right', fontsize=10)\n",
    "plt.show()\n",
    "\n",
    "filename = 'nla_and_la_xi_cc.pdf'\n",
    "fig.savefig(figure_path+filename, dpi=250)"
   ]
  },
  {
   "cell_type": "code",
   "execution_count": null,
   "metadata": {},
   "outputs": [],
   "source": [
    "# define projected radial bins for correlation functions\n",
    "rp = np.logspace(-1,2.2,50)\n",
    "\n",
    "xi_6 = la.ii_plus_projected(r)\n",
    "xi_7 = nla.ii_plus_projected(r)\n",
    "xi_8 = la.ii_cross_projected(r)\n",
    "xi_9 = nla.ii_cross_projected(r)"
   ]
  },
  {
   "cell_type": "code",
   "execution_count": null,
   "metadata": {},
   "outputs": [],
   "source": [
    "fig = plt.figure(figsize=(3.3,3.3))\n",
    "fig.subplots_adjust(left=0.2, right=0.9, bottom=0.2, top=0.9)\n",
    "l1, = plt.plot(rp, xi_6, '-', color='black')\n",
    "l2, = plt.plot(rp, xi_7, '--', color='black')\n",
    "plt.yscale('log')\n",
    "plt.xscale('log')\n",
    "plt.ylim([10**(-6),10**(-2)])\n",
    "plt.xlim([0.1,100])\n",
    "plt.xlabel(r'$r_p~[h^{-1}{\\rm Mpc}]$')\n",
    "plt.ylabel(r'$w_{++}~[h^{-1}{\\rm Mpc}]$')\n",
    "plt.legend([l1, l2],['LA', 'NLA'], frameon=False, loc='upper right', fontsize=10)\n",
    "plt.show()\n",
    "\n",
    "filename = 'nla_and_la_w_pp.pdf'\n",
    "fig.savefig(figure_path+filename, dpi=250)\n",
    "\n",
    "fig = plt.figure(figsize=(3.3,3.3))\n",
    "fig.subplots_adjust(left=0.2, right=0.9, bottom=0.2, top=0.9)\n",
    "l1, = plt.plot(rp, xi_8, '-', color='black')\n",
    "l2, = plt.plot(rp, xi_9, '--', color='black')\n",
    "# plot the negative component\n",
    "mask = (xi_8<0.0)\n",
    "l3, = plt.plot(rp[mask], -1.0*xi_8[mask], '-', color='red')\n",
    "mask = (xi_9<0.0)\n",
    "l4, = plt.plot(rp[mask], -1.0*xi_9[mask], '--', color='red')\n",
    "plt.yscale('log')\n",
    "plt.xscale('log')\n",
    "plt.ylim([10**(-6),10**(-2)])\n",
    "plt.xlim([0.1,100])\n",
    "plt.xlabel(r'$r_p~[h^{-1}{\\rm Mpc}]$')\n",
    "plt.ylabel(r'$w_{xx}~[h^{-1}{\\rm Mpc}]$')\n",
    "plt.legend([l1, l2],['LA', 'NLA'], frameon=False, loc='upper right', fontsize=10)\n",
    "plt.show()\n",
    "\n",
    "filename = 'nla_and_la_w_cc.pdf'\n",
    "fig.savefig(figure_path+filename, dpi=250)"
   ]
  },
  {
   "cell_type": "code",
   "execution_count": null,
   "metadata": {},
   "outputs": [],
   "source": []
  }
 ],
 "metadata": {
  "kernelspec": {
   "display_name": "Python 3",
   "language": "python",
   "name": "python3"
  },
  "language_info": {
   "codemirror_mode": {
    "name": "ipython",
    "version": 3
   },
   "file_extension": ".py",
   "mimetype": "text/x-python",
   "name": "python",
   "nbconvert_exporter": "python",
   "pygments_lexer": "ipython3",
<<<<<<< HEAD
<<<<<<< HEAD
   "version": "3.8.5"
=======
   "version": "3.8.1"
>>>>>>> 93f93b9c992f6cbc5a5b3442873cc731fb57ae01
=======
   "version": "3.8.1"
>>>>>>> 93f93b9c992f6cbc5a5b3442873cc731fb57ae01
  }
 },
 "nbformat": 4,
 "nbformat_minor": 4
}
