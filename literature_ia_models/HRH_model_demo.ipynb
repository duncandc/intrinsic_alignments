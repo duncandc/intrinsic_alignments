{
 "cells": [
  {
   "cell_type": "code",
   "execution_count": 1,
   "metadata": {},
   "outputs": [],
   "source": [
    "from __future__ import print_function, division\n",
    "import numpy as np\n",
    "import matplotlib.pyplot as plt\n",
    "%matplotlib inline"
   ]
  },
  {
   "cell_type": "markdown",
   "metadata": {},
   "source": [
    "# HRH Model Demo"
   ]
  },
  {
   "cell_type": "code",
   "execution_count": 28,
   "metadata": {},
   "outputs": [],
   "source": [
    "r_sample = np.logspace(-0.5,1.2,100)"
   ]
  },
  {
   "cell_type": "code",
   "execution_count": 40,
   "metadata": {},
   "outputs": [
    {
     "data": {
      "image/png": "[encoded data removed]",
      "text/plain": [
       "<Figure size 237.6x237.6 with 1 Axes>"
      ]
     },
     "metadata": {
      "needs_background": "light"
     },
     "output_type": "display_data"
    }
   ],
   "source": [
    "# re-create fig 3 in Heymans + (2004)\n",
    "\n",
    "from hrh_model import HRH, HRHstar\n",
    "\n",
    "model_1 = HRH()\n",
    "model_2 = HRHstar()\n",
    "\n",
    "ee_3d_1 = model_1.ee_3d(r_sample)\n",
    "ee_3d_2 = model_2.ee_3d(r_sample)\n",
    "\n",
    "# digitized data from fig 3 in Heymans + (2004)\n",
    "x = np.array([0.61737186, 0.9472843,1.4475815,2.221143,3.3942142,5.1868296,7.926193,12.063035])\n",
    "y = np.array([1.9587629,0.4536082,0.14432989,-0.041237112,-0.185567,0.082474224,0.041237112,0.041237112])*10**-3\n",
    "y_plus = np.array([3.3402061,1.484536,0.8453608,0.4329897,0.10309278,0.26804122,0.14432989,0.041237112])*10**-3\n",
    "yerr = y_plus-y\n",
    "\n",
    "plt.figure(figsize=(3.3,3.3))\n",
    "l1, = plt.plot(r_sample, ee_3d_1, '-', color='black')\n",
    "l2, = plt.plot(r_sample, ee_3d_2, '--', color='black')\n",
    "p1 = plt.errorbar(x,y,yerr=yerr,fmt='o',color='black',ms=4)\n",
    "plt.xscale('log')\n",
    "plt.legend([l1,l2,p1],['HRH','HRH*','Virgo \\n Simulation'],\n",
    "           loc='upper right', fontsize=10, frameon=False)\n",
    "plt.xlabel(r'$r~[h^{-1}{\\rm Mpc}]$')\n",
    "plt.ylabel(r'$\\eta(r)$')\n",
    "plt.show()"
   ]
  }
 ],
 "metadata": {
  "kernelspec": {
   "display_name": "Python 2",
   "language": "python",
   "name": "python2"
  },
  "language_info": {
   "codemirror_mode": {
    "name": "ipython",
    "version": 2
   },
   "file_extension": ".py",
   "mimetype": "text/x-python",
   "name": "python",
   "nbconvert_exporter": "python",
   "pygments_lexer": "ipython2",
   "version": "2.7.15"
  }
 },
 "nbformat": 4,
 "nbformat_minor": 2
}
