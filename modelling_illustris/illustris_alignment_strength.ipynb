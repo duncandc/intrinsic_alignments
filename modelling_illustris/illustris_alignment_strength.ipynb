{
 "cells": [
  {
   "cell_type": "code",
   "execution_count": 1,
   "metadata": {},
   "outputs": [],
   "source": [
    "from __future__ import print_function, division\n",
    "import numpy as np\n",
    "import matplotlib.pyplot as plt\n",
    "from intrinsic_alignments.project_settings import PROJECT_DIRECTORY\n",
    "%matplotlib inline"
   ]
  },
  {
   "cell_type": "markdown",
   "metadata": {},
   "source": [
    "# Illustris Alignment Strength"
   ]
  },
  {
   "cell_type": "code",
   "execution_count": 2,
   "metadata": {},
   "outputs": [],
   "source": [
    "# Load TNMG300 galaxy catalog\n",
    "\n",
    "from Illustris_Shapes.simulation_props import sim_prop_dict\n",
    "\n",
    "simname = 'TNG300-1'\n",
    "snapnum = 99\n",
    "shape_type = 'iterative'\n",
    "\n",
    "d = sim_prop_dict[simname]\n",
    "Lbox = d['Lbox']"
   ]
  },
  {
   "cell_type": "code",
   "execution_count": 3,
   "metadata": {},
   "outputs": [
    {
     "name": "stdout",
     "output_type": "stream",
     "text": [
      "gal_id\n",
      "host_halo_id\n",
      "central_id\n",
      "x\n",
      "y\n",
      "z\n",
      "vx\n",
      "vy\n",
      "vz\n",
      "stellar_mass_in_twice_halfrad\n",
      "stellar_mass_all\n",
      "host_halo_mass_200m\n",
      "host_halo_radius_200m\n",
      "host_halo_fof_mass\n",
      "a\n",
      "b\n",
      "c\n",
      "av_x\n",
      "av_y\n",
      "av_z\n",
      "bv_x\n",
      "bv_y\n",
      "bv_z\n",
      "cv_x\n",
      "cv_y\n",
      "cv_z\n"
     ]
    }
   ],
   "source": [
    "from astropy.table import Table\n",
    "fpath = PROJECT_DIRECTORY + 'data/Illustris/'\n",
    "\n",
    "# load VAGC\n",
    "fname = 'value_added_catalogs/' + simname + '_' + str(snapnum) + '_vagc.dat'\n",
    "vagc_galaxy_table = Table.read(fpath + fname, format='ascii')\n",
    "\n",
    "# load galaxy shape catalog\n",
    "fname = 'shape_catalogs/' + simname + '_' + str(snapnum) + '_' + shape_type + '_galaxy_shapes.dat'\n",
    "galaxy_shape_table = Table.read(fpath + fname, format='ascii')\n",
    "\n",
    "# load halo shape catalog\n",
    "fname = 'shape_catalogs/' + simname + '_' + str(snapnum) + '_' + shape_type + '_halo_shapes.dat'\n",
    "halo_shape_table = Table.read(fpath + fname, format='ascii')\n",
    "\n",
    "# join galaxy shape and vagc tables\n",
    "from astropy.table import join\n",
    "galaxy_table = join(vagc_galaxy_table, galaxy_shape_table)\n",
    "for key in galaxy_table.keys():\n",
    "    print(key)"
   ]
  },
  {
   "cell_type": "code",
   "execution_count": 4,
   "metadata": {},
   "outputs": [],
   "source": [
    "# add halo properties\n",
    "from halotools.utils import crossmatch\n",
    "idx, idy = crossmatch(galaxy_table['gal_id'],halo_shape_table['halo_id'])\n",
    "\n",
    "galaxy_table['halo_a'] = -1.0\n",
    "galaxy_table['halo_b'] = -1.0\n",
    "galaxy_table['halo_c'] = -1.0\n",
    "\n",
    "galaxy_table['halo_a'][idx] = halo_shape_table['a'][idy]\n",
    "galaxy_table['halo_b'][idx] = halo_shape_table['b'][idy]\n",
    "galaxy_table['halo_c'][idx] = halo_shape_table['c'][idy]\n",
    "\n",
    "galaxy_table['halo_av_x'] = -1.0\n",
    "galaxy_table['halo_av_y'] = -1.0\n",
    "galaxy_table['halo_av_z'] = -1.0\n",
    "\n",
    "galaxy_table['halo_bv_x'] = -1.0\n",
    "galaxy_table['halo_bv_y'] = -1.0\n",
    "galaxy_table['halo_bv_z'] = -1.0\n",
    "\n",
    "galaxy_table['halo_cv_x'] = -1.0\n",
    "galaxy_table['halo_cv_y'] = -1.0\n",
    "galaxy_table['halo_cv_z'] = -1.0\n",
    "\n",
    "galaxy_table['halo_av_x'][idx] = halo_shape_table['av_x'][idy]\n",
    "galaxy_table['halo_av_y'][idx] = halo_shape_table['av_y'][idy]\n",
    "galaxy_table['halo_av_z'][idx] = halo_shape_table['av_z'][idy]\n",
    "\n",
    "galaxy_table['halo_bv_x'][idx] = halo_shape_table['bv_x'][idy]\n",
    "galaxy_table['halo_bv_y'][idx] = halo_shape_table['bv_y'][idy]\n",
    "galaxy_table['halo_bv_z'][idx] = halo_shape_table['bv_z'][idy]\n",
    "\n",
    "galaxy_table['halo_cv_x'][idx] = halo_shape_table['cv_x'][idy]\n",
    "galaxy_table['halo_cv_y'][idx] = halo_shape_table['cv_y'][idy]\n",
    "galaxy_table['halo_cv_z'][idx] = halo_shape_table['cv_z'][idy]"
   ]
  },
  {
   "cell_type": "code",
   "execution_count": 5,
   "metadata": {},
   "outputs": [],
   "source": [
    "coords = np.vstack((galaxy_table['x'],\n",
    "                    galaxy_table['y'],\n",
    "                    galaxy_table['z'])).T/1000.0\n",
    "\n",
    "# galaxy major_axis\n",
    "gal_orientations_major = np.vstack((galaxy_table['av_x'],\n",
    "                                galaxy_table['av_y'],\n",
    "                                galaxy_table['av_z'])).T\n",
    "\n",
    "# galaxy major_axis\n",
    "gal_orientations_minor = np.vstack((galaxy_table['cv_x'],\n",
    "                                galaxy_table['cv_y'],\n",
    "                                galaxy_table['cv_z'])).T\n",
    "\n",
    "# halo major_axis\n",
    "halo_orientations_major = np.vstack((galaxy_table['halo_av_x'],\n",
    "                                galaxy_table['halo_av_y'],\n",
    "                                galaxy_table['halo_av_z'])).T\n",
    "\n",
    "# halo major_axis\n",
    "halo_orientations_minor = np.vstack((galaxy_table['halo_cv_x'],\n",
    "                                galaxy_table['halo_cv_y'],\n",
    "                                galaxy_table['halo_cv_z'])).T"
   ]
  },
  {
   "cell_type": "code",
   "execution_count": 6,
   "metadata": {},
   "outputs": [],
   "source": [
    "from intrinsic_alignments.ia_models.ia_model_components import inverse_alignment_strength\n",
    "from rotations.vector_utilities import angles_between_list_of_vectors"
   ]
  },
  {
   "cell_type": "code",
   "execution_count": 7,
   "metadata": {},
   "outputs": [
    {
     "name": "stdout",
     "output_type": "stream",
     "text": [
      "number of galaxies in selection:  24433\n"
     ]
    }
   ],
   "source": [
    "selection_mask = galaxy_table['stellar_mass_all']>10**10.5\n",
    "print('number of galaxies in selection: ', np.sum(selection_mask))"
   ]
  },
  {
   "cell_type": "code",
   "execution_count": 8,
   "metadata": {},
   "outputs": [],
   "source": [
    "centrals = (galaxy_table['gal_id']==galaxy_table['central_id'])\n",
    "\n",
    "da = angles_between_list_of_vectors(gal_orientations_major, halo_orientations_major)\n",
    "da = da[selection_mask & centrals]"
   ]
  },
  {
   "cell_type": "code",
   "execution_count": 10,
   "metadata": {},
   "outputs": [
    {
     "data": {
      "image/png": "[encoded data removed]",
      "text/plain": [
       "<Figure size 237.6x237.6 with 1 Axes>"
      ]
     },
     "metadata": {
      "needs_background": "light"
     },
     "output_type": "display_data"
    },
    {
     "name": "stdout",
     "output_type": "stream",
     "text": [
      "alignment strength:  [0.75504076]\n"
     ]
    }
   ],
   "source": [
    "# misalignment angle distribution\n",
    "bins = np.linspace(-1,1,25)\n",
    "cos_da = np.cos(da)\n",
    "ran_u = np.random.random(len(cos_da))\n",
    "mask = ran_u>0.5\n",
    "cos_da[mask] = cos_da[mask]*-1.0\n",
    "counts = np.histogram(cos_da, bins=bins)[0]\n",
    "counts = 1.0*counts/np.sum(counts)/np.diff(bins)\n",
    "\n",
    "# fit watson distribution\n",
    "from watson_dist import DimrothWatson\n",
    "dist = DimrothWatson()\n",
    "k = dist.fit(np.fabs(cos_da),floc=0, fscale=1)[0]\n",
    "\n",
    "plt.figure(figsize=(3.3,3.3))\n",
    "plt.step(bins[:-1], counts, color='black', where='post')\n",
    "plt.plot(bins,dist.pdf(bins, k=k), color='red')\n",
    "plt.xlim([-1,1])\n",
    "plt.ylim([0,1.5])\n",
    "plt.show()\n",
    "\n",
    "print(\"alignment strength: \", inverse_alignment_strength(k))"
   ]
  },
  {
   "cell_type": "code",
   "execution_count": 11,
   "metadata": {},
   "outputs": [],
   "source": [
    "mu_1_cen = inverse_alignment_strength(k)"
   ]
  },
  {
   "cell_type": "code",
   "execution_count": 12,
   "metadata": {},
   "outputs": [
    {
     "name": "stderr",
     "output_type": "stream",
     "text": [
      "c:\\users\\nvana\\appdata\\local\\programs\\python\\python38-32\\lib\\site-packages\\rotations\\vector_utilities.py:145: RuntimeWarning: invalid value encountered in greater\n",
      "  mask1 = (dot > 1) & (dot < 1 + tol)\n",
      "c:\\users\\nvana\\appdata\\local\\programs\\python\\python38-32\\lib\\site-packages\\rotations\\vector_utilities.py:145: RuntimeWarning: invalid value encountered in less\n",
      "  mask1 = (dot > 1) & (dot < 1 + tol)\n",
      "c:\\users\\nvana\\appdata\\local\\programs\\python\\python38-32\\lib\\site-packages\\rotations\\vector_utilities.py:147: RuntimeWarning: invalid value encountered in less\n",
      "  mask2 = (dot < -1) & (dot > -1 - tol)\n",
      "c:\\users\\nvana\\appdata\\local\\programs\\python\\python38-32\\lib\\site-packages\\rotations\\vector_utilities.py:147: RuntimeWarning: invalid value encountered in greater\n",
      "  mask2 = (dot < -1) & (dot > -1 - tol)\n"
     ]
    }
   ],
   "source": [
    "from halotools.utils import crossmatch\n",
    "idx, idy = crossmatch(galaxy_table['central_id'], galaxy_table['gal_id'])\n",
    "\n",
    "satellites = (galaxy_table['gal_id']!=galaxy_table['central_id'])\n",
    "\n",
    "from intrinsic_alignments.utils.vector_utilities import pbc_radial_vector\n",
    "r = pbc_radial_vector(coords[idx], coords[idy], Lbox=Lbox)\n",
    "galaxy_table['r_x'] = np.zeros(len(galaxy_table)).astype('float')\n",
    "galaxy_table['r_y'] = np.zeros(len(galaxy_table)).astype('float')\n",
    "galaxy_table['r_z'] = np.zeros(len(galaxy_table)).astype('float')\n",
    "galaxy_table['r_x'][idx] = r[:,0]\n",
    "galaxy_table['r_y'][idx] = r[:,1]\n",
    "galaxy_table['r_z'][idx] = r[:,2]\n",
    "galaxy_table['mag_r'] = np.zeros(len(galaxy_table)).astype('float')\n",
    "galaxy_table['mag_r'] = np.sum(galaxy_table['r_x']**2 + galaxy_table['r_y']**2 +galaxy_table['r_z']**2)\n",
    "\n",
    "r = np.vstack((galaxy_table['r_x'], galaxy_table['r_y'], galaxy_table['r_z'])).T\n",
    "da = angles_between_list_of_vectors(gal_orientations_major, r)\n",
    "da = da[satellites & (~np.isnan(da)) & selection_mask]"
   ]
  },
  {
   "cell_type": "code",
   "execution_count": 15,
   "metadata": {},
   "outputs": [
    {
     "data": {
      "image/png": "[encoded data removed]",
      "text/plain": [
       "<Figure size 237.6x237.6 with 1 Axes>"
      ]
     },
     "metadata": {
      "needs_background": "light"
     },
     "output_type": "display_data"
    },
    {
     "name": "stdout",
     "output_type": "stream",
     "text": [
      "alignment strength:  [0.27935947]\n"
     ]
    }
   ],
   "source": [
    "# misalignment angle distribution\n",
    "bins = np.linspace(-1,1,25)\n",
    "cos_da = np.cos(da)\n",
    "ran_u = np.random.random(len(cos_da))\n",
    "mask = ran_u>0.5\n",
    "cos_da[mask] = cos_da[mask]*-1.0\n",
    "counts = np.histogram(cos_da, bins=bins)[0]\n",
    "counts = 1.0*counts/np.sum(counts)/np.diff(bins)\n",
    "\n",
    "# fit watson distribution\n",
    "from watson_dist import DimrothWatson\n",
    "dist = DimrothWatson()\n",
    "k = dist.fit(np.fabs(cos_da),floc=0, fscale=1)[0]\n",
    "\n",
    "plt.figure(figsize=(3.3,3.3))\n",
    "plt.step(bins[:-1], counts, color='black', where='post')\n",
    "plt.plot(bins,dist.pdf(bins, k=k), color='red')\n",
    "plt.xlim([-1,1])\n",
    "plt.ylim([0,1.5])\n",
    "plt.show()\n",
    "\n",
    "print(\"alignment strength: \", inverse_alignment_strength(k))"
   ]
  },
  {
   "cell_type": "code",
   "execution_count": 16,
   "metadata": {},
   "outputs": [],
   "source": [
    "mu_1_sat = inverse_alignment_strength(k)"
   ]
  },
  {
   "cell_type": "code",
   "execution_count": 17,
   "metadata": {},
   "outputs": [
    {
     "name": "stdout",
     "output_type": "stream",
     "text": [
      "number of galaxies in selection:  76125\n"
     ]
    }
   ],
   "source": [
    "selection_mask = galaxy_table['stellar_mass_all']>10**10.0\n",
    "print('number of galaxies in selection: ', np.sum(selection_mask))"
   ]
  },
  {
   "cell_type": "code",
   "execution_count": 18,
   "metadata": {},
   "outputs": [],
   "source": [
    "centrals = (galaxy_table['gal_id']==galaxy_table['central_id'])\n",
    "\n",
    "da = angles_between_list_of_vectors(gal_orientations_major, halo_orientations_major)\n",
    "da = da[selection_mask & centrals]"
   ]
  },
  {
   "cell_type": "code",
   "execution_count": 20,
   "metadata": {},
   "outputs": [
    {
     "data": {
      "image/png": "[encoded data removed]",
      "text/plain": [
       "<Figure size 237.6x237.6 with 1 Axes>"
      ]
     },
     "metadata": {
      "needs_background": "light"
     },
     "output_type": "display_data"
    },
    {
     "name": "stdout",
     "output_type": "stream",
     "text": [
      "alignment strength:  [0.64093213]\n"
     ]
    }
   ],
   "source": [
    "# misalignment angle distribution\n",
    "bins = np.linspace(-1,1,25)\n",
    "cos_da = np.cos(da)\n",
    "ran_u = np.random.random(len(cos_da))\n",
    "mask = ran_u>0.5\n",
    "cos_da[mask] = cos_da[mask]*-1.0\n",
    "counts = np.histogram(cos_da, bins=bins)[0]\n",
    "counts = 1.0*counts/np.sum(counts)/np.diff(bins)\n",
    "\n",
    "# fit watson distribution\n",
    "from watson_dist import DimrothWatson\n",
    "dist = DimrothWatson()\n",
    "k = dist.fit(np.fabs(cos_da),floc=0, fscale=1)[0]\n",
    "\n",
    "plt.figure(figsize=(3.3,3.3))\n",
    "plt.step(bins[:-1], counts, color='black', where='post')\n",
    "plt.plot(bins,dist.pdf(bins, k=k), color='red')\n",
    "plt.xlim([-1,1])\n",
    "plt.ylim([0,1.5])\n",
    "plt.show()\n",
    "\n",
    "print(\"alignment strength: \", inverse_alignment_strength(k))"
   ]
  },
  {
   "cell_type": "code",
   "execution_count": 21,
   "metadata": {},
   "outputs": [],
   "source": [
    "mu_2_cen = inverse_alignment_strength(k)"
   ]
  },
  {
   "cell_type": "code",
   "execution_count": 22,
   "metadata": {},
   "outputs": [
    {
     "name": "stderr",
     "output_type": "stream",
     "text": [
      "c:\\users\\nvana\\appdata\\local\\programs\\python\\python38-32\\lib\\site-packages\\rotations\\vector_utilities.py:145: RuntimeWarning: invalid value encountered in greater\n",
      "  mask1 = (dot > 1) & (dot < 1 + tol)\n",
      "c:\\users\\nvana\\appdata\\local\\programs\\python\\python38-32\\lib\\site-packages\\rotations\\vector_utilities.py:145: RuntimeWarning: invalid value encountered in less\n",
      "  mask1 = (dot > 1) & (dot < 1 + tol)\n",
      "c:\\users\\nvana\\appdata\\local\\programs\\python\\python38-32\\lib\\site-packages\\rotations\\vector_utilities.py:147: RuntimeWarning: invalid value encountered in less\n",
      "  mask2 = (dot < -1) & (dot > -1 - tol)\n",
      "c:\\users\\nvana\\appdata\\local\\programs\\python\\python38-32\\lib\\site-packages\\rotations\\vector_utilities.py:147: RuntimeWarning: invalid value encountered in greater\n",
      "  mask2 = (dot < -1) & (dot > -1 - tol)\n"
     ]
    }
   ],
   "source": [
    "from halotools.utils import crossmatch\n",
    "idx, idy = crossmatch(galaxy_table['central_id'], galaxy_table['gal_id'])\n",
    "\n",
    "satellites = (galaxy_table['gal_id']!=galaxy_table['central_id'])\n",
    "\n",
    "from intrinsic_alignments.utils.vector_utilities import pbc_radial_vector\n",
    "r = pbc_radial_vector(coords[idx], coords[idy], Lbox=Lbox)\n",
    "galaxy_table['r_x'] = np.zeros(len(galaxy_table)).astype('float')\n",
    "galaxy_table['r_y'] = np.zeros(len(galaxy_table)).astype('float')\n",
    "galaxy_table['r_z'] = np.zeros(len(galaxy_table)).astype('float')\n",
    "galaxy_table['r_x'][idx] = r[:,0]\n",
    "galaxy_table['r_y'][idx] = r[:,1]\n",
    "galaxy_table['r_z'][idx] = r[:,2]\n",
    "galaxy_table['mag_r'] = np.zeros(len(galaxy_table)).astype('float')\n",
    "galaxy_table['mag_r'] = np.sum(galaxy_table['r_x']**2 + galaxy_table['r_y']**2 +galaxy_table['r_z']**2)\n",
    "\n",
    "r = np.vstack((galaxy_table['r_x'], galaxy_table['r_y'], galaxy_table['r_z'])).T\n",
    "da = angles_between_list_of_vectors(gal_orientations_major, r)\n",
    "da = da[satellites & (~np.isnan(da)) & selection_mask]"
   ]
  },
  {
   "cell_type": "code",
   "execution_count": 24,
   "metadata": {},
   "outputs": [
    {
     "data": {
      "image/png": "[encoded data removed]",
      "text/plain": [
       "<Figure size 237.6x237.6 with 1 Axes>"
      ]
     },
     "metadata": {
      "needs_background": "light"
     },
     "output_type": "display_data"
    },
    {
     "name": "stdout",
     "output_type": "stream",
     "text": [
      "alignment strength:  [0.08497533]\n"
     ]
    }
   ],
   "source": [
    "# misalignment angle distribution\n",
    "bins = np.linspace(-1,1,25)\n",
    "cos_da = np.cos(da)\n",
    "ran_u = np.random.random(len(cos_da))\n",
    "mask = ran_u>0.5\n",
    "cos_da[mask] = cos_da[mask]*-1.0\n",
    "counts = np.histogram(cos_da, bins=bins)[0]\n",
    "counts = 1.0*counts/np.sum(counts)/np.diff(bins)\n",
    "\n",
    "# fit watson distribution\n",
    "from watson_dist import DimrothWatson\n",
    "dist = DimrothWatson()\n",
    "k = dist.fit(np.fabs(cos_da),floc=0, fscale=1)[0]\n",
    "\n",
    "plt.figure(figsize=(3.3,3.3))\n",
    "plt.step(bins[:-1], counts, color='black', where='post')\n",
    "plt.plot(bins,dist.pdf(bins, k=k), color='red')\n",
    "plt.xlim([-1,1])\n",
    "plt.ylim([0,1.5])\n",
    "plt.show()\n",
    "\n",
    "print(\"alignment strength: \", inverse_alignment_strength(k))"
   ]
  },
  {
   "cell_type": "code",
   "execution_count": 25,
   "metadata": {},
   "outputs": [],
   "source": [
    "mu_2_sat = inverse_alignment_strength(k)"
   ]
  },
  {
   "cell_type": "code",
   "execution_count": 26,
   "metadata": {},
   "outputs": [
    {
     "name": "stdout",
     "output_type": "stream",
     "text": [
      "number of galaxies in selection:  146073\n"
     ]
    }
   ],
   "source": [
    "selection_mask = galaxy_table['stellar_mass_all']>10**9.5\n",
    "print('number of galaxies in selection: ', np.sum(selection_mask))"
   ]
  },
  {
   "cell_type": "code",
   "execution_count": 27,
   "metadata": {},
   "outputs": [],
   "source": [
    "centrals = (galaxy_table['gal_id']==galaxy_table['central_id'])\n",
    "\n",
    "da = angles_between_list_of_vectors(gal_orientations_major, halo_orientations_major)\n",
    "da = da[selection_mask & centrals]"
   ]
  },
  {
   "cell_type": "code",
   "execution_count": 29,
   "metadata": {},
   "outputs": [
    {
     "data": {
      "image/png": "[encoded data removed]",
      "text/plain": [
       "<Figure size 237.6x237.6 with 1 Axes>"
      ]
     },
     "metadata": {
      "needs_background": "light"
     },
     "output_type": "display_data"
    },
    {
     "name": "stdout",
     "output_type": "stream",
     "text": [
      "alignment strength:  [0.57172919]\n"
     ]
    }
   ],
   "source": [
    "# misalignment angle distribution\n",
    "bins = np.linspace(-1,1,25)\n",
    "cos_da = np.cos(da)\n",
    "ran_u = np.random.random(len(cos_da))\n",
    "mask = ran_u>0.5\n",
    "cos_da[mask] = cos_da[mask]*-1.0\n",
    "counts = np.histogram(cos_da, bins=bins)[0]\n",
    "counts = 1.0*counts/np.sum(counts)/np.diff(bins)\n",
    "\n",
    "# fit watson distribution\n",
    "from watson_dist import DimrothWatson\n",
    "dist = DimrothWatson()\n",
    "k = dist.fit(np.fabs(cos_da),floc=0, fscale=1)[0]\n",
    "\n",
    "plt.figure(figsize=(3.3,3.3))\n",
    "plt.step(bins[:-1], counts, color='black', where='post')\n",
    "plt.plot(bins,dist.pdf(bins, k=k), color='red')\n",
    "plt.xlim([-1,1])\n",
    "plt.ylim([0,1.5])\n",
    "plt.show()\n",
    "\n",
    "print(\"alignment strength: \", inverse_alignment_strength(k))"
   ]
  },
  {
   "cell_type": "code",
   "execution_count": 30,
   "metadata": {},
   "outputs": [],
   "source": [
    "mu_3_cen = inverse_alignment_strength(k)"
   ]
  },
  {
   "cell_type": "code",
   "execution_count": null,
   "metadata": {},
   "outputs": [],
   "source": []
  },
  {
   "cell_type": "code",
   "execution_count": 31,
   "metadata": {},
   "outputs": [
    {
     "name": "stderr",
     "output_type": "stream",
     "text": [
      "c:\\users\\nvana\\appdata\\local\\programs\\python\\python38-32\\lib\\site-packages\\rotations\\vector_utilities.py:145: RuntimeWarning: invalid value encountered in greater\n",
      "  mask1 = (dot > 1) & (dot < 1 + tol)\n",
      "c:\\users\\nvana\\appdata\\local\\programs\\python\\python38-32\\lib\\site-packages\\rotations\\vector_utilities.py:145: RuntimeWarning: invalid value encountered in less\n",
      "  mask1 = (dot > 1) & (dot < 1 + tol)\n",
      "c:\\users\\nvana\\appdata\\local\\programs\\python\\python38-32\\lib\\site-packages\\rotations\\vector_utilities.py:147: RuntimeWarning: invalid value encountered in less\n",
      "  mask2 = (dot < -1) & (dot > -1 - tol)\n",
      "c:\\users\\nvana\\appdata\\local\\programs\\python\\python38-32\\lib\\site-packages\\rotations\\vector_utilities.py:147: RuntimeWarning: invalid value encountered in greater\n",
      "  mask2 = (dot < -1) & (dot > -1 - tol)\n"
     ]
    }
   ],
   "source": [
    "from halotools.utils import crossmatch\n",
    "idx, idy = crossmatch(galaxy_table['central_id'], galaxy_table['gal_id'])\n",
    "\n",
    "satellites = (galaxy_table['gal_id']!=galaxy_table['central_id'])\n",
    "\n",
    "from intrinsic_alignments.utils.vector_utilities import pbc_radial_vector\n",
    "r = pbc_radial_vector(coords[idx], coords[idy], Lbox=Lbox)\n",
    "galaxy_table['r_x'] = np.zeros(len(galaxy_table)).astype('float')\n",
    "galaxy_table['r_y'] = np.zeros(len(galaxy_table)).astype('float')\n",
    "galaxy_table['r_z'] = np.zeros(len(galaxy_table)).astype('float')\n",
    "galaxy_table['r_x'][idx] = r[:,0]\n",
    "galaxy_table['r_y'][idx] = r[:,1]\n",
    "galaxy_table['r_z'][idx] = r[:,2]\n",
    "galaxy_table['mag_r'] = np.zeros(len(galaxy_table)).astype('float')\n",
    "galaxy_table['mag_r'] = np.sum(galaxy_table['r_x']**2 + galaxy_table['r_y']**2 +galaxy_table['r_z']**2)\n",
    "\n",
    "r = np.vstack((galaxy_table['r_x'], galaxy_table['r_y'], galaxy_table['r_z'])).T\n",
    "da = angles_between_list_of_vectors(gal_orientations_major, r)\n",
    "da = da[satellites & (~np.isnan(da)) & selection_mask]"
   ]
  },
  {
   "cell_type": "code",
   "execution_count": null,
   "metadata": {},
   "outputs": [],
   "source": [
    "# misalignment angle distribution\n",
    "bins = np.linspace(-1,1,25)\n",
    "cos_da = np.cos(da)\n",
    "ran_u = np.random.random(len(cos_da))\n",
    "mask = ran_u>0.5\n",
    "cos_da[mask] = cos_da[mask]*-1.0\n",
    "counts = np.histogram(cos_da, bins=bins)[0]\n",
    "counts = 1.0*counts/np.sum(counts)/np.diff(bins)\n",
    "\n",
    "# fit watson distribution\n",
    "from watson_dist import DimrothWatson\n",
    "dist = DimrothWatson()\n",
    "k = dist.fit(np.fabs(cos_da),floc=0, fscale=1)[0]\n",
    "\n",
    "plt.figure(figsize=(3.3,3.3))\n",
    "plt.step(bins[:-1], counts, color='black', where='post')\n",
    "plt.plot(bins,dist.pdf(bins, k=k), color='red')\n",
    "plt.xlim([-1,1])\n",
    "plt.ylim([0,1.5])\n",
    "plt.show()\n",
    "\n",
    "print(\"alignment strength: \", inverse_alignment_strength(k))"
   ]
  },
  {
   "cell_type": "code",
   "execution_count": null,
   "metadata": {},
   "outputs": [],
   "source": [
    "mu_3_sat = inverse_alignment_strength(k)"
   ]
  },
  {
   "cell_type": "code",
   "execution_count": null,
   "metadata": {},
   "outputs": [],
   "source": [
    "m_thresh = 10**np.array([9.5,10.0,10.5])\n",
    "\n",
    "fig = plt.figure(figsize=(3.3,3.3))\n",
    "p1, = plt.plot(m_thresh,[mu_3_cen, mu_2_cen, mu_1_cen], 'o')\n",
    "p2, = plt.plot(m_thresh,[mu_3_sat, mu_2_sat, mu_1_sat], 'x')\n",
    "plt.xscale('log')\n",
    "plt.xlim([10**9,10**11.0])\n",
    "plt.ylim([-1,1])\n",
    "plt.ylabel(r'$\\mu~[{\\rm alignment~strength}]$')\n",
    "plt.xlabel(r'$M_{*}$')\n",
    "plt.legend([p1,p2],['centrals','satellites'],frameon=False, fontsize=10, loc='lower right')\n",
    "plt.show()\n",
    "\n",
    "fname = 'samples_alignment_strength.pdf'\n",
    "fpath = PROJECT_DIRECTORY + 'modelling_illustris/figures/'\n",
    "fig.savefig(fpath+fname, dpi=250)"
   ]
  },
  {
   "cell_type": "code",
   "execution_count": null,
   "metadata": {},
   "outputs": [],
   "source": [
    "plt.figure(figsize=(3.3,3.3))\n",
    "p1, = plt.plot([mu_3_cen, mu_2_cen, mu_1_cen],[mu_3_sat, mu_2_sat, mu_1_sat], 'o')\n",
    "plt.xlim([0,1])\n",
    "plt.ylim([-0.5,0.5])\n",
    "plt.xlabel(r'$\\mu_{\\rm cen}$')\n",
    "plt.ylabel(r'$\\mu_{\\rm sat}$')\n",
    "plt.show()"
   ]
  },
  {
   "cell_type": "code",
   "execution_count": null,
   "metadata": {},
   "outputs": [],
   "source": []
  }
 ],
 "metadata": {
  "kernelspec": {
   "display_name": "Python 3",
   "language": "python",
   "name": "python3"
  }
 },
 "nbformat": 4,
 "nbformat_minor": 2
}
