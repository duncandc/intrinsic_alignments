{
 "cells": [
  {
   "cell_type": "code",
   "execution_count": 1,
   "metadata": {},
   "outputs": [],
   "source": [
    "from __future__ import print_function, division\n",
    "import numpy as np\n",
    "import matplotlib.pyplot as plt\n",
    "from intrinsic_alignments.project_settings import PROJECT_DIRECTORY\n",
    "%matplotlib inline"
   ]
  },
  {
   "cell_type": "markdown",
   "metadata": {},
   "source": [
    "## TNG300 Model"
   ]
  },
  {
   "cell_type": "code",
   "execution_count": 2,
   "metadata": {},
   "outputs": [],
   "source": [
    "# Load TNMG300 galaxy catalog\n",
    "\n",
    "from Illustris_Shapes.simulation_props import sim_prop_dict\n",
    "\n",
    "simname = 'TNG300-1'\n",
    "snapnum = 99\n",
    "shape_type = 'iterative'\n",
    "\n",
    "d = sim_prop_dict[simname]\n",
    "Lbox = d['Lbox']"
   ]
  },
  {
   "cell_type": "code",
   "execution_count": 3,
   "metadata": {},
   "outputs": [
    {
     "name": "stdout",
     "output_type": "stream",
     "text": [
      "gal_id\n",
      "host_halo_id\n",
      "central_id\n",
      "x\n",
      "y\n",
      "z\n",
      "vx\n",
      "vy\n",
      "vz\n",
      "stellar_mass_in_twice_halfrad\n",
      "stellar_mass_all\n",
      "host_halo_mass_200m\n",
      "host_halo_radius_200m\n",
      "host_halo_fof_mass\n",
      "a\n",
      "b\n",
      "c\n",
      "av_x\n",
      "av_y\n",
      "av_z\n",
      "bv_x\n",
      "bv_y\n",
      "bv_z\n",
      "cv_x\n",
      "cv_y\n",
      "cv_z\n"
     ]
    }
   ],
   "source": [
    "from astropy.table import Table\n",
    "fpath = PROJECT_DIRECTORY + 'data/Illustris/'\n",
    "\n",
    "# load VAGC\n",
    "fname = 'value_added_catalogs/' + simname + '_' + str(snapnum) + '_vagc.dat'\n",
    "vagc_galaxy_table = Table.read(fpath + fname, format='ascii')\n",
    "\n",
    "# load galaxy shape catalog\n",
    "fname = 'shape_catalogs/' + simname + '_' + str(snapnum) + '_' + shape_type + '_galaxy_shapes.dat'\n",
    "galaxy_shape_table = Table.read(fpath + fname, format='ascii')\n",
    "\n",
    "# load halo shape catalog\n",
    "fname = 'shape_catalogs/' + simname + '_' + str(snapnum) + '_' + shape_type + '_halo_shapes.dat'\n",
    "halo_shape_table = Table.read(fpath + fname, format='ascii')\n",
    "\n",
    "# join galaxy shape and vagc tables\n",
    "from astropy.table import join\n",
    "galaxy_table = join(vagc_galaxy_table, galaxy_shape_table)\n",
    "for key in galaxy_table.keys():\n",
    "    print(key)"
   ]
  },
  {
   "cell_type": "code",
   "execution_count": 4,
   "metadata": {},
   "outputs": [],
   "source": [
    "# add halo properties\n",
    "from halotools.utils import crossmatch\n",
    "idx, idy = crossmatch(galaxy_table['gal_id'],halo_shape_table['halo_id'])\n",
    "\n",
    "galaxy_table['halo_a'] = -1.0\n",
    "galaxy_table['halo_b'] = -1.0\n",
    "galaxy_table['halo_c'] = -1.0\n",
    "\n",
    "galaxy_table['halo_a'][idx] = halo_shape_table['a'][idy]\n",
    "galaxy_table['halo_b'][idx] = halo_shape_table['b'][idy]\n",
    "galaxy_table['halo_c'][idx] = halo_shape_table['c'][idy]\n",
    "\n",
    "galaxy_table['halo_av_x'] = -1.0\n",
    "galaxy_table['halo_av_y'] = -1.0\n",
    "galaxy_table['halo_av_z'] = -1.0\n",
    "\n",
    "galaxy_table['halo_bv_x'] = -1.0\n",
    "galaxy_table['halo_bv_y'] = -1.0\n",
    "galaxy_table['halo_bv_z'] = -1.0\n",
    "\n",
    "galaxy_table['halo_cv_x'] = -1.0\n",
    "galaxy_table['halo_cv_y'] = -1.0\n",
    "galaxy_table['halo_cv_z'] = -1.0\n",
    "\n",
    "galaxy_table['halo_av_x'][idx] = halo_shape_table['av_x'][idy]\n",
    "galaxy_table['halo_av_y'][idx] = halo_shape_table['av_y'][idy]\n",
    "galaxy_table['halo_av_z'][idx] = halo_shape_table['av_z'][idy]\n",
    "\n",
    "galaxy_table['halo_bv_x'][idx] = halo_shape_table['bv_x'][idy]\n",
    "galaxy_table['halo_bv_y'][idx] = halo_shape_table['bv_y'][idy]\n",
    "galaxy_table['halo_bv_z'][idx] = halo_shape_table['bv_z'][idy]\n",
    "\n",
    "galaxy_table['halo_cv_x'][idx] = halo_shape_table['cv_x'][idy]\n",
    "galaxy_table['halo_cv_y'][idx] = halo_shape_table['cv_y'][idy]\n",
    "galaxy_table['halo_cv_z'][idx] = halo_shape_table['cv_z'][idy]"
   ]
  },
  {
   "cell_type": "markdown",
   "metadata": {},
   "source": [
    "## calculate alignment strength"
   ]
  },
  {
   "cell_type": "code",
   "execution_count": 5,
   "metadata": {},
   "outputs": [],
   "source": [
    "coords = np.vstack((galaxy_table['x'],\n",
    "                    galaxy_table['y'],\n",
    "                    galaxy_table['z'])).T/1000.0\n",
    "\n",
    "# galaxy major_axis\n",
    "gal_orientations_major = np.vstack((galaxy_table['av_x'],\n",
    "                                galaxy_table['av_y'],\n",
    "                                galaxy_table['av_z'])).T\n",
    "\n",
    "# galaxy major_axis\n",
    "gal_orientations_minor = np.vstack((galaxy_table['cv_x'],\n",
    "                                galaxy_table['cv_y'],\n",
    "                                galaxy_table['cv_z'])).T\n",
    "\n",
    "# halo major_axis\n",
    "halo_orientations_major = np.vstack((galaxy_table['halo_av_x'],\n",
    "                                galaxy_table['halo_av_y'],\n",
    "                                galaxy_table['halo_av_z'])).T\n",
    "\n",
    "# halo major_axis\n",
    "halo_orientations_minor = np.vstack((galaxy_table['halo_cv_x'],\n",
    "                                galaxy_table['halo_cv_y'],\n",
    "                                galaxy_table['halo_cv_z'])).T"
   ]
  },
  {
   "cell_type": "code",
   "execution_count": 6,
   "metadata": {},
   "outputs": [
    {
     "name": "stdout",
     "output_type": "stream",
     "text": [
      "number of galaxies in selection:  24433\n"
     ]
    }
   ],
   "source": [
    "selection_mask = galaxy_table['stellar_mass_all']>10**10.5\n",
    "print('number of galaxies in selection: ', np.sum(selection_mask))"
   ]
  },
  {
   "cell_type": "code",
   "execution_count": 7,
   "metadata": {},
   "outputs": [],
   "source": [
    "from intrinsic_alignments.ia_models.ia_model_components import inverse_alignment_strength"
   ]
  },
  {
   "cell_type": "markdown",
   "metadata": {},
   "source": [
    "### central galxies"
   ]
  },
  {
   "cell_type": "code",
   "execution_count": 8,
   "metadata": {},
   "outputs": [],
   "source": [
    "from rotations.vector_utilities import angles_between_list_of_vectors\n",
    "\n",
    "centrals = (galaxy_table['gal_id']==galaxy_table['central_id'])\n",
    "\n",
    "da = angles_between_list_of_vectors(gal_orientations_major, halo_orientations_major)\n",
    "da = da[selection_mask & centrals]"
   ]
  },
  {
   "cell_type": "code",
   "execution_count": 9,
   "metadata": {},
   "outputs": [
    {
     "data": {
      "image/png": "[encoded data removed]",
      "text/plain": [
       "<Figure size 237.6x237.6 with 1 Axes>"
      ]
     },
     "metadata": {
      "needs_background": "light"
     },
     "output_type": "display_data"
    },
    {
     "name": "stdout",
     "output_type": "stream",
     "text": [
      "alignment strength:  [0.75504076]\n"
     ]
    }
   ],
   "source": [
    "# misalignment angle distribution\n",
    "bins = np.linspace(-1,1,25)\n",
    "cos_da = np.cos(da)\n",
    "ran_u = np.random.random(len(cos_da))\n",
    "mask = ran_u>0.5\n",
    "cos_da[mask] = cos_da[mask]*-1.0\n",
    "counts = np.histogram(cos_da, bins=bins)[0]\n",
    "counts = 1.0*counts/np.sum(counts)/np.diff(bins)\n",
    "\n",
    "# fit watson distribution\n",
    "from watson_distribution import DimrothWatson\n",
    "dist = DimrothWatson()\n",
    "k = dist.fit(np.fabs(cos_da),floc=0, fscale=1)[0]\n",
    "\n",
    "plt.figure(figsize=(3.3,3.3))\n",
    "plt.step(bins[:-1], counts, color='black', where='post')\n",
    "plt.plot(bins,dist.pdf(bins, k=k), color='red')\n",
    "plt.xlim([-1,1])\n",
    "plt.ylim([0,1.5])\n",
    "plt.show()\n",
    "\n",
    "print(\"alignment strength: \", inverse_alignment_strength(k))"
   ]
  },
  {
   "cell_type": "markdown",
   "metadata": {},
   "source": [
    "### satellite galaxies"
   ]
  },
  {
   "cell_type": "code",
   "execution_count": 10,
   "metadata": {},
   "outputs": [
    {
     "name": "stderr",
     "output_type": "stream",
     "text": [
      "/Users/duncan/Code/rotations/vector_utilities.py:145: RuntimeWarning: invalid value encountered in greater\n",
      "  mask1 = (dot > 1) & (dot < 1 + tol)\n",
      "/Users/duncan/Code/rotations/vector_utilities.py:145: RuntimeWarning: invalid value encountered in less\n",
      "  mask1 = (dot > 1) & (dot < 1 + tol)\n",
      "/Users/duncan/Code/rotations/vector_utilities.py:147: RuntimeWarning: invalid value encountered in less\n",
      "  mask2 = (dot < -1) & (dot > -1 - tol)\n",
      "/Users/duncan/Code/rotations/vector_utilities.py:147: RuntimeWarning: invalid value encountered in greater\n",
      "  mask2 = (dot < -1) & (dot > -1 - tol)\n",
      "/Users/duncan/Code/rotations/vector_utilities.py:149: RuntimeWarning: invalid value encountered in arccos\n",
      "  a = np.arccos(dot)\n"
     ]
    }
   ],
   "source": [
    "from halotools.utils import crossmatch\n",
    "idx, idy = crossmatch(galaxy_table['central_id'], galaxy_table['gal_id'])\n",
    "\n",
    "satellites = (galaxy_table['gal_id']!=galaxy_table['central_id'])\n",
    "\n",
    "from intrinsic_alignments.utils.vector_utilities import pbc_radial_vector\n",
    "r = pbc_radial_vector(coords[idx], coords[idy], Lbox=Lbox)\n",
    "galaxy_table['r_x'] = np.zeros(len(galaxy_table)).astype('float')\n",
    "galaxy_table['r_y'] = np.zeros(len(galaxy_table)).astype('float')\n",
    "galaxy_table['r_z'] = np.zeros(len(galaxy_table)).astype('float')\n",
    "galaxy_table['r_x'][idx] = r[:,0]\n",
    "galaxy_table['r_y'][idx] = r[:,1]\n",
    "galaxy_table['r_z'][idx] = r[:,2]\n",
    "galaxy_table['mag_r'] = np.zeros(len(galaxy_table)).astype('float')\n",
    "galaxy_table['mag_r'] = np.sqrt(galaxy_table['r_x']**2 + galaxy_table['r_y']**2 +galaxy_table['r_z']**2)\n",
    "\n",
    "r = np.vstack((galaxy_table['r_x'], galaxy_table['r_y'], galaxy_table['r_z'])).T\n",
    "da = angles_between_list_of_vectors(gal_orientations_major, r)\n",
    "da = da[satellites & (~np.isnan(da)) & selection_mask]"
   ]
  },
  {
   "cell_type": "code",
   "execution_count": 11,
   "metadata": {},
   "outputs": [
    {
     "data": {
      "image/png": "[encoded data removed]",
      "text/plain": [
       "<Figure size 237.6x237.6 with 1 Axes>"
      ]
     },
     "metadata": {
      "needs_background": "light"
     },
     "output_type": "display_data"
    },
    {
     "name": "stdout",
     "output_type": "stream",
     "text": [
      "alignment strength:  [0.27935947]\n"
     ]
    }
   ],
   "source": [
    "# misalignment angle distribution\n",
    "bins = np.linspace(-1,1,25)\n",
    "cos_da = np.cos(da)\n",
    "ran_u = np.random.random(len(cos_da))\n",
    "mask = ran_u>0.5\n",
    "cos_da[mask] = cos_da[mask]*-1.0\n",
    "counts = np.histogram(cos_da, bins=bins)[0]\n",
    "counts = 1.0*counts/np.sum(counts)/np.diff(bins)\n",
    "\n",
    "# fit watson distribution\n",
    "from watson_distribution import DimrothWatson\n",
    "dist = DimrothWatson()\n",
    "k = dist.fit(np.fabs(cos_da),floc=0, fscale=1)[0]\n",
    "\n",
    "plt.figure(figsize=(3.3,3.3))\n",
    "plt.step(bins[:-1], counts, color='black', where='post')\n",
    "plt.plot(bins,dist.pdf(bins, k=k), color='red')\n",
    "plt.xlim([-1,1])\n",
    "plt.ylim([0,1.5])\n",
    "plt.show()\n",
    "\n",
    "print(\"alignment strength: \", inverse_alignment_strength(k))"
   ]
  },
  {
   "cell_type": "code",
   "execution_count": 12,
   "metadata": {},
   "outputs": [
    {
     "name": "stderr",
     "output_type": "stream",
     "text": [
      "/Users/duncan/anaconda2/lib/python2.7/site-packages/scipy/stats/_distn_infrastructure.py:2313: RuntimeWarning: Mean of empty slice.\n",
      "  muhat = tmp.mean()\n",
      "/Users/duncan/anaconda2/lib/python2.7/site-packages/numpy/core/_methods.py:85: RuntimeWarning: invalid value encountered in double_scalars\n",
      "  ret = ret.dtype.type(ret / rcount)\n",
      "/Users/duncan/anaconda2/lib/python2.7/site-packages/scipy/stats/_distn_infrastructure.py:2314: RuntimeWarning: Degrees of freedom <= 0 for slice\n",
      "  mu2hat = tmp.var()\n",
      "/Users/duncan/anaconda2/lib/python2.7/site-packages/numpy/core/_methods.py:110: RuntimeWarning: invalid value encountered in true_divide\n",
      "  arrmean, rcount, out=arrmean, casting='unsafe', subok=False)\n",
      "/Users/duncan/anaconda2/lib/python2.7/site-packages/numpy/core/_methods.py:132: RuntimeWarning: invalid value encountered in double_scalars\n",
      "  ret = ret.dtype.type(ret / rcount)\n"
     ]
    }
   ],
   "source": [
    "from intrinsic_alignments.utils.stat_utils import binned_bootstrap_1d\n",
    "\n",
    "Nboot = 2\n",
    "\n",
    "# check for radial dependence \n",
    "rbins = np.logspace(-1.,0.0,15)\n",
    "rbin_centers = (rbins[:-1]+rbins[1:])/2.0\n",
    "\n",
    "scaled_radius = (galaxy_table['mag_r'])/(galaxy_table['host_halo_radius_200m']/1000)\n",
    "scaled_radius = scaled_radius[selection_mask & satellites]\n",
    "\n",
    "statisic = lambda x: inverse_alignment_strength(dist.fit(x, floc=0, fscale=1)[0])\n",
    "p, err_p = binned_bootstrap_1d(scaled_radius, cos_da, rbins,\n",
    "                               statistic=statisic, Nboot=Nboot)"
   ]
  },
  {
   "cell_type": "code",
   "execution_count": 13,
   "metadata": {},
   "outputs": [
    {
     "data": {
      "image/png": "[encoded data removed]",
      "text/plain": [
       "<Figure size 237.6x237.6 with 1 Axes>"
      ]
     },
     "metadata": {
      "needs_background": "light"
     },
     "output_type": "display_data"
    }
   ],
   "source": [
    "def clipped_powerlaw(x, x0=0.01, alpha=-0.05):\n",
    "    \"\"\"\n",
    "    clipped power law model\n",
    "    \"\"\"\n",
    "    ymax=1.0\n",
    "    ymin=-1.0\n",
    "    x = np.atleast_1d(x)\n",
    "    \n",
    "    result = np.zeros(len(x))\n",
    "    result = (x/x0)**alpha\n",
    "    \n",
    "    mask = (result>ymax)\n",
    "    result[mask] = ymax\n",
    "    mask = (result<ymin)\n",
    "    result[mask] = ymin\n",
    "    \n",
    "    return result\n",
    "\n",
    "from scipy.optimize import curve_fit\n",
    "\n",
    "popt, pcov = curve_fit(clipped_powerlaw, rbin_centers, p, sigma=err_p, p0=[0.01, -0.05])\n",
    "\n",
    "fig, ax = plt.subplots(1,1,figsize=(3.3,3.3))\n",
    "fig.subplots_adjust(left=0.2, right=0.9, bottom=0.2, top=0.9)\n",
    "ax.errorbar(rbin_centers, p, yerr=5*err_p, fmt='o', ms=4, color='black')\n",
    "ax.plot(rbin_centers, clipped_powerlaw(rbin_centers, *popt), '-', color='red')\n",
    "ax.set_ylim([0,1])\n",
    "ax.set_xscale('log')\n",
    "ax.set_xlim(0.03,1.1)\n",
    "ax.set_xlabel(r'$r/r_{\\rm vir}$')\n",
    "ax.set_ylabel(r'$\\mu$')\n",
    "plt.show()"
   ]
  },
  {
   "cell_type": "markdown",
   "metadata": {},
   "source": [
    "## Measure observables"
   ]
  },
  {
   "cell_type": "code",
   "execution_count": 14,
   "metadata": {},
   "outputs": [],
   "source": [
    "rbins = np.logspace(-1,1.5,15)\n",
    "rbin_centers = (rbins[:-1]+rbins[1:])/2.0"
   ]
  },
  {
   "cell_type": "code",
   "execution_count": 15,
   "metadata": {},
   "outputs": [
    {
     "name": "stdout",
     "output_type": "stream",
     "text": [
      "estimated time to complete jackknife calculation (s): 46.9998779297\n",
      "estimated time to complete jackknife calculation (s): 58.8820495605\n"
     ]
    }
   ],
   "source": [
    "from intrinsic_alignments.utils.jackknife_observables import jackknife_ed_3d, jackknife_ee_3d\n",
    "\n",
    "result_1, cov_1 = jackknife_ee_3d(coords[selection_mask], gal_orientations_major[selection_mask],\n",
    "                                  coords[selection_mask], gal_orientations_major[selection_mask],\n",
    "                                  rbins, period=Lbox,\n",
    "                                  Nsub=[4, 4, 4], verbose=True)\n",
    "result_1_err = np.sqrt(np.diag(cov_1))\n",
    "\n",
    "result_2, cov_2 = jackknife_ed_3d(coords[selection_mask], gal_orientations_major[selection_mask],\n",
    "                                  coords[selection_mask],\n",
    "                                  rbins, period=Lbox,\n",
    "                                  Nsub=[4, 4, 4], verbose=True)\n",
    "result_2_err = np.sqrt(np.diag(cov_2))"
   ]
  },
  {
   "cell_type": "code",
   "execution_count": 16,
   "metadata": {},
   "outputs": [
    {
     "data": {
      "image/png": "[encoded data removed]",
      "text/plain": [
       "<Figure size 237.6x237.6 with 1 Axes>"
      ]
     },
     "metadata": {
      "needs_background": "light"
     },
     "output_type": "display_data"
    },
    {
     "data": {
      "image/png": "[encoded data removed]",
      "text/plain": [
       "<Figure size 237.6x237.6 with 1 Axes>"
      ]
     },
     "metadata": {
      "needs_background": "light"
     },
     "output_type": "display_data"
    }
   ],
   "source": [
    "fig, ax = plt.subplots(1,1, sharex=False, sharey=False, figsize=(3.3,3.3))\n",
    "fig.subplots_adjust(left=0.2, right=0.9, bottom=0.2, top=0.9)\n",
    "ax.errorbar(rbin_centers, result_1, result_1_err, fmt='o', ms=4)\n",
    "ax.plot([0.001,100],[0,0], '--', color='black')\n",
    "ax.set_xscale('log')\n",
    "ax.set_ylim([-0.05,0.05])\n",
    "ax.set_xlim([0.1,30])\n",
    "ax.set_ylabel(r'$\\eta(r)$')\n",
    "ax.set_xlabel(r'$r~[h^{-1}{\\rm Mpc}]$')\n",
    "plt.show()\n",
    "\n",
    "fig, ax = plt.subplots(1,1, sharex=False, sharey=False, figsize=(3.3,3.3))\n",
    "fig.subplots_adjust(left=0.2, right=0.9, bottom=0.2, top=0.9)\n",
    "ax.errorbar(rbin_centers, result_2, result_2_err, fmt='o', ms=4)\n",
    "ax.set_xscale('log')\n",
    "ax.set_yscale('log')\n",
    "ax.set_ylim([0.001,0.2])\n",
    "ax.set_xlim([0.1,30])\n",
    "ax.set_ylabel(r'$\\omega(r)$')\n",
    "ax.set_xlabel(r'$r~[h^{-1}{\\rm Mpc}]$')\n",
    "plt.show()\n"
   ]
  },
  {
   "cell_type": "markdown",
   "metadata": {},
   "source": [
    "## halo model"
   ]
  },
  {
   "cell_type": "code",
   "execution_count": 56,
   "metadata": {},
   "outputs": [],
   "source": [
    "# load a test halo catalog\n",
    "\n",
    "from halotools.sim_manager import CachedHaloCatalog\n",
    "halocat = CachedHaloCatalog(simname='bolplanck', halo_finder='rockstar',\n",
    "                            redshift=0.0, dz_tol=0.1, version_name='halotools_v0p4')\n",
    "\n",
    "#halocat = CachedHaloCatalog(simname='smdpl_400', halo_finder='Rockstar',\n",
    "#                            redshift=0.0, dz_tol=0.1, version_name='custom')\n",
    "\n",
    "#halocat = CachedHaloCatalog(simname='mdpl2_1000', halo_finder='Rockstar',\n",
    "#                            redshift=0.0, dz_tol=0.1, version_name='custom')\n",
    "\n",
    "# add estimate of minor axis\n",
    "from rotations.vector_utilities import normalized_vectors\n",
    "B = np.vstack((halocat.halo_table['halo_axisA_x'],\n",
    "               halocat.halo_table['halo_axisA_y'],\n",
    "               halocat.halo_table['halo_axisA_z'])).T\n",
    "A = np.vstack((halocat.halo_table['halo_jx'],\n",
    "               halocat.halo_table['halo_jy'],\n",
    "               halocat.halo_table['halo_jz'])).T\n",
    "B = normalized_vectors(B)\n",
    "A = normalized_vectors(A)\n",
    "\n",
    "D = np.cross(A, B)\n",
    "C = np.cross(B, D)\n",
    "\n",
    "halocat.halo_table['halo_axisC_x'] = C[:,0]\n",
    "halocat.halo_table['halo_axisC_y'] = C[:,1]\n",
    "halocat.halo_table['halo_axisC_z'] = C[:,2]"
   ]
  },
  {
   "cell_type": "code",
   "execution_count": 18,
   "metadata": {},
   "outputs": [
    {
     "data": {
      "text/html": [
       "&lt;Table length=37828341&gt;\n",
       "<table id=\"table140586531752912\" class=\"table-striped table-bordered table-condensed\">\n",
       "<thead><tr><th>halo_upid</th><th>halo_b_to_a</th><th>halo_axisA_x</th><th>halo_axisA_y</th><th>halo_y</th><th>halo_vacc</th><th>halo_pid</th><th>halo_x</th><th>halo_z</th><th>halo_m200b</th><th>halo_m200c</th><th>halo_c_to_a</th><th>halo_acc_scale</th><th>halo_rvir</th><th>halo_vpeak</th><th>halo_axisA_z</th><th>halo_mpeak_scale</th><th>halo_vmax</th><th>halo_mpeak</th><th>halo_macc</th><th>halo_vmax_at_mpeak</th><th>halo_id</th><th>halo_first_acc_scale</th><th>halo_vx</th><th>halo_vy</th><th>halo_vz</th><th>halo_jx</th><th>halo_jy</th><th>halo_jz</th><th>halo_rs</th><th>halo_half_mass_scale</th><th>halo_mvir</th><th>halo_nfw_conc</th><th>halo_hostid</th><th>halo_mvir_host_halo</th><th>halo_axisC_x</th><th>halo_axisC_y</th><th>halo_axisC_z</th></tr></thead>\n",
       "<thead><tr><th>int64</th><th>float32</th><th>float32</th><th>float32</th><th>float32</th><th>float32</th><th>int64</th><th>float32</th><th>float32</th><th>float32</th><th>float32</th><th>float32</th><th>float32</th><th>float32</th><th>float32</th><th>float32</th><th>float32</th><th>float32</th><th>float32</th><th>float32</th><th>float32</th><th>int64</th><th>float32</th><th>float32</th><th>float32</th><th>float32</th><th>float32</th><th>float32</th><th>float32</th><th>float32</th><th>float32</th><th>float32</th><th>float32</th><th>int64</th><th>float32</th><th>float32</th><th>float32</th><th>float32</th></tr></thead>\n",
       "<tr><td>-1</td><td>0.68498</td><td>45.6166</td><td>18.7846</td><td>17.93721</td><td>794.61</td><td>-1</td><td>13.78148</td><td>15.99919</td><td>129810000000000.0</td><td>96138000000000.0</td><td>0.61681</td><td>1.0</td><td>0.985232</td><td>884.21</td><td>10.1838</td><td>0.8324</td><td>794.61</td><td>116680000000000.0</td><td>113520000000000.0</td><td>790.27</td><td>11994464703</td><td>1.0</td><td>-66.62</td><td>156.22</td><td>-166.2</td><td>624900000000000.0</td><td>799100000000000.0</td><td>3056000000000000.0</td><td>0.142735</td><td>0.442</td><td>113520000000000.0</td><td>6.9025254</td><td>11994464703</td><td>113520000000000.0</td><td>-0.222642</td><td>0.07657092</td><td>0.8560476</td></tr>\n",
       "<tr><td>-1</td><td>0.72217</td><td>12.2561</td><td>-18.4853</td><td>18.68475</td><td>688.61</td><td>-1</td><td>10.20494</td><td>14.45674</td><td>105910000000000.0</td><td>73603000000000.0</td><td>0.57063</td><td>1.0</td><td>0.91784</td><td>792.31</td><td>36.468</td><td>1.0</td><td>688.61</td><td>91783000000000.0</td><td>91783000000000.0</td><td>688.61</td><td>11994466051</td><td>1.0</td><td>230.68</td><td>376.37</td><td>-171.26</td><td>655600000000000.0</td><td>1451000000000000.0</td><td>3874000000000000.0</td><td>0.181766</td><td>0.6104</td><td>91783000000000.0</td><td>5.049569</td><td>11994466051</td><td>91783000000000.0</td><td>-0.040213533</td><td>0.64316183</td><td>0.33952785</td></tr>\n",
       "<tr><td>-1</td><td>0.78226</td><td>-7.65737</td><td>36.6105</td><td>37.99561</td><td>573.08</td><td>-1</td><td>0.42518</td><td>3.04904</td><td>54866000000000.0</td><td>36684000000000.0</td><td>0.64501</td><td>1.0</td><td>0.715539</td><td>622.33</td><td>6.69149</td><td>1.0</td><td>573.08</td><td>43487000000000.0</td><td>43487000000000.0</td><td>573.08</td><td>11994880314</td><td>1.0</td><td>-39.33</td><td>673.76</td><td>-419.49</td><td>194200000000000.0</td><td>-603300000000000.0</td><td>164000000000000.0</td><td>0.105363995</td><td>0.5684</td><td>43487000000000.0</td><td>6.791115</td><td>11994880314</td><td>43487000000000.0</td><td>0.11454292</td><td>-0.050914705</td><td>0.40964124</td></tr>\n",
       "<tr><td>-1</td><td>0.42231</td><td>-23.1869</td><td>-15.5698</td><td>2.5109</td><td>607.75</td><td>-1</td><td>27.19982</td><td>25.23063</td><td>44030000000000.0</td><td>37263000000000.0</td><td>0.31774</td><td>1.0</td><td>0.706323</td><td>610.64</td><td>41.5877</td><td>1.0</td><td>607.75</td><td>41829000000000.0</td><td>41829000000000.0</td><td>607.75</td><td>11994490119</td><td>1.0</td><td>114.18</td><td>171.64</td><td>73.89</td><td>-1386000000000000.0</td><td>884500000000000.0</td><td>-706900000000000.0</td><td>0.089035004</td><td>0.8984</td><td>41829000000000.0</td><td>7.9330935</td><td>11994490119</td><td>41829000000000.0</td><td>-0.8313858</td><td>0.4559696</td><td>-0.29282466</td></tr>\n",
       "<tr><td>-1</td><td>0.62796</td><td>-13.4031</td><td>34.3081</td><td>27.62044</td><td>546.45</td><td>-1</td><td>5.07394</td><td>10.82814</td><td>43574000000000.0</td><td>30755000000000.0</td><td>0.54901</td><td>1.0</td><td>0.688006</td><td>574.02</td><td>5.20395</td><td>0.8414</td><td>546.45</td><td>39404000000000.0</td><td>38658000000000.0</td><td>549.67</td><td>11994879649</td><td>1.0</td><td>13.54</td><td>133.22</td><td>-193.09</td><td>699900000000000.0</td><td>299700000000000.0</td><td>-800000000000000.0</td><td>0.107521005</td><td>0.53</td><td>38658000000000.0</td><td>6.398805</td><td>11994879649</td><td>38658000000000.0</td><td>0.6051351</td><td>0.34459868</td><td>-0.71327364</td></tr>\n",
       "<tr><td>-1</td><td>0.76123</td><td>-13.2959</td><td>-14.0463</td><td>24.66384</td><td>557.57</td><td>-1</td><td>3.58714</td><td>3.85697</td><td>38944000000000.0</td><td>31768000000000.0</td><td>0.70509</td><td>1.0</td><td>0.673361</td><td>606.67</td><td>25.5757</td><td>1.0</td><td>557.57</td><td>36242000000000.0</td><td>36242000000000.0</td><td>557.57</td><td>11994466467</td><td>1.0</td><td>145.54</td><td>340.09</td><td>-16.57</td><td>221300000000000.0</td><td>-615300000000000.0</td><td>-132000000000000.0</td><td>0.080086</td><td>0.442</td><td>36242000000000.0</td><td>8.407974</td><td>11994466467</td><td>36242000000000.0</td><td>0.37680262</td><td>-0.87478256</td><td>-0.28454852</td></tr>\n",
       "<tr><td>-1</td><td>0.44829</td><td>-16.4834</td><td>56.2679</td><td>30.83088</td><td>539.99</td><td>-1</td><td>0.65961</td><td>0.40194</td><td>37169000000000.0</td><td>31388000000000.0</td><td>0.30543</td><td>1.0</td><td>0.66177505</td><td>606.83</td><td>5.70815</td><td>1.0</td><td>539.99</td><td>34403000000000.0</td><td>34403000000000.0</td><td>539.99</td><td>11994880625</td><td>1.0</td><td>11.69</td><td>376.94</td><td>-40.94</td><td>721500000000000.0</td><td>339800000000000.0</td><td>-176000000000000.0</td><td>0.105984</td><td>0.8324</td><td>34403000000000.0</td><td>6.2441034</td><td>11994880625</td><td>34403000000000.0</td><td>0.9196194</td><td>0.2925309</td><td>-0.22803275</td></tr>\n",
       "<tr><td>-1</td><td>0.72503</td><td>27.3942</td><td>15.4348</td><td>11.37242</td><td>496.43</td><td>-1</td><td>13.5985</td><td>22.15908</td><td>35469000000000.0</td><td>26319000000000.0</td><td>0.68713</td><td>1.0</td><td>0.646026</td><td>551.59</td><td>1.92807</td><td>1.0</td><td>496.43</td><td>32005000000000.0</td><td>32005000000000.0</td><td>496.43</td><td>11994491119</td><td>1.0</td><td>118.45</td><td>73.11</td><td>-351.11</td><td>350300000000000.0</td><td>-691800000000000.0</td><td>314400000000000.0</td><td>0.124532</td><td>0.6643</td><td>32005000000000.0</td><td>5.1876307</td><td>11994491119</td><td>32005000000000.0</td><td>0.43432942</td><td>-0.81793684</td><td>0.37684494</td></tr>\n",
       "<tr><td>-1</td><td>0.78082</td><td>18.1928</td><td>20.0522</td><td>16.34173</td><td>505.9</td><td>-1</td><td>7.56382</td><td>11.56551</td><td>27456000000000.0</td><td>21298000000000.0</td><td>0.63042</td><td>1.0</td><td>0.59859496</td><td>513.99</td><td>9.79576</td><td>1.0</td><td>505.9</td><td>25460000000000.0</td><td>25460000000000.0</td><td>505.9</td><td>11994467637</td><td>1.0</td><td>102.64</td><td>415.31</td><td>137.49</td><td>85430000000000.0</td><td>205600000000000.0</td><td>-128300000000000.0</td><td>0.068176</td><td>0.442</td><td>25460000000000.0</td><td>8.780142</td><td>11994467637</td><td>25460000000000.0</td><td>-0.045022815</td><td>0.3840496</td><td>-0.7025435</td></tr>\n",
       "<tr><td>-1</td><td>0.71216</td><td>-7.73209</td><td>-15.517</td><td>17.42313</td><td>490.76</td><td>-1</td><td>13.31823</td><td>38.79113</td><td>25631000000000.0</td><td>22188000000000.0</td><td>0.53304</td><td>1.0</td><td>0.591266</td><td>565.73</td><td>20.7891</td><td>1.0</td><td>490.76</td><td>24536000000000.0</td><td>24536000000000.0</td><td>490.76</td><td>11994491624</td><td>1.0</td><td>369.57</td><td>171.22</td><td>-290.35</td><td>221200000000000.0</td><td>398900000000000.0</td><td>356800000000000.0</td><td>0.06143</td><td>0.5684</td><td>24536000000000.0</td><td>9.625036</td><td>11994491624</td><td>24536000000000.0</td><td>0.37317973</td><td>0.67118275</td><td>0.639768</td></tr>\n",
       "<tr><td>...</td><td>...</td><td>...</td><td>...</td><td>...</td><td>...</td><td>...</td><td>...</td><td>...</td><td>...</td><td>...</td><td>...</td><td>...</td><td>...</td><td>...</td><td>...</td><td>...</td><td>...</td><td>...</td><td>...</td><td>...</td><td>...</td><td>...</td><td>...</td><td>...</td><td>...</td><td>...</td><td>...</td><td>...</td><td>...</td><td>...</td><td>...</td><td>...</td><td>...</td><td>...</td><td>...</td><td>...</td><td>...</td></tr>\n",
       "<tr><td>12076590787</td><td>0.0</td><td>0.0</td><td>0.0</td><td>367.72586</td><td>12.607524</td><td>12076590784</td><td>388.85638</td><td>367.29614</td><td>289040000.0</td><td>289040000.0</td><td>0.0</td><td>0.925</td><td>0.013453</td><td>48.9</td><td>0.0</td><td>0.53</td><td>12.74</td><td>14067000000.0</td><td>385383000.0</td><td>48.9</td><td>12076590776</td><td>0.652</td><td>-37.69</td><td>-457.22</td><td>-480.04</td><td>1927000.0</td><td>-715300.0</td><td>-5380000.0</td><td>0.00090600003</td><td>0.248</td><td>289040000.0</td><td>14.848785</td><td>12076590787</td><td>1873900000000.0</td><td>nan</td><td>nan</td><td>nan</td></tr>\n",
       "<tr><td>-1</td><td>0.0</td><td>0.0</td><td>0.0</td><td>363.32742</td><td>10.34</td><td>-1</td><td>397.5054</td><td>394.80417</td><td>1252500000.0</td><td>0.0</td><td>0.0</td><td>1.0</td><td>0.013453</td><td>36.64</td><td>0.0</td><td>0.53</td><td>10.34</td><td>5202700000.0</td><td>289040000.0</td><td>32.52</td><td>12076606162</td><td>0.688</td><td>-162.99</td><td>-65.4</td><td>-161.02</td><td>8547000.0</td><td>-4574000.0</td><td>488600.0</td><td>0.00247</td><td>0.258</td><td>289040000.0</td><td>5.446559</td><td>12076606162</td><td>289040000.0</td><td>nan</td><td>nan</td><td>nan</td></tr>\n",
       "<tr><td>-1</td><td>0.0</td><td>0.0</td><td>0.0</td><td>361.45346</td><td>10.67</td><td>-1</td><td>378.26428</td><td>396.62317</td><td>289040000.0</td><td>0.0</td><td>0.0</td><td>1.0</td><td>0.013453</td><td>43.18</td><td>0.0</td><td>0.6704</td><td>10.67</td><td>6551500000.0</td><td>289040000.0</td><td>34.33</td><td>12076619431</td><td>0.7</td><td>-78.5</td><td>-224.13</td><td>-78.48</td><td>-970300.0</td><td>811200.0</td><td>372100.0</td><td>0.002026</td><td>0.281</td><td>289040000.0</td><td>6.6401777</td><td>12076619431</td><td>289040000.0</td><td>nan</td><td>nan</td><td>nan</td></tr>\n",
       "<tr><td>-1</td><td>0.0</td><td>0.0</td><td>0.0</td><td>364.709</td><td>10.42</td><td>-1</td><td>381.46542</td><td>399.216</td><td>385380000.0</td><td>192690000.0</td><td>0.0</td><td>1.0</td><td>0.013453</td><td>49.17</td><td>0.0</td><td>0.407</td><td>10.42</td><td>6744200000.0</td><td>289040000.0</td><td>44.61</td><td>12076619753</td><td>0.407</td><td>-118.81</td><td>164.81</td><td>118.99</td><td>-4310000.0</td><td>594700.0</td><td>4192000.0</td><td>0.0023440002</td><td>0.178</td><td>289040000.0</td><td>5.739334</td><td>12076619753</td><td>289040000.0</td><td>nan</td><td>nan</td><td>nan</td></tr>\n",
       "<tr><td>12076862667</td><td>0.0</td><td>0.0</td><td>0.0</td><td>394.18137</td><td>19.69</td><td>12076862667</td><td>392.21356</td><td>360.61267</td><td>289040000.0</td><td>289040000.0</td><td>0.0</td><td>0.817</td><td>0.013453</td><td>55.52</td><td>0.0</td><td>0.305</td><td>11.08</td><td>9056500000.0</td><td>1830600000.0</td><td>50.39</td><td>12076862621</td><td>0.407</td><td>98.9</td><td>476.64</td><td>-296.42</td><td>3153000.0</td><td>-321000.0</td><td>-1990000.0</td><td>0.00166</td><td>0.238</td><td>289040000.0</td><td>8.104218</td><td>12076862667</td><td>19044000000000.0</td><td>nan</td><td>nan</td><td>nan</td></tr>\n",
       "<tr><td>-1</td><td>0.0</td><td>0.0</td><td>0.0</td><td>385.59485</td><td>10.7</td><td>-1</td><td>373.3147</td><td>389.36716</td><td>289040000.0</td><td>0.0</td><td>0.0</td><td>1.0</td><td>0.013453</td><td>48.56</td><td>0.0</td><td>0.6464</td><td>10.7</td><td>5202700000.0</td><td>289040000.0</td><td>34.12</td><td>12076879273</td><td>0.706</td><td>43.32</td><td>-4.78</td><td>35.4</td><td>-287700.0</td><td>-1566000.0</td><td>-3518000.0</td><td>0.001996</td><td>0.248</td><td>289040000.0</td><td>6.7399797</td><td>12076879273</td><td>289040000.0</td><td>nan</td><td>nan</td><td>nan</td></tr>\n",
       "<tr><td>-1</td><td>0.0</td><td>0.0</td><td>0.0</td><td>394.6669</td><td>9.55</td><td>-1</td><td>373.94177</td><td>371.5808</td><td>385380000.0</td><td>192690000.0</td><td>0.0</td><td>1.0</td><td>0.011753</td><td>42.7</td><td>0.0</td><td>0.5444</td><td>9.55</td><td>7129600000.0</td><td>192690000.0</td><td>37.72</td><td>12076878827</td><td>0.61</td><td>-158.02</td><td>3.32</td><td>-31.49</td><td>0.0</td><td>0.0</td><td>0.0</td><td>0.001555</td><td>0.359</td><td>192690000.0</td><td>7.5582</td><td>12076878827</td><td>192690000.0</td><td>nan</td><td>nan</td><td>nan</td></tr>\n",
       "<tr><td>-1</td><td>0.0</td><td>0.0</td><td>0.0</td><td>387.6201</td><td>10.95</td><td>-1</td><td>382.15802</td><td>389.1831</td><td>192690000.0</td><td>192690000.0</td><td>0.0</td><td>1.0</td><td>0.011753</td><td>52.79</td><td>0.0</td><td>0.53</td><td>10.95</td><td>12814000000.0</td><td>192690000.0</td><td>51.6</td><td>12076879769</td><td>0.658</td><td>-148.98</td><td>99.44</td><td>238.61</td><td>0.0</td><td>0.0</td><td>0.0</td><td>0.00084399997</td><td>0.269</td><td>192690000.0</td><td>13.925357</td><td>12076879769</td><td>192690000.0</td><td>nan</td><td>nan</td><td>nan</td></tr>\n",
       "<tr><td>-1</td><td>0.0</td><td>0.0</td><td>0.0</td><td>386.12155</td><td>8.87</td><td>-1</td><td>385.37964</td><td>398.91595</td><td>289040000.0</td><td>0.0</td><td>0.0</td><td>1.0</td><td>0.011753</td><td>46.55</td><td>0.0</td><td>0.5444</td><td>8.87</td><td>10213000000.0</td><td>192690000.0</td><td>42.18</td><td>12076894013</td><td>0.664</td><td>199.69</td><td>-33.19</td><td>-20.31</td><td>-12580000.0</td><td>-1851000.0</td><td>-2684000.0</td><td>0.002441</td><td>0.318</td><td>192690000.0</td><td>4.8148303</td><td>12076894013</td><td>192690000.0</td><td>nan</td><td>nan</td><td>nan</td></tr>\n",
       "<tr><td>12076896215</td><td>0.0</td><td>0.0</td><td>0.0</td><td>396.7396</td><td>14.06</td><td>12076896215</td><td>385.02228</td><td>391.91205</td><td>192690000.0</td><td>192690000.0</td><td>0.0</td><td>0.88</td><td>0.011753</td><td>44.04</td><td>0.0</td><td>0.375</td><td>10.48</td><td>4817300000.0</td><td>770770000.0</td><td>37.06</td><td>12076896156</td><td>0.592</td><td>246.67</td><td>293.9</td><td>-224.02</td><td>0.0</td><td>0.0</td><td>0.0</td><td>0.00101</td><td>0.194</td><td>192690000.0</td><td>11.636634</td><td>12076896215</td><td>24662000000000.0</td><td>nan</td><td>nan</td><td>nan</td></tr>\n",
       "</table>"
      ],
      "text/plain": [
       "<Table length=37828341>\n",
       " halo_upid  halo_b_to_a halo_axisA_x ... halo_axisC_x halo_axisC_y halo_axisC_z\n",
       "   int64      float32     float32    ...   float32      float32      float32   \n",
       "----------- ----------- ------------ ... ------------ ------------ ------------\n",
       "         -1     0.68498      45.6166 ...    -0.222642   0.07657092    0.8560476\n",
       "         -1     0.72217      12.2561 ... -0.040213533   0.64316183   0.33952785\n",
       "         -1     0.78226     -7.65737 ...   0.11454292 -0.050914705   0.40964124\n",
       "         -1     0.42231     -23.1869 ...   -0.8313858    0.4559696  -0.29282466\n",
       "         -1     0.62796     -13.4031 ...    0.6051351   0.34459868  -0.71327364\n",
       "         -1     0.76123     -13.2959 ...   0.37680262  -0.87478256  -0.28454852\n",
       "         -1     0.44829     -16.4834 ...    0.9196194    0.2925309  -0.22803275\n",
       "         -1     0.72503      27.3942 ...   0.43432942  -0.81793684   0.37684494\n",
       "         -1     0.78082      18.1928 ... -0.045022815    0.3840496   -0.7025435\n",
       "         -1     0.71216     -7.73209 ...   0.37317973   0.67118275     0.639768\n",
       "        ...         ...          ... ...          ...          ...          ...\n",
       "12076590787         0.0          0.0 ...          nan          nan          nan\n",
       "         -1         0.0          0.0 ...          nan          nan          nan\n",
       "         -1         0.0          0.0 ...          nan          nan          nan\n",
       "         -1         0.0          0.0 ...          nan          nan          nan\n",
       "12076862667         0.0          0.0 ...          nan          nan          nan\n",
       "         -1         0.0          0.0 ...          nan          nan          nan\n",
       "         -1         0.0          0.0 ...          nan          nan          nan\n",
       "         -1         0.0          0.0 ...          nan          nan          nan\n",
       "         -1         0.0          0.0 ...          nan          nan          nan\n",
       "12076896215         0.0          0.0 ...          nan          nan          nan"
      ]
     },
     "execution_count": 18,
     "metadata": {},
     "output_type": "execute_result"
    }
   ],
   "source": [
    "halocat.halo_table"
   ]
  },
  {
   "cell_type": "code",
   "execution_count": 44,
   "metadata": {},
   "outputs": [],
   "source": [
    "from halotools.empirical_models import HodModelFactory\n",
    "\n",
    "# define the central occupatoion model\n",
    "from halotools.empirical_models import TrivialPhaseSpace, Zheng07Cens\n",
    "cens_occ_model =  Zheng07Cens(prim_haloprop_key='halo_m200b')\n",
    "cens_prof_model = TrivialPhaseSpace()\n",
    "\n",
    "# define the satellite occupation model\n",
    "from halotools.empirical_models import Zheng07Sats\n",
    "from halotools.empirical_models import NFWPhaseSpace, SubhaloPhaseSpace\n",
    "from intrinsic_alignments.ia_models.anisotropic_nfw_phase_space import AnisotropicNFWPhaseSpace\n",
    "sats_occ_model =  Zheng07Sats(prim_haloprop_key='halo_m200b')\n",
    "#sats_prof_model = AnisotropicNFWPhaseSpace(anisotropy_bias=1.1)\n",
    "#sats_prof_model = NFWPhaseSpace()\n",
    "sats_prof_model = SubhaloPhaseSpace('satellites', np.logspace(10.4, 15.5, 15))\n",
    "\n",
    "# define the alignment models\n",
    "from intrinsic_alignments.ia_models.ia_model_components import CentralAlignment,\\\n",
    "    RadialSatelliteAlignment,  MajorAxisSatelliteAlignment, HybridSatelliteAlignment\n",
    "central_orientation_model = CentralAlignment()\n",
    "satellite_orientation_model = RadialSatelliteAlignment()"
   ]
  },
  {
   "cell_type": "code",
   "execution_count": 45,
   "metadata": {},
   "outputs": [],
   "source": [
    "# 10.5\n",
    "cens_occ_model.param_dict['logMmin'] = 12.54\n",
    "cens_occ_model.param_dict['sigma_logM'] = 0.26\n",
    "\n",
    "sats_occ_model.param_dict['alpha'] = 1.0\n",
    "sats_occ_model.param_dict['logM0'] = 12.68\n",
    "sats_occ_model.param_dict['logM1'] = 13.48\n",
    "\n",
    "central_orientation_model.param_dict['central_alignment_strength'] = 0.755\n",
    "satellite_orientation_model.param_dict['satellite_alignment_strength'] = 0.279"
   ]
  },
  {
   "cell_type": "code",
   "execution_count": 22,
   "metadata": {},
   "outputs": [],
   "source": [
    "# 10.0\n",
    "cens_occ_model.param_dict['logMmin'] = 11.93\n",
    "cens_occ_model.param_dict['sigma_logM'] = 0.26\n",
    "\n",
    "sats_occ_model.param_dict['alpha'] = 1.0\n",
    "sats_occ_model.param_dict['logM0'] = 12.05\n",
    "sats_occ_model.param_dict['logM1'] = 12.85\n",
    "\n",
    "central_orientation_model.param_dict['central_alignment_strength'] = 0.64\n",
    "satellite_orientation_model.param_dict['satellite_alignment_strength'] = 0.084"
   ]
  },
  {
   "cell_type": "code",
   "execution_count": 23,
   "metadata": {},
   "outputs": [],
   "source": [
    "# 9.5\n",
    "cens_occ_model.param_dict['logMmin'] = 11.61\n",
    "cens_occ_model.param_dict['sigma_logM'] = 0.26\n",
    "\n",
    "sats_occ_model.param_dict['alpha'] = 1.0\n",
    "sats_occ_model.param_dict['logM0'] = 11.8\n",
    "sats_occ_model.param_dict['logM1'] = 12.6\n",
    "\n",
    "central_orientation_model.param_dict['central_alignment_strength'] = 0.57172919\n",
    "satellite_orientation_model.param_dict['satellite_alignment_strength'] = 0.01995"
   ]
  },
  {
   "cell_type": "code",
   "execution_count": 46,
   "metadata": {},
   "outputs": [],
   "source": [
    "# combine model components\n",
    "model_instance = HodModelFactory(centrals_occupation = cens_occ_model,\n",
    "                                 centrals_profile = cens_prof_model,\n",
    "                                 satellites_occupation = sats_occ_model,\n",
    "                                 satellites_profile = sats_prof_model,\n",
    "                                 centrals_orientation = central_orientation_model,\n",
    "                                 satellites_orientation = satellite_orientation_model,\n",
    "                                 model_feature_calling_sequence = (\n",
    "                                 'centrals_occupation',\n",
    "                                 'centrals_profile',\n",
    "                                 'satellites_occupation',\n",
    "                                 'satellites_profile',\n",
    "                                 'centrals_orientation',\n",
    "                                 'satellites_orientation')\n",
    "                                )"
   ]
  },
  {
   "cell_type": "code",
   "execution_count": 57,
   "metadata": {},
   "outputs": [
    {
     "name": "stdout",
     "output_type": "stream",
     "text": [
      "number of galaxies:  33139\n"
     ]
    }
   ],
   "source": [
    "# populate mock catalog\n",
    "model_instance.populate_mock(halocat)\n",
    "print(\"number of galaxies: \", len(model_instance.mock.galaxy_table))\n",
    "\n",
    "mock = model_instance.mock.galaxy_table"
   ]
  },
  {
   "cell_type": "markdown",
   "metadata": {},
   "source": [
    "## observables"
   ]
  },
  {
   "cell_type": "code",
   "execution_count": 58,
   "metadata": {},
   "outputs": [],
   "source": [
    "# galaxy coordinates and orientations\n",
    "galaxy_coords = np.vstack((mock['x'],\n",
    "                           mock['y'],\n",
    "                           mock['z'])).T\n",
    "\n",
    "galaxy_orientations = np.vstack((mock['galaxy_axisA_x'],\n",
    "                                 mock['galaxy_axisA_y'],\n",
    "                                 mock['galaxy_axisA_z'])).T"
   ]
  },
  {
   "cell_type": "code",
   "execution_count": 59,
   "metadata": {},
   "outputs": [],
   "source": [
    "from halotools.mock_observables import tpcf, tpcf_jackknife\n",
    "\n",
    "rbins = np.logspace(-1,1.5,15)\n",
    "rbin_centers = (rbins[:-1]+rbins[1:])/2.0\n",
    "\n",
    "xi_mock = tpcf(galaxy_coords, rbins, period=halocat.Lbox)"
   ]
  },
  {
   "cell_type": "code",
   "execution_count": 60,
   "metadata": {},
   "outputs": [],
   "source": [
    "xi_tng = tpcf(coords[selection_mask], rbins, period=Lbox)\n",
    "xi_tng_err = xi_tng * 0.0"
   ]
  },
  {
   "cell_type": "code",
   "execution_count": 61,
   "metadata": {},
   "outputs": [],
   "source": [
    "N=10**5\n",
    "randoms = np.random.random((N,3))*halocat.Lbox\n",
    "#xi_tng, xi_tng_cov = tpcf_jackknife(coords[selection_mask], randoms, rbins, period=Lbox, Nsub=[2, 2, 2])\n",
    "#xi_tng_err = np.sqrt(np.diag(xi_tng_cov))"
   ]
  },
  {
   "cell_type": "code",
   "execution_count": 62,
   "metadata": {},
   "outputs": [
    {
     "data": {
      "image/png": "[encoded data removed]",
      "text/plain": [
       "<Figure size 432x288 with 1 Axes>"
      ]
     },
     "metadata": {
      "needs_background": "light"
     },
     "output_type": "display_data"
    }
   ],
   "source": [
    "plt.figure()\n",
    "plt.plot(rbin_centers, xi_mock)\n",
    "plt.plot(rbin_centers, xi_tng, 'o')\n",
    "plt.errorbar(rbin_centers, xi_tng, yerr=xi_tng_err, fmt= 'o')\n",
    "plt.xscale('log')\n",
    "plt.yscale('log')\n",
    "plt.ylim([0.01,5000])\n",
    "plt.ylabel(r'$\\xi(r)$')\n",
    "plt.xlabel(r'$r ~[h^{-1}{\\rm Mpc}]$')\n",
    "plt.show()"
   ]
  },
  {
   "cell_type": "code",
   "execution_count": 63,
   "metadata": {},
   "outputs": [],
   "source": [
    "from halotools.mock_observables.alignments import ed_3d, ee_3d\n",
    "\n",
    "result_11 = ee_3d(galaxy_coords, galaxy_orientations,\n",
    "                  galaxy_coords, galaxy_orientations,\n",
    "                  rbins, period=halocat.Lbox)\n",
    "\n",
    "result_22 = ed_3d(galaxy_coords, galaxy_orientations,\n",
    "                  galaxy_coords,\n",
    "                  rbins, period=halocat.Lbox)"
   ]
  },
  {
   "cell_type": "code",
   "execution_count": 64,
   "metadata": {},
   "outputs": [],
   "source": [
    "result_11_a = np.copy(result_11)\n",
    "result_22_a = np.copy(result_22)"
   ]
  },
  {
   "cell_type": "code",
   "execution_count": 148,
   "metadata": {},
   "outputs": [],
   "source": [
    "result_11_b = np.copy(result_11)\n",
    "result_22_b = np.copy(result_22)"
   ]
  },
  {
   "cell_type": "code",
   "execution_count": 149,
   "metadata": {},
   "outputs": [],
   "source": [
    "result_11_c = np.copy(result_11)\n",
    "result_22_c = np.copy(result_22)"
   ]
  },
  {
   "cell_type": "code",
   "execution_count": 65,
   "metadata": {},
   "outputs": [
    {
     "data": {
      "image/png": "[encoded data removed]",
      "text/plain": [
       "<Figure size 237.6x237.6 with 1 Axes>"
      ]
     },
     "metadata": {
      "needs_background": "light"
     },
     "output_type": "display_data"
    },
    {
     "data": {
      "image/png": "[encoded data removed]",
      "text/plain": [
       "<Figure size 237.6x237.6 with 1 Axes>"
      ]
     },
     "metadata": {
      "needs_background": "light"
     },
     "output_type": "display_data"
    }
   ],
   "source": [
    "fig, ax = plt.subplots(1,1, sharex=False, sharey=False, figsize=(3.3,3.3))\n",
    "fig.subplots_adjust(left=0.2, right=0.9, bottom=0.2, top=0.9)\n",
    "ax.errorbar(rbin_centers, result_1, result_1_err, fmt='o', ms=4)\n",
    "ax.plot(rbin_centers, result_11_a, '-')\n",
    "#ax.plot(rbin_centers, result_11_b, ':')\n",
    "#ax.plot(rbin_centers, result_11_c, '-.')\n",
    "ax.plot([0.001,100],[0,0], '--', color='black')\n",
    "ax.set_xscale('log')\n",
    "ax.set_ylim([-0.05,0.05])\n",
    "ax.set_xlim([0.1,30])\n",
    "ax.set_ylabel(r'$\\eta(r)$')\n",
    "ax.set_xlabel(r'$r~[h^{-1}{\\rm Mpc}]$')\n",
    "plt.show()\n",
    "\n",
    "fname = 'ee_comp_10.5.pdf'\n",
    "fig.savefig('/Users/duncan/Desktop/'+fname, dpi=250)\n",
    "\n",
    "fig, ax = plt.subplots(1,1, sharex=False, sharey=False, figsize=(3.3,3.3))\n",
    "fig.subplots_adjust(left=0.2, right=0.9, bottom=0.2, top=0.9)\n",
    "ax.errorbar(rbin_centers, result_2, result_2_err, fmt='o', ms=4)\n",
    "l1, = ax.plot(rbin_centers, result_22_a, '-')\n",
    "#l2, = ax.plot(rbin_centers, result_22_b, ':')\n",
    "#l3, = ax.plot(rbin_centers, result_22_c, '-.')\n",
    "ax.set_xscale('log')\n",
    "ax.set_yscale('log')\n",
    "ax.set_ylim([0.001,0.2])\n",
    "ax.set_xlim([0.1,30])\n",
    "ax.set_ylabel(r'$\\omega(r)$')\n",
    "ax.set_xlabel(r'$r~[h^{-1}{\\rm Mpc}]$')\n",
    "#ax.legend([l1,l2,l3],['triaxial NFW','NFW','SubhaloPhaseSpace'], loc='lower left', frameon=False, fontsize=10)\n",
    "plt.show()\n",
    "\n",
    "fname = 'ed_comp_10.5.pdf'\n",
    "fig.savefig('/Users/duncan/Desktop/'+fname, dpi=250)"
   ]
  },
  {
   "cell_type": "code",
   "execution_count": 143,
   "metadata": {},
   "outputs": [
    {
     "data": {
      "text/plain": [
       "array([0.11029405, 0.1067032 , 0.10086693, 0.14298655, 0.12048577,\n",
       "       0.13346409, 0.16711355, 0.11841315, 0.13375961, 0.12481284,\n",
       "       0.10430888, 0.10100801, 0.12723026, 0.17812767])"
      ]
     },
     "execution_count": 143,
     "metadata": {},
     "output_type": "execute_result"
    }
   ],
   "source": [
    "result_2_err/result_2"
   ]
  },
  {
   "cell_type": "code",
   "execution_count": 151,
   "metadata": {},
   "outputs": [],
   "source": [
    "from halotools.mock_observables.alignments import ee_3d_one_two_halo_decomp, ed_3d_one_two_halo_decomp\n",
    "\n",
    "centrals = (mock['gal_type']=='centrals')\n",
    "satellites = (mock['gal_type']=='satellites')\n",
    "host_ids = mock['halo_hostid']"
   ]
  },
  {
   "cell_type": "code",
   "execution_count": 152,
   "metadata": {},
   "outputs": [],
   "source": [
    "mock_eta_1h_ss, mock_eta_2h_ss = ed_3d_one_two_halo_decomp(galaxy_coords, galaxy_orientations,\n",
    "                                    host_ids,\n",
    "                                    galaxy_coords, host_ids,\n",
    "                                    rbins,\n",
    "                                    mask1 = satellites,  \n",
    "                                    mask2 = satellites,\n",
    "                                    period=halocat.Lbox, num_threads=4)"
   ]
  },
  {
   "cell_type": "code",
   "execution_count": 153,
   "metadata": {},
   "outputs": [],
   "source": [
    "mock_eta_1h_cs, mock_eta_2h_cs = ed_3d_one_two_halo_decomp(galaxy_coords, galaxy_orientations,\n",
    "                                    host_ids,\n",
    "                                    galaxy_coords, host_ids,\n",
    "                                    rbins,\n",
    "                                    mask1 = centrals,  \n",
    "                                    mask2 = satellites,\n",
    "                                    period=halocat.Lbox, num_threads=4)"
   ]
  },
  {
   "cell_type": "code",
   "execution_count": 154,
   "metadata": {},
   "outputs": [],
   "source": [
    "mock_eta_1h_sc, mock_eta_2h_sc = ed_3d_one_two_halo_decomp(galaxy_coords, galaxy_orientations,\n",
    "                                    host_ids,\n",
    "                                    galaxy_coords, host_ids,\n",
    "                                    rbins,\n",
    "                                    mask1 = satellites,  \n",
    "                                    mask2 = centrals,\n",
    "                                    period=halocat.Lbox, num_threads=4)"
   ]
  },
  {
   "cell_type": "code",
   "execution_count": 155,
   "metadata": {},
   "outputs": [],
   "source": [
    "mock_eta_1h_cc, mock_eta_2h_cc = ed_3d_one_two_halo_decomp(galaxy_coords, galaxy_orientations,\n",
    "                                    host_ids,\n",
    "                                    galaxy_coords, host_ids,\n",
    "                                    rbins,\n",
    "                                    mask1 = centrals,  \n",
    "                                    mask2 = centrals,\n",
    "                                    period=halocat.Lbox, num_threads=4)"
   ]
  },
  {
   "cell_type": "code",
   "execution_count": 156,
   "metadata": {},
   "outputs": [
    {
     "data": {
      "image/png": "[encoded data removed]",
      "text/plain": [
       "<Figure size 475.2x475.2 with 1 Axes>"
      ]
     },
     "metadata": {
      "needs_background": "light"
     },
     "output_type": "display_data"
    }
   ],
   "source": [
    "# plot ED results\n",
    "\n",
    "mock_one_halo = mock_eta_1h_cc + mock_eta_1h_sc + mock_eta_1h_cs + mock_eta_1h_ss\n",
    "mock_two_halo = mock_eta_2h_cc + mock_eta_2h_sc + mock_eta_2h_cs + mock_eta_2h_ss\n",
    "\n",
    "fig, ax = plt.subplots(figsize=(6.6,6.6))\n",
    "fig.subplots_adjust(left=0.2, right=0.9, bottom=0.2, top=0.9)\n",
    "ax.errorbar(rbin_centers, result_2, result_2_err, fmt='o', ms=4)\n",
    "plt.plot(rbin_centers, mock_one_halo, '-', color='red')\n",
    "l4, = plt.plot(rbin_centers, mock_eta_1h_cc, '-', color='red')\n",
    "l5, = plt.plot(rbin_centers, mock_eta_1h_sc, '--', color='red')\n",
    "l6, = plt.plot(rbin_centers, mock_eta_1h_cs, ':', color='red')\n",
    "l7, = plt.plot(rbin_centers, mock_eta_1h_ss, '-.', color='red')\n",
    "plt.plot(rbin_centers, mock_two_halo, '-', color='blue')\n",
    "l8, = plt.plot(rbin_centers, mock_eta_2h_cc, '-', color='blue')\n",
    "l9, = plt.plot(rbin_centers, mock_eta_2h_sc, '--', color='blue')\n",
    "l10, = plt.plot(rbin_centers, mock_eta_2h_cs, ':', color='blue')\n",
    "l11, = plt.plot(rbin_centers, mock_eta_2h_ss, '-.', color='blue')\n",
    "ax.set_xscale('log')\n",
    "ax.set_yscale('log')\n",
    "ax.set_ylim([0.0001,0.2])\n",
    "ax.set_xlim([0.1,30])\n",
    "ax.set_ylabel(r'$\\omega(r)$')\n",
    "ax.set_xlabel(r'$r~[h^{-1}{\\rm Mpc}]$')\n",
    "plt.legend([l4,l5,l6, l7, l8, l9, l10, l11],['cc', 'sc', 'cs', 'ss', 'cc', 'sc', 'cs', 'ss'],\n",
    "           frameon=False, loc='upper right', fontsize=10, labelspacing=0.1)\n",
    "plt.show()"
   ]
  },
  {
   "cell_type": "code",
   "execution_count": 157,
   "metadata": {},
   "outputs": [],
   "source": [
    "centrals = (galaxy_table['gal_id']==galaxy_table['central_id'])\n",
    "satellites = (galaxy_table['gal_id']!=galaxy_table['central_id'])\n",
    "host_ids = galaxy_table['central_id']"
   ]
  },
  {
   "cell_type": "code",
   "execution_count": 158,
   "metadata": {},
   "outputs": [],
   "source": [
    "tng_eta_1h_ss, tng_eta_2h_ss = ed_3d_one_two_halo_decomp(coords[selection_mask], gal_orientations_major[selection_mask],\n",
    "                                    host_ids[selection_mask],\n",
    "                                    coords[selection_mask], host_ids[selection_mask],\n",
    "                                    rbins,\n",
    "                                    mask1 = satellites[selection_mask],  \n",
    "                                    mask2 = satellites[selection_mask],\n",
    "                                    period=halocat.Lbox, num_threads=4)"
   ]
  },
  {
   "cell_type": "code",
   "execution_count": 159,
   "metadata": {},
   "outputs": [],
   "source": [
    "tng_eta_1h_cs, tng_eta_2h_cs = ed_3d_one_two_halo_decomp(coords[selection_mask], gal_orientations_major[selection_mask],\n",
    "                                    host_ids[selection_mask],\n",
    "                                    coords[selection_mask], host_ids[selection_mask],\n",
    "                                    rbins,\n",
    "                                    mask1 = centrals[selection_mask],  \n",
    "                                    mask2 = satellites[selection_mask],\n",
    "                                    period=halocat.Lbox, num_threads=4)"
   ]
  },
  {
   "cell_type": "code",
   "execution_count": 160,
   "metadata": {},
   "outputs": [],
   "source": [
    "tng_eta_1h_sc, tng_eta_2h_sc = ed_3d_one_two_halo_decomp(coords[selection_mask], gal_orientations_major[selection_mask],\n",
    "                                    host_ids[selection_mask],\n",
    "                                    coords[selection_mask], host_ids[selection_mask],\n",
    "                                    rbins,\n",
    "                                    mask1 = satellites[selection_mask],  \n",
    "                                    mask2 = centrals[selection_mask],\n",
    "                                    period=halocat.Lbox, num_threads=4)"
   ]
  },
  {
   "cell_type": "code",
   "execution_count": 161,
   "metadata": {},
   "outputs": [],
   "source": [
    "tng_eta_1h_cc, tng_eta_2h_cc = ed_3d_one_two_halo_decomp(coords[selection_mask], gal_orientations_major[selection_mask],\n",
    "                                    host_ids[selection_mask],\n",
    "                                    coords[selection_mask], host_ids[selection_mask],\n",
    "                                    rbins,\n",
    "                                    mask1 = centrals[selection_mask],  \n",
    "                                    mask2 = centrals[selection_mask],\n",
    "                                    period=halocat.Lbox, num_threads=4)"
   ]
  },
  {
   "cell_type": "code",
   "execution_count": 162,
   "metadata": {},
   "outputs": [
    {
     "data": {
      "image/png": "[encoded data removed]",
      "text/plain": [
       "<Figure size 475.2x475.2 with 1 Axes>"
      ]
     },
     "metadata": {
      "needs_background": "light"
     },
     "output_type": "display_data"
    }
   ],
   "source": [
    "# plot ED results\n",
    "\n",
    "tng_one_halo = tng_eta_1h_cc + tng_eta_1h_sc + tng_eta_1h_cs + tng_eta_1h_ss\n",
    "tng_two_halo = tng_eta_2h_cc + tng_eta_2h_sc + tng_eta_2h_cs + tng_eta_2h_ss\n",
    "\n",
    "\n",
    "\n",
    "\n",
    "fig, ax = plt.subplots(figsize=(6.6,6.6))\n",
    "fig.subplots_adjust(left=0.2, right=0.9, bottom=0.2, top=0.9)\n",
    "ax.errorbar(rbin_centers, result_2, result_2_err, fmt='o', ms=4)\n",
    "plt.plot(rbin_centers, tng_one_halo, '-', color='red')\n",
    "l4, = plt.plot(rbin_centers, tng_eta_1h_cc, '-', color='red')\n",
    "l5, = plt.plot(rbin_centers, tng_eta_1h_sc, '--', color='red')\n",
    "l6, = plt.plot(rbin_centers, tng_eta_1h_cs, ':', color='red')\n",
    "l7, = plt.plot(rbin_centers, tng_eta_1h_ss, '-.', color='red')\n",
    "plt.plot(rbin_centers, tng_two_halo, '-', color='blue')\n",
    "l8, = plt.plot(rbin_centers, tng_eta_2h_cc, '-', color='blue')\n",
    "l9, = plt.plot(rbin_centers, tng_eta_2h_sc, '--', color='blue')\n",
    "l10, = plt.plot(rbin_centers, tng_eta_2h_cs, ':', color='blue')\n",
    "l11, = plt.plot(rbin_centers, tng_eta_2h_ss, '-.', color='blue')\n",
    "ax.set_xscale('log')\n",
    "ax.set_yscale('log')\n",
    "ax.set_ylim([0.0001,0.2])\n",
    "ax.set_xlim([0.1,30])\n",
    "ax.set_ylabel(r'$\\omega(r)$')\n",
    "ax.set_xlabel(r'$r~[h^{-1}{\\rm Mpc}]$')\n",
    "plt.legend([l4,l5,l6, l7, l8, l9, l10, l11],['cc', 'sc', 'cs', 'ss', 'cc', 'sc', 'cs', 'ss'],\n",
    "           frameon=False, loc='upper right', fontsize=10, labelspacing=0.1)\n",
    "plt.show()"
   ]
  },
  {
   "cell_type": "code",
   "execution_count": 184,
   "metadata": {},
   "outputs": [
    {
     "data": {
      "image/png": "[encoded data removed]",
      "text/plain": [
       "<Figure size 475.2x475.2 with 1 Axes>"
      ]
     },
     "metadata": {
      "needs_background": "light"
     },
     "output_type": "display_data"
    }
   ],
   "source": [
    "fig, ax = plt.subplots(figsize=(6.6,6.6))\n",
    "fig.subplots_adjust(left=0.2, right=0.9, bottom=0.2, top=0.9)\n",
    "ax.errorbar(rbin_centers, result_2, result_2_err, fmt='o', ms=4)\n",
    "plt.plot(rbin_centers, tng_one_halo, '-', color='red')\n",
    "l5, = plt.plot(rbin_centers, tng_eta_1h_sc, '--', color='red')\n",
    "plt.plot(rbin_centers, mock_one_halo, '-', color='green')\n",
    "plt.plot(rbin_centers, mock_eta_1h_sc, '--', color='green')\n",
    "ax.set_xscale('log')\n",
    "ax.set_yscale('log')\n",
    "ax.set_ylim([0.0001,0.2])\n",
    "ax.set_xlim([0.1,30])\n",
    "ax.set_ylabel(r'$\\omega(r)$')\n",
    "ax.set_xlabel(r'$r~[h^{-1}{\\rm Mpc}]$')\n",
    "plt.legend([l4,l5,l6, l7],['cc', 'sc', 'cs', 'ss'],\n",
    "           frameon=False, loc='upper right', fontsize=10, labelspacing=0.1)\n",
    "plt.show()"
   ]
  },
  {
   "cell_type": "code",
   "execution_count": 185,
   "metadata": {},
   "outputs": [
    {
     "data": {
      "image/png": "[encoded data removed]",
      "text/plain": [
       "<Figure size 475.2x475.2 with 1 Axes>"
      ]
     },
     "metadata": {
      "needs_background": "light"
     },
     "output_type": "display_data"
    }
   ],
   "source": [
    "fig, ax = plt.subplots(figsize=(6.6,6.6))\n",
    "fig.subplots_adjust(left=0.2, right=0.9, bottom=0.2, top=0.9)\n",
    "ax.errorbar(rbin_centers, result_2, result_2_err, fmt='o', ms=4)\n",
    "plt.plot(rbin_centers, tng_one_halo, '-', color='red')\n",
    "l6, = plt.plot(rbin_centers, tng_eta_1h_cs, ':', color='red')\n",
    "plt.plot(rbin_centers, mock_one_halo, '-', color='green')\n",
    "plt.plot(rbin_centers, mock_eta_1h_cs, ':', color='green')\n",
    "ax.set_xscale('log')\n",
    "ax.set_yscale('log')\n",
    "ax.set_ylim([0.0001,0.2])\n",
    "ax.set_xlim([0.1,30])\n",
    "ax.set_ylabel(r'$\\omega(r)$')\n",
    "ax.set_xlabel(r'$r~[h^{-1}{\\rm Mpc}]$')\n",
    "plt.legend([l4,l5,l6, l7],['cc', 'sc', 'cs', 'ss'],\n",
    "           frameon=False, loc='upper right', fontsize=10, labelspacing=0.1)\n",
    "plt.show()"
   ]
  },
  {
   "cell_type": "code",
   "execution_count": 186,
   "metadata": {},
   "outputs": [
    {
     "data": {
      "image/png": "[encoded data removed]",
      "text/plain": [
       "<Figure size 475.2x475.2 with 1 Axes>"
      ]
     },
     "metadata": {
      "needs_background": "light"
     },
     "output_type": "display_data"
    }
   ],
   "source": [
    "fig, ax = plt.subplots(figsize=(6.6,6.6))\n",
    "fig.subplots_adjust(left=0.2, right=0.9, bottom=0.2, top=0.9)\n",
    "ax.errorbar(rbin_centers, result_2, result_2_err, fmt='o', ms=4)\n",
    "plt.plot(rbin_centers, tng_one_halo, '-', color='red')\n",
    "l7, = plt.plot(rbin_centers, tng_eta_1h_ss, '-.', color='red')\n",
    "plt.plot(rbin_centers, mock_one_halo, '-', color='green')\n",
    "plt.plot(rbin_centers, mock_eta_1h_ss, '-.', color='green')\n",
    "ax.set_xscale('log')\n",
    "ax.set_yscale('log')\n",
    "ax.set_ylim([0.0001,0.2])\n",
    "ax.set_xlim([0.1,30])\n",
    "ax.set_ylabel(r'$\\omega(r)$')\n",
    "ax.set_xlabel(r'$r~[h^{-1}{\\rm Mpc}]$')\n",
    "plt.legend([l4,l5,l6, l7],['cc', 'sc', 'cs', 'ss'],\n",
    "           frameon=False, loc='upper right', fontsize=10, labelspacing=0.1)\n",
    "plt.show()"
   ]
  },
  {
   "cell_type": "code",
   "execution_count": null,
   "metadata": {},
   "outputs": [],
   "source": []
  }
 ],
 "metadata": {
  "kernelspec": {
   "display_name": "Python 2",
   "language": "python",
   "name": "python2"
  },
  "language_info": {
   "codemirror_mode": {
    "name": "ipython",
    "version": 2
   },
   "file_extension": ".py",
   "mimetype": "text/x-python",
   "name": "python",
   "nbconvert_exporter": "python",
   "pygments_lexer": "ipython2",
   "version": "2.7.16"
  }
 },
 "nbformat": 4,
 "nbformat_minor": 2
}
