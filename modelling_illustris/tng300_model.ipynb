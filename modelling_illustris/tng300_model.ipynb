{
 "cells": [
  {
   "cell_type": "code",
   "execution_count": 1,
   "metadata": {},
   "outputs": [],
   "source": [
    "from __future__ import print_function, division\n",
    "import numpy as np\n",
    "import matplotlib.pyplot as plt\n",
    "from intrinsic_alignments.project_settings import PROJECT_DIRECTORY\n",
    "%matplotlib inline"
   ]
  },
  {
   "cell_type": "markdown",
   "metadata": {},
   "source": [
    "## TNG300 Model"
   ]
  },
  {
   "cell_type": "code",
   "execution_count": 2,
   "metadata": {},
   "outputs": [],
   "source": [
    "# Load TNMG300 galaxy catalog\n",
    "\n",
    "from Illustris_Shapes.simulation_props import sim_prop_dict\n",
    "\n",
    "simname = 'TNG300-1'\n",
    "snapnum = 99\n",
    "shape_type = 'iterative'\n",
    "\n",
    "d = sim_prop_dict[simname]\n",
    "Lbox = d['Lbox']"
   ]
  },
  {
   "cell_type": "code",
   "execution_count": 3,
   "metadata": {},
   "outputs": [
    {
     "name": "stdout",
     "output_type": "stream",
     "text": [
      "gal_id\n",
      "host_halo_id\n",
      "central_id\n",
      "x\n",
      "y\n",
      "z\n",
      "vx\n",
      "vy\n",
      "vz\n",
      "stellar_mass_in_twice_halfrad\n",
      "stellar_mass_all\n",
      "host_halo_mass_200m\n",
      "host_halo_radius_200m\n",
      "host_halo_fof_mass\n",
      "a\n",
      "b\n",
      "c\n",
      "av_x\n",
      "av_y\n",
      "av_z\n",
      "bv_x\n",
      "bv_y\n",
      "bv_z\n",
      "cv_x\n",
      "cv_y\n",
      "cv_z\n"
     ]
    }
   ],
   "source": [
    "from astropy.table import Table\n",
    "fpath = PROJECT_DIRECTORY + 'data/Illustris/'\n",
    "\n",
    "# load VAGC\n",
    "fname = 'value_added_catalogs/' + simname + '_' + str(snapnum) + '_vagc.dat'\n",
    "vagc_galaxy_table = Table.read(fpath + fname, format='ascii')\n",
    "\n",
    "# load galaxy shape catalog\n",
    "fname = 'shape_catalogs/' + simname + '_' + str(snapnum) + '_' + shape_type + '_galaxy_shapes.dat'\n",
    "galaxy_shape_table = Table.read(fpath + fname, format='ascii')\n",
    "\n",
    "# load halo shape catalog\n",
    "fname = 'shape_catalogs/' + simname + '_' + str(snapnum) + '_' + shape_type + '_halo_shapes.dat'\n",
    "halo_shape_table = Table.read(fpath + fname, format='ascii')\n",
    "\n",
    "# join galaxy shape and vagc tables\n",
    "from astropy.table import join\n",
    "galaxy_table = join(vagc_galaxy_table, galaxy_shape_table)\n",
    "for key in galaxy_table.keys():\n",
    "    print(key)"
   ]
  },
  {
   "cell_type": "code",
   "execution_count": 4,
   "metadata": {},
   "outputs": [],
   "source": [
    "# add halo properties\n",
    "from halotools.utils import crossmatch\n",
    "idx, idy = crossmatch(galaxy_table['gal_id'],halo_shape_table['halo_id'])\n",
    "\n",
    "galaxy_table['halo_a'] = -1.0\n",
    "galaxy_table['halo_b'] = -1.0\n",
    "galaxy_table['halo_c'] = -1.0\n",
    "\n",
    "galaxy_table['halo_a'][idx] = halo_shape_table['a'][idy]\n",
    "galaxy_table['halo_b'][idx] = halo_shape_table['b'][idy]\n",
    "galaxy_table['halo_c'][idx] = halo_shape_table['c'][idy]\n",
    "\n",
    "galaxy_table['halo_av_x'] = -1.0\n",
    "galaxy_table['halo_av_y'] = -1.0\n",
    "galaxy_table['halo_av_z'] = -1.0\n",
    "\n",
    "galaxy_table['halo_bv_x'] = -1.0\n",
    "galaxy_table['halo_bv_y'] = -1.0\n",
    "galaxy_table['halo_bv_z'] = -1.0\n",
    "\n",
    "galaxy_table['halo_cv_x'] = -1.0\n",
    "galaxy_table['halo_cv_y'] = -1.0\n",
    "galaxy_table['halo_cv_z'] = -1.0\n",
    "\n",
    "galaxy_table['halo_av_x'][idx] = halo_shape_table['av_x'][idy]\n",
    "galaxy_table['halo_av_y'][idx] = halo_shape_table['av_y'][idy]\n",
    "galaxy_table['halo_av_z'][idx] = halo_shape_table['av_z'][idy]\n",
    "\n",
    "galaxy_table['halo_bv_x'][idx] = halo_shape_table['bv_x'][idy]\n",
    "galaxy_table['halo_bv_y'][idx] = halo_shape_table['bv_y'][idy]\n",
    "galaxy_table['halo_bv_z'][idx] = halo_shape_table['bv_z'][idy]\n",
    "\n",
    "galaxy_table['halo_cv_x'][idx] = halo_shape_table['cv_x'][idy]\n",
    "galaxy_table['halo_cv_y'][idx] = halo_shape_table['cv_y'][idy]\n",
    "galaxy_table['halo_cv_z'][idx] = halo_shape_table['cv_z'][idy]"
   ]
  },
  {
   "cell_type": "markdown",
   "metadata": {},
   "source": [
    "## calculate alignment strength"
   ]
  },
  {
   "cell_type": "code",
   "execution_count": 5,
   "metadata": {},
   "outputs": [],
   "source": [
    "coords = np.vstack((galaxy_table['x'],\n",
    "                    galaxy_table['y'],\n",
    "                    galaxy_table['z'])).T/1000.0\n",
    "\n",
    "# galaxy major_axis\n",
    "gal_orientations_major = np.vstack((galaxy_table['av_x'],\n",
    "                                galaxy_table['av_y'],\n",
    "                                galaxy_table['av_z'])).T\n",
    "\n",
    "# galaxy major_axis\n",
    "gal_orientations_minor = np.vstack((galaxy_table['cv_x'],\n",
    "                                galaxy_table['cv_y'],\n",
    "                                galaxy_table['cv_z'])).T\n",
    "\n",
    "# halo major_axis\n",
    "halo_orientations_major = np.vstack((galaxy_table['halo_av_x'],\n",
    "                                galaxy_table['halo_av_y'],\n",
    "                                galaxy_table['halo_av_z'])).T\n",
    "\n",
    "# halo major_axis\n",
    "halo_orientations_minor = np.vstack((galaxy_table['halo_cv_x'],\n",
    "                                galaxy_table['halo_cv_y'],\n",
    "                                galaxy_table['halo_cv_z'])).T"
   ]
  },
  {
   "cell_type": "code",
   "execution_count": 6,
   "metadata": {},
   "outputs": [
    {
     "name": "stdout",
     "output_type": "stream",
     "text": [
      "number of galaxies in selection:  24433\n"
     ]
    }
   ],
   "source": [
    "selection_mask = galaxy_table['stellar_mass_all']>10**10.5\n",
    "print('number of galaxies in selection: ', np.sum(selection_mask))"
   ]
  },
  {
   "cell_type": "code",
   "execution_count": 7,
   "metadata": {},
   "outputs": [],
   "source": [
    "from intrinsic_alignments.ia_models.ia_model_components import inverse_alignment_strength"
   ]
  },
  {
   "cell_type": "markdown",
   "metadata": {},
   "source": [
    "### central galxies"
   ]
  },
  {
   "cell_type": "code",
   "execution_count": 8,
   "metadata": {},
   "outputs": [],
   "source": [
    "from rotations.vector_utilities import angles_between_list_of_vectors\n",
    "\n",
    "centrals = (galaxy_table['gal_id']==galaxy_table['central_id'])\n",
    "\n",
    "da = angles_between_list_of_vectors(gal_orientations_major, halo_orientations_major)\n",
    "da = da[selection_mask & centrals]"
   ]
  },
  {
   "cell_type": "code",
   "execution_count": 9,
   "metadata": {},
   "outputs": [
    {
     "data": {
      "image/png": "[encoded data removed]",
      "text/plain": [
       "<Figure size 237.6x237.6 with 1 Axes>"
      ]
     },
     "metadata": {
      "needs_background": "light"
     },
     "output_type": "display_data"
    },
    {
     "name": "stdout",
     "output_type": "stream",
     "text": [
      "alignment strength:  [0.75504076]\n"
     ]
    }
   ],
   "source": [
    "# misalignment angle distribution\n",
    "bins = np.linspace(-1,1,25)\n",
    "cos_da = np.cos(da)\n",
    "ran_u = np.random.random(len(cos_da))\n",
    "mask = ran_u>0.5\n",
    "cos_da[mask] = cos_da[mask]*-1.0\n",
    "counts = np.histogram(cos_da, bins=bins)[0]\n",
    "counts = 1.0*counts/np.sum(counts)/np.diff(bins)\n",
    "\n",
    "# fit watson distribution\n",
    "from watson_distribution import DimrothWatson\n",
    "dist = DimrothWatson()\n",
    "k = dist.fit(np.fabs(cos_da),floc=0, fscale=1)[0]\n",
    "\n",
    "plt.figure(figsize=(3.3,3.3))\n",
    "plt.step(bins[:-1], counts, color='black', where='post')\n",
    "plt.plot(bins,dist.pdf(bins, k=k), color='red')\n",
    "plt.xlim([-1,1])\n",
    "plt.ylim([0,1.5])\n",
    "plt.show()\n",
    "\n",
    "print(\"alignment strength: \", inverse_alignment_strength(k))"
   ]
  },
  {
   "cell_type": "markdown",
   "metadata": {},
   "source": [
    "### satellite galaxies"
   ]
  },
  {
   "cell_type": "code",
   "execution_count": 106,
   "metadata": {},
   "outputs": [],
   "source": [
    "from halotools.utils import crossmatch\n",
    "idx, idy = crossmatch(galaxy_table['central_id'], galaxy_table['gal_id'])\n",
    "\n",
    "satellites = (galaxy_table['gal_id']!=galaxy_table['central_id'])\n",
    "\n",
    "from intrinsic_alignments.utils.vector_utilities import pbc_radial_vector\n",
    "r = pbc_radial_vector(coords[idx], coords[idy], Lbox=Lbox)\n",
    "galaxy_table['r_x'] = np.zeros(len(galaxy_table)).astype('float')\n",
    "galaxy_table['r_y'] = np.zeros(len(galaxy_table)).astype('float')\n",
    "galaxy_table['r_z'] = np.zeros(len(galaxy_table)).astype('float')\n",
    "galaxy_table['r_x'][idx] = r[:,0]\n",
    "galaxy_table['r_y'][idx] = r[:,1]\n",
    "galaxy_table['r_z'][idx] = r[:,2]\n",
    "galaxy_table['mag_r'] = np.zeros(len(galaxy_table)).astype('float')\n",
    "galaxy_table['mag_r'] = np.sqrt(galaxy_table['r_x']**2 + galaxy_table['r_y']**2 +galaxy_table['r_z']**2)\n",
    "\n",
    "r = np.vstack((galaxy_table['r_x'], galaxy_table['r_y'], galaxy_table['r_z'])).T\n",
    "da = angles_between_list_of_vectors(gal_orientations_major, r)\n",
    "da = da[satellites & (~np.isnan(da)) & selection_mask]"
   ]
  },
  {
   "cell_type": "code",
   "execution_count": 107,
   "metadata": {},
   "outputs": [
    {
     "data": {
      "image/png": "[encoded data removed]",
      "text/plain": [
       "<Figure size 237.6x237.6 with 1 Axes>"
      ]
     },
     "metadata": {
      "needs_background": "light"
     },
     "output_type": "display_data"
    },
    {
     "name": "stdout",
     "output_type": "stream",
     "text": [
      "alignment strength:  [0.27935947]\n"
     ]
    }
   ],
   "source": [
    "# misalignment angle distribution\n",
    "bins = np.linspace(-1,1,25)\n",
    "cos_da = np.cos(da)\n",
    "ran_u = np.random.random(len(cos_da))\n",
    "mask = ran_u>0.5\n",
    "cos_da[mask] = cos_da[mask]*-1.0\n",
    "counts = np.histogram(cos_da, bins=bins)[0]\n",
    "counts = 1.0*counts/np.sum(counts)/np.diff(bins)\n",
    "\n",
    "# fit watson distribution\n",
    "from watson_distribution import DimrothWatson\n",
    "dist = DimrothWatson()\n",
    "k = dist.fit(np.fabs(cos_da),floc=0, fscale=1)[0]\n",
    "\n",
    "plt.figure(figsize=(3.3,3.3))\n",
    "plt.step(bins[:-1], counts, color='black', where='post')\n",
    "plt.plot(bins,dist.pdf(bins, k=k), color='red')\n",
    "plt.xlim([-1,1])\n",
    "plt.ylim([0,1.5])\n",
    "plt.show()\n",
    "\n",
    "print(\"alignment strength: \", inverse_alignment_strength(k))"
   ]
  },
  {
   "cell_type": "code",
   "execution_count": 111,
   "metadata": {},
   "outputs": [],
   "source": [
    "from intrinsic_alignments.utils.stat_utils import binned_bootstrap_1d\n",
    "\n",
    "Nboot = 2\n",
    "\n",
    "# check for radial dependence \n",
    "rbins = np.logspace(-1.,0.0,15)\n",
    "rbin_centers = (rbins[:-1]+rbins[1:])/2.0\n",
    "\n",
    "scaled_radius = (galaxy_table['mag_r'])/(galaxy_table['host_halo_radius_200m']/1000)\n",
    "scaled_radius = scaled_radius[selection_mask & satellites]\n",
    "\n",
    "statisic = lambda x: inverse_alignment_strength(dist.fit(x, floc=0, fscale=1)[0])\n",
    "p, err_p = binned_bootstrap_1d(scaled_radius, cos_da, rbins,\n",
    "                               statistic=statisic, Nboot=Nboot)"
   ]
  },
  {
   "cell_type": "code",
   "execution_count": 112,
   "metadata": {},
   "outputs": [
    {
     "data": {
      "image/png": "[encoded data removed]",
      "text/plain": [
       "<Figure size 237.6x237.6 with 1 Axes>"
      ]
     },
     "metadata": {
      "needs_background": "light"
     },
     "output_type": "display_data"
    }
   ],
   "source": [
    "def clipped_powerlaw(x, x0=0.01, alpha=-0.05):\n",
    "    \"\"\"\n",
    "    clipped power law model\n",
    "    \"\"\"\n",
    "    ymax=1.0\n",
    "    ymin=-1.0\n",
    "    x = np.atleast_1d(x)\n",
    "    \n",
    "    result = np.zeros(len(x))\n",
    "    result = (x/x0)**alpha\n",
    "    \n",
    "    mask = (result>ymax)\n",
    "    result[mask] = ymax\n",
    "    mask = (result<ymin)\n",
    "    result[mask] = ymin\n",
    "    \n",
    "    return result\n",
    "\n",
    "from scipy.optimize import curve_fit\n",
    "\n",
    "popt, pcov = curve_fit(clipped_powerlaw, rbin_centers, p, sigma=err_p, p0=[0.01, -0.05])\n",
    "\n",
    "fig, ax = plt.subplots(1,1,figsize=(3.3,3.3))\n",
    "fig.subplots_adjust(left=0.2, right=0.9, bottom=0.2, top=0.9)\n",
    "ax.errorbar(rbin_centers, p, yerr=5*err_p, fmt='o', ms=4, color='black')\n",
    "ax.plot(rbin_centers, clipped_powerlaw(rbin_centers, *popt), '-', color='red')\n",
    "ax.set_ylim([0,1])\n",
    "ax.set_xscale('log')\n",
    "ax.set_xlim(0.03,1.1)\n",
    "ax.set_xlabel(r'$r/r_{\\rm vir}$')\n",
    "ax.set_ylabel(r'$\\mu$')\n",
    "plt.show()"
   ]
  },
  {
   "cell_type": "markdown",
   "metadata": {},
   "source": [
    "## Measure observables"
   ]
  },
  {
   "cell_type": "code",
   "execution_count": 12,
   "metadata": {},
   "outputs": [],
   "source": [
    "rbins = np.logspace(-1,1.5,15)\n",
    "rbin_centers = (rbins[:-1]+rbins[1:])/2.0"
   ]
  },
  {
   "cell_type": "code",
   "execution_count": 13,
   "metadata": {},
   "outputs": [
    {
     "name": "stdout",
     "output_type": "stream",
     "text": [
      "estimated time to complete jackknife calculation (s): 5.85723114014\n",
      "estimated time to complete jackknife calculation (s): 6.71246337891\n"
     ]
    }
   ],
   "source": [
    "from intrinsic_alignments.utils.jackknife_observables import jackknife_ed_3d, jackknife_ee_3d\n",
    "\n",
    "result_1, cov_1 = jackknife_ee_3d(coords[selection_mask], gal_orientations_major[selection_mask],\n",
    "                                  coords[selection_mask], gal_orientations_major[selection_mask],\n",
    "                                  rbins, period=Lbox,\n",
    "                                  Nsub=[2, 2, 2], verbose=True)\n",
    "result_1_err = np.sqrt(np.diag(cov_1))\n",
    "\n",
    "result_2, cov_2 = jackknife_ed_3d(coords[selection_mask], gal_orientations_major[selection_mask],\n",
    "                                  coords[selection_mask],\n",
    "                                  rbins, period=Lbox,\n",
    "                                  Nsub=[2, 2, 2], verbose=True)\n",
    "result_2_err = np.sqrt(np.diag(cov_2))"
   ]
  },
  {
   "cell_type": "code",
   "execution_count": 14,
   "metadata": {},
   "outputs": [
    {
     "data": {
      "image/png": "[encoded data removed]",
      "text/plain": [
       "<Figure size 237.6x237.6 with 1 Axes>"
      ]
     },
     "metadata": {
      "needs_background": "light"
     },
     "output_type": "display_data"
    },
    {
     "data": {
      "image/png": "[encoded data removed]",
      "text/plain": [
       "<Figure size 237.6x237.6 with 1 Axes>"
      ]
     },
     "metadata": {
      "needs_background": "light"
     },
     "output_type": "display_data"
    }
   ],
   "source": [
    "fig, ax = plt.subplots(1,1, sharex=False, sharey=False, figsize=(3.3,3.3))\n",
    "fig.subplots_adjust(left=0.2, right=0.9, bottom=0.2, top=0.9)\n",
    "ax.errorbar(rbin_centers, result_1, result_1_err, fmt='o', ms=4)\n",
    "ax.plot([0.001,100],[0,0], '--', color='black')\n",
    "ax.set_xscale('log')\n",
    "ax.set_ylim([-0.05,0.05])\n",
    "ax.set_xlim([0.1,30])\n",
    "ax.set_ylabel(r'$\\eta(r)$')\n",
    "ax.set_xlabel(r'$r~[h^{-1}{\\rm Mpc}]$')\n",
    "plt.show()\n",
    "\n",
    "fig, ax = plt.subplots(1,1, sharex=False, sharey=False, figsize=(3.3,3.3))\n",
    "fig.subplots_adjust(left=0.2, right=0.9, bottom=0.2, top=0.9)\n",
    "ax.errorbar(rbin_centers, result_2, result_2_err, fmt='o', ms=4)\n",
    "ax.set_xscale('log')\n",
    "ax.set_yscale('log')\n",
    "ax.set_ylim([0.001,0.2])\n",
    "ax.set_xlim([0.1,30])\n",
    "ax.set_ylabel(r'$\\omega(r)$')\n",
    "ax.set_xlabel(r'$r~[h^{-1}{\\rm Mpc}]$')\n",
    "plt.show()\n"
   ]
  },
  {
   "cell_type": "markdown",
   "metadata": {},
   "source": [
    "## halo model"
   ]
  },
  {
   "cell_type": "code",
   "execution_count": 15,
   "metadata": {},
   "outputs": [],
   "source": [
    "# load a test halo catalog\n",
    "\n",
    "from halotools.sim_manager import CachedHaloCatalog\n",
    "halocat = CachedHaloCatalog(simname='bolplanck', halo_finder='rockstar',\n",
    "                            redshift=0.0, dz_tol=0.1, version_name='halotools_v0p4')\n",
    "\n",
    "# add estimate of minor axis\n",
    "from rotations.vector_utilities import normalized_vectors\n",
    "B = np.vstack((halocat.halo_table['halo_axisA_x'],\n",
    "               halocat.halo_table['halo_axisA_y'],\n",
    "               halocat.halo_table['halo_axisA_z'])).T\n",
    "A = np.vstack((halocat.halo_table['halo_jx'],\n",
    "               halocat.halo_table['halo_jy'],\n",
    "               halocat.halo_table['halo_jz'])).T\n",
    "B = normalized_vectors(B)\n",
    "A = normalized_vectors(A)\n",
    "\n",
    "D = np.cross(A, B)\n",
    "C = np.cross(B, D)\n",
    "\n",
    "halocat.halo_table['halo_axisC_x'] = C[:,0]\n",
    "halocat.halo_table['halo_axisC_y'] = C[:,1]\n",
    "halocat.halo_table['halo_axisC_z'] = C[:,2]"
   ]
  },
  {
   "cell_type": "code",
   "execution_count": 16,
   "metadata": {},
   "outputs": [],
   "source": [
    "from halotools.empirical_models import HodModelFactory\n",
    "\n",
    "# define the central occupatoion model\n",
    "from halotools.empirical_models import TrivialPhaseSpace, Zheng07Cens\n",
    "cens_occ_model =  Zheng07Cens()\n",
    "cens_prof_model = TrivialPhaseSpace()\n",
    "\n",
    "# define the satellite occupation model\n",
    "from halotools.empirical_models import Zheng07Sats\n",
    "from halotools.empirical_models import NFWPhaseSpace, SubhaloPhaseSpace\n",
    "from intrinsic_alignments.ia_models.anisotropic_nfw_phase_space import AnisotropicNFWPhaseSpace\n",
    "sats_occ_model =  Zheng07Sats()\n",
    "sats_prof_model = AnisotropicNFWPhaseSpace(anisotropy_bias=1)\n",
    "#sats_prof_model = NFWPhaseSpace()\n",
    "#sats_prof_model = SubhaloPhaseSpace('satellites', np.logspace(10.5, 15.2, 15))\n",
    "\n",
    "# define the alignment models\n",
    "from intrinsic_alignments.ia_models.ia_model_components import CentralAlignment,\\\n",
    "    RadialSatelliteAlignment,  MajorAxisSatelliteAlignment, HybridSatelliteAlignment\n",
    "central_orientation_model = CentralAlignment()\n",
    "satellite_orientation_model = RadialSatelliteAlignment()"
   ]
  },
  {
   "cell_type": "code",
   "execution_count": 138,
   "metadata": {},
   "outputs": [],
   "source": [
    "# 10.5\n",
    "cens_occ_model.param_dict['logMmin'] = 12.54\n",
    "cens_occ_model.param_dict['sigma_logM'] = 0.26\n",
    "\n",
    "sats_occ_model.param_dict['alpha'] = 1.0\n",
    "sats_occ_model.param_dict['logM0'] = 12.68\n",
    "sats_occ_model.param_dict['logM1'] = 13.48\n",
    "\n",
    "central_orientation_model.param_dict['central_alignment_strength'] = 0.755 + 0.1\n",
    "satellite_orientation_model.param_dict['satellite_alignment_strength'] = 0.279"
   ]
  },
  {
   "cell_type": "code",
   "execution_count": 156,
   "metadata": {},
   "outputs": [],
   "source": [
    "# 10.0\n",
    "cens_occ_model.param_dict['logMmin'] = 11.93\n",
    "cens_occ_model.param_dict['sigma_logM'] = 0.26\n",
    "\n",
    "sats_occ_model.param_dict['alpha'] = 1.0\n",
    "sats_occ_model.param_dict['logM0'] = 12.05\n",
    "sats_occ_model.param_dict['logM1'] = 12.85\n",
    "\n",
    "central_orientation_model.param_dict['central_alignment_strength'] = 0.64\n",
    "satellite_orientation_model.param_dict['satellite_alignment_strength'] = 0.084"
   ]
  },
  {
   "cell_type": "code",
   "execution_count": 264,
   "metadata": {},
   "outputs": [],
   "source": [
    "# 9.5\n",
    "cens_occ_model.param_dict['logMmin'] = 11.61\n",
    "cens_occ_model.param_dict['sigma_logM'] = 0.26\n",
    "\n",
    "sats_occ_model.param_dict['alpha'] = 1.0\n",
    "sats_occ_model.param_dict['logM0'] = 11.8\n",
    "sats_occ_model.param_dict['logM1'] = 12.6\n",
    "\n",
    "central_orientation_model.param_dict['central_alignment_strength'] = 0.57172919\n",
    "satellite_orientation_model.param_dict['satellite_alignment_strength'] = 0.01995"
   ]
  },
  {
   "cell_type": "code",
   "execution_count": 139,
   "metadata": {},
   "outputs": [],
   "source": [
    "# combine model components\n",
    "model_instance = HodModelFactory(centrals_occupation = cens_occ_model,\n",
    "                                 centrals_profile = cens_prof_model,\n",
    "                                 satellites_occupation = sats_occ_model,\n",
    "                                 satellites_profile = sats_prof_model,\n",
    "                                 centrals_orientation = central_orientation_model,\n",
    "                                 satellites_orientation = satellite_orientation_model,\n",
    "                                 model_feature_calling_sequence = (\n",
    "                                 'centrals_occupation',\n",
    "                                 'centrals_profile',\n",
    "                                 'satellites_occupation',\n",
    "                                 'satellites_profile',\n",
    "                                 'centrals_orientation',\n",
    "                                 'satellites_orientation')\n",
    "                                )"
   ]
  },
  {
   "cell_type": "code",
   "execution_count": 140,
   "metadata": {},
   "outputs": [
    {
     "name": "stdout",
     "output_type": "stream",
     "text": [
      "number of galaxies:  29554\n"
     ]
    }
   ],
   "source": [
    "# populate mock catalog\n",
    "model_instance.populate_mock(halocat)\n",
    "print(\"number of galaxies: \", len(model_instance.mock.galaxy_table))\n",
    "\n",
    "mock = model_instance.mock.galaxy_table"
   ]
  },
  {
   "cell_type": "markdown",
   "metadata": {},
   "source": [
    "## observables"
   ]
  },
  {
   "cell_type": "code",
   "execution_count": 141,
   "metadata": {},
   "outputs": [],
   "source": [
    "# galaxy coordinates and orientations\n",
    "galaxy_coords = np.vstack((mock['x'],\n",
    "                           mock['y'],\n",
    "                           mock['z'])).T\n",
    "\n",
    "galaxy_orientations = np.vstack((mock['galaxy_axisA_x'],\n",
    "                                 mock['galaxy_axisA_y'],\n",
    "                                 mock['galaxy_axisA_z'])).T"
   ]
  },
  {
   "cell_type": "code",
   "execution_count": 142,
   "metadata": {},
   "outputs": [],
   "source": [
    "from halotools.mock_observables import tpcf, tpcf_jackknife\n",
    "\n",
    "rbins = np.logspace(-1,1.5,15)\n",
    "rbin_centers = (rbins[:-1]+rbins[1:])/2.0\n",
    "\n",
    "xi_mock = tpcf(galaxy_coords, rbins, period=halocat.Lbox)"
   ]
  },
  {
   "cell_type": "code",
   "execution_count": 143,
   "metadata": {},
   "outputs": [],
   "source": [
    "xi_tng = tpcf(coords[selection_mask], rbins, period=Lbox)\n",
    "xi_tng_err = xi_tng * 0.0"
   ]
  },
  {
   "cell_type": "code",
   "execution_count": 144,
   "metadata": {},
   "outputs": [],
   "source": [
    "N=10**5\n",
    "randoms = np.random.random((N,3))*halocat.Lbox\n",
    "#xi_tng, xi_tng_cov = tpcf_jackknife(coords[selection_mask], randoms, rbins, period=Lbox, Nsub=[2, 2, 2])\n",
    "#xi_tng_err = np.sqrt(np.diag(xi_tng_cov))"
   ]
  },
  {
   "cell_type": "code",
   "execution_count": 145,
   "metadata": {},
   "outputs": [
    {
     "data": {
      "image/png": "[encoded data removed]",
      "text/plain": [
       "<Figure size 432x288 with 1 Axes>"
      ]
     },
     "metadata": {
      "needs_background": "light"
     },
     "output_type": "display_data"
    }
   ],
   "source": [
    "plt.figure()\n",
    "plt.plot(rbin_centers, xi_mock)\n",
    "plt.plot(rbin_centers, xi_tng, 'o')\n",
    "plt.errorbar(rbin_centers, xi_tng, yerr=xi_tng_err, fmt= 'o')\n",
    "plt.xscale('log')\n",
    "plt.yscale('log')\n",
    "plt.ylim([0.01,5000])\n",
    "plt.ylabel(r'$\\xi(r)$')\n",
    "plt.xlabel(r'$r ~[h^{-1}{\\rm Mpc}]$')\n",
    "plt.show()"
   ]
  },
  {
   "cell_type": "code",
   "execution_count": 146,
   "metadata": {},
   "outputs": [],
   "source": [
    "from halotools.mock_observables.alignments import ed_3d, ee_3d\n",
    "\n",
    "result_11 = ee_3d(galaxy_coords, galaxy_orientations,\n",
    "                  galaxy_coords, galaxy_orientations,\n",
    "                  rbins, period=halocat.Lbox)\n",
    "\n",
    "result_22 = ed_3d(galaxy_coords, galaxy_orientations,\n",
    "                  galaxy_coords,\n",
    "                  rbins, period=halocat.Lbox)"
   ]
  },
  {
   "cell_type": "code",
   "execution_count": 147,
   "metadata": {},
   "outputs": [],
   "source": [
    "result_11_a = np.copy(result_11)\n",
    "result_22_a = np.copy(result_22)"
   ]
  },
  {
   "cell_type": "code",
   "execution_count": 148,
   "metadata": {},
   "outputs": [],
   "source": [
    "result_11_b = np.copy(result_11)\n",
    "result_22_b = np.copy(result_22)"
   ]
  },
  {
   "cell_type": "code",
   "execution_count": 149,
   "metadata": {},
   "outputs": [],
   "source": [
    "result_11_c = np.copy(result_11)\n",
    "result_22_c = np.copy(result_22)"
   ]
  },
  {
   "cell_type": "code",
   "execution_count": 150,
   "metadata": {},
   "outputs": [
    {
     "data": {
      "image/png": "[encoded data removed]",
      "text/plain": [
       "<Figure size 237.6x237.6 with 1 Axes>"
      ]
     },
     "metadata": {
      "needs_background": "light"
     },
     "output_type": "display_data"
    },
    {
     "data": {
      "image/png": "[encoded data removed]",
      "text/plain": [
       "<Figure size 237.6x237.6 with 1 Axes>"
      ]
     },
     "metadata": {
      "needs_background": "light"
     },
     "output_type": "display_data"
    }
   ],
   "source": [
    "fig, ax = plt.subplots(1,1, sharex=False, sharey=False, figsize=(3.3,3.3))\n",
    "fig.subplots_adjust(left=0.2, right=0.9, bottom=0.2, top=0.9)\n",
    "ax.errorbar(rbin_centers, result_1, result_1_err, fmt='o', ms=4)\n",
    "ax.plot(rbin_centers, result_11_a, '-')\n",
    "ax.plot(rbin_centers, result_11_b, ':')\n",
    "ax.plot(rbin_centers, result_11_c, '-.')\n",
    "ax.plot([0.001,100],[0,0], '--', color='black')\n",
    "ax.set_xscale('log')\n",
    "ax.set_ylim([-0.05,0.05])\n",
    "ax.set_xlim([0.1,30])\n",
    "ax.set_ylabel(r'$\\eta(r)$')\n",
    "ax.set_xlabel(r'$r~[h^{-1}{\\rm Mpc}]$')\n",
    "plt.show()\n",
    "\n",
    "fname = 'ee_comp_10.5.pdf'\n",
    "fig.savefig('/Users/duncan/Desktop/'+fname, dpi=250)\n",
    "\n",
    "fig, ax = plt.subplots(1,1, sharex=False, sharey=False, figsize=(3.3,3.3))\n",
    "fig.subplots_adjust(left=0.2, right=0.9, bottom=0.2, top=0.9)\n",
    "ax.errorbar(rbin_centers, result_2, result_2_err, fmt='o', ms=4)\n",
    "l1, = ax.plot(rbin_centers, result_22_a, '-')\n",
    "l2, = ax.plot(rbin_centers, result_22_b, ':')\n",
    "l3, = ax.plot(rbin_centers, result_22_c, '-.')\n",
    "ax.set_xscale('log')\n",
    "ax.set_yscale('log')\n",
    "ax.set_ylim([0.0001,0.2])\n",
    "ax.set_xlim([0.1,30])\n",
    "ax.set_ylabel(r'$\\omega(r)$')\n",
    "ax.set_xlabel(r'$r~[h^{-1}{\\rm Mpc}]$')\n",
    "ax.legend([l1,l2,l3],['triaxial NFW','NFW','SubhaloPhaseSpace'], loc='lower left', frameon=False, fontsize=10)\n",
    "plt.show()\n",
    "\n",
    "fname = 'ed_comp_10.5.pdf'\n",
    "fig.savefig('/Users/duncan/Desktop/'+fname, dpi=250)"
   ]
  },
  {
   "cell_type": "code",
   "execution_count": 151,
   "metadata": {},
   "outputs": [],
   "source": [
    "from halotools.mock_observables.alignments import ee_3d_one_two_halo_decomp, ed_3d_one_two_halo_decomp\n",
    "\n",
    "centrals = (mock['gal_type']=='centrals')\n",
    "satellites = (mock['gal_type']=='satellites')\n",
    "host_ids = mock['halo_hostid']"
   ]
  },
  {
   "cell_type": "code",
   "execution_count": 152,
   "metadata": {},
   "outputs": [],
   "source": [
    "mock_eta_1h_ss, mock_eta_2h_ss = ed_3d_one_two_halo_decomp(galaxy_coords, galaxy_orientations,\n",
    "                                    host_ids,\n",
    "                                    galaxy_coords, host_ids,\n",
    "                                    rbins,\n",
    "                                    mask1 = satellites,  \n",
    "                                    mask2 = satellites,\n",
    "                                    period=halocat.Lbox, num_threads=4)"
   ]
  },
  {
   "cell_type": "code",
   "execution_count": 153,
   "metadata": {},
   "outputs": [],
   "source": [
    "mock_eta_1h_cs, mock_eta_2h_cs = ed_3d_one_two_halo_decomp(galaxy_coords, galaxy_orientations,\n",
    "                                    host_ids,\n",
    "                                    galaxy_coords, host_ids,\n",
    "                                    rbins,\n",
    "                                    mask1 = centrals,  \n",
    "                                    mask2 = satellites,\n",
    "                                    period=halocat.Lbox, num_threads=4)"
   ]
  },
  {
   "cell_type": "code",
   "execution_count": 154,
   "metadata": {},
   "outputs": [],
   "source": [
    "mock_eta_1h_sc, mock_eta_2h_sc = ed_3d_one_two_halo_decomp(galaxy_coords, galaxy_orientations,\n",
    "                                    host_ids,\n",
    "                                    galaxy_coords, host_ids,\n",
    "                                    rbins,\n",
    "                                    mask1 = satellites,  \n",
    "                                    mask2 = centrals,\n",
    "                                    period=halocat.Lbox, num_threads=4)"
   ]
  },
  {
   "cell_type": "code",
   "execution_count": 155,
   "metadata": {},
   "outputs": [],
   "source": [
    "mock_eta_1h_cc, mock_eta_2h_cc = ed_3d_one_two_halo_decomp(galaxy_coords, galaxy_orientations,\n",
    "                                    host_ids,\n",
    "                                    galaxy_coords, host_ids,\n",
    "                                    rbins,\n",
    "                                    mask1 = centrals,  \n",
    "                                    mask2 = centrals,\n",
    "                                    period=halocat.Lbox, num_threads=4)"
   ]
  },
  {
   "cell_type": "code",
   "execution_count": 156,
   "metadata": {},
   "outputs": [
    {
     "data": {
      "image/png": "[encoded data removed]",
      "text/plain": [
       "<Figure size 475.2x475.2 with 1 Axes>"
      ]
     },
     "metadata": {
      "needs_background": "light"
     },
     "output_type": "display_data"
    }
   ],
   "source": [
    "# plot ED results\n",
    "\n",
    "mock_one_halo = mock_eta_1h_cc + mock_eta_1h_sc + mock_eta_1h_cs + mock_eta_1h_ss\n",
    "mock_two_halo = mock_eta_2h_cc + mock_eta_2h_sc + mock_eta_2h_cs + mock_eta_2h_ss\n",
    "\n",
    "fig, ax = plt.subplots(figsize=(6.6,6.6))\n",
    "fig.subplots_adjust(left=0.2, right=0.9, bottom=0.2, top=0.9)\n",
    "ax.errorbar(rbin_centers, result_2, result_2_err, fmt='o', ms=4)\n",
    "plt.plot(rbin_centers, mock_one_halo, '-', color='red')\n",
    "l4, = plt.plot(rbin_centers, mock_eta_1h_cc, '-', color='red')\n",
    "l5, = plt.plot(rbin_centers, mock_eta_1h_sc, '--', color='red')\n",
    "l6, = plt.plot(rbin_centers, mock_eta_1h_cs, ':', color='red')\n",
    "l7, = plt.plot(rbin_centers, mock_eta_1h_ss, '-.', color='red')\n",
    "plt.plot(rbin_centers, mock_two_halo, '-', color='blue')\n",
    "l8, = plt.plot(rbin_centers, mock_eta_2h_cc, '-', color='blue')\n",
    "l9, = plt.plot(rbin_centers, mock_eta_2h_sc, '--', color='blue')\n",
    "l10, = plt.plot(rbin_centers, mock_eta_2h_cs, ':', color='blue')\n",
    "l11, = plt.plot(rbin_centers, mock_eta_2h_ss, '-.', color='blue')\n",
    "ax.set_xscale('log')\n",
    "ax.set_yscale('log')\n",
    "ax.set_ylim([0.0001,0.2])\n",
    "ax.set_xlim([0.1,30])\n",
    "ax.set_ylabel(r'$\\omega(r)$')\n",
    "ax.set_xlabel(r'$r~[h^{-1}{\\rm Mpc}]$')\n",
    "plt.legend([l4,l5,l6, l7, l8, l9, l10, l11],['cc', 'sc', 'cs', 'ss', 'cc', 'sc', 'cs', 'ss'],\n",
    "           frameon=False, loc='upper right', fontsize=10, labelspacing=0.1)\n",
    "plt.show()"
   ]
  },
  {
   "cell_type": "code",
   "execution_count": 157,
   "metadata": {},
   "outputs": [],
   "source": [
    "centrals = (galaxy_table['gal_id']==galaxy_table['central_id'])\n",
    "satellites = (galaxy_table['gal_id']!=galaxy_table['central_id'])\n",
    "host_ids = galaxy_table['central_id']"
   ]
  },
  {
   "cell_type": "code",
   "execution_count": 158,
   "metadata": {},
   "outputs": [],
   "source": [
    "tng_eta_1h_ss, tng_eta_2h_ss = ed_3d_one_two_halo_decomp(coords[selection_mask], gal_orientations_major[selection_mask],\n",
    "                                    host_ids[selection_mask],\n",
    "                                    coords[selection_mask], host_ids[selection_mask],\n",
    "                                    rbins,\n",
    "                                    mask1 = satellites[selection_mask],  \n",
    "                                    mask2 = satellites[selection_mask],\n",
    "                                    period=halocat.Lbox, num_threads=4)"
   ]
  },
  {
   "cell_type": "code",
   "execution_count": 159,
   "metadata": {},
   "outputs": [],
   "source": [
    "tng_eta_1h_cs, tng_eta_2h_cs = ed_3d_one_two_halo_decomp(coords[selection_mask], gal_orientations_major[selection_mask],\n",
    "                                    host_ids[selection_mask],\n",
    "                                    coords[selection_mask], host_ids[selection_mask],\n",
    "                                    rbins,\n",
    "                                    mask1 = centrals[selection_mask],  \n",
    "                                    mask2 = satellites[selection_mask],\n",
    "                                    period=halocat.Lbox, num_threads=4)"
   ]
  },
  {
   "cell_type": "code",
   "execution_count": 160,
   "metadata": {},
   "outputs": [],
   "source": [
    "tng_eta_1h_sc, tng_eta_2h_sc = ed_3d_one_two_halo_decomp(coords[selection_mask], gal_orientations_major[selection_mask],\n",
    "                                    host_ids[selection_mask],\n",
    "                                    coords[selection_mask], host_ids[selection_mask],\n",
    "                                    rbins,\n",
    "                                    mask1 = satellites[selection_mask],  \n",
    "                                    mask2 = centrals[selection_mask],\n",
    "                                    period=halocat.Lbox, num_threads=4)"
   ]
  },
  {
   "cell_type": "code",
   "execution_count": 161,
   "metadata": {},
   "outputs": [],
   "source": [
    "tng_eta_1h_cc, tng_eta_2h_cc = ed_3d_one_two_halo_decomp(coords[selection_mask], gal_orientations_major[selection_mask],\n",
    "                                    host_ids[selection_mask],\n",
    "                                    coords[selection_mask], host_ids[selection_mask],\n",
    "                                    rbins,\n",
    "                                    mask1 = centrals[selection_mask],  \n",
    "                                    mask2 = centrals[selection_mask],\n",
    "                                    period=halocat.Lbox, num_threads=4)"
   ]
  },
  {
   "cell_type": "code",
   "execution_count": 162,
   "metadata": {},
   "outputs": [
    {
     "data": {
      "image/png": "[encoded data removed]",
      "text/plain": [
       "<Figure size 475.2x475.2 with 1 Axes>"
      ]
     },
     "metadata": {
      "needs_background": "light"
     },
     "output_type": "display_data"
    }
   ],
   "source": [
    "# plot ED results\n",
    "\n",
    "tng_one_halo = tng_eta_1h_cc + tng_eta_1h_sc + tng_eta_1h_cs + tng_eta_1h_ss\n",
    "tng_two_halo = tng_eta_2h_cc + tng_eta_2h_sc + tng_eta_2h_cs + tng_eta_2h_ss\n",
    "\n",
    "\n",
    "\n",
    "\n",
    "fig, ax = plt.subplots(figsize=(6.6,6.6))\n",
    "fig.subplots_adjust(left=0.2, right=0.9, bottom=0.2, top=0.9)\n",
    "ax.errorbar(rbin_centers, result_2, result_2_err, fmt='o', ms=4)\n",
    "plt.plot(rbin_centers, tng_one_halo, '-', color='red')\n",
    "l4, = plt.plot(rbin_centers, tng_eta_1h_cc, '-', color='red')\n",
    "l5, = plt.plot(rbin_centers, tng_eta_1h_sc, '--', color='red')\n",
    "l6, = plt.plot(rbin_centers, tng_eta_1h_cs, ':', color='red')\n",
    "l7, = plt.plot(rbin_centers, tng_eta_1h_ss, '-.', color='red')\n",
    "plt.plot(rbin_centers, tng_two_halo, '-', color='blue')\n",
    "l8, = plt.plot(rbin_centers, tng_eta_2h_cc, '-', color='blue')\n",
    "l9, = plt.plot(rbin_centers, tng_eta_2h_sc, '--', color='blue')\n",
    "l10, = plt.plot(rbin_centers, tng_eta_2h_cs, ':', color='blue')\n",
    "l11, = plt.plot(rbin_centers, tng_eta_2h_ss, '-.', color='blue')\n",
    "ax.set_xscale('log')\n",
    "ax.set_yscale('log')\n",
    "ax.set_ylim([0.0001,0.2])\n",
    "ax.set_xlim([0.1,30])\n",
    "ax.set_ylabel(r'$\\omega(r)$')\n",
    "ax.set_xlabel(r'$r~[h^{-1}{\\rm Mpc}]$')\n",
    "plt.legend([l4,l5,l6, l7, l8, l9, l10, l11],['cc', 'sc', 'cs', 'ss', 'cc', 'sc', 'cs', 'ss'],\n",
    "           frameon=False, loc='upper right', fontsize=10, labelspacing=0.1)\n",
    "plt.show()"
   ]
  },
  {
   "cell_type": "code",
   "execution_count": 184,
   "metadata": {},
   "outputs": [
    {
     "data": {
      "image/png": "[encoded data removed]",
      "text/plain": [
       "<Figure size 475.2x475.2 with 1 Axes>"
      ]
     },
     "metadata": {
      "needs_background": "light"
     },
     "output_type": "display_data"
    }
   ],
   "source": [
    "fig, ax = plt.subplots(figsize=(6.6,6.6))\n",
    "fig.subplots_adjust(left=0.2, right=0.9, bottom=0.2, top=0.9)\n",
    "ax.errorbar(rbin_centers, result_2, result_2_err, fmt='o', ms=4)\n",
    "plt.plot(rbin_centers, tng_one_halo, '-', color='red')\n",
    "l5, = plt.plot(rbin_centers, tng_eta_1h_sc, '--', color='red')\n",
    "plt.plot(rbin_centers, mock_one_halo, '-', color='green')\n",
    "plt.plot(rbin_centers, mock_eta_1h_sc, '--', color='green')\n",
    "ax.set_xscale('log')\n",
    "ax.set_yscale('log')\n",
    "ax.set_ylim([0.0001,0.2])\n",
    "ax.set_xlim([0.1,30])\n",
    "ax.set_ylabel(r'$\\omega(r)$')\n",
    "ax.set_xlabel(r'$r~[h^{-1}{\\rm Mpc}]$')\n",
    "plt.legend([l4,l5,l6, l7],['cc', 'sc', 'cs', 'ss'],\n",
    "           frameon=False, loc='upper right', fontsize=10, labelspacing=0.1)\n",
    "plt.show()"
   ]
  },
  {
   "cell_type": "code",
   "execution_count": 185,
   "metadata": {},
   "outputs": [
    {
     "data": {
      "image/png": "[encoded data removed]",
      "text/plain": [
       "<Figure size 475.2x475.2 with 1 Axes>"
      ]
     },
     "metadata": {
      "needs_background": "light"
     },
     "output_type": "display_data"
    }
   ],
   "source": [
    "fig, ax = plt.subplots(figsize=(6.6,6.6))\n",
    "fig.subplots_adjust(left=0.2, right=0.9, bottom=0.2, top=0.9)\n",
    "ax.errorbar(rbin_centers, result_2, result_2_err, fmt='o', ms=4)\n",
    "plt.plot(rbin_centers, tng_one_halo, '-', color='red')\n",
    "l6, = plt.plot(rbin_centers, tng_eta_1h_cs, ':', color='red')\n",
    "plt.plot(rbin_centers, mock_one_halo, '-', color='green')\n",
    "plt.plot(rbin_centers, mock_eta_1h_cs, ':', color='green')\n",
    "ax.set_xscale('log')\n",
    "ax.set_yscale('log')\n",
    "ax.set_ylim([0.0001,0.2])\n",
    "ax.set_xlim([0.1,30])\n",
    "ax.set_ylabel(r'$\\omega(r)$')\n",
    "ax.set_xlabel(r'$r~[h^{-1}{\\rm Mpc}]$')\n",
    "plt.legend([l4,l5,l6, l7],['cc', 'sc', 'cs', 'ss'],\n",
    "           frameon=False, loc='upper right', fontsize=10, labelspacing=0.1)\n",
    "plt.show()"
   ]
  },
  {
   "cell_type": "code",
   "execution_count": 186,
   "metadata": {},
   "outputs": [
    {
     "data": {
      "image/png": "[encoded data removed]",
      "text/plain": [
       "<Figure size 475.2x475.2 with 1 Axes>"
      ]
     },
     "metadata": {
      "needs_background": "light"
     },
     "output_type": "display_data"
    }
   ],
   "source": [
    "fig, ax = plt.subplots(figsize=(6.6,6.6))\n",
    "fig.subplots_adjust(left=0.2, right=0.9, bottom=0.2, top=0.9)\n",
    "ax.errorbar(rbin_centers, result_2, result_2_err, fmt='o', ms=4)\n",
    "plt.plot(rbin_centers, tng_one_halo, '-', color='red')\n",
    "l7, = plt.plot(rbin_centers, tng_eta_1h_ss, '-.', color='red')\n",
    "plt.plot(rbin_centers, mock_one_halo, '-', color='green')\n",
    "plt.plot(rbin_centers, mock_eta_1h_ss, '-.', color='green')\n",
    "ax.set_xscale('log')\n",
    "ax.set_yscale('log')\n",
    "ax.set_ylim([0.0001,0.2])\n",
    "ax.set_xlim([0.1,30])\n",
    "ax.set_ylabel(r'$\\omega(r)$')\n",
    "ax.set_xlabel(r'$r~[h^{-1}{\\rm Mpc}]$')\n",
    "plt.legend([l4,l5,l6, l7],['cc', 'sc', 'cs', 'ss'],\n",
    "           frameon=False, loc='upper right', fontsize=10, labelspacing=0.1)\n",
    "plt.show()"
   ]
  },
  {
   "cell_type": "code",
   "execution_count": null,
   "metadata": {},
   "outputs": [],
   "source": []
  }
 ],
 "metadata": {
  "kernelspec": {
   "display_name": "Python 2",
   "language": "python",
   "name": "python2"
  },
  "language_info": {
   "codemirror_mode": {
    "name": "ipython",
    "version": 2
   },
   "file_extension": ".py",
   "mimetype": "text/x-python",
   "name": "python",
   "nbconvert_exporter": "python",
   "pygments_lexer": "ipython2",
   "version": "2.7.15"
  }
 },
 "nbformat": 4,
 "nbformat_minor": 2
}
