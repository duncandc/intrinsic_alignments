{
 "cells": [
  {
   "cell_type": "code",
   "execution_count": 1,
   "metadata": {
    "collapsed": true
   },
   "outputs": [],
   "source": [
    "from __future__ import print_function, division\n",
    "import numpy as np\n",
    "import matplotlib.pyplot as plt\n",
    "%matplotlib inline"
   ]
  },
  {
   "cell_type": "markdown",
   "metadata": {},
   "source": [
    "# Anisotropic NFW profile"
   ]
  },
  {
   "cell_type": "code",
   "execution_count": 2,
   "metadata": {
    "collapsed": true
   },
   "outputs": [],
   "source": [
    "# load a test halo catalog\n",
    "from halotools.sim_manager import CachedHaloCatalog\n",
    "halocat = CachedHaloCatalog(simname='bolshoi', halo_finder='rockstar',\n",
    "                            redshift=0.0, dz_tol=0.001, version_name='halotools_v0p4')"
   ]
  },
  {
   "cell_type": "code",
   "execution_count": 3,
   "metadata": {
    "collapsed": true
   },
   "outputs": [],
   "source": [
    "from halotools.mock_observables import tpcf\n",
    "\n",
    "rbins = np.logspace(-1,1.4,20)\n",
    "rbin_centers = (rbins[:-1]+rbins[1:])/2.0"
   ]
  },
  {
   "cell_type": "code",
   "execution_count": 6,
   "metadata": {
    "collapsed": true
   },
   "outputs": [],
   "source": [
    "coords = np.vstack((halocat.halo_table['halo_x'],\n",
    "                         halocat.halo_table['halo_y'],\n",
    "                         halocat.halo_table['halo_z'])).T\n",
    "\n",
    "mask = halocat.halo_table['halo_mpeak']>10**12"
   ]
  },
  {
   "cell_type": "code",
   "execution_count": 7,
   "metadata": {},
   "outputs": [],
   "source": [
    "result_0 = tpcf(coords[mask], rbins=rbins, period=halocat.Lbox, num_threads=4)"
   ]
  },
  {
   "cell_type": "code",
   "execution_count": 8,
   "metadata": {},
   "outputs": [
    {
     "data": {
      "image/png": "[encoded data removed]",
      "text/plain": [
       "<matplotlib.figure.Figure at 0x1055a2f10>"
      ]
     },
     "metadata": {},
     "output_type": "display_data"
    }
   ],
   "source": [
    "fig = plt.figure(figsize=(3.3,3.3))\n",
    "l1, = plt.plot(rbin_centers, result_0, 'o')\n",
    "plt.xscale('log')\n",
    "plt.yscale('log')\n",
    "plt.xlabel(r'$r~[h^{-1}{\\rm Mpc}]$')\n",
    "plt.ylabel(r'$\\xi$')\n",
    "plt.show()"
   ]
  },
  {
   "cell_type": "markdown",
   "metadata": {},
   "source": [
    "## NFW profile"
   ]
  },
  {
   "cell_type": "code",
   "execution_count": 79,
   "metadata": {
    "collapsed": true
   },
   "outputs": [],
   "source": [
    "from halotools.empirical_models import HodModelFactory\n",
    "from intrinsic_alignments.ia_models.anisotropic_nfw_phase_space import AnisotropicNFWPhaseSpace\n",
    "from halotools.empirical_models import TrivialPhaseSpace, NFWPhaseSpace\n",
    "\n",
    "from halotools.empirical_models import Zheng07Cens, Zheng07Sats"
   ]
  },
  {
   "cell_type": "code",
   "execution_count": 83,
   "metadata": {},
   "outputs": [],
   "source": [
    "cens_occ_model =  MyCentralOccupation(threshold=-20)\n",
    "#cens_occ_model =  Zheng07Cens()\n",
    "cens_prof_model = TrivialPhaseSpace()\n",
    "\n",
    "sats_occ_model =  SubhaloCountSatelliteOccupation(threshold=-20, subhalo_table=halocat.halo_table)\n",
    "#sats_occ_model =  Zheng07Sats()\n",
    "sats_prof_model = AnisotropicNFWPhaseSpace()\n",
    "\n",
    "model_instance = HodModelFactory(centrals_occupation = cens_occ_model,\n",
    "                                 centrals_profile = cens_prof_model,\n",
    "                                 satellites_occupation = sats_occ_model,\n",
    "                                 satellites_profile = sats_prof_model,\n",
    "                                 model_feature_calling_sequence = (\n",
    "                                 'centrals_occupation',\n",
    "                                 'centrals_profile',\n",
    "                                 'satellites_occupation',\n",
    "                                 'satellites_profile')\n",
    "                                )"
   ]
  },
  {
   "cell_type": "code",
   "execution_count": 84,
   "metadata": {},
   "outputs": [
    {
     "ename": "TypeError",
     "evalue": "'numpy.float64' object cannot be interpreted as an index",
     "output_type": "error",
     "traceback": [
      "\u001b[0;31m---------------------------------------------------------------------------\u001b[0m",
      "\u001b[0;31mTypeError\u001b[0m                                 Traceback (most recent call last)",
      "\u001b[0;32m<ipython-input-84-4b5f7335c820>\u001b[0m in \u001b[0;36m<module>\u001b[0;34m()\u001b[0m\n\u001b[0;32m----> 1\u001b[0;31m \u001b[0mmodel_instance\u001b[0m\u001b[0;34m.\u001b[0m\u001b[0mpopulate_mock\u001b[0m\u001b[0;34m(\u001b[0m\u001b[0mhalocat\u001b[0m\u001b[0;34m)\u001b[0m\u001b[0;34m\u001b[0m\u001b[0m\n\u001b[0m\u001b[1;32m      2\u001b[0m \u001b[0;32mprint\u001b[0m\u001b[0;34m(\u001b[0m\u001b[0;34m\"number of galaxies: \"\u001b[0m\u001b[0;34m,\u001b[0m \u001b[0mlen\u001b[0m\u001b[0;34m(\u001b[0m\u001b[0mmodel_instance\u001b[0m\u001b[0;34m.\u001b[0m\u001b[0mmock\u001b[0m\u001b[0;34m.\u001b[0m\u001b[0mgalaxy_table\u001b[0m\u001b[0;34m)\u001b[0m\u001b[0;34m)\u001b[0m\u001b[0;34m\u001b[0m\u001b[0m\n",
      "\u001b[0;32m/Users/duncan/Code/halotools/halotools/empirical_models/factories/hod_model_factory.pyc\u001b[0m in \u001b[0;36mpopulate_mock\u001b[0;34m(self, halocat, **kwargs)\u001b[0m\n\u001b[1;32m   1207\u001b[0m \u001b[0;34m\u001b[0m\u001b[0m\n\u001b[1;32m   1208\u001b[0m         \"\"\"\n\u001b[0;32m-> 1209\u001b[0;31m         \u001b[0mModelFactory\u001b[0m\u001b[0;34m.\u001b[0m\u001b[0mpopulate_mock\u001b[0m\u001b[0;34m(\u001b[0m\u001b[0mself\u001b[0m\u001b[0;34m,\u001b[0m \u001b[0mhalocat\u001b[0m\u001b[0;34m,\u001b[0m \u001b[0;34m**\u001b[0m\u001b[0mkwargs\u001b[0m\u001b[0;34m)\u001b[0m\u001b[0;34m\u001b[0m\u001b[0m\n\u001b[0m\u001b[1;32m   1210\u001b[0m \u001b[0;34m\u001b[0m\u001b[0m\n\u001b[1;32m   1211\u001b[0m \u001b[0;34m\u001b[0m\u001b[0m\n",
      "\u001b[0;32m/Users/duncan/Code/halotools/halotools/empirical_models/factories/model_factory_template.pyc\u001b[0m in \u001b[0;36mpopulate_mock\u001b[0;34m(self, halocat, Num_ptcl_requirement, **kwargs)\u001b[0m\n\u001b[1;32m    234\u001b[0m         \u001b[0mmockpop_keys\u001b[0m \u001b[0;34m=\u001b[0m \u001b[0mset\u001b[0m\u001b[0;34m(\u001b[0m\u001b[0madditional_potential_kwargs\u001b[0m\u001b[0;34m)\u001b[0m \u001b[0;34m&\u001b[0m \u001b[0mset\u001b[0m\u001b[0;34m(\u001b[0m\u001b[0mkwargs\u001b[0m\u001b[0;34m)\u001b[0m\u001b[0;34m\u001b[0m\u001b[0m\n\u001b[1;32m    235\u001b[0m         \u001b[0mmockpop_kwargs\u001b[0m \u001b[0;34m=\u001b[0m \u001b[0;34m{\u001b[0m\u001b[0mkey\u001b[0m\u001b[0;34m:\u001b[0m \u001b[0mkwargs\u001b[0m\u001b[0;34m[\u001b[0m\u001b[0mkey\u001b[0m\u001b[0;34m]\u001b[0m \u001b[0;32mfor\u001b[0m \u001b[0mkey\u001b[0m \u001b[0;32min\u001b[0m \u001b[0mmockpop_keys\u001b[0m\u001b[0;34m}\u001b[0m\u001b[0;34m\u001b[0m\u001b[0m\n\u001b[0;32m--> 236\u001b[0;31m         \u001b[0mself\u001b[0m\u001b[0;34m.\u001b[0m\u001b[0mmock\u001b[0m\u001b[0;34m.\u001b[0m\u001b[0mpopulate\u001b[0m\u001b[0;34m(\u001b[0m\u001b[0;34m**\u001b[0m\u001b[0mmockpop_kwargs\u001b[0m\u001b[0;34m)\u001b[0m\u001b[0;34m\u001b[0m\u001b[0m\n\u001b[0m\u001b[1;32m    237\u001b[0m \u001b[0;34m\u001b[0m\u001b[0m\n\u001b[1;32m    238\u001b[0m     \u001b[0;32mdef\u001b[0m \u001b[0mupdate_param_dict_decorator\u001b[0m\u001b[0;34m(\u001b[0m\u001b[0mself\u001b[0m\u001b[0;34m,\u001b[0m \u001b[0mcomponent_model\u001b[0m\u001b[0;34m,\u001b[0m \u001b[0mfunc_name\u001b[0m\u001b[0;34m)\u001b[0m\u001b[0;34m:\u001b[0m\u001b[0;34m\u001b[0m\u001b[0m\n",
      "\u001b[0;32m/Users/duncan/Code/halotools/halotools/empirical_models/factories/hod_mock_factory.pyc\u001b[0m in \u001b[0;36mpopulate\u001b[0;34m(self, seed, **kwargs)\u001b[0m\n\u001b[1;32m    306\u001b[0m             \u001b[0mself\u001b[0m\u001b[0;34m.\u001b[0m\u001b[0mhalo_table\u001b[0m \u001b[0;34m=\u001b[0m \u001b[0mself\u001b[0m\u001b[0;34m.\u001b[0m\u001b[0m_orig_halo_table\u001b[0m\u001b[0;34m\u001b[0m\u001b[0m\n\u001b[1;32m    307\u001b[0m \u001b[0;34m\u001b[0m\u001b[0m\n\u001b[0;32m--> 308\u001b[0;31m         \u001b[0mself\u001b[0m\u001b[0;34m.\u001b[0m\u001b[0mallocate_memory\u001b[0m\u001b[0;34m(\u001b[0m\u001b[0mseed\u001b[0m\u001b[0;34m=\u001b[0m\u001b[0mseed\u001b[0m\u001b[0;34m)\u001b[0m\u001b[0;34m\u001b[0m\u001b[0m\n\u001b[0m\u001b[1;32m    309\u001b[0m \u001b[0;34m\u001b[0m\u001b[0m\n\u001b[1;32m    310\u001b[0m         \u001b[0;31m# Loop over all gal_types in the model\u001b[0m\u001b[0;34m\u001b[0m\u001b[0;34m\u001b[0m\u001b[0m\n",
      "\u001b[0;32m/Users/duncan/Code/halotools/halotools/empirical_models/factories/hod_mock_factory.pyc\u001b[0m in \u001b[0;36mallocate_memory\u001b[0;34m(self, seed)\u001b[0m\n\u001b[1;32m    459\u001b[0m         \u001b[0;32mfor\u001b[0m \u001b[0mhalocatkey\u001b[0m \u001b[0;32min\u001b[0m \u001b[0mself\u001b[0m\u001b[0;34m.\u001b[0m\u001b[0madditional_haloprops\u001b[0m\u001b[0;34m:\u001b[0m\u001b[0;34m\u001b[0m\u001b[0m\n\u001b[1;32m    460\u001b[0m             self.galaxy_table[halocatkey] = np.zeros(self.Ngals,\n\u001b[0;32m--> 461\u001b[0;31m                 dtype=self.halo_table[halocatkey].dtype)\n\u001b[0m\u001b[1;32m    462\u001b[0m \u001b[0;34m\u001b[0m\u001b[0m\n\u001b[1;32m    463\u001b[0m         \u001b[0;31m# Separately allocate memory for the galaxy profile parameters\u001b[0m\u001b[0;34m\u001b[0m\u001b[0;34m\u001b[0m\u001b[0m\n",
      "\u001b[0;31mTypeError\u001b[0m: 'numpy.float64' object cannot be interpreted as an index"
     ]
    }
   ],
   "source": [
    "model_instance.populate_mock(halocat)\n",
    "print(\"number of galaxies: \", len(model_instance.mock.galaxy_table))"
   ]
  },
  {
   "cell_type": "code",
   "execution_count": null,
   "metadata": {
    "collapsed": true
   },
   "outputs": [],
   "source": [
    "from halotools.empirical_models import OccupationComponent\n",
    "from halotools.utils import crossmatch\n",
    "\n",
    "class SubhaloCountSatelliteOccupation(OccupationComponent):\n",
    "\n",
    "    def __init__(self, threshold, subhalo_table, prim_haloprop_key=model_defaults.prim_haloprop_key, mask_value=10**12):\n",
    "        \"\"\"\n",
    "        \"\"\"\n",
    "        upper_occupation_bound = float(\"inf\")\n",
    "        OccupationComponent.__init__(self,\n",
    "                    gal_type = 'satellites',\n",
    "                    threshold = threshold,\n",
    "                    prim_haloprop_key=prim_haloprop_key,\n",
    "                    upper_occupation_bound = upper_occupation_bound)\n",
    "            \n",
    "        self.mask_key = mask_key\n",
    "        self.subhalo_table = subhalo_table\n",
    "        self.param_dict = ({'satellite_mask_value': mask_value})\n",
    "\n",
    "    def mean_occupation(self, **kwargs):\n",
    "        \"\"\"\n",
    "        \"\"\"   \n",
    "        table = kwargs['table']\n",
    "        subhalo_table = self.subhalo_table\n",
    "            \n",
    "        # apply mask\n",
    "        mask = (subhalo_table[self.mask_key] >= self.param_dict['satellite_mask_value'])\n",
    "        subhalo_table = subhalo_table[mask]\n",
    "                \n",
    "        # count the number of subhaloes in each halo\n",
    "        host_ids, Nsubs = np.unique(self.subhalo_table['halo_hostid'], return_counts=True) \n",
    "            \n",
    "        inds1, inds2 = crossmatch(table['halo_id'], host_ids)\n",
    "        Nsat = np.zeros(len(table))\n",
    "        Nsat[inds1] = Nsubs[inds2] \n",
    "            \n",
    "        return Nsat\n",
    "\n",
    "    def mc_occupation(self, **kwargs):\n",
    "        \"\"\"\n",
    "        \"\"\"\n",
    "        table = kwargs['table']\n",
    "        meanocc = self.mean_occupation(**kwargs)\n",
    "        result = meanocc\n",
    "        table['halo_num_satellites'] = result.astype('int')\n",
    "        \n",
    "        return result\n",
    "\n",
    "from halotools.empirical_models import OccupationComponent\n",
    "\n",
    "class MyCentralOccupation(OccupationComponent):\n",
    "    \"\"\"\n",
    "    \"\"\"\n",
    "    def __init__(self, threshold, prim_haloprop_key=model_defaults.prim_haloprop_key, mask_value=10**12):\n",
    "        \"\"\"\n",
    "        \"\"\"\n",
    "\n",
    "        OccupationComponent.__init__(self,\n",
    "            gal_type = 'centrals',\n",
    "            threshold = threshold,\n",
    "            prim_haloprop_key=prim_haloprop_key,\n",
    "            upper_occupation_bound = 1)\n",
    "        \n",
    "        self.mask_key = mask_key\n",
    "        self.param_dict = ({'central_mask_value': mask_value})\n",
    "\n",
    "    def mean_occupation(self, **kwargs):\n",
    "        \"\"\"\n",
    "        \"\"\"\n",
    "        table = kwargs['table']\n",
    "        return np.zeros(len(table)) + 1\n",
    "    \n",
    "    def mc_occupation(self, **kwargs):\n",
    "        \"\"\"\n",
    "        \"\"\"\n",
    "        table = kwargs['table']\n",
    "        meanocc = self.mean_occupation(**kwargs)\n",
    "        result = meanocc\n",
    "        table['halo_num_centrals'] = result.astype('int')\n",
    "        \n",
    "        return result\n",
    "\n"
   ]
  },
  {
   "cell_type": "code",
   "execution_count": null,
   "metadata": {
    "collapsed": true
   },
   "outputs": [],
   "source": []
  }
 ],
 "metadata": {
  "kernelspec": {
   "display_name": "Python 2",
   "language": "python",
   "name": "python2"
  },
  "language_info": {
   "codemirror_mode": {
    "name": "ipython",
    "version": 2
   },
   "file_extension": ".py",
   "mimetype": "text/x-python",
   "name": "python",
   "nbconvert_exporter": "python",
   "pygments_lexer": "ipython2",
   "version": "2.7.14"
  }
 },
 "nbformat": 4,
 "nbformat_minor": 2
}
